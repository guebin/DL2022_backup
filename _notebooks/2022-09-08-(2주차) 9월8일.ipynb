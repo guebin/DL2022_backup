{
 "cells": [
  {
   "cell_type": "markdown",
   "id": "5c3fa594-399a-4fba-ba73-9288b3b90dfa",
   "metadata": {
    "id": "63af0d24-3cdb-4fb4-b6ef-9642d3a56f88",
    "tags": []
   },
   "source": [
    "# (2주차) 9월8일 \n",
    "> 이미지자료분석 (코드재정리)\n",
    "\n",
    "- toc:true\n",
    "- branch: master\n",
    "- badges: true\n",
    "- comments: true\n",
    "- author: 최규빈"
   ]
  },
  {
   "cell_type": "markdown",
   "id": "3516bd6a-17ee-48c5-bc91-505677d78247",
   "metadata": {},
   "source": [
    "### 강의영상"
   ]
  },
  {
   "cell_type": "markdown",
   "id": "780966e1-ae1b-45a9-8527-93736a60b394",
   "metadata": {},
   "source": [
    "> youtube: https://youtube.com/playlist?list=PLQqh36zP38-zcq1v38u87lMmD47ujarOZ"
   ]
  },
  {
   "cell_type": "markdown",
   "id": "e5d3b153-7e7f-4596-95fd-822d9eaee80a",
   "metadata": {},
   "source": [
    "### imports"
   ]
  },
  {
   "cell_type": "code",
   "execution_count": 1,
   "id": "945a5fd7-a567-4328-a167-b2409db1ee86",
   "metadata": {},
   "outputs": [],
   "source": [
    "import pandas as pd \n",
    "from fastai.vision.all import * \n",
    "from fastai.collab import * "
   ]
  },
  {
   "cell_type": "markdown",
   "id": "99dd7fa0-5ed8-4d83-95a8-6444f80fe03d",
   "metadata": {},
   "source": [
    "### 지난시간 복습"
   ]
  },
  {
   "cell_type": "markdown",
   "id": "4703de51-99f6-4d5c-a110-723fc14a608f",
   "metadata": {},
   "source": [
    "`(1)` 데이터의 정리"
   ]
  },
  {
   "cell_type": "code",
   "execution_count": 17,
   "id": "2dba8b8b-ab64-4009-8531-4d8da4af255d",
   "metadata": {},
   "outputs": [],
   "source": [
    "path = untar_data(URLs.PETS)/'images'"
   ]
  },
  {
   "cell_type": "code",
   "execution_count": 3,
   "id": "a3247d08-0281-4ab0-a02f-95e2815e73d0",
   "metadata": {},
   "outputs": [],
   "source": [
    "fnames = get_image_files(path)"
   ]
  },
  {
   "cell_type": "code",
   "execution_count": 19,
   "id": "2da8e62a-1b86-4384-8256-87a7829286b1",
   "metadata": {},
   "outputs": [],
   "source": [
    "f = lambda fname: 'cat' if fname[0].isupper() else 'dog'"
   ]
  },
  {
   "cell_type": "code",
   "execution_count": 24,
   "id": "652ed3c1-c23b-4b63-b101-c4f72fdffae6",
   "metadata": {},
   "outputs": [],
   "source": [
    "dls = ImageDataLoaders.from_name_func(\n",
    "    path, \n",
    "    fnames,\n",
    "    f, # f대신 (lambda fname: 'cat' if fname[0].isupper() else 'dog') 를 넣어도 가능\n",
    "    item_tfms=Resize(224))"
   ]
  },
  {
   "cell_type": "markdown",
   "id": "cf4c1cbc-2563-444b-8ad2-8a27ad97428e",
   "metadata": {},
   "source": [
    "`(2)` lrnr 오브젝트 생성"
   ]
  },
  {
   "cell_type": "code",
   "execution_count": 22,
   "id": "47ddd086-48ed-4792-b5b1-51b09956d8f6",
   "metadata": {},
   "outputs": [],
   "source": [
    "lrnr = cnn_learner(dls,resnet34,metrics=error_rate)"
   ]
  },
  {
   "cell_type": "markdown",
   "id": "b6389126-cfb6-4957-9fe1-cd0711cff4f6",
   "metadata": {},
   "source": [
    "`(3)` lrnr.학습()"
   ]
  },
  {
   "cell_type": "code",
   "execution_count": 23,
   "id": "7d5d4ca8-3355-4899-9063-7fff67e05ada",
   "metadata": {},
   "outputs": [
    {
     "data": {
      "text/html": [
       "\n",
       "<style>\n",
       "    /* Turns off some styling */\n",
       "    progress {\n",
       "        /* gets rid of default border in Firefox and Opera. */\n",
       "        border: none;\n",
       "        /* Needs to be in here for Safari polyfill so background images work as expected. */\n",
       "        background-size: auto;\n",
       "    }\n",
       "    progress:not([value]), progress:not([value])::-webkit-progress-bar {\n",
       "        background: repeating-linear-gradient(45deg, #7e7e7e, #7e7e7e 10px, #5c5c5c 10px, #5c5c5c 20px);\n",
       "    }\n",
       "    .progress-bar-interrupted, .progress-bar-interrupted::-webkit-progress-bar {\n",
       "        background: #F44336;\n",
       "    }\n",
       "</style>\n"
      ],
      "text/plain": [
       "<IPython.core.display.HTML object>"
      ]
     },
     "metadata": {},
     "output_type": "display_data"
    },
    {
     "data": {
      "text/html": [
       "<table border=\"1\" class=\"dataframe\">\n",
       "  <thead>\n",
       "    <tr style=\"text-align: left;\">\n",
       "      <th>epoch</th>\n",
       "      <th>train_loss</th>\n",
       "      <th>valid_loss</th>\n",
       "      <th>error_rate</th>\n",
       "      <th>time</th>\n",
       "    </tr>\n",
       "  </thead>\n",
       "  <tbody>\n",
       "    <tr>\n",
       "      <td>0</td>\n",
       "      <td>0.152362</td>\n",
       "      <td>0.015960</td>\n",
       "      <td>0.004060</td>\n",
       "      <td>00:08</td>\n",
       "    </tr>\n",
       "  </tbody>\n",
       "</table>"
      ],
      "text/plain": [
       "<IPython.core.display.HTML object>"
      ]
     },
     "metadata": {},
     "output_type": "display_data"
    },
    {
     "data": {
      "text/html": [
       "\n",
       "<style>\n",
       "    /* Turns off some styling */\n",
       "    progress {\n",
       "        /* gets rid of default border in Firefox and Opera. */\n",
       "        border: none;\n",
       "        /* Needs to be in here for Safari polyfill so background images work as expected. */\n",
       "        background-size: auto;\n",
       "    }\n",
       "    progress:not([value]), progress:not([value])::-webkit-progress-bar {\n",
       "        background: repeating-linear-gradient(45deg, #7e7e7e, #7e7e7e 10px, #5c5c5c 10px, #5c5c5c 20px);\n",
       "    }\n",
       "    .progress-bar-interrupted, .progress-bar-interrupted::-webkit-progress-bar {\n",
       "        background: #F44336;\n",
       "    }\n",
       "</style>\n"
      ],
      "text/plain": [
       "<IPython.core.display.HTML object>"
      ]
     },
     "metadata": {},
     "output_type": "display_data"
    },
    {
     "data": {
      "text/html": [
       "<table border=\"1\" class=\"dataframe\">\n",
       "  <thead>\n",
       "    <tr style=\"text-align: left;\">\n",
       "      <th>epoch</th>\n",
       "      <th>train_loss</th>\n",
       "      <th>valid_loss</th>\n",
       "      <th>error_rate</th>\n",
       "      <th>time</th>\n",
       "    </tr>\n",
       "  </thead>\n",
       "  <tbody>\n",
       "    <tr>\n",
       "      <td>0</td>\n",
       "      <td>0.066467</td>\n",
       "      <td>0.028969</td>\n",
       "      <td>0.008119</td>\n",
       "      <td>00:10</td>\n",
       "    </tr>\n",
       "  </tbody>\n",
       "</table>"
      ],
      "text/plain": [
       "<IPython.core.display.HTML object>"
      ]
     },
     "metadata": {},
     "output_type": "display_data"
    }
   ],
   "source": [
    "lrnr.fine_tune(1)"
   ]
  },
  {
   "cell_type": "markdown",
   "id": "4d674c37-dcc1-4ae8-8375-ea689ba00350",
   "metadata": {},
   "source": [
    "- fine_tune()은 모든 가중치를 학습하는 것이 아니라 일부만 학습하는 것임. \n",
    "- fine_tune()이외이 방법으로 학습할 수도 있음."
   ]
  },
  {
   "cell_type": "markdown",
   "id": "21709d1c-a001-4ebc-bb48-2aae746bba6a",
   "metadata": {},
   "source": [
    "`(4)` lrnr.예측()"
   ]
  },
  {
   "cell_type": "markdown",
   "id": "93de8301-7719-42b4-bce8-caa146190eff",
   "metadata": {},
   "source": [
    "(방법1) lrnr.predict() 함수를 이용"
   ]
  },
  {
   "cell_type": "code",
   "execution_count": 25,
   "id": "1b0f771e-3ad8-4c99-be8c-5cc293fa9c93",
   "metadata": {},
   "outputs": [
    {
     "data": {
      "text/html": [
       "\n",
       "<style>\n",
       "    /* Turns off some styling */\n",
       "    progress {\n",
       "        /* gets rid of default border in Firefox and Opera. */\n",
       "        border: none;\n",
       "        /* Needs to be in here for Safari polyfill so background images work as expected. */\n",
       "        background-size: auto;\n",
       "    }\n",
       "    progress:not([value]), progress:not([value])::-webkit-progress-bar {\n",
       "        background: repeating-linear-gradient(45deg, #7e7e7e, #7e7e7e 10px, #5c5c5c 10px, #5c5c5c 20px);\n",
       "    }\n",
       "    .progress-bar-interrupted, .progress-bar-interrupted::-webkit-progress-bar {\n",
       "        background: #F44336;\n",
       "    }\n",
       "</style>\n"
      ],
      "text/plain": [
       "<IPython.core.display.HTML object>"
      ]
     },
     "metadata": {},
     "output_type": "display_data"
    },
    {
     "data": {
      "text/html": [],
      "text/plain": [
       "<IPython.core.display.HTML object>"
      ]
     },
     "metadata": {},
     "output_type": "display_data"
    },
    {
     "data": {
      "text/plain": [
       "('dog', TensorBase(1), TensorBase([0.2726, 0.7274]))"
      ]
     },
     "execution_count": 25,
     "metadata": {},
     "output_type": "execute_result"
    }
   ],
   "source": [
    "lrnr.predict('2022-09-06-hani03.jpg') # 방법1-1\n",
    "#lrnr.predict(PILImage.create('2022-09-06-hani03.jpg')) # 방법1-2\n",
    "#lrnr.predict(path.ls()[0]) # 방법1-3"
   ]
  },
  {
   "cell_type": "markdown",
   "id": "b23d23e9-da17-4b23-a1f7-a5e6d22f0f49",
   "metadata": {},
   "source": [
    "(방법2) lrnr.model(X) 를 이용: X의 shape이 (?,3,224,224)의 형태의 텐서이어야함"
   ]
  },
  {
   "cell_type": "code",
   "execution_count": 26,
   "id": "f041bb80-8ce0-49fb-95b4-eaaf32b867c2",
   "metadata": {},
   "outputs": [
    {
     "data": {
      "text/plain": [
       "TensorBase([[-3.8654,  2.9234]], device='cuda:0', grad_fn=<AliasBackward0>)"
      ]
     },
     "execution_count": 26,
     "metadata": {},
     "output_type": "execute_result"
    }
   ],
   "source": [
    "X,y = dls.one_batch() # 방법2\n",
    "lrnr.model(X[0:1]) "
   ]
  },
  {
   "cell_type": "markdown",
   "id": "62e472d9-a0d1-4a96-8012-745f0bb1b099",
   "metadata": {},
   "source": [
    "### 프로그래밍 과정 overview"
   ]
  },
  {
   "cell_type": "markdown",
   "id": "32d5cf65-0ded-4691-81f0-2f70b710734c",
   "metadata": {},
   "source": [
    "`-` overview \n",
    "\n",
    "(1) `dls` 오브젝트 생성\n",
    "\n",
    "(2) `lrnr` 오브젝트 생성 \n",
    "\n",
    "(3) `lrnr.학습()` \n",
    "\n",
    "(4) `lrnr.예측()`"
   ]
  },
  {
   "cell_type": "markdown",
   "id": "dd6c6308-17c5-44c4-b64a-dcbbfa315119",
   "metadata": {},
   "source": [
    "`-` 비교 "
   ]
  },
  {
   "cell_type": "markdown",
   "id": "e7d651df-9262-4054-9b35-a16b4d5bb3ff",
   "metadata": {},
   "source": [
    "| |회귀분석(R) | 이미지분석(CNN) | 추천시스템 | \n",
    "|:-:|:-:|:-:|:-:|\n",
    "|1단계|data.frame()|ImageDataLoaders.from_name_func()|CollabDataLoaders.from_df()| \n",
    "|2단계|None|cnn_learner()|collab_learner()| \n",
    "|3단계|lm(y~x1+x2,df)|lrnr.fine_tune(1)|lrnr.fit()| \n",
    "|4단계|predict(ob,newdf)|lrnr.predict(), lrnr.model(X)|lrnr.model(X)| "
   ]
  },
  {
   "cell_type": "markdown",
   "id": "0804b3e8-e76c-4ce3-8af0-c8b9894fe88b",
   "metadata": {},
   "source": [
    "### 숙제"
   ]
  },
  {
   "cell_type": "markdown",
   "id": "1673808b-015b-4de2-9d8b-3359e357139e",
   "metadata": {},
   "source": [
    "아래의 함수들이 정의된 위치를 찾아보고 경로를 제출하라. \n",
    "- ImageDataLoaders.from_name_func\n",
    "- cnn_learner\n",
    "- lrnr.fine_tune\n",
    "- lrnr.predict"
   ]
  },
  {
   "cell_type": "markdown",
   "id": "c2561773-d6d4-485a-bb52-5a214053c1a1",
   "metadata": {},
   "source": [
    "단, 여기에서 lrnr는 cnn_learner()로부터 생성된 오브젝트 이다. "
   ]
  },
  {
   "cell_type": "markdown",
   "id": "11310da5-3d60-4045-9159-398d37eb5198",
   "metadata": {},
   "source": [
    "**제출예시**"
   ]
  },
  {
   "cell_type": "markdown",
   "id": "b100d69e-8d1e-40cc-be4f-1d136d0f6e7a",
   "metadata": {},
   "source": [
    "ImageDataLoaders.from_name_func\n",
    "- ~/anaconda3/envs/py37/lib/python3.7/site-packages/fastai/vision/data.py"
   ]
  }
 ],
 "metadata": {
  "kernelspec": {
   "display_name": "Python 3 (ipykernel)",
   "language": "python",
   "name": "python3"
  },
  "language_info": {
   "codemirror_mode": {
    "name": "ipython",
    "version": 3
   },
   "file_extension": ".py",
   "mimetype": "text/x-python",
   "name": "python",
   "nbconvert_exporter": "python",
   "pygments_lexer": "ipython3",
   "version": "3.7.13"
  }
 },
 "nbformat": 4,
 "nbformat_minor": 5
}
