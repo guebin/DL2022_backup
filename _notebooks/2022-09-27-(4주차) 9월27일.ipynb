{
 "cells": [
  {
   "cell_type": "markdown",
   "id": "ff0f21ff-c327-44ee-ae11-2300cd481f2c",
   "metadata": {
    "tags": []
   },
   "source": [
    "# (4주차) 9월27일\n",
    "> 딥러닝의 기초 - 회귀분석(3)-- step 4의 다른표현 (옵티마이저), 로지스틱(1)-- intro \n",
    "\n",
    "- toc:true\n",
    "- branch: master\n",
    "- badges: true\n",
    "- comments: true\n",
    "- author: 최규빈"
   ]
  },
  {
   "cell_type": "markdown",
   "id": "ce72a41a-be73-4f54-b95d-34d6a226188b",
   "metadata": {},
   "source": [
    "## 강의영상 "
   ]
  },
  {
   "cell_type": "markdown",
   "id": "dbda5c52-41ec-4d3c-9f73-d0b8e8a05628",
   "metadata": {},
   "source": [
    "> youtube: https://youtube.com/playlist?list=PLQqh36zP38-zQEazdKzpyl8St3r8F9b8u"
   ]
  },
  {
   "cell_type": "markdown",
   "id": "0b6be4e2-1722-44bd-90ae-ade5484bca76",
   "metadata": {},
   "source": [
    "## Imports"
   ]
  },
  {
   "cell_type": "code",
   "execution_count": 9,
   "id": "f8c29346-1869-4a86-b806-71a7722377bf",
   "metadata": {},
   "outputs": [],
   "source": [
    "import torch\n",
    "import pandas as pd\n",
    "import numpy as np\n",
    "import matplotlib.pyplot as plt "
   ]
  },
  {
   "cell_type": "markdown",
   "id": "099bb477-7548-4205-aa33-7438dedaa67b",
   "metadata": {},
   "source": [
    "## numpy, torch (선택학습)"
   ]
  },
  {
   "cell_type": "markdown",
   "id": "1a7bf3cb-94eb-4721-84af-ecb53bbcff25",
   "metadata": {},
   "source": [
    "### numpy, torch는 엄청 비슷해요 "
   ]
  },
  {
   "cell_type": "markdown",
   "id": "4e82853b-1645-4f01-b6e5-dce0942033db",
   "metadata": {},
   "source": [
    "`-` torch.tensor() = np.array() 처럼 생각해도 무방 "
   ]
  },
  {
   "cell_type": "code",
   "execution_count": 10,
   "id": "902be739-1d8c-4687-8824-d68064fe555c",
   "metadata": {},
   "outputs": [
    {
     "data": {
      "text/plain": [
       "(array([1, 2, 3]), tensor([1, 2, 3]))"
      ]
     },
     "execution_count": 10,
     "metadata": {},
     "output_type": "execute_result"
    }
   ],
   "source": [
    "np.array([1,2,3]), torch.tensor([1,2,3])"
   ]
  },
  {
   "cell_type": "markdown",
   "id": "48d84e82-343c-474f-b050-810e248461b4",
   "metadata": {},
   "source": [
    "`-` 소수점의 정밀도에서 차이가 있음 (torch가 좀 더 쪼잔함) "
   ]
  },
  {
   "cell_type": "code",
   "execution_count": 11,
   "id": "7a12de48-ab20-4481-879d-72d676802827",
   "metadata": {},
   "outputs": [
    {
     "data": {
      "text/plain": [
       "array([3.12345679])"
      ]
     },
     "execution_count": 11,
     "metadata": {},
     "output_type": "execute_result"
    }
   ],
   "source": [
    "np.array([3.123456789])"
   ]
  },
  {
   "cell_type": "code",
   "execution_count": 12,
   "id": "1b81f973-d3b2-4c08-961f-5d58b9b50566",
   "metadata": {},
   "outputs": [
    {
     "data": {
      "text/plain": [
       "tensor([3.1235])"
      ]
     },
     "execution_count": 12,
     "metadata": {},
     "output_type": "execute_result"
    }
   ],
   "source": [
    "torch.tensor([3.123456789])"
   ]
  },
  {
   "cell_type": "markdown",
   "id": "375e5f8b-051b-4d10-be09-c7dd26372b13",
   "metadata": {},
   "source": [
    "`-` 기본적인 numpy 문법은 np 대신에 torch를 써도 무방 // 완전 같지는 않음 "
   ]
  },
  {
   "cell_type": "code",
   "execution_count": 13,
   "id": "94ef0d96-8b9f-427c-baee-7a6f384c8db8",
   "metadata": {},
   "outputs": [
    {
     "data": {
      "text/plain": [
       "(array([0, 1, 2, 3, 4, 5, 6, 7, 8, 9]), tensor([0, 1, 2, 3, 4, 5, 6, 7, 8, 9]))"
      ]
     },
     "execution_count": 13,
     "metadata": {},
     "output_type": "execute_result"
    }
   ],
   "source": [
    "np.arange(10), torch.arange(10)"
   ]
  },
  {
   "cell_type": "code",
   "execution_count": 14,
   "id": "87bc3f66-cfe8-4faa-8c8a-4219a8886c5d",
   "metadata": {},
   "outputs": [
    {
     "data": {
      "text/plain": [
       "(array([0.        , 0.11111111, 0.22222222, 0.33333333, 0.44444444,\n",
       "        0.55555556, 0.66666667, 0.77777778, 0.88888889, 1.        ]),\n",
       " tensor([0.0000, 0.1111, 0.2222, 0.3333, 0.4444, 0.5556, 0.6667, 0.7778, 0.8889,\n",
       "         1.0000]))"
      ]
     },
     "execution_count": 14,
     "metadata": {},
     "output_type": "execute_result"
    }
   ],
   "source": [
    "np.linspace(0,1,10), torch.linspace(0,1,10)"
   ]
  },
  {
   "cell_type": "code",
   "execution_count": 15,
   "id": "780c2a69-23b4-4b19-ab7f-475cd887ea19",
   "metadata": {},
   "outputs": [
    {
     "data": {
      "text/plain": [
       "array([-0.36178915, -0.07674959,  0.30418196,  0.92197998,  2.17699807,\n",
       "       -0.67051237,  0.64369007,  1.16643216,  0.49921069, -1.53722202])"
      ]
     },
     "execution_count": 15,
     "metadata": {},
     "output_type": "execute_result"
    }
   ],
   "source": [
    "np.random.randn(10)"
   ]
  },
  {
   "cell_type": "code",
   "execution_count": 16,
   "id": "215321fe-1688-4520-aabf-f22c20e74c64",
   "metadata": {},
   "outputs": [
    {
     "data": {
      "text/plain": [
       "tensor([-0.2795,  0.0139,  0.9181,  1.8570, -0.4213,  0.0173, -1.1933,  0.4933,\n",
       "         0.2827, -0.8889])"
      ]
     },
     "execution_count": 16,
     "metadata": {},
     "output_type": "execute_result"
    }
   ],
   "source": [
    "torch.randn(10)"
   ]
  },
  {
   "cell_type": "markdown",
   "id": "b083e36d-78bc-42bf-8b67-a8dbc9176087",
   "metadata": {},
   "source": [
    "### length $n$ vector, $n \\times 1$ col-vector, $1 \\times n$ row-vector "
   ]
  },
  {
   "cell_type": "markdown",
   "id": "8586bb1e-658b-4dbe-a1c4-3af1e77603e2",
   "metadata": {},
   "source": [
    "`-` 길이가 3인 벡터 선언방법 "
   ]
  },
  {
   "cell_type": "code",
   "execution_count": 17,
   "id": "71f267fa-257f-4f74-9b8a-353d2eb4e3cc",
   "metadata": {},
   "outputs": [
    {
     "data": {
      "text/plain": [
       "torch.Size([3])"
      ]
     },
     "execution_count": 17,
     "metadata": {},
     "output_type": "execute_result"
    }
   ],
   "source": [
    "a = torch.tensor([1,2,3])\n",
    "a.shape"
   ]
  },
  {
   "cell_type": "markdown",
   "id": "28e6c95a-1ea8-4d2d-b850-17b434afe4bb",
   "metadata": {},
   "source": [
    "`-` 3x1 col-vec 선언방법 "
   ]
  },
  {
   "cell_type": "markdown",
   "id": "b8c48ad6-3f48-4493-905b-3c7c9a0a58f1",
   "metadata": {},
   "source": [
    "(방법1)"
   ]
  },
  {
   "cell_type": "code",
   "execution_count": 18,
   "id": "3e2e1495-312a-4c14-bc46-1273f0b2092c",
   "metadata": {},
   "outputs": [
    {
     "data": {
      "text/plain": [
       "torch.Size([3, 1])"
      ]
     },
     "execution_count": 18,
     "metadata": {},
     "output_type": "execute_result"
    }
   ],
   "source": [
    "a = torch.tensor([[1],[2],[3]])\n",
    "a.shape"
   ]
  },
  {
   "cell_type": "markdown",
   "id": "3ce81d53-8956-49cc-9694-7fc05eac3a5e",
   "metadata": {},
   "source": [
    "(방법2)"
   ]
  },
  {
   "cell_type": "code",
   "execution_count": 19,
   "id": "9205d9a6-2992-4ee2-a412-131d68fbaf99",
   "metadata": {},
   "outputs": [
    {
     "data": {
      "text/plain": [
       "torch.Size([3, 1])"
      ]
     },
     "execution_count": 19,
     "metadata": {},
     "output_type": "execute_result"
    }
   ],
   "source": [
    "a = torch.tensor([1,2,3]).reshape(3,1)\n",
    "a.shape"
   ]
  },
  {
   "cell_type": "markdown",
   "id": "3807e293-7f4b-4390-ab5f-932a9d382165",
   "metadata": {},
   "source": [
    "`-` 1x3 row-vec 선언방법 "
   ]
  },
  {
   "cell_type": "markdown",
   "id": "989590c4-cc56-4be9-b2a2-b5cc6631e719",
   "metadata": {},
   "source": [
    "(방법1)"
   ]
  },
  {
   "cell_type": "code",
   "execution_count": 20,
   "id": "4440ebb5-ed60-4e9d-ae82-243f0e689191",
   "metadata": {},
   "outputs": [
    {
     "data": {
      "text/plain": [
       "torch.Size([1, 3])"
      ]
     },
     "execution_count": 20,
     "metadata": {},
     "output_type": "execute_result"
    }
   ],
   "source": [
    "a = torch.tensor([[1,2,3]])\n",
    "a.shape"
   ]
  },
  {
   "cell_type": "markdown",
   "id": "ba617aae-89bd-414d-9dda-a59f9c3726cf",
   "metadata": {},
   "source": [
    "(방법2)"
   ]
  },
  {
   "cell_type": "code",
   "execution_count": 21,
   "id": "aada1dc6-1aa0-4703-ad7a-9619e1b8512b",
   "metadata": {},
   "outputs": [
    {
     "data": {
      "text/plain": [
       "torch.Size([1, 3])"
      ]
     },
     "execution_count": 21,
     "metadata": {},
     "output_type": "execute_result"
    }
   ],
   "source": [
    "a = torch.tensor([1,2,3]).reshape(1,3)\n",
    "a.shape"
   ]
  },
  {
   "cell_type": "markdown",
   "id": "ad57f12f-aae6-442a-b296-aab4ffc28095",
   "metadata": {},
   "source": [
    "`-` 3x1 col-vec 선언방법, 1x3 row-vec 선언방법에서 `[[1],[2],[3]]` 혹은 `[[1,2,3]]` 와 같은 표현이 이해안되면 아래링크로 가셔서 \n",
    "\n",
    "https://guebin.github.io/STBDA2022/2022/03/14/(2주차)-3월14일.html\n",
    "\n",
    "첫번째 동영상 12:15 - 22:45 에 해당하는 분량을 학습하시길 바랍니다. "
   ]
  },
  {
   "cell_type": "markdown",
   "id": "c90d9715-c1f8-4c1f-9017-74f0d7089a09",
   "metadata": {},
   "source": [
    "### torch의 dtype"
   ]
  },
  {
   "cell_type": "markdown",
   "id": "c88973d3-3405-4527-a8bb-cee07d729833",
   "metadata": {},
   "source": [
    "`-` 기본적으로 torch는 소수점으로 저장되면 dtype=torch.float32 가 된다. (이걸로 맞추는게 편리함) "
   ]
  },
  {
   "cell_type": "code",
   "execution_count": 22,
   "id": "2d483ca4-f055-4741-8db1-6ae2b1f8ebba",
   "metadata": {},
   "outputs": [
    {
     "data": {
      "text/plain": [
       "tensor([1.2300, 2.3400])"
      ]
     },
     "execution_count": 22,
     "metadata": {},
     "output_type": "execute_result"
    }
   ],
   "source": [
    "tsr = torch.tensor([1.23,2.34])\n",
    "tsr"
   ]
  },
  {
   "cell_type": "code",
   "execution_count": 23,
   "id": "b7b3e3d4-7467-4d0c-b149-96da3b5cca61",
   "metadata": {},
   "outputs": [
    {
     "data": {
      "text/plain": [
       "torch.float32"
      ]
     },
     "execution_count": 23,
     "metadata": {},
     "output_type": "execute_result"
    }
   ],
   "source": [
    "tsr.dtype"
   ]
  },
  {
   "cell_type": "markdown",
   "id": "bbad1bbd-2dcf-412d-8e85-231a7684b163",
   "metadata": {},
   "source": [
    "`-` 정수로 선언하더라도 dtype를 torch.float32로 바꾸는게 유리함 "
   ]
  },
  {
   "cell_type": "markdown",
   "id": "e265e8f2-bc41-4ebb-899b-211f02316d90",
   "metadata": {},
   "source": [
    "(안 좋은 선언예시) "
   ]
  },
  {
   "cell_type": "code",
   "execution_count": 24,
   "id": "82194eb2-3a48-45de-91fb-24593d71dee1",
   "metadata": {},
   "outputs": [
    {
     "data": {
      "text/plain": [
       "tensor([1, 2])"
      ]
     },
     "execution_count": 24,
     "metadata": {},
     "output_type": "execute_result"
    }
   ],
   "source": [
    "tsr = torch.tensor([1,2])\n",
    "tsr "
   ]
  },
  {
   "cell_type": "code",
   "execution_count": 25,
   "id": "d73410a5-97da-4584-a781-6c267dccba51",
   "metadata": {},
   "outputs": [
    {
     "data": {
      "text/plain": [
       "torch.int64"
      ]
     },
     "execution_count": 25,
     "metadata": {},
     "output_type": "execute_result"
    }
   ],
   "source": [
    "tsr.dtype"
   ]
  },
  {
   "cell_type": "markdown",
   "id": "6b4dc741-e9b6-4af4-9d26-983149fdfc1b",
   "metadata": {},
   "source": [
    "(좋은 선언예시1) "
   ]
  },
  {
   "cell_type": "code",
   "execution_count": 26,
   "id": "69bd60a9-9cb7-44a4-b791-07569aca5764",
   "metadata": {},
   "outputs": [
    {
     "data": {
      "text/plain": [
       "tensor([1., 2.])"
      ]
     },
     "execution_count": 26,
     "metadata": {},
     "output_type": "execute_result"
    }
   ],
   "source": [
    "tsr = torch.tensor([1,2],dtype=torch.float32)\n",
    "tsr "
   ]
  },
  {
   "cell_type": "code",
   "execution_count": 27,
   "id": "2cd9a0e7-7019-4a5f-b3e6-96f9e472e6ab",
   "metadata": {},
   "outputs": [
    {
     "data": {
      "text/plain": [
       "torch.float32"
      ]
     },
     "execution_count": 27,
     "metadata": {},
     "output_type": "execute_result"
    }
   ],
   "source": [
    "tsr.dtype"
   ]
  },
  {
   "cell_type": "markdown",
   "id": "06405a59-638e-4327-8e7b-8633c6e1701f",
   "metadata": {},
   "source": [
    "(좋은 선언예시2) "
   ]
  },
  {
   "cell_type": "code",
   "execution_count": 28,
   "id": "283d45e3-d979-4280-afc9-cffe4d8e25f3",
   "metadata": {},
   "outputs": [
    {
     "data": {
      "text/plain": [
       "tensor([1., 2.])"
      ]
     },
     "execution_count": 28,
     "metadata": {},
     "output_type": "execute_result"
    }
   ],
   "source": [
    "tsr = torch.tensor([1,2.0])\n",
    "tsr "
   ]
  },
  {
   "cell_type": "code",
   "execution_count": 29,
   "id": "7f17f30e-5680-4a6d-b343-79d0851ea157",
   "metadata": {},
   "outputs": [
    {
     "data": {
      "text/plain": [
       "torch.float32"
      ]
     },
     "execution_count": 29,
     "metadata": {},
     "output_type": "execute_result"
    }
   ],
   "source": [
    "tsr.dtype"
   ]
  },
  {
   "cell_type": "markdown",
   "id": "90dd21ee-d58c-46e7-a354-bfebfb89f579",
   "metadata": {},
   "source": [
    "(사실 int로 선언해도 나중에 float으로 바꾸면 큰 문제없음) "
   ]
  },
  {
   "cell_type": "code",
   "execution_count": 30,
   "id": "acb35d65-2304-4984-8555-7128ce85e15f",
   "metadata": {},
   "outputs": [
    {
     "data": {
      "text/plain": [
       "tensor([1., 2.])"
      ]
     },
     "execution_count": 30,
     "metadata": {},
     "output_type": "execute_result"
    }
   ],
   "source": [
    "tsr = torch.tensor([1,2]).float()\n",
    "tsr"
   ]
  },
  {
   "cell_type": "code",
   "execution_count": 31,
   "id": "e6dfe0e8-9b98-4fb3-aabe-42ebb638d6e4",
   "metadata": {},
   "outputs": [
    {
     "data": {
      "text/plain": [
       "torch.float32"
      ]
     },
     "execution_count": 31,
     "metadata": {},
     "output_type": "execute_result"
    }
   ],
   "source": [
    "tsr.dtype"
   ]
  },
  {
   "cell_type": "markdown",
   "id": "2d78f0b2-d045-432b-b7f5-15a4610a35b8",
   "metadata": {},
   "source": [
    "`-` 왜 정수만으로 torch.tensor를 만들때에도 torch.float32로 바꾸는게 유리할까? $\\to$ torch.tensor끼리의 연산에서 문제가 될 수 있음 "
   ]
  },
  {
   "cell_type": "markdown",
   "id": "8db0f55c-fd2a-41b8-8de3-d9bfeabd497c",
   "metadata": {},
   "source": [
    "별 문제 없을수도 있지만 "
   ]
  },
  {
   "cell_type": "code",
   "execution_count": 32,
   "id": "431754ba-4c0b-4467-834b-6ee9a5dc843e",
   "metadata": {},
   "outputs": [
    {
     "data": {
      "text/plain": [
       "tensor([0., 0.])"
      ]
     },
     "execution_count": 32,
     "metadata": {},
     "output_type": "execute_result"
    }
   ],
   "source": [
    "torch.tensor([1,2])-torch.tensor([1.0,2.0]) "
   ]
  },
  {
   "cell_type": "markdown",
   "id": "0831d276-bb75-4ed2-90ed-9de1d90e53eb",
   "metadata": {},
   "source": [
    "아래와 같이 에러가 날수도 있다 "
   ]
  },
  {
   "cell_type": "markdown",
   "id": "02eec183-f880-44cb-942e-f5c6670b3358",
   "metadata": {},
   "source": [
    "(에러1)"
   ]
  },
  {
   "cell_type": "code",
   "execution_count": 33,
   "id": "14085d42-e2c0-4474-b830-b2cfc1f174b0",
   "metadata": {},
   "outputs": [
    {
     "ename": "RuntimeError",
     "evalue": "expected scalar type Float but found Long",
     "output_type": "error",
     "traceback": [
      "\u001b[0;31m---------------------------------------------------------------------------\u001b[0m",
      "\u001b[0;31mRuntimeError\u001b[0m                              Traceback (most recent call last)",
      "\u001b[0;32m/tmp/ipykernel_1052332/281683190.py\u001b[0m in \u001b[0;36m<module>\u001b[0;34m\u001b[0m\n\u001b[0;32m----> 1\u001b[0;31m \u001b[0mtorch\u001b[0m\u001b[0;34m.\u001b[0m\u001b[0mtensor\u001b[0m\u001b[0;34m(\u001b[0m\u001b[0;34m[\u001b[0m\u001b[0;34m[\u001b[0m\u001b[0;36m1.0\u001b[0m\u001b[0;34m,\u001b[0m\u001b[0;36m0.0\u001b[0m\u001b[0;34m]\u001b[0m\u001b[0;34m,\u001b[0m\u001b[0;34m[\u001b[0m\u001b[0;36m0.0\u001b[0m\u001b[0;34m,\u001b[0m\u001b[0;36m1.0\u001b[0m\u001b[0;34m]\u001b[0m\u001b[0;34m]\u001b[0m\u001b[0;34m)\u001b[0m \u001b[0;34m@\u001b[0m \u001b[0mtorch\u001b[0m\u001b[0;34m.\u001b[0m\u001b[0mtensor\u001b[0m\u001b[0;34m(\u001b[0m\u001b[0;34m[\u001b[0m\u001b[0;34m[\u001b[0m\u001b[0;36m1\u001b[0m\u001b[0;34m]\u001b[0m\u001b[0;34m,\u001b[0m\u001b[0;34m[\u001b[0m\u001b[0;36m2\u001b[0m\u001b[0;34m]\u001b[0m\u001b[0;34m]\u001b[0m\u001b[0;34m)\u001b[0m\u001b[0;34m\u001b[0m\u001b[0;34m\u001b[0m\u001b[0m\n\u001b[0m",
      "\u001b[0;31mRuntimeError\u001b[0m: expected scalar type Float but found Long"
     ]
    }
   ],
   "source": [
    "torch.tensor([[1.0,0.0],[0.0,1.0]]) @ torch.tensor([[1],[2]]) "
   ]
  },
  {
   "cell_type": "markdown",
   "id": "a2ca9e09-37f6-4b57-b2f2-6070d74360bd",
   "metadata": {},
   "source": [
    "(에러2)"
   ]
  },
  {
   "cell_type": "code",
   "execution_count": 34,
   "id": "eeaa2863-2804-4ac3-855e-3d1e35035eb8",
   "metadata": {},
   "outputs": [
    {
     "ename": "RuntimeError",
     "evalue": "expected scalar type Long but found Float",
     "output_type": "error",
     "traceback": [
      "\u001b[0;31m---------------------------------------------------------------------------\u001b[0m",
      "\u001b[0;31mRuntimeError\u001b[0m                              Traceback (most recent call last)",
      "\u001b[0;32m/tmp/ipykernel_1052332/837094206.py\u001b[0m in \u001b[0;36m<module>\u001b[0;34m\u001b[0m\n\u001b[0;32m----> 1\u001b[0;31m \u001b[0mtorch\u001b[0m\u001b[0;34m.\u001b[0m\u001b[0mtensor\u001b[0m\u001b[0;34m(\u001b[0m\u001b[0;34m[\u001b[0m\u001b[0;34m[\u001b[0m\u001b[0;36m1\u001b[0m\u001b[0;34m,\u001b[0m\u001b[0;36m0\u001b[0m\u001b[0;34m]\u001b[0m\u001b[0;34m,\u001b[0m\u001b[0;34m[\u001b[0m\u001b[0;36m0\u001b[0m\u001b[0;34m,\u001b[0m\u001b[0;36m1\u001b[0m\u001b[0;34m]\u001b[0m\u001b[0;34m]\u001b[0m\u001b[0;34m)\u001b[0m \u001b[0;34m@\u001b[0m \u001b[0mtorch\u001b[0m\u001b[0;34m.\u001b[0m\u001b[0mtensor\u001b[0m\u001b[0;34m(\u001b[0m\u001b[0;34m[\u001b[0m\u001b[0;34m[\u001b[0m\u001b[0;36m1.0\u001b[0m\u001b[0;34m]\u001b[0m\u001b[0;34m,\u001b[0m\u001b[0;34m[\u001b[0m\u001b[0;36m2.0\u001b[0m\u001b[0;34m]\u001b[0m\u001b[0;34m]\u001b[0m\u001b[0;34m)\u001b[0m\u001b[0;34m\u001b[0m\u001b[0;34m\u001b[0m\u001b[0m\n\u001b[0m",
      "\u001b[0;31mRuntimeError\u001b[0m: expected scalar type Long but found Float"
     ]
    }
   ],
   "source": [
    "torch.tensor([[1,0],[0,1]]) @ torch.tensor([[1.0],[2.0]])"
   ]
  },
  {
   "cell_type": "markdown",
   "id": "3900dfb3-1c1c-4c87-84cf-13c3d9aa54df",
   "metadata": {},
   "source": [
    "(해결1) 둘다 정수로 통일 "
   ]
  },
  {
   "cell_type": "code",
   "execution_count": 35,
   "id": "7625b0a0-2592-4436-840c-b376a13c4a38",
   "metadata": {},
   "outputs": [
    {
     "data": {
      "text/plain": [
       "tensor([[1],\n",
       "        [2]])"
      ]
     },
     "execution_count": 35,
     "metadata": {},
     "output_type": "execute_result"
    }
   ],
   "source": [
    "torch.tensor([[1,0],[0,1]]) @ torch.tensor([[1],[2]])"
   ]
  },
  {
   "cell_type": "markdown",
   "id": "a997d526-83d9-460a-984e-cfed4dfa19a7",
   "metadata": {},
   "source": [
    "(해결2) 둘다 소수로 통일 <-- 더 좋은 방법임"
   ]
  },
  {
   "cell_type": "code",
   "execution_count": 36,
   "id": "60298386-a910-40aa-b1d0-7cf18b1bc997",
   "metadata": {},
   "outputs": [
    {
     "data": {
      "text/plain": [
       "tensor([[1.],\n",
       "        [2.]])"
      ]
     },
     "execution_count": 36,
     "metadata": {},
     "output_type": "execute_result"
    }
   ],
   "source": [
    "torch.tensor([[1.0,0.0],[0.0,1.0]]) @ torch.tensor([[1.0],[2.0]])"
   ]
  },
  {
   "cell_type": "markdown",
   "id": "69a25057-360f-47dc-897c-93868fff8122",
   "metadata": {},
   "source": [
    "### shape of vector"
   ]
  },
  {
   "cell_type": "markdown",
   "id": "6bf2dead-3353-4a13-8b86-a4d58e67aa18",
   "metadata": {},
   "source": [
    "`-` 행렬곱셈에 대한 shape 조심"
   ]
  },
  {
   "cell_type": "code",
   "execution_count": 37,
   "id": "f7b7dd90-5dba-48c2-a303-0fb0609c2a37",
   "metadata": {},
   "outputs": [],
   "source": [
    "A = torch.tensor([[2.00,0.00],[0.00,3.00]]) \n",
    "b1 = torch.tensor([[-1.0,-5.0]])\n",
    "b2 = torch.tensor([[-1.0],[-5.0]])\n",
    "b3 = torch.tensor([-1.0,-5.0])"
   ]
  },
  {
   "cell_type": "code",
   "execution_count": 38,
   "id": "e92dc52a-b598-4517-9b48-7e03c2c92024",
   "metadata": {},
   "outputs": [
    {
     "data": {
      "text/plain": [
       "(torch.Size([2, 2]), torch.Size([1, 2]), torch.Size([2, 1]), torch.Size([2]))"
      ]
     },
     "execution_count": 38,
     "metadata": {},
     "output_type": "execute_result"
    }
   ],
   "source": [
    "A.shape,b1.shape,b2.shape,b3.shape"
   ]
  },
  {
   "cell_type": "markdown",
   "id": "2e13ddfa-a6ec-4e97-bdac-b1a5cfde458a",
   "metadata": {},
   "source": [
    "`-` A@b1: 계산불가, b1@A: 계산가능"
   ]
  },
  {
   "cell_type": "code",
   "execution_count": 39,
   "id": "9e2f7608-d0ef-4747-88d7-4d120bdf3dc5",
   "metadata": {},
   "outputs": [
    {
     "ename": "RuntimeError",
     "evalue": "mat1 and mat2 shapes cannot be multiplied (2x2 and 1x2)",
     "output_type": "error",
     "traceback": [
      "\u001b[0;31m---------------------------------------------------------------------------\u001b[0m",
      "\u001b[0;31mRuntimeError\u001b[0m                              Traceback (most recent call last)",
      "\u001b[0;32m/tmp/ipykernel_1052332/615827064.py\u001b[0m in \u001b[0;36m<module>\u001b[0;34m\u001b[0m\n\u001b[0;32m----> 1\u001b[0;31m \u001b[0mA\u001b[0m\u001b[0;34m@\u001b[0m\u001b[0mb1\u001b[0m\u001b[0;34m\u001b[0m\u001b[0;34m\u001b[0m\u001b[0m\n\u001b[0m",
      "\u001b[0;31mRuntimeError\u001b[0m: mat1 and mat2 shapes cannot be multiplied (2x2 and 1x2)"
     ]
    }
   ],
   "source": [
    "A@b1"
   ]
  },
  {
   "cell_type": "code",
   "execution_count": 40,
   "id": "b23135a2-bd48-42f9-bd24-3bea0619d552",
   "metadata": {},
   "outputs": [
    {
     "data": {
      "text/plain": [
       "tensor([[ -2., -15.]])"
      ]
     },
     "execution_count": 40,
     "metadata": {},
     "output_type": "execute_result"
    }
   ],
   "source": [
    "b1@A"
   ]
  },
  {
   "cell_type": "markdown",
   "id": "6ec74280-42e3-4af7-baba-2407f0390a29",
   "metadata": {},
   "source": [
    "`-` A@b2: 계산가능, b2@A: 계산불가 "
   ]
  },
  {
   "cell_type": "code",
   "execution_count": 41,
   "id": "3ebdce04-f9bc-45e4-a2b0-e62e1ec3ae50",
   "metadata": {},
   "outputs": [
    {
     "data": {
      "text/plain": [
       "tensor([[ -2.],\n",
       "        [-15.]])"
      ]
     },
     "execution_count": 41,
     "metadata": {},
     "output_type": "execute_result"
    }
   ],
   "source": [
    "A@b2"
   ]
  },
  {
   "cell_type": "code",
   "execution_count": 42,
   "id": "8e356e9b-0097-4e3c-8414-86670b0f162a",
   "metadata": {},
   "outputs": [
    {
     "ename": "RuntimeError",
     "evalue": "mat1 and mat2 shapes cannot be multiplied (2x1 and 2x2)",
     "output_type": "error",
     "traceback": [
      "\u001b[0;31m---------------------------------------------------------------------------\u001b[0m",
      "\u001b[0;31mRuntimeError\u001b[0m                              Traceback (most recent call last)",
      "\u001b[0;32m/tmp/ipykernel_1052332/926932629.py\u001b[0m in \u001b[0;36m<module>\u001b[0;34m\u001b[0m\n\u001b[0;32m----> 1\u001b[0;31m \u001b[0mb2\u001b[0m\u001b[0;34m@\u001b[0m\u001b[0mA\u001b[0m\u001b[0;34m\u001b[0m\u001b[0;34m\u001b[0m\u001b[0m\n\u001b[0m",
      "\u001b[0;31mRuntimeError\u001b[0m: mat1 and mat2 shapes cannot be multiplied (2x1 and 2x2)"
     ]
    }
   ],
   "source": [
    "b2@A"
   ]
  },
  {
   "cell_type": "markdown",
   "id": "496774ed-7d15-4821-b047-4aa7b4e8f7e9",
   "metadata": {},
   "source": [
    "`-` A@b3: 계산가능, b3@A: 계산가능 "
   ]
  },
  {
   "cell_type": "code",
   "execution_count": 43,
   "id": "11baf788-03f3-4a86-81c1-13d35b85b26e",
   "metadata": {},
   "outputs": [
    {
     "data": {
      "text/plain": [
       "torch.Size([2])"
      ]
     },
     "execution_count": 43,
     "metadata": {},
     "output_type": "execute_result"
    }
   ],
   "source": [
    "(A@b3).shape ## b3를 마치 col-vec 처럼 해석"
   ]
  },
  {
   "cell_type": "code",
   "execution_count": 44,
   "id": "d1284963-c62b-46d6-ba4e-ac6a8d18db9f",
   "metadata": {},
   "outputs": [
    {
     "data": {
      "text/plain": [
       "torch.Size([2])"
      ]
     },
     "execution_count": 44,
     "metadata": {},
     "output_type": "execute_result"
    }
   ],
   "source": [
    "(b3@A).shape ## b3를 마지 row-vec 처럼 해석"
   ]
  },
  {
   "cell_type": "markdown",
   "id": "4f3d3c93-6e3c-4405-a715-f0b5236a1c7a",
   "metadata": {},
   "source": [
    "`-` 브로드캐스팅 "
   ]
  },
  {
   "cell_type": "code",
   "execution_count": 45,
   "id": "88aa9ddb-da11-4cc1-b52c-12771887dcc5",
   "metadata": {},
   "outputs": [
    {
     "data": {
      "text/plain": [
       "tensor([0, 1, 2])"
      ]
     },
     "execution_count": 45,
     "metadata": {},
     "output_type": "execute_result"
    }
   ],
   "source": [
    "a = torch.tensor([1,2,3])\n",
    "a - 1"
   ]
  },
  {
   "cell_type": "code",
   "execution_count": 46,
   "id": "ae79fdd7-02ee-4b05-ae20-cd096a26937d",
   "metadata": {},
   "outputs": [
    {
     "data": {
      "text/plain": [
       "tensor([[0],\n",
       "        [1],\n",
       "        [2]])"
      ]
     },
     "execution_count": 46,
     "metadata": {},
     "output_type": "execute_result"
    }
   ],
   "source": [
    "b = torch.tensor([[1],[2],[3]])\n",
    "b - 1"
   ]
  },
  {
   "cell_type": "code",
   "execution_count": 47,
   "id": "2a7d273e-cb14-4c33-93ae-27e060019fa4",
   "metadata": {},
   "outputs": [
    {
     "data": {
      "text/plain": [
       "tensor([[ 0,  1,  2],\n",
       "        [-1,  0,  1],\n",
       "        [-2, -1,  0]])"
      ]
     },
     "execution_count": 47,
     "metadata": {},
     "output_type": "execute_result"
    }
   ],
   "source": [
    "a - b # a를 row-vec 로 해석"
   ]
  },
  {
   "cell_type": "markdown",
   "id": "d39e95a9-7a71-46a8-942f-547b967e5769",
   "metadata": {},
   "source": [
    "## step1의 다른버전 (복습 + $\\alpha$)"
   ]
  },
  {
   "cell_type": "markdown",
   "id": "a8914c4b-c17e-407f-a424-40b20cfd9724",
   "metadata": {},
   "source": [
    "### read data"
   ]
  },
  {
   "cell_type": "code",
   "execution_count": 48,
   "id": "cc51130e-a17e-40ee-9c60-c5d6e02f8025",
   "metadata": {},
   "outputs": [
    {
     "data": {
      "text/html": [
       "<div>\n",
       "<style scoped>\n",
       "    .dataframe tbody tr th:only-of-type {\n",
       "        vertical-align: middle;\n",
       "    }\n",
       "\n",
       "    .dataframe tbody tr th {\n",
       "        vertical-align: top;\n",
       "    }\n",
       "\n",
       "    .dataframe thead th {\n",
       "        text-align: right;\n",
       "    }\n",
       "</style>\n",
       "<table border=\"1\" class=\"dataframe\">\n",
       "  <thead>\n",
       "    <tr style=\"text-align: right;\">\n",
       "      <th></th>\n",
       "      <th>x</th>\n",
       "      <th>y</th>\n",
       "    </tr>\n",
       "  </thead>\n",
       "  <tbody>\n",
       "    <tr>\n",
       "      <th>0</th>\n",
       "      <td>-2.482113</td>\n",
       "      <td>-8.542024</td>\n",
       "    </tr>\n",
       "    <tr>\n",
       "      <th>1</th>\n",
       "      <td>-2.362146</td>\n",
       "      <td>-6.576713</td>\n",
       "    </tr>\n",
       "    <tr>\n",
       "      <th>2</th>\n",
       "      <td>-1.997295</td>\n",
       "      <td>-5.949576</td>\n",
       "    </tr>\n",
       "    <tr>\n",
       "      <th>3</th>\n",
       "      <td>-1.623936</td>\n",
       "      <td>-4.479364</td>\n",
       "    </tr>\n",
       "    <tr>\n",
       "      <th>4</th>\n",
       "      <td>-1.479192</td>\n",
       "      <td>-4.251570</td>\n",
       "    </tr>\n",
       "    <tr>\n",
       "      <th>...</th>\n",
       "      <td>...</td>\n",
       "      <td>...</td>\n",
       "    </tr>\n",
       "    <tr>\n",
       "      <th>95</th>\n",
       "      <td>2.244400</td>\n",
       "      <td>10.325987</td>\n",
       "    </tr>\n",
       "    <tr>\n",
       "      <th>96</th>\n",
       "      <td>2.393501</td>\n",
       "      <td>12.266493</td>\n",
       "    </tr>\n",
       "    <tr>\n",
       "      <th>97</th>\n",
       "      <td>2.605604</td>\n",
       "      <td>13.098280</td>\n",
       "    </tr>\n",
       "    <tr>\n",
       "      <th>98</th>\n",
       "      <td>2.605658</td>\n",
       "      <td>12.546793</td>\n",
       "    </tr>\n",
       "    <tr>\n",
       "      <th>99</th>\n",
       "      <td>2.663240</td>\n",
       "      <td>13.834002</td>\n",
       "    </tr>\n",
       "  </tbody>\n",
       "</table>\n",
       "<p>100 rows × 2 columns</p>\n",
       "</div>"
      ],
      "text/plain": [
       "           x          y\n",
       "0  -2.482113  -8.542024\n",
       "1  -2.362146  -6.576713\n",
       "2  -1.997295  -5.949576\n",
       "3  -1.623936  -4.479364\n",
       "4  -1.479192  -4.251570\n",
       "..       ...        ...\n",
       "95  2.244400  10.325987\n",
       "96  2.393501  12.266493\n",
       "97  2.605604  13.098280\n",
       "98  2.605658  12.546793\n",
       "99  2.663240  13.834002\n",
       "\n",
       "[100 rows x 2 columns]"
      ]
     },
     "execution_count": 48,
     "metadata": {},
     "output_type": "execute_result"
    }
   ],
   "source": [
    "df = pd.read_csv(\"https://raw.githubusercontent.com/guebin/DL2022/master/_notebooks/2022-09-22-regression.csv\") \n",
    "df"
   ]
  },
  {
   "cell_type": "code",
   "execution_count": 49,
   "id": "4e39ee60-b1bc-4116-a88c-ecae504ad3ab",
   "metadata": {},
   "outputs": [],
   "source": [
    "x=torch.tensor(df.x).float().reshape(100,1)\n",
    "y=torch.tensor(df.y).float().reshape(100,1)\n",
    "_1 = torch.ones([100,1])\n",
    "X = torch.concat([_1,x],axis=1)"
   ]
  },
  {
   "cell_type": "code",
   "execution_count": 50,
   "id": "ab7ab478-d013-422b-817b-344efc6b8fc2",
   "metadata": {},
   "outputs": [
    {
     "data": {
      "text/plain": [
       "[<matplotlib.lines.Line2D at 0x7fbec2cf7c90>]"
      ]
     },
     "execution_count": 50,
     "metadata": {},
     "output_type": "execute_result"
    },
    {
     "data": {
      "image/png": "[encoded data removed]",
      "text/plain": [
       "<Figure size 432x288 with 1 Axes>"
      ]
     },
     "metadata": {
      "needs_background": "light"
     },
     "output_type": "display_data"
    }
   ],
   "source": [
    "plt.plot(x,y,'o')"
   ]
  },
  {
   "cell_type": "markdown",
   "id": "9b75be41-bb79-4f8c-80ba-d9f5028a36c2",
   "metadata": {},
   "source": [
    "### ver1: net = torch.nn.Linear(1,1,bias=True) "
   ]
  },
  {
   "cell_type": "markdown",
   "id": "abaf4810-929f-40d4-ba7f-0a3705fc2350",
   "metadata": {},
   "source": [
    "`-` 준비"
   ]
  },
  {
   "cell_type": "code",
   "execution_count": 51,
   "id": "e19cd013-d1c5-4707-8729-f9b7a8d82e94",
   "metadata": {},
   "outputs": [
    {
     "data": {
      "text/plain": [
       "(Parameter containing:\n",
       " tensor([[10.]], requires_grad=True),\n",
       " Parameter containing:\n",
       " tensor([-5.], requires_grad=True))"
      ]
     },
     "execution_count": 51,
     "metadata": {},
     "output_type": "execute_result"
    }
   ],
   "source": [
    "net = torch.nn.Linear(1,1,bias=True)\n",
    "net.weight.data = torch.tensor([[10.0]])\n",
    "net.bias.data = torch.tensor([-5.0])\n",
    "net.weight,net.bias"
   ]
  },
  {
   "cell_type": "markdown",
   "id": "bb10aa9c-6f32-4459-9b43-b637149d062f",
   "metadata": {},
   "source": [
    "`-` step1 "
   ]
  },
  {
   "cell_type": "code",
   "execution_count": 52,
   "id": "cb97f4b7-381a-4f6b-9aab-61b7dc546d40",
   "metadata": {},
   "outputs": [],
   "source": [
    "yhat = net(x) "
   ]
  },
  {
   "cell_type": "code",
   "execution_count": 53,
   "id": "fd6cb85d-663a-4e7b-9e51-09b02cf9a87d",
   "metadata": {},
   "outputs": [
    {
     "data": {
      "text/plain": [
       "[<matplotlib.lines.Line2D at 0x7fbec292c210>]"
      ]
     },
     "execution_count": 53,
     "metadata": {},
     "output_type": "execute_result"
    },
    {
     "data": {
      "image/png": "[encoded data removed]",
      "text/plain": [
       "<Figure size 432x288 with 1 Axes>"
      ]
     },
     "metadata": {
      "needs_background": "light"
     },
     "output_type": "display_data"
    }
   ],
   "source": [
    "plt.plot(x,y,'o')\n",
    "plt.plot(x,net(x).data,'--')"
   ]
  },
  {
   "cell_type": "markdown",
   "id": "92be46e9-330a-4642-bd53-cedef46b7845",
   "metadata": {},
   "source": [
    "`-` step2"
   ]
  },
  {
   "cell_type": "code",
   "execution_count": 54,
   "id": "3d96b79e-17a5-474a-8241-2c24c1abbda0",
   "metadata": {},
   "outputs": [],
   "source": [
    "loss = torch.mean((y-yhat)**2)"
   ]
  },
  {
   "cell_type": "markdown",
   "id": "a7889360-76b6-4a0e-b3b2-05d8a502750a",
   "metadata": {},
   "source": [
    "`-` step3"
   ]
  },
  {
   "cell_type": "markdown",
   "id": "28893b51-8644-49b8-b0ee-9d1720f7a153",
   "metadata": {},
   "source": [
    "(미분전)"
   ]
  },
  {
   "cell_type": "code",
   "execution_count": 55,
   "id": "806991bc-3211-470c-8898-13d942a7835b",
   "metadata": {},
   "outputs": [
    {
     "data": {
      "text/plain": [
       "(Parameter containing:\n",
       " tensor([-5.], requires_grad=True),\n",
       " Parameter containing:\n",
       " tensor([[10.]], requires_grad=True))"
      ]
     },
     "execution_count": 55,
     "metadata": {},
     "output_type": "execute_result"
    }
   ],
   "source": [
    "net.bias,net.weight"
   ]
  },
  {
   "cell_type": "code",
   "execution_count": 56,
   "id": "301ca3d4-8b34-45f2-a1ed-95a8123839f5",
   "metadata": {},
   "outputs": [
    {
     "data": {
      "text/plain": [
       "(None, None)"
      ]
     },
     "execution_count": 56,
     "metadata": {},
     "output_type": "execute_result"
    }
   ],
   "source": [
    "net.bias.grad, net.weight.grad"
   ]
  },
  {
   "cell_type": "markdown",
   "id": "9420e22c-4b8f-45ab-97fb-4c5d0e3b2d4d",
   "metadata": {},
   "source": [
    "(미분)"
   ]
  },
  {
   "cell_type": "code",
   "execution_count": 57,
   "id": "4d0bd582-9cae-4320-af28-48986e94eb2d",
   "metadata": {},
   "outputs": [],
   "source": [
    "loss.backward()"
   ]
  },
  {
   "cell_type": "markdown",
   "id": "e6e88de3-5a87-4427-a3f9-593b940071d6",
   "metadata": {},
   "source": [
    "(미분후)"
   ]
  },
  {
   "cell_type": "code",
   "execution_count": 58,
   "id": "18a4b740-415d-4809-9799-f0195c302231",
   "metadata": {},
   "outputs": [
    {
     "data": {
      "text/plain": [
       "(Parameter containing:\n",
       " tensor([-5.], requires_grad=True),\n",
       " Parameter containing:\n",
       " tensor([[10.]], requires_grad=True))"
      ]
     },
     "execution_count": 58,
     "metadata": {},
     "output_type": "execute_result"
    }
   ],
   "source": [
    "net.bias,net.weight"
   ]
  },
  {
   "cell_type": "code",
   "execution_count": 59,
   "id": "da5fc2da-5b13-4445-a2f5-b231f1386826",
   "metadata": {},
   "outputs": [
    {
     "data": {
      "text/plain": [
       "(tensor([-13.4225]), tensor([[11.8893]]))"
      ]
     },
     "execution_count": 59,
     "metadata": {},
     "output_type": "execute_result"
    }
   ],
   "source": [
    "net.bias.grad,net.weight.grad"
   ]
  },
  {
   "cell_type": "markdown",
   "id": "3836baf4-0b61-4551-8a09-48cdefd8cccb",
   "metadata": {},
   "source": [
    "`-` step4 "
   ]
  },
  {
   "cell_type": "markdown",
   "id": "f42e023b-5bfa-4368-ac04-a019dbf6e40f",
   "metadata": {},
   "source": [
    "(업데이트전) "
   ]
  },
  {
   "cell_type": "code",
   "execution_count": 60,
   "id": "f0d3ceb4-8c2e-4143-a7d3-8158e3fb49aa",
   "metadata": {},
   "outputs": [
    {
     "data": {
      "text/plain": [
       "(Parameter containing:\n",
       " tensor([-5.], requires_grad=True),\n",
       " Parameter containing:\n",
       " tensor([[10.]], requires_grad=True))"
      ]
     },
     "execution_count": 60,
     "metadata": {},
     "output_type": "execute_result"
    }
   ],
   "source": [
    "net.bias,net.weight"
   ]
  },
  {
   "cell_type": "code",
   "execution_count": 61,
   "id": "3541f19d-a664-48e9-a996-2b60d9c11fe5",
   "metadata": {},
   "outputs": [
    {
     "data": {
      "text/plain": [
       "(tensor([-13.4225]), tensor([[11.8893]]))"
      ]
     },
     "execution_count": 61,
     "metadata": {},
     "output_type": "execute_result"
    }
   ],
   "source": [
    "net.bias.grad, net.weight.grad"
   ]
  },
  {
   "cell_type": "markdown",
   "id": "dcd90fe2-16b4-4d86-b9f0-322f18f4bc36",
   "metadata": {},
   "source": [
    "(업데이트) "
   ]
  },
  {
   "cell_type": "code",
   "execution_count": 62,
   "id": "0010a470-db42-4c54-831e-83fc0ed7d6f9",
   "metadata": {},
   "outputs": [],
   "source": [
    "net.bias.data = net.bias.data - 0.1*net.bias.grad \n",
    "net.weight.data = net.weight.data - 0.1*net.weight.grad "
   ]
  },
  {
   "cell_type": "code",
   "execution_count": 63,
   "id": "e487a590-fe15-494d-ba60-7e6d3e1beeef",
   "metadata": {},
   "outputs": [],
   "source": [
    "net.bias.grad = None \n",
    "net.weight.grad = None "
   ]
  },
  {
   "cell_type": "markdown",
   "id": "f7b1d4d2-5edc-42a9-8e66-6d83e9d1b3f1",
   "metadata": {},
   "source": [
    "(업데이트후) "
   ]
  },
  {
   "cell_type": "code",
   "execution_count": 64,
   "id": "901f64b3-487e-4823-8b0e-87f0f0b9dfea",
   "metadata": {},
   "outputs": [
    {
     "data": {
      "text/plain": [
       "(Parameter containing:\n",
       " tensor([-3.6577], requires_grad=True),\n",
       " Parameter containing:\n",
       " tensor([[8.8111]], requires_grad=True))"
      ]
     },
     "execution_count": 64,
     "metadata": {},
     "output_type": "execute_result"
    }
   ],
   "source": [
    "net.bias,net.weight"
   ]
  },
  {
   "cell_type": "code",
   "execution_count": 65,
   "id": "dede4e89-95e1-4f12-b3f7-fa9f47eba6fc",
   "metadata": {},
   "outputs": [
    {
     "data": {
      "text/plain": [
       "(None, None)"
      ]
     },
     "execution_count": 65,
     "metadata": {},
     "output_type": "execute_result"
    }
   ],
   "source": [
    "net.bias.grad, net.weight.grad"
   ]
  },
  {
   "cell_type": "markdown",
   "id": "c62e595e-a6e0-44b8-aca2-71066288818f",
   "metadata": {},
   "source": [
    "`-` 반복 "
   ]
  },
  {
   "cell_type": "code",
   "execution_count": 66,
   "id": "83ae6dd3-67ae-4968-a7a8-555464b94aa0",
   "metadata": {},
   "outputs": [],
   "source": [
    "for epoc in range(30):\n",
    "    yhat = net(x) \n",
    "    loss = torch.mean((y-yhat)**2)\n",
    "    loss.backward()\n",
    "    net.weight.data = net.weight.data - 0.1*net.weight.grad\n",
    "    net.bias.data = net.bias.data - 0.1*net.bias.grad\n",
    "    net.weight.grad = None\n",
    "    net.bias.grad = None"
   ]
  },
  {
   "cell_type": "code",
   "execution_count": 67,
   "id": "5fdd0c43-9708-4b46-95d0-fa6bf715f2cf",
   "metadata": {},
   "outputs": [
    {
     "data": {
      "text/plain": [
       "[<matplotlib.lines.Line2D at 0x7fbec20b5750>]"
      ]
     },
     "execution_count": 67,
     "metadata": {},
     "output_type": "execute_result"
    },
    {
     "data": {
      "image/png": "[encoded data removed]",
      "text/plain": [
       "<Figure size 432x288 with 1 Axes>"
      ]
     },
     "metadata": {
      "needs_background": "light"
     },
     "output_type": "display_data"
    }
   ],
   "source": [
    "plt.plot(x,y,'o')\n",
    "plt.plot(x,net(x).data,'--')"
   ]
  },
  {
   "cell_type": "markdown",
   "id": "5d5e4dcb-b458-487c-bec2-4982ae6704a1",
   "metadata": {},
   "source": [
    "### ver2: net = torch.nn.Linear(2,1,bias=False) "
   ]
  },
  {
   "cell_type": "markdown",
   "id": "05960d9f-b96d-42e6-8305-c66aa8e79bd9",
   "metadata": {},
   "source": [
    "`-` 준비"
   ]
  },
  {
   "cell_type": "code",
   "execution_count": 81,
   "id": "12f784f1-4c0a-4cfa-b1c5-49794909237c",
   "metadata": {},
   "outputs": [],
   "source": [
    "net = torch.nn.Linear(2,1,bias=False)\n",
    "net.weight.data = torch.tensor([[-5.0, 10.0]])"
   ]
  },
  {
   "cell_type": "markdown",
   "id": "6615a3ee-a8c1-486a-95d3-b0e2a58186ea",
   "metadata": {},
   "source": [
    "`-` step1"
   ]
  },
  {
   "cell_type": "code",
   "execution_count": 82,
   "id": "b04468e5-2a59-4d0e-bd94-c23986215a6f",
   "metadata": {},
   "outputs": [],
   "source": [
    "yhat = net(X)"
   ]
  },
  {
   "cell_type": "markdown",
   "id": "57a24aa8-48ce-4e90-b453-f03e713144f6",
   "metadata": {},
   "source": [
    "`-` step2"
   ]
  },
  {
   "cell_type": "code",
   "execution_count": 83,
   "id": "584e945b-e7e1-405f-bdbc-cb477b69d03b",
   "metadata": {},
   "outputs": [],
   "source": [
    "loss = torch.mean((y-yhat)**2)"
   ]
  },
  {
   "cell_type": "markdown",
   "id": "2f48b2f8-9921-40dd-9bc4-7a29bd3fd11c",
   "metadata": {},
   "source": [
    "`-` step3"
   ]
  },
  {
   "cell_type": "markdown",
   "id": "e8b2e7c6-3d51-4627-b5d9-543a17e9d2ba",
   "metadata": {},
   "source": [
    "(미분전) "
   ]
  },
  {
   "cell_type": "code",
   "execution_count": 84,
   "id": "49909fc4-a5ad-44c4-9d19-ac31d98ab2bf",
   "metadata": {},
   "outputs": [
    {
     "data": {
      "text/plain": [
       "Parameter containing:\n",
       "tensor([[-5., 10.]], requires_grad=True)"
      ]
     },
     "execution_count": 84,
     "metadata": {},
     "output_type": "execute_result"
    }
   ],
   "source": [
    "net.weight"
   ]
  },
  {
   "cell_type": "code",
   "execution_count": 85,
   "id": "0a5626b5-fd27-4272-b72f-fe8cc0ad5815",
   "metadata": {},
   "outputs": [],
   "source": [
    "net.weight.grad"
   ]
  },
  {
   "cell_type": "markdown",
   "id": "c3ad1e63-88e6-49c7-8246-2bfe36f891e9",
   "metadata": {},
   "source": [
    "(미분)"
   ]
  },
  {
   "cell_type": "code",
   "execution_count": 86,
   "id": "b6477313-38b4-47be-bcc9-db61f0550c3a",
   "metadata": {},
   "outputs": [],
   "source": [
    "loss.backward()"
   ]
  },
  {
   "cell_type": "markdown",
   "id": "48cdde4d-d8e8-468f-95ca-2f6668da378a",
   "metadata": {},
   "source": [
    "(미분후)"
   ]
  },
  {
   "cell_type": "code",
   "execution_count": 87,
   "id": "978c6171-c323-48ac-8580-49cae23a8d90",
   "metadata": {},
   "outputs": [
    {
     "data": {
      "text/plain": [
       "Parameter containing:\n",
       "tensor([[-5., 10.]], requires_grad=True)"
      ]
     },
     "execution_count": 87,
     "metadata": {},
     "output_type": "execute_result"
    }
   ],
   "source": [
    "net.weight"
   ]
  },
  {
   "cell_type": "code",
   "execution_count": 88,
   "id": "19b13d91-6848-462c-a711-4fee9da02c56",
   "metadata": {},
   "outputs": [
    {
     "data": {
      "text/plain": [
       "tensor([[-13.4225,  11.8893]])"
      ]
     },
     "execution_count": 88,
     "metadata": {},
     "output_type": "execute_result"
    }
   ],
   "source": [
    "net.weight.grad"
   ]
  },
  {
   "cell_type": "markdown",
   "id": "0d7cdcbe-30e8-445a-ae3a-79d5f62ab340",
   "metadata": {},
   "source": [
    "`-` step4"
   ]
  },
  {
   "cell_type": "markdown",
   "id": "4b313d83-532b-47f2-a80b-9ecf3068f277",
   "metadata": {},
   "source": [
    "(업데이트전) "
   ]
  },
  {
   "cell_type": "code",
   "execution_count": 89,
   "id": "fb2b54b6-5de4-4528-9009-b2e25e1c5536",
   "metadata": {},
   "outputs": [
    {
     "data": {
      "text/plain": [
       "Parameter containing:\n",
       "tensor([[-5., 10.]], requires_grad=True)"
      ]
     },
     "execution_count": 89,
     "metadata": {},
     "output_type": "execute_result"
    }
   ],
   "source": [
    "net.weight"
   ]
  },
  {
   "cell_type": "code",
   "execution_count": 90,
   "id": "12e940f9-51e3-4b51-9a43-346b4687bdb7",
   "metadata": {},
   "outputs": [
    {
     "data": {
      "text/plain": [
       "tensor([[-13.4225,  11.8893]])"
      ]
     },
     "execution_count": 90,
     "metadata": {},
     "output_type": "execute_result"
    }
   ],
   "source": [
    "net.weight.grad"
   ]
  },
  {
   "cell_type": "markdown",
   "id": "2d811e73-2d00-4c11-a08e-629200107b2d",
   "metadata": {},
   "source": [
    "(업데이트)"
   ]
  },
  {
   "cell_type": "code",
   "execution_count": 91,
   "id": "220efc9a-a083-45a9-9ffe-7aa6fd73f1c3",
   "metadata": {},
   "outputs": [],
   "source": [
    "net.weight.data = net.weight.data - 0.1*net.weight.grad"
   ]
  },
  {
   "cell_type": "code",
   "execution_count": 92,
   "id": "fd2585be-a0e7-4d59-bb3e-28659df74f3d",
   "metadata": {},
   "outputs": [],
   "source": [
    "net.weight.grad = None"
   ]
  },
  {
   "cell_type": "markdown",
   "id": "d07442fb-85f0-4ecf-bb12-8c568578f6bb",
   "metadata": {},
   "source": [
    "(업데이트후)"
   ]
  },
  {
   "cell_type": "code",
   "execution_count": 93,
   "id": "3082f509-2bbb-4bff-b226-7e1cbd91403e",
   "metadata": {},
   "outputs": [
    {
     "data": {
      "text/plain": [
       "Parameter containing:\n",
       "tensor([[-3.6577,  8.8111]], requires_grad=True)"
      ]
     },
     "execution_count": 93,
     "metadata": {},
     "output_type": "execute_result"
    }
   ],
   "source": [
    "net.weight"
   ]
  },
  {
   "cell_type": "code",
   "execution_count": 94,
   "id": "6e7a3f82-758a-4ac4-9aca-224e07ca70ec",
   "metadata": {},
   "outputs": [],
   "source": [
    "net.weight.grad"
   ]
  },
  {
   "cell_type": "markdown",
   "id": "3513af54-4fbe-4451-ab1c-90feb20204fd",
   "metadata": {},
   "source": [
    "`-` 반복"
   ]
  },
  {
   "cell_type": "code",
   "execution_count": 98,
   "id": "74a7bafb-32ce-4fc9-b74b-7390600eece0",
   "metadata": {},
   "outputs": [],
   "source": [
    "net = torch.nn.Linear(2,1,bias=False)\n",
    "net.weight.data = torch.tensor([[-5.0, 10.0]])"
   ]
  },
  {
   "cell_type": "code",
   "execution_count": 99,
   "id": "8b196c02-ad0b-40a0-aa2e-85b9087c68ee",
   "metadata": {},
   "outputs": [
    {
     "data": {
      "text/plain": [
       "[<matplotlib.lines.Line2D at 0x7fbec0536bd0>]"
      ]
     },
     "execution_count": 99,
     "metadata": {},
     "output_type": "execute_result"
    },
    {
     "data": {
      "image/png": "[encoded data removed]",
      "text/plain": [
       "<Figure size 432x288 with 1 Axes>"
      ]
     },
     "metadata": {
      "needs_background": "light"
     },
     "output_type": "display_data"
    }
   ],
   "source": [
    "plt.plot(x,y,'o')\n",
    "plt.plot(x,net(X).data,'--')"
   ]
  },
  {
   "cell_type": "code",
   "execution_count": 100,
   "id": "d03f18a5-c1e5-436b-abb9-3caee27a6eff",
   "metadata": {},
   "outputs": [],
   "source": [
    "for epoc in range(30):\n",
    "    yhat = net(X) \n",
    "    loss = torch.mean((y-yhat)**2)\n",
    "    loss.backward()\n",
    "    net.weight.data = net.weight.data - 0.1*net.weight.grad\n",
    "    net.weight.grad = None"
   ]
  },
  {
   "cell_type": "code",
   "execution_count": 101,
   "id": "3d5123dc-a13c-4667-b852-a7e6bf9144c8",
   "metadata": {},
   "outputs": [
    {
     "data": {
      "text/plain": [
       "[<matplotlib.lines.Line2D at 0x7fbec06ebf90>]"
      ]
     },
     "execution_count": 101,
     "metadata": {},
     "output_type": "execute_result"
    },
    {
     "data": {
      "image/png": "[encoded data removed]",
      "text/plain": [
       "<Figure size 432x288 with 1 Axes>"
      ]
     },
     "metadata": {
      "needs_background": "light"
     },
     "output_type": "display_data"
    }
   ],
   "source": [
    "plt.plot(x,y,'o')\n",
    "plt.plot(x,net(X).data,'--')"
   ]
  },
  {
   "cell_type": "markdown",
   "id": "9c29b1ad-d048-46af-9f12-92171005f277",
   "metadata": {},
   "source": [
    "## step4의 다른버전: 옵티마이저!"
   ]
  },
  {
   "cell_type": "markdown",
   "id": "42f4de2d-0a20-4ed8-ba4c-300afb40bed7",
   "metadata": {},
   "source": [
    "### ver1: net = torch.nn.Linear(1,1,bias=True) "
   ]
  },
  {
   "cell_type": "markdown",
   "id": "f6471cfd-d6f6-4bae-9290-58c6c32f299d",
   "metadata": {},
   "source": [
    "`-` 준비 "
   ]
  },
  {
   "cell_type": "code",
   "execution_count": 113,
   "id": "685cdb80-9a81-414b-a5ff-aa3716e927f3",
   "metadata": {},
   "outputs": [],
   "source": [
    "net = torch.nn.Linear(1,1) \n",
    "net.weight.data = torch.tensor([[10.0]]) \n",
    "net.bias.data = torch.tensor([[-5.0]]) "
   ]
  },
  {
   "cell_type": "code",
   "execution_count": 114,
   "id": "ca9efa25-53cd-4c75-958a-cf3545d79e57",
   "metadata": {},
   "outputs": [],
   "source": [
    "optimizr = torch.optim.SGD(net.parameters(),lr=1/10) "
   ]
  },
  {
   "cell_type": "markdown",
   "id": "e8583485-5d6a-4e13-97fb-37e32450e565",
   "metadata": {},
   "source": [
    "`-` step1~3"
   ]
  },
  {
   "cell_type": "code",
   "execution_count": 115,
   "id": "7299d901-8442-4cea-be7f-70e0bc501b21",
   "metadata": {},
   "outputs": [],
   "source": [
    "yhat = net(x)     "
   ]
  },
  {
   "cell_type": "code",
   "execution_count": 116,
   "id": "8ef5120c-74e7-45d5-afef-817ebba01520",
   "metadata": {},
   "outputs": [],
   "source": [
    "loss = torch.mean((y-yhat)**2) "
   ]
  },
  {
   "cell_type": "code",
   "execution_count": 117,
   "id": "4fed5c93-ddd4-4773-9719-2fd97869b3f2",
   "metadata": {},
   "outputs": [],
   "source": [
    "loss.backward() "
   ]
  },
  {
   "cell_type": "markdown",
   "id": "b1600b5d-d1c4-4f7a-b722-9fd48f9cc6a3",
   "metadata": {},
   "source": [
    "`-` step4 "
   ]
  },
  {
   "cell_type": "markdown",
   "id": "fbfbcf40-05bc-4f6a-90e1-cbf39f3e6531",
   "metadata": {},
   "source": [
    "(update 전)"
   ]
  },
  {
   "cell_type": "code",
   "execution_count": 118,
   "id": "d1b99f08-2657-44d2-9d4e-ac4e03c7c526",
   "metadata": {},
   "outputs": [
    {
     "data": {
      "text/plain": [
       "(tensor([[10.]]), tensor([[-5.]]))"
      ]
     },
     "execution_count": 118,
     "metadata": {},
     "output_type": "execute_result"
    }
   ],
   "source": [
    "net.weight.data, net.bias.data ## 값은 업데이트 전"
   ]
  },
  {
   "cell_type": "code",
   "execution_count": 119,
   "id": "000289cf-526c-4af3-b4f2-2ea19d10dd37",
   "metadata": {},
   "outputs": [
    {
     "data": {
      "text/plain": [
       "(tensor([[11.8893]]), tensor([[-13.4225]]))"
      ]
     },
     "execution_count": 119,
     "metadata": {},
     "output_type": "execute_result"
    }
   ],
   "source": [
    "net.weight.grad, net.bias.grad ## 미분값은 청소전 "
   ]
  },
  {
   "cell_type": "markdown",
   "id": "42eaf5c5-011c-48ef-8b3a-a3d16c056fa8",
   "metadata": {},
   "source": [
    "(update) "
   ]
  },
  {
   "cell_type": "code",
   "execution_count": 120,
   "id": "4494cfe1-2df0-4a48-b09e-206e710e5dd1",
   "metadata": {},
   "outputs": [],
   "source": [
    "optimizr.step() \n",
    "optimizr.zero_grad() "
   ]
  },
  {
   "cell_type": "markdown",
   "id": "ae789e4a-b146-42ef-a2e0-77c971450a67",
   "metadata": {},
   "source": [
    "(update 후) "
   ]
  },
  {
   "cell_type": "code",
   "execution_count": 121,
   "id": "ae56cc7b-107a-4722-8879-cae65eb8a3ba",
   "metadata": {},
   "outputs": [
    {
     "data": {
      "text/plain": [
       "(tensor([[8.8111]]), tensor([[-3.6577]]))"
      ]
     },
     "execution_count": 121,
     "metadata": {},
     "output_type": "execute_result"
    }
   ],
   "source": [
    "net.weight.data, net.bias.data ## 값은 업데이트 되었음 "
   ]
  },
  {
   "cell_type": "code",
   "execution_count": 122,
   "id": "8315a79e-f1cd-41ca-932b-1e8cf1d1210f",
   "metadata": {},
   "outputs": [
    {
     "data": {
      "text/plain": [
       "(tensor([[0.]]), tensor([[0.]]))"
      ]
     },
     "execution_count": 122,
     "metadata": {},
     "output_type": "execute_result"
    }
   ],
   "source": [
    "net.weight.grad, net.bias.grad ## 미분값은 0으로 초기화하였음 "
   ]
  },
  {
   "cell_type": "markdown",
   "id": "790e3804-3070-40bf-985b-caf9c08cd136",
   "metadata": {},
   "source": [
    "`-` 반복 "
   ]
  },
  {
   "cell_type": "code",
   "execution_count": 123,
   "id": "e76d545f-b357-4c58-943a-dfd79eb27ae9",
   "metadata": {},
   "outputs": [],
   "source": [
    "net = torch.nn.Linear(1,1) \n",
    "net.weight.data = torch.tensor([[10.0]])\n",
    "net.bias.data = torch.tensor([-5.0])\n",
    "optimizr = torch.optim.SGD(net.parameters(),lr=1/10) "
   ]
  },
  {
   "cell_type": "code",
   "execution_count": 124,
   "id": "599fa01c-e044-4d7f-be88-e1fa1bd62049",
   "metadata": {},
   "outputs": [],
   "source": [
    "for epoc in range(30): \n",
    "    yhat = net(x)\n",
    "    loss = torch.mean((y-yhat)**2) \n",
    "    loss.backward() \n",
    "    optimizr.step(); optimizr.zero_grad() "
   ]
  },
  {
   "cell_type": "code",
   "execution_count": 125,
   "id": "a2858eae-e8bc-47d1-a5ce-638416b411cc",
   "metadata": {},
   "outputs": [
    {
     "data": {
      "text/plain": [
       "[<matplotlib.lines.Line2D at 0x7fbec076a3d0>]"
      ]
     },
     "execution_count": 125,
     "metadata": {},
     "output_type": "execute_result"
    },
    {
     "data": {
      "image/png": "[encoded data removed]",
      "text/plain": [
       "<Figure size 432x288 with 1 Axes>"
      ]
     },
     "metadata": {
      "needs_background": "light"
     },
     "output_type": "display_data"
    }
   ],
   "source": [
    "plt.plot(x,y,'o')\n",
    "plt.plot(x,net(x).data,'--')"
   ]
  },
  {
   "cell_type": "markdown",
   "id": "bdb4edb5-5922-4241-bbac-426ce5513462",
   "metadata": {},
   "source": [
    "### ver2: net = torch.nn.Linear(2,1,bias=False) "
   ]
  },
  {
   "cell_type": "markdown",
   "id": "83e5eb7d-a0ae-4591-8977-d82f8f13fdd7",
   "metadata": {},
   "source": [
    "`-` 바로 반복하겠습니다.. "
   ]
  },
  {
   "cell_type": "code",
   "execution_count": 126,
   "id": "fa46a27f-77fb-4abe-9a7a-590251ca42e9",
   "metadata": {},
   "outputs": [],
   "source": [
    "net = torch.nn.Linear(2,1,bias=False) \n",
    "net.weight.data = torch.tensor([[-5.0, 10.0]])\n",
    "optimizr = torch.optim.SGD(net.parameters(),lr=1/10) "
   ]
  },
  {
   "cell_type": "code",
   "execution_count": 127,
   "id": "f6bf419b-7ee8-4434-a1c3-4fa123a46900",
   "metadata": {},
   "outputs": [],
   "source": [
    "for epoc in range(30): \n",
    "    yhat = net(X)\n",
    "    loss = torch.mean((y-yhat)**2) \n",
    "    loss.backward() \n",
    "    optimizr.step(); optimizr.zero_grad() "
   ]
  },
  {
   "cell_type": "code",
   "execution_count": 128,
   "id": "46575ad9-9590-4559-a71e-2b53f83eaada",
   "metadata": {},
   "outputs": [
    {
     "data": {
      "text/plain": [
       "[<matplotlib.lines.Line2D at 0x7fbec008f250>]"
      ]
     },
     "execution_count": 128,
     "metadata": {},
     "output_type": "execute_result"
    },
    {
     "data": {
      "image/png": "[encoded data removed]",
      "text/plain": [
       "<Figure size 432x288 with 1 Axes>"
      ]
     },
     "metadata": {
      "needs_background": "light"
     },
     "output_type": "display_data"
    }
   ],
   "source": [
    "plt.plot(x,y,'o')\n",
    "plt.plot(x,net(X).data,'--')"
   ]
  },
  {
   "cell_type": "markdown",
   "id": "cf2a5b9e-7c00-41e4-8dd5-c98acbcfe643",
   "metadata": {},
   "source": [
    "--- "
   ]
  },
  {
   "cell_type": "markdown",
   "id": "47c8515b-8e81-4c00-9175-a5705c0461d3",
   "metadata": {},
   "source": [
    "## Appendix: `net.parameters()`의 의미? (선택학습)"
   ]
  },
  {
   "cell_type": "markdown",
   "id": "a0296bfa-0b54-407c-abdc-fc4829986148",
   "metadata": {},
   "source": [
    "`-` iterator, generator의 개념필요 \n",
    "- https://guebin.github.io/IP2022/2022/06/06/(14주차)-6월6일.html, 클래스공부 8단계 참고 \n"
   ]
  },
  {
   "cell_type": "markdown",
   "id": "bf07a955-3d50-4b59-9816-2cd319402d95",
   "metadata": {},
   "source": [
    "`-` 탐구시작: 네트워크 생성 "
   ]
  },
  {
   "cell_type": "code",
   "execution_count": 129,
   "id": "423d09db-8177-4994-b219-59a69a595906",
   "metadata": {},
   "outputs": [
    {
     "data": {
      "text/plain": [
       "Parameter containing:\n",
       "tensor([[0.6258]], requires_grad=True)"
      ]
     },
     "execution_count": 129,
     "metadata": {},
     "output_type": "execute_result"
    }
   ],
   "source": [
    "net = torch.nn.Linear(in_features=1,out_features=1)\n",
    "net.weight"
   ]
  },
  {
   "cell_type": "code",
   "execution_count": 130,
   "id": "a097b1d7-f508-4264-83fb-6b7180f08dc0",
   "metadata": {},
   "outputs": [
    {
     "data": {
      "text/plain": [
       "Parameter containing:\n",
       "tensor([-0.5233], requires_grad=True)"
      ]
     },
     "execution_count": 130,
     "metadata": {},
     "output_type": "execute_result"
    }
   ],
   "source": [
    "net.bias"
   ]
  },
  {
   "cell_type": "markdown",
   "id": "af341eb0-93af-468a-b762-5da108d2fc4a",
   "metadata": {},
   "source": [
    "`-` torch.optim.SGD? 를 확인하면 params에 대한설명에 아래와 같이 되어있음 \n",
    "\n",
    "```\n",
    "params (iterable): iterable of parameters to optimize or dicts defining\n",
    "        parameter groups\n",
    "```"
   ]
  },
  {
   "cell_type": "markdown",
   "id": "9fe4beba-50a4-404d-ace9-e571bf7b6b7f",
   "metadata": {},
   "source": [
    "`-` 설명을 읽어보면 params에 iterable object를 넣으라고 되어있음 (iterable object는 숨겨진 명령어로 `__iter__`를 가지고 있는 오브젝트를 의미)"
   ]
  },
  {
   "cell_type": "code",
   "execution_count": 131,
   "id": "4d41b19f-642b-4f04-80e9-caed040804f2",
   "metadata": {},
   "outputs": [
    {
     "data": {
      "text/plain": [
       "set()"
      ]
     },
     "execution_count": 131,
     "metadata": {},
     "output_type": "execute_result"
    }
   ],
   "source": [
    "set(dir(net.parameters)) & {'__iter__'}"
   ]
  },
  {
   "cell_type": "code",
   "execution_count": 132,
   "id": "61c33a1b-eb7c-4272-9006-c071152ca3a2",
   "metadata": {},
   "outputs": [
    {
     "data": {
      "text/plain": [
       "{'__iter__'}"
      ]
     },
     "execution_count": 132,
     "metadata": {},
     "output_type": "execute_result"
    }
   ],
   "source": [
    "set(dir(net.parameters())) & {'__iter__'}"
   ]
  },
  {
   "cell_type": "markdown",
   "id": "15f988e4-76fd-43ed-8bec-5a4db96a43dd",
   "metadata": {},
   "source": [
    "`-` 무슨의미? "
   ]
  },
  {
   "cell_type": "code",
   "execution_count": 133,
   "id": "9a34b213-524d-464a-ab54-229e30f98c71",
   "metadata": {},
   "outputs": [],
   "source": [
    "_generator = net.parameters()"
   ]
  },
  {
   "cell_type": "code",
   "execution_count": 134,
   "id": "121a706b-d18c-4697-ba98-eb1f3df74634",
   "metadata": {},
   "outputs": [
    {
     "data": {
      "text/plain": [
       "Parameter containing:\n",
       "tensor([[0.6258]], requires_grad=True)"
      ]
     },
     "execution_count": 134,
     "metadata": {},
     "output_type": "execute_result"
    }
   ],
   "source": [
    "_generator.__next__()"
   ]
  },
  {
   "cell_type": "code",
   "execution_count": 135,
   "id": "ebebe1c3-8497-45df-8fdd-29b1c8e3b512",
   "metadata": {},
   "outputs": [
    {
     "data": {
      "text/plain": [
       "Parameter containing:\n",
       "tensor([-0.5233], requires_grad=True)"
      ]
     },
     "execution_count": 135,
     "metadata": {},
     "output_type": "execute_result"
    }
   ],
   "source": [
    "_generator.__next__()"
   ]
  },
  {
   "cell_type": "code",
   "execution_count": 136,
   "id": "0af61910-e9bc-4628-bdd0-b4bf5905ba1c",
   "metadata": {},
   "outputs": [
    {
     "ename": "StopIteration",
     "evalue": "",
     "output_type": "error",
     "traceback": [
      "\u001b[0;31m---------------------------------------------------------------------------\u001b[0m",
      "\u001b[0;31mStopIteration\u001b[0m                             Traceback (most recent call last)",
      "\u001b[0;32m/tmp/ipykernel_1052332/3395526306.py\u001b[0m in \u001b[0;36m<module>\u001b[0;34m\u001b[0m\n\u001b[0;32m----> 1\u001b[0;31m \u001b[0m_generator\u001b[0m\u001b[0;34m.\u001b[0m\u001b[0m__next__\u001b[0m\u001b[0;34m(\u001b[0m\u001b[0;34m)\u001b[0m\u001b[0;34m\u001b[0m\u001b[0;34m\u001b[0m\u001b[0m\n\u001b[0m",
      "\u001b[0;31mStopIteration\u001b[0m: "
     ]
    }
   ],
   "source": [
    "_generator.__next__()"
   ]
  },
  {
   "cell_type": "markdown",
   "id": "37b3ecbd-0363-4490-8a94-52dc0b1d51c7",
   "metadata": {},
   "source": [
    "`-` 이건 이런느낌인데? "
   ]
  },
  {
   "cell_type": "code",
   "execution_count": 137,
   "id": "53a7a46d-9dc0-4625-aded-a797a1022207",
   "metadata": {},
   "outputs": [],
   "source": [
    "_generator2 = iter([net.weight,net.bias])"
   ]
  },
  {
   "cell_type": "code",
   "execution_count": 138,
   "id": "d50b9a8f-ab64-4461-a8de-dae1024a0676",
   "metadata": {},
   "outputs": [
    {
     "data": {
      "text/plain": [
       "<list_iterator at 0x7fbea7ffd450>"
      ]
     },
     "execution_count": 138,
     "metadata": {},
     "output_type": "execute_result"
    }
   ],
   "source": [
    "_generator2"
   ]
  },
  {
   "cell_type": "code",
   "execution_count": 139,
   "id": "ac67e0e0-bc1f-4204-abb1-0294b0bc780c",
   "metadata": {},
   "outputs": [
    {
     "data": {
      "text/plain": [
       "Parameter containing:\n",
       "tensor([[0.6258]], requires_grad=True)"
      ]
     },
     "execution_count": 139,
     "metadata": {},
     "output_type": "execute_result"
    }
   ],
   "source": [
    "_generator2.__next__()"
   ]
  },
  {
   "cell_type": "code",
   "execution_count": 140,
   "id": "2e684a49-6f19-4bb9-9474-8229cc3d3c05",
   "metadata": {},
   "outputs": [
    {
     "data": {
      "text/plain": [
       "Parameter containing:\n",
       "tensor([-0.5233], requires_grad=True)"
      ]
     },
     "execution_count": 140,
     "metadata": {},
     "output_type": "execute_result"
    }
   ],
   "source": [
    "_generator2.__next__()"
   ]
  },
  {
   "cell_type": "code",
   "execution_count": 141,
   "id": "de2aa287-a9a9-498e-8c09-e8cce510fca0",
   "metadata": {},
   "outputs": [
    {
     "ename": "StopIteration",
     "evalue": "",
     "output_type": "error",
     "traceback": [
      "\u001b[0;31m---------------------------------------------------------------------------\u001b[0m",
      "\u001b[0;31mStopIteration\u001b[0m                             Traceback (most recent call last)",
      "\u001b[0;32m/tmp/ipykernel_1052332/2722541531.py\u001b[0m in \u001b[0;36m<module>\u001b[0;34m\u001b[0m\n\u001b[0;32m----> 1\u001b[0;31m \u001b[0m_generator2\u001b[0m\u001b[0;34m.\u001b[0m\u001b[0m__next__\u001b[0m\u001b[0;34m(\u001b[0m\u001b[0;34m)\u001b[0m\u001b[0;34m\u001b[0m\u001b[0;34m\u001b[0m\u001b[0m\n\u001b[0m",
      "\u001b[0;31mStopIteration\u001b[0m: "
     ]
    }
   ],
   "source": [
    "_generator2.__next__()"
   ]
  },
  {
   "cell_type": "markdown",
   "id": "7160596d-8239-4a9f-894f-ffa64b05f534",
   "metadata": {},
   "source": [
    "`-` 즉 아래는 같은코드이다. \n",
    "\n",
    "```python\n",
    "### 코드1\n",
    "_generator = net.parameters() \n",
    "torch.optim.SGD(_generator,lr=1/10) \n",
    "### 코드2\n",
    "_generator = iter([net.weight,net.bias])\n",
    "torch.optim.SGD(_generator,lr=1/10) \n",
    "### 코드3 (이렇게 써도 코드2가 실행된다고 이해할 수 있음)\n",
    "_iterator = [net.weight,net.bias]\n",
    "torch.optim.SGD(_iterator,lr=1/10) \n",
    "```"
   ]
  },
  {
   "cell_type": "markdown",
   "id": "fc7e9d0a-e24a-4ba5-95bd-27797aa542c2",
   "metadata": {},
   "source": [
    "결론: `net.parameters()`는 net오브젝트에서 학습할 파라메터를 모두 모아 리스트(iterable object)로 만드는 함수라 이해할 수 있다. "
   ]
  },
  {
   "cell_type": "markdown",
   "id": "f8c78e9d-4372-4f55-8a26-705d38fc8ab0",
   "metadata": {},
   "source": [
    "`-` 응용예제1"
   ]
  },
  {
   "cell_type": "code",
   "execution_count": 142,
   "id": "2cf58ba7-604a-422a-a352-068435212e66",
   "metadata": {},
   "outputs": [],
   "source": [
    "What = torch.tensor([[-5.0],[10.0]],requires_grad=True)\n",
    "optimizr = torch.optim.SGD([What],lr=1/10) "
   ]
  },
  {
   "cell_type": "code",
   "execution_count": 143,
   "id": "0e62b2ae-6f3c-4b77-a2c8-8360a0b95e43",
   "metadata": {},
   "outputs": [
    {
     "data": {
      "text/plain": [
       "[<matplotlib.lines.Line2D at 0x7fbea7eee710>]"
      ]
     },
     "execution_count": 143,
     "metadata": {},
     "output_type": "execute_result"
    },
    {
     "data": {
      "image/png": "[encoded data removed]",
      "text/plain": [
       "<Figure size 432x288 with 1 Axes>"
      ]
     },
     "metadata": {
      "needs_background": "light"
     },
     "output_type": "display_data"
    }
   ],
   "source": [
    "plt.plot(x,y,'o')\n",
    "plt.plot(x,(X@What).data,'--')"
   ]
  },
  {
   "cell_type": "code",
   "execution_count": 144,
   "id": "2cfc141d-c559-41cd-b685-853829212879",
   "metadata": {},
   "outputs": [],
   "source": [
    "for epoc in range(30):\n",
    "    yhat = X@What \n",
    "    loss = torch.mean((y-yhat)**2)\n",
    "    loss.backward()\n",
    "    optimizr.step();optimizr.zero_grad() "
   ]
  },
  {
   "cell_type": "code",
   "execution_count": 145,
   "id": "beb20632-1f16-4b53-b20a-19d8054957ba",
   "metadata": {},
   "outputs": [
    {
     "data": {
      "text/plain": [
       "[<matplotlib.lines.Line2D at 0x7fbea7d1b190>]"
      ]
     },
     "execution_count": 145,
     "metadata": {},
     "output_type": "execute_result"
    },
    {
     "data": {
      "image/png": "[encoded data removed]",
      "text/plain": [
       "<Figure size 432x288 with 1 Axes>"
      ]
     },
     "metadata": {
      "needs_background": "light"
     },
     "output_type": "display_data"
    }
   ],
   "source": [
    "plt.plot(x,y,'o')\n",
    "plt.plot(x,(X@What).data,'--')"
   ]
  },
  {
   "cell_type": "markdown",
   "id": "60eee166-ade5-4283-b8cf-4752f4f7ce8e",
   "metadata": {},
   "source": [
    "`-` 응용예제2"
   ]
  },
  {
   "cell_type": "code",
   "execution_count": 146,
   "id": "f1900319-c737-4a5d-9581-e423ed690923",
   "metadata": {},
   "outputs": [],
   "source": [
    "b = torch.tensor(-5.0,requires_grad=True)\n",
    "w = torch.tensor(10.0,requires_grad=True)\n",
    "optimizr = torch.optim.SGD([b,w],lr=1/10)"
   ]
  },
  {
   "cell_type": "code",
   "execution_count": 147,
   "id": "b4931b51-c48e-4242-8306-06099ea5615b",
   "metadata": {},
   "outputs": [
    {
     "data": {
      "text/plain": [
       "[<matplotlib.lines.Line2D at 0x7fbea7bfd050>]"
      ]
     },
     "execution_count": 147,
     "metadata": {},
     "output_type": "execute_result"
    },
    {
     "data": {
      "image/png": "[encoded data removed]",
      "text/plain": [
       "<Figure size 432x288 with 1 Axes>"
      ]
     },
     "metadata": {
      "needs_background": "light"
     },
     "output_type": "display_data"
    }
   ],
   "source": [
    "plt.plot(x,y,'o')\n",
    "plt.plot(x,(w*x+b).data,'--')"
   ]
  },
  {
   "cell_type": "code",
   "execution_count": 148,
   "id": "e0e57bac-f53a-4260-9355-16384ca20ae5",
   "metadata": {},
   "outputs": [],
   "source": [
    "for epoc in range(30):\n",
    "    yhat = b+ w*x \n",
    "    loss = torch.mean((y-yhat)**2)\n",
    "    loss.backward()\n",
    "    optimizr.step(); optimizr.zero_grad()"
   ]
  },
  {
   "cell_type": "code",
   "execution_count": 149,
   "id": "95a66051-2ba2-499b-9fa4-0ba96378eee1",
   "metadata": {},
   "outputs": [
    {
     "data": {
      "text/plain": [
       "[<matplotlib.lines.Line2D at 0x7fbea799d950>]"
      ]
     },
     "execution_count": 149,
     "metadata": {},
     "output_type": "execute_result"
    },
    {
     "data": {
      "image/png": "[encoded data removed]",
      "text/plain": [
       "<Figure size 432x288 with 1 Axes>"
      ]
     },
     "metadata": {
      "needs_background": "light"
     },
     "output_type": "display_data"
    }
   ],
   "source": [
    "plt.plot(x,y,'o')\n",
    "plt.plot(x,(w*x+b).data,'--')"
   ]
  },
  {
   "cell_type": "markdown",
   "id": "e6c7e1fb-c9b2-4fe9-af4f-1191b738d92f",
   "metadata": {
    "tags": []
   },
   "source": [
    "## Logistic regression "
   ]
  },
  {
   "cell_type": "markdown",
   "id": "2bee3c23-2a81-4d32-b09c-0c1a0f2db049",
   "metadata": {},
   "source": [
    "### motive "
   ]
  },
  {
   "cell_type": "markdown",
   "id": "9bf513f9-2ef7-463d-bf3a-428d2b1a59e9",
   "metadata": {},
   "source": [
    "`-` 현실에서 이런 경우가 많음 \n",
    "- $x$가 커질수록 (혹은 작아질수록) 성공확률이 증가함. "
   ]
  },
  {
   "cell_type": "markdown",
   "id": "6658bd7e-0316-4ae0-aac3-58162ab5047d",
   "metadata": {},
   "source": [
    "`-` (X,y)는 어떤모양? "
   ]
  },
  {
   "cell_type": "code",
   "execution_count": 249,
   "id": "dce6ff9d-88f3-4a72-be79-e27f874c48f4",
   "metadata": {},
   "outputs": [
    {
     "data": {
      "text/html": [
       "<div>\n",
       "<style scoped>\n",
       "    .dataframe tbody tr th:only-of-type {\n",
       "        vertical-align: middle;\n",
       "    }\n",
       "\n",
       "    .dataframe tbody tr th {\n",
       "        vertical-align: top;\n",
       "    }\n",
       "\n",
       "    .dataframe thead th {\n",
       "        text-align: right;\n",
       "    }\n",
       "</style>\n",
       "<table border=\"1\" class=\"dataframe\">\n",
       "  <thead>\n",
       "    <tr style=\"text-align: right;\">\n",
       "      <th></th>\n",
       "      <th>x</th>\n",
       "      <th>y</th>\n",
       "    </tr>\n",
       "  </thead>\n",
       "  <tbody>\n",
       "    <tr>\n",
       "      <th>0</th>\n",
       "      <td>-6</td>\n",
       "      <td>0</td>\n",
       "    </tr>\n",
       "    <tr>\n",
       "      <th>1</th>\n",
       "      <td>-5</td>\n",
       "      <td>0</td>\n",
       "    </tr>\n",
       "    <tr>\n",
       "      <th>2</th>\n",
       "      <td>-4</td>\n",
       "      <td>0</td>\n",
       "    </tr>\n",
       "    <tr>\n",
       "      <th>3</th>\n",
       "      <td>-3</td>\n",
       "      <td>0</td>\n",
       "    </tr>\n",
       "    <tr>\n",
       "      <th>4</th>\n",
       "      <td>-2</td>\n",
       "      <td>0</td>\n",
       "    </tr>\n",
       "    <tr>\n",
       "      <th>5</th>\n",
       "      <td>-1</td>\n",
       "      <td>0</td>\n",
       "    </tr>\n",
       "    <tr>\n",
       "      <th>6</th>\n",
       "      <td>0</td>\n",
       "      <td>1</td>\n",
       "    </tr>\n",
       "    <tr>\n",
       "      <th>7</th>\n",
       "      <td>1</td>\n",
       "      <td>0</td>\n",
       "    </tr>\n",
       "    <tr>\n",
       "      <th>8</th>\n",
       "      <td>2</td>\n",
       "      <td>1</td>\n",
       "    </tr>\n",
       "    <tr>\n",
       "      <th>9</th>\n",
       "      <td>3</td>\n",
       "      <td>1</td>\n",
       "    </tr>\n",
       "    <tr>\n",
       "      <th>10</th>\n",
       "      <td>4</td>\n",
       "      <td>1</td>\n",
       "    </tr>\n",
       "    <tr>\n",
       "      <th>11</th>\n",
       "      <td>5</td>\n",
       "      <td>1</td>\n",
       "    </tr>\n",
       "    <tr>\n",
       "      <th>12</th>\n",
       "      <td>6</td>\n",
       "      <td>1</td>\n",
       "    </tr>\n",
       "  </tbody>\n",
       "</table>\n",
       "</div>"
      ],
      "text/plain": [
       "    x  y\n",
       "0  -6  0\n",
       "1  -5  0\n",
       "2  -4  0\n",
       "3  -3  0\n",
       "4  -2  0\n",
       "5  -1  0\n",
       "6   0  1\n",
       "7   1  0\n",
       "8   2  1\n",
       "9   3  1\n",
       "10  4  1\n",
       "11  5  1\n",
       "12  6  1"
      ]
     },
     "execution_count": 249,
     "metadata": {},
     "output_type": "execute_result"
    }
   ],
   "source": [
    "_df = pd.DataFrame({'x':range(-6,7),'y':[0,0,0,0,0,0,1,0,1,1,1,1,1]})\n",
    "_df "
   ]
  },
  {
   "cell_type": "code",
   "execution_count": 250,
   "id": "9bd41d74-8923-4cae-ab5e-8a61adf3b50e",
   "metadata": {},
   "outputs": [
    {
     "data": {
      "text/plain": [
       "[<matplotlib.lines.Line2D at 0x7f04e2fa6850>]"
      ]
     },
     "execution_count": 250,
     "metadata": {},
     "output_type": "execute_result"
    },
    {
     "data": {
      "image/png": "[encoded data removed]",
      "text/plain": [
       "<Figure size 432x288 with 1 Axes>"
      ]
     },
     "metadata": {
      "needs_background": "light"
     },
     "output_type": "display_data"
    }
   ],
   "source": [
    "plt.plot(_df.x,_df.y,'o')"
   ]
  },
  {
   "cell_type": "markdown",
   "id": "60068a1e-d503-4758-90fa-ad10fcfc2025",
   "metadata": {},
   "source": [
    "`-` (예비학습) 시그모이드라는 함수가 있음 "
   ]
  },
  {
   "cell_type": "code",
   "execution_count": 251,
   "id": "7f7b68e7-28c9-4ac5-8476-527d2c634518",
   "metadata": {},
   "outputs": [],
   "source": [
    "xx = torch.linspace(-6,6,100)\n",
    "def f(x):\n",
    "    return torch.exp(x)/(1+torch.exp(x))"
   ]
  },
  {
   "cell_type": "code",
   "execution_count": 258,
   "id": "1da1e7a8-5591-43ce-a179-f7b6bfd4ad56",
   "metadata": {},
   "outputs": [
    {
     "data": {
      "text/plain": [
       "[<matplotlib.lines.Line2D at 0x7f04e3e87290>]"
      ]
     },
     "execution_count": 258,
     "metadata": {},
     "output_type": "execute_result"
    },
    {
     "data": {
      "image/png": "[encoded data removed]",
      "text/plain": [
       "<Figure size 432x288 with 1 Axes>"
      ]
     },
     "metadata": {
      "needs_background": "light"
     },
     "output_type": "display_data"
    }
   ],
   "source": [
    "plt.plot(_df.x,_df.y,'o')\n",
    "plt.plot(xx,f(xx))"
   ]
  },
  {
   "cell_type": "markdown",
   "id": "3f055133-37f2-4612-8dc3-c2420aed35c0",
   "metadata": {},
   "source": [
    "### model"
   ]
  },
  {
   "cell_type": "markdown",
   "id": "2b9bf9e2-28d7-4a01-b33b-78cbff88c94e",
   "metadata": {},
   "source": [
    "`-` $x$가 커질수록 $y=1$이 잘나오는 모형은 아래와 같이 설계할 수 있음 <--- 외우세요!!!\n",
    "\n",
    "- $y_i \\sim Ber(\\pi_i),\\quad $ where $\\pi_i = \\frac{\\exp(w_0+w_1x_i)}{1+\\exp(w_0+w_1x_i)}$\n",
    "\n",
    "- $\\hat{y}_i= \\frac{\\exp(\\hat{w}_0+\\hat{w}_1x_i)}{1+\\exp(\\hat{w}_0+\\hat{w}_1x_i)}=\\frac{1}{1+\\exp(-\\hat{w}_0-\\hat{w}_1x_i)}$ \n",
    "\n",
    "- $loss= - \\sum_{i=1}^{n} \\big(y_i\\log(\\hat{y}_i)+(1-y_i)\\log(1-\\hat{y}_i)\\big)$ <--- 외우세요!!"
   ]
  },
  {
   "cell_type": "markdown",
   "id": "570c0597-5be1-451f-b8ce-79e3ddf4d2bf",
   "metadata": {},
   "source": [
    "### toy example"
   ]
  },
  {
   "cell_type": "markdown",
   "id": "7631632f-6210-4c97-accd-d1dad7451d15",
   "metadata": {},
   "source": [
    "`-` 예제시작 "
   ]
  },
  {
   "cell_type": "code",
   "execution_count": 271,
   "id": "f63b7e9c-1a17-4d62-b629-f3d71ce392e0",
   "metadata": {},
   "outputs": [],
   "source": [
    "x=torch.linspace(-1,1,2000).reshape(2000,1)\n",
    "w0= -1 \n",
    "w1= 5 \n",
    "u = w0+x*w1 \n",
    "v = torch.exp(u)/(1+torch.exp(u)) # v=πi, 즉 확률을 의미함\n",
    "y = torch.bernoulli(v) "
   ]
  },
  {
   "cell_type": "code",
   "execution_count": 272,
   "id": "c5fb2121-3d2c-4be0-a3d9-255fba0b4877",
   "metadata": {},
   "outputs": [
    {
     "data": {
      "text/plain": [
       "[<matplotlib.lines.Line2D at 0x7f04e2b91b10>]"
      ]
     },
     "execution_count": 272,
     "metadata": {},
     "output_type": "execute_result"
    },
    {
     "data": {
      "image/png": "[encoded data removed]",
      "text/plain": [
       "<Figure size 432x288 with 1 Axes>"
      ]
     },
     "metadata": {
      "needs_background": "light"
     },
     "output_type": "display_data"
    }
   ],
   "source": [
    "plt.scatter(x,y,alpha=0.05)\n",
    "plt.plot(x,v,'--r')"
   ]
  },
  {
   "cell_type": "markdown",
   "id": "4c18e0ff-360b-4990-8aaa-566660cbc36c",
   "metadata": {},
   "source": [
    "- 우리의 목적: $x$가 들어가면 빨간선 $\\hat{y}$의 값을 만들어주는 mapping을 학습해보자. "
   ]
  }
 ],
 "metadata": {
  "kernelspec": {
   "display_name": "Python 3 (ipykernel)",
   "language": "python",
   "name": "python3"
  },
  "language_info": {
   "codemirror_mode": {
    "name": "ipython",
    "version": 3
   },
   "file_extension": ".py",
   "mimetype": "text/x-python",
   "name": "python",
   "nbconvert_exporter": "python",
   "pygments_lexer": "ipython3",
   "version": "3.7.13"
  }
 },
 "nbformat": 4,
 "nbformat_minor": 5
}
