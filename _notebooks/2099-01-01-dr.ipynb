{
 "cells": [
  {
   "cell_type": "markdown",
   "id": "b41d7c16-e307-4547-9896-8550e7ca84e4",
   "metadata": {},
   "source": [
    "# draft"
   ]
  },
  {
   "cell_type": "markdown",
   "id": "e82494cd-bb9e-499e-bbc5-ff9fd203d9eb",
   "metadata": {
    "tags": []
   },
   "source": [
    "## import"
   ]
  },
  {
   "cell_type": "code",
   "execution_count": 1,
   "id": "71ae220c-cadd-452a-83bb-180202704577",
   "metadata": {},
   "outputs": [],
   "source": [
    "import torch\n",
    "import numpy as np\n",
    "import pandas as pd\n",
    "import matplotlib.pyplot as plt"
   ]
  },
  {
   "cell_type": "markdown",
   "id": "83bf827d-9f38-4846-9395-63569ddba13b",
   "metadata": {},
   "source": [
    "## Define some funtions"
   ]
  },
  {
   "cell_type": "code",
   "execution_count": 2,
   "id": "785656e5-2587-46cb-8268-c8a0b0f6d5ad",
   "metadata": {},
   "outputs": [],
   "source": [
    "def f(txt,mapping):\n",
    "    return [mapping[key] for key in txt] \n",
    "soft = torch.nn.Softmax(dim=1)"
   ]
  },
  {
   "cell_type": "markdown",
   "id": "f9b379d4-d8f2-47ba-9e2b-294b4161883b",
   "metadata": {},
   "source": [
    "## Exam4: AbAcAd (3)"
   ]
  },
  {
   "cell_type": "markdown",
   "id": "cbd89d3a-8469-4085-b6aa-44969d161418",
   "metadata": {},
   "source": [
    "### data"
   ]
  },
  {
   "cell_type": "code",
   "execution_count": 49,
   "id": "7b3593c3-205f-4fe2-bebb-fefb31a5a0a2",
   "metadata": {},
   "outputs": [
    {
     "data": {
      "text/plain": [
       "['A', '1', '2', 'a', '1']"
      ]
     },
     "execution_count": 49,
     "metadata": {},
     "output_type": "execute_result"
    }
   ],
   "source": [
    "txt = list('A12a12')*100\n",
    "txt[:5]"
   ]
  },
  {
   "cell_type": "code",
   "execution_count": 50,
   "id": "b4a584e7-cefc-4391-a53f-17adca78da6f",
   "metadata": {},
   "outputs": [],
   "source": [
    "n_words = len(list(pd.Series(txt).unique()))"
   ]
  },
  {
   "cell_type": "code",
   "execution_count": 51,
   "id": "af82c8cb-8a5d-45e1-b611-194fe0d73444",
   "metadata": {},
   "outputs": [
    {
     "data": {
      "text/plain": [
       "{'A': 0, '1': 1, '2': 2, 'a': 3}"
      ]
     },
     "execution_count": 51,
     "metadata": {},
     "output_type": "execute_result"
    }
   ],
   "source": [
    "dct = dict(pd.Series(txt[:n_words]))\n",
    "mapping = dict(zip(dct.values(),dct.keys()))\n",
    "mapping"
   ]
  },
  {
   "cell_type": "code",
   "execution_count": 52,
   "id": "1b365e7b-7167-4ef4-bc16-5bd644542982",
   "metadata": {},
   "outputs": [],
   "source": [
    "txt_x = txt[:-1]\n",
    "txt_y = txt[1:]"
   ]
  },
  {
   "cell_type": "code",
   "execution_count": 53,
   "id": "8d03839d-bce4-4e6d-9138-704d9c014e42",
   "metadata": {},
   "outputs": [
    {
     "data": {
      "text/plain": [
       "(['A', '1', '2', 'a'], ['1', '2', 'a'])"
      ]
     },
     "execution_count": 53,
     "metadata": {},
     "output_type": "execute_result"
    }
   ],
   "source": [
    "txt_x[:4],txt_y[:3]"
   ]
  },
  {
   "cell_type": "code",
   "execution_count": 54,
   "id": "8e7c8b67-1d2b-4902-bc63-010c44aae02f",
   "metadata": {},
   "outputs": [],
   "source": [
    "x = torch.nn.functional.one_hot(torch.tensor(f(txt_x,mapping))).float()\n",
    "y = torch.nn.functional.one_hot(torch.tensor(f(txt_y,mapping))).float()"
   ]
  },
  {
   "cell_type": "code",
   "execution_count": 55,
   "id": "9f8f3382-1b08-4d8e-a501-e7a9445c8b4e",
   "metadata": {},
   "outputs": [
    {
     "data": {
      "text/plain": [
       "(tensor([[1., 0., 0., 0.],\n",
       "         [0., 1., 0., 0.],\n",
       "         [0., 0., 1., 0.],\n",
       "         ...,\n",
       "         [0., 0., 1., 0.],\n",
       "         [0., 0., 0., 1.],\n",
       "         [0., 1., 0., 0.]]),\n",
       " tensor([[0., 1., 0., 0.],\n",
       "         [0., 0., 1., 0.],\n",
       "         [0., 0., 0., 1.],\n",
       "         ...,\n",
       "         [0., 0., 0., 1.],\n",
       "         [0., 1., 0., 0.],\n",
       "         [0., 0., 1., 0.]]))"
      ]
     },
     "execution_count": 55,
     "metadata": {},
     "output_type": "execute_result"
    }
   ],
   "source": [
    "x,y"
   ]
  },
  {
   "cell_type": "markdown",
   "id": "2b26f2b7-c332-4cb8-a5c6-9e427053a48d",
   "metadata": {},
   "source": [
    "### rnn"
   ]
  },
  {
   "cell_type": "code",
   "execution_count": 56,
   "id": "6a05eb7b-430d-4e60-a1f9-5044844ced1e",
   "metadata": {},
   "outputs": [],
   "source": [
    "net1 = torch.nn.RNN(n_words,5)\n",
    "net2 = torch.nn.Linear(5,n_words) \n",
    "loss_fn = torch.nn.CrossEntropyLoss()\n",
    "optimizr = torch.optim.Adam(list(net1.parameters())+list(net2.parameters()))"
   ]
  },
  {
   "cell_type": "code",
   "execution_count": 57,
   "id": "be097dda-e7ce-464e-99cb-11181757c500",
   "metadata": {},
   "outputs": [],
   "source": [
    "for epoc in range(3000):\n",
    "    ## step1 \n",
    "    hidden, hT = net1(x,torch.zeros(1,5))\n",
    "    output = net2(hidden)\n",
    "    ## step2 \n",
    "    loss = loss_fn(output,y)\n",
    "    ## step3 \n",
    "    loss.backward()\n",
    "    ## step4 \n",
    "    optimizr.step()\n",
    "    optimizr.zero_grad()"
   ]
  },
  {
   "cell_type": "code",
   "execution_count": 58,
   "id": "de8862c0-6738-4368-a84a-9d565e183b55",
   "metadata": {},
   "outputs": [],
   "source": [
    "yhat=soft(output)"
   ]
  },
  {
   "cell_type": "code",
   "execution_count": 59,
   "id": "bcc95ec9-8b54-4380-a2c2-6c28e90b3093",
   "metadata": {},
   "outputs": [],
   "source": [
    "combind = torch.concat([hidden,yhat],axis=1)"
   ]
  },
  {
   "cell_type": "code",
   "execution_count": 60,
   "id": "40ef6564-59d8-438d-a730-e6cb5f4ccb60",
   "metadata": {},
   "outputs": [
    {
     "data": {
      "text/plain": [
       "<matplotlib.image.AxesImage at 0x7f0a37789890>"
      ]
     },
     "execution_count": 60,
     "metadata": {},
     "output_type": "execute_result"
    },
    {
     "data": {
      "image/png": "[encoded data removed]",
      "text/plain": [
       "<Figure size 288x960 with 1 Axes>"
      ]
     },
     "metadata": {
      "needs_background": "light"
     },
     "output_type": "display_data"
    }
   ],
   "source": [
    "plt.matshow(combind.data[-30:],cmap='bwr')"
   ]
  },
  {
   "cell_type": "markdown",
   "id": "d5f81b4f-ee3b-4c77-98af-be620242db6e",
   "metadata": {},
   "source": [
    "### LSTM"
   ]
  },
  {
   "cell_type": "markdown",
   "id": "cd298f85-ba92-4598-8e39-301bc932d645",
   "metadata": {},
   "source": [
    "`-` LSTM"
   ]
  },
  {
   "cell_type": "code",
   "execution_count": 61,
   "id": "27d1747f-e08d-475d-8813-a97bac4b2bd4",
   "metadata": {},
   "outputs": [],
   "source": [
    "net1 = torch.nn.LSTM(n_words,5)\n",
    "net2 = torch.nn.Linear(5,n_words) \n",
    "loss_fn = torch.nn.CrossEntropyLoss()\n",
    "optimizr = torch.optim.Adam(list(net1.parameters())+list(net2.parameters()))"
   ]
  },
  {
   "cell_type": "code",
   "execution_count": 62,
   "id": "623368a2-53ba-42b0-8b27-93d5a9456200",
   "metadata": {},
   "outputs": [
    {
     "data": {
      "text/plain": [
       "tensor([[1., 0., 0., 0.],\n",
       "        [0., 1., 0., 0.],\n",
       "        [0., 0., 1., 0.],\n",
       "        ...,\n",
       "        [0., 0., 1., 0.],\n",
       "        [0., 0., 0., 1.],\n",
       "        [0., 1., 0., 0.]])"
      ]
     },
     "execution_count": 62,
     "metadata": {},
     "output_type": "execute_result"
    }
   ],
   "source": [
    "x"
   ]
  },
  {
   "cell_type": "code",
   "execution_count": 63,
   "id": "5f570501-98e2-4228-947a-01b309ec2378",
   "metadata": {},
   "outputs": [],
   "source": [
    "for epoc in range(3000):\n",
    "    ## step1 \n",
    "    hidden, _ = net1(x,(torch.zeros(1,5),torch.zeros(1,5)))\n",
    "    output = net2(hidden)\n",
    "    ## step2 \n",
    "    loss = loss_fn(output,y)\n",
    "    ## step3 \n",
    "    loss.backward()\n",
    "    ## step4 \n",
    "    optimizr.step()\n",
    "    optimizr.zero_grad()"
   ]
  },
  {
   "cell_type": "code",
   "execution_count": 64,
   "id": "1b036e2a-d11c-4466-aeae-855f28dde3e1",
   "metadata": {},
   "outputs": [],
   "source": [
    "yhat=soft(output)"
   ]
  },
  {
   "cell_type": "code",
   "execution_count": 65,
   "id": "af7d35c6-cd4e-4b55-a91d-2daa623be193",
   "metadata": {},
   "outputs": [],
   "source": [
    "combind = torch.concat([hidden,yhat],axis=1)"
   ]
  },
  {
   "cell_type": "code",
   "execution_count": 66,
   "id": "995f744b-4f99-4622-82c9-e43f3eb7f074",
   "metadata": {},
   "outputs": [
    {
     "data": {
      "text/plain": [
       "<matplotlib.image.AxesImage at 0x7f0a376a1f10>"
      ]
     },
     "execution_count": 66,
     "metadata": {},
     "output_type": "execute_result"
    },
    {
     "data": {
      "image/png": "[encoded data removed]",
      "text/plain": [
       "<Figure size 288x960 with 1 Axes>"
      ]
     },
     "metadata": {
      "needs_background": "light"
     },
     "output_type": "display_data"
    }
   ],
   "source": [
    "plt.matshow(combind.data[-30:],cmap='bwr')"
   ]
  }
 ],
 "metadata": {
  "kernelspec": {
   "display_name": "Python 3 (ipykernel)",
   "language": "python",
   "name": "python3"
  },
  "language_info": {
   "codemirror_mode": {
    "name": "ipython",
    "version": 3
   },
   "file_extension": ".py",
   "mimetype": "text/x-python",
   "name": "python",
   "nbconvert_exporter": "python",
   "pygments_lexer": "ipython3",
   "version": "3.7.13"
  }
 },
 "nbformat": 4,
 "nbformat_minor": 5
}
