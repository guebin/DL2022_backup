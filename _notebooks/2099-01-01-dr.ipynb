{
 "cells": [
  {
   "cell_type": "markdown",
   "id": "cc21cbee-a54b-483c-b45b-0b4ca270128b",
   "metadata": {},
   "source": [
    "# draft"
   ]
  },
  {
   "cell_type": "markdown",
   "id": "77bba164-61b8-42e7-b8ac-1246b243b49e",
   "metadata": {
    "tags": []
   },
   "source": [
    "## import"
   ]
  },
  {
   "cell_type": "code",
   "execution_count": 1,
   "id": "2eece48e-5748-475e-a5a9-a7060f5a8fdf",
   "metadata": {},
   "outputs": [],
   "source": [
    "import torch\n",
    "import numpy as np\n",
    "import pandas as pd\n",
    "import matplotlib.pyplot as plt\n",
    "import time "
   ]
  },
  {
   "cell_type": "markdown",
   "id": "86fc2fdd-4a82-4043-b81d-74dd0fb62776",
   "metadata": {},
   "source": [
    "## Define some funtions"
   ]
  },
  {
   "cell_type": "code",
   "execution_count": 2,
   "id": "c06f7544-de47-46e5-9956-059b626e4f0d",
   "metadata": {},
   "outputs": [],
   "source": [
    "def f(txt,mapping):\n",
    "    return [mapping[key] for key in txt] \n",
    "soft = torch.nn.Softmax(dim=1)"
   ]
  },
  {
   "cell_type": "markdown",
   "id": "7b568025-c455-4d2d-b8d0-618301206099",
   "metadata": {},
   "source": [
    "### 순환신경망 구현2 (with RNNCell) -- 성공 "
   ]
  },
  {
   "cell_type": "markdown",
   "id": "d070fa42-5e5e-4842-b373-abc31d623290",
   "metadata": {},
   "source": [
    "ref: https://pytorch.org/docs/stable/generated/torch.nn.RNNCell.html"
   ]
  },
  {
   "cell_type": "markdown",
   "id": "7ed2fcff-77bf-4328-a9ae-5c9d02fac5fc",
   "metadata": {},
   "source": [
    "`(1)` 숙성네트워크"
   ]
  },
  {
   "cell_type": "markdown",
   "id": "e5ab9e0f-ef9b-46bf-a47d-88db3d916e58",
   "metadata": {},
   "source": [
    "선언"
   ]
  },
  {
   "cell_type": "code",
   "execution_count": 4,
   "id": "88800d53-a985-49b5-a16b-153e628ce559",
   "metadata": {},
   "outputs": [],
   "source": [
    "torch.manual_seed(43052)\n",
    "rnncell = torch.nn.RNNCell(4,2)"
   ]
  },
  {
   "cell_type": "markdown",
   "id": "cdcf5852-d78d-406e-8169-f63fdade150a",
   "metadata": {},
   "source": [
    "`(2)` 조리네트워크"
   ]
  },
  {
   "cell_type": "code",
   "execution_count": 5,
   "id": "019b4b25-fc66-4a0e-aaf8-8ebb37589f5f",
   "metadata": {},
   "outputs": [],
   "source": [
    "torch.manual_seed(43052)\n",
    "cook = torch.nn.Linear(2,4) # 조리담당"
   ]
  },
  {
   "cell_type": "markdown",
   "id": "1e5df109-6cea-4621-bd6f-db5aeb6d24f1",
   "metadata": {},
   "source": [
    "`(3)` 손실함수와 옵티마이저 "
   ]
  },
  {
   "cell_type": "code",
   "execution_count": 6,
   "id": "7102fbfb-c984-4a1a-9760-3d07de75b76e",
   "metadata": {},
   "outputs": [],
   "source": [
    "loss_fn = torch.nn.CrossEntropyLoss() \n",
    "optimizr = torch.optim.Adam(list(rnncell.parameters())+list(cook.parameters())) # 우리가 배울것: 숙성하는 방법 + 요리하는 방법 "
   ]
  },
  {
   "cell_type": "markdown",
   "id": "880e24ed-63c3-4667-949f-3b314509d6e3",
   "metadata": {},
   "source": [
    "`(4)` 학습"
   ]
  },
  {
   "cell_type": "code",
   "execution_count": 7,
   "id": "88446a8b-8581-402f-8224-e6c9a127b788",
   "metadata": {},
   "outputs": [
    {
     "ename": "NameError",
     "evalue": "name 'x' is not defined",
     "output_type": "error",
     "traceback": [
      "\u001b[0;31m---------------------------------------------------------------------------\u001b[0m",
      "\u001b[0;31mNameError\u001b[0m                                 Traceback (most recent call last)",
      "\u001b[0;32m/tmp/ipykernel_41718/616103201.py\u001b[0m in \u001b[0;36m<module>\u001b[0;34m\u001b[0m\n\u001b[0;32m----> 1\u001b[0;31m \u001b[0mT\u001b[0m \u001b[0;34m=\u001b[0m \u001b[0mlen\u001b[0m\u001b[0;34m(\u001b[0m\u001b[0mx\u001b[0m\u001b[0;34m)\u001b[0m\u001b[0;34m\u001b[0m\u001b[0;34m\u001b[0m\u001b[0m\n\u001b[0m\u001b[1;32m      2\u001b[0m \u001b[0mt1\u001b[0m \u001b[0;34m=\u001b[0m \u001b[0mtime\u001b[0m\u001b[0;34m.\u001b[0m\u001b[0mtime\u001b[0m\u001b[0;34m(\u001b[0m\u001b[0;34m)\u001b[0m\u001b[0;34m\u001b[0m\u001b[0;34m\u001b[0m\u001b[0m\n\u001b[1;32m      3\u001b[0m \u001b[0;32mfor\u001b[0m \u001b[0mepoc\u001b[0m \u001b[0;32min\u001b[0m \u001b[0mrange\u001b[0m\u001b[0;34m(\u001b[0m\u001b[0;36m5000\u001b[0m\u001b[0;34m)\u001b[0m\u001b[0;34m:\u001b[0m\u001b[0;34m\u001b[0m\u001b[0;34m\u001b[0m\u001b[0m\n\u001b[1;32m      4\u001b[0m     \u001b[0;31m## 1~2\u001b[0m\u001b[0;34m\u001b[0m\u001b[0;34m\u001b[0m\u001b[0;34m\u001b[0m\u001b[0m\n\u001b[1;32m      5\u001b[0m     \u001b[0mloss\u001b[0m \u001b[0;34m=\u001b[0m \u001b[0;36m0\u001b[0m\u001b[0;34m\u001b[0m\u001b[0;34m\u001b[0m\u001b[0m\n",
      "\u001b[0;31mNameError\u001b[0m: name 'x' is not defined"
     ]
    }
   ],
   "source": [
    "T = len(x)\n",
    "t1 = time.time()\n",
    "for epoc in range(5000):\n",
    "    ## 1~2\n",
    "    loss = 0 \n",
    "    ht = torch.zeros(1,2)\n",
    "    for t in range(T):\n",
    "        xt, yt = x[[t]], y[[t]]       \n",
    "        ht = rnncell(xt,ht) \n",
    "        ot = cook(ht)\n",
    "        loss = loss + loss_fn(ot,yt) \n",
    "    loss = loss/T \n",
    "    ## 3 \n",
    "    loss.backward()\n",
    "    ## 4 \n",
    "    optimizr.step()\n",
    "    optimizr.zero_grad()\n",
    "t2 = time.time() \n",
    "t2-t1"
   ]
  },
  {
   "cell_type": "markdown",
   "id": "cc1f4386-dcbd-484e-9f38-b9c4b83a8e56",
   "metadata": {},
   "source": [
    "`(5)` 시각화 "
   ]
  },
  {
   "cell_type": "code",
   "execution_count": 30,
   "id": "a56db321-afb0-4702-af34-be436dcbd126",
   "metadata": {},
   "outputs": [],
   "source": [
    "T = len(x) \n",
    "hidden = torch.zeros(T,2) # 599년치 h를 담을 변수 \n",
    "_water = torch.zeros(1,2) # 맹물 \n",
    "hidden[[0]] = rnncell(x[[0]],_water) \n",
    "for t in range(1,T):\n",
    "    hidden[[t]] = rnncell(x[[t]],hidden[[t-1]])"
   ]
  },
  {
   "cell_type": "code",
   "execution_count": 31,
   "id": "e154e49c-0ea6-4d75-92aa-93b82de2d02e",
   "metadata": {},
   "outputs": [
    {
     "data": {
      "text/plain": [
       "tensor([[1.6522e-02, 6.2036e-01, 1.0433e-01, 2.5879e-01],\n",
       "        [9.9965e-01, 6.5788e-05, 1.8450e-05, 2.6785e-04],\n",
       "        [7.6673e-05, 1.9704e-01, 8.0201e-01, 8.7218e-04],\n",
       "        ...,\n",
       "        [7.4634e-05, 1.9501e-01, 8.0407e-01, 8.4751e-04],\n",
       "        [9.4785e-01, 7.4712e-03, 6.1181e-04, 4.4064e-02],\n",
       "        [3.6306e-02, 1.2466e-01, 2.8862e-03, 8.3615e-01]],\n",
       "       grad_fn=<SoftmaxBackward0>)"
      ]
     },
     "execution_count": 31,
     "metadata": {},
     "output_type": "execute_result"
    }
   ],
   "source": [
    "yhat = soft(cook(hidden))\n",
    "yhat "
   ]
  },
  {
   "cell_type": "code",
   "execution_count": 32,
   "id": "adcb05d4-37f3-45e6-ab44-c59aa7285ca8",
   "metadata": {},
   "outputs": [
    {
     "data": {
      "text/plain": [
       "<matplotlib.image.AxesImage at 0x7fdfd058f8d0>"
      ]
     },
     "execution_count": 32,
     "metadata": {},
     "output_type": "execute_result"
    },
    {
     "data": {
      "image/png": "[encoded data removed]",
      "text/plain": [
       "<Figure size 288x1080 with 1 Axes>"
      ]
     },
     "metadata": {
      "needs_background": "light"
     },
     "output_type": "display_data"
    }
   ],
   "source": [
    "plt.matshow(yhat.data[-15:])"
   ]
  },
  {
   "cell_type": "markdown",
   "id": "7d1a9972-fced-474b-8577-11a8eb9826f9",
   "metadata": {},
   "source": [
    "### 순환신경망 구현3 (with RNN) -- 성공 "
   ]
  },
  {
   "cell_type": "markdown",
   "id": "8abe98c1-28a1-46a2-9740-fdc2e2ada8c3",
   "metadata": {},
   "source": [
    "---"
   ]
  },
  {
   "cell_type": "markdown",
   "id": "94aab58e-98b2-4817-8ef4-615f1ecfe84c",
   "metadata": {},
   "source": [
    "(예비학습)"
   ]
  },
  {
   "cell_type": "markdown",
   "id": "2ca0471c-7515-4cd7-8469-1d0914a6405d",
   "metadata": {},
   "source": [
    "`-` 아무리 생각해도 yhat구하려면 좀 귀찮음"
   ]
  },
  {
   "cell_type": "code",
   "execution_count": 33,
   "id": "2b37f41d-b989-4575-8f15-24ae1687ec2e",
   "metadata": {},
   "outputs": [],
   "source": [
    "T = len(x) \n",
    "hidden = torch.zeros(T,2) # 599년치 h를 담을 변수 \n",
    "_water = torch.zeros(1,2) # 맹물 \n",
    "hidden[[0]] = rnncell(x[[0]],_water) \n",
    "for t in range(1,T):\n",
    "    hidden[[t]] = rnncell(x[[t]],hidden[[t-1]])"
   ]
  },
  {
   "cell_type": "code",
   "execution_count": 34,
   "id": "b704f8ca-262c-47af-beee-204248701729",
   "metadata": {},
   "outputs": [
    {
     "data": {
      "text/plain": [
       "tensor([[1.6522e-02, 6.2036e-01, 1.0433e-01, 2.5879e-01],\n",
       "        [9.9965e-01, 6.5788e-05, 1.8450e-05, 2.6785e-04],\n",
       "        [7.6673e-05, 1.9704e-01, 8.0201e-01, 8.7218e-04],\n",
       "        ...,\n",
       "        [7.4634e-05, 1.9501e-01, 8.0407e-01, 8.4751e-04],\n",
       "        [9.4785e-01, 7.4712e-03, 6.1181e-04, 4.4064e-02],\n",
       "        [3.6306e-02, 1.2466e-01, 2.8862e-03, 8.3615e-01]],\n",
       "       grad_fn=<SoftmaxBackward0>)"
      ]
     },
     "execution_count": 34,
     "metadata": {},
     "output_type": "execute_result"
    }
   ],
   "source": [
    "soft(cook(hidden))"
   ]
  },
  {
   "cell_type": "markdown",
   "id": "ceb40461-3e6d-49ef-a95b-8c3d3f9bed7e",
   "metadata": {},
   "source": [
    "`-` 이렇게 하면 쉽게(?) 구할 수 있음 "
   ]
  },
  {
   "cell_type": "code",
   "execution_count": 35,
   "id": "cd412ac3-9c0a-4240-8a6d-f5c3f836cf74",
   "metadata": {},
   "outputs": [],
   "source": [
    "rnn = torch.nn.RNN(4,2) "
   ]
  },
  {
   "cell_type": "code",
   "execution_count": 36,
   "id": "29d50195-e207-4539-9acd-2fd7a43c4d75",
   "metadata": {},
   "outputs": [],
   "source": [
    "rnn.weight_hh_l0.data = rnncell.weight_hh.data \n",
    "rnn.bias_hh_l0.data = rnncell.bias_hh.data \n",
    "rnn.weight_ih_l0.data = rnncell.weight_ih.data \n",
    "rnn.bias_ih_l0.data = rnncell.bias_ih.data "
   ]
  },
  {
   "cell_type": "code",
   "execution_count": 37,
   "id": "b970ba18-4c19-41cf-b3a6-ee7890495158",
   "metadata": {},
   "outputs": [
    {
     "data": {
      "text/plain": [
       "tensor([[0., 0.]])"
      ]
     },
     "execution_count": 37,
     "metadata": {},
     "output_type": "execute_result"
    }
   ],
   "source": [
    "_water"
   ]
  },
  {
   "cell_type": "code",
   "execution_count": 38,
   "id": "92fee4b8-423b-4d3d-9b58-d7094d58bdef",
   "metadata": {},
   "outputs": [
    {
     "data": {
      "text/plain": [
       "tensor([[1.6522e-02, 6.2036e-01, 1.0433e-01, 2.5879e-01],\n",
       "        [9.9965e-01, 6.5788e-05, 1.8450e-05, 2.6785e-04],\n",
       "        [7.6673e-05, 1.9704e-01, 8.0201e-01, 8.7218e-04],\n",
       "        ...,\n",
       "        [7.4634e-05, 1.9501e-01, 8.0407e-01, 8.4751e-04],\n",
       "        [9.4785e-01, 7.4712e-03, 6.1181e-04, 4.4064e-02],\n",
       "        [3.6306e-02, 1.2466e-01, 2.8862e-03, 8.3615e-01]],\n",
       "       grad_fn=<SoftmaxBackward0>)"
      ]
     },
     "execution_count": 38,
     "metadata": {},
     "output_type": "execute_result"
    }
   ],
   "source": [
    "soft(cook(rnn(x,_water)[0]))"
   ]
  },
  {
   "cell_type": "markdown",
   "id": "d8401ef7-cb66-482a-82ef-1d7227c2dbba",
   "metadata": {},
   "source": [
    "- 똑같음!"
   ]
  },
  {
   "cell_type": "markdown",
   "id": "55cae3ec-22fa-4658-b603-5a0d79cdf5ad",
   "metadata": {},
   "source": [
    "`-` rnn(x,_water)의 결과는 (1) 599년치 간장 (2) 599번째 간장 이다 "
   ]
  },
  {
   "cell_type": "code",
   "execution_count": 39,
   "id": "84f109e6-ceab-472b-8163-330fefec5636",
   "metadata": {},
   "outputs": [
    {
     "data": {
      "text/plain": [
       "(tensor([[-0.2232,  0.9769],\n",
       "         [-0.9999, -0.9742],\n",
       "         [ 0.9154,  0.9992],\n",
       "         ...,\n",
       "         [ 0.9200,  0.9992],\n",
       "         [-0.9978, -0.0823],\n",
       "         [-0.9154,  0.9965]], grad_fn=<SqueezeBackward1>),\n",
       " tensor([[-0.9154,  0.9965]], grad_fn=<SqueezeBackward1>))"
      ]
     },
     "execution_count": 39,
     "metadata": {},
     "output_type": "execute_result"
    }
   ],
   "source": [
    "rnn(x,_water)"
   ]
  },
  {
   "cell_type": "markdown",
   "id": "34575355-d01e-48ff-89c1-ce3ba12e45be",
   "metadata": {},
   "source": [
    "***(예비학습결론) torch.nn.RNN(4,2)는 torch.nn.RNNCell(4,2)의 batch 버전이다. (for문이 포함된 버전이다)***"
   ]
  },
  {
   "cell_type": "markdown",
   "id": "8dca19d0-475f-4758-a933-df6d8f0e816b",
   "metadata": {},
   "source": [
    "---"
   ]
  },
  {
   "cell_type": "markdown",
   "id": "35077f0a-5f9b-497f-acca-280f23448065",
   "metadata": {},
   "source": [
    "torch.nn.RNN(4,2)를 이용하여 구현하자. "
   ]
  },
  {
   "cell_type": "markdown",
   "id": "1dca9963-4397-42d8-9c3c-c73ce76b6e76",
   "metadata": {},
   "source": [
    "`(1)` 숙성네트워크"
   ]
  },
  {
   "cell_type": "markdown",
   "id": "7b8c0563-54e2-4782-905e-3c5b1e4992a9",
   "metadata": {},
   "source": [
    "선언"
   ]
  },
  {
   "cell_type": "code",
   "execution_count": 40,
   "id": "f3bbef6f-70de-44b1-b4cb-5fc2abcf7165",
   "metadata": {},
   "outputs": [],
   "source": [
    "rnn = torch.nn.RNN(4,2)"
   ]
  },
  {
   "cell_type": "markdown",
   "id": "3714c988-b308-4226-b917-db22235d3564",
   "metadata": {},
   "source": [
    "가중치초기화"
   ]
  },
  {
   "cell_type": "code",
   "execution_count": 41,
   "id": "5886c362-e939-483a-8a46-9d30c4214505",
   "metadata": {},
   "outputs": [],
   "source": [
    "torch.manual_seed(43052)\n",
    "_rnncell = rNNCell() "
   ]
  },
  {
   "cell_type": "code",
   "execution_count": 42,
   "id": "39faf394-bfcd-4fbe-87b0-3e69e1bb5a1b",
   "metadata": {},
   "outputs": [],
   "source": [
    "rnn.weight_ih_l0.data = _rnncell.i2h.weight.data\n",
    "rnn.bias_ih_l0.data = _rnncell.i2h.bias.data\n",
    "rnn.weight_hh_l0.data = _rnncell.h2h.weight.data\n",
    "rnn.bias_hh_l0.data = _rnncell.h2h.bias.data"
   ]
  },
  {
   "cell_type": "markdown",
   "id": "d05202be-9e0b-4275-b8ab-24e4287ddc38",
   "metadata": {},
   "source": [
    "`(2)` 조리네트워크"
   ]
  },
  {
   "cell_type": "code",
   "execution_count": 43,
   "id": "10c7fcf0-2a58-414b-b32a-095cff591707",
   "metadata": {},
   "outputs": [],
   "source": [
    "torch.manual_seed(43052)\n",
    "cook = torch.nn.Linear(2,4)"
   ]
  },
  {
   "cell_type": "markdown",
   "id": "2458624f-d55b-4a10-9816-3ee3e2f3cba3",
   "metadata": {},
   "source": [
    "`(3)` 손실함수와 옵티마이저"
   ]
  },
  {
   "cell_type": "code",
   "execution_count": 44,
   "id": "76e1a42e-fc16-4436-acc7-4ee1f5f04063",
   "metadata": {},
   "outputs": [],
   "source": [
    "loss_fn = torch.nn.CrossEntropyLoss() \n",
    "optimizr = torch.optim.Adam(list(rnn.parameters())+list(cook.parameters())) # 우리가 배울것: 숙성하는 방법 + 요리하는 방법 "
   ]
  },
  {
   "cell_type": "markdown",
   "id": "55794958-affc-4bcf-92b0-513295e5fa6d",
   "metadata": {},
   "source": [
    "`(4)` 학습"
   ]
  },
  {
   "cell_type": "code",
   "execution_count": 45,
   "id": "1c7a66ae-5cf7-4f5d-bb05-9cf33a03bb81",
   "metadata": {},
   "outputs": [
    {
     "data": {
      "text/plain": [
       "63.54761457443237"
      ]
     },
     "execution_count": 45,
     "metadata": {},
     "output_type": "execute_result"
    }
   ],
   "source": [
    "t1 = time.time()\n",
    "for epoc in range(5000):\n",
    "    ## 1\n",
    "    _water = torch.zeros(1,2)\n",
    "    hidden, _ = rnn(x,_water)\n",
    "    output = cook(hidden)\n",
    "    ## 2 \n",
    "    loss = loss_fn(output,y) \n",
    "    ## 3 \n",
    "    loss.backward()\n",
    "    ## 4 \n",
    "    optimizr.step()\n",
    "    optimizr.zero_grad()\n",
    "t2 = time.time() \n",
    "t2-t1"
   ]
  },
  {
   "cell_type": "markdown",
   "id": "81f37198-430a-4cc7-8dca-16758dda58a7",
   "metadata": {},
   "source": [
    "`(5)` 시각화"
   ]
  },
  {
   "cell_type": "code",
   "execution_count": 46,
   "id": "e0b621c7-406e-4a2e-934b-d7ba930877d6",
   "metadata": {},
   "outputs": [
    {
     "data": {
      "text/plain": [
       "tensor([[1.6522e-02, 6.2036e-01, 1.0433e-01, 2.5879e-01],\n",
       "        [9.9965e-01, 6.5788e-05, 1.8450e-05, 2.6785e-04],\n",
       "        [7.6673e-05, 1.9704e-01, 8.0201e-01, 8.7218e-04],\n",
       "        ...,\n",
       "        [7.4634e-05, 1.9501e-01, 8.0407e-01, 8.4751e-04],\n",
       "        [9.4785e-01, 7.4711e-03, 6.1181e-04, 4.4064e-02],\n",
       "        [3.6306e-02, 1.2466e-01, 2.8862e-03, 8.3615e-01]],\n",
       "       grad_fn=<SoftmaxBackward0>)"
      ]
     },
     "execution_count": 46,
     "metadata": {},
     "output_type": "execute_result"
    }
   ],
   "source": [
    "yhat = soft(cook(rnn(x,_water)[0]))\n",
    "yhat"
   ]
  },
  {
   "cell_type": "code",
   "execution_count": 47,
   "id": "938c77e4-76d8-4377-958d-a17c905cd1f1",
   "metadata": {},
   "outputs": [
    {
     "data": {
      "text/plain": [
       "<matplotlib.image.AxesImage at 0x7fdfd0634150>"
      ]
     },
     "execution_count": 47,
     "metadata": {},
     "output_type": "execute_result"
    },
    {
     "data": {
      "image/png": "[encoded data removed]",
      "text/plain": [
       "<Figure size 288x1080 with 1 Axes>"
      ]
     },
     "metadata": {
      "needs_background": "light"
     },
     "output_type": "display_data"
    }
   ],
   "source": [
    "plt.matshow(yhat.data[:15])"
   ]
  }
 ],
 "metadata": {
  "kernelspec": {
   "display_name": "Python 3 (ipykernel)",
   "language": "python",
   "name": "python3"
  },
  "language_info": {
   "codemirror_mode": {
    "name": "ipython",
    "version": 3
   },
   "file_extension": ".py",
   "mimetype": "text/x-python",
   "name": "python",
   "nbconvert_exporter": "python",
   "pygments_lexer": "ipython3",
   "version": "3.7.13"
  }
 },
 "nbformat": 4,
 "nbformat_minor": 5
}
