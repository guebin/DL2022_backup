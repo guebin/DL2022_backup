{
 "cells": [
  {
   "cell_type": "markdown",
   "id": "7cab5fb8-123b-4a58-bfbc-cd0b97e39c1f",
   "metadata": {},
   "source": [
    "# dr "
   ]
  },
  {
   "cell_type": "markdown",
   "id": "1aa1b6b8-ecc1-4c38-be7b-b63328b44ec3",
   "metadata": {},
   "source": [
    "### 조금 낯선 표현 "
   ]
  },
  {
   "cell_type": "code",
   "execution_count": 95,
   "id": "a384b1a7-9ef3-4f2d-81a1-a623bcb32a61",
   "metadata": {},
   "outputs": [],
   "source": [
    "## net \n",
    "i2h = torch.nn.Embedding(num_embeddings=4,embedding_dim=2)\n",
    "    # 4 is input size, 2 is hidden size \n",
    "tanh = torch.nn.Tanh()\n",
    "h2o = torch.nn.Linear(in_features=2,out_features=4)\n",
    "    # 2 is hidden size, 4 is output size \n",
    "    \n",
    "## loss_fn\n",
    "loss_fn = torch.nn.CrossEntropyLoss()\n",
    "## optimizr \n",
    "# optimizr = torch.optim.Adam(net.parameters())"
   ]
  },
  {
   "cell_type": "markdown",
   "id": "a806ef08-7a8d-44d4-a573-e66d8b32193a",
   "metadata": {},
   "source": [
    "`-` step1~2"
   ]
  },
  {
   "cell_type": "markdown",
   "id": "cfa4afe5-2faa-4e46-89b4-9b53ee6a229c",
   "metadata": {},
   "source": [
    "(for문을 이용하여 loss구하기)"
   ]
  },
  {
   "cell_type": "code",
   "execution_count": 96,
   "id": "f77c81ee-8d37-4cfa-8e20-91dab6f13925",
   "metadata": {},
   "outputs": [],
   "source": [
    "T = len(x)"
   ]
  },
  {
   "cell_type": "code",
   "execution_count": 97,
   "id": "1fcb053a-4bb0-440b-8e6c-8956bd644329",
   "metadata": {},
   "outputs": [
    {
     "data": {
      "text/plain": [
       "tensor(1.5047, grad_fn=<DivBackward0>)"
      ]
     },
     "execution_count": 97,
     "metadata": {},
     "output_type": "execute_result"
    }
   ],
   "source": [
    "loss = 0 \n",
    "for t in range(T):\n",
    "    x_t = x[[t]]\n",
    "    y_t = y[[t]]\n",
    "    h_t = tanh(i2h(x_t))\n",
    "    yhat_t = h2o(h_t) # softmax 전 \n",
    "    loss += loss_fn(yhat_t,y_t) \n",
    "loss = loss/T\n",
    "loss"
   ]
  },
  {
   "cell_type": "markdown",
   "id": "3d51f27d-6947-4930-95f4-96d6abd623bf",
   "metadata": {},
   "source": [
    "(하던대로 loss구하기)"
   ]
  },
  {
   "cell_type": "code",
   "execution_count": 98,
   "id": "616aeeb6-667e-49d2-95e3-691b5e8edf52",
   "metadata": {},
   "outputs": [
    {
     "data": {
      "text/plain": [
       "tensor(1.5047, grad_fn=<NllLossBackward0>)"
      ]
     },
     "execution_count": 98,
     "metadata": {},
     "output_type": "execute_result"
    }
   ],
   "source": [
    "net = torch.nn.Sequential(i2h,tanh,h2o)\n",
    "loss_fn(net(x),y)"
   ]
  },
  {
   "cell_type": "markdown",
   "id": "fa048da6-8d65-4385-929c-415cf91d9a99",
   "metadata": {},
   "source": [
    "`-` step3"
   ]
  },
  {
   "cell_type": "code",
   "execution_count": 99,
   "id": "ab2d8853-9510-4188-a8de-52a55bd88eb4",
   "metadata": {},
   "outputs": [],
   "source": [
    "loss.backward()"
   ]
  },
  {
   "cell_type": "markdown",
   "id": "49286de1-fa80-4ddb-9637-fdfa6987a33b",
   "metadata": {},
   "source": [
    "`-` step4"
   ]
  },
  {
   "cell_type": "code",
   "execution_count": 100,
   "id": "617addf0-cf42-4a05-ae45-15dfa0a6ca60",
   "metadata": {},
   "outputs": [],
   "source": [
    "# \n",
    "# optimizr = torch.optim.Adam(net.parameters()) <-- 여기서 막힌다.."
   ]
  },
  {
   "cell_type": "markdown",
   "id": "7d2c765e-e0a0-4ea1-a4f1-8a52c96340ab",
   "metadata": {},
   "source": [
    "---"
   ]
  },
  {
   "cell_type": "markdown",
   "id": "5cb60b29-075a-4e73-999f-80205ad680e4",
   "metadata": {},
   "source": [
    "완성하려면?"
   ]
  },
  {
   "cell_type": "markdown",
   "id": "a72c4b37-95e6-4fb2-b7d6-aede1ac68aca",
   "metadata": {},
   "source": [
    "`-` step1~2"
   ]
  },
  {
   "cell_type": "code",
   "execution_count": 101,
   "id": "4c7f5583-50a9-42a5-8915-452d4cb8daae",
   "metadata": {},
   "outputs": [],
   "source": [
    "class RNN0(torch.nn.Module): ## RNN을 이해하기 위한 네트워크, 실제로 순환신경망은 아님\n",
    "    def __init__(self):\n",
    "        super().__init__()\n",
    "        self.i2h = torch.nn.Embedding(num_embeddings=4,embedding_dim=2)\n",
    "        self.tanh = torch.nn.Tanh()\n",
    "        self.h2o = torch.nn.Linear(in_features=2,out_features=4)\n",
    "    def forward(self,x_t):\n",
    "        h_t = self.tanh(self.i2h(x_t))\n",
    "        yhat_t = self.h2o(h_t)\n",
    "        return yhat_t "
   ]
  },
  {
   "cell_type": "code",
   "execution_count": 102,
   "id": "52747d37-3f1a-4c18-a748-beec98763192",
   "metadata": {},
   "outputs": [],
   "source": [
    "rnn0 = RNN0()"
   ]
  },
  {
   "cell_type": "code",
   "execution_count": 103,
   "id": "da3659ed-714b-454e-86cd-37f4e983a156",
   "metadata": {},
   "outputs": [
    {
     "data": {
      "text/plain": [
       "tensor(1.5421, grad_fn=<DivBackward0>)"
      ]
     },
     "execution_count": 103,
     "metadata": {},
     "output_type": "execute_result"
    }
   ],
   "source": [
    "loss = 0 \n",
    "for t in range(T):\n",
    "    x_t = x[[t]]\n",
    "    y_t = y[[t]]\n",
    "    yhat_t = rnn0(x_t)\n",
    "    loss += loss_fn(yhat_t,y_t) \n",
    "loss = loss/T\n",
    "loss"
   ]
  },
  {
   "cell_type": "markdown",
   "id": "08724f75-adb7-46d0-870f-9f9121bb9f09",
   "metadata": {},
   "source": [
    "(잘 코딩했나 확인)"
   ]
  },
  {
   "cell_type": "code",
   "execution_count": 104,
   "id": "a53fa00e-74ae-4b4e-8f92-f0934253f869",
   "metadata": {},
   "outputs": [],
   "source": [
    "net = torch.nn.Sequential(\n",
    "    rnn0.i2h,\n",
    "    rnn0.tanh,\n",
    "    rnn0.h2o\n",
    ")"
   ]
  },
  {
   "cell_type": "code",
   "execution_count": 105,
   "id": "8901fb91-1009-416f-852b-7dfe3b2fc0b3",
   "metadata": {},
   "outputs": [
    {
     "data": {
      "text/plain": [
       "tensor(1.5421, grad_fn=<NllLossBackward0>)"
      ]
     },
     "execution_count": 105,
     "metadata": {},
     "output_type": "execute_result"
    }
   ],
   "source": [
    "loss_fn(net(x),y)"
   ]
  },
  {
   "cell_type": "markdown",
   "id": "9eb894cb-fa67-4498-bfae-5d1db01df6f5",
   "metadata": {},
   "source": [
    "`-` step3"
   ]
  },
  {
   "cell_type": "code",
   "execution_count": 106,
   "id": "ddf8eb8d-d577-4eca-80cf-3046796a92c0",
   "metadata": {},
   "outputs": [],
   "source": [
    "loss.backward()"
   ]
  },
  {
   "cell_type": "markdown",
   "id": "847a128f-2a0c-460b-a3b7-acfa7d254459",
   "metadata": {},
   "source": [
    "`-` step4"
   ]
  },
  {
   "cell_type": "code",
   "execution_count": 107,
   "id": "83e0a91a-352b-45bf-8ec5-40814585fb29",
   "metadata": {},
   "outputs": [],
   "source": [
    "optimizr = torch.optim.Adam(rnn0.parameters())"
   ]
  },
  {
   "cell_type": "code",
   "execution_count": 108,
   "id": "b0abb199-4f78-4e08-8251-fd64014b3e36",
   "metadata": {},
   "outputs": [],
   "source": [
    "optimizr.step()\n",
    "optimizr.zero_grad()"
   ]
  },
  {
   "cell_type": "markdown",
   "id": "cb62f4a3-caee-489e-9e4b-9a6c3cf36d0b",
   "metadata": {},
   "source": [
    "`-` 반복"
   ]
  },
  {
   "cell_type": "code",
   "execution_count": 109,
   "id": "bdb5c186-e7fe-46c8-8851-5e9df14cef74",
   "metadata": {},
   "outputs": [],
   "source": [
    "torch.manual_seed(43052)\n",
    "rnn0 = RNN0()\n",
    "loss_fn = torch.nn.CrossEntropyLoss()\n",
    "optimizr = torch.optim.Adam(rnn0.parameters())"
   ]
  },
  {
   "cell_type": "code",
   "execution_count": 110,
   "id": "5f977d8c-c8e3-430b-a668-08aefb89860c",
   "metadata": {},
   "outputs": [],
   "source": [
    "for epoc in range(5):\n",
    "    ## 1 ~ 2 \n",
    "    loss = 0 \n",
    "    for t in range(T):\n",
    "        x_t = x[[t]]\n",
    "        y_t = y[[t]]\n",
    "        yhat_t = rnn0(x_t)\n",
    "        loss += loss_fn(yhat_t,y_t) \n",
    "    loss = loss/T\n",
    "    ## 3 \n",
    "    loss.backward()\n",
    "    ## 4 \n",
    "    optimizr.step()\n",
    "    optimizr.zero_grad()"
   ]
  },
  {
   "cell_type": "code",
   "execution_count": 111,
   "id": "44f2aaf6-dbb9-494c-bf75-9e82089ba844",
   "metadata": {},
   "outputs": [
    {
     "data": {
      "text/plain": [
       "tensor([ 0.0196, -0.8627,  0.4574,  0.4201], grad_fn=<SelectBackward0>)"
      ]
     },
     "execution_count": 111,
     "metadata": {},
     "output_type": "execute_result"
    }
   ],
   "source": [
    "rnn0(x)[0]"
   ]
  },
  {
   "cell_type": "markdown",
   "id": "cac29f77-dc87-45b5-a828-c5c31fbb9941",
   "metadata": {},
   "source": [
    "(확인)"
   ]
  },
  {
   "cell_type": "code",
   "execution_count": 112,
   "id": "b535a288-94d7-4013-b1fd-860b1e1e562a",
   "metadata": {},
   "outputs": [],
   "source": [
    "torch.manual_seed(43052)\n",
    "rnn0 = RNN0()\n",
    "net = torch.nn.Sequential(\n",
    "    rnn0.i2h,\n",
    "    rnn0.tanh,\n",
    "    rnn0.h2o\n",
    ")\n",
    "loss_fn = torch.nn.CrossEntropyLoss()\n",
    "optimizr = torch.optim.Adam(net.parameters())"
   ]
  },
  {
   "cell_type": "code",
   "execution_count": 113,
   "id": "05074cb0-ccfa-4003-a405-2b8563f1af01",
   "metadata": {},
   "outputs": [],
   "source": [
    "for epoc in range(5):\n",
    "    ## 1 ~ 2 \n",
    "    loss = loss_fn(net(x),y)\n",
    "    ## 3 \n",
    "    loss.backward()\n",
    "    ## 4 \n",
    "    optimizr.step()\n",
    "    optimizr.zero_grad()"
   ]
  },
  {
   "cell_type": "code",
   "execution_count": 114,
   "id": "1ed715f5-8033-487d-8f32-c4972e38c21b",
   "metadata": {},
   "outputs": [
    {
     "data": {
      "text/plain": [
       "tensor([ 0.0196, -0.8627,  0.4574,  0.4201], grad_fn=<SelectBackward0>)"
      ]
     },
     "execution_count": 114,
     "metadata": {},
     "output_type": "execute_result"
    }
   ],
   "source": [
    "net(x)[0]"
   ]
  },
  {
   "cell_type": "markdown",
   "id": "e4d7debf-0e27-4d17-8a83-557970720a2c",
   "metadata": {},
   "source": [
    "### sol -- 순환신경망"
   ]
  },
  {
   "cell_type": "code",
   "execution_count": 115,
   "id": "43cfa677-d57f-45fc-b0ca-e2acb16ed65b",
   "metadata": {},
   "outputs": [],
   "source": [
    "torch.manual_seed(43052)\n",
    "rnn = torch.nn.RNN(input_size=4,hidden_size=2)\n",
    "loss_fn = torch.nn.CrossEntropyLoss()\n",
    "optimizr = torch.optim.Adam(rnn.parameters())"
   ]
  },
  {
   "cell_type": "code",
   "execution_count": 116,
   "id": "17fd3a11-c41d-4317-b21c-978155482b5b",
   "metadata": {},
   "outputs": [
    {
     "data": {
      "text/plain": [
       "torch.Size([599])"
      ]
     },
     "execution_count": 116,
     "metadata": {},
     "output_type": "execute_result"
    }
   ],
   "source": [
    "x.shape"
   ]
  },
  {
   "cell_type": "code",
   "execution_count": 117,
   "id": "82746aae-0127-4163-b7e7-b7ec5ac712b5",
   "metadata": {},
   "outputs": [
    {
     "data": {
      "text/plain": [
       "torch.Size([599, 4])"
      ]
     },
     "execution_count": 117,
     "metadata": {},
     "output_type": "execute_result"
    }
   ],
   "source": [
    "torch.nn.functional.one_hot(x).shape"
   ]
  },
  {
   "cell_type": "code",
   "execution_count": 118,
   "id": "b461951b-c92d-48c0-bc09-141ac9bb0dde",
   "metadata": {},
   "outputs": [
    {
     "data": {
      "text/plain": [
       "tensor([1., 0., 0., 0.])"
      ]
     },
     "execution_count": 118,
     "metadata": {},
     "output_type": "execute_result"
    }
   ],
   "source": [
    "torch.nn.functional.one_hot(x).float()[0]"
   ]
  },
  {
   "cell_type": "code",
   "execution_count": 119,
   "id": "e463a26a-d5c4-4f20-9b07-aedde33c0868",
   "metadata": {},
   "outputs": [],
   "source": [
    "output,hnn = rnn(torch.nn.functional.one_hot(x).float()[[0]])"
   ]
  },
  {
   "cell_type": "code",
   "execution_count": 120,
   "id": "9bd133b9-42d6-4f53-958e-04ef45187e20",
   "metadata": {},
   "outputs": [
    {
     "data": {
      "text/plain": [
       "(torch.Size([1, 2]), torch.Size([1, 2]))"
      ]
     },
     "execution_count": 120,
     "metadata": {},
     "output_type": "execute_result"
    }
   ],
   "source": [
    "output.shape, hnn.shape"
   ]
  },
  {
   "cell_type": "code",
   "execution_count": 171,
   "id": "d8eb9cce-d805-47e0-b8a6-76928fcf3eeb",
   "metadata": {},
   "outputs": [],
   "source": [
    "class RNN(torch.nn.Module):\n",
    "    def __init__(self, n_letters, n_hidden, n_categories):\n",
    "        super().__init__()\n",
    "        self.i2h = torch.nn.Linear(n_letters + n_hidden, n_hidden)\n",
    "        self.i2o = torch.nn.Linear(n_letters + n_hidden, n_categories)\n",
    "\n",
    "    def forward(self, x, h):\n",
    "        concat_xh = torch.concat((x, h), 1) \n",
    "        h = self.i2h(concat_xh)\n",
    "        x = self.i2o(concat_xh)\n",
    "        return x, h"
   ]
  },
  {
   "cell_type": "code",
   "execution_count": 172,
   "id": "5a561c91-ddcf-47da-9220-283dd3bffca9",
   "metadata": {},
   "outputs": [],
   "source": [
    "rnn = RNN(3,1,3)"
   ]
  }
 ],
 "metadata": {
  "kernelspec": {
   "display_name": "Python 3 (ipykernel)",
   "language": "python",
   "name": "python3"
  },
  "language_info": {
   "codemirror_mode": {
    "name": "ipython",
    "version": 3
   },
   "file_extension": ".py",
   "mimetype": "text/x-python",
   "name": "python",
   "nbconvert_exporter": "python",
   "pygments_lexer": "ipython3",
   "version": "3.7.13"
  }
 },
 "nbformat": 4,
 "nbformat_minor": 5
}
