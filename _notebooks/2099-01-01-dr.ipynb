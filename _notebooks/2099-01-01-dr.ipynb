{
 "cells": [
  {
   "cell_type": "markdown",
   "id": "77bba164-61b8-42e7-b8ac-1246b243b49e",
   "metadata": {
    "tags": []
   },
   "source": [
    "## import"
   ]
  },
  {
   "cell_type": "code",
   "execution_count": 1,
   "id": "2eece48e-5748-475e-a5a9-a7060f5a8fdf",
   "metadata": {},
   "outputs": [],
   "source": [
    "import torch\n",
    "import numpy as np\n",
    "import matplotlib.pyplot as plt\n",
    "import time "
   ]
  },
  {
   "cell_type": "markdown",
   "id": "86fc2fdd-4a82-4043-b81d-74dd0fb62776",
   "metadata": {},
   "source": [
    "## Define some funtions"
   ]
  },
  {
   "cell_type": "code",
   "execution_count": 2,
   "id": "c06f7544-de47-46e5-9956-059b626e4f0d",
   "metadata": {},
   "outputs": [],
   "source": [
    "def f(txt,mapping):\n",
    "    return [mapping[key] for key in txt] \n",
    "soft = torch.nn.Softmax(dim=1)"
   ]
  },
  {
   "cell_type": "markdown",
   "id": "5555a252-a3eb-4bab-9175-3f05c251b179",
   "metadata": {},
   "source": [
    "## Exam4: AbAcAd"
   ]
  },
  {
   "cell_type": "markdown",
   "id": "7a6e668d-dfe1-4b52-9347-93bb62db8ac1",
   "metadata": {},
   "source": [
    "### data"
   ]
  },
  {
   "cell_type": "code",
   "execution_count": 3,
   "id": "81f721ac-7bc9-41c6-b129-e00c1ce0e3eb",
   "metadata": {},
   "outputs": [
    {
     "data": {
      "text/plain": [
       "['A', 'b', 'A', 'c', 'A', 'd', 'A', 'b', 'A', 'c']"
      ]
     },
     "execution_count": 3,
     "metadata": {},
     "output_type": "execute_result"
    }
   ],
   "source": [
    "txt = list('AbAcAd')*100\n",
    "txt[:10]"
   ]
  },
  {
   "cell_type": "code",
   "execution_count": 4,
   "id": "3a6aa4b9-4bf1-4077-9568-ea4756fcdc7b",
   "metadata": {},
   "outputs": [],
   "source": [
    "txt_x = txt[:-1]\n",
    "txt_y = txt[1:]"
   ]
  },
  {
   "cell_type": "code",
   "execution_count": 5,
   "id": "278974f0-0792-4712-b52e-2b6fc659d139",
   "metadata": {},
   "outputs": [
    {
     "data": {
      "text/plain": [
       "(['A', 'b', 'A', 'c', 'A'], ['b', 'A', 'c', 'A', 'd'])"
      ]
     },
     "execution_count": 5,
     "metadata": {},
     "output_type": "execute_result"
    }
   ],
   "source": [
    "txt_x[:5],txt_y[:5]"
   ]
  },
  {
   "cell_type": "code",
   "execution_count": 6,
   "id": "10d03d10-c7f6-4ff4-aad7-625755f5fc03",
   "metadata": {},
   "outputs": [],
   "source": [
    "x = torch.nn.functional.one_hot(torch.tensor([{'A':0,'b':1,'c':2,'d':3}[key] for key in txt_x])).float()\n",
    "y = torch.nn.functional.one_hot(torch.tensor([{'A':0,'b':1,'c':2,'d':3}[key] for key in txt_y])).float()"
   ]
  },
  {
   "cell_type": "code",
   "execution_count": 7,
   "id": "40785dcf-bd9c-43da-b8c5-0e29f0f6eba6",
   "metadata": {},
   "outputs": [
    {
     "data": {
      "text/plain": [
       "(tensor([[1., 0., 0., 0.],\n",
       "         [0., 1., 0., 0.],\n",
       "         [1., 0., 0., 0.],\n",
       "         ...,\n",
       "         [1., 0., 0., 0.],\n",
       "         [0., 0., 1., 0.],\n",
       "         [1., 0., 0., 0.]]),\n",
       " tensor([[0., 1., 0., 0.],\n",
       "         [1., 0., 0., 0.],\n",
       "         [0., 0., 1., 0.],\n",
       "         ...,\n",
       "         [0., 0., 1., 0.],\n",
       "         [1., 0., 0., 0.],\n",
       "         [0., 0., 0., 1.]]))"
      ]
     },
     "execution_count": 7,
     "metadata": {},
     "output_type": "execute_result"
    }
   ],
   "source": [
    "x,y"
   ]
  },
  {
   "cell_type": "markdown",
   "id": "34425eb1-9ac4-4147-a6fa-cfa66ab992a1",
   "metadata": {},
   "source": [
    "### 실패했던 풀이: 구현1"
   ]
  },
  {
   "cell_type": "code",
   "execution_count": 8,
   "id": "efaf9691-1793-4de6-a7da-b65bf93eb950",
   "metadata": {},
   "outputs": [],
   "source": [
    "class HNet(torch.nn.Module):\n",
    "    def __init__(self):\n",
    "        super().__init__()\n",
    "        self.i2h = torch.nn.Linear(4,2)\n",
    "        self.tanh = torch.nn.Tanh()\n",
    "    def forward(self,x):\n",
    "        hidden = self.tanh(self.i2h(x)) \n",
    "        return hidden "
   ]
  },
  {
   "cell_type": "code",
   "execution_count": 9,
   "id": "b6dc5860-6f37-4f09-b311-735153f083b5",
   "metadata": {},
   "outputs": [],
   "source": [
    "torch.manual_seed(43052)\n",
    "hnet = HNet()\n",
    "linr = torch.nn.Linear(2,4) \n",
    "loss_fn = torch.nn.CrossEntropyLoss()\n",
    "optimizr = torch.optim.Adam(list(hnet.parameters())+list(linr.parameters()))"
   ]
  },
  {
   "cell_type": "code",
   "execution_count": 10,
   "id": "34f2484e-4660-4cdb-a71e-77de30186aa9",
   "metadata": {},
   "outputs": [],
   "source": [
    "for epoc in range(1): ## 20번만.. \n",
    "    ## 1\n",
    "    ## 2\n",
    "    hidden = hnet(x) \n",
    "    output = linr(hidden)\n",
    "    loss = loss_fn(output,y) \n",
    "    ## 3 \n",
    "    loss.backward()\n",
    "    ## 4 \n",
    "    optimizr.step()\n",
    "    optimizr.zero_grad()"
   ]
  },
  {
   "cell_type": "code",
   "execution_count": 11,
   "id": "a0738b8d-48f1-41b0-932a-f6bdeec8a1ba",
   "metadata": {},
   "outputs": [
    {
     "data": {
      "text/plain": [
       "tensor([[-0.4160,  0.8445, -0.2058, -0.0542],\n",
       "        [-0.3381,  0.8574, -0.2034,  0.0026],\n",
       "        [-0.4160,  0.8445, -0.2058, -0.0542],\n",
       "        ...,\n",
       "        [-0.4160,  0.8445, -0.2058, -0.0542],\n",
       "        [-0.1683,  0.6776, -0.0901,  0.1631],\n",
       "        [-0.4160,  0.8445, -0.2058, -0.0542]], grad_fn=<AddmmBackward0>)"
      ]
     },
     "execution_count": 11,
     "metadata": {},
     "output_type": "execute_result"
    }
   ],
   "source": [
    "linr(hnet(x))"
   ]
  },
  {
   "cell_type": "markdown",
   "id": "425d084f-9b89-4417-82ba-a453a2f6159c",
   "metadata": {},
   "source": [
    "### 실패했던 풀이: 구현2"
   ]
  },
  {
   "cell_type": "code",
   "execution_count": 12,
   "id": "a45a60af-508c-4a3b-ad12-04ace597743b",
   "metadata": {},
   "outputs": [],
   "source": [
    "# class HNet(torch.nn.Module):\n",
    "#     def __init__(self):\n",
    "#         super().__init__()\n",
    "#         self.i2h = torch.nn.Linear(4,2)\n",
    "#         self.tanh = torch.nn.Tanh()\n",
    "#     def forward(self,x):\n",
    "#         hidden = self.tanh(self.i2h(x)) \n",
    "#         return hidden "
   ]
  },
  {
   "cell_type": "code",
   "execution_count": 13,
   "id": "2129cc06-a146-4f53-8896-e1b7e0355cdb",
   "metadata": {},
   "outputs": [],
   "source": [
    "torch.manual_seed(43052)\n",
    "hnet = HNet()\n",
    "linr = torch.nn.Linear(2,4) \n",
    "loss_fn = torch.nn.CrossEntropyLoss()\n",
    "optimizr = torch.optim.Adam(list(hnet.parameters())+list(linr.parameters()))"
   ]
  },
  {
   "cell_type": "code",
   "execution_count": 14,
   "id": "b5c56eb2-5ad7-42af-ac83-78e34b1dcda5",
   "metadata": {},
   "outputs": [],
   "source": [
    "T = len(x)\n",
    "for epoc in range(1):\n",
    "    ## 1~2\n",
    "    loss = 0 \n",
    "    for t in range(T):\n",
    "        xt, yt = x[[t]], y[[t]]\n",
    "        ht = hnet(xt)\n",
    "        ot = linr(ht) \n",
    "        loss = loss + loss_fn(ot,yt)\n",
    "    loss = loss/T \n",
    "    ## 3 \n",
    "    loss.backward()\n",
    "    ## 4 \n",
    "    optimizr.step()\n",
    "    optimizr.zero_grad()"
   ]
  },
  {
   "cell_type": "code",
   "execution_count": 15,
   "id": "39af5c56-7c7b-48b1-a5f5-931a8f77e2cb",
   "metadata": {},
   "outputs": [
    {
     "data": {
      "text/plain": [
       "tensor([[-0.4160,  0.8445, -0.2058, -0.0542],\n",
       "        [-0.3381,  0.8574, -0.2034,  0.0026],\n",
       "        [-0.4160,  0.8445, -0.2058, -0.0542],\n",
       "        ...,\n",
       "        [-0.4160,  0.8445, -0.2058, -0.0542],\n",
       "        [-0.1683,  0.6776, -0.0901,  0.1631],\n",
       "        [-0.4160,  0.8445, -0.2058, -0.0542]], grad_fn=<AddmmBackward0>)"
      ]
     },
     "execution_count": 15,
     "metadata": {},
     "output_type": "execute_result"
    }
   ],
   "source": [
    "linr(hnet(x))"
   ]
  },
  {
   "cell_type": "markdown",
   "id": "caec7c34-5d2b-4742-bb1e-89ac1caf05c0",
   "metadata": {},
   "source": [
    "### 순환신경망의 아이디어"
   ]
  },
  {
   "cell_type": "markdown",
   "id": "7fe0f644-b990-4eb9-a9f7-6b86c2b3ad9d",
   "metadata": {},
   "source": [
    "#### ***모티브***"
   ]
  },
  {
   "cell_type": "markdown",
   "id": "7abb185e-37af-418d-ab26-e8c33e967e1e",
   "metadata": {},
   "source": [
    "***(예비생각1) ${\\boldsymbol h}$에 대한 이해***"
   ]
  },
  {
   "cell_type": "markdown",
   "id": "cb4d9dd7-97ef-48e6-945b-1be73fa69c9c",
   "metadata": {},
   "source": [
    "${\\boldsymbol h}$는 사실 문자열 'abcd'들을 숫자로 바꾼 또 다른 형식의 숫자표현이라 해석할 수 있음. 즉 원핫인코딩과 다른 또 다른 형태의 숫자표현이라 해석할 수 있다. (사실 원핫인코딩보다 약간 더 (1) 액기스만 남아서 (2) 숙성된 느낌을 준다) \n",
    "- (why1) h는 \"학습을 용이하게 하기 위해서 x를 적당히 선형적으로 전처리한 상태\"라고 이해가능\n",
    "- (why2) 실제로 예시를 살펴보면 그러했다. "
   ]
  },
  {
   "cell_type": "markdown",
   "id": "49f9bee1-0291-406d-81c5-6eed5a1b2794",
   "metadata": {},
   "source": [
    "결론: 사실 ${\\boldsymbol h}$는 잘 숙성되어있는 입력정보 ${\\bf X}$ 그 자체로 해석 할 수 있다. "
   ]
  },
  {
   "cell_type": "markdown",
   "id": "f87cf3b8-5608-4e33-89a3-58a6cb690368",
   "metadata": {},
   "source": [
    "***(예비생각2) [수백년전통을 이어가는 방법](https://www.joongang.co.kr/article/24087690#home)***"
   ]
  },
  {
   "cell_type": "markdown",
   "id": "80b9dc5d-43a5-41cc-898a-90fd3de599a3",
   "metadata": {},
   "source": [
    "```\n",
    "“1리터에 500만원에 낙찰된 적 있습니다.”\n",
    "“2kg에 1억원 정도 추산됩니다.”\n",
    "“20여 종 종자장을 블렌딩해 100ml에 5000만원씩 분양 예정입니다.”\n",
    "\n",
    "모두 씨간장(종자장) 가격에 관한 실제 일화다.\n",
    "\n",
    "(중략...)\n",
    "\n",
    "위스키나 와인처럼 블렌딩을 하기도 한다. \n",
    "새로 담근 간장에 씨간장을 넣거나, 씨간장독에 햇간장을 넣어 맛을 유지하기도 한다. \n",
    "이를 겹장(또는 덧장)이라 한다. \n",
    "몇몇 종갓집에선 씨간장 잇기를 몇백 년째 해오고 있다. \n",
    "매년 새로 간장을 담가야 이어갈 수 있으니 불씨 꺼트리지 않는 것처럼 굉장히 어려운 일이다.\n",
    "이렇게 하는 이유는 집집마다 내려오는 고유 장맛을 잃지 않기 위함이다. \n",
    "씨간장이란 그만큼 소중한 주방의 자산이며 정체성이다.\n",
    "```"
   ]
  },
  {
   "cell_type": "markdown",
   "id": "6b20364f-8da2-4987-a402-09a61ad911ee",
   "metadata": {},
   "source": [
    "덧장: 새로운간장을 만들때, 옛날간장을 섞어서 만듬 "
   ]
  },
  {
   "cell_type": "markdown",
   "id": "74f044a6-6673-4a1a-b985-a62abd0d29f6",
   "metadata": {},
   "source": [
    "`*` 기존방식\n",
    "- $\\text{콩물} \\overset{\\text{숙성}}{\\longrightarrow} \\text{간장}$"
   ]
  },
  {
   "cell_type": "markdown",
   "id": "ba450c0b-1676-49ff-8841-72a1a76d7fca",
   "metadata": {},
   "source": [
    "`*` 수백년 전통의 간장맛을 유지하는 방식\n",
    "\n",
    "- $\\text{콩물}_0 \\overset{\\text{숙성}}{\\longrightarrow} \\text{간장}_0$\n",
    "- $\\text{콩물}_1, \\text{간장}_0 \\overset{\\text{숙성}}{\\longrightarrow} \\text{간장}_1$\n",
    "- $\\text{콩물}_2, \\text{간장}_1 \\overset{\\text{숙성}}{\\longrightarrow} \\text{간장}_2$"
   ]
  },
  {
   "cell_type": "markdown",
   "id": "fe817d7b-f8e7-4e89-bb3d-7e841e65f9a3",
   "metadata": {},
   "source": [
    "`*` 수백년 전통의 간장맛을 유지하면서 조리를 한다면? \n",
    "\n",
    "- $\\text{콩물}_0 \\overset{\\text{숙성}}{\\longrightarrow} \\text{간장}_0 \\overset{\\text{조리}}{\\longrightarrow} \\text{간장계란밥}_0$\n",
    "- $\\text{콩물}_1, \\text{간장}_0 \\overset{\\text{숙성}}{\\longrightarrow} \\text{간장}_1 \\overset{\\text{조리}}{\\longrightarrow} \\text{간장계란밥}_1$\n",
    "- $\\text{콩물}_2, \\text{간장}_1 \\overset{\\text{숙성}}{\\longrightarrow} \\text{간장}_2 \\overset{\\text{조리}}{\\longrightarrow} \\text{간장계란밥}_2$"
   ]
  },
  {
   "cell_type": "markdown",
   "id": "9f903839-e859-4ed1-a812-d4cfa4f6d71f",
   "metadata": {},
   "source": [
    "점점 맛있는 간장계란밥이 탄생함 "
   ]
  },
  {
   "cell_type": "markdown",
   "id": "6979bb58-e8aa-4a2e-b034-9a795f9bcfcd",
   "metadata": {},
   "source": [
    "***아이디어***"
   ]
  },
  {
   "cell_type": "markdown",
   "id": "82669a96-6413-4fcf-992e-c447b1f564a3",
   "metadata": {},
   "source": [
    "`*` 수백년 전통의 간장맛을 유지하면서 조리하는 과정을 수식으로? \n",
    "\n",
    "- $\\boldsymbol{x}_0 \\overset{\\text{숙성}}{\\longrightarrow} \\boldsymbol{h}_0 \\overset{\\text{조리}}{\\longrightarrow} \\hat{\\boldsymbol y}_0$\n",
    "- $\\boldsymbol{x}_1, \\boldsymbol{h}_0 \\overset{\\text{숙성}}{\\longrightarrow} \\boldsymbol{h}_1 \\overset{\\text{조리}}{\\longrightarrow} \\hat{\\boldsymbol y}_1$\n",
    "- $\\boldsymbol{x}_2, \\boldsymbol{h}_1 \\overset{\\text{숙성}}{\\longrightarrow} \\boldsymbol{h}_2 \\overset{\\text{조리}}{\\longrightarrow} \\hat{\\boldsymbol y}_2$"
   ]
  },
  {
   "cell_type": "markdown",
   "id": "8734d193-84d7-4743-9bc0-2793f2965bf9",
   "metadata": {},
   "source": [
    "이제 우리가 배울것은 (1) \"$\\text{콩물}_{t}$\"와 \"$\\text{간장}_{t-1}$\"로 \"$\\text{간장}_t$\"를 `숙성`하는 방법 (2) \"$\\text{간장}_t$\"로 \"$\\text{간장계란밥}_t$를 `조리`하는 방법이다 \n",
    "\n",
    "즉 `숙성`담당 네트워크와 `조리`담당 네트워크를 각각 만들어 학습하면 된다. "
   ]
  },
  {
   "cell_type": "markdown",
   "id": "6f50c0c0-891f-4cd0-8ab1-8e185666cf4d",
   "metadata": {},
   "source": [
    "***(예비학습3)*** 두개의 네트워크를 학습하는 방법"
   ]
  },
  {
   "cell_type": "code",
   "execution_count": null,
   "id": "a1aede6f-118d-429c-aeae-6231f902b44e",
   "metadata": {},
   "outputs": [],
   "source": []
  },
  {
   "cell_type": "markdown",
   "id": "0e0ad45a-de53-4c3b-b319-cdccc1d3297f",
   "metadata": {
    "jp-MarkdownHeadingCollapsed": true,
    "tags": []
   },
   "source": [
    "#### ***기존구조***"
   ]
  },
  {
   "cell_type": "markdown",
   "id": "cd220132-ab31-4235-8202-a2be3761c8a7",
   "metadata": {},
   "source": [
    "#### ***바뀌는 구조***"
   ]
  },
  {
   "cell_type": "markdown",
   "id": "1a1a925d-6d12-4c7f-8982-28516f2bd3f0",
   "metadata": {},
   "source": [
    "(1) $t=0$\n",
    "\n",
    "${\\boldsymbol h}_0=[[0,0]]$ "
   ]
  },
  {
   "cell_type": "markdown",
   "id": "f83b9599-cb6e-431f-b508-5587e04ef8ea",
   "metadata": {},
   "source": [
    "---"
   ]
  },
  {
   "cell_type": "markdown",
   "id": "9cd7d0a0-1236-401f-8035-cef4ab9af1b3",
   "metadata": {},
   "source": [
    "(2) $t=1$ \n",
    "\n",
    "${\\boldsymbol h}_1= \\tanh({\\boldsymbol x}_1{\\bf W}_{ih}+{\\boldsymbol h}_0{\\bf W}_{hh}+{\\boldsymbol b}_{ih}+{\\boldsymbol b}_{hh})$\n",
    "- ${\\boldsymbol x}_1$: (1,4) \n",
    "- ${\\bf W}_{ih}$: (4,2) \n",
    "- ${\\boldsymbol h}_0$: (1,2) \n",
    "- ${\\bf W}_{hh}$: (2,2) \n",
    "- ${\\boldsymbol b}_{ih}$: (1,2)\n",
    "- ${\\boldsymbol b}_{hh}$: (1,2)\n",
    "\n",
    "${\\boldsymbol o}_1= {\\bf W}_{ho}{\\boldsymbol h}_1+{\\boldsymbol b}_{ho}$\n",
    "\n",
    "$\\hat{\\boldsymbol y}_1 = \\text{soft}({\\boldsymbol o}_1)$\n",
    "\n",
    "---"
   ]
  },
  {
   "cell_type": "markdown",
   "id": "a525111d-c205-4b5b-9a7c-52ea52fadc16",
   "metadata": {},
   "source": [
    "일반화된 알고리즘 "
   ]
  },
  {
   "cell_type": "markdown",
   "id": "18b62e3a-20f3-40b8-b513-14d829ae20ee",
   "metadata": {},
   "source": [
    "***(ver1)***\n",
    "\n",
    "init $\\boldsymbol{h}_0$ \n",
    "\n",
    "for $t$ in $1:T$ \n",
    "\n",
    "- ${\\boldsymbol h}_t= \\tanh({\\boldsymbol x}_t{\\bf W}_{ih}+{\\boldsymbol h}_{t-1}{\\bf W}_{hh}+{\\boldsymbol b}_{ih}+{\\boldsymbol b}_{hh})$\n",
    "- ${\\boldsymbol o}_t= {\\bf W}_{ho}{\\boldsymbol h}_1+{\\boldsymbol b}_{ho}$\n",
    "- $\\hat{\\boldsymbol y}_t = \\text{soft}({\\boldsymbol o}_1)$\n",
    "    "
   ]
  },
  {
   "cell_type": "markdown",
   "id": "8f7a69da-a8fb-4c58-87ea-7c3f4a98d5f9",
   "metadata": {},
   "source": [
    "***(ver2)***\n",
    "\n",
    "```Python \n",
    "init hidden\n",
    "\n",
    "for t in 1:T \n",
    "    hidden = tanh(linr(x)+linr(hidden))\n",
    "    output = linr(hidden)\n",
    "    yt_hat = soft(output)\n",
    "```    "
   ]
  },
  {
   "cell_type": "markdown",
   "id": "73bac8bb-611e-473b-8f84-f7fa0cf508e3",
   "metadata": {},
   "source": [
    "- 코드상으로는 $h_t$와 $h_{t-1}$의 구분이 교모하게 사라진다. (그래서 오히려 좋아)"
   ]
  },
  {
   "cell_type": "markdown",
   "id": "f3b02e8b-b97d-4854-84a3-fdb85879ace0",
   "metadata": {},
   "source": [
    "***(ㄴㅇㄹ)***\n",
    "\n",
    "```Python \n",
    "### \n",
    "class rNNCell(torch.nn.Module):\n",
    "    def __init__(self):\n",
    "        super().__init__()\n",
    "        linr1 = torch.nn.Linear(?,?) \n",
    "        linr2 = torch.nn.Linear(?,?) \n",
    "        tanh = torch.nn.Tanh()\n",
    "    def forward(self,hidden,x):\n",
    "        hidden = tanh(lrnr1(x)+lrnr2(hidden))\n",
    "        return hidden\n",
    "\n",
    "init ht\n",
    "rnncell = rNNCell()\n",
    "\n",
    "for t in 1:T \n",
    "    xt, yt = x[[t]], y[[t]] \n",
    "    ht = rnncell(xt, ht)\n",
    "    ot = linr(ht) \n",
    "    loss = loss + loss_fn(ot, yt)\n",
    "\n",
    "```    "
   ]
  },
  {
   "cell_type": "markdown",
   "id": "14166b71-c90e-42f9-8f82-a195583ba124",
   "metadata": {},
   "source": [
    "### 순환신경망 구현1 -- 성공 "
   ]
  },
  {
   "cell_type": "markdown",
   "id": "eaeb2367-c00f-4746-abf7-9fe22a246270",
   "metadata": {},
   "source": [
    "`(1)` 숙성담당 네트워크"
   ]
  },
  {
   "cell_type": "code",
   "execution_count": 16,
   "id": "afdaf618-1ec8-44be-b82b-52d25adf0b3e",
   "metadata": {},
   "outputs": [],
   "source": [
    "#\n",
    "# 전통을 보존하지 않고 간장을 만드는 방식 \n",
    "# class HNet(torch.nn.Module):\n",
    "#     def __init__(self):\n",
    "#         super().__init__()\n",
    "#         self.i2h = torch.nn.Linear(4,2)\n",
    "#         self.tanh = torch.nn.Tanh()\n",
    "#     def forward(self,x):\n",
    "#         hidden = self.tanh(self.i2h(x)) \n",
    "#         return hidden \n",
    "\n",
    "class rNNCell(torch.nn.Module):\n",
    "    def __init__(self):\n",
    "        super().__init__()\n",
    "        self.i2h = torch.nn.Linear(4,2) ## 콩물1 -> linr(콩물1)\n",
    "        self.h2h = torch.nn.Linear(2,2) ## 간장0 -> linr(간장0)\n",
    "        self.tanh = torch.nn.Tanh()\n",
    "    def forward(self,x,hidden):\n",
    "        hidden = self.tanh(self.i2h(x)+self.h2h(hidden)) ## linr(콩물1) + linr(간장0)---tanh---> 간장1  // **이게 비법 \n",
    "        return hidden"
   ]
  },
  {
   "cell_type": "code",
   "execution_count": 17,
   "id": "7ec004a0-a27f-4863-a01f-ed99d64ec81f",
   "metadata": {},
   "outputs": [],
   "source": [
    "torch.manual_seed(43052)\n",
    "rnncell = rNNCell() # 숙성담당"
   ]
  },
  {
   "cell_type": "markdown",
   "id": "381cfd4d-a0ec-4042-94e6-485dd305e7aa",
   "metadata": {},
   "source": [
    "`(2)` 조리담당 네트워크"
   ]
  },
  {
   "cell_type": "code",
   "execution_count": 18,
   "id": "28338271-8c65-4be6-a6de-4ee8f0b34c31",
   "metadata": {},
   "outputs": [],
   "source": [
    "torch.manual_seed(43052)\n",
    "cook = torch.nn.Linear(2,4) # 조리담당"
   ]
  },
  {
   "cell_type": "markdown",
   "id": "3550b0ba-e04f-402c-b23c-b8d0ec32e9f5",
   "metadata": {},
   "source": [
    "`(3)` 손실함수, 옵티마이저 설계 "
   ]
  },
  {
   "cell_type": "code",
   "execution_count": 19,
   "id": "b988ee72-647e-4000-b344-fffc21cb6a33",
   "metadata": {},
   "outputs": [],
   "source": [
    "loss_fn = torch.nn.CrossEntropyLoss() \n",
    "optimizr = torch.optim.Adam(list(rnncell.parameters())+list(cook.parameters())) # 우리가 배울것: 숙성하는 방법 + 요리하는 방법 "
   ]
  },
  {
   "cell_type": "markdown",
   "id": "9db992a3-7bcc-4ed5-bd29-6e93f76e70bc",
   "metadata": {},
   "source": [
    "- ${\\bf W}_{ih}, {\\bf W}_{hh}, {\\boldsymbol b}_{ih}, {\\boldsymbol b}_{hh}$"
   ]
  },
  {
   "cell_type": "markdown",
   "id": "adc2a343-efed-4859-b876-24395d8f961e",
   "metadata": {},
   "source": [
    "`(4)` 학습 (6분정도 걸림)"
   ]
  },
  {
   "cell_type": "code",
   "execution_count": 20,
   "id": "3b6b2139-eb92-4a8a-b4c7-f57fb464a584",
   "metadata": {},
   "outputs": [
    {
     "data": {
      "text/plain": [
       "313.3899025917053"
      ]
     },
     "execution_count": 20,
     "metadata": {},
     "output_type": "execute_result"
    }
   ],
   "source": [
    "T = len(x)\n",
    "t1 = time.time()\n",
    "for epoc in range(5000):\n",
    "    ## 1~2\n",
    "    loss = 0 \n",
    "    ht = torch.zeros(1,2)\n",
    "    for t in range(T):\n",
    "        xt, yt = x[[t]], y[[t]]       \n",
    "        ht = rnncell(xt,ht) # \n",
    "        ot = cook(ht)\n",
    "        loss = loss + loss_fn(ot,yt) \n",
    "    loss = loss/T \n",
    "    ## 3 \n",
    "    loss.backward()\n",
    "    ## 4 \n",
    "    optimizr.step()\n",
    "    optimizr.zero_grad()\n",
    "t2 = time.time() \n",
    "t2-t1"
   ]
  },
  {
   "cell_type": "markdown",
   "id": "4c856b53-3c59-4a01-aa8f-39c578f93dce",
   "metadata": {},
   "source": [
    "`(5)` 시각화 "
   ]
  },
  {
   "cell_type": "code",
   "execution_count": 21,
   "id": "f21aec65-1049-4432-91af-967a97a38daa",
   "metadata": {},
   "outputs": [],
   "source": [
    "T = len(x) \n",
    "hidden = torch.zeros(T,2) # 599년치 h를 담을 변수 \n",
    "_water = torch.zeros(1,2) # 맹물 \n",
    "hidden[[0]] = rnncell(x[[0]],_water) \n",
    "for t in range(1,T):\n",
    "    hidden[[t]] = rnncell(x[[t]],hidden[[t-1]])"
   ]
  },
  {
   "cell_type": "code",
   "execution_count": 22,
   "id": "4d901f22-81cc-4fe0-b4e9-043a5c6bb5c3",
   "metadata": {},
   "outputs": [
    {
     "data": {
      "text/plain": [
       "tensor([[1.6522e-02, 6.2036e-01, 1.0433e-01, 2.5879e-01],\n",
       "        [9.9965e-01, 6.5788e-05, 1.8450e-05, 2.6785e-04],\n",
       "        [7.6673e-05, 1.9704e-01, 8.0201e-01, 8.7218e-04],\n",
       "        ...,\n",
       "        [7.4634e-05, 1.9501e-01, 8.0407e-01, 8.4751e-04],\n",
       "        [9.4785e-01, 7.4712e-03, 6.1181e-04, 4.4064e-02],\n",
       "        [3.6306e-02, 1.2466e-01, 2.8862e-03, 8.3615e-01]],\n",
       "       grad_fn=<SoftmaxBackward0>)"
      ]
     },
     "execution_count": 22,
     "metadata": {},
     "output_type": "execute_result"
    }
   ],
   "source": [
    "yhat = soft(cook(hidden))\n",
    "yhat "
   ]
  },
  {
   "cell_type": "code",
   "execution_count": 23,
   "id": "08990dde-d3b9-4894-af22-8f45959a5bc4",
   "metadata": {},
   "outputs": [
    {
     "data": {
      "text/plain": [
       "<matplotlib.image.AxesImage at 0x7fdfd0737cd0>"
      ]
     },
     "execution_count": 23,
     "metadata": {},
     "output_type": "execute_result"
    },
    {
     "data": {
      "image/png": "[encoded data removed]",
      "text/plain": [
       "<Figure size 288x1080 with 1 Axes>"
      ]
     },
     "metadata": {
      "needs_background": "light"
     },
     "output_type": "display_data"
    }
   ],
   "source": [
    "plt.matshow(yhat.data[-15:])"
   ]
  },
  {
   "cell_type": "markdown",
   "id": "d5d78ee2-6994-48bd-82f6-4cf932b27345",
   "metadata": {},
   "source": [
    "- 아주 특이한 특징: yhat[:15], yhat[:-15] 의 적합결과가 다르다\n",
    "- 왜? 간장계란밥은 간장이 중요한데, 간장은 시간이 갈수록 맛있어지니까.."
   ]
  },
  {
   "cell_type": "markdown",
   "id": "7b568025-c455-4d2d-b8d0-618301206099",
   "metadata": {},
   "source": [
    "### 순환신경망 구현2 (with RNNCell) -- 성공 "
   ]
  },
  {
   "cell_type": "markdown",
   "id": "d070fa42-5e5e-4842-b373-abc31d623290",
   "metadata": {},
   "source": [
    "ref: https://pytorch.org/docs/stable/generated/torch.nn.RNNCell.html"
   ]
  },
  {
   "cell_type": "markdown",
   "id": "7ed2fcff-77bf-4328-a9ae-5c9d02fac5fc",
   "metadata": {},
   "source": [
    "`(1)` 숙성네트워크"
   ]
  },
  {
   "cell_type": "markdown",
   "id": "e5ab9e0f-ef9b-46bf-a47d-88db3d916e58",
   "metadata": {},
   "source": [
    "선언"
   ]
  },
  {
   "cell_type": "code",
   "execution_count": 24,
   "id": "88800d53-a985-49b5-a16b-153e628ce559",
   "metadata": {},
   "outputs": [],
   "source": [
    "rnncell = torch.nn.RNNCell(4,2)"
   ]
  },
  {
   "cell_type": "markdown",
   "id": "bce47c32-3842-4e0e-93d5-1c234bb29f4c",
   "metadata": {},
   "source": [
    "가중치초기화"
   ]
  },
  {
   "cell_type": "code",
   "execution_count": 25,
   "id": "9c769016-46fd-45f4-9cd4-911b52bfcbed",
   "metadata": {},
   "outputs": [],
   "source": [
    "torch.manual_seed(43052)\n",
    "_rnncell = rNNCell() # 숙성담당"
   ]
  },
  {
   "cell_type": "code",
   "execution_count": 26,
   "id": "d2d28504-2bdb-4679-a9e1-6d3e3098b685",
   "metadata": {},
   "outputs": [],
   "source": [
    "rnncell.weight_ih.data = _rnncell.i2h.weight.data\n",
    "rnncell.bias_ih.data = _rnncell.i2h.bias.data\n",
    "rnncell.weight_hh.data = _rnncell.h2h.weight.data\n",
    "rnncell.bias_hh.data = _rnncell.h2h.bias.data"
   ]
  },
  {
   "cell_type": "markdown",
   "id": "cdcf5852-d78d-406e-8169-f63fdade150a",
   "metadata": {},
   "source": [
    "`(2)` 조리네트워크"
   ]
  },
  {
   "cell_type": "code",
   "execution_count": 27,
   "id": "019b4b25-fc66-4a0e-aaf8-8ebb37589f5f",
   "metadata": {},
   "outputs": [],
   "source": [
    "torch.manual_seed(43052)\n",
    "cook = torch.nn.Linear(2,4) # 조리담당"
   ]
  },
  {
   "cell_type": "markdown",
   "id": "1e5df109-6cea-4621-bd6f-db5aeb6d24f1",
   "metadata": {},
   "source": [
    "`(3)` 손실함수와 옵티마이저 "
   ]
  },
  {
   "cell_type": "code",
   "execution_count": 28,
   "id": "7102fbfb-c984-4a1a-9760-3d07de75b76e",
   "metadata": {},
   "outputs": [],
   "source": [
    "loss_fn = torch.nn.CrossEntropyLoss() \n",
    "optimizr = torch.optim.Adam(list(rnncell.parameters())+list(cook.parameters())) # 우리가 배울것: 숙성하는 방법 + 요리하는 방법 "
   ]
  },
  {
   "cell_type": "markdown",
   "id": "880e24ed-63c3-4667-949f-3b314509d6e3",
   "metadata": {},
   "source": [
    "`(4)` 학습"
   ]
  },
  {
   "cell_type": "code",
   "execution_count": 29,
   "id": "88446a8b-8581-402f-8224-e6c9a127b788",
   "metadata": {},
   "outputs": [
    {
     "data": {
      "text/plain": [
       "314.6121292114258"
      ]
     },
     "execution_count": 29,
     "metadata": {},
     "output_type": "execute_result"
    }
   ],
   "source": [
    "T = len(x)\n",
    "t1 = time.time()\n",
    "for epoc in range(5000):\n",
    "    ## 1~2\n",
    "    loss = 0 \n",
    "    ht = torch.zeros(1,2)\n",
    "    for t in range(T):\n",
    "        xt, yt = x[[t]], y[[t]]       \n",
    "        ht = rnncell(xt,ht) \n",
    "        ot = cook(ht)\n",
    "        loss = loss + loss_fn(ot,yt) \n",
    "    loss = loss/T \n",
    "    ## 3 \n",
    "    loss.backward()\n",
    "    ## 4 \n",
    "    optimizr.step()\n",
    "    optimizr.zero_grad()\n",
    "t2 = time.time() \n",
    "t2-t1"
   ]
  },
  {
   "cell_type": "markdown",
   "id": "cc1f4386-dcbd-484e-9f38-b9c4b83a8e56",
   "metadata": {},
   "source": [
    "`(5)` 시각화 "
   ]
  },
  {
   "cell_type": "code",
   "execution_count": 30,
   "id": "a56db321-afb0-4702-af34-be436dcbd126",
   "metadata": {},
   "outputs": [],
   "source": [
    "T = len(x) \n",
    "hidden = torch.zeros(T,2) # 599년치 h를 담을 변수 \n",
    "_water = torch.zeros(1,2) # 맹물 \n",
    "hidden[[0]] = rnncell(x[[0]],_water) \n",
    "for t in range(1,T):\n",
    "    hidden[[t]] = rnncell(x[[t]],hidden[[t-1]])"
   ]
  },
  {
   "cell_type": "code",
   "execution_count": 31,
   "id": "e154e49c-0ea6-4d75-92aa-93b82de2d02e",
   "metadata": {},
   "outputs": [
    {
     "data": {
      "text/plain": [
       "tensor([[1.6522e-02, 6.2036e-01, 1.0433e-01, 2.5879e-01],\n",
       "        [9.9965e-01, 6.5788e-05, 1.8450e-05, 2.6785e-04],\n",
       "        [7.6673e-05, 1.9704e-01, 8.0201e-01, 8.7218e-04],\n",
       "        ...,\n",
       "        [7.4634e-05, 1.9501e-01, 8.0407e-01, 8.4751e-04],\n",
       "        [9.4785e-01, 7.4712e-03, 6.1181e-04, 4.4064e-02],\n",
       "        [3.6306e-02, 1.2466e-01, 2.8862e-03, 8.3615e-01]],\n",
       "       grad_fn=<SoftmaxBackward0>)"
      ]
     },
     "execution_count": 31,
     "metadata": {},
     "output_type": "execute_result"
    }
   ],
   "source": [
    "yhat = soft(cook(hidden))\n",
    "yhat "
   ]
  },
  {
   "cell_type": "code",
   "execution_count": 32,
   "id": "adcb05d4-37f3-45e6-ab44-c59aa7285ca8",
   "metadata": {},
   "outputs": [
    {
     "data": {
      "text/plain": [
       "<matplotlib.image.AxesImage at 0x7fdfd058f8d0>"
      ]
     },
     "execution_count": 32,
     "metadata": {},
     "output_type": "execute_result"
    },
    {
     "data": {
      "image/png": "[encoded data removed]",
      "text/plain": [
       "<Figure size 288x1080 with 1 Axes>"
      ]
     },
     "metadata": {
      "needs_background": "light"
     },
     "output_type": "display_data"
    }
   ],
   "source": [
    "plt.matshow(yhat.data[-15:])"
   ]
  },
  {
   "cell_type": "markdown",
   "id": "7d1a9972-fced-474b-8577-11a8eb9826f9",
   "metadata": {},
   "source": [
    "### 순환신경망 구현3 (with RNN) -- 성공 "
   ]
  },
  {
   "cell_type": "markdown",
   "id": "8abe98c1-28a1-46a2-9740-fdc2e2ada8c3",
   "metadata": {},
   "source": [
    "---"
   ]
  },
  {
   "cell_type": "markdown",
   "id": "94aab58e-98b2-4817-8ef4-615f1ecfe84c",
   "metadata": {},
   "source": [
    "(예비학습)"
   ]
  },
  {
   "cell_type": "markdown",
   "id": "2ca0471c-7515-4cd7-8469-1d0914a6405d",
   "metadata": {},
   "source": [
    "`-` 아무리 생각해도 yhat구하려면 좀 귀찮음"
   ]
  },
  {
   "cell_type": "code",
   "execution_count": 33,
   "id": "2b37f41d-b989-4575-8f15-24ae1687ec2e",
   "metadata": {},
   "outputs": [],
   "source": [
    "T = len(x) \n",
    "hidden = torch.zeros(T,2) # 599년치 h를 담을 변수 \n",
    "_water = torch.zeros(1,2) # 맹물 \n",
    "hidden[[0]] = rnncell(x[[0]],_water) \n",
    "for t in range(1,T):\n",
    "    hidden[[t]] = rnncell(x[[t]],hidden[[t-1]])"
   ]
  },
  {
   "cell_type": "code",
   "execution_count": 34,
   "id": "b704f8ca-262c-47af-beee-204248701729",
   "metadata": {},
   "outputs": [
    {
     "data": {
      "text/plain": [
       "tensor([[1.6522e-02, 6.2036e-01, 1.0433e-01, 2.5879e-01],\n",
       "        [9.9965e-01, 6.5788e-05, 1.8450e-05, 2.6785e-04],\n",
       "        [7.6673e-05, 1.9704e-01, 8.0201e-01, 8.7218e-04],\n",
       "        ...,\n",
       "        [7.4634e-05, 1.9501e-01, 8.0407e-01, 8.4751e-04],\n",
       "        [9.4785e-01, 7.4712e-03, 6.1181e-04, 4.4064e-02],\n",
       "        [3.6306e-02, 1.2466e-01, 2.8862e-03, 8.3615e-01]],\n",
       "       grad_fn=<SoftmaxBackward0>)"
      ]
     },
     "execution_count": 34,
     "metadata": {},
     "output_type": "execute_result"
    }
   ],
   "source": [
    "soft(cook(hidden))"
   ]
  },
  {
   "cell_type": "markdown",
   "id": "ceb40461-3e6d-49ef-a95b-8c3d3f9bed7e",
   "metadata": {},
   "source": [
    "`-` 이렇게 하면 쉽게(?) 구할 수 있음 "
   ]
  },
  {
   "cell_type": "code",
   "execution_count": 35,
   "id": "cd412ac3-9c0a-4240-8a6d-f5c3f836cf74",
   "metadata": {},
   "outputs": [],
   "source": [
    "rnn = torch.nn.RNN(4,2) "
   ]
  },
  {
   "cell_type": "code",
   "execution_count": 36,
   "id": "29d50195-e207-4539-9acd-2fd7a43c4d75",
   "metadata": {},
   "outputs": [],
   "source": [
    "rnn.weight_hh_l0.data = rnncell.weight_hh.data \n",
    "rnn.bias_hh_l0.data = rnncell.bias_hh.data \n",
    "rnn.weight_ih_l0.data = rnncell.weight_ih.data \n",
    "rnn.bias_ih_l0.data = rnncell.bias_ih.data "
   ]
  },
  {
   "cell_type": "code",
   "execution_count": 37,
   "id": "b970ba18-4c19-41cf-b3a6-ee7890495158",
   "metadata": {},
   "outputs": [
    {
     "data": {
      "text/plain": [
       "tensor([[0., 0.]])"
      ]
     },
     "execution_count": 37,
     "metadata": {},
     "output_type": "execute_result"
    }
   ],
   "source": [
    "_water"
   ]
  },
  {
   "cell_type": "code",
   "execution_count": 38,
   "id": "92fee4b8-423b-4d3d-9b58-d7094d58bdef",
   "metadata": {},
   "outputs": [
    {
     "data": {
      "text/plain": [
       "tensor([[1.6522e-02, 6.2036e-01, 1.0433e-01, 2.5879e-01],\n",
       "        [9.9965e-01, 6.5788e-05, 1.8450e-05, 2.6785e-04],\n",
       "        [7.6673e-05, 1.9704e-01, 8.0201e-01, 8.7218e-04],\n",
       "        ...,\n",
       "        [7.4634e-05, 1.9501e-01, 8.0407e-01, 8.4751e-04],\n",
       "        [9.4785e-01, 7.4712e-03, 6.1181e-04, 4.4064e-02],\n",
       "        [3.6306e-02, 1.2466e-01, 2.8862e-03, 8.3615e-01]],\n",
       "       grad_fn=<SoftmaxBackward0>)"
      ]
     },
     "execution_count": 38,
     "metadata": {},
     "output_type": "execute_result"
    }
   ],
   "source": [
    "soft(cook(rnn(x,_water)[0]))"
   ]
  },
  {
   "cell_type": "markdown",
   "id": "d8401ef7-cb66-482a-82ef-1d7227c2dbba",
   "metadata": {},
   "source": [
    "- 똑같음!"
   ]
  },
  {
   "cell_type": "markdown",
   "id": "55cae3ec-22fa-4658-b603-5a0d79cdf5ad",
   "metadata": {},
   "source": [
    "`-` rnn(x,_water)의 결과는 (1) 599년치 간장 (2) 599번째 간장 이다 "
   ]
  },
  {
   "cell_type": "code",
   "execution_count": 39,
   "id": "84f109e6-ceab-472b-8163-330fefec5636",
   "metadata": {},
   "outputs": [
    {
     "data": {
      "text/plain": [
       "(tensor([[-0.2232,  0.9769],\n",
       "         [-0.9999, -0.9742],\n",
       "         [ 0.9154,  0.9992],\n",
       "         ...,\n",
       "         [ 0.9200,  0.9992],\n",
       "         [-0.9978, -0.0823],\n",
       "         [-0.9154,  0.9965]], grad_fn=<SqueezeBackward1>),\n",
       " tensor([[-0.9154,  0.9965]], grad_fn=<SqueezeBackward1>))"
      ]
     },
     "execution_count": 39,
     "metadata": {},
     "output_type": "execute_result"
    }
   ],
   "source": [
    "rnn(x,_water)"
   ]
  },
  {
   "cell_type": "markdown",
   "id": "34575355-d01e-48ff-89c1-ce3ba12e45be",
   "metadata": {},
   "source": [
    "***(예비학습결론) torch.nn.RNN(4,2)는 torch.nn.RNNCell(4,2)의 batch 버전이다. (for문이 포함된 버전이다)***"
   ]
  },
  {
   "cell_type": "markdown",
   "id": "8dca19d0-475f-4758-a933-df6d8f0e816b",
   "metadata": {},
   "source": [
    "---"
   ]
  },
  {
   "cell_type": "markdown",
   "id": "35077f0a-5f9b-497f-acca-280f23448065",
   "metadata": {},
   "source": [
    "torch.nn.RNN(4,2)를 이용하여 구현하자. "
   ]
  },
  {
   "cell_type": "markdown",
   "id": "1dca9963-4397-42d8-9c3c-c73ce76b6e76",
   "metadata": {},
   "source": [
    "`(1)` 숙성네트워크"
   ]
  },
  {
   "cell_type": "markdown",
   "id": "7b8c0563-54e2-4782-905e-3c5b1e4992a9",
   "metadata": {},
   "source": [
    "선언"
   ]
  },
  {
   "cell_type": "code",
   "execution_count": 40,
   "id": "f3bbef6f-70de-44b1-b4cb-5fc2abcf7165",
   "metadata": {},
   "outputs": [],
   "source": [
    "rnn = torch.nn.RNN(4,2)"
   ]
  },
  {
   "cell_type": "markdown",
   "id": "3714c988-b308-4226-b917-db22235d3564",
   "metadata": {},
   "source": [
    "가중치초기화"
   ]
  },
  {
   "cell_type": "code",
   "execution_count": 41,
   "id": "5886c362-e939-483a-8a46-9d30c4214505",
   "metadata": {},
   "outputs": [],
   "source": [
    "torch.manual_seed(43052)\n",
    "_rnncell = rNNCell() "
   ]
  },
  {
   "cell_type": "code",
   "execution_count": 42,
   "id": "39faf394-bfcd-4fbe-87b0-3e69e1bb5a1b",
   "metadata": {},
   "outputs": [],
   "source": [
    "rnn.weight_ih_l0.data = _rnncell.i2h.weight.data\n",
    "rnn.bias_ih_l0.data = _rnncell.i2h.bias.data\n",
    "rnn.weight_hh_l0.data = _rnncell.h2h.weight.data\n",
    "rnn.bias_hh_l0.data = _rnncell.h2h.bias.data"
   ]
  },
  {
   "cell_type": "markdown",
   "id": "d05202be-9e0b-4275-b8ab-24e4287ddc38",
   "metadata": {},
   "source": [
    "`(2)` 조리네트워크"
   ]
  },
  {
   "cell_type": "code",
   "execution_count": 43,
   "id": "10c7fcf0-2a58-414b-b32a-095cff591707",
   "metadata": {},
   "outputs": [],
   "source": [
    "torch.manual_seed(43052)\n",
    "cook = torch.nn.Linear(2,4)"
   ]
  },
  {
   "cell_type": "markdown",
   "id": "2458624f-d55b-4a10-9816-3ee3e2f3cba3",
   "metadata": {},
   "source": [
    "`(3)` 손실함수와 옵티마이저"
   ]
  },
  {
   "cell_type": "code",
   "execution_count": 44,
   "id": "76e1a42e-fc16-4436-acc7-4ee1f5f04063",
   "metadata": {},
   "outputs": [],
   "source": [
    "loss_fn = torch.nn.CrossEntropyLoss() \n",
    "optimizr = torch.optim.Adam(list(rnn.parameters())+list(cook.parameters())) # 우리가 배울것: 숙성하는 방법 + 요리하는 방법 "
   ]
  },
  {
   "cell_type": "markdown",
   "id": "55794958-affc-4bcf-92b0-513295e5fa6d",
   "metadata": {},
   "source": [
    "`(4)` 학습"
   ]
  },
  {
   "cell_type": "code",
   "execution_count": 45,
   "id": "1c7a66ae-5cf7-4f5d-bb05-9cf33a03bb81",
   "metadata": {},
   "outputs": [
    {
     "data": {
      "text/plain": [
       "63.54761457443237"
      ]
     },
     "execution_count": 45,
     "metadata": {},
     "output_type": "execute_result"
    }
   ],
   "source": [
    "t1 = time.time()\n",
    "for epoc in range(5000):\n",
    "    ## 1\n",
    "    _water = torch.zeros(1,2)\n",
    "    hidden, _ = rnn(x,_water)\n",
    "    output = cook(hidden)\n",
    "    ## 2 \n",
    "    loss = loss_fn(output,y) \n",
    "    ## 3 \n",
    "    loss.backward()\n",
    "    ## 4 \n",
    "    optimizr.step()\n",
    "    optimizr.zero_grad()\n",
    "t2 = time.time() \n",
    "t2-t1"
   ]
  },
  {
   "cell_type": "markdown",
   "id": "81f37198-430a-4cc7-8dca-16758dda58a7",
   "metadata": {},
   "source": [
    "`(5)` 시각화"
   ]
  },
  {
   "cell_type": "code",
   "execution_count": 46,
   "id": "e0b621c7-406e-4a2e-934b-d7ba930877d6",
   "metadata": {},
   "outputs": [
    {
     "data": {
      "text/plain": [
       "tensor([[1.6522e-02, 6.2036e-01, 1.0433e-01, 2.5879e-01],\n",
       "        [9.9965e-01, 6.5788e-05, 1.8450e-05, 2.6785e-04],\n",
       "        [7.6673e-05, 1.9704e-01, 8.0201e-01, 8.7218e-04],\n",
       "        ...,\n",
       "        [7.4634e-05, 1.9501e-01, 8.0407e-01, 8.4751e-04],\n",
       "        [9.4785e-01, 7.4711e-03, 6.1181e-04, 4.4064e-02],\n",
       "        [3.6306e-02, 1.2466e-01, 2.8862e-03, 8.3615e-01]],\n",
       "       grad_fn=<SoftmaxBackward0>)"
      ]
     },
     "execution_count": 46,
     "metadata": {},
     "output_type": "execute_result"
    }
   ],
   "source": [
    "yhat = soft(cook(rnn(x,_water)[0]))\n",
    "yhat"
   ]
  },
  {
   "cell_type": "code",
   "execution_count": 47,
   "id": "938c77e4-76d8-4377-958d-a17c905cd1f1",
   "metadata": {},
   "outputs": [
    {
     "data": {
      "text/plain": [
       "<matplotlib.image.AxesImage at 0x7fdfd0634150>"
      ]
     },
     "execution_count": 47,
     "metadata": {},
     "output_type": "execute_result"
    },
    {
     "data": {
      "image/png": "[encoded data removed]",
      "text/plain": [
       "<Figure size 288x1080 with 1 Axes>"
      ]
     },
     "metadata": {
      "needs_background": "light"
     },
     "output_type": "display_data"
    }
   ],
   "source": [
    "plt.matshow(yhat.data[:15])"
   ]
  }
 ],
 "metadata": {
  "kernelspec": {
   "display_name": "Python 3 (ipykernel)",
   "language": "python",
   "name": "python3"
  },
  "language_info": {
   "codemirror_mode": {
    "name": "ipython",
    "version": 3
   },
   "file_extension": ".py",
   "mimetype": "text/x-python",
   "name": "python",
   "nbconvert_exporter": "python",
   "pygments_lexer": "ipython3",
   "version": "3.7.13"
  }
 },
 "nbformat": 4,
 "nbformat_minor": 5
}
