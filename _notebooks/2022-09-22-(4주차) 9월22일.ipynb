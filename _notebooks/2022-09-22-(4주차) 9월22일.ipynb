{
 "cells": [
  {
   "cell_type": "markdown",
   "id": "ff0f21ff-c327-44ee-ae11-2300cd481f2c",
   "metadata": {},
   "source": [
    "# (4주차) 9월22일 -- 숙제 풀이 추가 \n",
    "> 딥러닝의 기초 - 회귀분석(2)--step1~4, step1의 다른표현\n",
    "\n",
    "- toc:true\n",
    "- branch: master\n",
    "- badges: true\n",
    "- comments: true\n",
    "- author: 최규빈"
   ]
  },
  {
   "cell_type": "markdown",
   "id": "5be68da8-a1c7-4552-96fc-b46e75d60031",
   "metadata": {},
   "source": [
    "## 강의영상 "
   ]
  },
  {
   "cell_type": "markdown",
   "id": "a318f747-f4bf-4d9b-9a52-acbbb234df07",
   "metadata": {},
   "source": [
    "> youtube: https://youtube.com/playlist?list=PLQqh36zP38-wezS4h765Rs5mQFoSjrLMk"
   ]
  },
  {
   "cell_type": "markdown",
   "id": "79e0dd47-05f2-4e92-8384-a16ea92062bd",
   "metadata": {},
   "source": [
    "- 강의영상 재업로드 하였습니다. "
   ]
  },
  {
   "cell_type": "markdown",
   "id": "f17fd13a-0dd0-4f36-af7c-af14172c1aff",
   "metadata": {},
   "source": [
    "## review "
   ]
  },
  {
   "cell_type": "code",
   "execution_count": 3,
   "id": "1d22fd0a-eff2-4384-8cdd-08899421e72b",
   "metadata": {},
   "outputs": [],
   "source": [
    "import torch\n",
    "import pandas as pd\n",
    "import numpy as np\n",
    "import matplotlib.pyplot as plt "
   ]
  },
  {
   "cell_type": "code",
   "execution_count": 3,
   "id": "658afac4-6903-4391-9b36-5d6004dde83b",
   "metadata": {},
   "outputs": [
    {
     "data": {
      "text/html": [
       "<div>\n",
       "<style scoped>\n",
       "    .dataframe tbody tr th:only-of-type {\n",
       "        vertical-align: middle;\n",
       "    }\n",
       "\n",
       "    .dataframe tbody tr th {\n",
       "        vertical-align: top;\n",
       "    }\n",
       "\n",
       "    .dataframe thead th {\n",
       "        text-align: right;\n",
       "    }\n",
       "</style>\n",
       "<table border=\"1\" class=\"dataframe\">\n",
       "  <thead>\n",
       "    <tr style=\"text-align: right;\">\n",
       "      <th></th>\n",
       "      <th>x</th>\n",
       "      <th>y</th>\n",
       "    </tr>\n",
       "  </thead>\n",
       "  <tbody>\n",
       "    <tr>\n",
       "      <th>0</th>\n",
       "      <td>-2.482113</td>\n",
       "      <td>-8.542024</td>\n",
       "    </tr>\n",
       "    <tr>\n",
       "      <th>1</th>\n",
       "      <td>-2.362146</td>\n",
       "      <td>-6.576713</td>\n",
       "    </tr>\n",
       "    <tr>\n",
       "      <th>2</th>\n",
       "      <td>-1.997295</td>\n",
       "      <td>-5.949576</td>\n",
       "    </tr>\n",
       "    <tr>\n",
       "      <th>3</th>\n",
       "      <td>-1.623936</td>\n",
       "      <td>-4.479364</td>\n",
       "    </tr>\n",
       "    <tr>\n",
       "      <th>4</th>\n",
       "      <td>-1.479192</td>\n",
       "      <td>-4.251570</td>\n",
       "    </tr>\n",
       "    <tr>\n",
       "      <th>...</th>\n",
       "      <td>...</td>\n",
       "      <td>...</td>\n",
       "    </tr>\n",
       "    <tr>\n",
       "      <th>95</th>\n",
       "      <td>2.244400</td>\n",
       "      <td>10.325987</td>\n",
       "    </tr>\n",
       "    <tr>\n",
       "      <th>96</th>\n",
       "      <td>2.393501</td>\n",
       "      <td>12.266493</td>\n",
       "    </tr>\n",
       "    <tr>\n",
       "      <th>97</th>\n",
       "      <td>2.605604</td>\n",
       "      <td>13.098280</td>\n",
       "    </tr>\n",
       "    <tr>\n",
       "      <th>98</th>\n",
       "      <td>2.605658</td>\n",
       "      <td>12.546793</td>\n",
       "    </tr>\n",
       "    <tr>\n",
       "      <th>99</th>\n",
       "      <td>2.663240</td>\n",
       "      <td>13.834002</td>\n",
       "    </tr>\n",
       "  </tbody>\n",
       "</table>\n",
       "<p>100 rows × 2 columns</p>\n",
       "</div>"
      ],
      "text/plain": [
       "           x          y\n",
       "0  -2.482113  -8.542024\n",
       "1  -2.362146  -6.576713\n",
       "2  -1.997295  -5.949576\n",
       "3  -1.623936  -4.479364\n",
       "4  -1.479192  -4.251570\n",
       "..       ...        ...\n",
       "95  2.244400  10.325987\n",
       "96  2.393501  12.266493\n",
       "97  2.605604  13.098280\n",
       "98  2.605658  12.546793\n",
       "99  2.663240  13.834002\n",
       "\n",
       "[100 rows x 2 columns]"
      ]
     },
     "execution_count": 3,
     "metadata": {},
     "output_type": "execute_result"
    }
   ],
   "source": [
    "df = pd.read_csv(\"https://raw.githubusercontent.com/guebin/DL2022/master/_notebooks/2022-09-22-regression.csv\") \n",
    "df"
   ]
  },
  {
   "cell_type": "code",
   "execution_count": 27,
   "id": "885a83ff-6eb9-403b-8f2f-7cc32a604586",
   "metadata": {},
   "outputs": [],
   "source": [
    "x= torch.tensor(df.x,dtype=torch.float32).reshape(100,1)\n",
    "y= torch.tensor(df.y,dtype=torch.float32).reshape(100,1)\n",
    "X= torch.tensor([[1]*100,x]).T"
   ]
  },
  {
   "cell_type": "code",
   "execution_count": 44,
   "id": "cdfe96b7-09ba-40ac-886b-af8adae51e73",
   "metadata": {},
   "outputs": [
    {
     "data": {
      "text/plain": [
       "tensor([[-5.],\n",
       "        [10.]], requires_grad=True)"
      ]
     },
     "execution_count": 44,
     "metadata": {},
     "output_type": "execute_result"
    }
   ],
   "source": [
    "What = torch.tensor([[-5.0],[10.0]],requires_grad=True)\n",
    "What"
   ]
  },
  {
   "cell_type": "code",
   "execution_count": 45,
   "id": "4ee88ce2-619c-45f4-8ddc-aa730d526f0a",
   "metadata": {},
   "outputs": [
    {
     "data": {
      "text/plain": [
       "[<matplotlib.lines.Line2D at 0x7f87149ab350>]"
      ]
     },
     "execution_count": 45,
     "metadata": {},
     "output_type": "execute_result"
    },
    {
     "data": {
      "image/png": "[encoded data removed]",
      "text/plain": [
       "<Figure size 432x288 with 1 Axes>"
      ]
     },
     "metadata": {
      "needs_background": "light"
     },
     "output_type": "display_data"
    }
   ],
   "source": [
    "plt.plot(x,y,'o')\n",
    "#plt.plot(x,-5+10*x,'--')\n",
    "plt.plot(x,X@What.data,'--')"
   ]
  },
  {
   "cell_type": "markdown",
   "id": "e90cb640-bd49-4d5d-ae5b-8da9fa3637ff",
   "metadata": {},
   "source": [
    "### ver1: loss = sum of squares error"
   ]
  },
  {
   "cell_type": "code",
   "execution_count": 67,
   "id": "64288147-9639-4995-92e0-b58bdb5f3583",
   "metadata": {},
   "outputs": [],
   "source": [
    "alpha = 1/1000\n",
    "What = torch.tensor([[-5.0],[10.0]],requires_grad=True)\n",
    "for epoc in range(30): \n",
    "    # step1: yhat \n",
    "    yhat = X@What \n",
    "    # step2: loss \n",
    "    loss = torch.sum((y-yhat)**2)\n",
    "    # step3: 미분 \n",
    "    loss.backward()\n",
    "    # step4: update \n",
    "    What.data = What.data - alpha * What.grad \n",
    "    What.grad = None # "
   ]
  },
  {
   "cell_type": "code",
   "execution_count": 68,
   "id": "0d4b3153-8491-43fd-a162-ee3069436353",
   "metadata": {},
   "outputs": [
    {
     "data": {
      "text/plain": [
       "tensor([[2.4290],\n",
       "        [4.0144]], requires_grad=True)"
      ]
     },
     "execution_count": 68,
     "metadata": {},
     "output_type": "execute_result"
    }
   ],
   "source": [
    "What"
   ]
  },
  {
   "cell_type": "code",
   "execution_count": 50,
   "id": "047b3ec4-0c9d-4a1c-a05e-e6da255dbcc7",
   "metadata": {},
   "outputs": [
    {
     "data": {
      "text/plain": [
       "[<matplotlib.lines.Line2D at 0x7f870d91de10>]"
      ]
     },
     "execution_count": 50,
     "metadata": {},
     "output_type": "execute_result"
    },
    {
     "data": {
      "image/png": "[encoded data removed]",
      "text/plain": [
       "<Figure size 432x288 with 1 Axes>"
      ]
     },
     "metadata": {
      "needs_background": "light"
     },
     "output_type": "display_data"
    }
   ],
   "source": [
    "plt.plot(x,y,'o') \n",
    "plt.plot(x,X@What.data,'--')"
   ]
  },
  {
   "cell_type": "markdown",
   "id": "fc902fe5-9d67-4033-a8c5-2f7f0a377fa2",
   "metadata": {},
   "source": [
    "- note: 왜 What = What - alpha*What.grad 는 안되는지?"
   ]
  },
  {
   "cell_type": "markdown",
   "id": "26851594-92ba-40aa-98c0-8f5d5cd6ed61",
   "metadata": {},
   "source": [
    "### ver2: loss = mean squared error = MSE "
   ]
  },
  {
   "cell_type": "code",
   "execution_count": 71,
   "id": "8e6acc86-7c89-40d4-a85f-ba0e85e47e37",
   "metadata": {},
   "outputs": [],
   "source": [
    "alpha = 1/10\n",
    "What = torch.tensor([[-5.0],[10.0]],requires_grad=True)\n",
    "for epoc in range(30): \n",
    "    # step1: yhat \n",
    "    yhat = X@What \n",
    "    # step2: loss \n",
    "    loss = torch.mean((y-yhat)**2)\n",
    "    # step3: 미분 \n",
    "    loss.backward()\n",
    "    # step4: update \n",
    "    What.data = What.data - alpha * What.grad \n",
    "    What.grad = None # "
   ]
  },
  {
   "cell_type": "code",
   "execution_count": 72,
   "id": "30f62f30-8e62-4397-ba2d-f43e9df1b3da",
   "metadata": {},
   "outputs": [
    {
     "data": {
      "text/plain": [
       "tensor([[2.4290],\n",
       "        [4.0144]], requires_grad=True)"
      ]
     },
     "execution_count": 72,
     "metadata": {},
     "output_type": "execute_result"
    }
   ],
   "source": [
    "What"
   ]
  },
  {
   "cell_type": "markdown",
   "id": "cc12e3a8-aa1e-4ef1-9ae7-5681e236a042",
   "metadata": {},
   "source": [
    "## step1의 다른버전: torch.nn.Linear()"
   ]
  },
  {
   "cell_type": "markdown",
   "id": "339afb30-83c3-447b-af30-7b754adb2653",
   "metadata": {},
   "source": [
    "### ver1: bias=True"
   ]
  },
  {
   "cell_type": "code",
   "execution_count": 96,
   "id": "ffd1d746-0b46-40a2-b5f9-d2c183a5bf06",
   "metadata": {},
   "outputs": [],
   "source": [
    "torch.manual_seed(43052)\n",
    "net = torch.nn.Linear(in_features=1, out_features=1, bias=True) "
   ]
  },
  {
   "cell_type": "code",
   "execution_count": 83,
   "id": "ba6ac603-1a6c-4e1f-9138-13a62995dac7",
   "metadata": {},
   "outputs": [
    {
     "data": {
      "text/plain": [
       "[<matplotlib.lines.Line2D at 0x7f870cf50ad0>]"
      ]
     },
     "execution_count": 83,
     "metadata": {},
     "output_type": "execute_result"
    },
    {
     "data": {
      "image/png": "[encoded data removed]",
      "text/plain": [
       "<Figure size 432x288 with 1 Axes>"
      ]
     },
     "metadata": {
      "needs_background": "light"
     },
     "output_type": "display_data"
    }
   ],
   "source": [
    "plt.plot(x,y,'o')\n",
    "plt.plot(x,net(x).data,'--')"
   ]
  },
  {
   "cell_type": "markdown",
   "id": "58d54ead-4480-48da-856f-d3bd531b79ec",
   "metadata": {},
   "source": [
    "`-` net에서 $\\hat{w}_0, \\hat{w}_1$ 의 값은? "
   ]
  },
  {
   "cell_type": "code",
   "execution_count": 84,
   "id": "591846ec-ac3e-4989-9504-0c9ad410eeb0",
   "metadata": {},
   "outputs": [
    {
     "data": {
      "text/plain": [
       "Parameter containing:\n",
       "tensor([[-0.3467]], requires_grad=True)"
      ]
     },
     "execution_count": 84,
     "metadata": {},
     "output_type": "execute_result"
    }
   ],
   "source": [
    "net.weight # w1 "
   ]
  },
  {
   "cell_type": "code",
   "execution_count": 86,
   "id": "5dd2d680-f688-45eb-a649-5ce15616acff",
   "metadata": {},
   "outputs": [
    {
     "data": {
      "text/plain": [
       "Parameter containing:\n",
       "tensor([-0.8470], requires_grad=True)"
      ]
     },
     "execution_count": 86,
     "metadata": {},
     "output_type": "execute_result"
    }
   ],
   "source": [
    "net.bias # w0 "
   ]
  },
  {
   "cell_type": "code",
   "execution_count": 98,
   "id": "976fe9ba-9675-439d-8243-112561b1bcaa",
   "metadata": {},
   "outputs": [],
   "source": [
    "_yhat = -0.8470 + -0.3467*x "
   ]
  },
  {
   "cell_type": "code",
   "execution_count": 100,
   "id": "bc56b4ac-6e34-44e7-9e80-711169b93b55",
   "metadata": {},
   "outputs": [
    {
     "data": {
      "text/plain": [
       "[<matplotlib.lines.Line2D at 0x7f870d437690>]"
      ]
     },
     "execution_count": 100,
     "metadata": {},
     "output_type": "execute_result"
    },
    {
     "data": {
      "image/png": "[encoded data removed]",
      "text/plain": [
       "<Figure size 432x288 with 1 Axes>"
      ]
     },
     "metadata": {
      "needs_background": "light"
     },
     "output_type": "display_data"
    }
   ],
   "source": [
    "plt.plot(x,y,'o')\n",
    "plt.plot(x, _yhat,'--')\n",
    "plt.plot(x,net(x).data,'-.')"
   ]
  },
  {
   "cell_type": "markdown",
   "id": "5020662c-8e2d-4784-8411-dbf86a33a93d",
   "metadata": {},
   "source": [
    "`-` 수식표현: $\\hat{y}_i = \\hat{w}_0 + \\hat{w}_1 x_i = \\hat{b} + \\hat{w}x_i =  -0.8470 + -0.3467 x_i$ for all $i=1,2,\\dots,100$. "
   ]
  },
  {
   "cell_type": "markdown",
   "id": "b8d119d2-f3d7-4f5e-b89c-813bf7d7738f",
   "metadata": {},
   "source": [
    "### ver2"
   ]
  },
  {
   "cell_type": "markdown",
   "id": "86c220bb-8f4b-4cde-9eaa-c78ca1872f41",
   "metadata": {},
   "source": [
    "`-` 입력이 x가 아닌 X를 넣고 싶다면? (보통 잘 안하긴 해요, 왜? bias=False로 주는게 귀찮거든요)\n",
    "- X는 바이어스가 고려된 상황 "
   ]
  },
  {
   "cell_type": "code",
   "execution_count": 104,
   "id": "d15f6fa2-98b9-49e0-9a01-2fe7fd0953b4",
   "metadata": {},
   "outputs": [
    {
     "ename": "RuntimeError",
     "evalue": "mat1 and mat2 shapes cannot be multiplied (100x2 and 1x1)",
     "output_type": "error",
     "traceback": [
      "\u001b[0;31m---------------------------------------------------------------------------\u001b[0m",
      "\u001b[0;31mRuntimeError\u001b[0m                              Traceback (most recent call last)",
      "\u001b[0;32m<ipython-input-104-e0ceb3d07db4>\u001b[0m in \u001b[0;36m<module>\u001b[0;34m\u001b[0m\n\u001b[0;32m----> 1\u001b[0;31m \u001b[0mnet\u001b[0m\u001b[0;34m(\u001b[0m\u001b[0mX\u001b[0m\u001b[0;34m)\u001b[0m \u001b[0;31m## 그대로 쓰면 당연히 에러\u001b[0m\u001b[0;34m\u001b[0m\u001b[0;34m\u001b[0m\u001b[0m\n\u001b[0m",
      "\u001b[0;32m~/anaconda3/envs/py37/lib/python3.7/site-packages/torch/nn/modules/module.py\u001b[0m in \u001b[0;36m_call_impl\u001b[0;34m(self, *input, **kwargs)\u001b[0m\n\u001b[1;32m   1128\u001b[0m         if not (self._backward_hooks or self._forward_hooks or self._forward_pre_hooks or _global_backward_hooks\n\u001b[1;32m   1129\u001b[0m                 or _global_forward_hooks or _global_forward_pre_hooks):\n\u001b[0;32m-> 1130\u001b[0;31m             \u001b[0;32mreturn\u001b[0m \u001b[0mforward_call\u001b[0m\u001b[0;34m(\u001b[0m\u001b[0;34m*\u001b[0m\u001b[0minput\u001b[0m\u001b[0;34m,\u001b[0m \u001b[0;34m**\u001b[0m\u001b[0mkwargs\u001b[0m\u001b[0;34m)\u001b[0m\u001b[0;34m\u001b[0m\u001b[0;34m\u001b[0m\u001b[0m\n\u001b[0m\u001b[1;32m   1131\u001b[0m         \u001b[0;31m# Do not call functions when jit is used\u001b[0m\u001b[0;34m\u001b[0m\u001b[0;34m\u001b[0m\u001b[0;34m\u001b[0m\u001b[0m\n\u001b[1;32m   1132\u001b[0m         \u001b[0mfull_backward_hooks\u001b[0m\u001b[0;34m,\u001b[0m \u001b[0mnon_full_backward_hooks\u001b[0m \u001b[0;34m=\u001b[0m \u001b[0;34m[\u001b[0m\u001b[0;34m]\u001b[0m\u001b[0;34m,\u001b[0m \u001b[0;34m[\u001b[0m\u001b[0;34m]\u001b[0m\u001b[0;34m\u001b[0m\u001b[0;34m\u001b[0m\u001b[0m\n",
      "\u001b[0;32m~/anaconda3/envs/py37/lib/python3.7/site-packages/torch/nn/modules/linear.py\u001b[0m in \u001b[0;36mforward\u001b[0;34m(self, input)\u001b[0m\n\u001b[1;32m    112\u001b[0m \u001b[0;34m\u001b[0m\u001b[0m\n\u001b[1;32m    113\u001b[0m     \u001b[0;32mdef\u001b[0m \u001b[0mforward\u001b[0m\u001b[0;34m(\u001b[0m\u001b[0mself\u001b[0m\u001b[0;34m,\u001b[0m \u001b[0minput\u001b[0m\u001b[0;34m:\u001b[0m \u001b[0mTensor\u001b[0m\u001b[0;34m)\u001b[0m \u001b[0;34m->\u001b[0m \u001b[0mTensor\u001b[0m\u001b[0;34m:\u001b[0m\u001b[0;34m\u001b[0m\u001b[0;34m\u001b[0m\u001b[0m\n\u001b[0;32m--> 114\u001b[0;31m         \u001b[0;32mreturn\u001b[0m \u001b[0mF\u001b[0m\u001b[0;34m.\u001b[0m\u001b[0mlinear\u001b[0m\u001b[0;34m(\u001b[0m\u001b[0minput\u001b[0m\u001b[0;34m,\u001b[0m \u001b[0mself\u001b[0m\u001b[0;34m.\u001b[0m\u001b[0mweight\u001b[0m\u001b[0;34m,\u001b[0m \u001b[0mself\u001b[0m\u001b[0;34m.\u001b[0m\u001b[0mbias\u001b[0m\u001b[0;34m)\u001b[0m\u001b[0;34m\u001b[0m\u001b[0;34m\u001b[0m\u001b[0m\n\u001b[0m\u001b[1;32m    115\u001b[0m \u001b[0;34m\u001b[0m\u001b[0m\n\u001b[1;32m    116\u001b[0m     \u001b[0;32mdef\u001b[0m \u001b[0mextra_repr\u001b[0m\u001b[0;34m(\u001b[0m\u001b[0mself\u001b[0m\u001b[0;34m)\u001b[0m \u001b[0;34m->\u001b[0m \u001b[0mstr\u001b[0m\u001b[0;34m:\u001b[0m\u001b[0;34m\u001b[0m\u001b[0;34m\u001b[0m\u001b[0m\n",
      "\u001b[0;31mRuntimeError\u001b[0m: mat1 and mat2 shapes cannot be multiplied (100x2 and 1x1)"
     ]
    }
   ],
   "source": [
    "net(X) ## 그대로 쓰면 당연히 에러"
   ]
  },
  {
   "cell_type": "code",
   "execution_count": 105,
   "id": "a5f13274-9651-41b3-8e1b-8de3d4edbf64",
   "metadata": {},
   "outputs": [],
   "source": [
    "torch.manual_seed(43052)\n",
    "net = torch.nn.Linear(in_features=2, out_features=1, bias=False) "
   ]
  },
  {
   "cell_type": "code",
   "execution_count": 106,
   "id": "b0e42ec4-3bc3-4807-9d73-e1f10a7f21e7",
   "metadata": {},
   "outputs": [
    {
     "data": {
      "text/plain": [
       "Parameter containing:\n",
       "tensor([[-0.2451, -0.5989]], requires_grad=True)"
      ]
     },
     "execution_count": 106,
     "metadata": {},
     "output_type": "execute_result"
    }
   ],
   "source": [
    "net.weight"
   ]
  },
  {
   "cell_type": "code",
   "execution_count": 107,
   "id": "23c61037-bc81-476f-a7c1-51538b66fb95",
   "metadata": {},
   "outputs": [],
   "source": [
    "net.bias"
   ]
  },
  {
   "cell_type": "code",
   "execution_count": 122,
   "id": "66cb80fb-e68f-4b1a-85fa-f4e13533cf6c",
   "metadata": {},
   "outputs": [
    {
     "data": {
      "text/plain": [
       "[<matplotlib.lines.Line2D at 0x7f870cd2c5d0>]"
      ]
     },
     "execution_count": 122,
     "metadata": {},
     "output_type": "execute_result"
    },
    {
     "data": {
      "image/png": "[encoded data removed]",
      "text/plain": [
       "<Figure size 432x288 with 1 Axes>"
      ]
     },
     "metadata": {
      "needs_background": "light"
     },
     "output_type": "display_data"
    }
   ],
   "source": [
    "plt.plot(x,y,'o') \n",
    "plt.plot(x,net(X).data, '--')\n",
    "plt.plot(x,X@torch.tensor([[-0.2451],[-0.5989]]), '-.')"
   ]
  },
  {
   "cell_type": "markdown",
   "id": "95687f28-d5c2-4347-ac25-25b0b6994fd9",
   "metadata": {},
   "source": [
    "`-` 수식표현: $\\hat{\\bf y} = {\\bf X} {\\bf \\hat W} = \\begin{bmatrix} 1 & x_1 \\\\ 1 & x_2 \\\\ \\dots & \\dots \\\\ 1 & x_{100} \\end{bmatrix}  \\begin{bmatrix} -0.2451 \\\\ -0.5989  \\end{bmatrix}$"
   ]
  },
  {
   "cell_type": "markdown",
   "id": "83704007-584f-4c41-8358-aef2408d6b22",
   "metadata": {},
   "source": [
    "### 잘못된사용1"
   ]
  },
  {
   "cell_type": "code",
   "execution_count": 123,
   "id": "628348e9-1f1b-4e81-9144-1937dd481984",
   "metadata": {},
   "outputs": [],
   "source": [
    "_x = x.reshape(-1)"
   ]
  },
  {
   "cell_type": "code",
   "execution_count": 124,
   "id": "b30da651-09c8-4735-956e-08716aa7fafc",
   "metadata": {},
   "outputs": [
    {
     "data": {
      "text/plain": [
       "tensor([-2.4821, -2.3621, -1.9973, -1.6239, -1.4792, -1.4635, -1.4509, -1.4435,\n",
       "        -1.3722, -1.3079, -1.1904, -1.1092, -1.1054, -1.0875, -0.9469, -0.9319,\n",
       "        -0.8643, -0.7858, -0.7549, -0.7421, -0.6948, -0.6103, -0.5830, -0.5621,\n",
       "        -0.5506, -0.5058, -0.4806, -0.4738, -0.4710, -0.4676, -0.3874, -0.3719,\n",
       "        -0.3688, -0.3159, -0.2775, -0.2772, -0.2734, -0.2721, -0.2668, -0.2155,\n",
       "        -0.2000, -0.1816, -0.1708, -0.1565, -0.1448, -0.1361, -0.1057, -0.0603,\n",
       "        -0.0559, -0.0214,  0.0655,  0.0684,  0.1195,  0.1420,  0.1521,  0.1568,\n",
       "         0.2646,  0.2656,  0.3157,  0.3220,  0.3461,  0.3984,  0.4190,  0.5443,\n",
       "         0.5579,  0.5913,  0.6148,  0.6469,  0.6469,  0.6523,  0.6674,  0.7059,\n",
       "         0.7141,  0.7822,  0.8154,  0.8668,  0.9291,  0.9804,  0.9853,  0.9941,\n",
       "         1.0376,  1.0393,  1.0697,  1.1024,  1.1126,  1.1532,  1.2289,  1.3403,\n",
       "         1.3494,  1.4279,  1.4994,  1.5031,  1.5437,  1.6789,  2.0832,  2.2444,\n",
       "         2.3935,  2.6056,  2.6057,  2.6632])"
      ]
     },
     "execution_count": 124,
     "metadata": {},
     "output_type": "execute_result"
    }
   ],
   "source": [
    "_x"
   ]
  },
  {
   "cell_type": "code",
   "execution_count": 125,
   "id": "15209f3e-1562-4bbf-9410-fabe25d4d842",
   "metadata": {},
   "outputs": [],
   "source": [
    "torch.manual_seed(43052)\n",
    "net = torch.nn.Linear(in_features=1,out_features=1) "
   ]
  },
  {
   "cell_type": "code",
   "execution_count": 126,
   "id": "e8468d6b-f0a8-4d4a-9021-0d04fbae1147",
   "metadata": {},
   "outputs": [
    {
     "ename": "RuntimeError",
     "evalue": "mat1 and mat2 shapes cannot be multiplied (1x100 and 1x1)",
     "output_type": "error",
     "traceback": [
      "\u001b[0;31m---------------------------------------------------------------------------\u001b[0m",
      "\u001b[0;31mRuntimeError\u001b[0m                              Traceback (most recent call last)",
      "\u001b[0;32m<ipython-input-126-6f02cc22c6a4>\u001b[0m in \u001b[0;36m<module>\u001b[0;34m\u001b[0m\n\u001b[0;32m----> 1\u001b[0;31m \u001b[0mnet\u001b[0m\u001b[0;34m(\u001b[0m\u001b[0m_x\u001b[0m\u001b[0;34m)\u001b[0m\u001b[0;34m\u001b[0m\u001b[0;34m\u001b[0m\u001b[0m\n\u001b[0m",
      "\u001b[0;32m~/anaconda3/envs/py37/lib/python3.7/site-packages/torch/nn/modules/module.py\u001b[0m in \u001b[0;36m_call_impl\u001b[0;34m(self, *input, **kwargs)\u001b[0m\n\u001b[1;32m   1128\u001b[0m         if not (self._backward_hooks or self._forward_hooks or self._forward_pre_hooks or _global_backward_hooks\n\u001b[1;32m   1129\u001b[0m                 or _global_forward_hooks or _global_forward_pre_hooks):\n\u001b[0;32m-> 1130\u001b[0;31m             \u001b[0;32mreturn\u001b[0m \u001b[0mforward_call\u001b[0m\u001b[0;34m(\u001b[0m\u001b[0;34m*\u001b[0m\u001b[0minput\u001b[0m\u001b[0;34m,\u001b[0m \u001b[0;34m**\u001b[0m\u001b[0mkwargs\u001b[0m\u001b[0;34m)\u001b[0m\u001b[0;34m\u001b[0m\u001b[0;34m\u001b[0m\u001b[0m\n\u001b[0m\u001b[1;32m   1131\u001b[0m         \u001b[0;31m# Do not call functions when jit is used\u001b[0m\u001b[0;34m\u001b[0m\u001b[0;34m\u001b[0m\u001b[0;34m\u001b[0m\u001b[0m\n\u001b[1;32m   1132\u001b[0m         \u001b[0mfull_backward_hooks\u001b[0m\u001b[0;34m,\u001b[0m \u001b[0mnon_full_backward_hooks\u001b[0m \u001b[0;34m=\u001b[0m \u001b[0;34m[\u001b[0m\u001b[0;34m]\u001b[0m\u001b[0;34m,\u001b[0m \u001b[0;34m[\u001b[0m\u001b[0;34m]\u001b[0m\u001b[0;34m\u001b[0m\u001b[0;34m\u001b[0m\u001b[0m\n",
      "\u001b[0;32m~/anaconda3/envs/py37/lib/python3.7/site-packages/torch/nn/modules/linear.py\u001b[0m in \u001b[0;36mforward\u001b[0;34m(self, input)\u001b[0m\n\u001b[1;32m    112\u001b[0m \u001b[0;34m\u001b[0m\u001b[0m\n\u001b[1;32m    113\u001b[0m     \u001b[0;32mdef\u001b[0m \u001b[0mforward\u001b[0m\u001b[0;34m(\u001b[0m\u001b[0mself\u001b[0m\u001b[0;34m,\u001b[0m \u001b[0minput\u001b[0m\u001b[0;34m:\u001b[0m \u001b[0mTensor\u001b[0m\u001b[0;34m)\u001b[0m \u001b[0;34m->\u001b[0m \u001b[0mTensor\u001b[0m\u001b[0;34m:\u001b[0m\u001b[0;34m\u001b[0m\u001b[0;34m\u001b[0m\u001b[0m\n\u001b[0;32m--> 114\u001b[0;31m         \u001b[0;32mreturn\u001b[0m \u001b[0mF\u001b[0m\u001b[0;34m.\u001b[0m\u001b[0mlinear\u001b[0m\u001b[0;34m(\u001b[0m\u001b[0minput\u001b[0m\u001b[0;34m,\u001b[0m \u001b[0mself\u001b[0m\u001b[0;34m.\u001b[0m\u001b[0mweight\u001b[0m\u001b[0;34m,\u001b[0m \u001b[0mself\u001b[0m\u001b[0;34m.\u001b[0m\u001b[0mbias\u001b[0m\u001b[0;34m)\u001b[0m\u001b[0;34m\u001b[0m\u001b[0;34m\u001b[0m\u001b[0m\n\u001b[0m\u001b[1;32m    115\u001b[0m \u001b[0;34m\u001b[0m\u001b[0m\n\u001b[1;32m    116\u001b[0m     \u001b[0;32mdef\u001b[0m \u001b[0mextra_repr\u001b[0m\u001b[0;34m(\u001b[0m\u001b[0mself\u001b[0m\u001b[0;34m)\u001b[0m \u001b[0;34m->\u001b[0m \u001b[0mstr\u001b[0m\u001b[0;34m:\u001b[0m\u001b[0;34m\u001b[0m\u001b[0;34m\u001b[0m\u001b[0m\n",
      "\u001b[0;31mRuntimeError\u001b[0m: mat1 and mat2 shapes cannot be multiplied (1x100 and 1x1)"
     ]
    }
   ],
   "source": [
    "net(_x)"
   ]
  },
  {
   "cell_type": "markdown",
   "id": "5ddd658f-208f-4a6e-861f-c0b779d158b3",
   "metadata": {},
   "source": [
    "### 잘못된사용2"
   ]
  },
  {
   "cell_type": "code",
   "execution_count": 127,
   "id": "d40c6840-3d55-4dba-92f3-4e366e55767e",
   "metadata": {},
   "outputs": [],
   "source": [
    "torch.manual_seed(43052)\n",
    "net = torch.nn.Linear(in_features=2,out_features=1) # bias=False를 깜빡.."
   ]
  },
  {
   "cell_type": "code",
   "execution_count": 128,
   "id": "4b5584dc-56ad-45dc-b55b-33c9c69747a3",
   "metadata": {},
   "outputs": [
    {
     "data": {
      "text/plain": [
       "Parameter containing:\n",
       "tensor([[-0.2451, -0.5989]], requires_grad=True)"
      ]
     },
     "execution_count": 128,
     "metadata": {},
     "output_type": "execute_result"
    }
   ],
   "source": [
    "net.weight"
   ]
  },
  {
   "cell_type": "code",
   "execution_count": 129,
   "id": "17e4d297-e319-4847-8824-f5610d3644db",
   "metadata": {},
   "outputs": [
    {
     "data": {
      "text/plain": [
       "Parameter containing:\n",
       "tensor([0.2549], requires_grad=True)"
      ]
     },
     "execution_count": 129,
     "metadata": {},
     "output_type": "execute_result"
    }
   ],
   "source": [
    "net.bias"
   ]
  },
  {
   "cell_type": "code",
   "execution_count": 133,
   "id": "d5cce3d7-248d-481c-9e2e-6281c362f5aa",
   "metadata": {},
   "outputs": [
    {
     "data": {
      "text/plain": [
       "[<matplotlib.lines.Line2D at 0x7f870d1afa90>]"
      ]
     },
     "execution_count": 133,
     "metadata": {},
     "output_type": "execute_result"
    },
    {
     "data": {
      "image/png": "[encoded data removed]",
      "text/plain": [
       "<Figure size 432x288 with 1 Axes>"
      ]
     },
     "metadata": {
      "needs_background": "light"
     },
     "output_type": "display_data"
    }
   ],
   "source": [
    "plt.plot(x,y,'o')\n",
    "plt.plot(x,net(X).data,'--')\n",
    "plt.plot(x,X@torch.tensor([[-0.2451],[-0.5989]])+0.2549,'-.')"
   ]
  },
  {
   "cell_type": "markdown",
   "id": "ead2fd9f-6bb5-48ba-9828-b5e45ecc830e",
   "metadata": {},
   "source": [
    "- 수식표현: $\\hat{\\bf y} = {\\bf X} {\\bf \\hat W} + \\hat{b}= \\begin{bmatrix} 1 & x_1 \\\\ 1 & x_2 \\\\ \\dots & \\dots \\\\ 1 & x_{100} \\end{bmatrix}  \\begin{bmatrix} -0.2451 \\\\ -0.5989  \\end{bmatrix} + 0.2549$"
   ]
  },
  {
   "cell_type": "markdown",
   "id": "7f3ca97f-f7c4-448c-94e9-626b82b91a25",
   "metadata": {},
   "source": [
    "## 숙제 "
   ]
  },
  {
   "cell_type": "markdown",
   "id": "e5af0aee-2bd4-47ef-a46a-a0d87f38d24f",
   "metadata": {},
   "source": [
    "`(1)` 자신의 학번을 seed로 설정하고 표준정규분포에서 5개의 난수를 생성하고 순서대로 정렬한 뒤 이를 `x`로 저장하라. (아래코드참고)\n",
    "\n",
    "```python\n",
    "torch.manual_seed(202043052) \n",
    "x,_ = torch.randn(5).sort()\n",
    "```"
   ]
  },
  {
   "cell_type": "markdown",
   "id": "84d2f591-e8c4-4358-aeeb-8e3f82f88d1c",
   "metadata": {},
   "source": [
    "`(2)` 아래와 같이 torch.nn.Linear()를 이용하여 적당한 네트워크를 생성하고 \"최초의 직선\" $\\hat{y}_i$가 아래와 같이 구해지도록 `net.weight` 혹은 `net.bias`의 값을 수정하라. \n",
    "\n",
    "$$ \\hat{y}_i = 2.5 x_i - 7, \\quad i=1,2,3,4,5 $$ "
   ]
  },
  {
   "cell_type": "markdown",
   "id": "fc30362f-5ba6-4ddc-b608-7dff4cccf747",
   "metadata": {},
   "source": [
    "단, $x_1,x_2,\\dots,x_5$는 `x`의 원소이다. "
   ]
  },
  {
   "cell_type": "markdown",
   "id": "03531c02-acd8-4997-a0a0-1cde7e3585db",
   "metadata": {},
   "source": [
    "> note: 공부를 위해서 bias를 넣은 버전과 넣지 않는 버전 모두 계산해 보세요. (숙제제출은 한 방법으로만 구현해도 무방) "
   ]
  },
  {
   "cell_type": "markdown",
   "id": "cade2f40-e2e4-41c6-b98b-959e36710c79",
   "metadata": {},
   "source": [
    "**(풀이)**"
   ]
  },
  {
   "cell_type": "code",
   "execution_count": 34,
   "id": "4d83d82a-9129-4ac7-bf01-a92cd311bc89",
   "metadata": {},
   "outputs": [],
   "source": [
    "torch.manual_seed(202043052) \n",
    "x,_ = torch.randn(5).sort()\n",
    "x = x.reshape(-1,1)\n",
    "X = torch.concat([torch.ones(5).reshape(-1,1),x],axis=1)"
   ]
  },
  {
   "cell_type": "code",
   "execution_count": 36,
   "id": "94c6e5aa-916b-415d-8b28-9c9c438830c7",
   "metadata": {},
   "outputs": [
    {
     "data": {
      "text/plain": [
       "(tensor([[-2.9777],\n",
       "         [-0.2220],\n",
       "         [-0.1181],\n",
       "         [ 0.1084],\n",
       "         [ 1.7688]]),\n",
       " tensor([[ 1.0000, -2.9777],\n",
       "         [ 1.0000, -0.2220],\n",
       "         [ 1.0000, -0.1181],\n",
       "         [ 1.0000,  0.1084],\n",
       "         [ 1.0000,  1.7688]]))"
      ]
     },
     "execution_count": 36,
     "metadata": {},
     "output_type": "execute_result"
    }
   ],
   "source": [
    "x,X"
   ]
  },
  {
   "cell_type": "markdown",
   "id": "e55642ba-c69d-4a6e-80a6-8501b4a9a947",
   "metadata": {},
   "source": [
    "**(ver1) bias를 넣음**"
   ]
  },
  {
   "cell_type": "code",
   "execution_count": 45,
   "id": "aef1c188-50f7-42a4-8c8b-ed9ab82c9355",
   "metadata": {},
   "outputs": [
    {
     "data": {
      "text/plain": [
       "(tensor([[0.0092]]), tensor([0.1899]))"
      ]
     },
     "execution_count": 45,
     "metadata": {},
     "output_type": "execute_result"
    }
   ],
   "source": [
    "net1=torch.nn.Linear(in_features=1,out_features=1,bias=True) \n",
    "net1.weight.data, net1.bias.data"
   ]
  },
  {
   "cell_type": "code",
   "execution_count": 46,
   "id": "e6ce023e-46f4-44ad-9888-a656aba66cb6",
   "metadata": {},
   "outputs": [
    {
     "data": {
      "text/plain": [
       "(tensor([[2.5000]]), tensor([-7.]))"
      ]
     },
     "execution_count": 46,
     "metadata": {},
     "output_type": "execute_result"
    }
   ],
   "source": [
    "net1.weight.data = torch.tensor([[2.5]])\n",
    "net1.bias.data = torch.tensor([-7.0])\n",
    "net1.weight.data, net1.bias.data"
   ]
  },
  {
   "cell_type": "code",
   "execution_count": 47,
   "id": "8b00873b-59a1-42c8-b553-b8887cfabec8",
   "metadata": {},
   "outputs": [
    {
     "data": {
      "text/plain": [
       "(tensor([[-14.4443],\n",
       "         [ -7.5551],\n",
       "         [ -7.2952],\n",
       "         [ -6.7290],\n",
       "         [ -2.5781]], grad_fn=<AddmmBackward0>),\n",
       " tensor([[-14.4443],\n",
       "         [ -7.5551],\n",
       "         [ -7.2952],\n",
       "         [ -6.7290],\n",
       "         [ -2.5781]]))"
      ]
     },
     "execution_count": 47,
     "metadata": {},
     "output_type": "execute_result"
    }
   ],
   "source": [
    "net1(x), 2.5*x-7"
   ]
  },
  {
   "cell_type": "markdown",
   "id": "c8488e6b-a67c-4a63-8065-87c2be87dabd",
   "metadata": {},
   "source": [
    "**(ver2) bias를 넣지 않음**"
   ]
  },
  {
   "cell_type": "code",
   "execution_count": 48,
   "id": "9741f31a-7f90-4a6a-b41a-f7fb488a3170",
   "metadata": {},
   "outputs": [
    {
     "data": {
      "text/plain": [
       "(tensor([[-0.6152, -0.6372]]), None)"
      ]
     },
     "execution_count": 48,
     "metadata": {},
     "output_type": "execute_result"
    }
   ],
   "source": [
    "net2=torch.nn.Linear(in_features=2,out_features=1,bias=False) \n",
    "net2.weight.data, net2.bias"
   ]
  },
  {
   "cell_type": "code",
   "execution_count": 49,
   "id": "bd3cf40f-2981-48c5-8a3f-072ee728e4b0",
   "metadata": {},
   "outputs": [
    {
     "data": {
      "text/plain": [
       "tensor([[-7.0000,  2.5000]])"
      ]
     },
     "execution_count": 49,
     "metadata": {},
     "output_type": "execute_result"
    }
   ],
   "source": [
    "net2.weight.data = torch.tensor([[-7.0, 2.5]])\n",
    "net2.weight.data"
   ]
  },
  {
   "cell_type": "code",
   "execution_count": 51,
   "id": "15a06ce0-5c50-4990-8c38-f19d3cbf650c",
   "metadata": {},
   "outputs": [
    {
     "data": {
      "text/plain": [
       "(tensor([[-14.4443],\n",
       "         [ -7.5551],\n",
       "         [ -7.2952],\n",
       "         [ -6.7290],\n",
       "         [ -2.5781]], grad_fn=<MmBackward0>),\n",
       " tensor([[-14.4443],\n",
       "         [ -7.5551],\n",
       "         [ -7.2952],\n",
       "         [ -6.7290],\n",
       "         [ -2.5781]]))"
      ]
     },
     "execution_count": 51,
     "metadata": {},
     "output_type": "execute_result"
    }
   ],
   "source": [
    "net2(X), 2.5*x-7"
   ]
  }
 ],
 "metadata": {
  "kernelspec": {
   "display_name": "Python 3 (ipykernel)",
   "language": "python",
   "name": "python3"
  },
  "language_info": {
   "codemirror_mode": {
    "name": "ipython",
    "version": 3
   },
   "file_extension": ".py",
   "mimetype": "text/x-python",
   "name": "python",
   "nbconvert_exporter": "python",
   "pygments_lexer": "ipython3",
   "version": "3.7.13"
  }
 },
 "nbformat": 4,
 "nbformat_minor": 5
}
