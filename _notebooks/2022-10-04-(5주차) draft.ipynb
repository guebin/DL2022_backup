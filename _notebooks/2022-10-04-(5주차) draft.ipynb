{
 "cells": [
  {
   "cell_type": "markdown",
   "id": "1154f2d9-b7f4-4700-9fdc-179886adb04e",
   "metadata": {
    "tags": []
   },
   "source": [
    "# (5주차) 10월4일 -- draft \n",
    "> 딥러닝의 기초 - 로지스틱(3)--넓은신경망과 깊은신경망\n",
    "\n",
    "- toc:true\n",
    "- branch: master\n",
    "- badges: true\n",
    "- comments: true\n",
    "- author: 최규빈"
   ]
  },
  {
   "cell_type": "code",
   "execution_count": 180,
   "id": "0a9a6486-8033-42d5-8ec5-5717bff4603b",
   "metadata": {},
   "outputs": [],
   "source": [
    "import torch\n",
    "import matplotlib.pyplot as plt\n",
    "import pandas as pd"
   ]
  }
 ],
 "metadata": {
  "kernelspec": {
   "display_name": "Python 3 (ipykernel)",
   "language": "python",
   "name": "python3"
  },
  "language_info": {
   "codemirror_mode": {
    "name": "ipython",
    "version": 3
   },
   "file_extension": ".py",
   "mimetype": "text/x-python",
   "name": "python",
   "nbconvert_exporter": "python",
   "pygments_lexer": "ipython3",
   "version": "3.7.13"
  }
 },
 "nbformat": 4,
 "nbformat_minor": 5
}
