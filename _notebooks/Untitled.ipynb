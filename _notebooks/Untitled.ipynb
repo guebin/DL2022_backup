{
 "cells": [
  {
   "cell_type": "markdown",
   "id": "3c2e22ec-b871-44e8-980b-c7645b789657",
   "metadata": {},
   "source": [
    "# (3주차) 9월20일 -- draft\n",
    "> 딥러닝의 기초 - 회귀분석(1)--선형모형,손실함수,경사하강법\n",
    "\n",
    "- toc:true\n",
    "- branch: master\n",
    "- badges: true\n",
    "- comments: true\n",
    "- author: 최규빈"
   ]
  },
  {
   "cell_type": "markdown",
   "id": "715f855a-68c8-43d9-9477-ccaf01726e85",
   "metadata": {},
   "source": [
    "## 강의영상 "
   ]
  },
  {
   "cell_type": "markdown",
   "id": "c9915b48-28ba-4034-a7f4-ec52e5637199",
   "metadata": {},
   "source": [
    "## imports"
   ]
  },
  {
   "cell_type": "code",
   "execution_count": 2,
   "id": "903d2bef-18cf-436f-aba0-bbf57ea3bbcb",
   "metadata": {},
   "outputs": [],
   "source": [
    "import torch\n",
    "#import numpy as np\n",
    "import matplotlib.pyplot as plt "
   ]
  },
  {
   "cell_type": "markdown",
   "id": "1c87f343-88fa-4779-842c-257ab3973b76",
   "metadata": {},
   "source": [
    "## 로드맵"
   ]
  },
  {
   "cell_type": "markdown",
   "id": "9550871a-a313-425b-92fa-48625a2f8bff",
   "metadata": {},
   "source": [
    "\n",
    "`-` 회귀분석 $\\to$ 로지스틱 $\\to$ 심층신경망(DNN) $\\to$ 합성곱신경망(CNN) "
   ]
  },
  {
   "cell_type": "markdown",
   "id": "ca85dc8e-eec3-425a-99be-755235bf064d",
   "metadata": {},
   "source": [
    "`-` [강의계획서]()"
   ]
  },
  {
   "cell_type": "code",
   "execution_count": null,
   "id": "e61eb69f-162e-47c6-982b-fe32e524b008",
   "metadata": {},
   "outputs": [],
   "source": []
  }
 ],
 "metadata": {
  "kernelspec": {
   "display_name": "Python 3 (ipykernel)",
   "language": "python",
   "name": "python3"
  },
  "language_info": {
   "codemirror_mode": {
    "name": "ipython",
    "version": 3
   },
   "file_extension": ".py",
   "mimetype": "text/x-python",
   "name": "python",
   "nbconvert_exporter": "python",
   "pygments_lexer": "ipython3",
   "version": "3.7.13"
  }
 },
 "nbformat": 4,
 "nbformat_minor": 5
}
