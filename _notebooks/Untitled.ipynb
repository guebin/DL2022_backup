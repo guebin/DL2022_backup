{
 "cells": [
  {
   "cell_type": "code",
   "execution_count": null,
   "id": "98f4eed0-e878-433a-8270-2a6425eb7341",
   "metadata": {},
   "outputs": [],
   "source": []
  },
  {
   "cell_type": "code",
   "execution_count": null,
   "id": "3ceb4e26-53c5-46b5-aac5-89b75ebc7b9e",
   "metadata": {},
   "outputs": [],
   "source": [
    "# 중간고사 "
   ]
  },
  {
   "cell_type": "code",
   "execution_count": 1,
   "id": "3e4b494c-885e-47ab-9283-24c6c61f4b81",
   "metadata": {},
   "outputs": [],
   "source": [
    "import pandas as pd"
   ]
  },
  {
   "cell_type": "code",
   "execution_count": 16,
   "id": "5c8c2489-533a-42d3-b7b9-3b38a9727480",
   "metadata": {},
   "outputs": [
    {
     "data": {
      "text/plain": [
       "0     50\n",
       "1     48\n",
       "2     48\n",
       "3     48\n",
       "4     48\n",
       "5     48\n",
       "6     44\n",
       "7     44\n",
       "8     42\n",
       "9     40\n",
       "10    40\n",
       "11    36\n",
       "12    33\n",
       "13    32\n",
       "14    32\n",
       "15    30\n",
       "16    30\n",
       "17    26\n",
       "18    22\n",
       "19    22\n",
       "20    22\n",
       "21    20\n",
       "22    20\n",
       "23    20\n",
       "24    20\n",
       "25    20\n",
       "26    16\n",
       "27    16\n",
       "28    14\n",
       "29    12\n",
       "30    12\n",
       "31    10\n",
       "32    10\n",
       "33     8\n",
       "34     8\n",
       "35     8\n",
       "36     8\n",
       "37     6\n",
       "38     6\n",
       "dtype: int64"
      ]
     },
     "execution_count": 16,
     "metadata": {},
     "output_type": "execute_result"
    }
   ],
   "source": [
    "mid = pd.Series([50,48,48,48,48,48,44,44,42,40,40,36,33,32,32,30,30,26,22,22,22,20,20,20,20,20,16,16,14,12,12,10,10,8,8,8,8,6,6])\n",
    "mid"
   ]
  },
  {
   "cell_type": "code",
   "execution_count": 19,
   "id": "c6e4e680-57dc-4662-bedd-9785848a7995",
   "metadata": {},
   "outputs": [
    {
     "data": {
      "text/plain": [
       "<AxesSubplot:>"
      ]
     },
     "execution_count": 19,
     "metadata": {},
     "output_type": "execute_result"
    },
    {
     "data": {
      "image/png": "[encoded data removed]",
      "text/plain": [
       "<Figure size 432x288 with 1 Axes>"
      ]
     },
     "metadata": {
      "needs_background": "light"
     },
     "output_type": "display_data"
    }
   ],
   "source": [
    "mid.hist()"
   ]
  },
  {
   "cell_type": "code",
   "execution_count": 18,
   "id": "cc2240d5-42e8-4b57-bf9e-296fbeefea5c",
   "metadata": {},
   "outputs": [
    {
     "data": {
      "text/plain": [
       "count    39.000000\n",
       "mean     26.128205\n",
       "std      14.614664\n",
       "min       6.000000\n",
       "25%      13.000000\n",
       "50%      22.000000\n",
       "75%      40.000000\n",
       "max      50.000000\n",
       "dtype: float64"
      ]
     },
     "execution_count": 18,
     "metadata": {},
     "output_type": "execute_result"
    }
   ],
   "source": [
    "mid.describe()"
   ]
  }
 ],
 "metadata": {
  "kernelspec": {
   "display_name": "Python 3 (ipykernel)",
   "language": "python",
   "name": "python3"
  },
  "language_info": {
   "codemirror_mode": {
    "name": "ipython",
    "version": 3
   },
   "file_extension": ".py",
   "mimetype": "text/x-python",
   "name": "python",
   "nbconvert_exporter": "python",
   "pygments_lexer": "ipython3",
   "version": "3.7.13"
  }
 },
 "nbformat": 4,
 "nbformat_minor": 5
}
