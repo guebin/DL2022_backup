{
 "cells": [
  {
   "cell_type": "markdown",
   "id": "100c09e2-a036-41d4-930c-5f49a645fbf1",
   "metadata": {
    "tags": []
   },
   "source": [
    "### 예제4"
   ]
  },
  {
   "cell_type": "code",
   "execution_count": null,
   "id": "9d9045f6-42a4-4c75-baca-27680049a6ad",
   "metadata": {},
   "outputs": [],
   "source": [
    "import torchvision\n",
    "from fastai.data.all import *"
   ]
  },
  {
   "cell_type": "markdown",
   "id": "63b7825a-8c6a-41c5-8f2d-a01d378d3a67",
   "metadata": {},
   "source": [
    "`-` 데이터정리 "
   ]
  },
  {
   "cell_type": "code",
   "execution_count": 223,
   "id": "9085c0e8-39d5-488a-b3bd-a8fc8dbd5bb6",
   "metadata": {},
   "outputs": [],
   "source": [
    "path = untar_data(URLs.MNIST)"
   ]
  },
  {
   "cell_type": "code",
   "execution_count": 241,
   "id": "9c087f4b-5612-4d97-829c-da4e76ebadf0",
   "metadata": {},
   "outputs": [],
   "source": [
    "threes= (path/'training'/'3').ls()\n",
    "sevens= (path/'training'/'7').ls()"
   ]
  },
  {
   "cell_type": "code",
   "execution_count": 246,
   "id": "08d23051-18ac-465a-8c1c-f602ea737fc1",
   "metadata": {},
   "outputs": [
    {
     "data": {
      "text/plain": [
       "Path('/home/cgb4/.fastai/data/mnist_png/training/3/37912.png')"
      ]
     },
     "execution_count": 246,
     "metadata": {},
     "output_type": "execute_result"
    }
   ],
   "source": [
    "threes[0]"
   ]
  },
  {
   "cell_type": "code",
   "execution_count": 247,
   "id": "1f33cf5c-bb58-4ee7-8900-8d8611c6bbc8",
   "metadata": {},
   "outputs": [
    {
     "data": {
      "text/plain": [
       "'/home/cgb4/.fastai/data/mnist_png/training/3/37912.png'"
      ]
     },
     "execution_count": 247,
     "metadata": {},
     "output_type": "execute_result"
    }
   ],
   "source": [
    "str(threes[0])"
   ]
  },
  {
   "cell_type": "code",
   "execution_count": 253,
   "id": "e615a854-536b-4f87-941d-bdfa4a73bd05",
   "metadata": {},
   "outputs": [
    {
     "data": {
      "text/plain": [
       "torch.Size([1, 28, 28])"
      ]
     },
     "execution_count": 253,
     "metadata": {},
     "output_type": "execute_result"
    }
   ],
   "source": [
    "imgtsr1=torchvision.io.read_image(str(threes[0]))\n",
    "imgtsr1.shape"
   ]
  },
  {
   "cell_type": "markdown",
   "id": "a51272a3-9e4e-42c7-adca-184eb2f16a0e",
   "metadata": {},
   "source": [
    "- imgtsr1: 숫자3에 대한 첫번쨰 이미지를 텐서로 바꾼것 "
   ]
  },
  {
   "cell_type": "code",
   "execution_count": 254,
   "id": "40c88822-e054-4ce9-9427-58b0c6369f0c",
   "metadata": {},
   "outputs": [
    {
     "data": {
      "text/plain": [
       "torch.Size([1, 28, 28])"
      ]
     },
     "execution_count": 254,
     "metadata": {},
     "output_type": "execute_result"
    }
   ],
   "source": [
    "imgtsr2=torchvision.io.read_image(str(threes[1]))\n",
    "imgtsr2.shape"
   ]
  },
  {
   "cell_type": "markdown",
   "id": "67252e38-05e4-4655-b904-f5d6848a4a48",
   "metadata": {},
   "source": [
    "- imgtsr1: 숫자3에 대한 두번째 이미지를 텐서로 바꾼것 "
   ]
  },
  {
   "cell_type": "code",
   "execution_count": 257,
   "id": "74f3597e-e5b8-4dc9-85ac-73b255413d4c",
   "metadata": {},
   "outputs": [
    {
     "data": {
      "text/plain": [
       "tensor([[[0, 0, 0,  ..., 0, 0, 0],\n",
       "         [0, 0, 0,  ..., 0, 0, 0],\n",
       "         [0, 0, 0,  ..., 0, 0, 0],\n",
       "         ...,\n",
       "         [0, 0, 0,  ..., 0, 0, 0],\n",
       "         [0, 0, 0,  ..., 0, 0, 0],\n",
       "         [0, 0, 0,  ..., 0, 0, 0]],\n",
       "\n",
       "        [[0, 0, 0,  ..., 0, 0, 0],\n",
       "         [0, 0, 0,  ..., 0, 0, 0],\n",
       "         [0, 0, 0,  ..., 0, 0, 0],\n",
       "         ...,\n",
       "         [0, 0, 0,  ..., 0, 0, 0],\n",
       "         [0, 0, 0,  ..., 0, 0, 0],\n",
       "         [0, 0, 0,  ..., 0, 0, 0]]], dtype=torch.uint8)"
      ]
     },
     "execution_count": 257,
     "metadata": {},
     "output_type": "execute_result"
    }
   ],
   "source": [
    "torch.concat([imgtsr1,imgtsr2])"
   ]
  },
  {
   "cell_type": "code",
   "execution_count": null,
   "id": "a2bbbdfc-f2b1-4395-8aa0-e4cb8dad32a9",
   "metadata": {},
   "outputs": [],
   "source": []
  },
  {
   "cell_type": "code",
   "execution_count": null,
   "id": "e2b8977e-faa1-472b-a0d6-867a713b152c",
   "metadata": {},
   "outputs": [],
   "source": []
  },
  {
   "cell_type": "code",
   "execution_count": 75,
   "id": "ceee9eb0-2faf-48aa-b687-bf40fb12bdd5",
   "metadata": {},
   "outputs": [],
   "source": [
    "three_tensor = torch.stack([torchvision.io.read_image(str(p)) for p in threes]).float()/255\n",
    "seven_tensor = torch.stack([torchvision.io.read_image(str(p)) for p in sevens]).float()/255"
   ]
  },
  {
   "cell_type": "code",
   "execution_count": 76,
   "id": "8eb41555-9928-4278-8367-91b311a5a242",
   "metadata": {},
   "outputs": [
    {
     "data": {
      "text/plain": [
       "(torch.Size([6131, 1, 28, 28]), torch.Size([6265, 1, 28, 28]))"
      ]
     },
     "execution_count": 76,
     "metadata": {},
     "output_type": "execute_result"
    }
   ],
   "source": [
    "three_tensor.shape,seven_tensor.shape"
   ]
  },
  {
   "cell_type": "code",
   "execution_count": 77,
   "id": "83abda7d-662f-45e2-8184-e49bd3e2007f",
   "metadata": {},
   "outputs": [],
   "source": [
    "X = torch.concat([three_tensor,seven_tensor])\n",
    "y = torch.tensor([0.0]*len(three_tensor) + [1.0]*len(seven_tensor)).reshape(-1,1) "
   ]
  },
  {
   "cell_type": "code",
   "execution_count": 78,
   "id": "62012d51-308d-4baf-83f7-24625ddbc840",
   "metadata": {},
   "outputs": [],
   "source": [
    "Xnp = X.reshape(-1,28*28)"
   ]
  },
  {
   "cell_type": "markdown",
   "id": "d4a45b1e-12ac-461e-aaf3-40d542eea075",
   "metadata": {},
   "source": [
    "`-` 학습1: torch.nn.BCELoss() 이용 "
   ]
  },
  {
   "cell_type": "code",
   "execution_count": 79,
   "id": "152b2ff3-f063-4c78-bff1-b272fe489325",
   "metadata": {},
   "outputs": [
    {
     "data": {
      "text/plain": [
       "[<matplotlib.lines.Line2D at 0x7fcb1eb7dd50>]"
      ]
     },
     "execution_count": 79,
     "metadata": {},
     "output_type": "execute_result"
    },
    {
     "data": {
      "image/png": "[encoded data removed]",
      "text/plain": [
       "<Figure size 432x288 with 1 Axes>"
      ]
     },
     "metadata": {
      "needs_background": "light"
     },
     "output_type": "display_data"
    }
   ],
   "source": [
    "plt.plot(y,'o')"
   ]
  },
  {
   "cell_type": "code",
   "execution_count": 80,
   "id": "bf14609c-73a1-4b1d-9ab8-f81e03fb5f37",
   "metadata": {},
   "outputs": [],
   "source": [
    "torch.manual_seed(43052)\n",
    "net = torch.nn.Sequential(\n",
    "    torch.nn.Linear(in_features=28*28,out_features=30),\n",
    "    torch.nn.ReLU(),\n",
    "    torch.nn.Linear(in_features=30,out_features=1),\n",
    "    torch.nn.Sigmoid()\n",
    ")"
   ]
  },
  {
   "cell_type": "markdown",
   "id": "18b5ccb9-5aee-4028-9b58-d1858bfdc0b7",
   "metadata": {},
   "source": [
    "- $\\underset{(n,784)}{\\bf X} \\overset{l_1}{\\to} \\underset{(n,30)}{\\boldsymbol u^{(1)}} \\overset{a_1}{\\to} \\underset{(n,30)}{\\boldsymbol v^{(1)}} \\overset{l_1}{\\to} \\underset{(n,1)}{\\boldsymbol u^{(2)}} \\overset{a_2}{\\to} \\underset{(n,1)}{\\boldsymbol v^{(2)}}=\\underset{(n,1)}{\\hat{\\boldsymbol y}}$"
   ]
  },
  {
   "cell_type": "code",
   "execution_count": 81,
   "id": "a1be035b-cd0a-44dd-98a6-d2be7f70d335",
   "metadata": {},
   "outputs": [],
   "source": [
    "loss_fn = torch.nn.BCELoss()"
   ]
  },
  {
   "cell_type": "code",
   "execution_count": 82,
   "id": "ade76557-f3ae-4a72-95af-5369fcafd8ce",
   "metadata": {},
   "outputs": [],
   "source": [
    "optimizr = torch.optim.Adam(net.parameters())"
   ]
  },
  {
   "cell_type": "code",
   "execution_count": 83,
   "id": "23d37ca9-47bd-4872-9924-ea5c2630f91b",
   "metadata": {},
   "outputs": [
    {
     "data": {
      "text/plain": [
       "(torch.Size([2000, 1]), torch.Size([12396, 1]))"
      ]
     },
     "execution_count": 83,
     "metadata": {},
     "output_type": "execute_result"
    }
   ],
   "source": [
    "yhat.shape,y.shape"
   ]
  },
  {
   "cell_type": "code",
   "execution_count": 84,
   "id": "65cf6536-69c7-4f23-bc69-ce3c44e2717e",
   "metadata": {},
   "outputs": [],
   "source": [
    "for epoc in range(200):\n",
    "    ## 1\n",
    "    yhat = net(Xnp) \n",
    "    ## 2\n",
    "    loss = loss_fn(yhat,y) \n",
    "    ## 3 \n",
    "    loss.backward()\n",
    "    ## 4 \n",
    "    optimizr.step()\n",
    "    optimizr.zero_grad()"
   ]
  },
  {
   "cell_type": "code",
   "execution_count": 85,
   "id": "70508810-c906-46cf-84c3-ad413c7f0c2a",
   "metadata": {},
   "outputs": [
    {
     "data": {
      "text/plain": [
       "[<matplotlib.lines.Line2D at 0x7fcb1e721390>]"
      ]
     },
     "execution_count": 85,
     "metadata": {},
     "output_type": "execute_result"
    },
    {
     "data": {
      "image/png": "[encoded data removed]",
      "text/plain": [
       "<Figure size 432x288 with 1 Axes>"
      ]
     },
     "metadata": {
      "needs_background": "light"
     },
     "output_type": "display_data"
    }
   ],
   "source": [
    "plt.plot(y,'o')\n",
    "plt.plot(net(Xnp).data,'.',alpha=0.1)"
   ]
  },
  {
   "cell_type": "markdown",
   "id": "f2c57d50-eaef-4ee8-9bd2-afdf2946dbea",
   "metadata": {},
   "source": [
    "`-` 학습2: torch.nn.BCEWithLogitsLoss() 이용 "
   ]
  },
  {
   "cell_type": "code",
   "execution_count": 86,
   "id": "4b45168f-f037-4e1c-b32b-10c4305c89a2",
   "metadata": {},
   "outputs": [],
   "source": [
    "torch.manual_seed(43052)\n",
    "net = torch.nn.Sequential(\n",
    "    torch.nn.Linear(in_features=28*28,out_features=30),\n",
    "    torch.nn.ReLU(),\n",
    "    torch.nn.Linear(in_features=30,out_features=1),\n",
    "    #torch.nn.Sigmoid() # <- 이걸 뺍니당..\n",
    ")"
   ]
  },
  {
   "cell_type": "markdown",
   "id": "aa48119c-2787-44f1-9b56-46942a9df8ed",
   "metadata": {},
   "source": [
    "- $\\underset{(n,784)}{\\bf X} \\overset{l_1}{\\to} \\underset{(n,30)}{\\boldsymbol u^{(1)}} \\overset{a_1}{\\to} \\underset{(n,30)}{\\boldsymbol v^{(1)}} \\overset{l_1}{\\to} \\underset{(n,1)}{\\boldsymbol u^{(2)}}=\\underset{(n,1)}{net({\\bf X})}, \\quad \\text{sig}(net({\\bf X}))\\approx {\\boldsymbol y}$"
   ]
  },
  {
   "cell_type": "code",
   "execution_count": 87,
   "id": "b4a2da4c-3cd8-4ab8-8303-fc6136703a70",
   "metadata": {},
   "outputs": [],
   "source": [
    "torch.manual_seed(43052)\n",
    "_net = torch.nn.Sequential(\n",
    "    torch.nn.Linear(in_features=28*28,out_features=30),\n",
    "    torch.nn.ReLU(),\n",
    "    torch.nn.Linear(in_features=30,out_features=1),\n",
    "    torch.nn.Sigmoid() \n",
    ")"
   ]
  },
  {
   "cell_type": "code",
   "execution_count": 88,
   "id": "814436ba-44a3-44a5-bf64-0bcb14c5cce7",
   "metadata": {},
   "outputs": [],
   "source": [
    "loss_fn = torch.nn.BCEWithLogitsLoss()\n",
    "_loss_fn = torch.nn.BCELoss()"
   ]
  },
  {
   "cell_type": "code",
   "execution_count": 89,
   "id": "960becc9-4fc9-4a00-b16b-65d3f8707cf5",
   "metadata": {},
   "outputs": [
    {
     "data": {
      "text/plain": [
       "(tensor(0.7148, grad_fn=<BinaryCrossEntropyWithLogitsBackward0>),\n",
       " tensor(0.7148, grad_fn=<BinaryCrossEntropyBackward0>))"
      ]
     },
     "execution_count": 89,
     "metadata": {},
     "output_type": "execute_result"
    }
   ],
   "source": [
    "loss_fn(net(Xnp),y),_loss_fn(_net(Xnp),y) "
   ]
  },
  {
   "cell_type": "code",
   "execution_count": 90,
   "id": "07a79f98-e571-4af6-8dd9-38e3374fa6d7",
   "metadata": {},
   "outputs": [],
   "source": [
    "optimizr = torch.optim.Adam(net.parameters())"
   ]
  },
  {
   "cell_type": "code",
   "execution_count": 91,
   "id": "4062dac6-24d9-4e65-8c0d-efd5de9beae0",
   "metadata": {},
   "outputs": [],
   "source": [
    "for epoc in range(200):\n",
    "    ## 1\n",
    "    yhat = net(Xnp) \n",
    "    ## 2\n",
    "    loss = loss_fn(yhat,y) \n",
    "    ## 3 \n",
    "    loss.backward()\n",
    "    ## 4 \n",
    "    optimizr.step()\n",
    "    optimizr.zero_grad()"
   ]
  },
  {
   "cell_type": "code",
   "execution_count": 92,
   "id": "420ff298-bcc0-44e3-b3dd-d3ae148e26bb",
   "metadata": {},
   "outputs": [
    {
     "data": {
      "text/plain": [
       "[<matplotlib.lines.Line2D at 0x7fcb1e398310>]"
      ]
     },
     "execution_count": 92,
     "metadata": {},
     "output_type": "execute_result"
    },
    {
     "data": {
      "image/png": "[encoded data removed]",
      "text/plain": [
       "<Figure size 576x288 with 2 Axes>"
      ]
     },
     "metadata": {
      "needs_background": "light"
     },
     "output_type": "display_data"
    }
   ],
   "source": [
    "fig,ax = plt.subplots(1,2,figsize=(8,4))\n",
    "ax[0].plot(net(Xnp).data,',')\n",
    "ax[1].plot(y,'o')\n",
    "ax[1].plot(sig(net(Xnp)).data,',')"
   ]
  },
  {
   "cell_type": "markdown",
   "id": "738045fb-751d-4188-848c-bafd228d832a",
   "metadata": {},
   "source": [
    "note: sigmoid 이후에 0.5 보다 큰지 작은지 판단하는 것 $\\Leftrightarrow$ sigmoid 이전에 0 보다 큰지 작은지 판단하는 것"
   ]
  },
  {
   "cell_type": "markdown",
   "id": "ebc48f6e-5ede-412d-ba33-ca75aae92106",
   "metadata": {},
   "source": [
    "`-` 학습3: torch.nn.CrossEntropyLoss() 이용 "
   ]
  },
  {
   "cell_type": "markdown",
   "id": "ba5d8f4a-9817-4f47-b2b7-b31ad92c0871",
   "metadata": {},
   "source": [
    "(예비학습1) softmax "
   ]
  },
  {
   "cell_type": "code",
   "execution_count": 434,
   "id": "d68fbbbc-d24e-4948-bea3-c8b8aecc3b69",
   "metadata": {},
   "outputs": [],
   "source": [
    "sftmax = torch.nn.Softmax(dim=1)"
   ]
  },
  {
   "cell_type": "code",
   "execution_count": 463,
   "id": "e689bb1b-53a3-4772-be0a-541c8d483239",
   "metadata": {},
   "outputs": [],
   "source": [
    "_x = torch.tensor([[0,0,1,2]]).float()"
   ]
  },
  {
   "cell_type": "code",
   "execution_count": 464,
   "id": "49eb6ec1-e51d-4afd-aeea-17fc5eb8c0db",
   "metadata": {},
   "outputs": [
    {
     "data": {
      "text/plain": [
       "tensor([[0.0826, 0.0826, 0.2245, 0.6103]])"
      ]
     },
     "execution_count": 464,
     "metadata": {},
     "output_type": "execute_result"
    }
   ],
   "source": [
    "sftmax(_x)"
   ]
  },
  {
   "cell_type": "code",
   "execution_count": 465,
   "id": "bda6a20a-cc4c-4ae2-941a-3df85ac5dbc9",
   "metadata": {},
   "outputs": [
    {
     "data": {
      "text/plain": [
       "tensor([[0.0826, 0.0826, 0.2245, 0.6103]])"
      ]
     },
     "execution_count": 465,
     "metadata": {},
     "output_type": "execute_result"
    }
   ],
   "source": [
    "torch.exp(_x)/torch.exp(_x).sum()"
   ]
  },
  {
   "cell_type": "markdown",
   "id": "e90e69cb-88f2-4137-9f70-d17d2943f353",
   "metadata": {},
   "source": [
    "특징1: 총합이1이다 -> 확률의 역할을 함 "
   ]
  },
  {
   "cell_type": "markdown",
   "id": "dc5f1384-12e7-40b0-bd08-e6502d984fc3",
   "metadata": {},
   "source": [
    "특징2: 파라메터의 잉여성 "
   ]
  },
  {
   "cell_type": "code",
   "execution_count": 438,
   "id": "d3cc3a17-a93e-4bfa-bcf9-acba1f56421b",
   "metadata": {},
   "outputs": [],
   "source": [
    "_x1 = torch.tensor([[0,0,1,2]]).float()\n",
    "_x2 = torch.tensor([[1,1,2,3]]).float()\n",
    "_x3 = torch.tensor([[11,11,12,13]]).float()"
   ]
  },
  {
   "cell_type": "code",
   "execution_count": 439,
   "id": "bd5df931-3001-4d88-a030-aa240a29046d",
   "metadata": {},
   "outputs": [
    {
     "data": {
      "text/plain": [
       "(tensor([[0.0826, 0.0826, 0.2245, 0.6103]]),\n",
       " tensor([[0.0826, 0.0826, 0.2245, 0.6103]]),\n",
       " tensor([[0.0826, 0.0826, 0.2245, 0.6103]]))"
      ]
     },
     "execution_count": 439,
     "metadata": {},
     "output_type": "execute_result"
    }
   ],
   "source": [
    "sftmax(_x1),sftmax(_x2),sftmax(_x3)"
   ]
  },
  {
   "cell_type": "markdown",
   "id": "2ffd4ab5-c0cd-4b59-8141-b766c4883fd3",
   "metadata": {},
   "source": [
    "(예비학습2) 원핫인코딩 "
   ]
  },
  {
   "cell_type": "markdown",
   "id": "91f8a5ad-ab13-46a0-b4ab-252afeb51cb8",
   "metadata": {},
   "source": [
    "- $\\text{label}=\\begin{bmatrix}\"3\" \\\\ \\dots \\\\ \"3\" \\\\ \"7\" \\\\ \\dots \\\\ \"7\" \\end{bmatrix},\\quad \\boldsymbol{y}=\\begin{bmatrix}0 \\\\ \\dots \\\\ 0 \\\\ 1 \\\\ \\dots \\\\ 1 \\end{bmatrix},\\quad \\boldsymbol{y}_{onehot}=\\begin{bmatrix} 1 & 0 \\\\ \\dots & \\dots \\\\ 1 & 0 \\\\ 0 & 1 \\\\ \\dots & \\dots \\\\ 0 & 1 \\end{bmatrix}$"
   ]
  },
  {
   "cell_type": "code",
   "execution_count": 440,
   "id": "32e375a4-0a74-429b-9dc3-ea6bb8b27c0b",
   "metadata": {},
   "outputs": [],
   "source": [
    "yonehot = torch.tensor([[1.0,0.0]]*len(three_tensor) + [[0.0,1.0]]*len(seven_tensor))\n",
    "#y = torch.tensor([0.0]*len(three_tensor) + [1.0]*len(seven_tensor)).reshape(-1,1) "
   ]
  },
  {
   "cell_type": "code",
   "execution_count": 441,
   "id": "cb1d969e-2876-4849-b4a2-f9d3c6a5c586",
   "metadata": {},
   "outputs": [],
   "source": [
    "torch.manual_seed(43052)\n",
    "net = torch.nn.Sequential(\n",
    "    torch.nn.Linear(784,30),\n",
    "    torch.nn.ReLU(),\n",
    "    torch.nn.Linear(30,2)\n",
    ")"
   ]
  },
  {
   "cell_type": "code",
   "execution_count": 442,
   "id": "1cec6bcd-5284-4d91-bf9b-15da4f2fc20e",
   "metadata": {},
   "outputs": [],
   "source": [
    "loss_fn = torch.nn.CrossEntropyLoss() "
   ]
  },
  {
   "cell_type": "code",
   "execution_count": 443,
   "id": "347d81dd-2ad2-4eb2-adba-182fed630949",
   "metadata": {},
   "outputs": [],
   "source": [
    "optimizr = torch.optim.Adam(net.parameters())"
   ]
  },
  {
   "cell_type": "code",
   "execution_count": 444,
   "id": "244110e0-c128-4e70-88ed-23748ea9ed5b",
   "metadata": {},
   "outputs": [],
   "source": [
    "for epoc in range(200):\n",
    "    ## 1\n",
    "    yhat = net(Xnp) \n",
    "    ## 2 \n",
    "    loss = loss_fn(yhat,yonehot) \n",
    "    ## 3 \n",
    "    loss.backward()\n",
    "    ## 4 \n",
    "    optimizr.step()\n",
    "    optimizr.zero_grad()"
   ]
  },
  {
   "cell_type": "code",
   "execution_count": 459,
   "id": "97ad2fb5-b2dd-4862-a5bb-314ea1c4bfb9",
   "metadata": {},
   "outputs": [
    {
     "data": {
      "text/plain": [
       "tensor([[ 0.9389, -3.0820],\n",
       "        [ 3.9282, -7.1735],\n",
       "        [ 2.5159, -4.2622],\n",
       "        ...,\n",
       "        [-3.2389,  1.6134],\n",
       "        [-5.3381,  3.4134],\n",
       "        [-5.8182,  4.0986]], grad_fn=<AddmmBackward0>)"
      ]
     },
     "execution_count": 459,
     "metadata": {},
     "output_type": "execute_result"
    }
   ],
   "source": [
    "net(Xnp)"
   ]
  },
  {
   "cell_type": "code",
   "execution_count": 445,
   "id": "edd7cb82-78f4-4b7b-abfc-a2a8598fb705",
   "metadata": {},
   "outputs": [
    {
     "data": {
      "text/plain": [
       "tensor([[9.8238e-01, 1.7621e-02],\n",
       "        [9.9998e-01, 1.5086e-05],\n",
       "        [9.9886e-01, 1.1372e-03],\n",
       "        ...,\n",
       "        [7.7495e-03, 9.9225e-01],\n",
       "        [1.5819e-04, 9.9984e-01],\n",
       "        [4.9334e-05, 9.9995e-01]], grad_fn=<SoftmaxBackward0>)"
      ]
     },
     "execution_count": 445,
     "metadata": {},
     "output_type": "execute_result"
    }
   ],
   "source": [
    "sftmax(net(Xnp))"
   ]
  },
  {
   "cell_type": "code",
   "execution_count": 447,
   "id": "e3318187-c665-4297-a5f4-2abebd3ed5ba",
   "metadata": {},
   "outputs": [
    {
     "data": {
      "text/plain": [
       "[<matplotlib.lines.Line2D at 0x7fd6899b94d0>]"
      ]
     },
     "execution_count": 447,
     "metadata": {},
     "output_type": "execute_result"
    },
    {
     "data": {
      "image/png": "[encoded data removed]",
      "text/plain": [
       "<Figure size 432x288 with 1 Axes>"
      ]
     },
     "metadata": {
      "needs_background": "light"
     },
     "output_type": "display_data"
    }
   ],
   "source": [
    "plt.plot(y,'o')\n",
    "plt.plot(sftmax(net(Xnp)).data[:,1],',')"
   ]
  }
 ],
 "metadata": {
  "kernelspec": {
   "display_name": "Python 3 (ipykernel)",
   "language": "python",
   "name": "python3"
  },
  "language_info": {
   "codemirror_mode": {
    "name": "ipython",
    "version": 3
   },
   "file_extension": ".py",
   "mimetype": "text/x-python",
   "name": "python",
   "nbconvert_exporter": "python",
   "pygments_lexer": "ipython3",
   "version": "3.7.13"
  }
 },
 "nbformat": 4,
 "nbformat_minor": 5
}
