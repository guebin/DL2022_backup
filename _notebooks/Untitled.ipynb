{
 "cells": [
  {
   "cell_type": "markdown",
   "id": "ebc48f6e-5ede-412d-ba33-ca75aae92106",
   "metadata": {},
   "source": [
    "`-` 학습3: torch.nn.CrossEntropyLoss() 이용 "
   ]
  },
  {
   "cell_type": "markdown",
   "id": "ba5d8f4a-9817-4f47-b2b7-b31ad92c0871",
   "metadata": {},
   "source": [
    "(예비학습1) softmax "
   ]
  },
  {
   "cell_type": "code",
   "execution_count": 434,
   "id": "d68fbbbc-d24e-4948-bea3-c8b8aecc3b69",
   "metadata": {},
   "outputs": [],
   "source": [
    "sftmax = torch.nn.Softmax(dim=1)"
   ]
  },
  {
   "cell_type": "code",
   "execution_count": 463,
   "id": "e689bb1b-53a3-4772-be0a-541c8d483239",
   "metadata": {},
   "outputs": [],
   "source": [
    "_x = torch.tensor([[0,0,1,2]]).float()"
   ]
  },
  {
   "cell_type": "code",
   "execution_count": 464,
   "id": "49eb6ec1-e51d-4afd-aeea-17fc5eb8c0db",
   "metadata": {},
   "outputs": [
    {
     "data": {
      "text/plain": [
       "tensor([[0.0826, 0.0826, 0.2245, 0.6103]])"
      ]
     },
     "execution_count": 464,
     "metadata": {},
     "output_type": "execute_result"
    }
   ],
   "source": [
    "sftmax(_x)"
   ]
  },
  {
   "cell_type": "code",
   "execution_count": 465,
   "id": "bda6a20a-cc4c-4ae2-941a-3df85ac5dbc9",
   "metadata": {},
   "outputs": [
    {
     "data": {
      "text/plain": [
       "tensor([[0.0826, 0.0826, 0.2245, 0.6103]])"
      ]
     },
     "execution_count": 465,
     "metadata": {},
     "output_type": "execute_result"
    }
   ],
   "source": [
    "torch.exp(_x)/torch.exp(_x).sum()"
   ]
  },
  {
   "cell_type": "markdown",
   "id": "e90e69cb-88f2-4137-9f70-d17d2943f353",
   "metadata": {},
   "source": [
    "특징1: 총합이1이다 -> 확률의 역할을 함 "
   ]
  },
  {
   "cell_type": "markdown",
   "id": "dc5f1384-12e7-40b0-bd08-e6502d984fc3",
   "metadata": {},
   "source": [
    "특징2: 파라메터의 잉여성 "
   ]
  },
  {
   "cell_type": "code",
   "execution_count": 438,
   "id": "d3cc3a17-a93e-4bfa-bcf9-acba1f56421b",
   "metadata": {},
   "outputs": [],
   "source": [
    "_x1 = torch.tensor([[0,0,1,2]]).float()\n",
    "_x2 = torch.tensor([[1,1,2,3]]).float()\n",
    "_x3 = torch.tensor([[11,11,12,13]]).float()"
   ]
  },
  {
   "cell_type": "code",
   "execution_count": 439,
   "id": "bd5df931-3001-4d88-a030-aa240a29046d",
   "metadata": {},
   "outputs": [
    {
     "data": {
      "text/plain": [
       "(tensor([[0.0826, 0.0826, 0.2245, 0.6103]]),\n",
       " tensor([[0.0826, 0.0826, 0.2245, 0.6103]]),\n",
       " tensor([[0.0826, 0.0826, 0.2245, 0.6103]]))"
      ]
     },
     "execution_count": 439,
     "metadata": {},
     "output_type": "execute_result"
    }
   ],
   "source": [
    "sftmax(_x1),sftmax(_x2),sftmax(_x3)"
   ]
  },
  {
   "cell_type": "markdown",
   "id": "2ffd4ab5-c0cd-4b59-8141-b766c4883fd3",
   "metadata": {},
   "source": [
    "(예비학습2) 원핫인코딩 "
   ]
  },
  {
   "cell_type": "markdown",
   "id": "91f8a5ad-ab13-46a0-b4ab-252afeb51cb8",
   "metadata": {},
   "source": [
    "- $\\text{label}=\\begin{bmatrix}\"3\" \\\\ \\dots \\\\ \"3\" \\\\ \"7\" \\\\ \\dots \\\\ \"7\" \\end{bmatrix},\\quad \\boldsymbol{y}=\\begin{bmatrix}0 \\\\ \\dots \\\\ 0 \\\\ 1 \\\\ \\dots \\\\ 1 \\end{bmatrix},\\quad \\boldsymbol{y}_{onehot}=\\begin{bmatrix} 1 & 0 \\\\ \\dots & \\dots \\\\ 1 & 0 \\\\ 0 & 1 \\\\ \\dots & \\dots \\\\ 0 & 1 \\end{bmatrix}$"
   ]
  },
  {
   "cell_type": "code",
   "execution_count": 440,
   "id": "32e375a4-0a74-429b-9dc3-ea6bb8b27c0b",
   "metadata": {},
   "outputs": [],
   "source": [
    "yonehot = torch.tensor([[1.0,0.0]]*len(three_tensor) + [[0.0,1.0]]*len(seven_tensor))\n",
    "#y = torch.tensor([0.0]*len(three_tensor) + [1.0]*len(seven_tensor)).reshape(-1,1) "
   ]
  },
  {
   "cell_type": "code",
   "execution_count": 441,
   "id": "cb1d969e-2876-4849-b4a2-f9d3c6a5c586",
   "metadata": {},
   "outputs": [],
   "source": [
    "torch.manual_seed(43052)\n",
    "net = torch.nn.Sequential(\n",
    "    torch.nn.Linear(784,30),\n",
    "    torch.nn.ReLU(),\n",
    "    torch.nn.Linear(30,2)\n",
    ")"
   ]
  },
  {
   "cell_type": "code",
   "execution_count": 442,
   "id": "1cec6bcd-5284-4d91-bf9b-15da4f2fc20e",
   "metadata": {},
   "outputs": [],
   "source": [
    "loss_fn = torch.nn.CrossEntropyLoss() "
   ]
  },
  {
   "cell_type": "code",
   "execution_count": 443,
   "id": "347d81dd-2ad2-4eb2-adba-182fed630949",
   "metadata": {},
   "outputs": [],
   "source": [
    "optimizr = torch.optim.Adam(net.parameters())"
   ]
  },
  {
   "cell_type": "code",
   "execution_count": 444,
   "id": "244110e0-c128-4e70-88ed-23748ea9ed5b",
   "metadata": {},
   "outputs": [],
   "source": [
    "for epoc in range(200):\n",
    "    ## 1\n",
    "    yhat = net(Xnp) \n",
    "    ## 2 \n",
    "    loss = loss_fn(yhat,yonehot) \n",
    "    ## 3 \n",
    "    loss.backward()\n",
    "    ## 4 \n",
    "    optimizr.step()\n",
    "    optimizr.zero_grad()"
   ]
  },
  {
   "cell_type": "code",
   "execution_count": 459,
   "id": "97ad2fb5-b2dd-4862-a5bb-314ea1c4bfb9",
   "metadata": {},
   "outputs": [
    {
     "data": {
      "text/plain": [
       "tensor([[ 0.9389, -3.0820],\n",
       "        [ 3.9282, -7.1735],\n",
       "        [ 2.5159, -4.2622],\n",
       "        ...,\n",
       "        [-3.2389,  1.6134],\n",
       "        [-5.3381,  3.4134],\n",
       "        [-5.8182,  4.0986]], grad_fn=<AddmmBackward0>)"
      ]
     },
     "execution_count": 459,
     "metadata": {},
     "output_type": "execute_result"
    }
   ],
   "source": [
    "net(Xnp)"
   ]
  },
  {
   "cell_type": "code",
   "execution_count": 445,
   "id": "edd7cb82-78f4-4b7b-abfc-a2a8598fb705",
   "metadata": {},
   "outputs": [
    {
     "data": {
      "text/plain": [
       "tensor([[9.8238e-01, 1.7621e-02],\n",
       "        [9.9998e-01, 1.5086e-05],\n",
       "        [9.9886e-01, 1.1372e-03],\n",
       "        ...,\n",
       "        [7.7495e-03, 9.9225e-01],\n",
       "        [1.5819e-04, 9.9984e-01],\n",
       "        [4.9334e-05, 9.9995e-01]], grad_fn=<SoftmaxBackward0>)"
      ]
     },
     "execution_count": 445,
     "metadata": {},
     "output_type": "execute_result"
    }
   ],
   "source": [
    "sftmax(net(Xnp))"
   ]
  },
  {
   "cell_type": "code",
   "execution_count": 447,
   "id": "e3318187-c665-4297-a5f4-2abebd3ed5ba",
   "metadata": {},
   "outputs": [
    {
     "data": {
      "text/plain": [
       "[<matplotlib.lines.Line2D at 0x7fd6899b94d0>]"
      ]
     },
     "execution_count": 447,
     "metadata": {},
     "output_type": "execute_result"
    },
    {
     "data": {
      "image/png": "[encoded data removed]",
      "text/plain": [
       "<Figure size 432x288 with 1 Axes>"
      ]
     },
     "metadata": {
      "needs_background": "light"
     },
     "output_type": "display_data"
    }
   ],
   "source": [
    "plt.plot(y,'o')\n",
    "plt.plot(sftmax(net(Xnp)).data[:,1],',')"
   ]
  }
 ],
 "metadata": {
  "kernelspec": {
   "display_name": "Python 3 (ipykernel)",
   "language": "python",
   "name": "python3"
  },
  "language_info": {
   "codemirror_mode": {
    "name": "ipython",
    "version": 3
   },
   "file_extension": ".py",
   "mimetype": "text/x-python",
   "name": "python",
   "nbconvert_exporter": "python",
   "pygments_lexer": "ipython3",
   "version": "3.7.13"
  }
 },
 "nbformat": 4,
 "nbformat_minor": 5
}
