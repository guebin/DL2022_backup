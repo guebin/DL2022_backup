{
 "cells": [
  {
   "cell_type": "code",
   "execution_count": 86,
   "id": "debb8f83-b853-4dcd-8cc1-c86b5e57e7c7",
   "metadata": {},
   "outputs": [],
   "source": [
    "torch.manual_seed(43052)\n",
    "net = torch.nn.Sequential(\n",
    "    torch.nn.Linear(in_features=28*28,out_features=30),\n",
    "    torch.nn.ReLU(),\n",
    "    torch.nn.Linear(in_features=30,out_features=1),\n",
    "    #torch.nn.Sigmoid() # <- 이걸 뺍니당..\n",
    ")"
   ]
  },
  {
   "cell_type": "markdown",
   "id": "e63ce55e-e4cb-450b-b92e-e9e3b3de1079",
   "metadata": {},
   "source": [
    "- $\\underset{(n,784)}{\\bf X} \\overset{l_1}{\\to} \\underset{(n,30)}{\\boldsymbol u^{(1)}} \\overset{a_1}{\\to} \\underset{(n,30)}{\\boldsymbol v^{(1)}} \\overset{l_1}{\\to} \\underset{(n,1)}{\\boldsymbol u^{(2)}}=\\underset{(n,1)}{net({\\bf X})}, \\quad \\text{sig}(net({\\bf X}))\\approx {\\boldsymbol y}$"
   ]
  },
  {
   "cell_type": "code",
   "execution_count": 87,
   "id": "719cbfb1-074e-46ee-a6fd-0ff24ebefdac",
   "metadata": {},
   "outputs": [],
   "source": [
    "torch.manual_seed(43052)\n",
    "_net = torch.nn.Sequential(\n",
    "    torch.nn.Linear(in_features=28*28,out_features=30),\n",
    "    torch.nn.ReLU(),\n",
    "    torch.nn.Linear(in_features=30,out_features=1),\n",
    "    torch.nn.Sigmoid() \n",
    ")"
   ]
  },
  {
   "cell_type": "code",
   "execution_count": 88,
   "id": "3cf58a86-2642-4982-91a3-95600e2598b0",
   "metadata": {},
   "outputs": [],
   "source": [
    "loss_fn = torch.nn.BCEWithLogitsLoss()\n",
    "_loss_fn = torch.nn.BCELoss()"
   ]
  },
  {
   "cell_type": "code",
   "execution_count": 89,
   "id": "a1fd8e12-d0b0-4819-89dd-07b35894efc8",
   "metadata": {},
   "outputs": [
    {
     "data": {
      "text/plain": [
       "(tensor(0.7148, grad_fn=<BinaryCrossEntropyWithLogitsBackward0>),\n",
       " tensor(0.7148, grad_fn=<BinaryCrossEntropyBackward0>))"
      ]
     },
     "execution_count": 89,
     "metadata": {},
     "output_type": "execute_result"
    }
   ],
   "source": [
    "loss_fn(net(Xnp),y),_loss_fn(_net(Xnp),y) "
   ]
  },
  {
   "cell_type": "code",
   "execution_count": 90,
   "id": "3aa04717-e324-42ef-8601-41bfb91859b7",
   "metadata": {},
   "outputs": [],
   "source": [
    "optimizr = torch.optim.Adam(net.parameters())"
   ]
  },
  {
   "cell_type": "code",
   "execution_count": 91,
   "id": "7c4bd005-89f6-4c80-970d-abcc35bc6f77",
   "metadata": {},
   "outputs": [],
   "source": [
    "for epoc in range(200):\n",
    "    ## 1\n",
    "    yhat = net(Xnp) \n",
    "    ## 2\n",
    "    loss = loss_fn(yhat,y) \n",
    "    ## 3 \n",
    "    loss.backward()\n",
    "    ## 4 \n",
    "    optimizr.step()\n",
    "    optimizr.zero_grad()"
   ]
  },
  {
   "cell_type": "code",
   "execution_count": 92,
   "id": "b11e48f5-d8ad-46af-be10-273489a90833",
   "metadata": {},
   "outputs": [
    {
     "data": {
      "text/plain": [
       "[<matplotlib.lines.Line2D at 0x7fcb1e398310>]"
      ]
     },
     "execution_count": 92,
     "metadata": {},
     "output_type": "execute_result"
    },
    {
     "data": {
      "image/png": "[encoded data removed]",
      "text/plain": [
       "<Figure size 576x288 with 2 Axes>"
      ]
     },
     "metadata": {
      "needs_background": "light"
     },
     "output_type": "display_data"
    }
   ],
   "source": [
    "fig,ax = plt.subplots(1,2,figsize=(8,4))\n",
    "ax[0].plot(net(Xnp).data,',')\n",
    "ax[1].plot(y,'o')\n",
    "ax[1].plot(sig(net(Xnp)).data,',')"
   ]
  },
  {
   "cell_type": "markdown",
   "id": "444dd65e-f47f-45a6-ab8a-0176a71d0d18",
   "metadata": {},
   "source": [
    "note: sigmoid 이후에 0.5 보다 큰지 작은지 판단하는 것 $\\Leftrightarrow$ sigmoid 이전에 0 보다 큰지 작은지 판단하는 것"
   ]
  },
  {
   "cell_type": "markdown",
   "id": "deaf2615-4dc6-40bd-bb8f-36e7c9883cac",
   "metadata": {},
   "source": [
    "`-` 학습3: torch.nn.CrossEntropyLoss() 이용 "
   ]
  },
  {
   "cell_type": "markdown",
   "id": "d483f39b-abdf-477d-86e5-73c4081b26c6",
   "metadata": {},
   "source": [
    "(예비학습1) softmax "
   ]
  },
  {
   "cell_type": "code",
   "execution_count": 434,
   "id": "ee764889-4e10-4407-8c5d-542c34c8d638",
   "metadata": {},
   "outputs": [],
   "source": [
    "sftmax = torch.nn.Softmax(dim=1)"
   ]
  },
  {
   "cell_type": "code",
   "execution_count": 463,
   "id": "ab1b0a68-f5fc-4771-a980-1e746ec1c868",
   "metadata": {},
   "outputs": [],
   "source": [
    "_x = torch.tensor([[0,0,1,2]]).float()"
   ]
  },
  {
   "cell_type": "code",
   "execution_count": 464,
   "id": "3de8cefd-fd37-4507-9ff7-bccb8a5d4142",
   "metadata": {},
   "outputs": [
    {
     "data": {
      "text/plain": [
       "tensor([[0.0826, 0.0826, 0.2245, 0.6103]])"
      ]
     },
     "execution_count": 464,
     "metadata": {},
     "output_type": "execute_result"
    }
   ],
   "source": [
    "sftmax(_x)"
   ]
  },
  {
   "cell_type": "code",
   "execution_count": 465,
   "id": "361b23a1-5a34-4fb2-9be1-0688913ae7be",
   "metadata": {},
   "outputs": [
    {
     "data": {
      "text/plain": [
       "tensor([[0.0826, 0.0826, 0.2245, 0.6103]])"
      ]
     },
     "execution_count": 465,
     "metadata": {},
     "output_type": "execute_result"
    }
   ],
   "source": [
    "torch.exp(_x)/torch.exp(_x).sum()"
   ]
  },
  {
   "cell_type": "markdown",
   "id": "b98505ac-a35c-40fb-8373-2087db4a523f",
   "metadata": {},
   "source": [
    "특징1: 총합이1이다 -> 확률의 역할을 함 "
   ]
  },
  {
   "cell_type": "markdown",
   "id": "112ee061-d522-4766-9b5c-e42ef85d4eaa",
   "metadata": {},
   "source": [
    "특징2: 파라메터의 잉여성 "
   ]
  },
  {
   "cell_type": "code",
   "execution_count": 438,
   "id": "184761f0-87dd-4c9a-bb42-0795235133c2",
   "metadata": {},
   "outputs": [],
   "source": [
    "_x1 = torch.tensor([[0,0,1,2]]).float()\n",
    "_x2 = torch.tensor([[1,1,2,3]]).float()\n",
    "_x3 = torch.tensor([[11,11,12,13]]).float()"
   ]
  },
  {
   "cell_type": "code",
   "execution_count": 439,
   "id": "33af07de-8666-4a47-acde-8607d5345d30",
   "metadata": {},
   "outputs": [
    {
     "data": {
      "text/plain": [
       "(tensor([[0.0826, 0.0826, 0.2245, 0.6103]]),\n",
       " tensor([[0.0826, 0.0826, 0.2245, 0.6103]]),\n",
       " tensor([[0.0826, 0.0826, 0.2245, 0.6103]]))"
      ]
     },
     "execution_count": 439,
     "metadata": {},
     "output_type": "execute_result"
    }
   ],
   "source": [
    "sftmax(_x1),sftmax(_x2),sftmax(_x3)"
   ]
  },
  {
   "cell_type": "markdown",
   "id": "9673a47c-ce0a-4810-800b-8bc2e527179a",
   "metadata": {},
   "source": [
    "(예비학습2) 원핫인코딩 "
   ]
  },
  {
   "cell_type": "markdown",
   "id": "286c4518-072c-49fe-8fd9-9899a403faf5",
   "metadata": {},
   "source": [
    "- $\\text{label}=\\begin{bmatrix}\"3\" \\\\ \\dots \\\\ \"3\" \\\\ \"7\" \\\\ \\dots \\\\ \"7\" \\end{bmatrix},\\quad \\boldsymbol{y}=\\begin{bmatrix}0 \\\\ \\dots \\\\ 0 \\\\ 1 \\\\ \\dots \\\\ 1 \\end{bmatrix},\\quad \\boldsymbol{y}_{onehot}=\\begin{bmatrix} 1 & 0 \\\\ \\dots & \\dots \\\\ 1 & 0 \\\\ 0 & 1 \\\\ \\dots & \\dots \\\\ 0 & 1 \\end{bmatrix}$"
   ]
  },
  {
   "cell_type": "code",
   "execution_count": 440,
   "id": "d8eccf93-e3eb-4fc0-bf12-070743c36499",
   "metadata": {},
   "outputs": [],
   "source": [
    "yonehot = torch.tensor([[1.0,0.0]]*len(three_tensor) + [[0.0,1.0]]*len(seven_tensor))\n",
    "#y = torch.tensor([0.0]*len(three_tensor) + [1.0]*len(seven_tensor)).reshape(-1,1) "
   ]
  },
  {
   "cell_type": "code",
   "execution_count": 441,
   "id": "ecde3211-60ce-4762-9dbc-eb9859b75db3",
   "metadata": {},
   "outputs": [],
   "source": [
    "torch.manual_seed(43052)\n",
    "net = torch.nn.Sequential(\n",
    "    torch.nn.Linear(784,30),\n",
    "    torch.nn.ReLU(),\n",
    "    torch.nn.Linear(30,2)\n",
    ")"
   ]
  },
  {
   "cell_type": "code",
   "execution_count": 442,
   "id": "e7e402e5-7de8-4752-9beb-4ab60617a17e",
   "metadata": {},
   "outputs": [],
   "source": [
    "loss_fn = torch.nn.CrossEntropyLoss() "
   ]
  },
  {
   "cell_type": "code",
   "execution_count": 443,
   "id": "e3ab3386-127a-4166-8a61-e0ad7190c0fe",
   "metadata": {},
   "outputs": [],
   "source": [
    "optimizr = torch.optim.Adam(net.parameters())"
   ]
  },
  {
   "cell_type": "code",
   "execution_count": 444,
   "id": "72c17986-db4c-4c22-a893-e38460dd98ad",
   "metadata": {},
   "outputs": [],
   "source": [
    "for epoc in range(200):\n",
    "    ## 1\n",
    "    yhat = net(Xnp) \n",
    "    ## 2 \n",
    "    loss = loss_fn(yhat,yonehot) \n",
    "    ## 3 \n",
    "    loss.backward()\n",
    "    ## 4 \n",
    "    optimizr.step()\n",
    "    optimizr.zero_grad()"
   ]
  },
  {
   "cell_type": "code",
   "execution_count": 459,
   "id": "a229e64a-aa67-4162-ba17-d6d48438d85f",
   "metadata": {},
   "outputs": [
    {
     "data": {
      "text/plain": [
       "tensor([[ 0.9389, -3.0820],\n",
       "        [ 3.9282, -7.1735],\n",
       "        [ 2.5159, -4.2622],\n",
       "        ...,\n",
       "        [-3.2389,  1.6134],\n",
       "        [-5.3381,  3.4134],\n",
       "        [-5.8182,  4.0986]], grad_fn=<AddmmBackward0>)"
      ]
     },
     "execution_count": 459,
     "metadata": {},
     "output_type": "execute_result"
    }
   ],
   "source": [
    "net(Xnp)"
   ]
  },
  {
   "cell_type": "code",
   "execution_count": 445,
   "id": "ef7b4791-5fd1-4d4e-9d4a-c4d95952e2d3",
   "metadata": {},
   "outputs": [
    {
     "data": {
      "text/plain": [
       "tensor([[9.8238e-01, 1.7621e-02],\n",
       "        [9.9998e-01, 1.5086e-05],\n",
       "        [9.9886e-01, 1.1372e-03],\n",
       "        ...,\n",
       "        [7.7495e-03, 9.9225e-01],\n",
       "        [1.5819e-04, 9.9984e-01],\n",
       "        [4.9334e-05, 9.9995e-01]], grad_fn=<SoftmaxBackward0>)"
      ]
     },
     "execution_count": 445,
     "metadata": {},
     "output_type": "execute_result"
    }
   ],
   "source": [
    "sftmax(net(Xnp))"
   ]
  },
  {
   "cell_type": "code",
   "execution_count": 447,
   "id": "2d29afa7-949e-43c1-9738-d83ea84a5270",
   "metadata": {},
   "outputs": [
    {
     "data": {
      "text/plain": [
       "[<matplotlib.lines.Line2D at 0x7fd6899b94d0>]"
      ]
     },
     "execution_count": 447,
     "metadata": {},
     "output_type": "execute_result"
    },
    {
     "data": {
      "image/png": "[encoded data removed]",
      "text/plain": [
       "<Figure size 432x288 with 1 Axes>"
      ]
     },
     "metadata": {
      "needs_background": "light"
     },
     "output_type": "display_data"
    }
   ],
   "source": [
    "plt.plot(y,'o')\n",
    "plt.plot(sftmax(net(Xnp)).data[:,1],',')"
   ]
  }
 ],
 "metadata": {
  "kernelspec": {
   "display_name": "Python 3 (ipykernel)",
   "language": "python",
   "name": "python3"
  },
  "language_info": {
   "codemirror_mode": {
    "name": "ipython",
    "version": 3
   },
   "file_extension": ".py",
   "mimetype": "text/x-python",
   "name": "python",
   "nbconvert_exporter": "python",
   "pygments_lexer": "ipython3",
   "version": "3.7.13"
  }
 },
 "nbformat": 4,
 "nbformat_minor": 5
}
