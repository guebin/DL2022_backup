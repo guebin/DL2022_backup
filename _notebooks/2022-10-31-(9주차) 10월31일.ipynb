{
 "cells": [
  {
   "cell_type": "markdown",
   "id": "7719d563-3bf1-4cdc-a468-fa97bb108655",
   "metadata": {
    "tags": []
   },
   "source": [
    "# (9주차) 10월31일 -- draft\n",
    "> 순환신경망 \n",
    "\n",
    "- toc:true\n",
    "- branch: master\n",
    "- badges: true\n",
    "- comments: true\n",
    "- author: 최규빈"
   ]
  },
  {
   "cell_type": "markdown",
   "id": "d9aeb71e-50b5-4785-9a70-657ff7a5b9ce",
   "metadata": {},
   "source": [
    "### 문제의설계 "
   ]
  },
  {
   "cell_type": "code",
   "execution_count": 14,
   "id": "57b48d7f-65a5-469e-b1be-635d470f879f",
   "metadata": {},
   "outputs": [
    {
     "data": {
      "text/plain": [
       "'h e l l o h e l l o h e l l o h e l l o h e l l o h e l l o h e l l o h e l l o h e l l o h e l l o h e l l o h e l l o h e l l o h e l l o h e l l o h e l l o h e l l o h e l l o h e l l o h e l l o h e l l o h e l l o h e l l o h e l l o h e l l o h e l l o h e l l o h e l l o h e l l o h e l l o h e l l o h e l l o h e l l o h e l l o h e l l o h e l l o h e l l o h e l l o h e l l o h e l l o h e l l o h e l l o h e l l o h e l l o h e l l o h e l l o h e l l o h e l l o h e l l o h e l l o h e l l o h e l l o h e l l o h e l l o h e l l o h e l l o h e l l o h e l l o h e l l o h e l l o h e l l o h e l l o h e l l o h e l l o h e l l o h e l l o h e l l o h e l l o h e l l o h e l l o h e l l o h e l l o h e l l o h e l l o h e l l o h e l l o h e l l o h e l l o h e l l o h e l l o h e l l o h e l l o h e l l o h e l l o h e l l o h e l l o h e l l o h e l l o h e l l o h e l l o h e l l o h e l l o h e l l o h e l l o h e l l o h e l l o h e l l o h e l l o h e l l o h e l l o '"
      ]
     },
     "execution_count": 14,
     "metadata": {},
     "output_type": "execute_result"
    }
   ],
   "source": [
    "text = 'h e l l o '*100 \n",
    "text "
   ]
  },
  {
   "cell_type": "code",
   "execution_count": 19,
   "id": "a022fb8e-9a10-4e0c-a196-8a19ca43e8eb",
   "metadata": {},
   "outputs": [
    {
     "data": {
      "text/plain": [
       "['h', 'e', 'l', 'l', 'o', 'h', 'e', 'l', 'l', 'o']"
      ]
     },
     "execution_count": 19,
     "metadata": {},
     "output_type": "execute_result"
    }
   ],
   "source": [
    "tokens = text.split(' ')[:-1]\n",
    "tokens[:10]"
   ]
  },
  {
   "cell_type": "markdown",
   "id": "e4fb4e25-4227-4a3c-aa92-f7745767e717",
   "metadata": {},
   "source": [
    "`-` 바로직전의 문자로 다음문자를 맞춰보자 \n",
    "\n",
    "- hello니까, h $\\to$ e, e$\\to$ l, l $\\to$ l/o (?), o $\\to$ h, ... \n",
    "- l 다음에 올 문자가 조금 애매하다. "
   ]
  },
  {
   "cell_type": "markdown",
   "id": "1fbf044f-4033-412f-a8d7-eca48293e5d9",
   "metadata": {},
   "source": [
    "`-` 마치 아래의 표에서 $X \\to y$인 맵핑을 알아차려 $X$를 보고 $y$를 예측하듯이 "
   ]
  },
  {
   "cell_type": "markdown",
   "id": "9b8fbd5f-96d7-4950-b4f4-5f769c4557f8",
   "metadata": {},
   "source": [
    "|X|y|\n",
    "|:-:|:-:|\n",
    "|1|2|\n",
    "|2|4|\n",
    "|3|6|\n",
    "|1|2|\n",
    "|2|4|\n",
    "|3|6|\n",
    "|1|2|\n",
    "|2|4|\n",
    "|...|...|"
   ]
  },
  {
   "cell_type": "markdown",
   "id": "167eafed-d9a5-4bf5-ab40-9fbbf5628b8a",
   "metadata": {},
   "source": [
    "아래의 규칙을 알아차리는 것이 목표이다. "
   ]
  },
  {
   "cell_type": "markdown",
   "id": "8a9d853b-6575-4ee3-afcb-007bf5a5dba5",
   "metadata": {},
   "source": [
    "|X|y|\n",
    "|:-:|:-:|\n",
    "|h|e|\n",
    "|e|l|\n",
    "|l|l/o|\n",
    "|o|h|\n",
    "|h|e|\n",
    "|...|...|"
   ]
  },
  {
   "cell_type": "markdown",
   "id": "77a4985e-0088-49b9-a3ea-0300c63352da",
   "metadata": {},
   "source": [
    "### Embedding "
   ]
  },
  {
   "cell_type": "markdown",
   "id": "09cf718d-4de6-427f-82b5-40099a63b81c",
   "metadata": {},
   "source": [
    "`-` X,y를 설정하자. "
   ]
  },
  {
   "cell_type": "code",
   "execution_count": 22,
   "id": "4f6b4b89-6079-4faf-adca-1bed8f5cb075",
   "metadata": {},
   "outputs": [
    {
     "data": {
      "text/plain": [
       "500"
      ]
     },
     "execution_count": 22,
     "metadata": {},
     "output_type": "execute_result"
    }
   ],
   "source": [
    "len(tokens)"
   ]
  },
  {
   "cell_type": "code",
   "execution_count": 23,
   "id": "b4a9d3cb-9c27-4086-ba8c-a1c46119058d",
   "metadata": {},
   "outputs": [],
   "source": [
    "X= tokens[:(len(tokens)-1)]\n",
    "y= tokens[1:]"
   ]
  },
  {
   "cell_type": "code",
   "execution_count": 24,
   "id": "e447adb5-2fbc-4c55-b5b9-8d32b8bf06ad",
   "metadata": {},
   "outputs": [
    {
     "data": {
      "text/plain": [
       "('h', 'e')"
      ]
     },
     "execution_count": 24,
     "metadata": {},
     "output_type": "execute_result"
    }
   ],
   "source": [
    "X[0],y[0]"
   ]
  },
  {
   "cell_type": "code",
   "execution_count": 25,
   "id": "aa53662f-8764-40fa-b2f2-325306e3b1bc",
   "metadata": {},
   "outputs": [
    {
     "data": {
      "text/plain": [
       "('e', 'l')"
      ]
     },
     "execution_count": 25,
     "metadata": {},
     "output_type": "execute_result"
    }
   ],
   "source": [
    "X[1],y[1]"
   ]
  },
  {
   "cell_type": "code",
   "execution_count": 27,
   "id": "bdc5f005-ce76-47d5-92ff-31e68cc6cc7a",
   "metadata": {},
   "outputs": [
    {
     "name": "stdout",
     "output_type": "stream",
     "text": [
      "['h', 'e', 'l', 'l', 'o', 'h', 'e', 'l', 'l', 'o']\n",
      "['e', 'l', 'l', 'o', 'h', 'e', 'l', 'l', 'o', 'h']\n"
     ]
    }
   ],
   "source": [
    "print(X[:10])\n",
    "print(y[:10])"
   ]
  },
  {
   "cell_type": "markdown",
   "id": "27e5ad30-d735-4c8d-8aa3-f45014a8bb08",
   "metadata": {},
   "source": [
    "`-` 이제 문자를 숫자로 바꾸어서 컴퓨터가 이해할수 있는 형태, 즉 학습가능한 형태로 만들자. "
   ]
  },
  {
   "cell_type": "code",
   "execution_count": 29,
   "id": "a9209870-3e42-4401-bc1a-3dcf24746347",
   "metadata": {},
   "outputs": [
    {
     "data": {
      "text/plain": [
       "{'h': 0, 'e': 1, 'l': 2, 'o': 3}"
      ]
     },
     "execution_count": 29,
     "metadata": {},
     "output_type": "execute_result"
    }
   ],
   "source": [
    "dic = {'h':0, 'e':1, 'l':2, 'o':3} \n",
    "dic"
   ]
  },
  {
   "cell_type": "code",
   "execution_count": 33,
   "id": "ef01784f-5810-4192-b116-aa99a91a997a",
   "metadata": {},
   "outputs": [
    {
     "data": {
      "text/plain": [
       "(0, 1, 2, 3)"
      ]
     },
     "execution_count": 33,
     "metadata": {},
     "output_type": "execute_result"
    }
   ],
   "source": [
    "dic['h'],dic['e'],dic['l'],dic['o']"
   ]
  },
  {
   "cell_type": "code",
   "execution_count": 36,
   "id": "0126456b-2e38-49ac-bc12-6e13bf895ad0",
   "metadata": {},
   "outputs": [],
   "source": [
    "nums = [dic[i] for i in tokens]"
   ]
  },
  {
   "cell_type": "code",
   "execution_count": 37,
   "id": "f5b7cbc7-80ac-493b-9fad-6ff015deb89c",
   "metadata": {},
   "outputs": [
    {
     "data": {
      "text/plain": [
       "(['h', 'e', 'l', 'l', 'o', 'h', 'e', 'l', 'l', 'o'],\n",
       " [0, 1, 2, 2, 3, 0, 1, 2, 2, 3])"
      ]
     },
     "execution_count": 37,
     "metadata": {},
     "output_type": "execute_result"
    }
   ],
   "source": [
    "tokens[:10], nums[:10]"
   ]
  },
  {
   "cell_type": "markdown",
   "id": "430250ed-fab1-4031-aaa2-9a870b7ba456",
   "metadata": {},
   "source": [
    "`-` (맵핑방식1) 아래와 같이 문자와 숫자를 맵핑하였다. "
   ]
  },
  {
   "cell_type": "markdown",
   "id": "a077f13d-b70d-40d7-81a3-7533f6a048f8",
   "metadata": {},
   "source": [
    "|문자(tokens)|숫자(nums)|\n",
    "|:-:|:-:|\n",
    "|'h'|0|\n",
    "|'e'|1|\n",
    "|'l'|2|\n",
    "|'l'|2|\n",
    "|'o'|3|\n",
    "|'h'|0|\n",
    "|'e'|1|\n",
    "|'l'|2|\n",
    "|'l'|2|\n",
    "|'o'|3|\n",
    "|...|...|"
   ]
  },
  {
   "cell_type": "markdown",
   "id": "16b5d834-312c-487a-95b1-dffbc8a16784",
   "metadata": {},
   "source": [
    "`-` (맵핑방식2) 위의 방식보다 아래의 방식이 더 의미상 좋다. 위의 방식대로 맵핑하면하면 의미가 `e=1`, `l=2`가 되는데 그렇다고 해서 `l이 e보다 2배 강한 입력`을 의미하는 것은 아니잖음? "
   ]
  },
  {
   "cell_type": "markdown",
   "id": "28d7adec-fc05-4784-b8f7-ed0c6f65177d",
   "metadata": {},
   "source": [
    "|문자(tokens)|숫자(nums)|\n",
    "|:-:|:-:|\n",
    "|'h'|1,0,0,0|\n",
    "|'e'|0,1,0,0|\n",
    "|'l'|0,0,1,0|\n",
    "|'l'|0,0,1,0|\n",
    "|'o'|0,0,0,1|\n",
    "|'h'|1,0,0,0|\n",
    "|'e'|0,1,0,0|\n",
    "|'l'|0,0,1,0|\n",
    "|'l'|0,0,1,0|\n",
    "|'o'|0,0,0,1|\n",
    "|...|...|"
   ]
  },
  {
   "cell_type": "markdown",
   "id": "7bdbf16c-a293-4f3c-a322-6dbaa82d35a3",
   "metadata": {},
   "source": [
    "`-` 맵핑방식2로 처리하고 싶은데, 데이터 전처리 하기가 너무 힘들것 같다. \n",
    "- 그런데 이러한것은 빈번하게 일어나는 상황 \n",
    "- 누군가가 구해놓지 않았을까? \n",
    "- torch.nn.Embedding"
   ]
  },
  {
   "cell_type": "markdown",
   "id": "69f6ab89-0635-4c2d-82fc-f3cf72537ebd",
   "metadata": {},
   "source": [
    "`-` 맵핑방식1의 구현"
   ]
  },
  {
   "cell_type": "code",
   "execution_count": 60,
   "id": "94c67daa-fbdc-48e3-b883-0215caef6f74",
   "metadata": {},
   "outputs": [
    {
     "data": {
      "text/plain": [
       "tensor([[0.],\n",
       "        [1.],\n",
       "        [2.],\n",
       "        [2.],\n",
       "        [3.],\n",
       "        [0.],\n",
       "        [1.],\n",
       "        [2.],\n",
       "        [2.],\n",
       "        [3.]])"
      ]
     },
     "execution_count": 60,
     "metadata": {},
     "output_type": "execute_result"
    }
   ],
   "source": [
    "_x = torch.tensor([[0.0],[1.0],[2.0],[2.0],[3.0],[0.0],[1.0],[2.0],[2.0],[3.0]])\n",
    "_x "
   ]
  },
  {
   "cell_type": "code",
   "execution_count": 61,
   "id": "53c35048-00b7-43ac-beb0-4364ac367ec6",
   "metadata": {},
   "outputs": [],
   "source": [
    "_l1 = torch.nn.Linear(in_features=1, out_features=20, bias=False) "
   ]
  },
  {
   "cell_type": "code",
   "execution_count": 62,
   "id": "fe55f7f7-8ad5-4683-9ed5-82868b85d9b7",
   "metadata": {},
   "outputs": [
    {
     "data": {
      "text/plain": [
       "tensor([[-0.0000, -0.0000,  0.0000, -0.0000,  0.0000, -0.0000, -0.0000, -0.0000,\n",
       "          0.0000, -0.0000,  0.0000, -0.0000, -0.0000, -0.0000, -0.0000, -0.0000,\n",
       "          0.0000, -0.0000,  0.0000, -0.0000],\n",
       "        [-0.0896, -0.6548,  0.4603, -0.5948,  0.4595, -0.5899, -0.4345, -0.8192,\n",
       "          0.3320, -0.5660,  0.8664, -0.4064, -0.3070, -0.1649, -0.6602, -0.0315,\n",
       "          0.8055, -0.7989,  0.4684, -0.6249],\n",
       "        [-0.1792, -1.3096,  0.9206, -1.1895,  0.9189, -1.1798, -0.8690, -1.6384,\n",
       "          0.6640, -1.1321,  1.7327, -0.8129, -0.6139, -0.3297, -1.3205, -0.0631,\n",
       "          1.6110, -1.5978,  0.9368, -1.2498],\n",
       "        [-0.1792, -1.3096,  0.9206, -1.1895,  0.9189, -1.1798, -0.8690, -1.6384,\n",
       "          0.6640, -1.1321,  1.7327, -0.8129, -0.6139, -0.3297, -1.3205, -0.0631,\n",
       "          1.6110, -1.5978,  0.9368, -1.2498],\n",
       "        [-0.2687, -1.9644,  1.3808, -1.7843,  1.3784, -1.7697, -1.3035, -2.4576,\n",
       "          0.9961, -1.6981,  2.5991, -1.2193, -0.9209, -0.4946, -1.9807, -0.0946,\n",
       "          2.4165, -2.3967,  1.4052, -1.8746],\n",
       "        [-0.0000, -0.0000,  0.0000, -0.0000,  0.0000, -0.0000, -0.0000, -0.0000,\n",
       "          0.0000, -0.0000,  0.0000, -0.0000, -0.0000, -0.0000, -0.0000, -0.0000,\n",
       "          0.0000, -0.0000,  0.0000, -0.0000],\n",
       "        [-0.0896, -0.6548,  0.4603, -0.5948,  0.4595, -0.5899, -0.4345, -0.8192,\n",
       "          0.3320, -0.5660,  0.8664, -0.4064, -0.3070, -0.1649, -0.6602, -0.0315,\n",
       "          0.8055, -0.7989,  0.4684, -0.6249],\n",
       "        [-0.1792, -1.3096,  0.9206, -1.1895,  0.9189, -1.1798, -0.8690, -1.6384,\n",
       "          0.6640, -1.1321,  1.7327, -0.8129, -0.6139, -0.3297, -1.3205, -0.0631,\n",
       "          1.6110, -1.5978,  0.9368, -1.2498],\n",
       "        [-0.1792, -1.3096,  0.9206, -1.1895,  0.9189, -1.1798, -0.8690, -1.6384,\n",
       "          0.6640, -1.1321,  1.7327, -0.8129, -0.6139, -0.3297, -1.3205, -0.0631,\n",
       "          1.6110, -1.5978,  0.9368, -1.2498],\n",
       "        [-0.2687, -1.9644,  1.3808, -1.7843,  1.3784, -1.7697, -1.3035, -2.4576,\n",
       "          0.9961, -1.6981,  2.5991, -1.2193, -0.9209, -0.4946, -1.9807, -0.0946,\n",
       "          2.4165, -2.3967,  1.4052, -1.8746]], grad_fn=<MmBackward0>)"
      ]
     },
     "execution_count": 62,
     "metadata": {},
     "output_type": "execute_result"
    }
   ],
   "source": [
    "_l1(_x)"
   ]
  },
  {
   "cell_type": "markdown",
   "id": "e76c0e61-d924-4916-8515-8dc1012327e1",
   "metadata": {},
   "source": [
    "- 입력: (10,1)\n",
    "- 출력: (10,20) "
   ]
  },
  {
   "cell_type": "markdown",
   "id": "c600dc52-2afd-4f01-9f75-19e63b00ec99",
   "metadata": {},
   "source": [
    "`-` 맵핑방식2의 구현"
   ]
  },
  {
   "cell_type": "code",
   "execution_count": 63,
   "id": "c140a465-6fd5-4353-8ec4-a3f21ee3db4b",
   "metadata": {},
   "outputs": [],
   "source": [
    "e1= torch.nn.Embedding(num_embeddings=4, embedding_dim=20) "
   ]
  },
  {
   "cell_type": "code",
   "execution_count": 64,
   "id": "fac41515-820f-4d86-be9d-f2e868d394ad",
   "metadata": {},
   "outputs": [
    {
     "data": {
      "text/plain": [
       "tensor([0, 1, 2, 2, 3, 0, 1, 2, 2, 3])"
      ]
     },
     "execution_count": 64,
     "metadata": {},
     "output_type": "execute_result"
    }
   ],
   "source": [
    "_x = torch.tensor([0,1,2,2,3,0,1,2,2,3])\n",
    "_x"
   ]
  },
  {
   "cell_type": "code",
   "execution_count": 65,
   "id": "639b5920-c867-413b-8cbb-1e0b79e43b96",
   "metadata": {},
   "outputs": [
    {
     "data": {
      "text/plain": [
       "tensor([[-2.3394,  1.3453, -0.3396,  0.5713, -2.2313,  0.8252,  0.1893,  0.6070,\n",
       "         -0.7624, -0.2676,  1.1180,  0.6737,  1.6577, -1.3665,  1.3162, -0.0132,\n",
       "          1.4430,  0.0303, -1.1834, -0.3722],\n",
       "        [ 0.9234, -1.9822,  0.6516, -0.4174,  0.3364, -0.2246,  1.4697, -0.8379,\n",
       "         -0.1248, -0.7375, -0.8327, -0.9179,  1.2838,  0.0307, -0.8350, -0.3936,\n",
       "          0.1039,  0.3440,  2.0178, -1.0137],\n",
       "        [-1.7603, -2.0304,  1.3996, -0.3321, -1.3096, -0.1978, -0.0037,  0.6667,\n",
       "         -0.6620,  1.3511,  0.3226,  0.3802,  0.1700, -0.1528,  0.4741,  0.2493,\n",
       "         -0.0702, -0.0315, -1.2255,  0.3966],\n",
       "        [-1.7603, -2.0304,  1.3996, -0.3321, -1.3096, -0.1978, -0.0037,  0.6667,\n",
       "         -0.6620,  1.3511,  0.3226,  0.3802,  0.1700, -0.1528,  0.4741,  0.2493,\n",
       "         -0.0702, -0.0315, -1.2255,  0.3966],\n",
       "        [ 0.9557, -0.1601, -0.9933, -1.0430, -1.3975, -1.8217,  0.5578, -0.4781,\n",
       "         -0.8854,  0.8391,  1.3672,  0.3315,  1.5096, -0.7648,  0.0735, -0.6721,\n",
       "         -0.2264, -0.2406,  0.4416,  0.6807],\n",
       "        [-2.3394,  1.3453, -0.3396,  0.5713, -2.2313,  0.8252,  0.1893,  0.6070,\n",
       "         -0.7624, -0.2676,  1.1180,  0.6737,  1.6577, -1.3665,  1.3162, -0.0132,\n",
       "          1.4430,  0.0303, -1.1834, -0.3722],\n",
       "        [ 0.9234, -1.9822,  0.6516, -0.4174,  0.3364, -0.2246,  1.4697, -0.8379,\n",
       "         -0.1248, -0.7375, -0.8327, -0.9179,  1.2838,  0.0307, -0.8350, -0.3936,\n",
       "          0.1039,  0.3440,  2.0178, -1.0137],\n",
       "        [-1.7603, -2.0304,  1.3996, -0.3321, -1.3096, -0.1978, -0.0037,  0.6667,\n",
       "         -0.6620,  1.3511,  0.3226,  0.3802,  0.1700, -0.1528,  0.4741,  0.2493,\n",
       "         -0.0702, -0.0315, -1.2255,  0.3966],\n",
       "        [-1.7603, -2.0304,  1.3996, -0.3321, -1.3096, -0.1978, -0.0037,  0.6667,\n",
       "         -0.6620,  1.3511,  0.3226,  0.3802,  0.1700, -0.1528,  0.4741,  0.2493,\n",
       "         -0.0702, -0.0315, -1.2255,  0.3966],\n",
       "        [ 0.9557, -0.1601, -0.9933, -1.0430, -1.3975, -1.8217,  0.5578, -0.4781,\n",
       "         -0.8854,  0.8391,  1.3672,  0.3315,  1.5096, -0.7648,  0.0735, -0.6721,\n",
       "         -0.2264, -0.2406,  0.4416,  0.6807]], grad_fn=<EmbeddingBackward0>)"
      ]
     },
     "execution_count": 65,
     "metadata": {},
     "output_type": "execute_result"
    }
   ],
   "source": [
    "e1(_x)"
   ]
  },
  {
   "cell_type": "markdown",
   "id": "a374584b-d41f-4299-9702-6bbeba49696e",
   "metadata": {},
   "source": [
    "- 입력 (10,1)\n",
    "- 출력 (10,20)"
   ]
  },
  {
   "cell_type": "markdown",
   "id": "8b3c0da1-a894-4517-8b7b-1bb4fe304579",
   "metadata": {},
   "source": [
    "`-` torch.nn.Linear(), torch.nn.Embedding() 의 차이가 없어보인다? $\\to$ 파라메터를 조사하면 차이가 있다"
   ]
  },
  {
   "cell_type": "code",
   "execution_count": 71,
   "id": "b21d9598-35aa-485d-bdf4-3a68ebf3f696",
   "metadata": {},
   "outputs": [
    {
     "data": {
      "text/plain": [
       "20"
      ]
     },
     "execution_count": 71,
     "metadata": {},
     "output_type": "execute_result"
    }
   ],
   "source": [
    "len(list(_l1.parameters())[0])"
   ]
  },
  {
   "cell_type": "code",
   "execution_count": 74,
   "id": "b094e58d-0c2d-4a82-a8a7-c69afc16d233",
   "metadata": {},
   "outputs": [
    {
     "data": {
      "text/plain": [
       "torch.Size([4, 20])"
      ]
     },
     "execution_count": 74,
     "metadata": {},
     "output_type": "execute_result"
    }
   ],
   "source": [
    "list(e1.parameters())[0].shape"
   ]
  },
  {
   "cell_type": "markdown",
   "id": "8cb74d8f-2527-4cbb-8890-54a32cc13a87",
   "metadata": {},
   "source": [
    "`-` 결국에는 맵핑방식1의 경우 아래와 같이 이해할 수 있고 \n",
    "\n",
    "- ${\\bf X}$: (10,1) \n",
    "- ${\\bf W}$: (1,20) \n",
    "- ${\\bf XW}$: (10,20)"
   ]
  },
  {
   "cell_type": "markdown",
   "id": "acf252df-c083-4c67-a81a-524329806b77",
   "metadata": {},
   "source": [
    "`-` 맵핑방식2의 경우 아래와 같이 이해가능하다. \n",
    "\n",
    "- ${\\bf X}$: (10,1) \n",
    "- $\\tilde{\\bf X}$: (10,4) \n",
    "- ${\\bf W}$: (4,20) \n",
    "- $\\tilde{\\bf X}{\\bf W}$: (10,20)"
   ]
  },
  {
   "cell_type": "markdown",
   "id": "af7d05d0-d683-49ed-b7e0-a0f1332a683c",
   "metadata": {},
   "source": [
    "`-` 결국 우리가 맵핑방식2처럼 구현하고 싶다고 해도, 입력은 아래와 같이 넣어도 무방하다. 이후에는 파이토치의 torch.nn.Embedding()이 알아서 해결해준다. "
   ]
  },
  {
   "cell_type": "code",
   "execution_count": 75,
   "id": "e0e4d096-8047-4874-be05-e2093162f4fa",
   "metadata": {},
   "outputs": [
    {
     "data": {
      "text/plain": [
       "tensor([0, 1, 2, 2, 3, 0, 1, 2, 2, 3])"
      ]
     },
     "execution_count": 75,
     "metadata": {},
     "output_type": "execute_result"
    }
   ],
   "source": [
    "_x"
   ]
  },
  {
   "cell_type": "markdown",
   "id": "2cf41e02-057b-430e-9e96-272ee5b18047",
   "metadata": {},
   "source": [
    "### 네트워크 구축 "
   ]
  },
  {
   "cell_type": "markdown",
   "id": "b9c79888-867f-4e63-805f-697b55defd7d",
   "metadata": {},
   "source": [
    "`-` 이제 숫자화된 자료 `nums`를 이용하여 다시 X,y를 선언하자."
   ]
  },
  {
   "cell_type": "code",
   "execution_count": 78,
   "id": "7f202249-6693-479a-a849-5980e05ea4d5",
   "metadata": {},
   "outputs": [],
   "source": [
    "X = torch.tensor(nums[:499]) \n",
    "y = torch.tensor(nums[1:]) "
   ]
  },
  {
   "cell_type": "code",
   "execution_count": 79,
   "id": "4b9f57e9-e287-4615-bf7c-e811fbf7d85f",
   "metadata": {},
   "outputs": [
    {
     "data": {
      "text/plain": [
       "(tensor(0), tensor(1))"
      ]
     },
     "execution_count": 79,
     "metadata": {},
     "output_type": "execute_result"
    }
   ],
   "source": [
    "X[0],y[0]"
   ]
  },
  {
   "cell_type": "code",
   "execution_count": 80,
   "id": "4e7f8dd1-82c4-43f5-851d-519377b139b1",
   "metadata": {},
   "outputs": [
    {
     "data": {
      "text/plain": [
       "(tensor(1), tensor(2))"
      ]
     },
     "execution_count": 80,
     "metadata": {},
     "output_type": "execute_result"
    }
   ],
   "source": [
    "X[1],y[1]"
   ]
  },
  {
   "cell_type": "markdown",
   "id": "8eda24bb-9102-4e84-9083-f8c2ba8ac5c1",
   "metadata": {},
   "source": [
    "`-` 간단한 네트워크를 설계하자. "
   ]
  },
  {
   "cell_type": "code",
   "execution_count": 82,
   "id": "93e87db8-a46c-43c3-9bec-5f474832f069",
   "metadata": {},
   "outputs": [],
   "source": [
    "e1=torch.nn.Embedding(num_embeddings=4, embedding_dim=20) \n",
    "l1=torch.nn.Linear(in_features=20,out_features=20)\n",
    "a1=torch.nn.ReLU()\n",
    "l2=torch.nn.Linear(in_features=20,out_features=4) \n",
    "a2=torch.nn.Softmax() "
   ]
  },
  {
   "cell_type": "code",
   "execution_count": 86,
   "id": "c5fbd4b7-cdeb-4f33-8e65-9295822bebf2",
   "metadata": {},
   "outputs": [
    {
     "data": {
      "text/plain": [
       "(torch.Size([499]), torch.Size([499, 20]))"
      ]
     },
     "execution_count": 86,
     "metadata": {},
     "output_type": "execute_result"
    }
   ],
   "source": [
    "X.shape, e1(X).shape"
   ]
  },
  {
   "cell_type": "code",
   "execution_count": 87,
   "id": "7c09caa3-8713-498f-a421-368160c37c3e",
   "metadata": {},
   "outputs": [
    {
     "data": {
      "text/plain": [
       "(torch.Size([499, 20]), torch.Size([499, 20]))"
      ]
     },
     "execution_count": 87,
     "metadata": {},
     "output_type": "execute_result"
    }
   ],
   "source": [
    "e1(X).shape, a1(l1(e1(X))).shape"
   ]
  },
  {
   "cell_type": "code",
   "execution_count": 88,
   "id": "bc07086f-4db8-4115-8076-b28d89518830",
   "metadata": {},
   "outputs": [
    {
     "data": {
      "text/plain": [
       "(torch.Size([499, 20]), torch.Size([499, 4]))"
      ]
     },
     "execution_count": 88,
     "metadata": {},
     "output_type": "execute_result"
    }
   ],
   "source": [
    "a1(l1(e1(X))).shape, l2(a1(l1(e1(X)))).shape"
   ]
  },
  {
   "cell_type": "code",
   "execution_count": 91,
   "id": "75608e7d-a6cb-419a-8e93-a0e7c751a502",
   "metadata": {},
   "outputs": [
    {
     "name": "stderr",
     "output_type": "stream",
     "text": [
      "<ipython-input-91-6a5d66616296>:1: UserWarning: Implicit dimension choice for softmax has been deprecated. Change the call to include dim=X as an argument.\n",
      "  a2(l2(a1(l1(e1(X))))).shape\n"
     ]
    },
    {
     "data": {
      "text/plain": [
       "torch.Size([499, 4])"
      ]
     },
     "execution_count": 91,
     "metadata": {},
     "output_type": "execute_result"
    }
   ],
   "source": [
    "a2(l2(a1(l1(e1(X))))).shape"
   ]
  },
  {
   "cell_type": "markdown",
   "id": "a40655e4-5ea6-4140-b9d0-aba013a2e627",
   "metadata": {},
   "source": [
    "- $X$의 차원이 정확하게 명시되지 않아서 대충 컴퓨터가 알아서 계산했다라는 뜻의 워닝 "
   ]
  },
  {
   "cell_type": "markdown",
   "id": "5f0666f0-ae39-4f5b-aefd-41f06c7deb37",
   "metadata": {},
   "source": [
    "`-` 워닝이 찝찝하여 내가 softmax를 수동으로 직접계산해봄 "
   ]
  },
  {
   "cell_type": "code",
   "execution_count": 94,
   "id": "93ab341f-909c-48dc-90ef-9f8343a5e62a",
   "metadata": {},
   "outputs": [
    {
     "data": {
      "text/plain": [
       "tensor([-0.1398, -0.1216, -0.0264,  0.2706], grad_fn=<SelectBackward0>)"
      ]
     },
     "execution_count": 94,
     "metadata": {},
     "output_type": "execute_result"
    }
   ],
   "source": [
    "l2(a1(l1(e1(X))))[0]"
   ]
  },
  {
   "cell_type": "code",
   "execution_count": 101,
   "id": "086f8a1b-3602-434d-a779-e1ff8cb9bfcb",
   "metadata": {},
   "outputs": [
    {
     "data": {
      "text/plain": [
       "0.21524507060064613"
      ]
     },
     "execution_count": 101,
     "metadata": {},
     "output_type": "execute_result"
    }
   ],
   "source": [
    "np.exp(-0.1398)/(np.exp(-0.1398)+np.exp(-0.1216)+np.exp(-0.0264)+np.exp(0.2706))"
   ]
  },
  {
   "cell_type": "code",
   "execution_count": 102,
   "id": "dba156e3-8470-4d37-85f8-68aa9218db79",
   "metadata": {},
   "outputs": [
    {
     "name": "stderr",
     "output_type": "stream",
     "text": [
      "<ipython-input-102-17d00ccf79de>:1: UserWarning: Implicit dimension choice for softmax has been deprecated. Change the call to include dim=X as an argument.\n",
      "  a2(l2(a1(l1(e1(X)))))[0]\n"
     ]
    },
    {
     "data": {
      "text/plain": [
       "tensor([0.2152, 0.2192, 0.2411, 0.3245], grad_fn=<SelectBackward0>)"
      ]
     },
     "execution_count": 102,
     "metadata": {},
     "output_type": "execute_result"
    }
   ],
   "source": [
    "a2(l2(a1(l1(e1(X)))))[0]"
   ]
  },
  {
   "cell_type": "markdown",
   "id": "27d66e89-8b23-4429-a0f1-415284d305d4",
   "metadata": {},
   "source": [
    "- 잘 계산된것 같다. "
   ]
  },
  {
   "cell_type": "markdown",
   "id": "8539696a-3288-4dcd-909d-9937cf2eb28c",
   "metadata": {},
   "source": [
    "`-` 순전파의 차원변화 요약 \n",
    "\n",
    "```\n",
    "torch.Size([499]) # X\n",
    "torch.Size([499, 20]) # e1이후\n",
    "torch.Size([499, 20]) # l1이후  \n",
    "torch.Size([499, 20]) # a1이후 \n",
    "torch.Size([499, 4]) # l1이후 \n",
    "torch.Size([499, 4]) # a2이후 = yhat \n",
    "```"
   ]
  },
  {
   "cell_type": "code",
   "execution_count": 103,
   "id": "94c189f1-935d-4718-9f7e-4ad1b02a14eb",
   "metadata": {},
   "outputs": [],
   "source": [
    "net = torch.nn.Sequential(\n",
    "    torch.nn.Embedding(num_embeddings=4,embedding_dim=20),\n",
    "    torch.nn.Linear(in_features=20,out_features=20), \n",
    "    torch.nn.ReLU(),\n",
    "    torch.nn.Linear(in_features=20,out_features=4))\n",
    "    #torch.nn.Softmax()"
   ]
  },
  {
   "cell_type": "code",
   "execution_count": 104,
   "id": "dc29bd6e-a585-4afd-915e-fba935875955",
   "metadata": {},
   "outputs": [
    {
     "data": {
      "text/plain": [
       "tensor([[-0.0016,  0.0228, -0.0857, -0.1480],\n",
       "        [ 0.0805,  0.0955,  0.0832, -0.2003],\n",
       "        [-0.0160, -0.1443,  0.0684, -0.0805],\n",
       "        ...,\n",
       "        [ 0.0805,  0.0955,  0.0832, -0.2003],\n",
       "        [-0.0160, -0.1443,  0.0684, -0.0805],\n",
       "        [-0.0160, -0.1443,  0.0684, -0.0805]], grad_fn=<AddmmBackward0>)"
      ]
     },
     "execution_count": 104,
     "metadata": {},
     "output_type": "execute_result"
    }
   ],
   "source": [
    "net(X)"
   ]
  },
  {
   "cell_type": "markdown",
   "id": "d1734484-ede7-4d59-baf8-ba9ef3ad54cb",
   "metadata": {},
   "source": [
    "`-` 손실함수, 옵티마이저 "
   ]
  },
  {
   "cell_type": "code",
   "execution_count": 105,
   "id": "78b266ae-f517-44f3-b653-08bb0dcb8e8d",
   "metadata": {},
   "outputs": [],
   "source": [
    "loss_fn = torch.nn.CrossEntropyLoss()\n",
    "optimizer = torch.optim.Adam(net.parameters())"
   ]
  },
  {
   "cell_type": "markdown",
   "id": "0d02ab97-6c3a-4374-89c3-b9d51325cc19",
   "metadata": {},
   "source": [
    "`-` 학습"
   ]
  },
  {
   "cell_type": "code",
   "execution_count": 106,
   "id": "ec0e4890-4849-4e32-b938-586bb0bd37f0",
   "metadata": {},
   "outputs": [],
   "source": [
    "for i in range(1000): \n",
    "    ## 1 \n",
    "    yhat = net(X)\n",
    "    ## 2 \n",
    "    loss = loss_fn(yhat,y) \n",
    "    ## 3 \n",
    "    loss.backward()\n",
    "    ## 4 \n",
    "    optimizer.step()\n",
    "    optimizer.zero_grad()"
   ]
  },
  {
   "cell_type": "code",
   "execution_count": 107,
   "id": "bfa96905-8016-4550-ace4-6f2ea0f399df",
   "metadata": {},
   "outputs": [
    {
     "data": {
      "text/plain": [
       "tensor([0, 1, 2, 2, 3, 0, 1])"
      ]
     },
     "execution_count": 107,
     "metadata": {},
     "output_type": "execute_result"
    }
   ],
   "source": [
    "X[:7]"
   ]
  },
  {
   "cell_type": "code",
   "execution_count": 110,
   "id": "d026dd54-f8c5-41b0-8af4-0c171a9413d6",
   "metadata": {},
   "outputs": [
    {
     "data": {
      "text/plain": [
       "tensor([[-1.1941,  6.0211, -2.7683, -3.4999],\n",
       "        [-2.9995, -3.0592,  5.9518, -2.5928],\n",
       "        [-4.0286, -4.0547,  3.8021,  3.8020],\n",
       "        [-4.0286, -4.0547,  3.8021,  3.8020],\n",
       "        [ 6.2541, -1.0755, -2.3719, -2.1683],\n",
       "        [-1.1941,  6.0211, -2.7683, -3.4999],\n",
       "        [-2.9995, -3.0592,  5.9518, -2.5928]], grad_fn=<SliceBackward0>)"
      ]
     },
     "execution_count": 110,
     "metadata": {},
     "output_type": "execute_result"
    }
   ],
   "source": [
    "net(X)[:7]"
   ]
  },
  {
   "cell_type": "markdown",
   "id": "2f9cf5c1-f588-4c1f-9ba4-6753efca73f7",
   "metadata": {},
   "source": [
    "- 학습이 잘 되었다. "
   ]
  },
  {
   "cell_type": "markdown",
   "id": "5a73738c-00f7-462e-9ece-e37545202b18",
   "metadata": {},
   "source": [
    "### net의 개선 "
   ]
  },
  {
   "cell_type": "markdown",
   "id": "4f477e31-80c3-4f32-8c62-767a20723ea5",
   "metadata": {},
   "source": [
    "`-` 단어수가 4에서 바뀔때마다 아래를 반복하여 입력해야할까? \n",
    "\n",
    "```python\n",
    "net = torch.nn.Sequential(\n",
    "    torch.nn.Embedding(num_embeddings=4,embedding_dim=20),\n",
    "    torch.nn.Linear(in_features=20,out_features=20), \n",
    "    torch.nn.ReLU(),\n",
    "    torch.nn.Linear(in_features=20,out_features=4))\n",
    "    #torch.nn.Softmax()\n",
    "```"
   ]
  },
  {
   "cell_type": "markdown",
   "id": "eac88a81-7e3b-4949-be0a-526b24be10ec",
   "metadata": {},
   "source": [
    "`-` `net`을 찍어내는 무언가가 있으면 좋겠다. 제가 만들어볼게요!"
   ]
  },
  {
   "cell_type": "code",
   "execution_count": 121,
   "id": "681a83ec-3ac8-46e2-928a-824212914e73",
   "metadata": {},
   "outputs": [],
   "source": [
    "class BDA(Module): \n",
    "    def __init__(self, num_embeddings): \n",
    "        self.embedding = torch.nn.Embedding(num_embeddings,20)\n",
    "        self.linear1 = torch.nn.Linear(in_features=20,out_features=20)\n",
    "        self.relu = torch.nn.ReLU()\n",
    "        self.linear2 = torch.nn.Linear(in_features=20,out_features=num_embeddings)\n",
    "    def forward(self, X): # net(X)를 계산해주는 방식 \n",
    "        u=self.linear1(self.embedding(X))\n",
    "        v=self.relu(u)\n",
    "        return self.linear2(v) # net(X)의 결과"
   ]
  },
  {
   "cell_type": "code",
   "execution_count": 122,
   "id": "c35f24bd-b4dd-4f56-93b5-c7c54d5333d2",
   "metadata": {},
   "outputs": [],
   "source": [
    "net2 = BDA(4) "
   ]
  },
  {
   "cell_type": "code",
   "execution_count": 123,
   "id": "610586f5-bf3f-4f2e-9cff-b0ccd4af6f66",
   "metadata": {},
   "outputs": [
    {
     "data": {
      "text/plain": [
       "Sequential(\n",
       "  (0): Embedding(4, 20)\n",
       "  (1): Linear(in_features=20, out_features=20, bias=True)\n",
       "  (2): ReLU()\n",
       "  (3): Linear(in_features=20, out_features=4, bias=True)\n",
       ")"
      ]
     },
     "execution_count": 123,
     "metadata": {},
     "output_type": "execute_result"
    }
   ],
   "source": [
    "net"
   ]
  },
  {
   "cell_type": "code",
   "execution_count": 124,
   "id": "364571ad-ec12-4580-bbf8-ecd033ac8d0d",
   "metadata": {},
   "outputs": [
    {
     "data": {
      "text/plain": [
       "BDA(\n",
       "  (embedding): Embedding(4, 20)\n",
       "  (linear1): Linear(in_features=20, out_features=20, bias=True)\n",
       "  (relu): ReLU()\n",
       "  (linear2): Linear(in_features=20, out_features=4, bias=True)\n",
       ")"
      ]
     },
     "execution_count": 124,
     "metadata": {},
     "output_type": "execute_result"
    }
   ],
   "source": [
    "net2"
   ]
  },
  {
   "cell_type": "markdown",
   "id": "8bbb892f-6b8d-4c8f-a660-0886fd24e1fd",
   "metadata": {},
   "source": [
    "`-` net2도 학습하여 net와 동일한 결과가 나오는지 체크해보자. "
   ]
  },
  {
   "cell_type": "code",
   "execution_count": 125,
   "id": "b733279b-2453-429e-b43d-b220b93d8a77",
   "metadata": {},
   "outputs": [],
   "source": [
    "loss_fn= torch.nn.CrossEntropyLoss()\n",
    "optimizer2 = torch.optim.Adam(net2.parameters())"
   ]
  },
  {
   "cell_type": "code",
   "execution_count": 127,
   "id": "11ff2af1-3964-4319-b2ed-db1b52705278",
   "metadata": {},
   "outputs": [],
   "source": [
    "for i in range(1000):\n",
    "    ## 1 \n",
    "    yhat = net2(X) \n",
    "    ## 2 \n",
    "    loss = loss_fn(yhat,y) \n",
    "    ## 3\n",
    "    loss.backward()\n",
    "    ## 4 \n",
    "    optimizer2.step()\n",
    "    optimizer2.zero_grad()"
   ]
  },
  {
   "cell_type": "code",
   "execution_count": 128,
   "id": "48267df1-a522-45fd-8849-69324ec8c934",
   "metadata": {},
   "outputs": [
    {
     "data": {
      "text/plain": [
       "tensor([[-2.8823,  5.3388, -1.5988, -2.9157],\n",
       "        [-2.4622, -2.1139,  5.8411, -3.3147],\n",
       "        [-3.5933, -2.8342,  4.4629,  4.4633],\n",
       "        ...,\n",
       "        [-2.4622, -2.1139,  5.8411, -3.3147],\n",
       "        [-3.5933, -2.8342,  4.4629,  4.4633],\n",
       "        [-3.5933, -2.8342,  4.4629,  4.4633]], grad_fn=<AddmmBackward0>)"
      ]
     },
     "execution_count": 128,
     "metadata": {},
     "output_type": "execute_result"
    }
   ],
   "source": [
    "net2(X) "
   ]
  },
  {
   "cell_type": "code",
   "execution_count": 129,
   "id": "8e11c331-76b4-4a46-bea2-8c3a135e5d27",
   "metadata": {},
   "outputs": [
    {
     "data": {
      "text/plain": [
       "tensor([[-1.1941,  6.0211, -2.7683, -3.4999],\n",
       "        [-2.9995, -3.0592,  5.9518, -2.5928],\n",
       "        [-4.0286, -4.0547,  3.8021,  3.8020],\n",
       "        ...,\n",
       "        [-2.9995, -3.0592,  5.9518, -2.5928],\n",
       "        [-4.0286, -4.0547,  3.8021,  3.8020],\n",
       "        [-4.0286, -4.0547,  3.8021,  3.8020]], grad_fn=<AddmmBackward0>)"
      ]
     },
     "execution_count": 129,
     "metadata": {},
     "output_type": "execute_result"
    }
   ],
   "source": [
    "net(X)"
   ]
  },
  {
   "cell_type": "markdown",
   "id": "140aa942-8962-407d-b4f6-bca73c169337",
   "metadata": {},
   "source": [
    "`-` net2도 잘 학습되었다. "
   ]
  },
  {
   "cell_type": "markdown",
   "id": "627bc1fd-4d38-4d54-9cdc-a0fa94d6f7cc",
   "metadata": {},
   "source": [
    "### 이전 2개의 글자를 보고 다음글자를 맞추어보자. "
   ]
  },
  {
   "cell_type": "markdown",
   "id": "987eebd2-4651-4a82-8a45-649da5681dca",
   "metadata": {},
   "source": [
    "`-` X,y 를 다시 설정하자. "
   ]
  },
  {
   "cell_type": "code",
   "execution_count": 135,
   "id": "c772a26e-b2c0-4965-bef0-80c2507f8047",
   "metadata": {},
   "outputs": [],
   "source": [
    "X = torch.tensor([nums[:498],nums[1:499]]).T\n",
    "y = torch.tensor(nums[2:])"
   ]
  },
  {
   "cell_type": "code",
   "execution_count": 139,
   "id": "5fd255ac-76cd-4fda-8e07-b2579fc58ae9",
   "metadata": {},
   "outputs": [
    {
     "data": {
      "text/plain": [
       "(tensor([0, 1]), tensor(2))"
      ]
     },
     "execution_count": 139,
     "metadata": {},
     "output_type": "execute_result"
    }
   ],
   "source": [
    "X[0],y[0] # h,e -> l "
   ]
  },
  {
   "cell_type": "code",
   "execution_count": 138,
   "id": "da284b3a-da96-47f0-ba4a-aab92e776747",
   "metadata": {},
   "outputs": [
    {
     "data": {
      "text/plain": [
       "(tensor([1, 2]), tensor(2))"
      ]
     },
     "execution_count": 138,
     "metadata": {},
     "output_type": "execute_result"
    }
   ],
   "source": [
    "X[1],y[1] # e,l -> l "
   ]
  },
  {
   "cell_type": "code",
   "execution_count": 141,
   "id": "3f33ed64-cbf7-465c-976a-2b74c2e665bf",
   "metadata": {},
   "outputs": [
    {
     "data": {
      "text/plain": [
       "(tensor([2, 2]), tensor(3))"
      ]
     },
     "execution_count": 141,
     "metadata": {},
     "output_type": "execute_result"
    }
   ],
   "source": [
    "X[2],y[2] # l,l -> o"
   ]
  },
  {
   "cell_type": "code",
   "execution_count": 143,
   "id": "ad7f3958-1840-4efa-9bbd-82bb2e42b194",
   "metadata": {},
   "outputs": [
    {
     "data": {
      "text/plain": [
       "(tensor([2, 3]), tensor(0))"
      ]
     },
     "execution_count": 143,
     "metadata": {},
     "output_type": "execute_result"
    }
   ],
   "source": [
    "X[3],y[3] # l,o -> h"
   ]
  },
  {
   "cell_type": "markdown",
   "id": "f8962920-b364-45f9-aab4-35210c0c4bb5",
   "metadata": {},
   "source": [
    "`-` 아키텍처를 대충 스케치하여 보자. "
   ]
  },
  {
   "cell_type": "code",
   "execution_count": 144,
   "id": "66621810-92f0-4e79-b698-51a293c61914",
   "metadata": {},
   "outputs": [],
   "source": [
    "_e1 = torch.nn.Embedding(num_embeddings=4, embedding_dim=20) "
   ]
  },
  {
   "cell_type": "code",
   "execution_count": 146,
   "id": "6a6f1008-7d2a-4d02-82f3-eae3bdc83a83",
   "metadata": {},
   "outputs": [
    {
     "data": {
      "text/plain": [
       "(torch.Size([498, 2]), torch.Size([498, 2, 20]))"
      ]
     },
     "execution_count": 146,
     "metadata": {},
     "output_type": "execute_result"
    }
   ],
   "source": [
    "X.shape, _e1(X).shape"
   ]
  },
  {
   "cell_type": "markdown",
   "id": "f5c9717c-bb64-481c-bc82-794b3dcdcb2b",
   "metadata": {},
   "source": [
    "`-` 이전의 아키텍처는 아래와 같았음 \n",
    "\n",
    "```\n",
    "torch.Size([499]) # X\n",
    "torch.Size([499, 20]) # e1이후\n",
    "torch.Size([499, 20]) # l1이후  \n",
    "torch.Size([499, 20]) # a1이후 \n",
    "torch.Size([499, 4]) # l1이후 \n",
    "torch.Size([499, 4]) # a2이후 = yhat \n",
    "```"
   ]
  },
  {
   "cell_type": "markdown",
   "id": "f40cdeb1-f032-4a8c-a329-a06006bc00ba",
   "metadata": {},
   "source": [
    "`-` 마지막의 차원을 처리하기 애매해진다. $\\to$ 순환망을 설계함 "
   ]
  },
  {
   "cell_type": "code",
   "execution_count": 152,
   "id": "5695c836-1fff-4959-962d-4d22acf51f9f",
   "metadata": {},
   "outputs": [
    {
     "data": {
      "text/plain": [
       "tensor([1, 2, 2, 3, 0, 1, 2, 2, 3, 0, 1, 2, 2, 3, 0, 1, 2, 2, 3, 0, 1, 2, 2, 3,\n",
       "        0, 1, 2, 2, 3, 0, 1, 2, 2, 3, 0, 1, 2, 2, 3, 0, 1, 2, 2, 3, 0, 1, 2, 2,\n",
       "        3, 0, 1, 2, 2, 3, 0, 1, 2, 2, 3, 0, 1, 2, 2, 3, 0, 1, 2, 2, 3, 0, 1, 2,\n",
       "        2, 3, 0, 1, 2, 2, 3, 0, 1, 2, 2, 3, 0, 1, 2, 2, 3, 0, 1, 2, 2, 3, 0, 1,\n",
       "        2, 2, 3, 0, 1, 2, 2, 3, 0, 1, 2, 2, 3, 0, 1, 2, 2, 3, 0, 1, 2, 2, 3, 0,\n",
       "        1, 2, 2, 3, 0, 1, 2, 2, 3, 0, 1, 2, 2, 3, 0, 1, 2, 2, 3, 0, 1, 2, 2, 3,\n",
       "        0, 1, 2, 2, 3, 0, 1, 2, 2, 3, 0, 1, 2, 2, 3, 0, 1, 2, 2, 3, 0, 1, 2, 2,\n",
       "        3, 0, 1, 2, 2, 3, 0, 1, 2, 2, 3, 0, 1, 2, 2, 3, 0, 1, 2, 2, 3, 0, 1, 2,\n",
       "        2, 3, 0, 1, 2, 2, 3, 0, 1, 2, 2, 3, 0, 1, 2, 2, 3, 0, 1, 2, 2, 3, 0, 1,\n",
       "        2, 2, 3, 0, 1, 2, 2, 3, 0, 1, 2, 2, 3, 0, 1, 2, 2, 3, 0, 1, 2, 2, 3, 0,\n",
       "        1, 2, 2, 3, 0, 1, 2, 2, 3, 0, 1, 2, 2, 3, 0, 1, 2, 2, 3, 0, 1, 2, 2, 3,\n",
       "        0, 1, 2, 2, 3, 0, 1, 2, 2, 3, 0, 1, 2, 2, 3, 0, 1, 2, 2, 3, 0, 1, 2, 2,\n",
       "        3, 0, 1, 2, 2, 3, 0, 1, 2, 2, 3, 0, 1, 2, 2, 3, 0, 1, 2, 2, 3, 0, 1, 2,\n",
       "        2, 3, 0, 1, 2, 2, 3, 0, 1, 2, 2, 3, 0, 1, 2, 2, 3, 0, 1, 2, 2, 3, 0, 1,\n",
       "        2, 2, 3, 0, 1, 2, 2, 3, 0, 1, 2, 2, 3, 0, 1, 2, 2, 3, 0, 1, 2, 2, 3, 0,\n",
       "        1, 2, 2, 3, 0, 1, 2, 2, 3, 0, 1, 2, 2, 3, 0, 1, 2, 2, 3, 0, 1, 2, 2, 3,\n",
       "        0, 1, 2, 2, 3, 0, 1, 2, 2, 3, 0, 1, 2, 2, 3, 0, 1, 2, 2, 3, 0, 1, 2, 2,\n",
       "        3, 0, 1, 2, 2, 3, 0, 1, 2, 2, 3, 0, 1, 2, 2, 3, 0, 1, 2, 2, 3, 0, 1, 2,\n",
       "        2, 3, 0, 1, 2, 2, 3, 0, 1, 2, 2, 3, 0, 1, 2, 2, 3, 0, 1, 2, 2, 3, 0, 1,\n",
       "        2, 2, 3, 0, 1, 2, 2, 3, 0, 1, 2, 2, 3, 0, 1, 2, 2, 3, 0, 1, 2, 2, 3, 0,\n",
       "        1, 2, 2, 3, 0, 1, 2, 2, 3, 0, 1, 2, 2, 3, 0, 1, 2, 2])"
      ]
     },
     "execution_count": 152,
     "metadata": {},
     "output_type": "execute_result"
    }
   ],
   "source": [
    "X[:,1]"
   ]
  },
  {
   "cell_type": "code",
   "execution_count": 154,
   "id": "53b87f7f-2d66-4371-bbda-a676a1963aaf",
   "metadata": {},
   "outputs": [],
   "source": [
    "class BDA2(Module): \n",
    "    def __init__(self, num_embeddings): \n",
    "        self.embedding = torch.nn.Embedding(num_embeddings,20)\n",
    "        self.linear1 = torch.nn.Linear(in_features=20,out_features=20)\n",
    "        self.relu = torch.nn.ReLU()\n",
    "        self.linear2 = torch.nn.Linear(in_features=20,out_features=num_embeddings)\n",
    "    def forward(self, X): # net(X)를 계산해주는 방식 \n",
    "        x1=X[:,0] # X의 첫번째 칼럼, y보다 2시점이전  (x1,x2) -> y // (h,e) --> l \n",
    "        x2=X[:,1] # X의 두번째 칼럼, y보다 1시점이전 \n",
    "        h=self.relu(self.linear1(self.embedding(x1))) # x1 -> x2를 예측하는 네트워크의 일부 \n",
    "        h2=self.relu(self.linear1(h+ self.embedding(x2))) # x2 -> y를 예측하는 네트어크의 일부 \n",
    "        return self.linear2(h2) # net(X)의 결과"
   ]
  },
  {
   "cell_type": "markdown",
   "id": "b80957cf-f77e-43bc-8087-a6ff9811027d",
   "metadata": {},
   "source": [
    "`-` 결국 최종출력인 self.linear2(h2)는 h와 x2가 담긴 함수이다. 그런데 h는 x1이 담긴 함수이다. 따라서 h2는 x2가 담겨있는 동시에 x1대한 정보도 약하게 담겨있다고 볼 수 있음 "
   ]
  },
  {
   "cell_type": "code",
   "execution_count": 155,
   "id": "b0990640-97cd-48cc-8a32-170389a42474",
   "metadata": {},
   "outputs": [
    {
     "data": {
      "text/plain": [
       "BDA2(\n",
       "  (embedding): Embedding(4, 20)\n",
       "  (linear1): Linear(in_features=20, out_features=20, bias=True)\n",
       "  (relu): ReLU()\n",
       "  (linear2): Linear(in_features=20, out_features=4, bias=True)\n",
       ")"
      ]
     },
     "execution_count": 155,
     "metadata": {},
     "output_type": "execute_result"
    }
   ],
   "source": [
    "net3=BDA2(4) \n",
    "net3"
   ]
  },
  {
   "cell_type": "code",
   "execution_count": 156,
   "id": "9335d15f-81ba-44a7-83c0-fb6351b3e514",
   "metadata": {},
   "outputs": [
    {
     "data": {
      "text/plain": [
       "BDA(\n",
       "  (embedding): Embedding(4, 20)\n",
       "  (linear1): Linear(in_features=20, out_features=20, bias=True)\n",
       "  (relu): ReLU()\n",
       "  (linear2): Linear(in_features=20, out_features=4, bias=True)\n",
       ")"
      ]
     },
     "execution_count": 156,
     "metadata": {},
     "output_type": "execute_result"
    }
   ],
   "source": [
    "net2"
   ]
  },
  {
   "cell_type": "markdown",
   "id": "95c45dcc-7756-45a4-b7d6-b4611a79485d",
   "metadata": {},
   "source": [
    "- 구조의 차이는 없지만 순전파의 계산방식이 다른다! (그렇다면 역전파 계산방식도 다르겠죠?) "
   ]
  },
  {
   "cell_type": "markdown",
   "id": "6ed85fde-ce29-480d-9f9f-114ab3553a2e",
   "metadata": {},
   "source": [
    "`-` 다시 학습해보자. "
   ]
  },
  {
   "cell_type": "code",
   "execution_count": 157,
   "id": "96625cd8-8afc-4ffc-ad76-f0db98267fd9",
   "metadata": {},
   "outputs": [],
   "source": [
    "loss_fn = torch.nn.CrossEntropyLoss() \n",
    "optimizer3= torch. optim.Adam(net3.parameters())"
   ]
  },
  {
   "cell_type": "code",
   "execution_count": 158,
   "id": "e7acb25b-ef2d-4289-b91b-83817a85e8f1",
   "metadata": {},
   "outputs": [],
   "source": [
    "for i in range(1000):\n",
    "    ## 1 \n",
    "    yhat = net3(X) \n",
    "    ## 2 \n",
    "    loss = loss_fn(yhat,y) \n",
    "    ## 3 \n",
    "    loss.backward()\n",
    "    ## 4 \n",
    "    optimizer3.step()\n",
    "    optimizer3.zero_grad()"
   ]
  },
  {
   "cell_type": "code",
   "execution_count": 159,
   "id": "c7b0ed0a-a557-4221-9b34-c2a0fc8e8ea1",
   "metadata": {},
   "outputs": [
    {
     "data": {
      "text/plain": [
       "tensor([[0, 1],\n",
       "        [1, 2],\n",
       "        [2, 2],\n",
       "        [2, 3],\n",
       "        [3, 0]])"
      ]
     },
     "execution_count": 159,
     "metadata": {},
     "output_type": "execute_result"
    }
   ],
   "source": [
    "X[:5]"
   ]
  },
  {
   "cell_type": "code",
   "execution_count": 160,
   "id": "208c8700-6a58-423b-933d-3341e4121825",
   "metadata": {},
   "outputs": [
    {
     "data": {
      "text/plain": [
       "tensor([[-3.4906, -2.5577,  5.7092, -5.5080],\n",
       "        [-3.6006, -2.8640,  5.7962, -2.3766],\n",
       "        [-1.6940, -3.4435, -2.1906,  5.8796],\n",
       "        [ 6.6544, -2.4499, -3.2569, -0.3492],\n",
       "        [-2.6329,  6.2465, -2.2382, -3.0478]], grad_fn=<SliceBackward0>)"
      ]
     },
     "execution_count": 160,
     "metadata": {},
     "output_type": "execute_result"
    }
   ],
   "source": [
    "net3(X)[:5]"
   ]
  },
  {
   "cell_type": "markdown",
   "id": "df42a952-e365-441b-9f33-eca060710b1e",
   "metadata": {},
   "source": [
    "- h,e $\\to$ l \n",
    "- e,l $\\to$ l \n",
    "- l,l $\\to$ o\n",
    "- l,o $\\to$ h\n",
    "- o,h $\\to$ e"
   ]
  },
  {
   "cell_type": "markdown",
   "id": "058e0171-7d98-4985-a9ac-4a8f8fc87eef",
   "metadata": {},
   "source": [
    "`-` 학습이 잘 되었다. "
   ]
  }
 ],
 "metadata": {
  "kernelspec": {
   "display_name": "Python 3 (ipykernel)",
   "language": "python",
   "name": "python3"
  },
  "language_info": {
   "codemirror_mode": {
    "name": "ipython",
    "version": 3
   },
   "file_extension": ".py",
   "mimetype": "text/x-python",
   "name": "python",
   "nbconvert_exporter": "python",
   "pygments_lexer": "ipython3",
   "version": "3.7.13"
  }
 },
 "nbformat": 4,
 "nbformat_minor": 5
}
