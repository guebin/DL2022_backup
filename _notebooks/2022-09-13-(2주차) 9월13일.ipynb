{
 "cells": [
  {
   "cell_type": "markdown",
   "id": "dbca54ee-49e2-4db9-b6c9-a547a9c574e2",
   "metadata": {},
   "source": [
    "`-` 비교 "
   ]
  },
  {
   "cell_type": "markdown",
   "id": "f35d908d-1c95-4d1d-a466-3a462bdab581",
   "metadata": {},
   "source": [
    "| |이미지분석(CNN) | 추천시스템 | 텍스트분석 | GAN | \n",
    "|:-:|:-:|:-:|:-:|:-:|\n",
    "|1단계|ImageDataLoaders|CollabDataLoaders| TextDataLoaders | DataBlock -> dls |  \n",
    "|2단계|cnn_learner()|collab_learner()| language_model_learner() | GANLearner.wgan() | \n",
    "|3단계|lrnr.fine_tune(1)|lrnr.fit()| lrnr.fit() | lrnr.fit() |\n",
    "|4단계|lrnr.predict(), lrnr.model(X)|lrnr.model(X)| lrnr.predict() | | "
   ]
  },
  {
   "cell_type": "markdown",
   "id": "7ffba01c-de8b-4764-84a8-e86ac2a80c2c",
   "metadata": {},
   "source": [
    "`-` 지난시간 imports 수정할것.. "
   ]
  },
  {
   "cell_type": "code",
   "execution_count": null,
   "id": "f0079ebc-5086-464d-94ef-fd628f527433",
   "metadata": {},
   "outputs": [],
   "source": []
  },
  {
   "cell_type": "code",
   "execution_count": null,
   "id": "0beb5cdc-b13e-4317-a842-feda69ee034a",
   "metadata": {},
   "outputs": [],
   "source": []
  },
  {
   "cell_type": "code",
   "execution_count": null,
   "id": "40f36165-da3f-40a9-94e3-9c6afa22c3fc",
   "metadata": {},
   "outputs": [],
   "source": []
  }
 ],
 "metadata": {
  "kernelspec": {
   "display_name": "Python 3 (ipykernel)",
   "language": "python",
   "name": "python3"
  },
  "language_info": {
   "codemirror_mode": {
    "name": "ipython",
    "version": 3
   },
   "file_extension": ".py",
   "mimetype": "text/x-python",
   "name": "python",
   "nbconvert_exporter": "python",
   "pygments_lexer": "ipython3",
   "version": "3.7.13"
  }
 },
 "nbformat": 4,
 "nbformat_minor": 5
}
