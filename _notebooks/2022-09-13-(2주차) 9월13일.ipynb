{
 "cells": [
  {
   "cell_type": "markdown",
   "id": "68ab0286-cdd1-442a-ab46-452eceb5fa97",
   "metadata": {},
   "source": [
    "### imports"
   ]
  },
  {
   "cell_type": "code",
   "execution_count": 4,
   "id": "52b8c79e-4e15-4774-b6dc-305a1235a31c",
   "metadata": {},
   "outputs": [],
   "source": [
    "#\n",
    "# from fastai.vision.all import *  ## 이미지분석 \n",
    "from fastai.collab import * ## 추천시스템\n",
    "from fastai.text.all import * ## 텍스트분석 \n",
    "from fastai.vision.gan import * ## GAN (이미지생성)"
   ]
  },
  {
   "cell_type": "code",
   "execution_count": 5,
   "id": "6f4a5250-04ff-43e0-b6ab-06b3c544b896",
   "metadata": {},
   "outputs": [],
   "source": [
    "import pandas as pd"
   ]
  },
  {
   "cell_type": "markdown",
   "id": "669c3514-eb7a-40a2-8d50-234821c1da26",
   "metadata": {},
   "source": [
    "### fastai를 이용한 분석 steps"
   ]
  },
  {
   "cell_type": "markdown",
   "id": "dbca54ee-49e2-4db9-b6c9-a547a9c574e2",
   "metadata": {},
   "source": [
    "`-` 비교 "
   ]
  },
  {
   "cell_type": "markdown",
   "id": "f35d908d-1c95-4d1d-a466-3a462bdab581",
   "metadata": {},
   "source": [
    "| |이미지분석(CNN) | 추천시스템 | 텍스트분석 | GAN | \n",
    "|:-:|:-:|:-:|:-:|:-:|\n",
    "|1단계|ImageDataLoaders|CollabDataLoaders| TextDataLoaders | DataBlock -> dls |  \n",
    "|2단계|cnn_learner()|collab_learner()| language_model_learner() | GANLearner.wgan() | \n",
    "|3단계|lrnr.fine_tune(1)|lrnr.fit()| lrnr.fit() | lrnr.fit() |\n",
    "|4단계|lrnr.predict(), lrnr.model(X)|lrnr.model(X)| lrnr.predict() | | "
   ]
  },
  {
   "cell_type": "markdown",
   "id": "7ffba01c-de8b-4764-84a8-e86ac2a80c2c",
   "metadata": {},
   "source": [
    "`-` 지난시간 imports 수정할것.. "
   ]
  },
  {
   "cell_type": "code",
   "execution_count": null,
   "id": "06aaba4c-bc0e-45c4-b206-47bfb3fee77a",
   "metadata": {},
   "outputs": [],
   "source": []
  },
  {
   "cell_type": "code",
   "execution_count": null,
   "id": "406fde52-bb17-4cd2-b2fe-ef2fc40b7e53",
   "metadata": {},
   "outputs": [],
   "source": []
  },
  {
   "cell_type": "code",
   "execution_count": null,
   "id": "8219012f-3ef3-450b-a18c-af33f640475c",
   "metadata": {},
   "outputs": [],
   "source": []
  }
 ],
 "metadata": {
  "kernelspec": {
   "display_name": "Python 3 (ipykernel)",
   "language": "python",
   "name": "python3"
  },
  "language_info": {
   "codemirror_mode": {
    "name": "ipython",
    "version": 3
   },
   "file_extension": ".py",
   "mimetype": "text/x-python",
   "name": "python",
   "nbconvert_exporter": "python",
   "pygments_lexer": "ipython3",
   "version": "3.7.13"
  }
 },
 "nbformat": 4,
 "nbformat_minor": 5
}
