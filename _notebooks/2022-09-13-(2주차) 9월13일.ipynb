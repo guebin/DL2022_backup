{
 "cells": [
  {
   "cell_type": "markdown",
   "id": "68ab0286-cdd1-442a-ab46-452eceb5fa97",
   "metadata": {},
   "source": [
    "### imports"
   ]
  },
  {
   "cell_type": "code",
   "execution_count": 69,
   "id": "52b8c79e-4e15-4774-b6dc-305a1235a31c",
   "metadata": {},
   "outputs": [],
   "source": [
    "#\n",
    "from fastai.collab import * ## 추천시스템\n",
    "from fastai.text.all import * ## 텍스트분석 \n",
    "from fastai.vision.all import *  ## GAN (이미지분석) \n",
    "from fastai.vision.gan import * ## GAN (이미지생성)"
   ]
  },
  {
   "cell_type": "code",
   "execution_count": 2,
   "id": "6f4a5250-04ff-43e0-b6ab-06b3c544b896",
   "metadata": {},
   "outputs": [],
   "source": [
    "import pandas as pd"
   ]
  },
  {
   "cell_type": "markdown",
   "id": "669c3514-eb7a-40a2-8d50-234821c1da26",
   "metadata": {},
   "source": [
    "### fastai를 이용한 분석 steps"
   ]
  },
  {
   "cell_type": "markdown",
   "id": "dbca54ee-49e2-4db9-b6c9-a547a9c574e2",
   "metadata": {},
   "source": [
    "`-` 비교 "
   ]
  },
  {
   "cell_type": "markdown",
   "id": "f35d908d-1c95-4d1d-a466-3a462bdab581",
   "metadata": {},
   "source": [
    "| |이미지분석(CNN) | 추천시스템 | 텍스트분석 | GAN | \n",
    "|:-:|:-:|:-:|:-:|:-:|\n",
    "|1단계|ImageDataLoaders|CollabDataLoaders| TextDataLoaders | DataBlock -> dls |  \n",
    "|2단계|cnn_learner()|collab_learner()| language_model_learner() | GANLearner.wgan() | \n",
    "|3단계|lrnr.fine_tune(1)|lrnr.fit()| lrnr.fit() | lrnr.fit() |\n",
    "|4단계|lrnr.predict(), lrnr.model(X)|lrnr.model(X)| lrnr.predict() | | "
   ]
  },
  {
   "cell_type": "markdown",
   "id": "db3b6ee7-5e66-425d-98c0-d3faa09a3a14",
   "metadata": {},
   "source": [
    "## 추천시스템"
   ]
  },
  {
   "cell_type": "markdown",
   "id": "fbc256c0-f062-4f0a-9311-98ad633a4bf2",
   "metadata": {},
   "source": [
    "### 1단계"
   ]
  },
  {
   "cell_type": "code",
   "execution_count": 3,
   "id": "be027a0e-979a-4f20-8143-6ec54779685e",
   "metadata": {},
   "outputs": [
    {
     "data": {
      "text/html": [
       "<div>\n",
       "<style scoped>\n",
       "    .dataframe tbody tr th:only-of-type {\n",
       "        vertical-align: middle;\n",
       "    }\n",
       "\n",
       "    .dataframe tbody tr th {\n",
       "        vertical-align: top;\n",
       "    }\n",
       "\n",
       "    .dataframe thead th {\n",
       "        text-align: right;\n",
       "    }\n",
       "</style>\n",
       "<table border=\"1\" class=\"dataframe\">\n",
       "  <thead>\n",
       "    <tr style=\"text-align: right;\">\n",
       "      <th></th>\n",
       "      <th>커피1</th>\n",
       "      <th>커피2</th>\n",
       "      <th>커피3</th>\n",
       "      <th>커피4</th>\n",
       "      <th>커피5</th>\n",
       "      <th>커피6</th>\n",
       "      <th>커피7</th>\n",
       "      <th>커피8</th>\n",
       "      <th>커피9</th>\n",
       "      <th>커피10</th>\n",
       "      <th>홍차1</th>\n",
       "      <th>홍차2</th>\n",
       "      <th>홍차3</th>\n",
       "      <th>홍차4</th>\n",
       "      <th>홍차5</th>\n",
       "      <th>홍차6</th>\n",
       "      <th>홍차7</th>\n",
       "      <th>홍차8</th>\n",
       "      <th>홍차9</th>\n",
       "      <th>홍차10</th>\n",
       "    </tr>\n",
       "  </thead>\n",
       "  <tbody>\n",
       "    <tr>\n",
       "      <th>0</th>\n",
       "      <td>4.149209</td>\n",
       "      <td>NaN</td>\n",
       "      <td>NaN</td>\n",
       "      <td>4.078139</td>\n",
       "      <td>4.033415</td>\n",
       "      <td>4.071871</td>\n",
       "      <td>NaN</td>\n",
       "      <td>NaN</td>\n",
       "      <td>NaN</td>\n",
       "      <td>NaN</td>\n",
       "      <td>1.142659</td>\n",
       "      <td>1.109452</td>\n",
       "      <td>NaN</td>\n",
       "      <td>0.603118</td>\n",
       "      <td>1.084308</td>\n",
       "      <td>NaN</td>\n",
       "      <td>0.906524</td>\n",
       "      <td>NaN</td>\n",
       "      <td>NaN</td>\n",
       "      <td>0.903826</td>\n",
       "    </tr>\n",
       "    <tr>\n",
       "      <th>1</th>\n",
       "      <td>4.031811</td>\n",
       "      <td>NaN</td>\n",
       "      <td>NaN</td>\n",
       "      <td>3.822704</td>\n",
       "      <td>NaN</td>\n",
       "      <td>NaN</td>\n",
       "      <td>NaN</td>\n",
       "      <td>4.071410</td>\n",
       "      <td>3.996206</td>\n",
       "      <td>NaN</td>\n",
       "      <td>NaN</td>\n",
       "      <td>0.839565</td>\n",
       "      <td>1.011315</td>\n",
       "      <td>NaN</td>\n",
       "      <td>1.120552</td>\n",
       "      <td>0.911340</td>\n",
       "      <td>NaN</td>\n",
       "      <td>0.860954</td>\n",
       "      <td>0.871482</td>\n",
       "      <td>NaN</td>\n",
       "    </tr>\n",
       "    <tr>\n",
       "      <th>2</th>\n",
       "      <td>4.082178</td>\n",
       "      <td>4.196436</td>\n",
       "      <td>NaN</td>\n",
       "      <td>3.956876</td>\n",
       "      <td>NaN</td>\n",
       "      <td>NaN</td>\n",
       "      <td>NaN</td>\n",
       "      <td>4.450931</td>\n",
       "      <td>3.972090</td>\n",
       "      <td>NaN</td>\n",
       "      <td>NaN</td>\n",
       "      <td>NaN</td>\n",
       "      <td>NaN</td>\n",
       "      <td>0.983838</td>\n",
       "      <td>NaN</td>\n",
       "      <td>0.918576</td>\n",
       "      <td>1.206796</td>\n",
       "      <td>0.913116</td>\n",
       "      <td>NaN</td>\n",
       "      <td>0.956194</td>\n",
       "    </tr>\n",
       "    <tr>\n",
       "      <th>3</th>\n",
       "      <td>NaN</td>\n",
       "      <td>4.000621</td>\n",
       "      <td>3.895570</td>\n",
       "      <td>NaN</td>\n",
       "      <td>3.838781</td>\n",
       "      <td>3.967183</td>\n",
       "      <td>NaN</td>\n",
       "      <td>NaN</td>\n",
       "      <td>NaN</td>\n",
       "      <td>4.105741</td>\n",
       "      <td>1.147554</td>\n",
       "      <td>NaN</td>\n",
       "      <td>1.346860</td>\n",
       "      <td>NaN</td>\n",
       "      <td>0.614099</td>\n",
       "      <td>1.297301</td>\n",
       "      <td>NaN</td>\n",
       "      <td>NaN</td>\n",
       "      <td>NaN</td>\n",
       "      <td>1.147545</td>\n",
       "    </tr>\n",
       "    <tr>\n",
       "      <th>4</th>\n",
       "      <td>NaN</td>\n",
       "      <td>NaN</td>\n",
       "      <td>NaN</td>\n",
       "      <td>NaN</td>\n",
       "      <td>3.888208</td>\n",
       "      <td>NaN</td>\n",
       "      <td>3.970330</td>\n",
       "      <td>3.979490</td>\n",
       "      <td>NaN</td>\n",
       "      <td>4.010982</td>\n",
       "      <td>NaN</td>\n",
       "      <td>0.920995</td>\n",
       "      <td>1.081111</td>\n",
       "      <td>0.999345</td>\n",
       "      <td>NaN</td>\n",
       "      <td>1.195183</td>\n",
       "      <td>NaN</td>\n",
       "      <td>0.818332</td>\n",
       "      <td>1.236331</td>\n",
       "      <td>NaN</td>\n",
       "    </tr>\n",
       "    <tr>\n",
       "      <th>...</th>\n",
       "      <td>...</td>\n",
       "      <td>...</td>\n",
       "      <td>...</td>\n",
       "      <td>...</td>\n",
       "      <td>...</td>\n",
       "      <td>...</td>\n",
       "      <td>...</td>\n",
       "      <td>...</td>\n",
       "      <td>...</td>\n",
       "      <td>...</td>\n",
       "      <td>...</td>\n",
       "      <td>...</td>\n",
       "      <td>...</td>\n",
       "      <td>...</td>\n",
       "      <td>...</td>\n",
       "      <td>...</td>\n",
       "      <td>...</td>\n",
       "      <td>...</td>\n",
       "      <td>...</td>\n",
       "      <td>...</td>\n",
       "    </tr>\n",
       "    <tr>\n",
       "      <th>95</th>\n",
       "      <td>0.511905</td>\n",
       "      <td>1.066144</td>\n",
       "      <td>NaN</td>\n",
       "      <td>1.315430</td>\n",
       "      <td>NaN</td>\n",
       "      <td>1.285778</td>\n",
       "      <td>NaN</td>\n",
       "      <td>0.678400</td>\n",
       "      <td>1.023020</td>\n",
       "      <td>0.886803</td>\n",
       "      <td>NaN</td>\n",
       "      <td>4.055996</td>\n",
       "      <td>NaN</td>\n",
       "      <td>NaN</td>\n",
       "      <td>4.156489</td>\n",
       "      <td>4.127622</td>\n",
       "      <td>NaN</td>\n",
       "      <td>NaN</td>\n",
       "      <td>NaN</td>\n",
       "      <td>NaN</td>\n",
       "    </tr>\n",
       "    <tr>\n",
       "      <th>96</th>\n",
       "      <td>NaN</td>\n",
       "      <td>1.035022</td>\n",
       "      <td>NaN</td>\n",
       "      <td>1.085834</td>\n",
       "      <td>NaN</td>\n",
       "      <td>0.812558</td>\n",
       "      <td>NaN</td>\n",
       "      <td>1.074543</td>\n",
       "      <td>NaN</td>\n",
       "      <td>0.852806</td>\n",
       "      <td>3.894772</td>\n",
       "      <td>NaN</td>\n",
       "      <td>4.071385</td>\n",
       "      <td>3.935935</td>\n",
       "      <td>NaN</td>\n",
       "      <td>NaN</td>\n",
       "      <td>3.989815</td>\n",
       "      <td>NaN</td>\n",
       "      <td>NaN</td>\n",
       "      <td>4.267142</td>\n",
       "    </tr>\n",
       "    <tr>\n",
       "      <th>97</th>\n",
       "      <td>NaN</td>\n",
       "      <td>1.115511</td>\n",
       "      <td>NaN</td>\n",
       "      <td>1.101395</td>\n",
       "      <td>0.878614</td>\n",
       "      <td>NaN</td>\n",
       "      <td>NaN</td>\n",
       "      <td>NaN</td>\n",
       "      <td>1.329319</td>\n",
       "      <td>NaN</td>\n",
       "      <td>4.125190</td>\n",
       "      <td>NaN</td>\n",
       "      <td>4.354638</td>\n",
       "      <td>3.811209</td>\n",
       "      <td>4.144648</td>\n",
       "      <td>NaN</td>\n",
       "      <td>NaN</td>\n",
       "      <td>4.116915</td>\n",
       "      <td>3.887823</td>\n",
       "      <td>NaN</td>\n",
       "    </tr>\n",
       "    <tr>\n",
       "      <th>98</th>\n",
       "      <td>NaN</td>\n",
       "      <td>0.850794</td>\n",
       "      <td>NaN</td>\n",
       "      <td>NaN</td>\n",
       "      <td>0.927884</td>\n",
       "      <td>0.669895</td>\n",
       "      <td>NaN</td>\n",
       "      <td>NaN</td>\n",
       "      <td>0.665429</td>\n",
       "      <td>1.387329</td>\n",
       "      <td>NaN</td>\n",
       "      <td>NaN</td>\n",
       "      <td>4.329404</td>\n",
       "      <td>4.111706</td>\n",
       "      <td>3.960197</td>\n",
       "      <td>NaN</td>\n",
       "      <td>NaN</td>\n",
       "      <td>NaN</td>\n",
       "      <td>3.725288</td>\n",
       "      <td>4.122072</td>\n",
       "    </tr>\n",
       "    <tr>\n",
       "      <th>99</th>\n",
       "      <td>NaN</td>\n",
       "      <td>NaN</td>\n",
       "      <td>1.413968</td>\n",
       "      <td>0.838720</td>\n",
       "      <td>NaN</td>\n",
       "      <td>NaN</td>\n",
       "      <td>1.094826</td>\n",
       "      <td>0.987888</td>\n",
       "      <td>NaN</td>\n",
       "      <td>1.177387</td>\n",
       "      <td>3.957383</td>\n",
       "      <td>4.136731</td>\n",
       "      <td>NaN</td>\n",
       "      <td>4.026915</td>\n",
       "      <td>NaN</td>\n",
       "      <td>NaN</td>\n",
       "      <td>4.164773</td>\n",
       "      <td>4.104276</td>\n",
       "      <td>NaN</td>\n",
       "      <td>NaN</td>\n",
       "    </tr>\n",
       "  </tbody>\n",
       "</table>\n",
       "<p>100 rows × 20 columns</p>\n",
       "</div>"
      ],
      "text/plain": [
       "         커피1       커피2       커피3       커피4       커피5       커피6       커피7  \\\n",
       "0   4.149209       NaN       NaN  4.078139  4.033415  4.071871       NaN   \n",
       "1   4.031811       NaN       NaN  3.822704       NaN       NaN       NaN   \n",
       "2   4.082178  4.196436       NaN  3.956876       NaN       NaN       NaN   \n",
       "3        NaN  4.000621  3.895570       NaN  3.838781  3.967183       NaN   \n",
       "4        NaN       NaN       NaN       NaN  3.888208       NaN  3.970330   \n",
       "..       ...       ...       ...       ...       ...       ...       ...   \n",
       "95  0.511905  1.066144       NaN  1.315430       NaN  1.285778       NaN   \n",
       "96       NaN  1.035022       NaN  1.085834       NaN  0.812558       NaN   \n",
       "97       NaN  1.115511       NaN  1.101395  0.878614       NaN       NaN   \n",
       "98       NaN  0.850794       NaN       NaN  0.927884  0.669895       NaN   \n",
       "99       NaN       NaN  1.413968  0.838720       NaN       NaN  1.094826   \n",
       "\n",
       "         커피8       커피9      커피10       홍차1       홍차2       홍차3       홍차4  \\\n",
       "0        NaN       NaN       NaN  1.142659  1.109452       NaN  0.603118   \n",
       "1   4.071410  3.996206       NaN       NaN  0.839565  1.011315       NaN   \n",
       "2   4.450931  3.972090       NaN       NaN       NaN       NaN  0.983838   \n",
       "3        NaN       NaN  4.105741  1.147554       NaN  1.346860       NaN   \n",
       "4   3.979490       NaN  4.010982       NaN  0.920995  1.081111  0.999345   \n",
       "..       ...       ...       ...       ...       ...       ...       ...   \n",
       "95  0.678400  1.023020  0.886803       NaN  4.055996       NaN       NaN   \n",
       "96  1.074543       NaN  0.852806  3.894772       NaN  4.071385  3.935935   \n",
       "97       NaN  1.329319       NaN  4.125190       NaN  4.354638  3.811209   \n",
       "98       NaN  0.665429  1.387329       NaN       NaN  4.329404  4.111706   \n",
       "99  0.987888       NaN  1.177387  3.957383  4.136731       NaN  4.026915   \n",
       "\n",
       "         홍차5       홍차6       홍차7       홍차8       홍차9      홍차10  \n",
       "0   1.084308       NaN  0.906524       NaN       NaN  0.903826  \n",
       "1   1.120552  0.911340       NaN  0.860954  0.871482       NaN  \n",
       "2        NaN  0.918576  1.206796  0.913116       NaN  0.956194  \n",
       "3   0.614099  1.297301       NaN       NaN       NaN  1.147545  \n",
       "4        NaN  1.195183       NaN  0.818332  1.236331       NaN  \n",
       "..       ...       ...       ...       ...       ...       ...  \n",
       "95  4.156489  4.127622       NaN       NaN       NaN       NaN  \n",
       "96       NaN       NaN  3.989815       NaN       NaN  4.267142  \n",
       "97  4.144648       NaN       NaN  4.116915  3.887823       NaN  \n",
       "98  3.960197       NaN       NaN       NaN  3.725288  4.122072  \n",
       "99       NaN       NaN  4.164773  4.104276       NaN       NaN  \n",
       "\n",
       "[100 rows x 20 columns]"
      ]
     },
     "execution_count": 3,
     "metadata": {},
     "output_type": "execute_result"
    }
   ],
   "source": [
    "df_view = pd.read_csv('https://raw.githubusercontent.com/guebin/DL2022/master/_notebooks/2022-09-08-rcmd_view.csv')\n",
    "df_view"
   ]
  },
  {
   "cell_type": "markdown",
   "id": "035b9878-0c1b-4706-a111-812ade353954",
   "metadata": {},
   "source": [
    "- 유저0~49 는 커피를 선호\n",
    "- 유저50~99 는 홍차를 선호"
   ]
  },
  {
   "cell_type": "code",
   "execution_count": 4,
   "id": "f9389b93-0019-4835-8742-273376c76852",
   "metadata": {},
   "outputs": [
    {
     "data": {
      "text/html": [
       "<div>\n",
       "<style scoped>\n",
       "    .dataframe tbody tr th:only-of-type {\n",
       "        vertical-align: middle;\n",
       "    }\n",
       "\n",
       "    .dataframe tbody tr th {\n",
       "        vertical-align: top;\n",
       "    }\n",
       "\n",
       "    .dataframe thead th {\n",
       "        text-align: right;\n",
       "    }\n",
       "</style>\n",
       "<table border=\"1\" class=\"dataframe\">\n",
       "  <thead>\n",
       "    <tr style=\"text-align: right;\">\n",
       "      <th></th>\n",
       "      <th>user</th>\n",
       "      <th>item</th>\n",
       "      <th>rating</th>\n",
       "      <th>item_name</th>\n",
       "    </tr>\n",
       "  </thead>\n",
       "  <tbody>\n",
       "    <tr>\n",
       "      <th>0</th>\n",
       "      <td>1</td>\n",
       "      <td>15</td>\n",
       "      <td>1.084308</td>\n",
       "      <td>홍차5</td>\n",
       "    </tr>\n",
       "    <tr>\n",
       "      <th>1</th>\n",
       "      <td>1</td>\n",
       "      <td>1</td>\n",
       "      <td>4.149209</td>\n",
       "      <td>커피1</td>\n",
       "    </tr>\n",
       "    <tr>\n",
       "      <th>2</th>\n",
       "      <td>1</td>\n",
       "      <td>11</td>\n",
       "      <td>1.142659</td>\n",
       "      <td>홍차1</td>\n",
       "    </tr>\n",
       "    <tr>\n",
       "      <th>3</th>\n",
       "      <td>1</td>\n",
       "      <td>5</td>\n",
       "      <td>4.033415</td>\n",
       "      <td>커피5</td>\n",
       "    </tr>\n",
       "    <tr>\n",
       "      <th>4</th>\n",
       "      <td>1</td>\n",
       "      <td>4</td>\n",
       "      <td>4.078139</td>\n",
       "      <td>커피4</td>\n",
       "    </tr>\n",
       "    <tr>\n",
       "      <th>...</th>\n",
       "      <td>...</td>\n",
       "      <td>...</td>\n",
       "      <td>...</td>\n",
       "      <td>...</td>\n",
       "    </tr>\n",
       "    <tr>\n",
       "      <th>995</th>\n",
       "      <td>100</td>\n",
       "      <td>18</td>\n",
       "      <td>4.104276</td>\n",
       "      <td>홍차8</td>\n",
       "    </tr>\n",
       "    <tr>\n",
       "      <th>996</th>\n",
       "      <td>100</td>\n",
       "      <td>17</td>\n",
       "      <td>4.164773</td>\n",
       "      <td>홍차7</td>\n",
       "    </tr>\n",
       "    <tr>\n",
       "      <th>997</th>\n",
       "      <td>100</td>\n",
       "      <td>14</td>\n",
       "      <td>4.026915</td>\n",
       "      <td>홍차4</td>\n",
       "    </tr>\n",
       "    <tr>\n",
       "      <th>998</th>\n",
       "      <td>100</td>\n",
       "      <td>4</td>\n",
       "      <td>0.838720</td>\n",
       "      <td>커피4</td>\n",
       "    </tr>\n",
       "    <tr>\n",
       "      <th>999</th>\n",
       "      <td>100</td>\n",
       "      <td>7</td>\n",
       "      <td>1.094826</td>\n",
       "      <td>커피7</td>\n",
       "    </tr>\n",
       "  </tbody>\n",
       "</table>\n",
       "<p>1000 rows × 4 columns</p>\n",
       "</div>"
      ],
      "text/plain": [
       "     user  item    rating item_name\n",
       "0       1    15  1.084308       홍차5\n",
       "1       1     1  4.149209       커피1\n",
       "2       1    11  1.142659       홍차1\n",
       "3       1     5  4.033415       커피5\n",
       "4       1     4  4.078139       커피4\n",
       "..    ...   ...       ...       ...\n",
       "995   100    18  4.104276       홍차8\n",
       "996   100    17  4.164773       홍차7\n",
       "997   100    14  4.026915       홍차4\n",
       "998   100     4  0.838720       커피4\n",
       "999   100     7  1.094826       커피7\n",
       "\n",
       "[1000 rows x 4 columns]"
      ]
     },
     "execution_count": 4,
     "metadata": {},
     "output_type": "execute_result"
    }
   ],
   "source": [
    "df = pd.read_csv('https://raw.githubusercontent.com/guebin/DL2022/master/_notebooks/2022-09-08-rcmd_anal.csv')\n",
    "df"
   ]
  },
  {
   "cell_type": "markdown",
   "id": "a4225146-04bb-4896-a118-76770627cc1b",
   "metadata": {},
   "source": [
    "- 컴퓨터는 이러한 형태를 더 분석하기 좋아한다. "
   ]
  },
  {
   "cell_type": "code",
   "execution_count": 5,
   "id": "52c8f041-ee9b-4682-8fa9-a223ef7e6b36",
   "metadata": {},
   "outputs": [],
   "source": [
    "dls=CollabDataLoaders.from_df(df)"
   ]
  },
  {
   "cell_type": "code",
   "execution_count": 6,
   "id": "b1b2120b-69a5-41aa-abb1-7728cdf874f6",
   "metadata": {},
   "outputs": [
    {
     "data": {
      "text/html": [
       "<table border=\"1\" class=\"dataframe\">\n",
       "  <thead>\n",
       "    <tr style=\"text-align: right;\">\n",
       "      <th></th>\n",
       "      <th>user</th>\n",
       "      <th>item</th>\n",
       "      <th>rating</th>\n",
       "    </tr>\n",
       "  </thead>\n",
       "  <tbody>\n",
       "    <tr>\n",
       "      <th>0</th>\n",
       "      <td>45</td>\n",
       "      <td>13</td>\n",
       "      <td>1.090013</td>\n",
       "    </tr>\n",
       "    <tr>\n",
       "      <th>1</th>\n",
       "      <td>43</td>\n",
       "      <td>7</td>\n",
       "      <td>3.697701</td>\n",
       "    </tr>\n",
       "    <tr>\n",
       "      <th>2</th>\n",
       "      <td>92</td>\n",
       "      <td>7</td>\n",
       "      <td>1.026150</td>\n",
       "    </tr>\n",
       "    <tr>\n",
       "      <th>3</th>\n",
       "      <td>51</td>\n",
       "      <td>9</td>\n",
       "      <td>1.207339</td>\n",
       "    </tr>\n",
       "    <tr>\n",
       "      <th>4</th>\n",
       "      <td>61</td>\n",
       "      <td>11</td>\n",
       "      <td>3.909074</td>\n",
       "    </tr>\n",
       "    <tr>\n",
       "      <th>5</th>\n",
       "      <td>7</td>\n",
       "      <td>4</td>\n",
       "      <td>3.727867</td>\n",
       "    </tr>\n",
       "    <tr>\n",
       "      <th>6</th>\n",
       "      <td>96</td>\n",
       "      <td>16</td>\n",
       "      <td>4.127622</td>\n",
       "    </tr>\n",
       "    <tr>\n",
       "      <th>7</th>\n",
       "      <td>83</td>\n",
       "      <td>18</td>\n",
       "      <td>3.753528</td>\n",
       "    </tr>\n",
       "    <tr>\n",
       "      <th>8</th>\n",
       "      <td>6</td>\n",
       "      <td>5</td>\n",
       "      <td>4.137838</td>\n",
       "    </tr>\n",
       "    <tr>\n",
       "      <th>9</th>\n",
       "      <td>66</td>\n",
       "      <td>3</td>\n",
       "      <td>1.094215</td>\n",
       "    </tr>\n",
       "  </tbody>\n",
       "</table>"
      ],
      "text/plain": [
       "<IPython.core.display.HTML object>"
      ]
     },
     "metadata": {},
     "output_type": "display_data"
    }
   ],
   "source": [
    "dls.show_batch()"
   ]
  },
  {
   "cell_type": "code",
   "execution_count": 7,
   "id": "edc99da5-5558-4778-a896-2e6f8d8b08b3",
   "metadata": {},
   "outputs": [],
   "source": [
    "X,y= dls.one_batch()"
   ]
  },
  {
   "cell_type": "code",
   "execution_count": 8,
   "id": "e9bbef16-e11c-4c20-9918-f13afe29bce0",
   "metadata": {},
   "outputs": [
    {
     "data": {
      "text/plain": [
       "(tensor([18,  5]), tensor([3.9387]))"
      ]
     },
     "execution_count": 8,
     "metadata": {},
     "output_type": "execute_result"
    }
   ],
   "source": [
    "X[0],y[0]"
   ]
  },
  {
   "cell_type": "markdown",
   "id": "4ea7566e-1564-4571-8049-48f87860fd3a",
   "metadata": {},
   "source": [
    "- 22번 유저가 5번 아이템을 먹었을때 평점을 3.5764 주었음 "
   ]
  },
  {
   "cell_type": "markdown",
   "id": "a75bee59-37f5-4df5-b26d-9eee9c606ddd",
   "metadata": {},
   "source": [
    "### 2단계 "
   ]
  },
  {
   "cell_type": "code",
   "execution_count": 9,
   "id": "d473fc17-e9db-457d-8269-415d9ed401e8",
   "metadata": {},
   "outputs": [],
   "source": [
    "lrnr = collab_learner(dls,y_range=(0,5))"
   ]
  },
  {
   "cell_type": "markdown",
   "id": "a184eca9-a5c9-4953-b38b-daac076a4080",
   "metadata": {},
   "source": [
    "### 3단계"
   ]
  },
  {
   "cell_type": "code",
   "execution_count": 16,
   "id": "7faba835-bd38-4aef-a1fc-96c1bc5ddb66",
   "metadata": {},
   "outputs": [
    {
     "data": {
      "text/html": [
       "\n",
       "<style>\n",
       "    /* Turns off some styling */\n",
       "    progress {\n",
       "        /* gets rid of default border in Firefox and Opera. */\n",
       "        border: none;\n",
       "        /* Needs to be in here for Safari polyfill so background images work as expected. */\n",
       "        background-size: auto;\n",
       "    }\n",
       "    progress:not([value]), progress:not([value])::-webkit-progress-bar {\n",
       "        background: repeating-linear-gradient(45deg, #7e7e7e, #7e7e7e 10px, #5c5c5c 10px, #5c5c5c 20px);\n",
       "    }\n",
       "    .progress-bar-interrupted, .progress-bar-interrupted::-webkit-progress-bar {\n",
       "        background: #F44336;\n",
       "    }\n",
       "</style>\n"
      ],
      "text/plain": [
       "<IPython.core.display.HTML object>"
      ]
     },
     "metadata": {},
     "output_type": "display_data"
    },
    {
     "data": {
      "text/html": [
       "<table border=\"1\" class=\"dataframe\">\n",
       "  <thead>\n",
       "    <tr style=\"text-align: left;\">\n",
       "      <th>epoch</th>\n",
       "      <th>train_loss</th>\n",
       "      <th>valid_loss</th>\n",
       "      <th>time</th>\n",
       "    </tr>\n",
       "  </thead>\n",
       "  <tbody>\n",
       "    <tr>\n",
       "      <td>0</td>\n",
       "      <td>0.042266</td>\n",
       "      <td>0.056179</td>\n",
       "      <td>00:00</td>\n",
       "    </tr>\n",
       "    <tr>\n",
       "      <td>1</td>\n",
       "      <td>0.040260</td>\n",
       "      <td>0.053076</td>\n",
       "      <td>00:00</td>\n",
       "    </tr>\n",
       "    <tr>\n",
       "      <td>2</td>\n",
       "      <td>0.038995</td>\n",
       "      <td>0.051298</td>\n",
       "      <td>00:00</td>\n",
       "    </tr>\n",
       "    <tr>\n",
       "      <td>3</td>\n",
       "      <td>0.038103</td>\n",
       "      <td>0.050488</td>\n",
       "      <td>00:00</td>\n",
       "    </tr>\n",
       "    <tr>\n",
       "      <td>4</td>\n",
       "      <td>0.037159</td>\n",
       "      <td>0.050234</td>\n",
       "      <td>00:00</td>\n",
       "    </tr>\n",
       "    <tr>\n",
       "      <td>5</td>\n",
       "      <td>0.036500</td>\n",
       "      <td>0.050185</td>\n",
       "      <td>00:00</td>\n",
       "    </tr>\n",
       "    <tr>\n",
       "      <td>6</td>\n",
       "      <td>0.035905</td>\n",
       "      <td>0.050307</td>\n",
       "      <td>00:00</td>\n",
       "    </tr>\n",
       "    <tr>\n",
       "      <td>7</td>\n",
       "      <td>0.035599</td>\n",
       "      <td>0.050498</td>\n",
       "      <td>00:00</td>\n",
       "    </tr>\n",
       "    <tr>\n",
       "      <td>8</td>\n",
       "      <td>0.035184</td>\n",
       "      <td>0.050831</td>\n",
       "      <td>00:00</td>\n",
       "    </tr>\n",
       "    <tr>\n",
       "      <td>9</td>\n",
       "      <td>0.034860</td>\n",
       "      <td>0.051223</td>\n",
       "      <td>00:00</td>\n",
       "    </tr>\n",
       "  </tbody>\n",
       "</table>"
      ],
      "text/plain": [
       "<IPython.core.display.HTML object>"
      ]
     },
     "metadata": {},
     "output_type": "display_data"
    }
   ],
   "source": [
    "lrnr.fit(10)"
   ]
  },
  {
   "cell_type": "markdown",
   "id": "5240fb78-6150-4b5c-af99-c1c70812b783",
   "metadata": {},
   "source": [
    "### 4단계"
   ]
  },
  {
   "cell_type": "markdown",
   "id": "7c9408a7-5e76-4e27-a16c-98e082a34b37",
   "metadata": {},
   "source": [
    "`-` 하나의 배치 전체를 예측 "
   ]
  },
  {
   "cell_type": "code",
   "execution_count": 18,
   "id": "a434267d-c604-471d-91ae-755512cc51d3",
   "metadata": {},
   "outputs": [
    {
     "data": {
      "text/plain": [
       "tensor([4.1128, 4.0649, 1.0009, 1.0464, 0.9285, 1.0452, 4.0700, 4.0262, 3.9048,\n",
       "        3.9327, 0.9181, 3.9392, 1.0425, 0.9255, 0.9771, 0.8934, 0.9468, 4.0094,\n",
       "        0.9592, 1.0582, 0.9632, 4.0270, 0.9161, 1.0673, 3.9955, 4.0178, 4.1282,\n",
       "        0.8836, 4.0048, 0.9546, 4.0342, 4.0767, 4.0067, 0.9418, 0.9573, 0.9243,\n",
       "        3.9987, 3.9791, 4.0475, 4.0786, 3.9963, 1.0409, 3.9198, 0.9834, 1.0154,\n",
       "        3.9564, 3.9717, 1.0720, 1.0289, 4.1118, 0.9628, 4.0630, 1.0144, 0.9580,\n",
       "        1.1226, 0.9043, 4.0458, 0.9275, 4.1816, 3.9353, 1.0786, 4.0316, 3.9245,\n",
       "        0.8973], device='cuda:0', grad_fn=<AddBackward0>)"
      ]
     },
     "execution_count": 18,
     "metadata": {},
     "output_type": "execute_result"
    }
   ],
   "source": [
    "yhat=lrnr.model(X.to(\"cuda:0\"))\n",
    "yhat"
   ]
  },
  {
   "cell_type": "markdown",
   "id": "38c21c94-882b-4dc3-ac97-3ab9ecc78fd5",
   "metadata": {},
   "source": [
    "`-` 하나의 유저가 하나의 아이템을 선택했다고 가정하고 예측 (주어진 자료중에서 예측)"
   ]
  },
  {
   "cell_type": "code",
   "execution_count": 23,
   "id": "8200c7ac-e3fa-44e2-b532-b74e3550c5e4",
   "metadata": {},
   "outputs": [
    {
     "data": {
      "text/plain": [
       "torch.Size([64, 2])"
      ]
     },
     "execution_count": 23,
     "metadata": {},
     "output_type": "execute_result"
    }
   ],
   "source": [
    "X.shape"
   ]
  },
  {
   "cell_type": "code",
   "execution_count": 27,
   "id": "b68a5fd7-bbf3-4cd5-bfd6-435b29e9f686",
   "metadata": {},
   "outputs": [
    {
     "data": {
      "text/plain": [
       "tensor([[18,  5]])"
      ]
     },
     "execution_count": 27,
     "metadata": {},
     "output_type": "execute_result"
    }
   ],
   "source": [
    "X[0:1]"
   ]
  },
  {
   "cell_type": "markdown",
   "id": "faf4ee0a-461e-48e3-844c-3de217e8a075",
   "metadata": {},
   "source": [
    "- 18번 유저가 5번 아이템(커피)를 먹는다면? "
   ]
  },
  {
   "cell_type": "code",
   "execution_count": 26,
   "id": "d207ce5e-a27e-4941-adad-6d0b1bf7697d",
   "metadata": {},
   "outputs": [
    {
     "data": {
      "text/plain": [
       "tensor([4.1128], device='cuda:0', grad_fn=<AddBackward0>)"
      ]
     },
     "execution_count": 26,
     "metadata": {},
     "output_type": "execute_result"
    }
   ],
   "source": [
    "lrnr.model(X[0:1].to(\"cuda:0\"))"
   ]
  },
  {
   "cell_type": "markdown",
   "id": "f8932810-7df0-4a08-aa62-449ce53fa010",
   "metadata": {},
   "source": [
    "- 평점은 4.1128정도 될것"
   ]
  },
  {
   "cell_type": "markdown",
   "id": "5291c0f6-94d1-4c18-aa3d-f897ef4dfa39",
   "metadata": {},
   "source": [
    "`-` 하나의 유저가 하나의 아이템을 선택했다고 가정하고 예측 (주어지지 않은 자료중에서 예측)"
   ]
  },
  {
   "cell_type": "code",
   "execution_count": 29,
   "id": "27082f53-5cf0-4e2a-8f5b-6cae23d0a7c2",
   "metadata": {},
   "outputs": [
    {
     "data": {
      "text/plain": [
       "tensor([[18,  5]])"
      ]
     },
     "execution_count": 29,
     "metadata": {},
     "output_type": "execute_result"
    }
   ],
   "source": [
    "X[0:1]"
   ]
  },
  {
   "cell_type": "code",
   "execution_count": 36,
   "id": "574728c0-f9d6-4f8b-a70c-93cbe6ac165b",
   "metadata": {},
   "outputs": [],
   "source": [
    "Xnew = torch.tensor([[1,  2]])"
   ]
  },
  {
   "cell_type": "code",
   "execution_count": 37,
   "id": "2280e180-6ee6-4832-9ae9-7bc1118bbb35",
   "metadata": {},
   "outputs": [
    {
     "data": {
      "text/plain": [
       "tensor([3.9397], device='cuda:0', grad_fn=<AddBackward0>)"
      ]
     },
     "execution_count": 37,
     "metadata": {},
     "output_type": "execute_result"
    }
   ],
   "source": [
    "lrnr.model(Xnew.to(\"cuda:0\"))"
   ]
  },
  {
   "cell_type": "markdown",
   "id": "26df02d9-e3cf-448a-8917-fa29f82b179d",
   "metadata": {},
   "source": [
    "## 텍스트분석"
   ]
  },
  {
   "cell_type": "markdown",
   "id": "60a1fd45-294d-426e-952b-3c1b229661e6",
   "metadata": {},
   "source": [
    "### 1단계"
   ]
  },
  {
   "cell_type": "code",
   "execution_count": 39,
   "id": "b74d15ff-8321-4943-9911-9842c0cbe831",
   "metadata": {},
   "outputs": [
    {
     "data": {
      "text/html": [
       "<div>\n",
       "<style scoped>\n",
       "    .dataframe tbody tr th:only-of-type {\n",
       "        vertical-align: middle;\n",
       "    }\n",
       "\n",
       "    .dataframe tbody tr th {\n",
       "        vertical-align: top;\n",
       "    }\n",
       "\n",
       "    .dataframe thead th {\n",
       "        text-align: right;\n",
       "    }\n",
       "</style>\n",
       "<table border=\"1\" class=\"dataframe\">\n",
       "  <thead>\n",
       "    <tr style=\"text-align: right;\">\n",
       "      <th></th>\n",
       "      <th>text</th>\n",
       "    </tr>\n",
       "  </thead>\n",
       "  <tbody>\n",
       "    <tr>\n",
       "      <th>0</th>\n",
       "      <td>h e l l o . h e l l o ! h e l l o ? h e l l o !! h e l l o ??</td>\n",
       "    </tr>\n",
       "    <tr>\n",
       "      <th>1</th>\n",
       "      <td>h e l l o . h e l l o ! h e l l o ? h e l l o !! h e l l o ??</td>\n",
       "    </tr>\n",
       "    <tr>\n",
       "      <th>2</th>\n",
       "      <td>h e l l o . h e l l o ! h e l l o ? h e l l o !! h e l l o ??</td>\n",
       "    </tr>\n",
       "    <tr>\n",
       "      <th>3</th>\n",
       "      <td>h e l l o . h e l l o ! h e l l o ? h e l l o !! h e l l o ??</td>\n",
       "    </tr>\n",
       "    <tr>\n",
       "      <th>4</th>\n",
       "      <td>h e l l o . h e l l o ! h e l l o ? h e l l o !! h e l l o ??</td>\n",
       "    </tr>\n",
       "    <tr>\n",
       "      <th>...</th>\n",
       "      <td>...</td>\n",
       "    </tr>\n",
       "    <tr>\n",
       "      <th>19995</th>\n",
       "      <td>h e l l o . h e l l o ! h e l l o ? h e l l o !! h e l l o ??</td>\n",
       "    </tr>\n",
       "    <tr>\n",
       "      <th>19996</th>\n",
       "      <td>h e l l o . h e l l o ! h e l l o ? h e l l o !! h e l l o ??</td>\n",
       "    </tr>\n",
       "    <tr>\n",
       "      <th>19997</th>\n",
       "      <td>h e l l o . h e l l o ! h e l l o ? h e l l o !! h e l l o ??</td>\n",
       "    </tr>\n",
       "    <tr>\n",
       "      <th>19998</th>\n",
       "      <td>h e l l o . h e l l o ! h e l l o ? h e l l o !! h e l l o ??</td>\n",
       "    </tr>\n",
       "    <tr>\n",
       "      <th>19999</th>\n",
       "      <td>h e l l o . h e l l o ! h e l l o ? h e l l o !! h e l l o ??</td>\n",
       "    </tr>\n",
       "  </tbody>\n",
       "</table>\n",
       "<p>20000 rows × 1 columns</p>\n",
       "</div>"
      ],
      "text/plain": [
       "                                                                text\n",
       "0      h e l l o . h e l l o ! h e l l o ? h e l l o !! h e l l o ??\n",
       "1      h e l l o . h e l l o ! h e l l o ? h e l l o !! h e l l o ??\n",
       "2      h e l l o . h e l l o ! h e l l o ? h e l l o !! h e l l o ??\n",
       "3      h e l l o . h e l l o ! h e l l o ? h e l l o !! h e l l o ??\n",
       "4      h e l l o . h e l l o ! h e l l o ? h e l l o !! h e l l o ??\n",
       "...                                                              ...\n",
       "19995  h e l l o . h e l l o ! h e l l o ? h e l l o !! h e l l o ??\n",
       "19996  h e l l o . h e l l o ! h e l l o ? h e l l o !! h e l l o ??\n",
       "19997  h e l l o . h e l l o ! h e l l o ? h e l l o !! h e l l o ??\n",
       "19998  h e l l o . h e l l o ! h e l l o ? h e l l o !! h e l l o ??\n",
       "19999  h e l l o . h e l l o ! h e l l o ? h e l l o !! h e l l o ??\n",
       "\n",
       "[20000 rows x 1 columns]"
      ]
     },
     "execution_count": 39,
     "metadata": {},
     "output_type": "execute_result"
    }
   ],
   "source": [
    "df = pd.DataFrame({'text':['h e l l o . h e l l o ! h e l l o ? h e l l o !! h e l l o ??']*20000})\n",
    "df"
   ]
  },
  {
   "cell_type": "code",
   "execution_count": 44,
   "id": "eed6db48-dd57-4b73-88d5-ef8d7d0119d3",
   "metadata": {},
   "outputs": [
    {
     "data": {
      "text/html": [
       "\n",
       "<style>\n",
       "    /* Turns off some styling */\n",
       "    progress {\n",
       "        /* gets rid of default border in Firefox and Opera. */\n",
       "        border: none;\n",
       "        /* Needs to be in here for Safari polyfill so background images work as expected. */\n",
       "        background-size: auto;\n",
       "    }\n",
       "    progress:not([value]), progress:not([value])::-webkit-progress-bar {\n",
       "        background: repeating-linear-gradient(45deg, #7e7e7e, #7e7e7e 10px, #5c5c5c 10px, #5c5c5c 20px);\n",
       "    }\n",
       "    .progress-bar-interrupted, .progress-bar-interrupted::-webkit-progress-bar {\n",
       "        background: #F44336;\n",
       "    }\n",
       "</style>\n"
      ],
      "text/plain": [
       "<IPython.core.display.HTML object>"
      ]
     },
     "metadata": {},
     "output_type": "display_data"
    },
    {
     "data": {
      "text/html": [],
      "text/plain": [
       "<IPython.core.display.HTML object>"
      ]
     },
     "metadata": {},
     "output_type": "display_data"
    }
   ],
   "source": [
    "dls = TextDataLoaders.from_df(df,text_col='text',is_lm=True) "
   ]
  },
  {
   "cell_type": "code",
   "execution_count": 45,
   "id": "3b0fa2b8-b3a9-4235-80ab-dcf99e1ce799",
   "metadata": {},
   "outputs": [
    {
     "data": {
      "text/html": [
       "<table border=\"1\" class=\"dataframe\">\n",
       "  <thead>\n",
       "    <tr style=\"text-align: right;\">\n",
       "      <th></th>\n",
       "      <th>text</th>\n",
       "      <th>text_</th>\n",
       "    </tr>\n",
       "  </thead>\n",
       "  <tbody>\n",
       "    <tr>\n",
       "      <th>0</th>\n",
       "      <td>xxbos h e l l o . h e l l o ! h e l l o ? h e l l o ! ! h e l l o ? ? xxbos h e l l o . h e l l o ! h e l l o ? h e l l o ! ! h e l l o ? ? xxbos h e l l o</td>\n",
       "      <td>h e l l o . h e l l o ! h e l l o ? h e l l o ! ! h e l l o ? ? xxbos h e l l o . h e l l o ! h e l l o ? h e l l o ! ! h e l l o ? ? xxbos h e l l o .</td>\n",
       "    </tr>\n",
       "    <tr>\n",
       "      <th>1</th>\n",
       "      <td>? xxbos h e l l o . h e l l o ! h e l l o ? h e l l o ! ! h e l l o ? ? xxbos h e l l o . h e l l o ! h e l l o ? h e l l o ! ! h e l l o ? ? xxbos h e l l</td>\n",
       "      <td>xxbos h e l l o . h e l l o ! h e l l o ? h e l l o ! ! h e l l o ? ? xxbos h e l l o . h e l l o ! h e l l o ? h e l l o ! ! h e l l o ? ? xxbos h e l l o</td>\n",
       "    </tr>\n",
       "    <tr>\n",
       "      <th>2</th>\n",
       "      <td>? ? xxbos h e l l o . h e l l o ! h e l l o ? h e l l o ! ! h e l l o ? ? xxbos h e l l o . h e l l o ! h e l l o ? h e l l o ! ! h e l l o ? ? xxbos h e l</td>\n",
       "      <td>? xxbos h e l l o . h e l l o ! h e l l o ? h e l l o ! ! h e l l o ? ? xxbos h e l l o . h e l l o ! h e l l o ? h e l l o ! ! h e l l o ? ? xxbos h e l l</td>\n",
       "    </tr>\n",
       "    <tr>\n",
       "      <th>3</th>\n",
       "      <td>o ? ? xxbos h e l l o . h e l l o ! h e l l o ? h e l l o ! ! h e l l o ? ? xxbos h e l l o . h e l l o ! h e l l o ? h e l l o ! ! h e l l o ? ? xxbos h e</td>\n",
       "      <td>? ? xxbos h e l l o . h e l l o ! h e l l o ? h e l l o ! ! h e l l o ? ? xxbos h e l l o . h e l l o ! h e l l o ? h e l l o ! ! h e l l o ? ? xxbos h e l</td>\n",
       "    </tr>\n",
       "    <tr>\n",
       "      <th>4</th>\n",
       "      <td>l o ? ? xxbos h e l l o . h e l l o ! h e l l o ? h e l l o ! ! h e l l o ? ? xxbos h e l l o . h e l l o ! h e l l o ? h e l l o ! ! h e l l o ? ? xxbos h</td>\n",
       "      <td>o ? ? xxbos h e l l o . h e l l o ! h e l l o ? h e l l o ! ! h e l l o ? ? xxbos h e l l o . h e l l o ! h e l l o ? h e l l o ! ! h e l l o ? ? xxbos h e</td>\n",
       "    </tr>\n",
       "    <tr>\n",
       "      <th>5</th>\n",
       "      <td>l l o ? ? xxbos h e l l o . h e l l o ! h e l l o ? h e l l o ! ! h e l l o ? ? xxbos h e l l o . h e l l o ! h e l l o ? h e l l o ! ! h e l l o ? ? xxbos</td>\n",
       "      <td>l o ? ? xxbos h e l l o . h e l l o ! h e l l o ? h e l l o ! ! h e l l o ? ? xxbos h e l l o . h e l l o ! h e l l o ? h e l l o ! ! h e l l o ? ? xxbos h</td>\n",
       "    </tr>\n",
       "    <tr>\n",
       "      <th>6</th>\n",
       "      <td>e l l o ? ? xxbos h e l l o . h e l l o ! h e l l o ? h e l l o ! ! h e l l o ? ? xxbos h e l l o . h e l l o ! h e l l o ? h e l l o ! ! h e l l o ? ?</td>\n",
       "      <td>l l o ? ? xxbos h e l l o . h e l l o ! h e l l o ? h e l l o ! ! h e l l o ? ? xxbos h e l l o . h e l l o ! h e l l o ? h e l l o ! ! h e l l o ? ? xxbos</td>\n",
       "    </tr>\n",
       "    <tr>\n",
       "      <th>7</th>\n",
       "      <td>h e l l o ? ? xxbos h e l l o . h e l l o ! h e l l o ? h e l l o ! ! h e l l o ? ? xxbos h e l l o . h e l l o ! h e l l o ? h e l l o ! ! h e l l o ?</td>\n",
       "      <td>e l l o ? ? xxbos h e l l o . h e l l o ! h e l l o ? h e l l o ! ! h e l l o ? ? xxbos h e l l o . h e l l o ! h e l l o ? h e l l o ! ! h e l l o ? ?</td>\n",
       "    </tr>\n",
       "    <tr>\n",
       "      <th>8</th>\n",
       "      <td>! h e l l o ? ? xxbos h e l l o . h e l l o ! h e l l o ? h e l l o ! ! h e l l o ? ? xxbos h e l l o . h e l l o ! h e l l o ? h e l l o ! ! h e l l o</td>\n",
       "      <td>h e l l o ? ? xxbos h e l l o . h e l l o ! h e l l o ? h e l l o ! ! h e l l o ? ? xxbos h e l l o . h e l l o ! h e l l o ? h e l l o ! ! h e l l o ?</td>\n",
       "    </tr>\n",
       "  </tbody>\n",
       "</table>"
      ],
      "text/plain": [
       "<IPython.core.display.HTML object>"
      ]
     },
     "metadata": {},
     "output_type": "display_data"
    }
   ],
   "source": [
    "dls.show_batch()"
   ]
  },
  {
   "cell_type": "markdown",
   "id": "19d23578-0ba3-4a09-bddc-013746e9cb05",
   "metadata": {},
   "source": [
    "- is_lm: text의 생성에 관심이 있다면 True로 설정할 것 "
   ]
  },
  {
   "cell_type": "markdown",
   "id": "acfce5fd-3ce8-4146-8405-40120223f0e4",
   "metadata": {},
   "source": [
    "### 2단계"
   ]
  },
  {
   "cell_type": "code",
   "execution_count": 58,
   "id": "c64b8338-6df8-43a9-9830-a1e31c7aeee1",
   "metadata": {},
   "outputs": [],
   "source": [
    "lrnr = language_model_learner(dls, AWD_LSTM)"
   ]
  },
  {
   "cell_type": "markdown",
   "id": "d966f078-7d24-4d0f-ba64-ab6c10ac4b53",
   "metadata": {},
   "source": [
    "### 3단계 "
   ]
  },
  {
   "cell_type": "code",
   "execution_count": 63,
   "id": "a4fc3c81-8ba5-4100-92e1-d436fdd1d319",
   "metadata": {},
   "outputs": [
    {
     "data": {
      "text/html": [
       "\n",
       "<style>\n",
       "    /* Turns off some styling */\n",
       "    progress {\n",
       "        /* gets rid of default border in Firefox and Opera. */\n",
       "        border: none;\n",
       "        /* Needs to be in here for Safari polyfill so background images work as expected. */\n",
       "        background-size: auto;\n",
       "    }\n",
       "    progress:not([value]), progress:not([value])::-webkit-progress-bar {\n",
       "        background: repeating-linear-gradient(45deg, #7e7e7e, #7e7e7e 10px, #5c5c5c 10px, #5c5c5c 20px);\n",
       "    }\n",
       "    .progress-bar-interrupted, .progress-bar-interrupted::-webkit-progress-bar {\n",
       "        background: #F44336;\n",
       "    }\n",
       "</style>\n"
      ],
      "text/plain": [
       "<IPython.core.display.HTML object>"
      ]
     },
     "metadata": {},
     "output_type": "display_data"
    },
    {
     "data": {
      "text/html": [
       "<table border=\"1\" class=\"dataframe\">\n",
       "  <thead>\n",
       "    <tr style=\"text-align: left;\">\n",
       "      <th>epoch</th>\n",
       "      <th>train_loss</th>\n",
       "      <th>valid_loss</th>\n",
       "      <th>time</th>\n",
       "    </tr>\n",
       "  </thead>\n",
       "  <tbody>\n",
       "    <tr>\n",
       "      <td>0</td>\n",
       "      <td>0.575245</td>\n",
       "      <td>0.245803</td>\n",
       "      <td>00:11</td>\n",
       "    </tr>\n",
       "  </tbody>\n",
       "</table>"
      ],
      "text/plain": [
       "<IPython.core.display.HTML object>"
      ]
     },
     "metadata": {},
     "output_type": "display_data"
    }
   ],
   "source": [
    "lrnr.fit(1)"
   ]
  },
  {
   "cell_type": "markdown",
   "id": "d123b85a-4f41-4eaf-9452-67226089caaa",
   "metadata": {},
   "source": [
    "### 4단계"
   ]
  },
  {
   "cell_type": "code",
   "execution_count": 68,
   "id": "f869f438-dfe2-47ea-96b7-7102b6e4e78a",
   "metadata": {},
   "outputs": [
    {
     "data": {
      "text/html": [
       "\n",
       "<style>\n",
       "    /* Turns off some styling */\n",
       "    progress {\n",
       "        /* gets rid of default border in Firefox and Opera. */\n",
       "        border: none;\n",
       "        /* Needs to be in here for Safari polyfill so background images work as expected. */\n",
       "        background-size: auto;\n",
       "    }\n",
       "    progress:not([value]), progress:not([value])::-webkit-progress-bar {\n",
       "        background: repeating-linear-gradient(45deg, #7e7e7e, #7e7e7e 10px, #5c5c5c 10px, #5c5c5c 20px);\n",
       "    }\n",
       "    .progress-bar-interrupted, .progress-bar-interrupted::-webkit-progress-bar {\n",
       "        background: #F44336;\n",
       "    }\n",
       "</style>\n"
      ],
      "text/plain": [
       "<IPython.core.display.HTML object>"
      ]
     },
     "metadata": {},
     "output_type": "display_data"
    },
    {
     "data": {
      "text/html": [],
      "text/plain": [
       "<IPython.core.display.HTML object>"
      ]
     },
     "metadata": {},
     "output_type": "display_data"
    },
    {
     "data": {
      "text/plain": [
       "'h e l l l o . h e l l . e l l o ? ? h e l l o ! ! h e l l o !'"
      ]
     },
     "execution_count": 68,
     "metadata": {},
     "output_type": "execute_result"
    }
   ],
   "source": [
    "lrnr.predict('h e',n_words=30)"
   ]
  },
  {
   "cell_type": "markdown",
   "id": "d9f7a28e-2e17-4748-8491-b3bb60870d25",
   "metadata": {},
   "source": [
    "## GAN (Generative Adversarial Network)"
   ]
  },
  {
   "cell_type": "markdown",
   "id": "77dcc5e6-b141-4fde-bb6c-38537b54b8cb",
   "metadata": {},
   "source": [
    "`-` 저자: 이안굿펠로우 (이름이 특이함. 좋은친구..) \n",
    "- 천재임 \n",
    "- 지도교수가 요수아 벤지오 "
   ]
  },
  {
   "cell_type": "markdown",
   "id": "2278f4cf-1738-4fa0-91da-55b3ef33904d",
   "metadata": {},
   "source": [
    "`-` 논문 NIPS, 저는 이 논문 읽고 소름돋았어요.. \n",
    "- https://arxiv.org/abs/1406.2661 (현재시점, 38751회 인용되었음 $\\to$ 48978회 인용..)"
   ]
  },
  {
   "cell_type": "markdown",
   "id": "b8bdd6ab-3883-46e3-a90a-47968224e37c",
   "metadata": {},
   "source": [
    "`-` 최근 10년간 머신러닝 분야에서 가장 혁신적인 아이디어이다. (얀르쿤, 2014년 시점..) "
   ]
  },
  {
   "cell_type": "markdown",
   "id": "a5bf2a75-5dc6-402c-a32c-6354899fdc94",
   "metadata": {},
   "source": [
    "`-` 무슨내용? 생성모형 "
   ]
  },
  {
   "cell_type": "markdown",
   "id": "34e25c37-85e0-46bf-a686-107def3c61ad",
   "metadata": {},
   "source": [
    "### 생성모형이란? (쉬운 설명)"
   ]
  },
  {
   "cell_type": "markdown",
   "id": "04dd5ada-8337-4f90-8ff1-167f52fa9200",
   "metadata": {},
   "source": [
    "> 만들수 없다면 이해하지 못한 것이다, 리처드 파인만 (천재 물리학자) "
   ]
  },
  {
   "cell_type": "markdown",
   "id": "b8851731-52ab-4695-8d52-d66098b67816",
   "metadata": {},
   "source": [
    "`-` 사진속에 들어있는 동물이 개인지 고양이인지 맞출수 있는 기계와 개와 고양이를 그릴수 있는 기계중 어떤것이 더 시각적보에 대한 이해가 깊다고 볼수 있는가? "
   ]
  },
  {
   "cell_type": "markdown",
   "id": "fc9044ae-7e3c-410c-9174-369b42484124",
   "metadata": {},
   "source": [
    "`-` 진정으로 인공지능이 이미지를 이해했다면, 이미지를 만들수도 있어야 한다. $\\to$ 이미지를 생성하는 모형을 만들어보자 $\\to$ 성공 "
   ]
  },
  {
   "cell_type": "markdown",
   "id": "ddc4b6f4-ffcc-49a6-9eb0-44cff9e60248",
   "metadata": {},
   "source": [
    "![](https://upload.wikimedia.org/wikipedia/commons/1/1f/Woman_1.jpg)"
   ]
  },
  {
   "cell_type": "markdown",
   "id": "2de7bd2e-e0c3-44e8-a5f6-bd7589ef5725",
   "metadata": {},
   "source": [
    "#### GAN의 응용분야"
   ]
  },
  {
   "cell_type": "markdown",
   "id": "42187fc7-e28d-4fd4-89f0-4c7f77212222",
   "metadata": {},
   "source": [
    "`-` 내가 찍은 사진이 피카소의 화풍으로 표현된다면?\n",
    "- https://www.lgsl.kr/sto/stories/60/ALMA2020070001"
   ]
  },
  {
   "cell_type": "markdown",
   "id": "c118ee68-5881-492f-824e-e668413fcdd9",
   "metadata": {},
   "source": [
    "`-` 퀸의 라이브에이드가 4k로 나온다면?\n",
    "\n",
    "`-` 1920년대 서울의 모습이 칼라로 복원된다면? "
   ]
  },
  {
   "cell_type": "markdown",
   "id": "2dcbd708-659b-4af8-9acf-3438fde58756",
   "metadata": {},
   "source": [
    "`-` 딥페이크: 유명인의 가짜 포르노, 가짜뉴스, 협박(거짓기소) \n"
   ]
  },
  {
   "cell_type": "markdown",
   "id": "ce861abd-5b76-46c1-aaf4-46695e613d68",
   "metadata": {},
   "source": [
    "`-` 게임영상 (파이널판타지)"
   ]
  },
  {
   "cell_type": "markdown",
   "id": "c92021a9-86be-4c2a-944d-d7ade46db5b3",
   "metadata": {},
   "source": [
    "`-` 거북이의 커버.. "
   ]
  },
  {
   "cell_type": "markdown",
   "id": "b1404e70-b108-4ba2-9710-bb6ee9749be0",
   "metadata": {},
   "source": [
    "`-` 너무 많아요....."
   ]
  },
  {
   "cell_type": "markdown",
   "id": "a238899d-00f7-49af-84ad-d7c2dd543c97",
   "metadata": {
    "tags": []
   },
   "source": [
    "### 생성모형이란? 통계학과 버전의 설명 "
   ]
  },
  {
   "cell_type": "markdown",
   "id": "32160a4e-774b-4e34-8246-fc2a02cc2295",
   "metadata": {},
   "source": [
    "> 제한된 정보만으로 어떤 문제를 풀 떄, 그 과정에서 원래의 문제보다 일반적인 문제를 풀지 말고, 가능한 원래의 문제를 직접 풀어야한다. 배프닉 (SVM 창시자) "
   ]
  },
  {
   "cell_type": "markdown",
   "id": "000ac6b1-d00c-4c8a-9d01-1159b0e928a4",
   "metadata": {},
   "source": [
    "`-` 이미지 $\\boldsymbol{x}$가 주어졌을 경우 라벨을 $y$라고 하자. "
   ]
  },
  {
   "cell_type": "markdown",
   "id": "9271c837-7f25-4052-a24d-b0a269f83074",
   "metadata": {},
   "source": [
    "`-` 이미지를 보고 라벨을 맞추는 일은 $p(y| \\boldsymbol{x})$에 관심이 있다. "
   ]
  },
  {
   "cell_type": "markdown",
   "id": "b8e887ea-31ad-4a38-86ec-9e49bda1a98f",
   "metadata": {},
   "source": [
    "`-` 이미지를 생성하는 일은 $p(\\boldsymbol{x},y)$에 관심이 있는것이다. "
   ]
  },
  {
   "cell_type": "markdown",
   "id": "c39d6db8-4257-48c4-b064-be3a8ed11140",
   "metadata": {},
   "source": [
    "`-` 데이터의 생성확률 $p(\\boldsymbol{x},y)$을 알면 클래스의 사후확률 $p(y|\\boldsymbol{x})$를 알 수 있음. (아래의 수식 참고) 하지만 역은 불가능 \n",
    "\n",
    "$$p(y|x) = \\frac{p(x,y)}{p(x)} = \\frac{p(x,y)}{\\sum_{y}p(x,y)} $$"
   ]
  },
  {
   "cell_type": "markdown",
   "id": "c2c11f87-d88d-4791-b893-c0ef358c72c3",
   "metadata": {},
   "source": [
    "- 즉 이미지를 생성하는일은 분류문제보다 더 어려운 일이라 해석가능 "
   ]
  },
  {
   "cell_type": "markdown",
   "id": "148619a6-5fb0-4502-a9fd-7a72eca412c3",
   "metadata": {},
   "source": [
    "`-` 따라서 배프닉의 원리에 의하면 식별적 분류가 생성적 분류보다 바람직한 접근법이라 할 수 있음. "
   ]
  },
  {
   "cell_type": "markdown",
   "id": "153d90ad-f77d-49d4-9c0f-29f95382ce72",
   "metadata": {},
   "source": [
    "`-` 하지만 다양한 현실문제에서 생성모형이 유용할때가 많다. "
   ]
  },
  {
   "cell_type": "markdown",
   "id": "70d730f5-4f28-454d-bcc0-ae53af2798e9",
   "metadata": {},
   "source": [
    "### GAN의 원리"
   ]
  },
  {
   "cell_type": "markdown",
   "id": "07a8f8b2-d05d-4e4d-9b55-9973aff15982",
   "metadata": {},
   "source": [
    "`-` GAN은 생성모형중 하나임 "
   ]
  },
  {
   "cell_type": "markdown",
   "id": "fff692f1-5e9e-46e0-801d-c0d37a46d862",
   "metadata": {},
   "source": [
    "`-` GAN의 원리는 경찰과 위조지폐범이 서로 선의의(?) 경쟁을 통하여 서로 발전하는 모형으로 설명할 수 있다. "
   ]
  },
  {
   "cell_type": "markdown",
   "id": "eccd9d78-c5f9-4405-8217-c1b41491ee8d",
   "metadata": {},
   "source": [
    "> The generative model can be thought of as analogous to a team of counterfeiters,\n",
    "trying to produce fake currency and use it without detection, while the discriminative model is\n",
    "analogous to the police, trying to detect the counterfeit currency. Competition in this game drives\n",
    "both teams to improve their methods until the counterfeits are indistiguishable from the genuine\n",
    "articles."
   ]
  },
  {
   "cell_type": "markdown",
   "id": "2bfabd74-9fd9-4b87-b302-051422cc34f0",
   "metadata": {},
   "source": [
    "`-` 서로 적대적인(adversarial) 네트워크(network)를 동시에 학습시켜 가짜이미지를 만든다(generate) "
   ]
  },
  {
   "cell_type": "markdown",
   "id": "614ba18b-5174-42f0-bbf5-e01fdf3be285",
   "metadata": {},
   "source": [
    "`-` 무식한 상황극.. "
   ]
  },
  {
   "cell_type": "markdown",
   "id": "e1bef504-24fa-4ae1-9445-7e3397a8cd45",
   "metadata": {},
   "source": [
    "> 위조범: 가짜돈을 만들어서 부자가 되어야지! (가짜돈을 그림) \n",
    "\n",
    "> 경찰: (위조범이 만든 돈을 보고) 이건 가짜다! \n",
    "\n",
    "> 위조범: 걸렸군.. 더 정교하게 만들어야지.. \n",
    "\n",
    "> 경찰: 이건 진짠가?... --> 상사에게 혼남. 그것도 구분못하냐고 \n",
    "\n",
    "> 위조범: 더 정교하게 만들자.. \n",
    "\n",
    "> 경찰: 더 판별능력을 업그레이드 하자! \n",
    "\n",
    "> 반복.. "
   ]
  },
  {
   "cell_type": "markdown",
   "id": "7bff8658-b655-4db7-a69f-15bed361e29b",
   "metadata": {},
   "source": [
    "`-` 굉장히 우수한 경찰조차도 진짜와 가짜를 구분하지 못할때(=진짜 이미지를 0.5의 확률로만 진짜라고 말할때 = 가짜 이미지를 0.5의 확률로만 가짜라고 말할때) 학습을 멈춘다. "
   ]
  },
  {
   "cell_type": "markdown",
   "id": "3fa4d658-f3ba-45d5-8f17-c72b76d20e32",
   "metadata": {},
   "source": [
    "### 1단계"
   ]
  },
  {
   "cell_type": "code",
   "execution_count": 70,
   "id": "195257e9-a272-425f-943a-fa6da1a06d90",
   "metadata": {},
   "outputs": [],
   "source": [
    "path = untar_data(URLs.MNIST_SAMPLE)"
   ]
  },
  {
   "cell_type": "code",
   "execution_count": 72,
   "id": "9c0048a4-7ad8-4ba1-9fe7-470f0bcf88d7",
   "metadata": {},
   "outputs": [],
   "source": [
    "dblock = DataBlock(blocks=(TransformBlock,ImageBlock),\n",
    "          get_x = generate_noise,\n",
    "          get_items=get_image_files,\n",
    "          item_tfms=Resize(32))\n",
    "dls = dblock.dataloaders(path) "
   ]
  },
  {
   "cell_type": "code",
   "execution_count": 73,
   "id": "de1db7a7-ffdb-40c6-b530-43e0f25d5287",
   "metadata": {},
   "outputs": [
    {
     "data": {
      "image/png": "[encoded data removed]",
      "text/plain": [
       "<Figure size 648x648 with 9 Axes>"
      ]
     },
     "metadata": {
      "needs_background": "light"
     },
     "output_type": "display_data"
    }
   ],
   "source": [
    "dls.show_batch()"
   ]
  },
  {
   "cell_type": "markdown",
   "id": "0544b496-0c83-4c5f-b72b-875a1000b712",
   "metadata": {},
   "source": [
    "### 2단계 "
   ]
  },
  {
   "cell_type": "code",
   "execution_count": 74,
   "id": "8f348885-ec1c-4c5e-bb59-bfb8e5e0c555",
   "metadata": {},
   "outputs": [],
   "source": [
    "counterfeiter = basic_generator(32,n_channels=3,n_extra_layers=1)\n",
    "police = basic_critic(32,n_channels=3,n_extra_layers=1)"
   ]
  },
  {
   "cell_type": "code",
   "execution_count": 76,
   "id": "1f04aad3-c745-4395-ae4c-7250492f4f55",
   "metadata": {},
   "outputs": [],
   "source": [
    "lrnr = GANLearner.wgan(dls,counterfeiter,police) "
   ]
  },
  {
   "cell_type": "markdown",
   "id": "a94db2b1-a639-4fc7-8ef4-40c83b0a68a5",
   "metadata": {},
   "source": [
    "### 3단계"
   ]
  },
  {
   "cell_type": "code",
   "execution_count": null,
   "id": "7d91fa2c-8440-46ca-8b47-cfcdc696bab2",
   "metadata": {},
   "outputs": [],
   "source": [
    "lrnr.fit(1)"
   ]
  }
 ],
 "metadata": {
  "kernelspec": {
   "display_name": "Python 3 (ipykernel)",
   "language": "python",
   "name": "python3"
  },
  "language_info": {
   "codemirror_mode": {
    "name": "ipython",
    "version": 3
   },
   "file_extension": ".py",
   "mimetype": "text/x-python",
   "name": "python",
   "nbconvert_exporter": "python",
   "pygments_lexer": "ipython3",
   "version": "3.7.13"
  }
 },
 "nbformat": 4,
 "nbformat_minor": 5
}
