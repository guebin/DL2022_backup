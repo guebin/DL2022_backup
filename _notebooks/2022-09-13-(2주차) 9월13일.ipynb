{
 "cells": [
  {
   "cell_type": "markdown",
   "id": "68ab0286-cdd1-442a-ab46-452eceb5fa97",
   "metadata": {},
   "source": [
    "### imports"
   ]
  },
  {
   "cell_type": "code",
   "execution_count": 4,
   "id": "52b8c79e-4e15-4774-b6dc-305a1235a31c",
   "metadata": {},
   "outputs": [],
   "source": [
    "#\n",
    "# from fastai.vision.all import *  ## 이미지분석 \n",
    "from fastai.collab import * ## 추천시스템\n",
    "from fastai.text.all import * ## 텍스트분석 \n",
    "from fastai.vision.gan import * ## GAN (이미지생성)"
   ]
  },
  {
   "cell_type": "code",
   "execution_count": 5,
   "id": "6f4a5250-04ff-43e0-b6ab-06b3c544b896",
   "metadata": {},
   "outputs": [],
   "source": [
    "import pandas as pd"
   ]
  },
  {
   "cell_type": "markdown",
   "id": "669c3514-eb7a-40a2-8d50-234821c1da26",
   "metadata": {},
   "source": [
    "### fastai를 이용한 분석 steps"
   ]
  },
  {
   "cell_type": "markdown",
   "id": "dbca54ee-49e2-4db9-b6c9-a547a9c574e2",
   "metadata": {},
   "source": [
    "`-` 비교 "
   ]
  },
  {
   "cell_type": "markdown",
   "id": "f35d908d-1c95-4d1d-a466-3a462bdab581",
   "metadata": {},
   "source": [
    "| |이미지분석(CNN) | 추천시스템 | 텍스트분석 | GAN | \n",
    "|:-:|:-:|:-:|:-:|:-:|\n",
    "|1단계|ImageDataLoaders|CollabDataLoaders| TextDataLoaders | DataBlock -> dls |  \n",
    "|2단계|cnn_learner()|collab_learner()| language_model_learner() | GANLearner.wgan() | \n",
    "|3단계|lrnr.fine_tune(1)|lrnr.fit()| lrnr.fit() | lrnr.fit() |\n",
    "|4단계|lrnr.predict(), lrnr.model(X)|lrnr.model(X)| lrnr.predict() | | "
   ]
  },
  {
   "cell_type": "markdown",
   "id": "7ffba01c-de8b-4764-84a8-e86ac2a80c2c",
   "metadata": {},
   "source": [
    "`-` 지난시간 imports 수정할것.. "
   ]
  },
  {
   "cell_type": "markdown",
   "id": "db3b6ee7-5e66-425d-98c0-d3faa09a3a14",
   "metadata": {},
   "source": [
    "## 추천시스템"
   ]
  },
  {
   "cell_type": "markdown",
   "id": "26df02d9-e3cf-448a-8917-fa29f82b179d",
   "metadata": {},
   "source": [
    "## 텍스트분석"
   ]
  },
  {
   "cell_type": "markdown",
   "id": "d9f7a28e-2e17-4748-8491-b3bb60870d25",
   "metadata": {},
   "source": [
    "## GAN (Generative Adversarial Network)"
   ]
  },
  {
   "cell_type": "markdown",
   "id": "77dcc5e6-b141-4fde-bb6c-38537b54b8cb",
   "metadata": {},
   "source": [
    "`-` 저자: 이안굿펠로우 (이름이 특이함. 좋은친구..) \n",
    "- 천재임 \n",
    "- 지도교수가 요수아 벤지오 "
   ]
  },
  {
   "cell_type": "markdown",
   "id": "2278f4cf-1738-4fa0-91da-55b3ef33904d",
   "metadata": {},
   "source": [
    "`-` 논문 NIPS, 저는 이 논문 읽고 소름돋았어요.. \n",
    "- https://arxiv.org/abs/1406.2661 (현재시점, 38751회 인용되었음 $\\to$ 48978회 인용..)"
   ]
  },
  {
   "cell_type": "markdown",
   "id": "b8bdd6ab-3883-46e3-a90a-47968224e37c",
   "metadata": {},
   "source": [
    "`-` 최근 10년간 머신러닝 분야에서 가장 혁신적인 아이디어이다. (얀르쿤, 2014년 시점..) "
   ]
  },
  {
   "cell_type": "markdown",
   "id": "a5bf2a75-5dc6-402c-a32c-6354899fdc94",
   "metadata": {},
   "source": [
    "`-` 무슨내용? 생성모형 "
   ]
  },
  {
   "cell_type": "markdown",
   "id": "34e25c37-85e0-46bf-a686-107def3c61ad",
   "metadata": {},
   "source": [
    "#### 생성모형이란? (쉬운 설명)"
   ]
  },
  {
   "cell_type": "markdown",
   "id": "04dd5ada-8337-4f90-8ff1-167f52fa9200",
   "metadata": {},
   "source": [
    "> 만들수 없다면 이해하지 못한 것이다, 리처드 파인만 (천재 물리학자) "
   ]
  },
  {
   "cell_type": "markdown",
   "id": "b8851731-52ab-4695-8d52-d66098b67816",
   "metadata": {},
   "source": [
    "`-` 사진속에 들어있는 동물이 개인지 고양이인지 맞출수 있는 기계와 개와 고양이를 그릴수 있는 기계중 어떤것이 더 시각적보에 대한 이해가 깊다고 볼수 있는가? "
   ]
  },
  {
   "cell_type": "markdown",
   "id": "fc9044ae-7e3c-410c-9174-369b42484124",
   "metadata": {},
   "source": [
    "`-` 진정으로 인공지능이 이미지를 이해했다면, 이미지를 만들수도 있어야 한다. $\\to$ 이미지를 생성하는 모형을 만들어보자 $\\to$ 성공 "
   ]
  },
  {
   "cell_type": "markdown",
   "id": "ddc4b6f4-ffcc-49a6-9eb0-44cff9e60248",
   "metadata": {},
   "source": [
    "![](https://upload.wikimedia.org/wikipedia/commons/1/1f/Woman_1.jpg)"
   ]
  },
  {
   "cell_type": "markdown",
   "id": "2de7bd2e-e0c3-44e8-a5f6-bd7589ef5725",
   "metadata": {},
   "source": [
    "#### GAN의 응용분야"
   ]
  },
  {
   "cell_type": "markdown",
   "id": "42187fc7-e28d-4fd4-89f0-4c7f77212222",
   "metadata": {},
   "source": [
    "`-` 내가 찍은 사진이 피카소의 화풍으로 표현된다면?\n",
    "- https://www.lgsl.kr/sto/stories/60/ALMA2020070001"
   ]
  },
  {
   "cell_type": "markdown",
   "id": "c118ee68-5881-492f-824e-e668413fcdd9",
   "metadata": {},
   "source": [
    "`-` 퀸의 라이브에이드가 4k로 나온다면?\n",
    "\n",
    "`-` 1920년대 서울의 모습이 칼라로 복원된다면? "
   ]
  },
  {
   "cell_type": "markdown",
   "id": "2dcbd708-659b-4af8-9acf-3438fde58756",
   "metadata": {},
   "source": [
    "`-` 딥페이크: 유명인의 가짜 포르노, 가짜뉴스, 협박(거짓기소) \n"
   ]
  },
  {
   "cell_type": "markdown",
   "id": "ce861abd-5b76-46c1-aaf4-46695e613d68",
   "metadata": {},
   "source": [
    "`-` 게임영상 (파이널판타지)"
   ]
  },
  {
   "cell_type": "markdown",
   "id": "c92021a9-86be-4c2a-944d-d7ade46db5b3",
   "metadata": {},
   "source": [
    "`-` 거북이의 커버.. "
   ]
  },
  {
   "cell_type": "markdown",
   "id": "b1404e70-b108-4ba2-9710-bb6ee9749be0",
   "metadata": {},
   "source": [
    "`-` 너무 많아요....."
   ]
  },
  {
   "cell_type": "markdown",
   "id": "70d730f5-4f28-454d-bcc0-ae53af2798e9",
   "metadata": {},
   "source": [
    "### GAN의 원리"
   ]
  },
  {
   "cell_type": "markdown",
   "id": "07a8f8b2-d05d-4e4d-9b55-9973aff15982",
   "metadata": {},
   "source": [
    "`-` GAN은 생성모형중 하나임 "
   ]
  },
  {
   "cell_type": "markdown",
   "id": "fff692f1-5e9e-46e0-801d-c0d37a46d862",
   "metadata": {},
   "source": [
    "`-` GAN의 원리는 경찰과 위조지폐범이 서로 선의의(?) 경쟁을 통하여 서로 발전하는 모형으로 설명할 수 있다. "
   ]
  },
  {
   "cell_type": "markdown",
   "id": "eccd9d78-c5f9-4405-8217-c1b41491ee8d",
   "metadata": {},
   "source": [
    "> The generative model can be thought of as analogous to a team of counterfeiters,\n",
    "trying to produce fake currency and use it without detection, while the discriminative model is\n",
    "analogous to the police, trying to detect the counterfeit currency. Competition in this game drives\n",
    "both teams to improve their methods until the counterfeits are indistiguishable from the genuine\n",
    "articles."
   ]
  },
  {
   "cell_type": "markdown",
   "id": "2bfabd74-9fd9-4b87-b302-051422cc34f0",
   "metadata": {},
   "source": [
    "`-` 서로 적대적인(adversarial) 네트워크(network)를 동시에 학습시켜 가짜이미지를 만든다(generate) "
   ]
  },
  {
   "cell_type": "markdown",
   "id": "614ba18b-5174-42f0-bbf5-e01fdf3be285",
   "metadata": {},
   "source": [
    "`-` 무식한 상황극.. "
   ]
  },
  {
   "cell_type": "markdown",
   "id": "e1bef504-24fa-4ae1-9445-7e3397a8cd45",
   "metadata": {},
   "source": [
    "> 위조범: 가짜돈을 만들어서 부자가 되어야지! (가짜돈을 그림) \n",
    "\n",
    "> 경찰: (위조범이 만든 돈을 보고) 이건 가짜다! \n",
    "\n",
    "> 위조범: 걸렸군.. 더 정교하게 만들어야지.. \n",
    "\n",
    "> 경찰: 이건 진짠가?... --> 상사에게 혼남. 그것도 구분못하냐고 \n",
    "\n",
    "> 위조범: 더 정교하게 만들자.. \n",
    "\n",
    "> 경찰: 더 판별능력을 업그레이드 하자! \n",
    "\n",
    "> 반복.. "
   ]
  },
  {
   "cell_type": "markdown",
   "id": "7bff8658-b655-4db7-a69f-15bed361e29b",
   "metadata": {},
   "source": [
    "`-` 굉장히 우수한 경찰조차도 진짜와 가짜를 구분하지 못할때(=진짜 이미지를 0.5의 확률로만 진짜라고 말할때 = 가짜 이미지를 0.5의 확률로만 가짜라고 말할때) 학습을 멈춘다. "
   ]
  },
  {
   "cell_type": "code",
   "execution_count": null,
   "id": "1ffe0bc6-faf3-4ba6-ba96-5a4316bbce0c",
   "metadata": {},
   "outputs": [],
   "source": [
    "!git add ."
   ]
  }
 ],
 "metadata": {
  "kernelspec": {
   "display_name": "Python 3 (ipykernel)",
   "language": "python",
   "name": "python3"
  },
  "language_info": {
   "codemirror_mode": {
    "name": "ipython",
    "version": 3
   },
   "file_extension": ".py",
   "mimetype": "text/x-python",
   "name": "python",
   "nbconvert_exporter": "python",
   "pygments_lexer": "ipython3",
   "version": "3.7.13"
  }
 },
 "nbformat": 4,
 "nbformat_minor": 5
}
