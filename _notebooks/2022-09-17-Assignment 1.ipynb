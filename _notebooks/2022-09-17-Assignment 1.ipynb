{
 "cells": [
  {
   "cell_type": "markdown",
   "id": "1aa76da0-d9a3-4f01-a815-7c4578770181",
   "metadata": {},
   "source": [
    "# Assignment 1"
   ]
  },
  {
   "cell_type": "code",
   "execution_count": 1,
   "id": "8a72b9fe-40b1-4dbe-b98d-44ba4017ac01",
   "metadata": {},
   "outputs": [],
   "source": [
    "from fastai.vision.all import * \n",
    "from fastai.collab import * \n",
    "from fastai.text.all import *\n",
    "from fastai.vision.gan import * "
   ]
  },
  {
   "cell_type": "markdown",
   "id": "d0a7066c-2675-4da4-8aff-60779d42b9c6",
   "metadata": {},
   "source": [
    "## `1`. 이미지자료분석 "
   ]
  },
  {
   "cell_type": "markdown",
   "id": "82b8d30b-72a8-42e2-b2d0-de9f2ea984cd",
   "metadata": {},
   "source": [
    "아래를 이용하여 `MNIST_SAMPLE` 이미지 자료를 다운로드 받고 `dls`오브젝트를 만들어라. "
   ]
  },
  {
   "cell_type": "code",
   "execution_count": 59,
   "id": "24770588-b52a-412e-b67d-ba14f9003ddd",
   "metadata": {},
   "outputs": [],
   "source": [
    "path = untar_data(URLs.MNIST_SAMPLE)"
   ]
  },
  {
   "cell_type": "code",
   "execution_count": 60,
   "id": "c6a009d2-b595-47d6-9101-e7303f8cf1e6",
   "metadata": {},
   "outputs": [],
   "source": [
    "dls = ImageDataLoaders.from_folder(path) "
   ]
  },
  {
   "cell_type": "code",
   "execution_count": 61,
   "id": "709295d3-9394-40f5-84c9-b36a5ab56b86",
   "metadata": {},
   "outputs": [
    {
     "data": {
      "image/png": "[encoded data removed]",
      "text/plain": [
       "<Figure size 648x648 with 9 Axes>"
      ]
     },
     "metadata": {
      "needs_background": "light"
     },
     "output_type": "display_data"
    }
   ],
   "source": [
    "dls.show_batch()"
   ]
  },
  {
   "cell_type": "markdown",
   "id": "f5d34a52-dbc2-43ec-9182-77e47b50dd35",
   "metadata": {},
   "source": [
    "`(1)` `cnn_learner`를 이용하여 `lrnr` 오브젝트를 생성하라. \n",
    "- arch 는 resnet34 로 설정할 것 \n",
    "- metrics 는 error_rate 로 설정할 것 "
   ]
  },
  {
   "cell_type": "markdown",
   "id": "210447f8-4f0b-43ad-9b1d-21d0bea04a74",
   "metadata": {},
   "source": [
    "`(2)` `fine_tune` 을 이용하여 `lrnr` 오브젝트를 학습하라. "
   ]
  },
  {
   "cell_type": "markdown",
   "id": "41fcc907-4183-4e8b-878b-994d203bd5a0",
   "metadata": {},
   "source": [
    "`(3)` 아래를 이용하여 X,y를 만들어라. \n",
    "\n",
    "```python\n",
    "X,y = dls.one_batch()\n",
    "```\n",
    "\n",
    "X,y의 shape을 조사하라. X에는 몇개의 이미지가 있는가? 이미지의 size는 얼마인가? "
   ]
  },
  {
   "cell_type": "markdown",
   "id": "45b56ab8-107c-47a8-8064-d02a24c2ee4f",
   "metadata": {},
   "source": [
    "`(4)` 아래의 코드를 이용하여 X의 두번째 이미지가 어떠한 숫자를 의미하는지 확인하라. (그림보고 3인지 7인지 확인하여 답을 쓸 것)\n",
    "```\n",
    "show_image(X[0])\n",
    "```"
   ]
  },
  {
   "cell_type": "markdown",
   "id": "31d22da5-32f1-4fbf-b30b-6331e7fc7346",
   "metadata": {},
   "source": [
    "그리고 `show_image`가 정의된 파일의 경로를 확인하고 show_image가 python 내장함수 인지, torch에서 지원하는 함수인지 fastai에서 지원하는 함수인지 파악하라. "
   ]
  },
  {
   "cell_type": "markdown",
   "id": "802451af-9e8f-4882-9cb5-2367a9cc9ec8",
   "metadata": {},
   "source": [
    "`(5)` lrnr 오브젝트를 이용하여 AI가 X[0]을 어떤 값으로 판단하는지 확인하라. 올바르게 판단하였는가? 올바르게 판단했다면 몇 프로의 확신으로 판단하였는가?"
   ]
  },
  {
   "cell_type": "markdown",
   "id": "53a81a4a-9600-499a-a452-f7d73191567c",
   "metadata": {},
   "source": [
    "## `2`. 추천시스템"
   ]
  },
  {
   "cell_type": "code",
   "execution_count": null,
   "id": "c1df0068-ed59-485b-b833-dd6e93f6f35f",
   "metadata": {},
   "outputs": [],
   "source": [
    "!git add .\n",
    "!git commit -m .\n",
    "!git push"
   ]
  },
  {
   "cell_type": "code",
   "execution_count": null,
   "id": "8f56be30-eaf9-4827-8911-993cce70954b",
   "metadata": {},
   "outputs": [],
   "source": []
  }
 ],
 "metadata": {
  "kernelspec": {
   "display_name": "Python 3 (ipykernel)",
   "language": "python",
   "name": "python3"
  },
  "language_info": {
   "codemirror_mode": {
    "name": "ipython",
    "version": 3
   },
   "file_extension": ".py",
   "mimetype": "text/x-python",
   "name": "python",
   "nbconvert_exporter": "python",
   "pygments_lexer": "ipython3",
   "version": "3.7.13"
  }
 },
 "nbformat": 4,
 "nbformat_minor": 5
}
