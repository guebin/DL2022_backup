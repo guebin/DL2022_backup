{
 "cells": [
  {
   "cell_type": "markdown",
   "id": "9319ad98-0c29-44a6-a200-312ad5d593dc",
   "metadata": {
    "tags": []
   },
   "source": [
    "# (6주차) 10월6일 \n",
    "> 딥러닝의 기초 - 깊은신경망(2)-- 시벤코정리, MNIST with DNN\n",
    "\n",
    "- toc:true\n",
    "- branch: master\n",
    "- badges: true\n",
    "- comments: true\n",
    "- author: 최규빈"
   ]
  },
  {
   "cell_type": "markdown",
   "id": "7b6460ba-1ef6-4702-b8c7-73b3bd4bfdd8",
   "metadata": {},
   "source": [
    "## 강의영상 \n",
    "> youtube: https://youtube.com/playlist?list=PLQqh36zP38-x9XuXWwAmKKI3JbTRoXVJA"
   ]
  },
  {
   "cell_type": "markdown",
   "id": "b87bafb6-7825-47a5-83d5-6bdb8695b86e",
   "metadata": {},
   "source": [
    "## imports"
   ]
  },
  {
   "cell_type": "code",
   "execution_count": 168,
   "id": "d3060dd4-df1d-4c54-8751-605c6eef573a",
   "metadata": {},
   "outputs": [],
   "source": [
    "import torch\n",
    "import matplotlib.pyplot as plt\n",
    "from fastai.data.all import * \n",
    "import torchvision"
   ]
  },
  {
   "cell_type": "markdown",
   "id": "e8e7e909-cf6d-44be-9d90-4d707982690a",
   "metadata": {},
   "source": [
    "## 시벤코정리 "
   ]
  },
  {
   "cell_type": "markdown",
   "id": "5baa15f5-cd35-45c3-9398-d28d4fe04420",
   "metadata": {},
   "source": [
    "### 지난시간 논리전개"
   ]
  },
  {
   "cell_type": "markdown",
   "id": "57153845-100b-417b-ad37-bb1befef7e9a",
   "metadata": {},
   "source": [
    "`-` 아이디어: linear -> relu -> linear (-> sigmoid) 조합으로 꺽은선으로 표현되는 underlying 을 표현할 수 있었다. \n",
    "- 아이디어의 실용성: 실제자료에서 꺽은선으로 표현되는 underlying은 몇개 없을 것 같음. 그건 맞는데 꺽이는 점을 많이 설정하면 얼추 비슷하게는 \"근사\" 시킬 수 있음. \n",
    "- 아이디어의 확장성: 이러한 논리전개는 X:(n,2)인 경우도 가능했음. (이 경우 꺽인선은 꺽인평면이 된다)\n",
    "- 아이디어에 해당하는 용어정리: : 이 구조가 x->y 로 바로 가는 것이 아니라 x->(u1->v1)->(u2->v2)=y 의 구조인데 이러한 네트워크를 하나의 은닉층을 포함하는 네트워크라고 표현한다. "
   ]
  },
  {
   "cell_type": "markdown",
   "id": "2ad75880-52bf-4dc2-9446-10ade3f43563",
   "metadata": {},
   "source": [
    "### 시벤코정리"
   ]
  },
  {
   "cell_type": "markdown",
   "id": "b364b9d4-3738-404e-a8f6-ba34a05f03d1",
   "metadata": {},
   "source": [
    "**universal approximation thm: (범용근사정리,보편근사정리,시벤코정리)**, 1989\n",
    "\n",
    "> 하나의 은닉층을 가지는 \"linear -> sigmoid -> linear\" 꼴의 네트워크를 이용하여 세상에 존재하는 모든 (다차원) 연속함수를 원하는 정확도로 근사시킬 수 있다. (계수를 잘 추정한다면)\n"
   ]
  },
  {
   "cell_type": "markdown",
   "id": "72ce1337-f601-4bb8-8ba6-b37245cea176",
   "metadata": {},
   "source": [
    "`-` 사실 엄청 이해안되는 정리임. 왜냐햐면,\n",
    "- 그렇게 잘 맞추면 1989년에 세상의 모든 문제를 다 풀어야 한거 아니야? \n",
    "- 요즘은 \"linear -> sigmoid -> linear\" 가 아니라 \"linear -> relu -> linear\" 조합으로 많이 쓰던데? \n",
    "- 요즘은 하나의 은닉층을 포함하는 네트워크는 잘 안쓰지 않나? 은닉층이 여러개일수록 좋다고 어디서 본 것 같은데?"
   ]
  },
  {
   "cell_type": "markdown",
   "id": "f5c79e3f-c491-4e05-ac00-2419cd58369a",
   "metadata": {},
   "source": [
    "`-` 그래도 아무튼 현재단계에서는 이게 항상된다고 생각하자. 그러면 우리는 아래와 같은 무기를 가진 꼴이 된다. \n",
    "- 우리의 무기: ${\\bf X}: (n,p)$ 꼴의 입력에서 ${\\bf y}:(n,1)$ 꼴의 출력으로 향하는 맵핑을 \"linear -> relu -> linear\"와 같은 네트워크를 이용해서 \"근사\"시킬 수 있다."
   ]
  },
  {
   "cell_type": "markdown",
   "id": "5a2daeb2-cccc-4056-b16f-daa9d6b2852f",
   "metadata": {},
   "source": [
    "## MNIST with DNN"
   ]
  },
  {
   "cell_type": "markdown",
   "id": "952952f3-1c31-430e-ab8f-4a21d0e51354",
   "metadata": {},
   "source": [
    "### 목표 "
   ]
  },
  {
   "cell_type": "markdown",
   "id": "1d906dd0-2397-4f66-98a8-d4a0764ff218",
   "metadata": {},
   "source": [
    "`-` 목표: ${\\bf X}:(n,1,28,28)$ 에서 $y:(n,1)$ 로 가는 맵핑을 학습하자 --> 배운적이 없는데? --> ${\\bf X}:(n,784)$ 에서 $y:(n,1)$ 로 가는 맵핑을 학습하자.. "
   ]
  },
  {
   "cell_type": "markdown",
   "id": "100c09e2-a036-41d4-930c-5f49a645fbf1",
   "metadata": {
    "tags": []
   },
   "source": [
    "### 예비학습1: Path"
   ]
  },
  {
   "cell_type": "code",
   "execution_count": 169,
   "id": "cb0bb8e1-5446-4e28-bbb7-525c8160dbda",
   "metadata": {},
   "outputs": [
    {
     "data": {
      "text/plain": [
       "Path('/home/cgb4/.fastai/data/mnist_png')"
      ]
     },
     "execution_count": 169,
     "metadata": {},
     "output_type": "execute_result"
    }
   ],
   "source": [
    "path = untar_data(URLs.MNIST) \n",
    "path"
   ]
  },
  {
   "cell_type": "markdown",
   "id": "996bec2e-9099-44d6-bc1b-0286f4ac42cc",
   "metadata": {},
   "source": [
    "- path 도 오브젝트임\n",
    "- path 도 정보+기능이 있음 "
   ]
  },
  {
   "cell_type": "markdown",
   "id": "e18fd206-af39-4770-a744-d43a1c0d1e2f",
   "metadata": {},
   "source": [
    "`-` path의 정보"
   ]
  },
  {
   "cell_type": "code",
   "execution_count": 170,
   "id": "fe96d16c-274e-4673-839b-a9b8ecdc4041",
   "metadata": {},
   "outputs": [
    {
     "data": {
      "text/plain": [
       "'/home/cgb4/.fastai/data/mnist_png'"
      ]
     },
     "execution_count": 170,
     "metadata": {},
     "output_type": "execute_result"
    }
   ],
   "source": [
    "path._str # ㅎㅎ 숨겨놓았네?"
   ]
  },
  {
   "cell_type": "markdown",
   "id": "eeecefd7-a73e-4c4b-848e-255156051e86",
   "metadata": {},
   "source": [
    "`-` 기능1"
   ]
  },
  {
   "cell_type": "code",
   "execution_count": 171,
   "id": "d379a793-762c-437a-be75-c305ca55f626",
   "metadata": {},
   "outputs": [
    {
     "data": {
      "text/plain": [
       "(#2) [Path('/home/cgb4/.fastai/data/mnist_png/training'),Path('/home/cgb4/.fastai/data/mnist_png/testing')]"
      ]
     },
     "execution_count": 171,
     "metadata": {},
     "output_type": "execute_result"
    }
   ],
   "source": [
    "path.ls()"
   ]
  },
  {
   "cell_type": "markdown",
   "id": "4ac2f743-b4be-4973-8041-715bc73b9548",
   "metadata": {},
   "source": [
    "`-` 기능2"
   ]
  },
  {
   "cell_type": "code",
   "execution_count": 172,
   "id": "5492dd53-02fd-4f49-9e7a-16e7ad6b1793",
   "metadata": {},
   "outputs": [
    {
     "data": {
      "text/plain": [
       "Path('/home/cgb4/.fastai/data/mnist_png/training')"
      ]
     },
     "execution_count": 172,
     "metadata": {},
     "output_type": "execute_result"
    }
   ],
   "source": [
    "path/'training'"
   ]
  },
  {
   "cell_type": "code",
   "execution_count": 173,
   "id": "35427a5e-6196-4882-9d3d-098de9b918a0",
   "metadata": {},
   "outputs": [
    {
     "data": {
      "text/plain": [
       "Path('/home/cgb4/.fastai/data/mnist_png/testing')"
      ]
     },
     "execution_count": 173,
     "metadata": {},
     "output_type": "execute_result"
    }
   ],
   "source": [
    "path/'testing'"
   ]
  },
  {
   "cell_type": "markdown",
   "id": "819aa5b8-1295-47c5-bc8b-e2704f4bcfc4",
   "metadata": {},
   "source": [
    "`-` 기능1과 기능2의 결합"
   ]
  },
  {
   "cell_type": "code",
   "execution_count": 174,
   "id": "c0291137-a31d-42b1-9349-4214fbc5ea67",
   "metadata": {},
   "outputs": [
    {
     "data": {
      "text/plain": [
       "(#6131) [Path('/home/cgb4/.fastai/data/mnist_png/training/3/37912.png'),Path('/home/cgb4/.fastai/data/mnist_png/training/3/12933.png'),Path('/home/cgb4/.fastai/data/mnist_png/training/3/3576.png'),Path('/home/cgb4/.fastai/data/mnist_png/training/3/59955.png'),Path('/home/cgb4/.fastai/data/mnist_png/training/3/23144.png'),Path('/home/cgb4/.fastai/data/mnist_png/training/3/40836.png'),Path('/home/cgb4/.fastai/data/mnist_png/training/3/25536.png'),Path('/home/cgb4/.fastai/data/mnist_png/training/3/42669.png'),Path('/home/cgb4/.fastai/data/mnist_png/training/3/7046.png'),Path('/home/cgb4/.fastai/data/mnist_png/training/3/47380.png')...]"
      ]
     },
     "execution_count": 174,
     "metadata": {},
     "output_type": "execute_result"
    }
   ],
   "source": [
    "(path/'training/3').ls()"
   ]
  },
  {
   "cell_type": "markdown",
   "id": "d90bbd8c-2e11-4652-b69a-5248296e0021",
   "metadata": {},
   "source": [
    "- '/home/cgb4/.fastai/data/mnist_png/training/3/37912.png' 이 파일을 더블클릭하면 이미지가 보인단 말임"
   ]
  },
  {
   "cell_type": "markdown",
   "id": "a6eb0b83-1af7-4a57-a314-bb2dfa75e081",
   "metadata": {},
   "source": [
    "### 예비학습2: plt.imshow "
   ]
  },
  {
   "cell_type": "code",
   "execution_count": 175,
   "id": "ba7e2daa-28fa-4ff9-85b5-517bee67a65c",
   "metadata": {},
   "outputs": [
    {
     "data": {
      "text/plain": [
       "tensor([[1., 2.],\n",
       "        [2., 4.]])"
      ]
     },
     "execution_count": 175,
     "metadata": {},
     "output_type": "execute_result"
    }
   ],
   "source": [
    "imgtsr = torch.tensor([[1.0,2],[2.0,4.0]])\n",
    "imgtsr"
   ]
  },
  {
   "cell_type": "code",
   "execution_count": 176,
   "id": "79012294-ff6c-49c8-85cd-53f32282498f",
   "metadata": {},
   "outputs": [
    {
     "data": {
      "text/plain": [
       "<matplotlib.colorbar.Colorbar at 0x7f8c0e1ec710>"
      ]
     },
     "execution_count": 176,
     "metadata": {},
     "output_type": "execute_result"
    },
    {
     "data": {
      "image/png": "[encoded data removed]",
      "text/plain": [
       "<Figure size 432x288 with 2 Axes>"
      ]
     },
     "metadata": {
      "needs_background": "light"
     },
     "output_type": "display_data"
    }
   ],
   "source": [
    "plt.imshow(imgtsr,cmap='gray')\n",
    "plt.colorbar()"
   ]
  },
  {
   "cell_type": "markdown",
   "id": "2074cbfb-db4a-4de0-85fc-d9d9ed97dfb2",
   "metadata": {},
   "source": [
    "### 예비학습3: torchvision"
   ]
  },
  {
   "cell_type": "markdown",
   "id": "208d7fe7-2a93-4752-85a5-356ba6482a55",
   "metadata": {},
   "source": [
    "`-` '/home/cgb4/.fastai/data/mnist_png/training/3/37912.png'의 이미지파일을 torchvision.io.read_image 를 이용하여 텐서로 만듬"
   ]
  },
  {
   "cell_type": "code",
   "execution_count": 177,
   "id": "701e8745-c573-4e9f-94d2-76976cab4878",
   "metadata": {},
   "outputs": [
    {
     "data": {
      "text/plain": [
       "tensor([[[  0,   0,   0,   0,   0,   0,   0,   0,   0,   0,   0,   0,   0,   0,\n",
       "            0,   0,   0,   0,   0,   0,   0,   0,   0,   0,   0,   0,   0,   0],\n",
       "         [  0,   0,   0,   0,   0,   0,   0,   0,   0,   0,   0,   0,   0,   0,\n",
       "            0,   0,   0,   0,   0,   0,   0,   0,   0,   0,   0,   0,   0,   0],\n",
       "         [  0,   0,   0,   0,   0,   0,   0,   0,   0,   0,   0,   0,   0,   0,\n",
       "            0,   0,   0,   0,   0,   0,   0,   0,   0,   0,   0,   0,   0,   0],\n",
       "         [  0,   0,   0,   0,   0,   0,   0,   0,   0,   0,   0,   0,   0,   0,\n",
       "            0,   0,   0,   0,   0,   0,   0,   0,   0,   0,   0,   0,   0,   0],\n",
       "         [  0,   0,   0,   0,   0,   0,   0,   0,   0,   0,   0,   0,   0,   0,\n",
       "            0,   0,   0,   0,   0,   0,   0,   0,   0,   0,   0,   0,   0,   0],\n",
       "         [  0,   0,   0,   0,   0,   0,   0,   0,   0,   0,   0,  17,  66, 138,\n",
       "          149, 180, 138, 138,  86,   0,   0,   0,   0,   0,   0,   0,   0,   0],\n",
       "         [  0,   0,   0,   0,   0,   0,   0,   0,  22, 162, 161, 228, 252, 252,\n",
       "          253, 252, 252, 252, 252,  74,   0,   0,   0,   0,   0,   0,   0,   0],\n",
       "         [  0,   0,   0,   0,   0,   0,   0,   0, 116, 253, 252, 252, 252, 189,\n",
       "          184, 110, 119, 252, 252,  32,   0,   0,   0,   0,   0,   0,   0,   0],\n",
       "         [  0,   0,   0,   0,   0,   0,   0,   0,  74, 161, 160,  77,  45,   4,\n",
       "            0,   0,  70, 252, 210,   0,   0,   0,   0,   0,   0,   0,   0,   0],\n",
       "         [  0,   0,   0,   0,   0,   0,   0,   0,   0,   0,   0,   0,   0,   0,\n",
       "            0,  22, 205, 252,  32,   0,   0,   0,   0,   0,   0,   0,   0,   0],\n",
       "         [  0,   0,   0,   0,   0,   0,   0,   0,   0,   0,   0,   0,   0,   0,\n",
       "            0, 162, 253, 245,  21,   0,   0,   0,   0,   0,   0,   0,   0,   0],\n",
       "         [  0,   0,   0,   0,   0,   0,   0,   0,   0,   0,   0,   0,   0,   0,\n",
       "           36, 219, 252, 139,   0,   0,   0,   0,   0,   0,   0,   0,   0,   0],\n",
       "         [  0,   0,   0,   0,   0,   0,   0,   0,   0,   0,   0,   0,   0,   0,\n",
       "          222, 252, 202,  13,   0,   0,   0,   0,   0,   0,   0,   0,   0,   0],\n",
       "         [  0,   0,   0,   0,   0,   0,   0,   0,   0,   0,   0,   0,   0,  43,\n",
       "          253, 252,  89,   0,   0,   0,   0,   0,   0,   0,   0,   0,   0,   0],\n",
       "         [  0,   0,   0,   0,   0,   0,   0,   0,   0,   0,   0,   0,  85, 240,\n",
       "          253, 157,   6,   0,   0,   0,   0,   0,   0,   0,   0,   0,   0,   0],\n",
       "         [  0,   0,   0,   0,   0,   0,   0,   0,   0,   0,   0,   7, 160, 253,\n",
       "          231,  42,   0,   0,   0,   0,   0,   0,   0,   0,   0,   0,   0,   0],\n",
       "         [  0,   0,   0,   0,   0,   0,   0,   0,   0,   0,   0, 142, 252, 252,\n",
       "           42,  30,  78, 161,  36,   0,   0,   0,   0,   0,   0,   0,   0,   0],\n",
       "         [  0,   0,   0,   0,   0,   0,   0,   0,   0,   0,   0, 184, 252, 252,\n",
       "          185, 228, 252, 252, 168,   0,   0,   0,   0,   0,   0,   0,   0,   0],\n",
       "         [  0,   0,   0,   0,   0,   0,   0,   0,   0,   0,   0, 184, 252, 252,\n",
       "          253, 252, 252, 252, 116,   0,   0,   0,   0,   0,   0,   0,   0,   0],\n",
       "         [  0,   0,   0,   0,   0,   0,   0,   0,   0,   0,   0, 101, 179, 252,\n",
       "          253, 252, 252, 210,  12,   0,   0,   0,   0,   0,   0,   0,   0,   0],\n",
       "         [  0,   0,   0,   0,   0,   0,   0,   0,   0,   0,   0,   0,   0,  22,\n",
       "          255, 253, 215,  21,   0,   0,   0,   0,   0,   0,   0,   0,   0,   0],\n",
       "         [  0,   0,   0,   0,   0,   0,   0,   0,   0,   0,   0,  34,  89, 244,\n",
       "          253, 223,  98,   0,   0,   0,   0,   0,   0,   0,   0,   0,   0,   0],\n",
       "         [  0,   0,   0,   0,   0,   0,   0,   0, 116, 123, 142, 234, 252, 252,\n",
       "          184,  67,   0,   0,   0,   0,   0,   0,   0,   0,   0,   0,   0,   0],\n",
       "         [  0,   0,   0,   0,   0,   0,   0,   0, 230, 253, 252, 252, 252, 168,\n",
       "            0,   0,   0,   0,   0,   0,   0,   0,   0,   0,   0,   0,   0,   0],\n",
       "         [  0,   0,   0,   0,   0,   0,   0,   0, 126, 253, 252, 168,  43,   2,\n",
       "            0,   0,   0,   0,   0,   0,   0,   0,   0,   0,   0,   0,   0,   0],\n",
       "         [  0,   0,   0,   0,   0,   0,   0,   0,   0,   0,   0,   0,   0,   0,\n",
       "            0,   0,   0,   0,   0,   0,   0,   0,   0,   0,   0,   0,   0,   0],\n",
       "         [  0,   0,   0,   0,   0,   0,   0,   0,   0,   0,   0,   0,   0,   0,\n",
       "            0,   0,   0,   0,   0,   0,   0,   0,   0,   0,   0,   0,   0,   0],\n",
       "         [  0,   0,   0,   0,   0,   0,   0,   0,   0,   0,   0,   0,   0,   0,\n",
       "            0,   0,   0,   0,   0,   0,   0,   0,   0,   0,   0,   0,   0,   0]]],\n",
       "       dtype=torch.uint8)"
      ]
     },
     "execution_count": 177,
     "metadata": {},
     "output_type": "execute_result"
    }
   ],
   "source": [
    "imgtsr = torchvision.io.read_image('/home/cgb4/.fastai/data/mnist_png/training/3/37912.png')\n",
    "imgtsr"
   ]
  },
  {
   "cell_type": "markdown",
   "id": "dcdf6e38-2cc6-4b9b-a51a-4bcfe4fd039d",
   "metadata": {},
   "source": [
    "`-` 이 텐서는 (1,28,28)의 shape을 가짐"
   ]
  },
  {
   "cell_type": "code",
   "execution_count": 178,
   "id": "89e964e8-7622-4f82-8362-21cf2b9cf063",
   "metadata": {},
   "outputs": [
    {
     "data": {
      "text/plain": [
       "torch.Size([1, 28, 28])"
      ]
     },
     "execution_count": 178,
     "metadata": {},
     "output_type": "execute_result"
    }
   ],
   "source": [
    "imgtsr.shape"
   ]
  },
  {
   "cell_type": "markdown",
   "id": "25c590b0-5419-4c40-9c51-64ae074528fe",
   "metadata": {},
   "source": [
    "`-` imgtsr를 plt.imshow 로 시각화"
   ]
  },
  {
   "cell_type": "code",
   "execution_count": 179,
   "id": "c40c7061-c5a7-4ef7-b4a5-58116f719206",
   "metadata": {},
   "outputs": [
    {
     "data": {
      "text/plain": [
       "<matplotlib.image.AxesImage at 0x7f8c0e0c01d0>"
      ]
     },
     "execution_count": 179,
     "metadata": {},
     "output_type": "execute_result"
    },
    {
     "data": {
      "image/png": "[encoded data removed]",
      "text/plain": [
       "<Figure size 432x288 with 1 Axes>"
      ]
     },
     "metadata": {
      "needs_background": "light"
     },
     "output_type": "display_data"
    }
   ],
   "source": [
    "plt.imshow(imgtsr.reshape(28,28),cmap='gray')"
   ]
  },
  {
   "cell_type": "markdown",
   "id": "88f236b7-fcf4-4d86-ba4b-fd6e22065c58",
   "metadata": {},
   "source": [
    "- 진짜 숫자3이 있음 "
   ]
  },
  {
   "cell_type": "markdown",
   "id": "3d594702-e8e3-40fb-aa63-89c26c5401ba",
   "metadata": {},
   "source": [
    "### 데이터정리 "
   ]
  },
  {
   "cell_type": "code",
   "execution_count": 180,
   "id": "6f3c24d5-404d-4824-9460-828ab094217d",
   "metadata": {},
   "outputs": [
    {
     "data": {
      "text/plain": [
       "(6131, 6265)"
      ]
     },
     "execution_count": 180,
     "metadata": {},
     "output_type": "execute_result"
    }
   ],
   "source": [
    "threes = (path/'training/3').ls()\n",
    "sevens = (path/'training/7').ls()\n",
    "len(threes),len(sevens)"
   ]
  },
  {
   "cell_type": "code",
   "execution_count": 181,
   "id": "8396b19b-a8e2-451c-ae1d-5281bdecf674",
   "metadata": {},
   "outputs": [],
   "source": [
    "X3 = torch.stack([torchvision.io.read_image(str(threes[i])) for i in range(6131)])\n",
    "X7 = torch.stack([torchvision.io.read_image(str(sevens[i])) for i in range(6265)])"
   ]
  },
  {
   "cell_type": "code",
   "execution_count": 182,
   "id": "c2ddd836-0828-4fad-9d10-21975f5dcb0c",
   "metadata": {},
   "outputs": [
    {
     "data": {
      "text/plain": [
       "(torch.Size([6131, 1, 28, 28]), torch.Size([6265, 1, 28, 28]))"
      ]
     },
     "execution_count": 182,
     "metadata": {},
     "output_type": "execute_result"
    }
   ],
   "source": [
    "X3.shape,X7.shape"
   ]
  },
  {
   "cell_type": "code",
   "execution_count": 183,
   "id": "c293984b-8562-4e6e-a843-223c38aa5672",
   "metadata": {},
   "outputs": [
    {
     "data": {
      "text/plain": [
       "torch.Size([12396, 1, 28, 28])"
      ]
     },
     "execution_count": 183,
     "metadata": {},
     "output_type": "execute_result"
    }
   ],
   "source": [
    "X=torch.concat([X3,X7])\n",
    "X.shape"
   ]
  },
  {
   "cell_type": "code",
   "execution_count": 184,
   "id": "915f0a23-0f0b-424e-a575-1454590455d1",
   "metadata": {},
   "outputs": [
    {
     "data": {
      "text/plain": [
       "torch.Size([12396, 784])"
      ]
     },
     "execution_count": 184,
     "metadata": {},
     "output_type": "execute_result"
    }
   ],
   "source": [
    "Xnp = X.reshape(-1,1*28*28).float()\n",
    "Xnp.shape"
   ]
  },
  {
   "cell_type": "code",
   "execution_count": 185,
   "id": "66752d2d-4e9e-4dc6-8359-90979004e18c",
   "metadata": {},
   "outputs": [
    {
     "data": {
      "text/plain": [
       "torch.Size([12396, 1])"
      ]
     },
     "execution_count": 185,
     "metadata": {},
     "output_type": "execute_result"
    }
   ],
   "source": [
    "y = torch.tensor([0.0]*6131 + [1.0]*6265).reshape(-1,1) \n",
    "y.shape"
   ]
  },
  {
   "cell_type": "code",
   "execution_count": 186,
   "id": "e9fb0802-9036-4c90-a311-f26c666cdb96",
   "metadata": {},
   "outputs": [
    {
     "data": {
      "text/plain": [
       "[<matplotlib.lines.Line2D at 0x7f8be1648490>]"
      ]
     },
     "execution_count": 186,
     "metadata": {},
     "output_type": "execute_result"
    },
    {
     "data": {
      "image/png": "[encoded data removed]",
      "text/plain": [
       "<Figure size 432x288 with 1 Axes>"
      ]
     },
     "metadata": {
      "needs_background": "light"
     },
     "output_type": "display_data"
    }
   ],
   "source": [
    "plt.plot(y,'o')"
   ]
  },
  {
   "cell_type": "markdown",
   "id": "0ff75e82-e991-4b70-a210-2e8aa23d1f1a",
   "metadata": {},
   "source": [
    "- \"y=0\"은 숫자3을 의미, \"y=1\"은 숫자7을 의미\n",
    "- 숫자3은 6131개, 숫자7은 6265개 있음 "
   ]
  },
  {
   "cell_type": "markdown",
   "id": "1b59f936-7105-4f78-aab9-66a24bdab5f6",
   "metadata": {},
   "source": [
    "### 학습 (숙제: 스스로 확인해 볼 것) "
   ]
  },
  {
   "cell_type": "markdown",
   "id": "5488ddf3-9eef-4a8c-aa8a-286f325b89af",
   "metadata": {},
   "source": [
    "`-` 네트워크의 설계"
   ]
  },
  {
   "cell_type": "code",
   "execution_count": 187,
   "id": "bf14609c-73a1-4b1d-9ab8-f81e03fb5f37",
   "metadata": {},
   "outputs": [],
   "source": [
    "torch.manual_seed(43052)\n",
    "net = torch.nn.Sequential(\n",
    "    torch.nn.Linear(in_features=1*28*28,out_features=30),\n",
    "    torch.nn.ReLU(),\n",
    "    torch.nn.Linear(in_features=30,out_features=1),\n",
    "    torch.nn.Sigmoid()\n",
    ")"
   ]
  },
  {
   "cell_type": "markdown",
   "id": "18b5ccb9-5aee-4028-9b58-d1858bfdc0b7",
   "metadata": {},
   "source": [
    "- $\\underset{(n,784)}{\\bf X} \\overset{l_1}{\\to} \\underset{(n,30)}{\\boldsymbol u^{(1)}} \\overset{a_1}{\\to} \\underset{(n,30)}{\\boldsymbol v^{(1)}} \\overset{l_1}{\\to} \\underset{(n,1)}{\\boldsymbol u^{(2)}} \\overset{a_2}{\\to} \\underset{(n,1)}{\\boldsymbol v^{(2)}}=\\underset{(n,1)}{\\hat{\\boldsymbol y}}$"
   ]
  },
  {
   "cell_type": "code",
   "execution_count": 188,
   "id": "a1be035b-cd0a-44dd-98a6-d2be7f70d335",
   "metadata": {},
   "outputs": [],
   "source": [
    "loss_fn = torch.nn.BCELoss()"
   ]
  },
  {
   "cell_type": "code",
   "execution_count": 189,
   "id": "ade76557-f3ae-4a72-95af-5369fcafd8ce",
   "metadata": {},
   "outputs": [],
   "source": [
    "optimizr = torch.optim.Adam(net.parameters())"
   ]
  },
  {
   "cell_type": "code",
   "execution_count": 190,
   "id": "65cf6536-69c7-4f23-bc69-ce3c44e2717e",
   "metadata": {},
   "outputs": [],
   "source": [
    "for epoc in range(200):\n",
    "    ## 1\n",
    "    yhat = net(Xnp) \n",
    "    ## 2\n",
    "    loss = loss_fn(yhat,y) \n",
    "    ## 3 \n",
    "    loss.backward()\n",
    "    ## 4 \n",
    "    optimizr.step()\n",
    "    optimizr.zero_grad()"
   ]
  },
  {
   "cell_type": "code",
   "execution_count": 191,
   "id": "70508810-c906-46cf-84c3-ad413c7f0c2a",
   "metadata": {},
   "outputs": [
    {
     "data": {
      "text/plain": [
       "[<matplotlib.lines.Line2D at 0x7f8c0ee53f10>]"
      ]
     },
     "execution_count": 191,
     "metadata": {},
     "output_type": "execute_result"
    },
    {
     "data": {
      "image/png": "[encoded data removed]",
      "text/plain": [
       "<Figure size 432x288 with 1 Axes>"
      ]
     },
     "metadata": {
      "needs_background": "light"
     },
     "output_type": "display_data"
    }
   ],
   "source": [
    "plt.plot(y,'o')\n",
    "plt.plot(net(Xnp).data,'.',alpha=0.2)"
   ]
  },
  {
   "cell_type": "markdown",
   "id": "2b60e35d-108b-46c1-81e7-bd0a7530d9cd",
   "metadata": {},
   "source": [
    "- 대부분 잘 적합되었음 "
   ]
  },
  {
   "cell_type": "markdown",
   "id": "1e963452-0ff3-4200-857d-ae505c055a39",
   "metadata": {},
   "source": [
    "## 숙제 "
   ]
  },
  {
   "cell_type": "markdown",
   "id": "88b19e4f-ab49-4fa0-a4dc-1ae6f0318e16",
   "metadata": {},
   "source": [
    "(1) 숫자0과 숫자1을 구분하는 네트워크를 아래와 같은 구조로 설계하라\n",
    "\n",
    "$$\\underset{(n,784)}{\\bf X} \\overset{l_1}{\\to} \\underset{(n,64)}{\\boldsymbol u^{(1)}} \\overset{a_1}{\\to} \\underset{(n,64)}{\\boldsymbol v^{(1)}} \\overset{l_1}{\\to} \\underset{(n,1)}{\\boldsymbol u^{(2)}} \\overset{a_2}{\\to} \\underset{(n,1)}{\\boldsymbol v^{(2)}}=\\underset{(n,1)}{\\hat{\\boldsymbol y}}$$\n",
    "\n",
    "위에서 $a_1$은 relu를, $a_2$는 sigmoid를 의미한다. "
   ]
  },
  {
   "cell_type": "markdown",
   "id": "c6abcaba-8159-4820-95d4-314c418893d4",
   "metadata": {},
   "source": [
    "- \"y=0\"은 숫자0을 의미하도록 하고 \"y=1\"은 숫자1을 의미하도록 설정하라. "
   ]
  },
  {
   "cell_type": "markdown",
   "id": "0eb66b3a-0ca8-469d-998b-525aca132f4e",
   "metadata": {},
   "source": [
    "(2) 아래의 지침에 따라 손실함수와 옵티마이저를 설정하고 200 epoch 학습을 진행하라.\n",
    "- 손실함수는 BECLoss를 이용할 것. torch.nn.BCELoss() 를 이용할 것. \n",
    "- 옵티마이저는 아담으로 설정할 것. 학습률은 lr=0.002로 설정할 것. "
   ]
  },
  {
   "cell_type": "markdown",
   "id": "7a6a3311-6637-40ec-8173-dae3119d22e6",
   "metadata": {},
   "source": [
    "(3) 아래의 지침에 따라 손실함수와 옵티마이저를 설정하고 200 epoch 학습을 진행하라. 학습이 잘 되는가? \n",
    "- 손실함수는 BECLoss를 이용할 것. torch.nn.BCELoss()를 사용하지 않고 수식을 직접 입력할 것.\n",
    "- 옵티마이저는 아담으로 설정할 것. 학습률은 lr=0.002로 설정할 것. "
   ]
  },
  {
   "cell_type": "markdown",
   "id": "f1b676a7-cbfd-4e9a-9975-167426a135f4",
   "metadata": {},
   "source": [
    "(4) 아래의 지침에 따라 손실함수와 옵티마이저를 설정하고 200 epoch 학습을 진행하라. 학습이 잘 되는가? \n",
    "- 이미지의 값을 0과 1사이로 규격화 하라. (Xnp = Xnp/255 를 이용하세요!)\n",
    "- 손실함수는 BECLoss를 이용할 것. torch.nn.BCELoss()를 사용하지 않고 수식을 직접 입력할 것.\n",
    "- 옵티마이저는 아담으로 설정할 것. 학습률은 lr=0.002로 설정할 것. "
   ]
  },
  {
   "cell_type": "markdown",
   "id": "3fdb16a4-61e3-4eb0-8961-1b0131d8af43",
   "metadata": {},
   "source": [
    "(5) 아래와 같은 수식을 이용하여 accuracy를 계산하라. "
   ]
  },
  {
   "cell_type": "markdown",
   "id": "bd3c67fe-56bf-4dfc-a71c-cdcab1047417",
   "metadata": {},
   "source": [
    "$\\text{accuracy}=\\frac{1}{n}\\sum_{i=1}^n I(\\tilde{y}_i=y_i)$\n",
    "- $\\tilde{y}_i = \\begin{cases}\n",
    " 1 & \\hat{y}_i > 0.5 \\\\ \n",
    " 0 & \\hat{y}_i \\leq 0.5 \n",
    "\\end{cases}$ \n",
    "- $I(\\tilde{y}_i=y_i) = \\begin{cases} 1 & \\tilde{y}_i=y_i \\\\ 0 & \\tilde{y}_i \\neq y_i \\end{cases}$"
   ]
  },
  {
   "cell_type": "markdown",
   "id": "f38eecbe-dff1-4bac-9b9d-aa61d33212f3",
   "metadata": {},
   "source": [
    "단, $n$은 0과 1을 의미하는 이미지의 수 "
   ]
  }
 ],
 "metadata": {
  "kernelspec": {
   "display_name": "Python 3 (ipykernel)",
   "language": "python",
   "name": "python3"
  },
  "language_info": {
   "codemirror_mode": {
    "name": "ipython",
    "version": 3
   },
   "file_extension": ".py",
   "mimetype": "text/x-python",
   "name": "python",
   "nbconvert_exporter": "python",
   "pygments_lexer": "ipython3",
   "version": "3.7.13"
  }
 },
 "nbformat": 4,
 "nbformat_minor": 5
}
