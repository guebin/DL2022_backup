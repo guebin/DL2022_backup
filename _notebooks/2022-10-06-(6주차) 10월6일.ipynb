{
 "cells": [
  {
   "cell_type": "markdown",
   "id": "9319ad98-0c29-44a6-a200-312ad5d593dc",
   "metadata": {
    "tags": []
   },
   "source": [
    "# (6주차) 10월6일 -- 숙제풀이 및 해설영상추가\n",
    "> 딥러닝의 기초 - 깊은신경망(2)-- 시벤코정리, MNIST with DNN\n",
    "\n",
    "- toc:true\n",
    "- branch: master\n",
    "- badges: true\n",
    "- comments: true\n",
    "- author: 최규빈"
   ]
  },
  {
   "cell_type": "markdown",
   "id": "7b6460ba-1ef6-4702-b8c7-73b3bd4bfdd8",
   "metadata": {},
   "source": [
    "## 강의영상 \n",
    "> youtube: https://youtube.com/playlist?list=PLQqh36zP38-x9XuXWwAmKKI3JbTRoXVJA"
   ]
  },
  {
   "cell_type": "markdown",
   "id": "b87bafb6-7825-47a5-83d5-6bdb8695b86e",
   "metadata": {},
   "source": [
    "## imports"
   ]
  },
  {
   "cell_type": "code",
   "execution_count": 1,
   "id": "d3060dd4-df1d-4c54-8751-605c6eef573a",
   "metadata": {},
   "outputs": [],
   "source": [
    "import torch\n",
    "import matplotlib.pyplot as plt\n",
    "from fastai.data.all import * \n",
    "import torchvision"
   ]
  },
  {
   "cell_type": "markdown",
   "id": "e8e7e909-cf6d-44be-9d90-4d707982690a",
   "metadata": {},
   "source": [
    "## 시벤코정리 "
   ]
  },
  {
   "cell_type": "markdown",
   "id": "5baa15f5-cd35-45c3-9398-d28d4fe04420",
   "metadata": {},
   "source": [
    "### 지난시간 논리전개"
   ]
  },
  {
   "cell_type": "markdown",
   "id": "57153845-100b-417b-ad37-bb1befef7e9a",
   "metadata": {},
   "source": [
    "`-` 아이디어: linear -> relu -> linear (-> sigmoid) 조합으로 꺽은선으로 표현되는 underlying 을 표현할 수 있었다. \n",
    "- 아이디어의 실용성: 실제자료에서 꺽은선으로 표현되는 underlying은 몇개 없을 것 같음. 그건 맞는데 꺽이는 점을 많이 설정하면 얼추 비슷하게는 \"근사\" 시킬 수 있음. \n",
    "- 아이디어의 확장성: 이러한 논리전개는 X:(n,2)인 경우도 가능했음. (이 경우 꺽인선은 꺽인평면이 된다)\n",
    "- 아이디어에 해당하는 용어정리: : 이 구조가 x->y 로 바로 가는 것이 아니라 x->(u1->v1)->(u2->v2)=y 의 구조인데 이러한 네트워크를 하나의 은닉층을 포함하는 네트워크라고 표현한다. "
   ]
  },
  {
   "cell_type": "markdown",
   "id": "2ad75880-52bf-4dc2-9446-10ade3f43563",
   "metadata": {},
   "source": [
    "### 시벤코정리"
   ]
  },
  {
   "cell_type": "markdown",
   "id": "b364b9d4-3738-404e-a8f6-ba34a05f03d1",
   "metadata": {},
   "source": [
    "**universal approximation thm: (범용근사정리,보편근사정리,시벤코정리)**, 1989\n",
    "\n",
    "> 하나의 은닉층을 가지는 \"linear -> sigmoid -> linear\" 꼴의 네트워크를 이용하여 세상에 존재하는 모든 (다차원) 연속함수를 원하는 정확도로 근사시킬 수 있다. (계수를 잘 추정한다면)\n"
   ]
  },
  {
   "cell_type": "markdown",
   "id": "72ce1337-f601-4bb8-8ba6-b37245cea176",
   "metadata": {},
   "source": [
    "`-` 사실 엄청 이해안되는 정리임. 왜냐햐면,\n",
    "- 그렇게 잘 맞추면 1989년에 세상의 모든 문제를 다 풀어야 한거 아니야? \n",
    "- 요즘은 \"linear -> sigmoid -> linear\" 가 아니라 \"linear -> relu -> linear\" 조합으로 많이 쓰던데? \n",
    "- 요즘은 하나의 은닉층을 포함하는 네트워크는 잘 안쓰지 않나? 은닉층이 여러개일수록 좋다고 어디서 본 것 같은데?"
   ]
  },
  {
   "cell_type": "markdown",
   "id": "f5c79e3f-c491-4e05-ac00-2419cd58369a",
   "metadata": {},
   "source": [
    "`-` 약간의 의구심이 있지만 아무튼 universal approximation thm에 따르면 우리는 아래와 같은 무기를 가진 꼴이 된다. \n",
    "- 우리의 무기: ${\\bf X}: (n,p)$ 꼴의 입력에서 ${\\bf y}:(n,1)$ 꼴의 출력으로 향하는 맵핑을 \"linear -> relu -> linear\"와 같은 네트워크를 이용해서 \"근사\"시킬 수 있다."
   ]
  },
  {
   "cell_type": "markdown",
   "id": "5a2daeb2-cccc-4056-b16f-daa9d6b2852f",
   "metadata": {},
   "source": [
    "## MNIST with DNN"
   ]
  },
  {
   "cell_type": "markdown",
   "id": "952952f3-1c31-430e-ab8f-4a21d0e51354",
   "metadata": {},
   "source": [
    "### 목표 "
   ]
  },
  {
   "cell_type": "markdown",
   "id": "1d906dd0-2397-4f66-98a8-d4a0764ff218",
   "metadata": {},
   "source": [
    "`-` 목표: ${\\bf X}:(n,1,28,28)$ 에서 $y:(n,1)$ 로 가는 맵핑을 학습하자 --> 배운적이 없는데? --> ${\\bf X}:(n,784)$ 에서 $y:(n,1)$ 로 가는 맵핑을 학습하자.. "
   ]
  },
  {
   "cell_type": "markdown",
   "id": "100c09e2-a036-41d4-930c-5f49a645fbf1",
   "metadata": {
    "tags": []
   },
   "source": [
    "### 예비학습1: Path"
   ]
  },
  {
   "cell_type": "code",
   "execution_count": 2,
   "id": "cb0bb8e1-5446-4e28-bbb7-525c8160dbda",
   "metadata": {},
   "outputs": [
    {
     "data": {
      "text/plain": [
       "Path('/home/cgb4/.fastai/data/mnist_png')"
      ]
     },
     "execution_count": 2,
     "metadata": {},
     "output_type": "execute_result"
    }
   ],
   "source": [
    "path = untar_data(URLs.MNIST) \n",
    "path"
   ]
  },
  {
   "cell_type": "markdown",
   "id": "996bec2e-9099-44d6-bc1b-0286f4ac42cc",
   "metadata": {},
   "source": [
    "- path 도 오브젝트임\n",
    "- path 도 정보+기능이 있음 "
   ]
  },
  {
   "cell_type": "markdown",
   "id": "e18fd206-af39-4770-a744-d43a1c0d1e2f",
   "metadata": {},
   "source": [
    "`-` path의 정보"
   ]
  },
  {
   "cell_type": "code",
   "execution_count": 3,
   "id": "fe96d16c-274e-4673-839b-a9b8ecdc4041",
   "metadata": {},
   "outputs": [
    {
     "data": {
      "text/plain": [
       "'/home/cgb4/.fastai/data/mnist_png'"
      ]
     },
     "execution_count": 3,
     "metadata": {},
     "output_type": "execute_result"
    }
   ],
   "source": [
    "path._str # 숨겨놓았네?"
   ]
  },
  {
   "cell_type": "markdown",
   "id": "eeecefd7-a73e-4c4b-848e-255156051e86",
   "metadata": {},
   "source": [
    "`-` 기능1"
   ]
  },
  {
   "cell_type": "code",
   "execution_count": 4,
   "id": "d379a793-762c-437a-be75-c305ca55f626",
   "metadata": {},
   "outputs": [
    {
     "data": {
      "text/plain": [
       "(#2) [Path('/home/cgb4/.fastai/data/mnist_png/training'),Path('/home/cgb4/.fastai/data/mnist_png/testing')]"
      ]
     },
     "execution_count": 4,
     "metadata": {},
     "output_type": "execute_result"
    }
   ],
   "source": [
    "path.ls()"
   ]
  },
  {
   "cell_type": "markdown",
   "id": "4ac2f743-b4be-4973-8041-715bc73b9548",
   "metadata": {},
   "source": [
    "`-` 기능2"
   ]
  },
  {
   "cell_type": "code",
   "execution_count": 5,
   "id": "5492dd53-02fd-4f49-9e7a-16e7ad6b1793",
   "metadata": {},
   "outputs": [
    {
     "data": {
      "text/plain": [
       "Path('/home/cgb4/.fastai/data/mnist_png/training')"
      ]
     },
     "execution_count": 5,
     "metadata": {},
     "output_type": "execute_result"
    }
   ],
   "source": [
    "path/'training'"
   ]
  },
  {
   "cell_type": "code",
   "execution_count": 6,
   "id": "35427a5e-6196-4882-9d3d-098de9b918a0",
   "metadata": {},
   "outputs": [
    {
     "data": {
      "text/plain": [
       "Path('/home/cgb4/.fastai/data/mnist_png/testing')"
      ]
     },
     "execution_count": 6,
     "metadata": {},
     "output_type": "execute_result"
    }
   ],
   "source": [
    "path/'testing'"
   ]
  },
  {
   "cell_type": "markdown",
   "id": "819aa5b8-1295-47c5-bc8b-e2704f4bcfc4",
   "metadata": {},
   "source": [
    "`-` 기능1과 기능2의 결합"
   ]
  },
  {
   "cell_type": "code",
   "execution_count": 7,
   "id": "c0291137-a31d-42b1-9349-4214fbc5ea67",
   "metadata": {},
   "outputs": [
    {
     "data": {
      "text/plain": [
       "(#6131) [Path('/home/cgb4/.fastai/data/mnist_png/training/3/37912.png'),Path('/home/cgb4/.fastai/data/mnist_png/training/3/12933.png'),Path('/home/cgb4/.fastai/data/mnist_png/training/3/3576.png'),Path('/home/cgb4/.fastai/data/mnist_png/training/3/59955.png'),Path('/home/cgb4/.fastai/data/mnist_png/training/3/23144.png'),Path('/home/cgb4/.fastai/data/mnist_png/training/3/40836.png'),Path('/home/cgb4/.fastai/data/mnist_png/training/3/25536.png'),Path('/home/cgb4/.fastai/data/mnist_png/training/3/42669.png'),Path('/home/cgb4/.fastai/data/mnist_png/training/3/7046.png'),Path('/home/cgb4/.fastai/data/mnist_png/training/3/47380.png')...]"
      ]
     },
     "execution_count": 7,
     "metadata": {},
     "output_type": "execute_result"
    }
   ],
   "source": [
    "(path/'training/3').ls()"
   ]
  },
  {
   "cell_type": "markdown",
   "id": "d90bbd8c-2e11-4652-b69a-5248296e0021",
   "metadata": {},
   "source": [
    "- '/home/cgb4/.fastai/data/mnist_png/training/3/37912.png' 이 파일을 더블클릭하면 이미지가 보인단 말임"
   ]
  },
  {
   "cell_type": "markdown",
   "id": "a6eb0b83-1af7-4a57-a314-bb2dfa75e081",
   "metadata": {},
   "source": [
    "### 예비학습2: plt.imshow "
   ]
  },
  {
   "cell_type": "code",
   "execution_count": 8,
   "id": "ba7e2daa-28fa-4ff9-85b5-517bee67a65c",
   "metadata": {},
   "outputs": [
    {
     "data": {
      "text/plain": [
       "tensor([[1., 2.],\n",
       "        [2., 4.]])"
      ]
     },
     "execution_count": 8,
     "metadata": {},
     "output_type": "execute_result"
    }
   ],
   "source": [
    "imgtsr = torch.tensor([[1.0,2],[2.0,4.0]])\n",
    "imgtsr"
   ]
  },
  {
   "cell_type": "code",
   "execution_count": 9,
   "id": "79012294-ff6c-49c8-85cd-53f32282498f",
   "metadata": {},
   "outputs": [
    {
     "data": {
      "text/plain": [
       "<matplotlib.colorbar.Colorbar at 0x7fceac108e50>"
      ]
     },
     "execution_count": 9,
     "metadata": {},
     "output_type": "execute_result"
    },
    {
     "data": {
      "image/png": "[encoded data removed]",
      "text/plain": [
       "<Figure size 432x288 with 2 Axes>"
      ]
     },
     "metadata": {
      "needs_background": "light"
     },
     "output_type": "display_data"
    }
   ],
   "source": [
    "plt.imshow(imgtsr,cmap='gray')\n",
    "plt.colorbar()"
   ]
  },
  {
   "cell_type": "markdown",
   "id": "2074cbfb-db4a-4de0-85fc-d9d9ed97dfb2",
   "metadata": {},
   "source": [
    "### 예비학습3: torchvision"
   ]
  },
  {
   "cell_type": "markdown",
   "id": "208d7fe7-2a93-4752-85a5-356ba6482a55",
   "metadata": {},
   "source": [
    "`-` '/home/cgb4/.fastai/data/mnist_png/training/3/37912.png'의 이미지파일을 torchvision.io.read_image 를 이용하여 텐서로 만듬"
   ]
  },
  {
   "cell_type": "code",
   "execution_count": 10,
   "id": "701e8745-c573-4e9f-94d2-76976cab4878",
   "metadata": {},
   "outputs": [
    {
     "data": {
      "text/plain": [
       "tensor([[[  0,   0,   0,   0,   0,   0,   0,   0,   0,   0,   0,   0,   0,   0,\n",
       "            0,   0,   0,   0,   0,   0,   0,   0,   0,   0,   0,   0,   0,   0],\n",
       "         [  0,   0,   0,   0,   0,   0,   0,   0,   0,   0,   0,   0,   0,   0,\n",
       "            0,   0,   0,   0,   0,   0,   0,   0,   0,   0,   0,   0,   0,   0],\n",
       "         [  0,   0,   0,   0,   0,   0,   0,   0,   0,   0,   0,   0,   0,   0,\n",
       "            0,   0,   0,   0,   0,   0,   0,   0,   0,   0,   0,   0,   0,   0],\n",
       "         [  0,   0,   0,   0,   0,   0,   0,   0,   0,   0,   0,   0,   0,   0,\n",
       "            0,   0,   0,   0,   0,   0,   0,   0,   0,   0,   0,   0,   0,   0],\n",
       "         [  0,   0,   0,   0,   0,   0,   0,   0,   0,   0,   0,   0,   0,   0,\n",
       "            0,   0,   0,   0,   0,   0,   0,   0,   0,   0,   0,   0,   0,   0],\n",
       "         [  0,   0,   0,   0,   0,   0,   0,   0,   0,   0,   0,  17,  66, 138,\n",
       "          149, 180, 138, 138,  86,   0,   0,   0,   0,   0,   0,   0,   0,   0],\n",
       "         [  0,   0,   0,   0,   0,   0,   0,   0,  22, 162, 161, 228, 252, 252,\n",
       "          253, 252, 252, 252, 252,  74,   0,   0,   0,   0,   0,   0,   0,   0],\n",
       "         [  0,   0,   0,   0,   0,   0,   0,   0, 116, 253, 252, 252, 252, 189,\n",
       "          184, 110, 119, 252, 252,  32,   0,   0,   0,   0,   0,   0,   0,   0],\n",
       "         [  0,   0,   0,   0,   0,   0,   0,   0,  74, 161, 160,  77,  45,   4,\n",
       "            0,   0,  70, 252, 210,   0,   0,   0,   0,   0,   0,   0,   0,   0],\n",
       "         [  0,   0,   0,   0,   0,   0,   0,   0,   0,   0,   0,   0,   0,   0,\n",
       "            0,  22, 205, 252,  32,   0,   0,   0,   0,   0,   0,   0,   0,   0],\n",
       "         [  0,   0,   0,   0,   0,   0,   0,   0,   0,   0,   0,   0,   0,   0,\n",
       "            0, 162, 253, 245,  21,   0,   0,   0,   0,   0,   0,   0,   0,   0],\n",
       "         [  0,   0,   0,   0,   0,   0,   0,   0,   0,   0,   0,   0,   0,   0,\n",
       "           36, 219, 252, 139,   0,   0,   0,   0,   0,   0,   0,   0,   0,   0],\n",
       "         [  0,   0,   0,   0,   0,   0,   0,   0,   0,   0,   0,   0,   0,   0,\n",
       "          222, 252, 202,  13,   0,   0,   0,   0,   0,   0,   0,   0,   0,   0],\n",
       "         [  0,   0,   0,   0,   0,   0,   0,   0,   0,   0,   0,   0,   0,  43,\n",
       "          253, 252,  89,   0,   0,   0,   0,   0,   0,   0,   0,   0,   0,   0],\n",
       "         [  0,   0,   0,   0,   0,   0,   0,   0,   0,   0,   0,   0,  85, 240,\n",
       "          253, 157,   6,   0,   0,   0,   0,   0,   0,   0,   0,   0,   0,   0],\n",
       "         [  0,   0,   0,   0,   0,   0,   0,   0,   0,   0,   0,   7, 160, 253,\n",
       "          231,  42,   0,   0,   0,   0,   0,   0,   0,   0,   0,   0,   0,   0],\n",
       "         [  0,   0,   0,   0,   0,   0,   0,   0,   0,   0,   0, 142, 252, 252,\n",
       "           42,  30,  78, 161,  36,   0,   0,   0,   0,   0,   0,   0,   0,   0],\n",
       "         [  0,   0,   0,   0,   0,   0,   0,   0,   0,   0,   0, 184, 252, 252,\n",
       "          185, 228, 252, 252, 168,   0,   0,   0,   0,   0,   0,   0,   0,   0],\n",
       "         [  0,   0,   0,   0,   0,   0,   0,   0,   0,   0,   0, 184, 252, 252,\n",
       "          253, 252, 252, 252, 116,   0,   0,   0,   0,   0,   0,   0,   0,   0],\n",
       "         [  0,   0,   0,   0,   0,   0,   0,   0,   0,   0,   0, 101, 179, 252,\n",
       "          253, 252, 252, 210,  12,   0,   0,   0,   0,   0,   0,   0,   0,   0],\n",
       "         [  0,   0,   0,   0,   0,   0,   0,   0,   0,   0,   0,   0,   0,  22,\n",
       "          255, 253, 215,  21,   0,   0,   0,   0,   0,   0,   0,   0,   0,   0],\n",
       "         [  0,   0,   0,   0,   0,   0,   0,   0,   0,   0,   0,  34,  89, 244,\n",
       "          253, 223,  98,   0,   0,   0,   0,   0,   0,   0,   0,   0,   0,   0],\n",
       "         [  0,   0,   0,   0,   0,   0,   0,   0, 116, 123, 142, 234, 252, 252,\n",
       "          184,  67,   0,   0,   0,   0,   0,   0,   0,   0,   0,   0,   0,   0],\n",
       "         [  0,   0,   0,   0,   0,   0,   0,   0, 230, 253, 252, 252, 252, 168,\n",
       "            0,   0,   0,   0,   0,   0,   0,   0,   0,   0,   0,   0,   0,   0],\n",
       "         [  0,   0,   0,   0,   0,   0,   0,   0, 126, 253, 252, 168,  43,   2,\n",
       "            0,   0,   0,   0,   0,   0,   0,   0,   0,   0,   0,   0,   0,   0],\n",
       "         [  0,   0,   0,   0,   0,   0,   0,   0,   0,   0,   0,   0,   0,   0,\n",
       "            0,   0,   0,   0,   0,   0,   0,   0,   0,   0,   0,   0,   0,   0],\n",
       "         [  0,   0,   0,   0,   0,   0,   0,   0,   0,   0,   0,   0,   0,   0,\n",
       "            0,   0,   0,   0,   0,   0,   0,   0,   0,   0,   0,   0,   0,   0],\n",
       "         [  0,   0,   0,   0,   0,   0,   0,   0,   0,   0,   0,   0,   0,   0,\n",
       "            0,   0,   0,   0,   0,   0,   0,   0,   0,   0,   0,   0,   0,   0]]],\n",
       "       dtype=torch.uint8)"
      ]
     },
     "execution_count": 10,
     "metadata": {},
     "output_type": "execute_result"
    }
   ],
   "source": [
    "imgtsr = torchvision.io.read_image('/home/cgb4/.fastai/data/mnist_png/training/3/37912.png')\n",
    "imgtsr"
   ]
  },
  {
   "cell_type": "markdown",
   "id": "dcdf6e38-2cc6-4b9b-a51a-4bcfe4fd039d",
   "metadata": {},
   "source": [
    "`-` 이 텐서는 (1,28,28)의 shape을 가짐"
   ]
  },
  {
   "cell_type": "code",
   "execution_count": 11,
   "id": "89e964e8-7622-4f82-8362-21cf2b9cf063",
   "metadata": {},
   "outputs": [
    {
     "data": {
      "text/plain": [
       "torch.Size([1, 28, 28])"
      ]
     },
     "execution_count": 11,
     "metadata": {},
     "output_type": "execute_result"
    }
   ],
   "source": [
    "imgtsr.shape"
   ]
  },
  {
   "cell_type": "markdown",
   "id": "25c590b0-5419-4c40-9c51-64ae074528fe",
   "metadata": {},
   "source": [
    "`-` imgtsr를 plt.imshow 로 시각화"
   ]
  },
  {
   "cell_type": "code",
   "execution_count": 12,
   "id": "c40c7061-c5a7-4ef7-b4a5-58116f719206",
   "metadata": {},
   "outputs": [
    {
     "data": {
      "text/plain": [
       "<matplotlib.image.AxesImage at 0x7fceabd49a90>"
      ]
     },
     "execution_count": 12,
     "metadata": {},
     "output_type": "execute_result"
    },
    {
     "data": {
      "image/png": "[encoded data removed]",
      "text/plain": [
       "<Figure size 432x288 with 1 Axes>"
      ]
     },
     "metadata": {
      "needs_background": "light"
     },
     "output_type": "display_data"
    }
   ],
   "source": [
    "plt.imshow(imgtsr.reshape(28,28),cmap='gray')"
   ]
  },
  {
   "cell_type": "markdown",
   "id": "88f236b7-fcf4-4d86-ba4b-fd6e22065c58",
   "metadata": {},
   "source": [
    "- 진짜 숫자3이 있음 "
   ]
  },
  {
   "cell_type": "markdown",
   "id": "3d594702-e8e3-40fb-aa63-89c26c5401ba",
   "metadata": {},
   "source": [
    "### 데이터정리 "
   ]
  },
  {
   "cell_type": "code",
   "execution_count": 13,
   "id": "6f3c24d5-404d-4824-9460-828ab094217d",
   "metadata": {},
   "outputs": [
    {
     "data": {
      "text/plain": [
       "(6131, 6265)"
      ]
     },
     "execution_count": 13,
     "metadata": {},
     "output_type": "execute_result"
    }
   ],
   "source": [
    "threes = (path/'training/3').ls()\n",
    "sevens = (path/'training/7').ls()\n",
    "len(threes),len(sevens)"
   ]
  },
  {
   "cell_type": "code",
   "execution_count": 14,
   "id": "8396b19b-a8e2-451c-ae1d-5281bdecf674",
   "metadata": {},
   "outputs": [],
   "source": [
    "X3 = torch.stack([torchvision.io.read_image(str(threes[i])) for i in range(6131)])\n",
    "X7 = torch.stack([torchvision.io.read_image(str(sevens[i])) for i in range(6265)])"
   ]
  },
  {
   "cell_type": "code",
   "execution_count": 15,
   "id": "c2ddd836-0828-4fad-9d10-21975f5dcb0c",
   "metadata": {},
   "outputs": [
    {
     "data": {
      "text/plain": [
       "(torch.Size([6131, 1, 28, 28]), torch.Size([6265, 1, 28, 28]))"
      ]
     },
     "execution_count": 15,
     "metadata": {},
     "output_type": "execute_result"
    }
   ],
   "source": [
    "X3.shape,X7.shape"
   ]
  },
  {
   "cell_type": "code",
   "execution_count": 16,
   "id": "c293984b-8562-4e6e-a843-223c38aa5672",
   "metadata": {},
   "outputs": [
    {
     "data": {
      "text/plain": [
       "torch.Size([12396, 1, 28, 28])"
      ]
     },
     "execution_count": 16,
     "metadata": {},
     "output_type": "execute_result"
    }
   ],
   "source": [
    "X=torch.concat([X3,X7])\n",
    "X.shape"
   ]
  },
  {
   "cell_type": "code",
   "execution_count": 17,
   "id": "915f0a23-0f0b-424e-a575-1454590455d1",
   "metadata": {},
   "outputs": [
    {
     "data": {
      "text/plain": [
       "torch.Size([12396, 784])"
      ]
     },
     "execution_count": 17,
     "metadata": {},
     "output_type": "execute_result"
    }
   ],
   "source": [
    "Xnp = X.reshape(-1,1*28*28).float()\n",
    "Xnp.shape"
   ]
  },
  {
   "cell_type": "code",
   "execution_count": 18,
   "id": "66752d2d-4e9e-4dc6-8359-90979004e18c",
   "metadata": {},
   "outputs": [
    {
     "data": {
      "text/plain": [
       "torch.Size([12396, 1])"
      ]
     },
     "execution_count": 18,
     "metadata": {},
     "output_type": "execute_result"
    }
   ],
   "source": [
    "y = torch.tensor([0.0]*6131 + [1.0]*6265).reshape(-1,1) \n",
    "y.shape"
   ]
  },
  {
   "cell_type": "code",
   "execution_count": 19,
   "id": "e9fb0802-9036-4c90-a311-f26c666cdb96",
   "metadata": {},
   "outputs": [
    {
     "data": {
      "text/plain": [
       "[<matplotlib.lines.Line2D at 0x7fceab1cde50>]"
      ]
     },
     "execution_count": 19,
     "metadata": {},
     "output_type": "execute_result"
    },
    {
     "data": {
      "image/png": "[encoded data removed]",
      "text/plain": [
       "<Figure size 432x288 with 1 Axes>"
      ]
     },
     "metadata": {
      "needs_background": "light"
     },
     "output_type": "display_data"
    }
   ],
   "source": [
    "plt.plot(y,'o')"
   ]
  },
  {
   "cell_type": "markdown",
   "id": "0ff75e82-e991-4b70-a210-2e8aa23d1f1a",
   "metadata": {},
   "source": [
    "- \"y=0\"은 숫자3을 의미, \"y=1\"은 숫자7을 의미\n",
    "- 숫자3은 6131개, 숫자7은 6265개 있음 "
   ]
  },
  {
   "cell_type": "markdown",
   "id": "1b59f936-7105-4f78-aab9-66a24bdab5f6",
   "metadata": {},
   "source": [
    "### 학습 (숙제: 스스로 확인해 볼 것) "
   ]
  },
  {
   "cell_type": "markdown",
   "id": "5488ddf3-9eef-4a8c-aa8a-286f325b89af",
   "metadata": {},
   "source": [
    "`-` 네트워크의 설계"
   ]
  },
  {
   "cell_type": "code",
   "execution_count": 20,
   "id": "bf14609c-73a1-4b1d-9ab8-f81e03fb5f37",
   "metadata": {},
   "outputs": [],
   "source": [
    "torch.manual_seed(43052)\n",
    "net = torch.nn.Sequential(\n",
    "    torch.nn.Linear(in_features=1*28*28,out_features=30),\n",
    "    torch.nn.ReLU(),\n",
    "    torch.nn.Linear(in_features=30,out_features=1),\n",
    "    torch.nn.Sigmoid()\n",
    ")"
   ]
  },
  {
   "cell_type": "markdown",
   "id": "18b5ccb9-5aee-4028-9b58-d1858bfdc0b7",
   "metadata": {},
   "source": [
    "- $\\underset{(n,784)}{\\bf X} \\overset{l_1}{\\to} \\underset{(n,30)}{\\boldsymbol u^{(1)}} \\overset{a_1}{\\to} \\underset{(n,30)}{\\boldsymbol v^{(1)}} \\overset{l_1}{\\to} \\underset{(n,1)}{\\boldsymbol u^{(2)}} \\overset{a_2}{\\to} \\underset{(n,1)}{\\boldsymbol v^{(2)}}=\\underset{(n,1)}{\\hat{\\boldsymbol y}}$"
   ]
  },
  {
   "cell_type": "code",
   "execution_count": 21,
   "id": "a1be035b-cd0a-44dd-98a6-d2be7f70d335",
   "metadata": {},
   "outputs": [],
   "source": [
    "loss_fn = torch.nn.BCELoss()"
   ]
  },
  {
   "cell_type": "code",
   "execution_count": 22,
   "id": "ade76557-f3ae-4a72-95af-5369fcafd8ce",
   "metadata": {},
   "outputs": [],
   "source": [
    "optimizr = torch.optim.Adam(net.parameters())"
   ]
  },
  {
   "cell_type": "code",
   "execution_count": 23,
   "id": "65cf6536-69c7-4f23-bc69-ce3c44e2717e",
   "metadata": {},
   "outputs": [],
   "source": [
    "for epoc in range(200):\n",
    "    ## 1\n",
    "    yhat = net(Xnp) \n",
    "    ## 2\n",
    "    loss = loss_fn(yhat,y) \n",
    "    ## 3 \n",
    "    loss.backward()\n",
    "    ## 4 \n",
    "    optimizr.step()\n",
    "    optimizr.zero_grad()"
   ]
  },
  {
   "cell_type": "code",
   "execution_count": 24,
   "id": "70508810-c906-46cf-84c3-ad413c7f0c2a",
   "metadata": {},
   "outputs": [
    {
     "data": {
      "text/plain": [
       "[<matplotlib.lines.Line2D at 0x7fceab06af50>]"
      ]
     },
     "execution_count": 24,
     "metadata": {},
     "output_type": "execute_result"
    },
    {
     "data": {
      "image/png": "[encoded data removed]",
      "text/plain": [
       "<Figure size 432x288 with 1 Axes>"
      ]
     },
     "metadata": {
      "needs_background": "light"
     },
     "output_type": "display_data"
    }
   ],
   "source": [
    "plt.plot(y,'o')\n",
    "plt.plot(net(Xnp).data,'.',alpha=0.2)"
   ]
  },
  {
   "cell_type": "markdown",
   "id": "2b60e35d-108b-46c1-81e7-bd0a7530d9cd",
   "metadata": {},
   "source": [
    "- 대부분 잘 적합되었음 "
   ]
  },
  {
   "cell_type": "markdown",
   "id": "1e963452-0ff3-4200-857d-ae505c055a39",
   "metadata": {},
   "source": [
    "## 숙제 "
   ]
  },
  {
   "cell_type": "markdown",
   "id": "fc0451e5-de15-427b-a830-171c6ba1e477",
   "metadata": {},
   "source": [
    "> youtube: https://youtube.com/playlist?list=PLQqh36zP38-zEUnVaQveVvRD-eMBPtxIp"
   ]
  },
  {
   "cell_type": "markdown",
   "id": "88b19e4f-ab49-4fa0-a4dc-1ae6f0318e16",
   "metadata": {},
   "source": [
    "(1) 숫자0과 숫자1을 구분하는 네트워크를 아래와 같은 구조로 설계하라\n",
    "\n",
    "$$\\underset{(n,784)}{\\bf X} \\overset{l_1}{\\to} \\underset{(n,64)}{\\boldsymbol u^{(1)}} \\overset{a_1}{\\to} \\underset{(n,64)}{\\boldsymbol v^{(1)}} \\overset{l_1}{\\to} \\underset{(n,1)}{\\boldsymbol u^{(2)}} \\overset{a_2}{\\to} \\underset{(n,1)}{\\boldsymbol v^{(2)}}=\\underset{(n,1)}{\\hat{\\boldsymbol y}}$$\n",
    "\n",
    "위에서 $a_1$은 relu를, $a_2$는 sigmoid를 의미한다. "
   ]
  },
  {
   "cell_type": "markdown",
   "id": "c6abcaba-8159-4820-95d4-314c418893d4",
   "metadata": {},
   "source": [
    "- \"y=0\"은 숫자0을 의미하도록 하고 \"y=1\"은 숫자1을 의미하도록 설정하라. "
   ]
  },
  {
   "cell_type": "markdown",
   "id": "e62c2d73-6fdf-4f0c-ae40-b394da06c647",
   "metadata": {},
   "source": [
    "(풀이)"
   ]
  },
  {
   "cell_type": "code",
   "execution_count": 452,
   "id": "917cc74b-ba18-4df0-910b-bba72782b2a1",
   "metadata": {},
   "outputs": [],
   "source": [
    "path = untar_data(URLs.MNIST)"
   ]
  },
  {
   "cell_type": "code",
   "execution_count": 453,
   "id": "6c862be4-44c7-416c-99b1-415d0e0b9e49",
   "metadata": {},
   "outputs": [],
   "source": [
    "X0 = torch.stack([torchvision.io.read_image(str(fname)) for fname in (path/'training/0').ls()])\n",
    "X1 = torch.stack([torchvision.io.read_image(str(fname)) for fname in (path/'training/1').ls()])\n",
    "X = torch.concat([X0,X1]).reshape(-1,1*28*28).float()\n",
    "y = torch.tensor([0.0]*len(X0) + [1.0]*len(X1)).reshape(-1,1)"
   ]
  },
  {
   "cell_type": "code",
   "execution_count": 454,
   "id": "19096517-9625-4db1-9ff4-9aba87f731e7",
   "metadata": {},
   "outputs": [],
   "source": [
    "torch.manual_seed(43052)\n",
    "net = torch.nn.Sequential(\n",
    "    torch.nn.Linear(in_features=784,out_features=64),\n",
    "    torch.nn.ReLU(),\n",
    "    torch.nn.Linear(in_features=64,out_features=1),\n",
    "    torch.nn.Sigmoid())"
   ]
  },
  {
   "cell_type": "markdown",
   "id": "0eb66b3a-0ca8-469d-998b-525aca132f4e",
   "metadata": {},
   "source": [
    "(2) 아래의 지침에 따라 200 epoch 학습을 진행하라.\n",
    "- 손실함수는 BECLoss를 이용할 것. torch.nn.BCELoss() 를 이용할 것. \n",
    "- 옵티마이저는 아담으로 설정할 것. 학습률은 lr=0.002로 설정할 것. "
   ]
  },
  {
   "cell_type": "markdown",
   "id": "a1508d67-8276-453f-8628-df7f9f149656",
   "metadata": {},
   "source": [
    "(풀이)"
   ]
  },
  {
   "cell_type": "code",
   "execution_count": 455,
   "id": "2cc25642-abc1-471c-b7ec-6948fea90c82",
   "metadata": {},
   "outputs": [],
   "source": [
    "loss_fn = torch.nn.BCELoss()\n",
    "optimizr = torch.optim.Adam(net.parameters(),lr=0.002)"
   ]
  },
  {
   "cell_type": "code",
   "execution_count": 456,
   "id": "4c589712-bb73-4d51-a00f-0de28020f941",
   "metadata": {},
   "outputs": [],
   "source": [
    "for epoc in range(200):\n",
    "    ## 1 \n",
    "    yhat = net(X) \n",
    "    ## 2 \n",
    "    loss = loss_fn(yhat,y)\n",
    "    ## 3 \n",
    "    loss.backward()\n",
    "    ## 4 \n",
    "    optimizr.step()\n",
    "    optimizr.zero_grad()"
   ]
  },
  {
   "cell_type": "code",
   "execution_count": 457,
   "id": "c46de28d-e704-41fb-8837-84005b51fc92",
   "metadata": {},
   "outputs": [
    {
     "data": {
      "text/plain": [
       "[<matplotlib.lines.Line2D at 0x7fcea745cc50>]"
      ]
     },
     "execution_count": 457,
     "metadata": {},
     "output_type": "execute_result"
    },
    {
     "data": {
      "image/png": "[encoded data removed]",
      "text/plain": [
       "<Figure size 432x288 with 1 Axes>"
      ]
     },
     "metadata": {
      "needs_background": "light"
     },
     "output_type": "display_data"
    }
   ],
   "source": [
    "plt.plot(y)\n",
    "plt.plot(yhat.data,'.',alpha=0.5)"
   ]
  },
  {
   "cell_type": "markdown",
   "id": "7a6a3311-6637-40ec-8173-dae3119d22e6",
   "metadata": {},
   "source": [
    "(3) 아래의 지침에 따라 200 epoch 학습을 진행하라. 학습이 잘 되는가? \n",
    "- 손실함수는 BECLoss를 이용할 것. torch.nn.BCELoss()를 사용하지 않고 수식을 직접 입력할 것.\n",
    "- 옵티마이저는 아담으로 설정할 것. 학습률은 lr=0.002로 설정할 것. "
   ]
  },
  {
   "cell_type": "markdown",
   "id": "ea295b4b-9488-4f28-9491-51ff4ea6f483",
   "metadata": {},
   "source": [
    "(풀이)"
   ]
  },
  {
   "cell_type": "code",
   "execution_count": 458,
   "id": "49e79aa3-96a5-4018-98ee-5ec5724c3f1d",
   "metadata": {},
   "outputs": [],
   "source": [
    "torch.manual_seed(43052)\n",
    "net = torch.nn.Sequential(\n",
    "    torch.nn.Linear(in_features=784,out_features=64),\n",
    "    torch.nn.ReLU(),\n",
    "    torch.nn.Linear(in_features=64,out_features=1),\n",
    "    torch.nn.Sigmoid())"
   ]
  },
  {
   "cell_type": "code",
   "execution_count": 459,
   "id": "f458c047-40bc-4f80-9209-ff367cfc6e43",
   "metadata": {},
   "outputs": [],
   "source": [
    "#loss_fn = torch.nn.BCELoss()\n",
    "optimizr = torch.optim.Adam(net.parameters(),lr=0.002)"
   ]
  },
  {
   "cell_type": "code",
   "execution_count": 460,
   "id": "8888f074-51e8-443c-b02b-a6ef612c9b5a",
   "metadata": {},
   "outputs": [],
   "source": [
    "for epoc in range(200):\n",
    "    ## 1 \n",
    "    yhat = net(X) \n",
    "    ## 2 \n",
    "    loss = -torch.mean(y*torch.log(yhat) + (1-y)*torch.log(1-yhat))\n",
    "    ## 3 \n",
    "    loss.backward()\n",
    "    ## 4 \n",
    "    optimizr.step()\n",
    "    optimizr.zero_grad()"
   ]
  },
  {
   "cell_type": "code",
   "execution_count": 461,
   "id": "a52ec28e-502c-4377-b4ce-9f0f6a02d692",
   "metadata": {},
   "outputs": [
    {
     "data": {
      "text/plain": [
       "[<matplotlib.lines.Line2D at 0x7fcea6dfead0>]"
      ]
     },
     "execution_count": 461,
     "metadata": {},
     "output_type": "execute_result"
    },
    {
     "data": {
      "image/png": "[encoded data removed]",
      "text/plain": [
       "<Figure size 432x288 with 1 Axes>"
      ]
     },
     "metadata": {
      "needs_background": "light"
     },
     "output_type": "display_data"
    }
   ],
   "source": [
    "plt.plot(y)\n",
    "plt.plot(yhat.data,'.',alpha=0.5)"
   ]
  },
  {
   "cell_type": "code",
   "execution_count": 462,
   "id": "6be6ecaf-17ed-46ff-8f96-533f42a3276a",
   "metadata": {},
   "outputs": [
    {
     "data": {
      "text/plain": [
       "tensor([[nan],\n",
       "        [nan],\n",
       "        [nan],\n",
       "        ...,\n",
       "        [nan],\n",
       "        [nan],\n",
       "        [nan]])"
      ]
     },
     "execution_count": 462,
     "metadata": {},
     "output_type": "execute_result"
    }
   ],
   "source": [
    "yhat.data"
   ]
  },
  {
   "cell_type": "markdown",
   "id": "f2c7dea4-b0b3-476b-aaf5-1ba2dc9c5ff7",
   "metadata": {},
   "source": [
    "- 학습이 잘 안되었다!"
   ]
  },
  {
   "cell_type": "markdown",
   "id": "f1b676a7-cbfd-4e9a-9975-167426a135f4",
   "metadata": {},
   "source": [
    "(4) 아래의 지침에 따라 200 epoch 학습을 진행하라. 학습이 잘 되는가? \n",
    "- 이미지의 값을 0과 1사이로 규격화 하라. (Xnp = Xnp/255 를 이용하세요!)\n",
    "- 손실함수는 BECLoss를 이용할 것. torch.nn.BCELoss()를 사용하지 않고 수식을 직접 입력할 것.\n",
    "- 옵티마이저는 아담으로 설정할 것. 학습률은 lr=0.002로 설정할 것. "
   ]
  },
  {
   "cell_type": "code",
   "execution_count": 463,
   "id": "353b5c09-c3db-49c4-846b-4128f59f1f27",
   "metadata": {},
   "outputs": [],
   "source": [
    "X = X/255 "
   ]
  },
  {
   "cell_type": "code",
   "execution_count": 464,
   "id": "3fd12d09-9316-48dd-b742-011f3f18a6bd",
   "metadata": {},
   "outputs": [],
   "source": [
    "torch.manual_seed(43052)\n",
    "net = torch.nn.Sequential(\n",
    "    torch.nn.Linear(in_features=784,out_features=64),\n",
    "    torch.nn.ReLU(),\n",
    "    torch.nn.Linear(in_features=64,out_features=1),\n",
    "    torch.nn.Sigmoid())"
   ]
  },
  {
   "cell_type": "code",
   "execution_count": 465,
   "id": "1f454ede-2bce-4968-8005-1b4689f077f1",
   "metadata": {},
   "outputs": [],
   "source": [
    "#loss_fn = torch.nn.BCELoss()\n",
    "optimizr = torch.optim.Adam(net.parameters(),lr=0.002)"
   ]
  },
  {
   "cell_type": "code",
   "execution_count": 466,
   "id": "f809ac2f-9fb0-4f7c-abe7-eee5038bb71c",
   "metadata": {},
   "outputs": [],
   "source": [
    "for epoc in range(200):\n",
    "    ## 1 \n",
    "    yhat = net(X) \n",
    "    ## 2 \n",
    "    loss = -torch.mean(y*torch.log(yhat) + (1-y)*torch.log(1-yhat))\n",
    "    ## 3 \n",
    "    loss.backward()\n",
    "    ## 4 \n",
    "    optimizr.step()\n",
    "    optimizr.zero_grad()"
   ]
  },
  {
   "cell_type": "code",
   "execution_count": 467,
   "id": "c73c068b-616f-499c-ab30-c29809098f21",
   "metadata": {},
   "outputs": [
    {
     "data": {
      "text/plain": [
       "[<matplotlib.lines.Line2D at 0x7fcea6c98b10>]"
      ]
     },
     "execution_count": 467,
     "metadata": {},
     "output_type": "execute_result"
    },
    {
     "data": {
      "image/png": "[encoded data removed]",
      "text/plain": [
       "<Figure size 432x288 with 1 Axes>"
      ]
     },
     "metadata": {
      "needs_background": "light"
     },
     "output_type": "display_data"
    }
   ],
   "source": [
    "plt.plot(y)\n",
    "plt.plot(yhat.data,'.',alpha=0.5)"
   ]
  },
  {
   "cell_type": "markdown",
   "id": "79293366-bd37-4ae0-bff7-31a3d39b5c34",
   "metadata": {},
   "source": [
    "- 이번엔 학습이 잘 되었다!"
   ]
  },
  {
   "cell_type": "markdown",
   "id": "3fdb16a4-61e3-4eb0-8961-1b0131d8af43",
   "metadata": {},
   "source": [
    "(5) 아래와 같은 수식을 이용하여 accuracy를 계산하라. "
   ]
  },
  {
   "cell_type": "markdown",
   "id": "bd3c67fe-56bf-4dfc-a71c-cdcab1047417",
   "metadata": {},
   "source": [
    "$\\text{accuracy}=\\frac{1}{n}\\sum_{i=1}^n I(\\tilde{y}_i=y_i)$\n",
    "- $\\tilde{y}_i = \\begin{cases}\n",
    " 1 & \\hat{y}_i > 0.5 \\\\ \n",
    " 0 & \\hat{y}_i \\leq 0.5 \n",
    "\\end{cases}$ \n",
    "- $I(\\tilde{y}_i=y_i) = \\begin{cases} 1 & \\tilde{y}_i=y_i \\\\ 0 & \\tilde{y}_i \\neq y_i \\end{cases}$"
   ]
  },
  {
   "cell_type": "markdown",
   "id": "f38eecbe-dff1-4bac-9b9d-aa61d33212f3",
   "metadata": {},
   "source": [
    "단, $n$은 0과 1을 의미하는 이미지의 수 "
   ]
  },
  {
   "cell_type": "markdown",
   "id": "636f0b97-98dd-48fe-bf06-3fef2c06d52b",
   "metadata": {},
   "source": [
    "(풀이1)"
   ]
  },
  {
   "cell_type": "code",
   "execution_count": 89,
   "id": "40be80a8-9a05-4f78-814c-363474dcc26c",
   "metadata": {},
   "outputs": [],
   "source": [
    "ytilde = (yhat>0.5)*1  # ytilde의 구현"
   ]
  },
  {
   "cell_type": "markdown",
   "id": "6456082d-bb2e-4639-986f-6fbe480cec35",
   "metadata": {},
   "source": [
    "- $\\tilde{y}_i = \\begin{cases}\n",
    " 1 & \\hat{y}_i > 0.5 \\\\ \n",
    " 0 & \\hat{y}_i \\leq 0.5 \\end{cases}$ 의 구현"
   ]
  },
  {
   "cell_type": "code",
   "execution_count": 91,
   "id": "2df0f64d-8685-4b62-aacb-559239d06df4",
   "metadata": {},
   "outputs": [
    {
     "data": {
      "text/plain": [
       "tensor([[1],\n",
       "        [1],\n",
       "        [1],\n",
       "        ...,\n",
       "        [1],\n",
       "        [1],\n",
       "        [1]])"
      ]
     },
     "execution_count": 91,
     "metadata": {},
     "output_type": "execute_result"
    }
   ],
   "source": [
    "(ytilde == y)*1 # I(ytilde =y)의 구현 "
   ]
  },
  {
   "cell_type": "markdown",
   "id": "1a59dc7f-ff10-4c6f-8ee8-5afec7f8a5fc",
   "metadata": {},
   "source": [
    "- $I(\\tilde{y}_i=y_i) = \\begin{cases} 1 & \\tilde{y}_i=y_i \\\\ 0 & \\tilde{y}_i \\neq y_i \\end{cases}$ 의 구현"
   ]
  },
  {
   "cell_type": "code",
   "execution_count": 449,
   "id": "dc18a164-4c3b-47be-a205-d6c7e44ae172",
   "metadata": {},
   "outputs": [
    {
     "data": {
      "text/plain": [
       "tensor(12659)"
      ]
     },
     "execution_count": 449,
     "metadata": {},
     "output_type": "execute_result"
    }
   ],
   "source": [
    "torch.sum((ytilde == y)*1) "
   ]
  },
  {
   "cell_type": "markdown",
   "id": "27316951-6d9f-423b-a018-7a140b8d2706",
   "metadata": {},
   "source": [
    "- $\\sum_{i=1}^n I(\\tilde{y}_i=y_i)$의 계산"
   ]
  },
  {
   "cell_type": "code",
   "execution_count": 450,
   "id": "ce87ea91-10b1-47c4-834c-42f88a432a3d",
   "metadata": {},
   "outputs": [
    {
     "data": {
      "text/plain": [
       "tensor(0.9995)"
      ]
     },
     "execution_count": 450,
     "metadata": {},
     "output_type": "execute_result"
    }
   ],
   "source": [
    "torch.sum((ytilde == y)*1)  / len(y)"
   ]
  },
  {
   "cell_type": "markdown",
   "id": "5b41501c-bb83-4c8f-afb3-19c7dcec5d06",
   "metadata": {},
   "source": [
    "- $\\text{accuracy}=\\frac{1}{n}\\sum_{i=1}^n I(\\tilde{y}_i=y_i)$ 의 계산"
   ]
  },
  {
   "cell_type": "markdown",
   "id": "4b61a852-706e-4dc3-98bf-dedb4a2accb5",
   "metadata": {},
   "source": [
    "(풀이2)"
   ]
  },
  {
   "cell_type": "code",
   "execution_count": 451,
   "id": "c7bac1e2-3614-4da6-a3e7-4fca80e1bb6a",
   "metadata": {},
   "outputs": [
    {
     "data": {
      "text/plain": [
       "tensor(0.9995)"
      ]
     },
     "execution_count": 451,
     "metadata": {},
     "output_type": "execute_result"
    }
   ],
   "source": [
    "((yhat > 0.5) == y).sum() / len(y)"
   ]
  },
  {
   "cell_type": "markdown",
   "id": "f357ceec-7db8-4489-a3ea-e507d7f61256",
   "metadata": {},
   "source": [
    "---"
   ]
  },
  {
   "cell_type": "markdown",
   "id": "1e59ffd4-0a92-4936-a53f-3576c3986b35",
   "metadata": {},
   "source": [
    "***생각해볼점1: 왜 (2)는 학습이 잘되고 (3)은 학습이 잘 안되는가?***"
   ]
  },
  {
   "cell_type": "markdown",
   "id": "906bcf03-15c2-4c57-92c4-4193a9c2228f",
   "metadata": {},
   "source": [
    "`-` data "
   ]
  },
  {
   "cell_type": "code",
   "execution_count": 471,
   "id": "a0119a1c-2922-4324-bfc8-a70c05a38d2c",
   "metadata": {},
   "outputs": [],
   "source": [
    "X0 = torch.stack([torchvision.io.read_image(str(fname)) for fname in (path/'training/0').ls()])\n",
    "X1 = torch.stack([torchvision.io.read_image(str(fname)) for fname in (path/'training/1').ls()])\n",
    "X = torch.concat([X0,X1]).reshape(-1,1*28*28).float()\n",
    "y = torch.tensor([0.0]*len(X0) + [1.0]*len(X1)).reshape(-1,1)"
   ]
  },
  {
   "cell_type": "markdown",
   "id": "ec2ef1f7-9c4b-4b57-8809-8b5bd6949344",
   "metadata": {},
   "source": [
    "`-` net초기화"
   ]
  },
  {
   "cell_type": "code",
   "execution_count": 479,
   "id": "af347182-9abc-44b3-802c-17953defd5a2",
   "metadata": {},
   "outputs": [],
   "source": [
    "torch.manual_seed(9)\n",
    "net = torch.nn.Sequential(\n",
    "    torch.nn.Linear(in_features=784,out_features=64),\n",
    "    torch.nn.ReLU(),\n",
    "    torch.nn.Linear(in_features=64,out_features=1),\n",
    "    torch.nn.Sigmoid()\n",
    ")"
   ]
  },
  {
   "cell_type": "markdown",
   "id": "4b560a4f-6921-48c0-8806-2269e1261cab",
   "metadata": {},
   "source": [
    "`-` loss_fn 정의"
   ]
  },
  {
   "cell_type": "code",
   "execution_count": 480,
   "id": "39ba532a-3336-459f-814a-10cc979a6107",
   "metadata": {
    "tags": []
   },
   "outputs": [],
   "source": [
    "loss_fn1 = torch.nn.BCELoss()\n",
    "loss_fn2 = lambda yhat,y: -torch.mean(y*torch.log(yhat) + (1-y)*torch.log(1-yhat))"
   ]
  },
  {
   "cell_type": "markdown",
   "id": "2c92ec7e-f4ed-4f64-877f-b07f4be0cb3b",
   "metadata": {},
   "source": [
    "`-` loss_fn 적용결과 확인 "
   ]
  },
  {
   "cell_type": "code",
   "execution_count": 483,
   "id": "0b9290c1-fb3e-4007-8672-c831812ad47f",
   "metadata": {},
   "outputs": [
    {
     "data": {
      "text/plain": [
       "(tensor(22.4927, grad_fn=<BinaryCrossEntropyBackward0>),\n",
       " tensor(nan, grad_fn=<NegBackward0>))"
      ]
     },
     "execution_count": 483,
     "metadata": {},
     "output_type": "execute_result"
    }
   ],
   "source": [
    "loss_fn1(net(X),y), \\\n",
    "loss_fn2(net(X),y) "
   ]
  },
  {
   "cell_type": "markdown",
   "id": "6d0c184e-c093-4936-a411-d8435998679e",
   "metadata": {},
   "source": [
    "- loss_fn1(net(x),y) = 22.4927\n",
    "- loss_fn2(net(x),y) = nan (*해설영상에는 $\\infty$라고 했는데 정확하게는 nan입니다. nan은 $\\infty \\times 0$의 결과로 나오게 되고요 $y_i=1,\\hat{y}_i=1$ 인 경우에 $-\\frac{1}{n}\\sum_{i=1}^{n}\\big(y_i\\log(\\hat{y}_i) + (1-y_i)\\log(1-\\hat{y}_i)\\big)$ 중 $(1-y_i)\\log(1-\\hat{y}_i)$의 계산결과로 발생할 수 있습니다.*) \n",
    "- 왜? "
   ]
  },
  {
   "cell_type": "markdown",
   "id": "70926f33-c330-4b87-bdfa-29d62e4da089",
   "metadata": {},
   "source": [
    "`-` 처음 4개의 관측치에 대한 loss_fn 적용 결과: 같다. "
   ]
  },
  {
   "cell_type": "code",
   "execution_count": 488,
   "id": "8f678b3c-3305-47c3-9ac1-3535908c00fd",
   "metadata": {},
   "outputs": [
    {
     "data": {
      "text/plain": [
       "(tensor(3.0566, grad_fn=<BinaryCrossEntropyBackward0>),\n",
       " tensor(3.0566, grad_fn=<NegBackward0>))"
      ]
     },
     "execution_count": 488,
     "metadata": {},
     "output_type": "execute_result"
    }
   ],
   "source": [
    "loss_fn1(net(X)[:4], y[:4]),\\\n",
    "loss_fn2(net(X)[:4], y[:4])"
   ]
  },
  {
   "cell_type": "markdown",
   "id": "6265fba5-0b17-4da4-9491-6e5b8d992ab2",
   "metadata": {},
   "source": [
    "`-` 처음 5개의 관측치에 대한 loss_fn 적용 결과: 다르다. "
   ]
  },
  {
   "cell_type": "code",
   "execution_count": 489,
   "id": "b1c44dff-9eb8-46a7-927d-9fcc1a33d30f",
   "metadata": {},
   "outputs": [
    {
     "data": {
      "text/plain": [
       "(tensor(22.4453, grad_fn=<BinaryCrossEntropyBackward0>),\n",
       " tensor(inf, grad_fn=<NegBackward0>))"
      ]
     },
     "execution_count": 489,
     "metadata": {},
     "output_type": "execute_result"
    }
   ],
   "source": [
    "loss_fn1(net(X)[:5], y[:5]),\\\n",
    "loss_fn2(net(X)[:5], y[:5])"
   ]
  },
  {
   "cell_type": "markdown",
   "id": "98ae7a09-3650-4482-9dd4-3de1da11bc83",
   "metadata": {},
   "source": [
    "`-` 왜? 5번관측치에 문제가 있음 "
   ]
  },
  {
   "cell_type": "code",
   "execution_count": 490,
   "id": "867eb578-d45d-4248-b765-e274ee44af74",
   "metadata": {},
   "outputs": [
    {
     "data": {
      "text/plain": [
       "(tensor([[1.2304e-02],\n",
       "         [9.9999e-01],\n",
       "         [4.5096e-09],\n",
       "         [4.0554e-01],\n",
       "         [1.0000e+00]], grad_fn=<SliceBackward0>),\n",
       " tensor([[0.],\n",
       "         [0.],\n",
       "         [0.],\n",
       "         [0.],\n",
       "         [0.]]))"
      ]
     },
     "execution_count": 490,
     "metadata": {},
     "output_type": "execute_result"
    }
   ],
   "source": [
    "net(X)[:5], y[:5]"
   ]
  },
  {
   "cell_type": "code",
   "execution_count": 497,
   "id": "ba951f91-40d1-4e46-b9a6-7939c350ee75",
   "metadata": {},
   "outputs": [
    {
     "data": {
      "text/plain": [
       "(tensor(100., grad_fn=<BinaryCrossEntropyBackward0>),\n",
       " tensor(inf, grad_fn=<NegBackward0>))"
      ]
     },
     "execution_count": 497,
     "metadata": {},
     "output_type": "execute_result"
    }
   ],
   "source": [
    "loss_fn1(net(X)[[5]], y[[5]]),\\\n",
    "loss_fn2(net(X)[[5]], y[[5]])"
   ]
  },
  {
   "cell_type": "markdown",
   "id": "f8bf0ac2-0b23-4af0-9627-b9083b9138ed",
   "metadata": {},
   "source": [
    "`-` loss_fn1은 사실 이런식으로 계산을 했음 "
   ]
  },
  {
   "cell_type": "code",
   "execution_count": 502,
   "id": "537e1861-12c5-4ea8-9766-37aa56a13709",
   "metadata": {},
   "outputs": [
    {
     "data": {
      "text/plain": [
       "(22.44528, 22.445274353027344)"
      ]
     },
     "execution_count": 502,
     "metadata": {},
     "output_type": "execute_result"
    }
   ],
   "source": [
    "(3.0566*4 + 100)/5, loss_fn1(net(X)[:5], y[:5]).item()"
   ]
  },
  {
   "cell_type": "markdown",
   "id": "74154f22-e32e-4183-94d6-4db3efd9d939",
   "metadata": {},
   "source": [
    "`-` loss function에 대한 엄밀한 정의는 아닌데 $\\infty =100$ 으로 생각하는 것이 오히려 효율적이다. "
   ]
  },
  {
   "cell_type": "markdown",
   "id": "882e87c8-2b42-484f-ae13-44994244221f",
   "metadata": {},
   "source": [
    "***생각해볼점2: 왜 (3)은 학습이 잘 안되는데 (4)는 학습이 잘 되는가?***"
   ]
  },
  {
   "cell_type": "markdown",
   "id": "1ae4b7f9-3ce9-4873-b5c1-6a65212e2bea",
   "metadata": {},
   "source": [
    "`-` 아래의 상황을 다시 생각하자. "
   ]
  },
  {
   "cell_type": "code",
   "execution_count": 503,
   "id": "a02f4b51-a092-4218-9fe6-c038377458ba",
   "metadata": {},
   "outputs": [],
   "source": [
    "X0 = torch.stack([torchvision.io.read_image(str(fname)) for fname in (path/'training/0').ls()])\n",
    "X1 = torch.stack([torchvision.io.read_image(str(fname)) for fname in (path/'training/1').ls()])\n",
    "X = torch.concat([X0,X1]).reshape(-1,1*28*28).float()\n",
    "y = torch.tensor([0.0]*len(X0) + [1.0]*len(X1)).reshape(-1,1)"
   ]
  },
  {
   "cell_type": "code",
   "execution_count": 504,
   "id": "b421579b-dade-4237-93f0-6e5837614328",
   "metadata": {},
   "outputs": [],
   "source": [
    "torch.manual_seed(9)\n",
    "net = torch.nn.Sequential(\n",
    "    torch.nn.Linear(in_features=784,out_features=64),\n",
    "    torch.nn.ReLU(),\n",
    "    torch.nn.Linear(in_features=64,out_features=1),\n",
    "    torch.nn.Sigmoid()\n",
    ")"
   ]
  },
  {
   "cell_type": "markdown",
   "id": "d3b4b2f3-c922-4a0b-a511-f45cb9271728",
   "metadata": {},
   "source": [
    "`-` (3)에서 학습이 불가능했던 만악의 근원은 $y=0$ 인데 $yhat \\approx 1$ 인 상황 이었다. ($y=1$인데 $yhat \\approx 0$ 인 상황도 마찬가지)\n",
    "- 그런데 왜 초기값에 $yhat\\approx 1$ 과 같은 값이 들어있는 거야? "
   ]
  },
  {
   "cell_type": "markdown",
   "id": "027f4c05-40a8-4fdd-8f30-f37dea139a7e",
   "metadata": {},
   "source": [
    "`-` 네트워크를 분해하자. "
   ]
  },
  {
   "cell_type": "code",
   "execution_count": 505,
   "id": "1675fd2e-fb26-4a12-8c4a-688cc726a91e",
   "metadata": {},
   "outputs": [],
   "source": [
    "l1,a1,l2,a2 = net "
   ]
  },
  {
   "cell_type": "markdown",
   "id": "7ff1d4a6-7325-44cf-9f7e-f9ed90907934",
   "metadata": {},
   "source": [
    "`-` 5번관측치 `X[[5]]`를 콕 찍어서 생각해보자. "
   ]
  },
  {
   "cell_type": "code",
   "execution_count": 513,
   "id": "9b45159e-89bd-44f6-b009-da9c023d8ad6",
   "metadata": {},
   "outputs": [
    {
     "data": {
      "text/plain": [
       "tensor([[21.7626]], grad_fn=<AddmmBackward0>)"
      ]
     },
     "execution_count": 513,
     "metadata": {},
     "output_type": "execute_result"
    }
   ],
   "source": [
    "l2(a1(l1(X[[5]])))"
   ]
  },
  {
   "cell_type": "code",
   "execution_count": 515,
   "id": "a89f360f-2a9f-4f10-8f19-92a49901d520",
   "metadata": {},
   "outputs": [
    {
     "data": {
      "text/plain": [
       "tensor(2.8273e+09)"
      ]
     },
     "execution_count": 515,
     "metadata": {},
     "output_type": "execute_result"
    }
   ],
   "source": [
    "torch.exp(torch.tensor(21.7626)) # 이거 너무 큰 값이 나옴 => 사실상 무한대라고 봐도 무방한 값"
   ]
  },
  {
   "cell_type": "code",
   "execution_count": 516,
   "id": "980b5380-c101-4b00-8a0d-fbd96d34fd32",
   "metadata": {},
   "outputs": [
    {
     "data": {
      "text/plain": [
       "tensor(1.)"
      ]
     },
     "execution_count": 516,
     "metadata": {},
     "output_type": "execute_result"
    }
   ],
   "source": [
    "torch.exp(torch.tensor(21.7626))/(torch.exp(torch.tensor(21.7626))+1)"
   ]
  },
  {
   "cell_type": "markdown",
   "id": "3f925386-6f8f-4086-b7b8-ca75e60bcae5",
   "metadata": {},
   "source": [
    "`-` 만약에 하나의 관측치 X[[5]]의 범위를 0\\~1 사이로 맞춘다면? "
   ]
  },
  {
   "cell_type": "code",
   "execution_count": 524,
   "id": "f061c117-30b7-48a8-853a-81b33353bdb2",
   "metadata": {},
   "outputs": [
    {
     "data": {
      "text/plain": [
       "tensor([[0.1216]], grad_fn=<AddmmBackward0>)"
      ]
     },
     "execution_count": 524,
     "metadata": {},
     "output_type": "execute_result"
    }
   ],
   "source": [
    "l2(a1(l1(X[[5]]/255)))"
   ]
  },
  {
   "cell_type": "code",
   "execution_count": 526,
   "id": "9926b531-20b4-4df3-9ac0-b7acad7ea466",
   "metadata": {},
   "outputs": [
    {
     "data": {
      "text/plain": [
       "tensor(1.1293)"
      ]
     },
     "execution_count": 526,
     "metadata": {},
     "output_type": "execute_result"
    }
   ],
   "source": [
    "torch.exp(torch.tensor(0.1216)) # 적당한 값이 나옴"
   ]
  },
  {
   "cell_type": "code",
   "execution_count": 527,
   "id": "eddde04f-abc1-40d5-9f73-4ccd69814e7e",
   "metadata": {},
   "outputs": [
    {
     "data": {
      "text/plain": [
       "tensor(0.5304)"
      ]
     },
     "execution_count": 527,
     "metadata": {},
     "output_type": "execute_result"
    }
   ],
   "source": [
    "torch.exp(torch.tensor(0.1216))/(torch.exp(torch.tensor(0.1216))+1)"
   ]
  },
  {
   "cell_type": "code",
   "execution_count": 531,
   "id": "83eba973-fa41-4ec1-8ad7-09866b550cec",
   "metadata": {},
   "outputs": [
    {
     "data": {
      "text/plain": [
       "(tensor(inf, grad_fn=<NegBackward0>), tensor(0.7558, grad_fn=<NegBackward0>))"
      ]
     },
     "execution_count": 531,
     "metadata": {},
     "output_type": "execute_result"
    }
   ],
   "source": [
    "loss_fn2(net(X[[5]]),y[[5]]),\\\n",
    "loss_fn2(net(X[[5]]/255),y[[5]]),"
   ]
  },
  {
   "cell_type": "markdown",
   "id": "80c66ea3-0c3e-4568-83d6-c38dcc3422a4",
   "metadata": {},
   "source": [
    "`-` 깨달음1\n",
    "- X가 0~255사이의 값을 가지면 $X \\to u^{(1)} \\to v^{(1)} \\to u^{(2)} \\to yhat$ 의 구조에서 $u^{(2)}$의 값이 클 확률이 높다. (예를들면 21.7626 같은 값)\n",
    "- 큰 $u^{(2)}$의 값은 $yhat \\approx 1$ 이 되는 상황을 야기한다. \n",
    "- $yhat \\approx 1$인 상황은 $loss=\\infty$인 상황을 야기한다. \n",
    "- 그래서 학습이 안된다. "
   ]
  },
  {
   "cell_type": "markdown",
   "id": "e69312c2-42d1-40d2-abd7-c3501c67740c",
   "metadata": {},
   "source": [
    "`-` 깨달음2\n",
    "- X가 0~1사이의 값을 가지면 $X \\to u^{(1)} \\to v^{(1)} \\to u^{(2)} \\to yhat$ 의 구조에서 $u^{(2)}$의 값이 클 확률이 적다. (예를들면 0.1216와 같이 적당한 값이 나옴)\n",
    "- 적당한 크기의 $u^{(2)}$의 값은 $yhat \\approx 1$ 이 되는 상황을 만들지 않는다. \n",
    "- 그래서 $loss=\\infty$인 상황도 잘 생기지 않는다. \n",
    "- 그래서 학습이 (상대적으로) 잘된다. "
   ]
  }
 ],
 "metadata": {
  "kernelspec": {
   "display_name": "Python 3 (ipykernel)",
   "language": "python",
   "name": "python3"
  },
  "language_info": {
   "codemirror_mode": {
    "name": "ipython",
    "version": 3
   },
   "file_extension": ".py",
   "mimetype": "text/x-python",
   "name": "python",
   "nbconvert_exporter": "python",
   "pygments_lexer": "ipython3",
   "version": "3.7.13"
  }
 },
 "nbformat": 4,
 "nbformat_minor": 5
}
