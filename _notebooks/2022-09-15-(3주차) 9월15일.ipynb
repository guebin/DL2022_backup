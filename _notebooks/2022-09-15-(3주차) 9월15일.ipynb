{
 "cells": [
  {
   "cell_type": "markdown",
   "id": "fcab4e9b-693d-4c4d-be0f-3b1e9564d348",
   "metadata": {},
   "source": [
    "# (3주차) 9월15일\n",
    "> Overview - 이미지분석 추천시스템 텍스트분석의 비교정리, GAN\n",
    "\n",
    "- toc:true\n",
    "- branch: master\n",
    "- badges: true\n",
    "- comments: true\n",
    "- author: 최규빈"
   ]
  },
  {
   "cell_type": "markdown",
   "id": "1ba0b76a-6d64-45da-b15c-b22210c0fa2e",
   "metadata": {
    "tags": []
   },
   "source": [
    "## 강의영상"
   ]
  },
  {
   "cell_type": "markdown",
   "id": "675b734f-3fc3-46af-a877-6c7fb570f585",
   "metadata": {},
   "source": [
    "> youtube: https://youtube.com/playlist?list=PLQqh36zP38-wLTADeftdizvmko4y_ATAW"
   ]
  },
  {
   "cell_type": "markdown",
   "id": "cb439ab8-3cec-4464-9e7a-4a171d5afe85",
   "metadata": {},
   "source": [
    "## imports"
   ]
  },
  {
   "cell_type": "code",
   "execution_count": 159,
   "id": "cdfa47cf-b6c3-4aa4-a529-7830c2b893eb",
   "metadata": {},
   "outputs": [],
   "source": [
    "from fastai.vision.all import * \n",
    "from fastai.vision.gan import * "
   ]
  },
  {
   "cell_type": "markdown",
   "id": "52cb18ae-a1bc-46b3-ab0e-002e4e465018",
   "metadata": {},
   "source": [
    "## fastai를 이용한 분석 steps"
   ]
  },
  {
   "cell_type": "markdown",
   "id": "a86928ed-4643-47ae-bf6e-864c93b6ca67",
   "metadata": {},
   "source": [
    "`-` 비교 "
   ]
  },
  {
   "cell_type": "markdown",
   "id": "cb57bf11-c9fc-4de0-ba2f-7df9755042ca",
   "metadata": {},
   "source": [
    "| |이미지분석(CNN) | 추천시스템 | 텍스트분석 | GAN | \n",
    "|:-:|:-:|:-:|:-:|:-:|\n",
    "|1단계|ImageDataLoaders|CollabDataLoaders| TextDataLoaders | DataBlock -> dls |  \n",
    "|2단계|cnn_learner()|collab_learner()| language_model_learner() | GANLearner.wgan() | \n",
    "|3단계|lrnr.fine_tune(1)|lrnr.fit()| lrnr.fit() | lrnr.fit() |\n",
    "|4단계|lrnr.predict(), lrnr.model(X)|lrnr.model(X)| lrnr.predict() | | "
   ]
  },
  {
   "cell_type": "markdown",
   "id": "a57fbae1-c39d-4f31-b88a-92e11bf23d4d",
   "metadata": {},
   "source": [
    "## 이미지분석, 추천시스템, 텍스트분석의 정리 "
   ]
  },
  {
   "cell_type": "markdown",
   "id": "35d91457-87a9-4f85-86b6-7ee3aea3c9d5",
   "metadata": {},
   "source": [
    "`-` 데이터는 모두 아래와 같은 느낌이다. \n",
    "\n",
    "(1) 데이터는 $(X,y)$의 형태로 정리되어 있다. \n",
    "\n",
    "(2) $y$는 우리가 관심이 있는 변수이다. 즉 우리는 $y$를 적절하게 추정하는 것에 관심이 있다.\n",
    "\n",
    "(3) $X$는 $y$를 추정하기 위해 필요한 정보이다. \n"
   ]
  },
  {
   "cell_type": "markdown",
   "id": "b96622d6-9b2e-4851-acf1-40d1d0bac413",
   "metadata": {},
   "source": [
    "|$X$ = 설명변수 = 독립변수 | $y$ = 반응변수 = 종속변수 | 비고 | 순서 | 예시 | \n",
    "|:-:|:-:|:-:|:-:|:-:\n",
    "|이미지|카테고리|합성곱신경망| 상관없음 | 개/고양이 이미지 구분 |\n",
    "|유저,아이템|평점|추천시스템| 상관없음 | 넷플릭스 영화추천 |\n",
    "|과거~오늘까지의주가|내일주가|순환신경망| 순서상관있음 | 주가예측 |\n",
    "|처음 $m$개의 단어(혹은 문장)|이후 1개의 단어(혹은 문장)|순환신경망| 순서상관있음 | 챗봇, 텍스트생성 |\n",
    "|처음 $m$개의 단어(혹은 문장)|카테고리|순환신경망| 순서상관있음 | 영화리뷰 텍스트 감정분류 | "
   ]
  },
  {
   "cell_type": "markdown",
   "id": "d0bec999-d596-4fa6-9d47-9b8743a028fb",
   "metadata": {
    "jp-MarkdownHeadingCollapsed": true,
    "tags": []
   },
   "source": [
    "`-` 학습이란 주어진 자료 $(X,y)$를 잘 분석하여 $X$에서 $y$로 가는 어떠한 \"규칙\" 혹은 \"원리\"를 찾는 것이다. \n",
    "- 학습이란 주어진 자료 $(X,y)$를 잘 분석하여 $X$에서 $y$로 가는 어떠한 \"맵핑\"을 찾는 것이다. \n",
    "- 학습이란 주어진 자료 $(X,y)$를 잘 분석하여 $X$에서 $y$로 가는 어떠한 \"힘수\"을 찾는 것이다. 즉 $y\\approx f(X)$가 되도록 만드는 $f$를 잘 찾는 것이다. (이 경우 함수를 추정한다라고 표현) \n",
    "- 학습이란 주어진 자료 $(X,y)$를 잘 분석하여 $X$에서 $y$로 가는 어떠한 \"모델\"을 찾는 것이다. 즉 $y\\approx model(X)$가 되도록 만드는 $model$을 잘 찾는 것이다. (이 경우 모형을 학습시킨다라고 표현) \n",
    "- **학습이란 주어진 자료 $(X,y)$를 잘 분석하여 $X$에서 $y$로 가는 어떠한 \"네트워크\"을 찾는 것이다. 즉 $y\\approx net(X)$가 되도록 만드는 $net$을 잘 찾는 것이다. (이 경우 모형을 네트워크를 학습시킨다라고 표현)**"
   ]
  },
  {
   "cell_type": "markdown",
   "id": "cd8dc64e-763c-44e3-8f57-736015336edd",
   "metadata": {},
   "source": [
    "`-` prediction이란 학습과정에서 찾은 \"규착\" 혹은 \"원리\"를 $X$에 적용하여 $\\hat{y}$을 구하는 과정이다. 학습과정에서 찾은 규칙 혹은 원리는 $f$,$model$,$net$ 으로 생각가능한데 이에 따르면 아래가 성립한다. \n",
    "- $\\hat{y} = f(X)$\n",
    "- $\\hat{y} = model(X)$\n",
    "- $\\hat{y} = net(X)$"
   ]
  },
  {
   "cell_type": "markdown",
   "id": "47eb6b36-9475-44bc-8933-14e8d57f2057",
   "metadata": {},
   "source": [
    "***자잘한개념***\n",
    "\n",
    "`-` $\\hat{y}$는 $X$가 주어진 자료에 있는 값인지 아니면 새로운 값 인지에 따라 지칭하는 이름이 미묘하게 다르다.\n",
    "\n",
    "(경우1) $X \\in data$: $\\hat{y}=net(X)$ 는 predicted value, fitted value 라고 부른다. \n",
    "\n",
    "(경우2) $X \\notin data$: $\\hat{y}=net(X)$ 는 predicted value, predicted value with new data 라고 부른다.  "
   ]
  },
  {
   "cell_type": "markdown",
   "id": "c9941bdb-fe3e-4b55-b364-55ccb7389113",
   "metadata": {},
   "source": [
    "`-` 경우1은 \"$loss$ = $y$ 와 $\\hat{y}$ 의 차이\" 를 정의할 수 있으나 경우2는 그렇지 않다. "
   ]
  },
  {
   "cell_type": "markdown",
   "id": "445480b3-887e-4c53-a94d-9023d9f3bbeb",
   "metadata": {
    "slideshow": {
     "slide_type": "slide"
    }
   },
   "source": [
    "## GAN intro"
   ]
  },
  {
   "cell_type": "markdown",
   "id": "e0e95016-bd69-4f39-9940-30295b3e3e35",
   "metadata": {
    "slideshow": {
     "slide_type": "slide"
    }
   },
   "source": [
    "`-` 저자: 이안굿펠로우 \n",
    "- 천재임 \n",
    "- 지도교수가 요수아 벤지오 "
   ]
  },
  {
   "cell_type": "markdown",
   "id": "edeb8d1c-0ad6-4d7e-b91f-ea999446e091",
   "metadata": {
    "slideshow": {
     "slide_type": "slide"
    }
   },
   "source": [
    "`-` 논문 NIPS, 저는 이 논문 읽고 소름돋았어요.. \n",
    "- https://arxiv.org/abs/1406.2661 (현재시점, 38751회 인용되었음 $\\to$ 48978회 인용..)"
   ]
  },
  {
   "cell_type": "markdown",
   "id": "b7ee8a4f-fefd-409c-899d-8186c0829385",
   "metadata": {
    "slideshow": {
     "slide_type": "fragment"
    }
   },
   "source": [
    "`-` 최근 10년간 머신러닝 분야에서 가장 혁신적인 아이디어이다. (얀르쿤, 2014년 시점..) "
   ]
  },
  {
   "cell_type": "markdown",
   "id": "3ec1699b-5722-412f-a75a-72d6ae7b8468",
   "metadata": {
    "slideshow": {
     "slide_type": "fragment"
    }
   },
   "source": [
    "`-` 무슨내용? 생성모형 "
   ]
  },
  {
   "cell_type": "markdown",
   "id": "d7e7fdc1-c3d2-4c46-b031-03b154221f72",
   "metadata": {
    "slideshow": {
     "slide_type": "slide"
    }
   },
   "source": [
    "### 생성모형이란? (쉬운 설명)"
   ]
  },
  {
   "cell_type": "markdown",
   "id": "4471ff9a-fec1-4fc5-beb6-f3c757fff76c",
   "metadata": {
    "slideshow": {
     "slide_type": "fragment"
    }
   },
   "source": [
    "> 만들수 없다면 이해하지 못한 것이다, 리처드 파인만 (천재 물리학자) "
   ]
  },
  {
   "cell_type": "markdown",
   "id": "aeb15a8a-8da1-4012-89bb-f6f1ee68342b",
   "metadata": {
    "slideshow": {
     "slide_type": "slide"
    }
   },
   "source": [
    "`-` 사진속에 들어있는 동물이 개인지 고양이인지 맞출수 있는 기계와 개와 고양이를 그릴수 있는 기계중 어떤것이 더 시각적보에 대한 이해가 깊다고 볼수 있는가? "
   ]
  },
  {
   "cell_type": "markdown",
   "id": "0b35d016-eb1a-4294-aaeb-902eba7fceec",
   "metadata": {
    "slideshow": {
     "slide_type": "fragment"
    }
   },
   "source": [
    "`-` 진정으로 인공지능이 이미지를 이해했다면, 이미지를 만들수도 있어야 한다. $\\to$ 이미지를 생성하는 모형을 만들어보자 $\\to$ 성공 "
   ]
  },
  {
   "cell_type": "markdown",
   "id": "35d58f40-f006-4d09-9ca0-0d91820803ab",
   "metadata": {
    "slideshow": {
     "slide_type": "slide"
    }
   },
   "source": [
    "![](https://upload.wikimedia.org/wikipedia/commons/1/1f/Woman_1.jpg)"
   ]
  },
  {
   "cell_type": "markdown",
   "id": "063f7cef-ca89-4e14-acbb-8cbc669afa63",
   "metadata": {
    "slideshow": {
     "slide_type": "slide"
    }
   },
   "source": [
    "#### GAN의 응용분야"
   ]
  },
  {
   "cell_type": "markdown",
   "id": "f27c28d9-0a90-4497-86f6-97217f781b5e",
   "metadata": {
    "slideshow": {
     "slide_type": "fragment"
    }
   },
   "source": [
    "`-` 내가 찍은 사진이 피카소의 화풍으로 표현된다면?"
   ]
  },
  {
   "cell_type": "markdown",
   "id": "fbf8a7d4-0df4-4b78-bc86-a29e34cd2cac",
   "metadata": {
    "slideshow": {
     "slide_type": "fragment"
    }
   },
   "source": [
    "`-` 퀸의 라이브에이드가 4k로 나온다면?"
   ]
  },
  {
   "cell_type": "markdown",
   "id": "c0ae890a-8767-42fb-a2f7-2ee04956fe19",
   "metadata": {
    "slideshow": {
     "slide_type": "fragment"
    }
   },
   "source": [
    "`-` 1920년대 서울의 모습이 칼라로 복원된다면? "
   ]
  },
  {
   "cell_type": "markdown",
   "id": "e3b2f672-c60f-4e0f-8584-e989eff9de7d",
   "metadata": {
    "slideshow": {
     "slide_type": "fragment"
    }
   },
   "source": [
    "`-` 딥페이크: 유명인의 가짜 포르노, 가짜뉴스, 협박(거짓기소) \n"
   ]
  },
  {
   "cell_type": "markdown",
   "id": "5739c37b-a5ef-42e5-a6c0-df0efeb03b3c",
   "metadata": {
    "slideshow": {
     "slide_type": "fragment"
    }
   },
   "source": [
    "`-` 게임영상 (파이널판타지)"
   ]
  },
  {
   "cell_type": "markdown",
   "id": "ff801c61-4901-4d97-8669-480b3681653f",
   "metadata": {
    "slideshow": {
     "slide_type": "fragment"
    }
   },
   "source": [
    "`-` 거북이의 커버.. "
   ]
  },
  {
   "cell_type": "markdown",
   "id": "e407882a-a6e7-4dd4-a8d5-37b76665f6f2",
   "metadata": {
    "slideshow": {
     "slide_type": "fragment"
    }
   },
   "source": [
    "`-` 너무 많아요....."
   ]
  },
  {
   "cell_type": "markdown",
   "id": "23979c97-a1b1-4f35-a971-d5613a512f23",
   "metadata": {
    "slideshow": {
     "slide_type": "slide"
    },
    "tags": []
   },
   "source": [
    "### 생성모형이란? 통계학과 버전의 설명 "
   ]
  },
  {
   "cell_type": "markdown",
   "id": "255c593b-e96e-45fb-bb43-f3be8a71c48c",
   "metadata": {
    "slideshow": {
     "slide_type": "fragment"
    }
   },
   "source": [
    "> 제한된 정보만으로 어떤 문제를 풀 때, 그 과정에서 원래의 문제보다 일반적인 문제를 풀지 말고, 가능한 원래의 문제를 직접 풀어야한다. 배프닉 (SVM 창시자) "
   ]
  },
  {
   "cell_type": "markdown",
   "id": "8acb317f-76a0-4f02-876b-3c7dd1c9d508",
   "metadata": {
    "slideshow": {
     "slide_type": "slide"
    }
   },
   "source": [
    "`-` 이미지 $\\boldsymbol{x}$가 주어졌을 경우 라벨을 $y$라고 하자. "
   ]
  },
  {
   "cell_type": "markdown",
   "id": "c9f1f71a-a3cb-4e55-a5d8-00b3a186bf9e",
   "metadata": {
    "slideshow": {
     "slide_type": "fragment"
    }
   },
   "source": [
    "`-` 이미지를 생성하는 일은 $p(\\boldsymbol{x},y)$에 관심이 있는것이다. 여기에서 $p(\\boldsymbol{x},y)$는 ${\\boldsymbol x},y$의 결합확률밀도함수. "
   ]
  },
  {
   "cell_type": "markdown",
   "id": "bc08e44d-0dd4-484d-af12-6b4943036c77",
   "metadata": {
    "slideshow": {
     "slide_type": "fragment"
    }
   },
   "source": [
    "`-` 이미지를 보고 라벨을 맞추는 일은 $p(y| \\boldsymbol{x})$에 관심이 있다. 여기에서 $p(y|\\boldsymbol{x})$는 조건부 확률밀도 함수 "
   ]
  },
  {
   "cell_type": "markdown",
   "id": "7b70b31e-86f6-4243-91ac-d46748fb02b5",
   "metadata": {
    "slideshow": {
     "slide_type": "fragment"
    }
   },
   "source": [
    "`-` 데이터의 생성확률 $p(\\boldsymbol{x},y)$을 알면 클래스의 사후확률 $p(y|\\boldsymbol{x})$를 알 수 있음. (아래의 수식 참고) 하지만 역은 불가능 \n",
    "\n",
    "$$p(y|{\\boldsymbol x}) = \\frac{p({\\boldsymbol x},y)}{p({\\boldsymbol x})} = \\frac{p({\\boldsymbol x},y)}{\\sum_{y}p({\\boldsymbol x},y)} $$"
   ]
  },
  {
   "cell_type": "markdown",
   "id": "2a2de16a-c0b5-4e7d-bd76-386bc908dc3e",
   "metadata": {
    "slideshow": {
     "slide_type": "fragment"
    }
   },
   "source": [
    "- 즉 이미지를 생성하는일은 분류문제보다 더 어려운 일이라 해석가능 "
   ]
  },
  {
   "cell_type": "markdown",
   "id": "424cf82a-309a-4509-81bc-428b559b5e39",
   "metadata": {
    "slideshow": {
     "slide_type": "slide"
    }
   },
   "source": [
    "`-` 따라서 배프닉의 원리에 의하면 식별적 분류가 생성적 분류보다 바람직한 접근법이라 할 수 있음. "
   ]
  },
  {
   "cell_type": "markdown",
   "id": "dc4f1f22-ed90-449d-971d-73868ffe0cdc",
   "metadata": {
    "slideshow": {
     "slide_type": "fragment"
    }
   },
   "source": [
    "`-` 하지만 다양한 현실문제에서 생성모형이 유용할때가 많다. "
   ]
  },
  {
   "cell_type": "markdown",
   "id": "85e71891-7db9-46a8-94de-a89c2d705a43",
   "metadata": {
    "slideshow": {
     "slide_type": "slide"
    }
   },
   "source": [
    "### GAN의 원리"
   ]
  },
  {
   "cell_type": "markdown",
   "id": "443b6efe-b1c9-4714-b3e5-201eb444c597",
   "metadata": {
    "slideshow": {
     "slide_type": "slide"
    }
   },
   "source": [
    "`-` GAN은 생성모형중 하나임 "
   ]
  },
  {
   "cell_type": "markdown",
   "id": "09a2ada5-ee0a-409f-b79c-a5f500379212",
   "metadata": {
    "slideshow": {
     "slide_type": "slide"
    }
   },
   "source": [
    "`-` GAN의 원리는 경찰과 위조지폐범이 서로 선의의(?) 경쟁을 통하여 서로 발전하는 모형으로 설명할 수 있다. "
   ]
  },
  {
   "cell_type": "markdown",
   "id": "7ff7fbf7-77c2-4346-b921-ff2078ad2931",
   "metadata": {
    "slideshow": {
     "slide_type": "fragment"
    }
   },
   "source": [
    "> The generative model can be thought of as analogous to a team of counterfeiters,\n",
    "trying to produce fake currency and use it without detection, while the discriminative model is\n",
    "analogous to the police, trying to detect the counterfeit currency. Competition in this game drives\n",
    "both teams to improve their methods until the counterfeits are indistiguishable from the genuine\n",
    "articles."
   ]
  },
  {
   "cell_type": "markdown",
   "id": "e7fcaae9-e377-482a-a24e-7d2124431df6",
   "metadata": {
    "slideshow": {
     "slide_type": "slide"
    }
   },
   "source": [
    "`-` 서로 적대적인(adversarial) 네트워크(network)를 동시에 학습시켜 가짜이미지를 만든다(generate) "
   ]
  },
  {
   "cell_type": "markdown",
   "id": "ad9b056f-a013-4161-b69f-b10c85b8b8da",
   "metadata": {
    "slideshow": {
     "slide_type": "slide"
    }
   },
   "source": [
    "`-` 무식한 상황극.. "
   ]
  },
  {
   "cell_type": "markdown",
   "id": "01e549dd-7f5c-4c6c-936b-30d95236c8a5",
   "metadata": {
    "slideshow": {
     "slide_type": "slide"
    }
   },
   "source": [
    "- 위조범: 가짜돈을 만들어서 부자가 되어야지! (가짜돈을 그림) \n",
    "- 경찰: (위조범이 만든 돈을 보고) 이건 가짜다! \n",
    "- 위조범: 걸렸군.. 더 정교하게 만들어야지.. \n",
    "- 경찰: 이건 진짠가?... --> 상사에게 혼남. 그것도 구분못하냐고 \n",
    "- 위조범: 더 정교하게 만들자.. \n",
    "- 경찰: 더 판별능력을 업그레이드 하자! \n",
    "- 반복.. "
   ]
  },
  {
   "cell_type": "markdown",
   "id": "755618d1-8d93-4888-88d1-e41c8eadc806",
   "metadata": {
    "slideshow": {
     "slide_type": "slide"
    }
   },
   "source": [
    "`-` 굉장히 우수한 경찰조차도 진짜와 가짜를 구분하지 못할때(=진짜 이미지를 0.5의 확률로만 진짜라고 말할때 = 가짜 이미지를 0.5의 확률로만 가짜라고 말할때) 학습을 멈춘다. "
   ]
  },
  {
   "cell_type": "markdown",
   "id": "14bcc125-02c3-4c95-a434-3c0d777daec2",
   "metadata": {},
   "source": [
    "### 아키텍처 "
   ]
  },
  {
   "cell_type": "markdown",
   "id": "08633ba6-87c7-45ee-816c-c185123ed289",
   "metadata": {},
   "source": [
    "`-` 아래와 같은 두 모델(네트워크)를 생각하자. \n",
    "- 위조범네트워크: X=노이즈(=아무숫자) $\\to$ y=지폐이미지(=가짜지폐) \n",
    "- 경찰네트워크: X={가짜지폐,진짜지폐} $\\to$ y={진짜,가짜} "
   ]
  },
  {
   "cell_type": "markdown",
   "id": "b8736729-fda8-4a80-b69c-39a308f3e2e0",
   "metadata": {},
   "source": [
    "`-` 전체 알고리즘은 아래와 같은 순서로 돌아간다. (전체 이미지 자료는 $n$개라고 하자) "
   ]
  },
  {
   "cell_type": "markdown",
   "id": "062be295-e6cd-4979-bb53-3beaad50489d",
   "metadata": {},
   "source": [
    "(1) 적당한 크기의 $n$개의 노이즈가 위조범네트워크에 입력으로 들어감 \n",
    "\n",
    "(2) 위조범네트워크는 적당한 크기의 $n$개의 노이즈를 입력으로 받고 출력으로 $n$개의 이미지를 뱉어냄. \n",
    "\n",
    "(3) 위조범이 뱉어낸 이미지와 진짜이미지를 합쳐 $2n$개의 자료를 만들고 이를 경창네트워크의 입력으로 넣음. \n",
    "\n",
    "(4) 경찰네트워크는 $2n$개의 자료를 입력으로 받아서 $2n$개의 예측결과를 제공. "
   ]
  },
  {
   "cell_type": "markdown",
   "id": "21aab6d8-2cfa-4a49-85f7-0e0316242af5",
   "metadata": {},
   "source": [
    "## GAN 실습 "
   ]
  },
  {
   "cell_type": "markdown",
   "id": "723cd25f-712f-43a0-80db-125516929dec",
   "metadata": {},
   "source": [
    "### 1단계"
   ]
  },
  {
   "cell_type": "code",
   "execution_count": 139,
   "id": "d0fd9ee8-26c3-4661-b31d-d7229f3a3a33",
   "metadata": {},
   "outputs": [],
   "source": [
    "path = untar_data(URLs.MNIST_SAMPLE)"
   ]
  },
  {
   "cell_type": "code",
   "execution_count": 140,
   "id": "f725d66f-2aad-479d-bfa7-34fff6d4c669",
   "metadata": {},
   "outputs": [],
   "source": [
    "dblock = DataBlock(blocks=(TransformBlock,ImageBlock),\n",
    "          get_x = generate_noise,\n",
    "          get_items=get_image_files,\n",
    "          item_tfms=Resize(32))\n",
    "dls = dblock.dataloaders(path) "
   ]
  },
  {
   "cell_type": "code",
   "execution_count": 141,
   "id": "17ae7860-6473-4c31-90cc-f3ef8ad48f02",
   "metadata": {},
   "outputs": [
    {
     "data": {
      "image/png": "[encoded data removed]",
      "text/plain": [
       "<Figure size 648x648 with 9 Axes>"
      ]
     },
     "metadata": {
      "needs_background": "light"
     },
     "output_type": "display_data"
    }
   ],
   "source": [
    "dls.show_batch()"
   ]
  },
  {
   "cell_type": "markdown",
   "id": "e0a153af-f368-4395-9020-b07d48b4a3ea",
   "metadata": {},
   "source": [
    "### 2단계 "
   ]
  },
  {
   "cell_type": "code",
   "execution_count": 142,
   "id": "0264a025-c063-4ae5-b60d-03b82ec9f278",
   "metadata": {},
   "outputs": [],
   "source": [
    "counterfeiter = basic_generator(32,n_channels=3,n_extra_layers=1) # 32*32의 이미지가 칼라이미지로 출력. \n",
    "police = basic_critic(32,n_channels=3,n_extra_layers=1) # 32*32의 칼라이미지가 입력으로 들어옴. "
   ]
  },
  {
   "cell_type": "code",
   "execution_count": 143,
   "id": "c318aa25-3bc9-4a0f-90d5-23fdc046e7bd",
   "metadata": {},
   "outputs": [],
   "source": [
    "lrnr = GANLearner.wgan(dls,counterfeiter,police) "
   ]
  },
  {
   "cell_type": "markdown",
   "id": "9b622228-c55b-491a-b999-f0d23e919aab",
   "metadata": {},
   "source": [
    "### 3단계"
   ]
  },
  {
   "cell_type": "markdown",
   "id": "92625577-bf91-47ea-ba28-fb69712bb15b",
   "metadata": {},
   "source": [
    "`-` lrnr.fit(10) 진행 "
   ]
  },
  {
   "cell_type": "code",
   "execution_count": 144,
   "id": "7e8b87ad-4d11-4f19-94d0-5df378983963",
   "metadata": {},
   "outputs": [
    {
     "data": {
      "text/html": [
       "\n",
       "<style>\n",
       "    /* Turns off some styling */\n",
       "    progress {\n",
       "        /* gets rid of default border in Firefox and Opera. */\n",
       "        border: none;\n",
       "        /* Needs to be in here for Safari polyfill so background images work as expected. */\n",
       "        background-size: auto;\n",
       "    }\n",
       "    progress:not([value]), progress:not([value])::-webkit-progress-bar {\n",
       "        background: repeating-linear-gradient(45deg, #7e7e7e, #7e7e7e 10px, #5c5c5c 10px, #5c5c5c 20px);\n",
       "    }\n",
       "    .progress-bar-interrupted, .progress-bar-interrupted::-webkit-progress-bar {\n",
       "        background: #F44336;\n",
       "    }\n",
       "</style>\n"
      ],
      "text/plain": [
       "<IPython.core.display.HTML object>"
      ]
     },
     "metadata": {},
     "output_type": "display_data"
    },
    {
     "data": {
      "text/html": [
       "<table border=\"1\" class=\"dataframe\">\n",
       "  <thead>\n",
       "    <tr style=\"text-align: left;\">\n",
       "      <th>epoch</th>\n",
       "      <th>train_loss</th>\n",
       "      <th>valid_loss</th>\n",
       "      <th>gen_loss</th>\n",
       "      <th>crit_loss</th>\n",
       "      <th>time</th>\n",
       "    </tr>\n",
       "  </thead>\n",
       "  <tbody>\n",
       "    <tr>\n",
       "      <td>0</td>\n",
       "      <td>-0.546135</td>\n",
       "      <td>0.362349</td>\n",
       "      <td>0.362349</td>\n",
       "      <td>-0.757082</td>\n",
       "      <td>00:02</td>\n",
       "    </tr>\n",
       "    <tr>\n",
       "      <td>1</td>\n",
       "      <td>-0.582954</td>\n",
       "      <td>0.300018</td>\n",
       "      <td>0.300018</td>\n",
       "      <td>-0.770161</td>\n",
       "      <td>00:02</td>\n",
       "    </tr>\n",
       "    <tr>\n",
       "      <td>2</td>\n",
       "      <td>-0.585224</td>\n",
       "      <td>0.277624</td>\n",
       "      <td>0.277624</td>\n",
       "      <td>-0.769241</td>\n",
       "      <td>00:02</td>\n",
       "    </tr>\n",
       "    <tr>\n",
       "      <td>3</td>\n",
       "      <td>-0.582842</td>\n",
       "      <td>0.385249</td>\n",
       "      <td>0.385249</td>\n",
       "      <td>-0.764790</td>\n",
       "      <td>00:02</td>\n",
       "    </tr>\n",
       "    <tr>\n",
       "      <td>4</td>\n",
       "      <td>-0.584591</td>\n",
       "      <td>0.333895</td>\n",
       "      <td>0.333895</td>\n",
       "      <td>-0.768902</td>\n",
       "      <td>00:02</td>\n",
       "    </tr>\n",
       "    <tr>\n",
       "      <td>5</td>\n",
       "      <td>-0.587377</td>\n",
       "      <td>0.304535</td>\n",
       "      <td>0.304535</td>\n",
       "      <td>-0.773640</td>\n",
       "      <td>00:02</td>\n",
       "    </tr>\n",
       "    <tr>\n",
       "      <td>6</td>\n",
       "      <td>-0.580959</td>\n",
       "      <td>0.274871</td>\n",
       "      <td>0.274871</td>\n",
       "      <td>-0.765747</td>\n",
       "      <td>00:02</td>\n",
       "    </tr>\n",
       "    <tr>\n",
       "      <td>7</td>\n",
       "      <td>-0.559458</td>\n",
       "      <td>0.348925</td>\n",
       "      <td>0.348925</td>\n",
       "      <td>-0.734318</td>\n",
       "      <td>00:02</td>\n",
       "    </tr>\n",
       "    <tr>\n",
       "      <td>8</td>\n",
       "      <td>-0.486598</td>\n",
       "      <td>0.074547</td>\n",
       "      <td>0.074547</td>\n",
       "      <td>-0.545082</td>\n",
       "      <td>00:03</td>\n",
       "    </tr>\n",
       "    <tr>\n",
       "      <td>9</td>\n",
       "      <td>-0.550950</td>\n",
       "      <td>0.278006</td>\n",
       "      <td>0.278006</td>\n",
       "      <td>-0.724520</td>\n",
       "      <td>00:03</td>\n",
       "    </tr>\n",
       "  </tbody>\n",
       "</table>"
      ],
      "text/plain": [
       "<IPython.core.display.HTML object>"
      ]
     },
     "metadata": {},
     "output_type": "display_data"
    }
   ],
   "source": [
    "lrnr.fit(10)"
   ]
  },
  {
   "cell_type": "code",
   "execution_count": 145,
   "id": "a01afd51-baa1-495b-acfb-cb5ff5517424",
   "metadata": {},
   "outputs": [
    {
     "data": {
      "text/html": [
       "\n",
       "<style>\n",
       "    /* Turns off some styling */\n",
       "    progress {\n",
       "        /* gets rid of default border in Firefox and Opera. */\n",
       "        border: none;\n",
       "        /* Needs to be in here for Safari polyfill so background images work as expected. */\n",
       "        background-size: auto;\n",
       "    }\n",
       "    progress:not([value]), progress:not([value])::-webkit-progress-bar {\n",
       "        background: repeating-linear-gradient(45deg, #7e7e7e, #7e7e7e 10px, #5c5c5c 10px, #5c5c5c 20px);\n",
       "    }\n",
       "    .progress-bar-interrupted, .progress-bar-interrupted::-webkit-progress-bar {\n",
       "        background: #F44336;\n",
       "    }\n",
       "</style>\n"
      ],
      "text/plain": [
       "<IPython.core.display.HTML object>"
      ]
     },
     "metadata": {},
     "output_type": "display_data"
    },
    {
     "data": {
      "text/html": [],
      "text/plain": [
       "<IPython.core.display.HTML object>"
      ]
     },
     "metadata": {},
     "output_type": "display_data"
    },
    {
     "data": {
      "image/png": "[encoded data removed]",
      "text/plain": [
       "<Figure size 648x648 with 9 Axes>"
      ]
     },
     "metadata": {
      "needs_background": "light"
     },
     "output_type": "display_data"
    }
   ],
   "source": [
    "lrnr.show_results()"
   ]
  },
  {
   "cell_type": "markdown",
   "id": "12a64e28-f946-4474-a71d-14b1374789ba",
   "metadata": {},
   "source": [
    "`-` lrnr.fit(10) 추가로 진행 // 총20회"
   ]
  },
  {
   "cell_type": "code",
   "execution_count": 146,
   "id": "1341c039-ba1a-410e-80ad-98f840163713",
   "metadata": {},
   "outputs": [
    {
     "data": {
      "text/html": [
       "\n",
       "<style>\n",
       "    /* Turns off some styling */\n",
       "    progress {\n",
       "        /* gets rid of default border in Firefox and Opera. */\n",
       "        border: none;\n",
       "        /* Needs to be in here for Safari polyfill so background images work as expected. */\n",
       "        background-size: auto;\n",
       "    }\n",
       "    progress:not([value]), progress:not([value])::-webkit-progress-bar {\n",
       "        background: repeating-linear-gradient(45deg, #7e7e7e, #7e7e7e 10px, #5c5c5c 10px, #5c5c5c 20px);\n",
       "    }\n",
       "    .progress-bar-interrupted, .progress-bar-interrupted::-webkit-progress-bar {\n",
       "        background: #F44336;\n",
       "    }\n",
       "</style>\n"
      ],
      "text/plain": [
       "<IPython.core.display.HTML object>"
      ]
     },
     "metadata": {},
     "output_type": "display_data"
    },
    {
     "data": {
      "text/html": [
       "<table border=\"1\" class=\"dataframe\">\n",
       "  <thead>\n",
       "    <tr style=\"text-align: left;\">\n",
       "      <th>epoch</th>\n",
       "      <th>train_loss</th>\n",
       "      <th>valid_loss</th>\n",
       "      <th>gen_loss</th>\n",
       "      <th>crit_loss</th>\n",
       "      <th>time</th>\n",
       "    </tr>\n",
       "  </thead>\n",
       "  <tbody>\n",
       "    <tr>\n",
       "      <td>0</td>\n",
       "      <td>-0.534234</td>\n",
       "      <td>0.261044</td>\n",
       "      <td>0.261044</td>\n",
       "      <td>-0.737007</td>\n",
       "      <td>00:02</td>\n",
       "    </tr>\n",
       "    <tr>\n",
       "      <td>1</td>\n",
       "      <td>-0.515386</td>\n",
       "      <td>0.241006</td>\n",
       "      <td>0.241006</td>\n",
       "      <td>-0.720394</td>\n",
       "      <td>00:02</td>\n",
       "    </tr>\n",
       "    <tr>\n",
       "      <td>2</td>\n",
       "      <td>-0.561530</td>\n",
       "      <td>0.249572</td>\n",
       "      <td>0.249572</td>\n",
       "      <td>-0.742900</td>\n",
       "      <td>00:02</td>\n",
       "    </tr>\n",
       "    <tr>\n",
       "      <td>3</td>\n",
       "      <td>-0.544423</td>\n",
       "      <td>0.315043</td>\n",
       "      <td>0.315043</td>\n",
       "      <td>-0.739004</td>\n",
       "      <td>00:02</td>\n",
       "    </tr>\n",
       "    <tr>\n",
       "      <td>4</td>\n",
       "      <td>-0.534188</td>\n",
       "      <td>0.235120</td>\n",
       "      <td>0.235120</td>\n",
       "      <td>-0.686251</td>\n",
       "      <td>00:02</td>\n",
       "    </tr>\n",
       "    <tr>\n",
       "      <td>5</td>\n",
       "      <td>-0.494047</td>\n",
       "      <td>0.284046</td>\n",
       "      <td>0.284046</td>\n",
       "      <td>-0.633201</td>\n",
       "      <td>00:02</td>\n",
       "    </tr>\n",
       "    <tr>\n",
       "      <td>6</td>\n",
       "      <td>-0.506470</td>\n",
       "      <td>0.214011</td>\n",
       "      <td>0.214011</td>\n",
       "      <td>-0.687545</td>\n",
       "      <td>00:02</td>\n",
       "    </tr>\n",
       "    <tr>\n",
       "      <td>7</td>\n",
       "      <td>-0.527870</td>\n",
       "      <td>0.262492</td>\n",
       "      <td>0.262492</td>\n",
       "      <td>-0.731213</td>\n",
       "      <td>00:02</td>\n",
       "    </tr>\n",
       "    <tr>\n",
       "      <td>8</td>\n",
       "      <td>-0.504433</td>\n",
       "      <td>0.192755</td>\n",
       "      <td>0.192755</td>\n",
       "      <td>-0.674976</td>\n",
       "      <td>00:02</td>\n",
       "    </tr>\n",
       "    <tr>\n",
       "      <td>9</td>\n",
       "      <td>-0.538148</td>\n",
       "      <td>0.204089</td>\n",
       "      <td>0.204089</td>\n",
       "      <td>-0.728712</td>\n",
       "      <td>00:02</td>\n",
       "    </tr>\n",
       "  </tbody>\n",
       "</table>"
      ],
      "text/plain": [
       "<IPython.core.display.HTML object>"
      ]
     },
     "metadata": {},
     "output_type": "display_data"
    }
   ],
   "source": [
    "lrnr.fit(10)"
   ]
  },
  {
   "cell_type": "code",
   "execution_count": 147,
   "id": "c5d2fc1d-928b-4125-998c-e2c3258a98f9",
   "metadata": {},
   "outputs": [
    {
     "data": {
      "text/html": [
       "\n",
       "<style>\n",
       "    /* Turns off some styling */\n",
       "    progress {\n",
       "        /* gets rid of default border in Firefox and Opera. */\n",
       "        border: none;\n",
       "        /* Needs to be in here for Safari polyfill so background images work as expected. */\n",
       "        background-size: auto;\n",
       "    }\n",
       "    progress:not([value]), progress:not([value])::-webkit-progress-bar {\n",
       "        background: repeating-linear-gradient(45deg, #7e7e7e, #7e7e7e 10px, #5c5c5c 10px, #5c5c5c 20px);\n",
       "    }\n",
       "    .progress-bar-interrupted, .progress-bar-interrupted::-webkit-progress-bar {\n",
       "        background: #F44336;\n",
       "    }\n",
       "</style>\n"
      ],
      "text/plain": [
       "<IPython.core.display.HTML object>"
      ]
     },
     "metadata": {},
     "output_type": "display_data"
    },
    {
     "data": {
      "text/html": [],
      "text/plain": [
       "<IPython.core.display.HTML object>"
      ]
     },
     "metadata": {},
     "output_type": "display_data"
    },
    {
     "data": {
      "image/png": "[encoded data removed]",
      "text/plain": [
       "<Figure size 648x648 with 9 Axes>"
      ]
     },
     "metadata": {
      "needs_background": "light"
     },
     "output_type": "display_data"
    }
   ],
   "source": [
    "lrnr.show_results()"
   ]
  },
  {
   "cell_type": "markdown",
   "id": "f8f3ab65-02ad-4de9-9852-cf9ff63eeb01",
   "metadata": {},
   "source": [
    "`-` lrnr.fit(30) 추가로 진행 // 총50회"
   ]
  },
  {
   "cell_type": "code",
   "execution_count": 148,
   "id": "065f5fa8-aa3e-462f-8461-6e078148b47d",
   "metadata": {},
   "outputs": [
    {
     "data": {
      "text/html": [
       "\n",
       "<style>\n",
       "    /* Turns off some styling */\n",
       "    progress {\n",
       "        /* gets rid of default border in Firefox and Opera. */\n",
       "        border: none;\n",
       "        /* Needs to be in here for Safari polyfill so background images work as expected. */\n",
       "        background-size: auto;\n",
       "    }\n",
       "    progress:not([value]), progress:not([value])::-webkit-progress-bar {\n",
       "        background: repeating-linear-gradient(45deg, #7e7e7e, #7e7e7e 10px, #5c5c5c 10px, #5c5c5c 20px);\n",
       "    }\n",
       "    .progress-bar-interrupted, .progress-bar-interrupted::-webkit-progress-bar {\n",
       "        background: #F44336;\n",
       "    }\n",
       "</style>\n"
      ],
      "text/plain": [
       "<IPython.core.display.HTML object>"
      ]
     },
     "metadata": {},
     "output_type": "display_data"
    },
    {
     "data": {
      "text/html": [
       "<table border=\"1\" class=\"dataframe\">\n",
       "  <thead>\n",
       "    <tr style=\"text-align: left;\">\n",
       "      <th>epoch</th>\n",
       "      <th>train_loss</th>\n",
       "      <th>valid_loss</th>\n",
       "      <th>gen_loss</th>\n",
       "      <th>crit_loss</th>\n",
       "      <th>time</th>\n",
       "    </tr>\n",
       "  </thead>\n",
       "  <tbody>\n",
       "    <tr>\n",
       "      <td>0</td>\n",
       "      <td>-0.509745</td>\n",
       "      <td>0.286478</td>\n",
       "      <td>0.286478</td>\n",
       "      <td>-0.691290</td>\n",
       "      <td>00:02</td>\n",
       "    </tr>\n",
       "    <tr>\n",
       "      <td>1</td>\n",
       "      <td>-0.502572</td>\n",
       "      <td>0.285199</td>\n",
       "      <td>0.285199</td>\n",
       "      <td>-0.675554</td>\n",
       "      <td>00:02</td>\n",
       "    </tr>\n",
       "    <tr>\n",
       "      <td>2</td>\n",
       "      <td>-0.473333</td>\n",
       "      <td>0.219742</td>\n",
       "      <td>0.219742</td>\n",
       "      <td>-0.650543</td>\n",
       "      <td>00:02</td>\n",
       "    </tr>\n",
       "    <tr>\n",
       "      <td>3</td>\n",
       "      <td>-0.419040</td>\n",
       "      <td>0.287789</td>\n",
       "      <td>0.287789</td>\n",
       "      <td>-0.543150</td>\n",
       "      <td>00:02</td>\n",
       "    </tr>\n",
       "    <tr>\n",
       "      <td>4</td>\n",
       "      <td>-0.275088</td>\n",
       "      <td>0.264852</td>\n",
       "      <td>0.264852</td>\n",
       "      <td>-0.105730</td>\n",
       "      <td>00:02</td>\n",
       "    </tr>\n",
       "    <tr>\n",
       "      <td>5</td>\n",
       "      <td>-0.350050</td>\n",
       "      <td>0.330111</td>\n",
       "      <td>0.330111</td>\n",
       "      <td>-0.529484</td>\n",
       "      <td>00:02</td>\n",
       "    </tr>\n",
       "    <tr>\n",
       "      <td>6</td>\n",
       "      <td>-0.394095</td>\n",
       "      <td>0.228335</td>\n",
       "      <td>0.228335</td>\n",
       "      <td>-0.616371</td>\n",
       "      <td>00:02</td>\n",
       "    </tr>\n",
       "    <tr>\n",
       "      <td>7</td>\n",
       "      <td>-0.247936</td>\n",
       "      <td>0.177943</td>\n",
       "      <td>0.177943</td>\n",
       "      <td>-0.286712</td>\n",
       "      <td>00:02</td>\n",
       "    </tr>\n",
       "    <tr>\n",
       "      <td>8</td>\n",
       "      <td>-0.333396</td>\n",
       "      <td>0.207328</td>\n",
       "      <td>0.207328</td>\n",
       "      <td>-0.585255</td>\n",
       "      <td>00:02</td>\n",
       "    </tr>\n",
       "    <tr>\n",
       "      <td>9</td>\n",
       "      <td>-0.370004</td>\n",
       "      <td>0.356040</td>\n",
       "      <td>0.356040</td>\n",
       "      <td>-0.641916</td>\n",
       "      <td>00:02</td>\n",
       "    </tr>\n",
       "    <tr>\n",
       "      <td>10</td>\n",
       "      <td>-0.463898</td>\n",
       "      <td>0.195165</td>\n",
       "      <td>0.195165</td>\n",
       "      <td>-0.215188</td>\n",
       "      <td>00:02</td>\n",
       "    </tr>\n",
       "    <tr>\n",
       "      <td>11</td>\n",
       "      <td>-0.241843</td>\n",
       "      <td>0.110512</td>\n",
       "      <td>0.110512</td>\n",
       "      <td>-0.411598</td>\n",
       "      <td>00:02</td>\n",
       "    </tr>\n",
       "    <tr>\n",
       "      <td>12</td>\n",
       "      <td>-0.227809</td>\n",
       "      <td>-0.094414</td>\n",
       "      <td>-0.094414</td>\n",
       "      <td>-0.306309</td>\n",
       "      <td>00:02</td>\n",
       "    </tr>\n",
       "    <tr>\n",
       "      <td>13</td>\n",
       "      <td>-0.185607</td>\n",
       "      <td>-0.063660</td>\n",
       "      <td>-0.063660</td>\n",
       "      <td>-0.261691</td>\n",
       "      <td>00:02</td>\n",
       "    </tr>\n",
       "    <tr>\n",
       "      <td>14</td>\n",
       "      <td>-0.219289</td>\n",
       "      <td>-0.041734</td>\n",
       "      <td>-0.041734</td>\n",
       "      <td>-0.424938</td>\n",
       "      <td>00:02</td>\n",
       "    </tr>\n",
       "    <tr>\n",
       "      <td>15</td>\n",
       "      <td>-0.048843</td>\n",
       "      <td>0.063750</td>\n",
       "      <td>0.063750</td>\n",
       "      <td>-0.088812</td>\n",
       "      <td>00:02</td>\n",
       "    </tr>\n",
       "    <tr>\n",
       "      <td>16</td>\n",
       "      <td>-0.092374</td>\n",
       "      <td>-0.218327</td>\n",
       "      <td>-0.218327</td>\n",
       "      <td>-0.001817</td>\n",
       "      <td>00:02</td>\n",
       "    </tr>\n",
       "    <tr>\n",
       "      <td>17</td>\n",
       "      <td>-0.081938</td>\n",
       "      <td>-0.068263</td>\n",
       "      <td>-0.068263</td>\n",
       "      <td>-0.052643</td>\n",
       "      <td>00:02</td>\n",
       "    </tr>\n",
       "    <tr>\n",
       "      <td>18</td>\n",
       "      <td>-0.031063</td>\n",
       "      <td>-0.183604</td>\n",
       "      <td>-0.183604</td>\n",
       "      <td>-0.013827</td>\n",
       "      <td>00:02</td>\n",
       "    </tr>\n",
       "    <tr>\n",
       "      <td>19</td>\n",
       "      <td>-0.025211</td>\n",
       "      <td>0.041027</td>\n",
       "      <td>0.041027</td>\n",
       "      <td>-0.061204</td>\n",
       "      <td>00:02</td>\n",
       "    </tr>\n",
       "    <tr>\n",
       "      <td>20</td>\n",
       "      <td>-0.023948</td>\n",
       "      <td>0.244387</td>\n",
       "      <td>0.244387</td>\n",
       "      <td>-0.001813</td>\n",
       "      <td>00:02</td>\n",
       "    </tr>\n",
       "    <tr>\n",
       "      <td>21</td>\n",
       "      <td>-0.073112</td>\n",
       "      <td>0.275998</td>\n",
       "      <td>0.275998</td>\n",
       "      <td>-0.150063</td>\n",
       "      <td>00:02</td>\n",
       "    </tr>\n",
       "    <tr>\n",
       "      <td>22</td>\n",
       "      <td>-0.064780</td>\n",
       "      <td>0.112151</td>\n",
       "      <td>0.112151</td>\n",
       "      <td>-0.123186</td>\n",
       "      <td>00:02</td>\n",
       "    </tr>\n",
       "    <tr>\n",
       "      <td>23</td>\n",
       "      <td>-0.030959</td>\n",
       "      <td>0.002616</td>\n",
       "      <td>0.002616</td>\n",
       "      <td>-0.134843</td>\n",
       "      <td>00:02</td>\n",
       "    </tr>\n",
       "    <tr>\n",
       "      <td>24</td>\n",
       "      <td>-0.066342</td>\n",
       "      <td>0.604107</td>\n",
       "      <td>0.604107</td>\n",
       "      <td>-0.118417</td>\n",
       "      <td>00:02</td>\n",
       "    </tr>\n",
       "    <tr>\n",
       "      <td>25</td>\n",
       "      <td>-0.025819</td>\n",
       "      <td>0.066880</td>\n",
       "      <td>0.066880</td>\n",
       "      <td>-0.087840</td>\n",
       "      <td>00:02</td>\n",
       "    </tr>\n",
       "    <tr>\n",
       "      <td>26</td>\n",
       "      <td>-0.061908</td>\n",
       "      <td>-0.129382</td>\n",
       "      <td>-0.129382</td>\n",
       "      <td>-0.101803</td>\n",
       "      <td>00:02</td>\n",
       "    </tr>\n",
       "    <tr>\n",
       "      <td>27</td>\n",
       "      <td>-0.096987</td>\n",
       "      <td>-0.213048</td>\n",
       "      <td>-0.213048</td>\n",
       "      <td>-0.081656</td>\n",
       "      <td>00:02</td>\n",
       "    </tr>\n",
       "    <tr>\n",
       "      <td>28</td>\n",
       "      <td>-0.114984</td>\n",
       "      <td>0.287159</td>\n",
       "      <td>0.287159</td>\n",
       "      <td>-0.152345</td>\n",
       "      <td>00:02</td>\n",
       "    </tr>\n",
       "    <tr>\n",
       "      <td>29</td>\n",
       "      <td>-0.062543</td>\n",
       "      <td>-0.076906</td>\n",
       "      <td>-0.076906</td>\n",
       "      <td>-0.078245</td>\n",
       "      <td>00:02</td>\n",
       "    </tr>\n",
       "  </tbody>\n",
       "</table>"
      ],
      "text/plain": [
       "<IPython.core.display.HTML object>"
      ]
     },
     "metadata": {},
     "output_type": "display_data"
    }
   ],
   "source": [
    "lrnr.fit(30)"
   ]
  },
  {
   "cell_type": "code",
   "execution_count": 154,
   "id": "eac3b267-3585-40f2-b959-634ee7016c20",
   "metadata": {},
   "outputs": [
    {
     "data": {
      "text/html": [
       "\n",
       "<style>\n",
       "    /* Turns off some styling */\n",
       "    progress {\n",
       "        /* gets rid of default border in Firefox and Opera. */\n",
       "        border: none;\n",
       "        /* Needs to be in here for Safari polyfill so background images work as expected. */\n",
       "        background-size: auto;\n",
       "    }\n",
       "    progress:not([value]), progress:not([value])::-webkit-progress-bar {\n",
       "        background: repeating-linear-gradient(45deg, #7e7e7e, #7e7e7e 10px, #5c5c5c 10px, #5c5c5c 20px);\n",
       "    }\n",
       "    .progress-bar-interrupted, .progress-bar-interrupted::-webkit-progress-bar {\n",
       "        background: #F44336;\n",
       "    }\n",
       "</style>\n"
      ],
      "text/plain": [
       "<IPython.core.display.HTML object>"
      ]
     },
     "metadata": {},
     "output_type": "display_data"
    },
    {
     "data": {
      "text/html": [],
      "text/plain": [
       "<IPython.core.display.HTML object>"
      ]
     },
     "metadata": {},
     "output_type": "display_data"
    },
    {
     "data": {
      "image/png": "[encoded data removed]",
      "text/plain": [
       "<Figure size 648x648 with 9 Axes>"
      ]
     },
     "metadata": {
      "needs_background": "light"
     },
     "output_type": "display_data"
    }
   ],
   "source": [
    "lrnr.show_results()"
   ]
  },
  {
   "cell_type": "markdown",
   "id": "6ef72225-2221-4eaf-9817-f6f3c15f9112",
   "metadata": {},
   "source": [
    "- 그럴싸한 글씨가 몇개 보이긴 함 "
   ]
  },
  {
   "cell_type": "markdown",
   "id": "56954a2a-0f46-41f4-8d7e-7c1ca45c1930",
   "metadata": {},
   "source": [
    "### 4단계 (없음)"
   ]
  }
 ],
 "metadata": {
  "kernelspec": {
   "display_name": "Python 3 (ipykernel)",
   "language": "python",
   "name": "python3"
  },
  "language_info": {
   "codemirror_mode": {
    "name": "ipython",
    "version": 3
   },
   "file_extension": ".py",
   "mimetype": "text/x-python",
   "name": "python",
   "nbconvert_exporter": "python",
   "pygments_lexer": "ipython3",
   "version": "3.7.13"
  }
 },
 "nbformat": 4,
 "nbformat_minor": 5
}
