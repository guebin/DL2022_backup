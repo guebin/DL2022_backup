{
 "cells": [
  {
   "cell_type": "markdown",
   "id": "45cbb1a1-5361-4c9e-9557-d4c8d093dd78",
   "metadata": {
    "id": "7719d563-3bf1-4cdc-a468-fa97bb108655",
    "tags": []
   },
   "source": [
    "# (10주차) 11월3일 \n",
    "> 순환신경망-- AbAcAd예제(2) \n",
    "\n",
    "- toc:true\n",
    "- branch: master\n",
    "- badges: true\n",
    "- comments: true\n",
    "- author: 최규빈"
   ]
  },
  {
   "cell_type": "markdown",
   "id": "77bba164-61b8-42e7-b8ac-1246b243b49e",
   "metadata": {
    "tags": []
   },
   "source": [
    "## import"
   ]
  },
  {
   "cell_type": "code",
   "execution_count": 13,
   "id": "2eece48e-5748-475e-a5a9-a7060f5a8fdf",
   "metadata": {},
   "outputs": [],
   "source": [
    "import torch\n",
    "import numpy as np\n",
    "import pandas as pd\n",
    "import matplotlib.pyplot as plt\n",
    "import time "
   ]
  },
  {
   "cell_type": "markdown",
   "id": "86fc2fdd-4a82-4043-b81d-74dd0fb62776",
   "metadata": {},
   "source": [
    "## Define some funtions"
   ]
  },
  {
   "cell_type": "code",
   "execution_count": 2,
   "id": "c06f7544-de47-46e5-9956-059b626e4f0d",
   "metadata": {},
   "outputs": [],
   "source": [
    "def f(txt,mapping):\n",
    "    return [mapping[key] for key in txt] \n",
    "soft = torch.nn.Softmax(dim=1)"
   ]
  },
  {
   "cell_type": "markdown",
   "id": "7a44abfb-8416-404c-86fa-40c0f979d47d",
   "metadata": {},
   "source": [
    "## 예비학습: `net.parameters()`의 의미 "
   ]
  },
  {
   "cell_type": "markdown",
   "id": "895f4d74-8598-41a8-aea4-30417986626b",
   "metadata": {},
   "source": [
    "9월27일 강의노트 중 \"`net.parameters()`의 의미?\"를 설명한다. "
   ]
  },
  {
   "cell_type": "markdown",
   "id": "8beb271b-c401-4423-b2a2-74c31f8c938e",
   "metadata": {},
   "source": [
    "`-` iterator, generator의 개념필요 \n",
    "- https://guebin.github.io/IP2022/2022/06/06/(14주차)-6월6일.html, 클래스공부 8단계 참고 \n"
   ]
  },
  {
   "cell_type": "markdown",
   "id": "4f537215-aee0-4f34-af4e-0fa2c226f95d",
   "metadata": {},
   "source": [
    "`-` 탐구시작: 네트워크 생성 "
   ]
  },
  {
   "cell_type": "code",
   "execution_count": 31,
   "id": "0539ceed-9598-4835-85da-c68ed84df70d",
   "metadata": {},
   "outputs": [
    {
     "data": {
      "text/plain": [
       "Parameter containing:\n",
       "tensor([[0.7914]], requires_grad=True)"
      ]
     },
     "execution_count": 31,
     "metadata": {},
     "output_type": "execute_result"
    }
   ],
   "source": [
    "net = torch.nn.Linear(in_features=1,out_features=1)\n",
    "net.weight"
   ]
  },
  {
   "cell_type": "code",
   "execution_count": 32,
   "id": "e0d984a8-2e89-4ec3-9868-1039d7aeea57",
   "metadata": {},
   "outputs": [
    {
     "data": {
      "text/plain": [
       "Parameter containing:\n",
       "tensor([-0.7958], requires_grad=True)"
      ]
     },
     "execution_count": 32,
     "metadata": {},
     "output_type": "execute_result"
    }
   ],
   "source": [
    "net.bias"
   ]
  },
  {
   "cell_type": "markdown",
   "id": "0a621e92-6d66-4bf7-a161-5b7d56ffe5b3",
   "metadata": {},
   "source": [
    "`-` torch.optim.SGD? 를 확인하면 params에 대한설명에 아래와 같이 되어있음 \n",
    "\n",
    "```\n",
    "params (iterable): iterable of parameters to optimize or dicts defining\n",
    "        parameter groups\n",
    "```"
   ]
  },
  {
   "cell_type": "markdown",
   "id": "28ec533c-fbad-4fa4-9569-de4cbcc5ee1d",
   "metadata": {},
   "source": [
    "`-` 설명을 읽어보면 params에 iterable object를 넣으라고 되어있음 (iterable object는 숨겨진 명령어로 `__iter__`를 가지고 있는 오브젝트를 의미)"
   ]
  },
  {
   "cell_type": "code",
   "execution_count": 33,
   "id": "3599a617-e03c-45a8-8824-f941faa3a37d",
   "metadata": {},
   "outputs": [
    {
     "data": {
      "text/plain": [
       "set()"
      ]
     },
     "execution_count": 33,
     "metadata": {},
     "output_type": "execute_result"
    }
   ],
   "source": [
    "set(dir(net.parameters)) & {'__iter__'}"
   ]
  },
  {
   "cell_type": "code",
   "execution_count": 34,
   "id": "b6409ab2-6a69-47e3-9d96-4ceb2a62e3e9",
   "metadata": {},
   "outputs": [
    {
     "data": {
      "text/plain": [
       "{'__iter__'}"
      ]
     },
     "execution_count": 34,
     "metadata": {},
     "output_type": "execute_result"
    }
   ],
   "source": [
    "set(dir(net.parameters())) & {'__iter__'}"
   ]
  },
  {
   "cell_type": "markdown",
   "id": "3d5b3c50-ad2c-4d49-a5f1-ec9b4df6c79e",
   "metadata": {},
   "source": [
    "`-` 무슨의미? "
   ]
  },
  {
   "cell_type": "code",
   "execution_count": 35,
   "id": "1a8913a2-61a6-4a19-b839-910b9688a7c1",
   "metadata": {},
   "outputs": [
    {
     "name": "stdout",
     "output_type": "stream",
     "text": [
      "Parameter containing:\n",
      "tensor([[0.7914]], requires_grad=True)\n",
      "Parameter containing:\n",
      "tensor([-0.7958], requires_grad=True)\n"
     ]
    }
   ],
   "source": [
    "for param in net.parameters():\n",
    "    print(param)"
   ]
  },
  {
   "cell_type": "markdown",
   "id": "eb553ff3-d887-475d-9002-84f8426fd31c",
   "metadata": {},
   "source": [
    "`-` 그냥 이건 이런느낌인데? "
   ]
  },
  {
   "cell_type": "code",
   "execution_count": 36,
   "id": "29a0a97c-2d89-41bb-8238-490b814b647f",
   "metadata": {},
   "outputs": [
    {
     "name": "stdout",
     "output_type": "stream",
     "text": [
      "Parameter containing:\n",
      "tensor([[0.7914]], requires_grad=True)\n",
      "Parameter containing:\n",
      "tensor([-0.7958], requires_grad=True)\n"
     ]
    }
   ],
   "source": [
    "for param in [net.weight,net.bias]:\n",
    "    print(param)"
   ]
  },
  {
   "cell_type": "markdown",
   "id": "667202d4-9b87-4419-9c45-9d61091e60ea",
   "metadata": {},
   "source": [
    "결론: `net.parameters()`는 net오브젝트에서 학습할 파라메터를 모두 모아 리스트(iterable object)로 만드는 함수라 이해할 수 있다. "
   ]
  },
  {
   "cell_type": "markdown",
   "id": "84497c55-40c3-4c44-85a2-55c8ec9cc8a4",
   "metadata": {},
   "source": [
    "`-` 응용예제1"
   ]
  },
  {
   "cell_type": "code",
   "execution_count": 37,
   "id": "c22dc68d-a65b-405a-b05b-b346b0cb09dc",
   "metadata": {},
   "outputs": [],
   "source": [
    "df = pd.read_csv(\"https://raw.githubusercontent.com/guebin/DL2022/master/_notebooks/2022-09-22-regression.csv\") \n",
    "x=torch.tensor(df.x).float().reshape(100,1)\n",
    "y=torch.tensor(df.y).float().reshape(100,1)\n",
    "_1 = torch.ones([100,1])\n",
    "X = torch.concat([_1,x],axis=1)"
   ]
  },
  {
   "cell_type": "code",
   "execution_count": 38,
   "id": "7c8795b3-23f6-4b5d-b0f1-29e53a038a84",
   "metadata": {},
   "outputs": [],
   "source": [
    "b = torch.tensor(-5.0,requires_grad=True)\n",
    "w = torch.tensor(10.0,requires_grad=True)\n",
    "optimizr = torch.optim.SGD([b,w],lr=1/10) ## 이렇게 전달하면 됩니당!!"
   ]
  },
  {
   "cell_type": "code",
   "execution_count": 39,
   "id": "6d3e86dd-4b82-4b9b-b48f-b9fe8aba9a27",
   "metadata": {},
   "outputs": [
    {
     "data": {
      "text/plain": [
       "[<matplotlib.lines.Line2D at 0x7fe155bbee90>]"
      ]
     },
     "execution_count": 39,
     "metadata": {},
     "output_type": "execute_result"
    },
    {
     "data": {
      "image/png": "[encoded data removed]",
      "text/plain": [
       "<Figure size 432x288 with 1 Axes>"
      ]
     },
     "metadata": {
      "needs_background": "light"
     },
     "output_type": "display_data"
    }
   ],
   "source": [
    "plt.plot(x,y,'o')\n",
    "plt.plot(x,(w*x+b).data,'--')"
   ]
  },
  {
   "cell_type": "code",
   "execution_count": 40,
   "id": "f727a7e0-5ff1-44a1-8eb9-6d8c8570b242",
   "metadata": {},
   "outputs": [],
   "source": [
    "for epoc in range(30):\n",
    "    yhat = b+ w*x \n",
    "    loss = torch.mean((y-yhat)**2)\n",
    "    loss.backward()\n",
    "    optimizr.step(); optimizr.zero_grad()"
   ]
  },
  {
   "cell_type": "code",
   "execution_count": 41,
   "id": "9c945e57-3556-4a0e-b71a-4d3d7734704a",
   "metadata": {},
   "outputs": [
    {
     "data": {
      "text/plain": [
       "[<matplotlib.lines.Line2D at 0x7fe155b3e950>]"
      ]
     },
     "execution_count": 41,
     "metadata": {},
     "output_type": "execute_result"
    },
    {
     "data": {
      "image/png": "[encoded data removed]",
      "text/plain": [
       "<Figure size 432x288 with 1 Axes>"
      ]
     },
     "metadata": {
      "needs_background": "light"
     },
     "output_type": "display_data"
    }
   ],
   "source": [
    "plt.plot(x,y,'o')\n",
    "plt.plot(x,(w*x+b).data,'--')"
   ]
  },
  {
   "cell_type": "markdown",
   "id": "b76630ee-fcb8-4bf5-8d65-e0f1cd9e678a",
   "metadata": {},
   "source": [
    "`-` 응용예제2"
   ]
  },
  {
   "cell_type": "code",
   "execution_count": 42,
   "id": "df8d7e2c-ff78-4c5f-a6c8-2e3cc9beff5e",
   "metadata": {},
   "outputs": [],
   "source": [
    "What = torch.tensor([[-5.0],[10.0]],requires_grad=True)\n",
    "optimizr = torch.optim.SGD([What],lr=1/10) # What은 iterable 하지 않지만 [What]은 iterable 함"
   ]
  },
  {
   "cell_type": "code",
   "execution_count": 43,
   "id": "848de8aa-c650-4017-b812-2bc7ef2e9d83",
   "metadata": {},
   "outputs": [
    {
     "data": {
      "text/plain": [
       "tensor([[-5.],\n",
       "        [10.]], requires_grad=True)"
      ]
     },
     "execution_count": 43,
     "metadata": {},
     "output_type": "execute_result"
    }
   ],
   "source": [
    "What"
   ]
  },
  {
   "cell_type": "code",
   "execution_count": 44,
   "id": "2b01ba7b-e728-4889-88a3-4c3c85156ca2",
   "metadata": {},
   "outputs": [
    {
     "data": {
      "text/plain": [
       "[<matplotlib.lines.Line2D at 0x7fe155ab8a50>]"
      ]
     },
     "execution_count": 44,
     "metadata": {},
     "output_type": "execute_result"
    },
    {
     "data": {
      "image/png": "[encoded data removed]",
      "text/plain": [
       "<Figure size 432x288 with 1 Axes>"
      ]
     },
     "metadata": {
      "needs_background": "light"
     },
     "output_type": "display_data"
    }
   ],
   "source": [
    "plt.plot(x,y,'o')\n",
    "plt.plot(x,(X@What).data,'--')"
   ]
  },
  {
   "cell_type": "code",
   "execution_count": 45,
   "id": "7a7973f0-ce2b-45dd-bc4b-0be702a20941",
   "metadata": {},
   "outputs": [],
   "source": [
    "for epoc in range(30):\n",
    "    yhat = X@What \n",
    "    loss = torch.mean((y-yhat)**2)\n",
    "    loss.backward()\n",
    "    optimizr.step();optimizr.zero_grad() "
   ]
  },
  {
   "cell_type": "code",
   "execution_count": 46,
   "id": "c5e1d85d-c1b6-4eb2-bea0-5ce2c97d9225",
   "metadata": {},
   "outputs": [
    {
     "data": {
      "text/plain": [
       "[<matplotlib.lines.Line2D at 0x7fe155a36550>]"
      ]
     },
     "execution_count": 46,
     "metadata": {},
     "output_type": "execute_result"
    },
    {
     "data": {
      "image/png": "[encoded data removed]",
      "text/plain": [
       "<Figure size 432x288 with 1 Axes>"
      ]
     },
     "metadata": {
      "needs_background": "light"
     },
     "output_type": "display_data"
    }
   ],
   "source": [
    "plt.plot(x,y,'o')\n",
    "plt.plot(x,(X@What).data,'--')"
   ]
  },
  {
   "cell_type": "markdown",
   "id": "5555a252-a3eb-4bab-9175-3f05c251b179",
   "metadata": {},
   "source": [
    "## Exam4: AbAcAd"
   ]
  },
  {
   "cell_type": "markdown",
   "id": "7a6e668d-dfe1-4b52-9347-93bb62db8ac1",
   "metadata": {},
   "source": [
    "### data"
   ]
  },
  {
   "cell_type": "markdown",
   "id": "dfb004f4-78fb-4011-96ee-d3e847476103",
   "metadata": {},
   "source": [
    "`-` 기존의 정리방식"
   ]
  },
  {
   "cell_type": "code",
   "execution_count": 48,
   "id": "81f721ac-7bc9-41c6-b129-e00c1ce0e3eb",
   "metadata": {},
   "outputs": [
    {
     "data": {
      "text/plain": [
       "['A', 'b', 'A', 'c', 'A', 'd', 'A', 'b', 'A', 'c']"
      ]
     },
     "execution_count": 48,
     "metadata": {},
     "output_type": "execute_result"
    }
   ],
   "source": [
    "txt = list('AbAcAd')*100\n",
    "txt[:10]"
   ]
  },
  {
   "cell_type": "code",
   "execution_count": 49,
   "id": "3a6aa4b9-4bf1-4077-9568-ea4756fcdc7b",
   "metadata": {},
   "outputs": [],
   "source": [
    "txt_x = txt[:-1]\n",
    "txt_y = txt[1:]"
   ]
  },
  {
   "cell_type": "code",
   "execution_count": 50,
   "id": "278974f0-0792-4712-b52e-2b6fc659d139",
   "metadata": {},
   "outputs": [
    {
     "data": {
      "text/plain": [
       "(['A', 'b', 'A', 'c', 'A'], ['b', 'A', 'c', 'A', 'd'])"
      ]
     },
     "execution_count": 50,
     "metadata": {},
     "output_type": "execute_result"
    }
   ],
   "source": [
    "txt_x[:5],txt_y[:5]"
   ]
  },
  {
   "cell_type": "code",
   "execution_count": 51,
   "id": "a6f772ca-268e-4eb4-b29a-3d8d26375f48",
   "metadata": {},
   "outputs": [],
   "source": [
    "x = torch.tensor(f(txt_x,{'A':0,'b':1,'c':2,'d':3}))\n",
    "y = torch.tensor(f(txt_y,{'A':0,'b':1,'c':2,'d':3}))"
   ]
  },
  {
   "cell_type": "code",
   "execution_count": 54,
   "id": "6b2e005b-23b7-440b-abb7-a4ed9f45c7ff",
   "metadata": {},
   "outputs": [
    {
     "data": {
      "text/plain": [
       "(tensor([0, 1, 0, 2, 0, 3, 0, 1]), tensor([1, 0, 2, 0, 3, 0, 1, 0]))"
      ]
     },
     "execution_count": 54,
     "metadata": {},
     "output_type": "execute_result"
    }
   ],
   "source": [
    "x[:8],y[:8]"
   ]
  },
  {
   "cell_type": "markdown",
   "id": "5628f6fa-727b-4990-a23e-898ed9094893",
   "metadata": {},
   "source": [
    "`-` 이번엔 원핫인코딩형태까지 미리 정리하자. (임베딩 레이어 안쓸예정)"
   ]
  },
  {
   "cell_type": "markdown",
   "id": "34425eb1-9ac4-4147-a6fa-cfa66ab992a1",
   "metadata": {},
   "source": [
    "### 실패했던 풀이: 구현1"
   ]
  },
  {
   "cell_type": "markdown",
   "id": "51f4e1a0-80ae-451b-8ece-40e37d5c6e85",
   "metadata": {},
   "source": [
    "`-` 저번시간의 실패한 풀이 "
   ]
  },
  {
   "cell_type": "markdown",
   "id": "34e666e0-3cef-4a80-ad4c-923710655709",
   "metadata": {},
   "source": [
    "`-` Tanh까지만 클래스로 바꾸어서 구현 \n",
    "- 클래스를 이용하는 방법: https://guebin.github.io/DL2022/2022/11/01/(9주차)-11월1일.html#로지스틱-모형을-이용한-풀이"
   ]
  },
  {
   "cell_type": "markdown",
   "id": "a1874d44-e282-4ccd-b87c-0d6288248c89",
   "metadata": {},
   "source": [
    "`-` for문돌릴준비"
   ]
  },
  {
   "cell_type": "markdown",
   "id": "c1ced396-50e2-43a3-a94f-6f0900a16a1c",
   "metadata": {},
   "source": [
    "`-` for문: 20회반복"
   ]
  },
  {
   "cell_type": "markdown",
   "id": "11e296fc-a676-466d-8b0a-c418023710ab",
   "metadata": {},
   "source": [
    "`-` linr(hnet(x)) 적합결과 <-- 숫자체크"
   ]
  },
  {
   "cell_type": "markdown",
   "id": "425d084f-9b89-4417-82ba-a453a2f6159c",
   "metadata": {},
   "source": [
    "### 실패했던 풀이: 구현2"
   ]
  },
  {
   "cell_type": "markdown",
   "id": "a011ac15-fcb2-4225-a97f-04c500cd5c7f",
   "metadata": {},
   "source": [
    "`-` Tanh까지 구현한 클래스"
   ]
  },
  {
   "cell_type": "markdown",
   "id": "c9f129eb-3631-4c7f-9a22-3676c263493d",
   "metadata": {},
   "source": [
    "`-` for문돌릴준비 "
   ]
  },
  {
   "cell_type": "markdown",
   "id": "50a9c02c-30d1-4c17-a514-038bd77aef0a",
   "metadata": {},
   "source": [
    "`-` for문: 20회 반복"
   ]
  },
  {
   "cell_type": "markdown",
   "id": "998bb999-46ce-440b-a2cc-c52df48b203d",
   "metadata": {},
   "source": [
    "`-` linr(hnet(x)) 적합결과 <-- 숫자체크"
   ]
  },
  {
   "cell_type": "markdown",
   "id": "caec7c34-5d2b-4742-bb1e-89ac1caf05c0",
   "metadata": {},
   "source": [
    "### 순환신경망의 아이디어"
   ]
  },
  {
   "cell_type": "markdown",
   "id": "7fe0f644-b990-4eb9-a9f7-6b86c2b3ad9d",
   "metadata": {},
   "source": [
    "#### ***모티브***"
   ]
  },
  {
   "cell_type": "markdown",
   "id": "7abb185e-37af-418d-ab26-e8c33e967e1e",
   "metadata": {},
   "source": [
    "***(예비생각1) ${\\boldsymbol h}$에 대한 이해***"
   ]
  },
  {
   "cell_type": "markdown",
   "id": "cb4d9dd7-97ef-48e6-945b-1be73fa69c9c",
   "metadata": {},
   "source": [
    "${\\boldsymbol h}$는 사실 문자열 'abcd'들을 숫자로 바꾼 또 다른 형식의 숫자표현이라 해석할 수 있음. 즉 원핫인코딩과 다른 또 다른 형태의 숫자표현이라 해석할 수 있다. (사실 원핫인코딩보다 약간 더 (1) 액기스만 남은 느낌 + (2) 숙성된 느낌을 준다) \n",
    "- (why1) h는 \"학습을 용이하게 하기 위해서 x를 적당히 선형적으로 전처리한 상태\"라고 이해가능\n",
    "- (why2) 실제로 예시를 살펴보면 그러했다. "
   ]
  },
  {
   "cell_type": "markdown",
   "id": "49f9bee1-0291-406d-81c5-6eed5a1b2794",
   "metadata": {},
   "source": [
    "결론: 사실 ${\\boldsymbol h}$는 잘 숙성되어있는 입력정보 ${\\bf X}$ 그 자체로 해석 할 수 있다. "
   ]
  },
  {
   "cell_type": "markdown",
   "id": "f87cf3b8-5608-4e33-89a3-58a6cb690368",
   "metadata": {},
   "source": [
    "***(예비생각2) [수백년전통을 이어가는 방법](https://www.joongang.co.kr/article/24087690#home)***"
   ]
  },
  {
   "cell_type": "markdown",
   "id": "80b9dc5d-43a5-41cc-898a-90fd3de599a3",
   "metadata": {},
   "source": [
    "```\n",
    "“1리터에 500만원에 낙찰된 적 있습니다.”\n",
    "“2kg에 1억원 정도 추산됩니다.”\n",
    "“20여 종 종자장을 블렌딩해 100ml에 5000만원씩 분양 예정입니다.”\n",
    "\n",
    "모두 씨간장(종자장) 가격에 관한 실제 일화다.\n",
    "\n",
    "(중략...)\n",
    "\n",
    "위스키나 와인처럼 블렌딩을 하기도 한다. \n",
    "새로 담근 간장에 씨간장을 넣거나, 씨간장독에 햇간장을 넣어 맛을 유지하기도 한다. \n",
    "이를 겹장(또는 덧장)이라 한다. \n",
    "몇몇 종갓집에선 씨간장 잇기를 몇백 년째 해오고 있다. \n",
    "매년 새로 간장을 담가야 이어갈 수 있으니 불씨 꺼트리지 않는 것처럼 굉장히 어려운 일이다.\n",
    "이렇게 하는 이유는 집집마다 내려오는 고유 장맛을 잃지 않기 위함이다. \n",
    "씨간장이란 그만큼 소중한 주방의 자산이며 정체성이다.\n",
    "```"
   ]
  },
  {
   "cell_type": "markdown",
   "id": "6b20364f-8da2-4987-a402-09a61ad911ee",
   "metadata": {},
   "source": [
    "덧장: 새로운간장을 만들때, 옛날간장을 섞어서 만듬 "
   ]
  },
  {
   "cell_type": "markdown",
   "id": "74f044a6-6673-4a1a-b985-a62abd0d29f6",
   "metadata": {},
   "source": [
    "`*` 기존방식\n",
    "- $\\text{콩물} \\overset{\\text{숙성}}{\\longrightarrow} \\text{간장}$"
   ]
  },
  {
   "cell_type": "markdown",
   "id": "ba450c0b-1676-49ff-8841-72a1a76d7fca",
   "metadata": {},
   "source": [
    "`*` 수백년 전통의 간장맛을 유지하는 방식\n",
    "\n",
    "- $\\text{콩물}_1 \\overset{\\text{숙성}}{\\longrightarrow} \\text{간장}_1$\n",
    "- $\\text{콩물}_2, \\text{간장}_1 \\overset{\\text{숙성}}{\\longrightarrow} \\text{간장}_2$\n",
    "- $\\text{콩물}_3, \\text{간장}_2 \\overset{\\text{숙성}}{\\longrightarrow} \\text{간장}_3$"
   ]
  },
  {
   "cell_type": "markdown",
   "id": "fe817d7b-f8e7-4e89-bb3d-7e841e65f9a3",
   "metadata": {},
   "source": [
    "`*` 수백년 전통의 간장맛을 유지하면서 조리를 한다면? \n",
    "\n",
    "- $\\text{콩물}_1 \\overset{\\text{숙성}}{\\longrightarrow} \\text{간장}_1 \\overset{\\text{조리}}{\\longrightarrow} \\text{간장계란밥}_1$\n",
    "- $\\text{콩물}_2, \\text{간장}_1 \\overset{\\text{숙성}}{\\longrightarrow} \\text{간장}_2 \\overset{\\text{조리}}{\\longrightarrow} \\text{간장계란밥}_2$\n",
    "- $\\text{콩물}_3, \\text{간장}_2 \\overset{\\text{숙성}}{\\longrightarrow} \\text{간장}_3 \\overset{\\text{조리}}{\\longrightarrow} \\text{간장계란밥}_3$"
   ]
  },
  {
   "cell_type": "markdown",
   "id": "8f6f32af-2d43-450b-8cb1-0daf58a50dd1",
   "metadata": {},
   "source": [
    "점점 맛있는 간장계란밥이 탄생함 "
   ]
  },
  {
   "cell_type": "markdown",
   "id": "16ce8ebc-e2f6-4210-9077-bc6b48164333",
   "metadata": {},
   "source": [
    "`*` 알고리즘의 편의상 아래와 같이 생각해도 무방 \n",
    "\n",
    "- $\\text{콩물}_1, \\text{간장}_0 \\overset{\\text{숙성}}{\\longrightarrow} \\text{간장}_1 \\overset{\\text{조리}}{\\longrightarrow} \\text{간장계란밥}_1$, $\\text{간장}_0=\\text{맹물}$\n",
    "- $\\text{콩물}_2, \\text{간장}_1 \\overset{\\text{숙성}}{\\longrightarrow} \\text{간장}_2 \\overset{\\text{조리}}{\\longrightarrow} \\text{간장계란밥}_2$\n",
    "- $\\text{콩물}_3, \\text{간장}_2 \\overset{\\text{숙성}}{\\longrightarrow} \\text{간장}_3 \\overset{\\text{조리}}{\\longrightarrow} \\text{간장계란밥}_3$"
   ]
  },
  {
   "cell_type": "markdown",
   "id": "6979bb58-e8aa-4a2e-b034-9a795f9bcfcd",
   "metadata": {},
   "source": [
    "***아이디어***"
   ]
  },
  {
   "cell_type": "markdown",
   "id": "82669a96-6413-4fcf-992e-c447b1f564a3",
   "metadata": {},
   "source": [
    "`*` 수백년 전통의 간장맛을 유지하면서 조리하는 과정을 수식으로? \n",
    "\n",
    "- $\\boldsymbol{x}_1, \\boldsymbol{h}_0 \\overset{\\text{숙성}}{\\longrightarrow} \\boldsymbol{h}_1 \\overset{\\text{조리}}{\\longrightarrow} \\hat{\\boldsymbol y}_1$\n",
    "- $\\boldsymbol{x}_2, \\boldsymbol{h}_1 \\overset{\\text{숙성}}{\\longrightarrow} \\boldsymbol{h}_2 \\overset{\\text{조리}}{\\longrightarrow} \\hat{\\boldsymbol y}_2$\n",
    "- $\\boldsymbol{x}_3, \\boldsymbol{h}_2 \\overset{\\text{숙성}}{\\longrightarrow} \\boldsymbol{h}_3 \\overset{\\text{조리}}{\\longrightarrow} \\hat{\\boldsymbol y}_3$"
   ]
  },
  {
   "cell_type": "markdown",
   "id": "8734d193-84d7-4743-9bc0-2793f2965bf9",
   "metadata": {},
   "source": [
    "이제 우리가 배울것은 (1) \"$\\text{콩물}_{t}$\"와 \"$\\text{간장}_{t-1}$\"로 \"$\\text{간장}_t$\"를 `숙성`하는 방법 (2) \"$\\text{간장}_t$\"로 \"$\\text{간장계란밥}_t$를 `조리`하는 방법이다 \n",
    "\n",
    "즉 `숙성`담당 네트워크와 `조리`담당 네트워크를 각각 만들어 학습하면 된다. "
   ]
  },
  {
   "cell_type": "markdown",
   "id": "0e0ad45a-de53-4c3b-b319-cdccc1d3297f",
   "metadata": {
    "jp-MarkdownHeadingCollapsed": true,
    "tags": []
   },
   "source": [
    "#### ***기존구조***"
   ]
  },
  {
   "cell_type": "markdown",
   "id": "cd220132-ab31-4235-8202-a2be3761c8a7",
   "metadata": {},
   "source": [
    "#### ***바뀌는 구조***"
   ]
  },
  {
   "cell_type": "markdown",
   "id": "1a1a925d-6d12-4c7f-8982-28516f2bd3f0",
   "metadata": {},
   "source": [
    "(1) $t=0$\n",
    "\n",
    "${\\boldsymbol h}_0=[[0,0]]$ <-- $\\text{간장}_0$은 맹물로 초기화"
   ]
  },
  {
   "cell_type": "markdown",
   "id": "f83b9599-cb6e-431f-b508-5587e04ef8ea",
   "metadata": {},
   "source": [
    "---"
   ]
  },
  {
   "cell_type": "markdown",
   "id": "9cd7d0a0-1236-401f-8035-cef4ab9af1b3",
   "metadata": {},
   "source": [
    "(2) $t=1$ \n",
    "\n",
    "${\\boldsymbol h}_1= \\tanh({\\boldsymbol x}_1{\\bf W}_{ih}+{\\boldsymbol h}_0{\\bf W}_{hh}+{\\boldsymbol b}_{ih}+{\\boldsymbol b}_{hh})$\n",
    "- ${\\boldsymbol x}_1$: (1,4) \n",
    "- ${\\bf W}_{ih}$: (4,2) \n",
    "- ${\\boldsymbol h}_0$: (1,2) \n",
    "- ${\\bf W}_{hh}$: (2,2) \n",
    "- ${\\boldsymbol b}_{ih}$: (1,2)\n",
    "- ${\\boldsymbol b}_{hh}$: (1,2)\n",
    "\n",
    "${\\boldsymbol o}_1= {\\bf W}_{ho}{\\boldsymbol h}_1+{\\boldsymbol b}_{ho}$\n",
    "\n",
    "$\\hat{\\boldsymbol y}_1 = \\text{soft}({\\boldsymbol o}_1)$\n",
    "\n",
    "---"
   ]
  },
  {
   "cell_type": "markdown",
   "id": "a525111d-c205-4b5b-9a7c-52ea52fadc16",
   "metadata": {},
   "source": [
    "일반화된 알고리즘 "
   ]
  },
  {
   "cell_type": "markdown",
   "id": "18b62e3a-20f3-40b8-b513-14d829ae20ee",
   "metadata": {},
   "source": [
    "***(ver1)***\n",
    "\n",
    "init $\\boldsymbol{h}_0$ \n",
    "\n",
    "for $t$ in $1:T$ \n",
    "\n",
    "- ${\\boldsymbol h}_t= \\tanh({\\boldsymbol x}_t{\\bf W}_{ih}+{\\boldsymbol h}_{t-1}{\\bf W}_{hh}+{\\boldsymbol b}_{ih}+{\\boldsymbol b}_{hh})$\n",
    "- ${\\boldsymbol o}_t= {\\bf W}_{ho}{\\boldsymbol h}_1+{\\boldsymbol b}_{ho}$\n",
    "- $\\hat{\\boldsymbol y}_t = \\text{soft}({\\boldsymbol o}_1)$\n",
    "    "
   ]
  },
  {
   "cell_type": "markdown",
   "id": "8f7a69da-a8fb-4c58-87ea-7c3f4a98d5f9",
   "metadata": {},
   "source": [
    "***(ver2)***\n",
    "\n",
    "```Python \n",
    "init hidden\n",
    "\n",
    "for t in 1:T \n",
    "    hidden = tanh(linr(x)+linr(hidden))\n",
    "    output = linr(hidden)\n",
    "    yt_hat = soft(output)\n",
    "```    "
   ]
  },
  {
   "cell_type": "markdown",
   "id": "73bac8bb-611e-473b-8f84-f7fa0cf508e3",
   "metadata": {},
   "source": [
    "- 코드상으로는 $h_t$와 $h_{t-1}$의 구분이 교모하게 사라진다. (그래서 오히려 좋아)"
   ]
  },
  {
   "cell_type": "markdown",
   "id": "d294fa0f-00bf-4f21-b104-8a330edb1932",
   "metadata": {},
   "source": [
    "---"
   ]
  },
  {
   "cell_type": "markdown",
   "id": "f3b02e8b-b97d-4854-84a3-fdb85879ace0",
   "metadata": {},
   "source": [
    "***전체알고리즘은 대충 아래와 같은 형식으로 구현될 수 있음***\n",
    "\n",
    "```Python \n",
    "### \n",
    "class rNNCell(torch.nn.Module):\n",
    "    def __init__(self):\n",
    "        super().__init__()\n",
    "        linr1 = torch.nn.Linear(?,?) \n",
    "        linr2 = torch.nn.Linear(?,?) \n",
    "        tanh = torch.nn.Tanh()\n",
    "    def forward(self,hidden,x):\n",
    "        hidden = tanh(lrnr1(x)+lrnr2(hidden))\n",
    "        return hidden\n",
    "\n",
    "init ht\n",
    "rnncell = rNNCell()\n",
    "\n",
    "for t in 1:T \n",
    "    xt, yt = x[[t]], y[[t]] \n",
    "    ht = rnncell(xt, ht)\n",
    "    ot = linr(ht) \n",
    "    loss = loss + loss_fn(ot, yt)\n",
    "\n",
    "```    "
   ]
  },
  {
   "cell_type": "markdown",
   "id": "14166b71-c90e-42f9-8f82-a195583ba124",
   "metadata": {},
   "source": [
    "### 순환신경망 구현1 -- 성공 "
   ]
  },
  {
   "cell_type": "markdown",
   "id": "eaeb2367-c00f-4746-abf7-9fe22a246270",
   "metadata": {},
   "source": [
    "`(1)` 숙성담당 네트워크"
   ]
  },
  {
   "cell_type": "markdown",
   "id": "381cfd4d-a0ec-4042-94e6-485dd305e7aa",
   "metadata": {},
   "source": [
    "`(2)` 조리담당 네트워크"
   ]
  },
  {
   "cell_type": "markdown",
   "id": "3550b0ba-e04f-402c-b23c-b8d0ec32e9f5",
   "metadata": {},
   "source": [
    "`(3)` 손실함수, 옵티마이저 설계 "
   ]
  },
  {
   "cell_type": "markdown",
   "id": "adc2a343-efed-4859-b876-24395d8f961e",
   "metadata": {},
   "source": [
    "`(4)` 학습 (6분정도 걸림)"
   ]
  },
  {
   "cell_type": "markdown",
   "id": "4c856b53-3c59-4a01-aa8f-39c578f93dce",
   "metadata": {},
   "source": [
    "`(5)` 시각화 "
   ]
  },
  {
   "cell_type": "markdown",
   "id": "d5d78ee2-6994-48bd-82f6-4cf932b27345",
   "metadata": {},
   "source": [
    "- 아주 특이한 특징: yhat[:15], yhat[:-15] 의 적합결과가 다르다\n",
    "- 왜? 간장계란밥은 간장이 중요한데, 간장은 시간이 갈수록 맛있어지니까.."
   ]
  },
  {
   "cell_type": "markdown",
   "id": "7b568025-c455-4d2d-b8d0-618301206099",
   "metadata": {},
   "source": [
    "### 순환신경망 구현2 (with RNNCell) -- 성공 "
   ]
  },
  {
   "cell_type": "markdown",
   "id": "d070fa42-5e5e-4842-b373-abc31d623290",
   "metadata": {},
   "source": [
    "ref: https://pytorch.org/docs/stable/generated/torch.nn.RNNCell.html"
   ]
  },
  {
   "cell_type": "markdown",
   "id": "7ed2fcff-77bf-4328-a9ae-5c9d02fac5fc",
   "metadata": {},
   "source": [
    "`(1)` 숙성네트워크"
   ]
  },
  {
   "cell_type": "markdown",
   "id": "e5ab9e0f-ef9b-46bf-a47d-88db3d916e58",
   "metadata": {},
   "source": [
    "선언"
   ]
  },
  {
   "cell_type": "markdown",
   "id": "bce47c32-3842-4e0e-93d5-1c234bb29f4c",
   "metadata": {},
   "source": [
    "가중치초기화"
   ]
  },
  {
   "cell_type": "markdown",
   "id": "cdcf5852-d78d-406e-8169-f63fdade150a",
   "metadata": {},
   "source": [
    "`(2)` 조리네트워크"
   ]
  },
  {
   "cell_type": "markdown",
   "id": "1e5df109-6cea-4621-bd6f-db5aeb6d24f1",
   "metadata": {},
   "source": [
    "`(3)` 손실함수와 옵티마이저 "
   ]
  },
  {
   "cell_type": "markdown",
   "id": "880e24ed-63c3-4667-949f-3b314509d6e3",
   "metadata": {},
   "source": [
    "`(4)` 학습"
   ]
  },
  {
   "cell_type": "markdown",
   "id": "cc1f4386-dcbd-484e-9f38-b9c4b83a8e56",
   "metadata": {},
   "source": [
    "`(5)` 시각화 "
   ]
  },
  {
   "cell_type": "markdown",
   "id": "7d1a9972-fced-474b-8577-11a8eb9826f9",
   "metadata": {},
   "source": [
    "### 순환신경망 구현3 (with RNN) -- 성공 "
   ]
  },
  {
   "cell_type": "markdown",
   "id": "8abe98c1-28a1-46a2-9740-fdc2e2ada8c3",
   "metadata": {},
   "source": [
    "---"
   ]
  },
  {
   "cell_type": "markdown",
   "id": "94aab58e-98b2-4817-8ef4-615f1ecfe84c",
   "metadata": {},
   "source": [
    "(예비학습)"
   ]
  },
  {
   "cell_type": "markdown",
   "id": "2ca0471c-7515-4cd7-8469-1d0914a6405d",
   "metadata": {},
   "source": [
    "`-` 아무리 생각해도 yhat구하려면 좀 귀찮음"
   ]
  },
  {
   "cell_type": "markdown",
   "id": "ceb40461-3e6d-49ef-a95b-8c3d3f9bed7e",
   "metadata": {},
   "source": [
    "`-` 이렇게 하면 쉽게(?) 구할 수 있음 "
   ]
  },
  {
   "cell_type": "markdown",
   "id": "d8401ef7-cb66-482a-82ef-1d7227c2dbba",
   "metadata": {},
   "source": [
    "- 똑같음!"
   ]
  },
  {
   "cell_type": "markdown",
   "id": "55cae3ec-22fa-4658-b603-5a0d79cdf5ad",
   "metadata": {},
   "source": [
    "`-` rnn(x,_water)의 결과는 (1) 599년치 간장 (2) 599번째 간장 이다 "
   ]
  },
  {
   "cell_type": "code",
   "execution_count": 39,
   "id": "84f109e6-ceab-472b-8163-330fefec5636",
   "metadata": {},
   "outputs": [
    {
     "data": {
      "text/plain": [
       "(tensor([[-0.2232,  0.9769],\n",
       "         [-0.9999, -0.9742],\n",
       "         [ 0.9154,  0.9992],\n",
       "         ...,\n",
       "         [ 0.9200,  0.9992],\n",
       "         [-0.9978, -0.0823],\n",
       "         [-0.9154,  0.9965]], grad_fn=<SqueezeBackward1>),\n",
       " tensor([[-0.9154,  0.9965]], grad_fn=<SqueezeBackward1>))"
      ]
     },
     "execution_count": 39,
     "metadata": {},
     "output_type": "execute_result"
    }
   ],
   "source": [
    "rnn(x,_water)"
   ]
  },
  {
   "cell_type": "markdown",
   "id": "34575355-d01e-48ff-89c1-ce3ba12e45be",
   "metadata": {},
   "source": [
    "***(예비학습결론) torch.nn.RNN(4,2)는 torch.nn.RNNCell(4,2)의 batch 버전이다. (for문이 포함된 버전이다)***"
   ]
  },
  {
   "cell_type": "markdown",
   "id": "8dca19d0-475f-4758-a933-df6d8f0e816b",
   "metadata": {},
   "source": [
    "---"
   ]
  },
  {
   "cell_type": "markdown",
   "id": "35077f0a-5f9b-497f-acca-280f23448065",
   "metadata": {},
   "source": [
    "torch.nn.RNN(4,2)를 이용하여 구현하자. "
   ]
  },
  {
   "cell_type": "markdown",
   "id": "1dca9963-4397-42d8-9c3c-c73ce76b6e76",
   "metadata": {},
   "source": [
    "`(1)` 숙성네트워크"
   ]
  },
  {
   "cell_type": "markdown",
   "id": "7b8c0563-54e2-4782-905e-3c5b1e4992a9",
   "metadata": {},
   "source": [
    "선언"
   ]
  },
  {
   "cell_type": "markdown",
   "id": "3714c988-b308-4226-b917-db22235d3564",
   "metadata": {},
   "source": [
    "가중치초기화"
   ]
  },
  {
   "cell_type": "markdown",
   "id": "d05202be-9e0b-4275-b8ab-24e4287ddc38",
   "metadata": {},
   "source": [
    "`(2)` 조리네트워크"
   ]
  },
  {
   "cell_type": "markdown",
   "id": "2458624f-d55b-4a10-9816-3ee3e2f3cba3",
   "metadata": {},
   "source": [
    "`(3)` 손실함수와 옵티마이저"
   ]
  },
  {
   "cell_type": "markdown",
   "id": "55794958-affc-4bcf-92b0-513295e5fa6d",
   "metadata": {},
   "source": [
    "`(4)` 학습"
   ]
  },
  {
   "cell_type": "markdown",
   "id": "81f37198-430a-4cc7-8dca-16758dda58a7",
   "metadata": {},
   "source": [
    "`(5)` 시각화"
   ]
  },
  {
   "cell_type": "code",
   "execution_count": null,
   "id": "7811681a-651a-4c2a-82b5-52ff122b6514",
   "metadata": {},
   "outputs": [],
   "source": []
  }
 ],
 "metadata": {
  "kernelspec": {
   "display_name": "Python 3 (ipykernel)",
   "language": "python",
   "name": "python3"
  },
  "language_info": {
   "codemirror_mode": {
    "name": "ipython",
    "version": 3
   },
   "file_extension": ".py",
   "mimetype": "text/x-python",
   "name": "python",
   "nbconvert_exporter": "python",
   "pygments_lexer": "ipython3",
   "version": "3.7.13"
  }
 },
 "nbformat": 4,
 "nbformat_minor": 5
}
