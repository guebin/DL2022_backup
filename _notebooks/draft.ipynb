{
 "cells": [
  {
   "cell_type": "markdown",
   "id": "ff0f21ff-c327-44ee-ae11-2300cd481f2c",
   "metadata": {
    "tags": []
   },
   "source": [
    "# (4주차) 9월27일 -- draft\n",
    "> 딥러닝의 기초 - 회귀분석(2)--step1~4, step 2,3,4의 다른표현\n",
    "\n",
    "- toc:true\n",
    "- branch: master\n",
    "- badges: true\n",
    "- comments: true\n",
    "- author: 최규빈"
   ]
  },
  {
   "cell_type": "markdown",
   "id": "0b6be4e2-1722-44bd-90ae-ade5484bca76",
   "metadata": {},
   "source": [
    "## Imports"
   ]
  },
  {
   "cell_type": "code",
   "execution_count": 387,
   "id": "f8c29346-1869-4a86-b806-71a7722377bf",
   "metadata": {},
   "outputs": [],
   "source": [
    "import torch\n",
    "import pandas as pd\n",
    "import numpy as np\n",
    "import matplotlib.pyplot as plt "
   ]
  },
  {
   "cell_type": "markdown",
   "id": "099bb477-7548-4205-aa33-7438dedaa67b",
   "metadata": {},
   "source": [
    "## numpy, torch (선택학습)"
   ]
  },
  {
   "cell_type": "markdown",
   "id": "1a7bf3cb-94eb-4721-84af-ecb53bbcff25",
   "metadata": {},
   "source": [
    "### numpy, torch는 엄청 비슷해요 "
   ]
  },
  {
   "cell_type": "markdown",
   "id": "4e82853b-1645-4f01-b6e5-dce0942033db",
   "metadata": {},
   "source": [
    "`-` torch.tensor() = np.array() 처럼 생각해도 무방 "
   ]
  },
  {
   "cell_type": "code",
   "execution_count": 444,
   "id": "902be739-1d8c-4687-8824-d68064fe555c",
   "metadata": {},
   "outputs": [
    {
     "data": {
      "text/plain": [
       "(array([1, 2, 3]), tensor([1, 2, 3]))"
      ]
     },
     "execution_count": 444,
     "metadata": {},
     "output_type": "execute_result"
    }
   ],
   "source": [
    "np.array([1,2,3]), torch.tensor([1,2,3])"
   ]
  },
  {
   "cell_type": "markdown",
   "id": "48d84e82-343c-474f-b050-810e248461b4",
   "metadata": {},
   "source": [
    "`-` 소수점의 정밀도에서 차이가 있음 (torch가 좀 더 쪼잔함) "
   ]
  },
  {
   "cell_type": "code",
   "execution_count": 445,
   "id": "7a12de48-ab20-4481-879d-72d676802827",
   "metadata": {},
   "outputs": [
    {
     "data": {
      "text/plain": [
       "array([3.12345679])"
      ]
     },
     "execution_count": 445,
     "metadata": {},
     "output_type": "execute_result"
    }
   ],
   "source": [
    "np.array([3.123456789])"
   ]
  },
  {
   "cell_type": "code",
   "execution_count": 446,
   "id": "1b81f973-d3b2-4c08-961f-5d58b9b50566",
   "metadata": {},
   "outputs": [
    {
     "data": {
      "text/plain": [
       "tensor([3.1235])"
      ]
     },
     "execution_count": 446,
     "metadata": {},
     "output_type": "execute_result"
    }
   ],
   "source": [
    "torch.tensor([3.123456789])"
   ]
  },
  {
   "cell_type": "markdown",
   "id": "375e5f8b-051b-4d10-be09-c7dd26372b13",
   "metadata": {},
   "source": [
    "`-` 기본적인 numpy 문법은 np 대신에 torch를 써도 무방 // 완전 같지는 않음 "
   ]
  },
  {
   "cell_type": "code",
   "execution_count": 425,
   "id": "94ef0d96-8b9f-427c-baee-7a6f384c8db8",
   "metadata": {},
   "outputs": [
    {
     "data": {
      "text/plain": [
       "(array([0, 1, 2, 3, 4, 5, 6, 7, 8, 9]), tensor([0, 1, 2, 3, 4, 5, 6, 7, 8, 9]))"
      ]
     },
     "execution_count": 425,
     "metadata": {},
     "output_type": "execute_result"
    }
   ],
   "source": [
    "np.arange(10), torch.arange(10)"
   ]
  },
  {
   "cell_type": "code",
   "execution_count": 426,
   "id": "87bc3f66-cfe8-4faa-8c8a-4219a8886c5d",
   "metadata": {},
   "outputs": [
    {
     "data": {
      "text/plain": [
       "(array([0.        , 0.11111111, 0.22222222, 0.33333333, 0.44444444,\n",
       "        0.55555556, 0.66666667, 0.77777778, 0.88888889, 1.        ]),\n",
       " tensor([0.0000, 0.1111, 0.2222, 0.3333, 0.4444, 0.5556, 0.6667, 0.7778, 0.8889,\n",
       "         1.0000]))"
      ]
     },
     "execution_count": 426,
     "metadata": {},
     "output_type": "execute_result"
    }
   ],
   "source": [
    "np.linspace(0,1,10), torch.linspace(0,1,10)"
   ]
  },
  {
   "cell_type": "code",
   "execution_count": 428,
   "id": "780c2a69-23b4-4b19-ab7f-475cd887ea19",
   "metadata": {},
   "outputs": [
    {
     "data": {
      "text/plain": [
       "array([-1.65005215,  0.6765417 ,  0.2340635 , -0.23399836,  0.24460602,\n",
       "        0.26614919,  0.12982052, -0.31751179,  0.77568713,  0.00523241])"
      ]
     },
     "execution_count": 428,
     "metadata": {},
     "output_type": "execute_result"
    }
   ],
   "source": [
    "np.random.randn(10)"
   ]
  },
  {
   "cell_type": "code",
   "execution_count": 431,
   "id": "215321fe-1688-4520-aabf-f22c20e74c64",
   "metadata": {},
   "outputs": [
    {
     "data": {
      "text/plain": [
       "tensor([-0.6582, -0.6651, -0.9028,  1.2691, -1.5274,  0.0752, -2.2186,  0.0333,\n",
       "        -0.1234,  0.2954])"
      ]
     },
     "execution_count": 431,
     "metadata": {},
     "output_type": "execute_result"
    }
   ],
   "source": [
    "torch.randn(10)"
   ]
  },
  {
   "cell_type": "markdown",
   "id": "b083e36d-78bc-42bf-8b67-a8dbc9176087",
   "metadata": {},
   "source": [
    "### length $n$ vector, $n \\times 1$ col-vector, $1 \\times n$ row-vector "
   ]
  },
  {
   "cell_type": "markdown",
   "id": "8586bb1e-658b-4dbe-a1c4-3af1e77603e2",
   "metadata": {},
   "source": [
    "`-` 길이가 3인 벡터 선언방법 "
   ]
  },
  {
   "cell_type": "code",
   "execution_count": 513,
   "id": "71f267fa-257f-4f74-9b8a-353d2eb4e3cc",
   "metadata": {},
   "outputs": [
    {
     "data": {
      "text/plain": [
       "torch.Size([3])"
      ]
     },
     "execution_count": 513,
     "metadata": {},
     "output_type": "execute_result"
    }
   ],
   "source": [
    "a = torch.tensor([1,2,3])\n",
    "a.shape"
   ]
  },
  {
   "cell_type": "markdown",
   "id": "28e6c95a-1ea8-4d2d-b850-17b434afe4bb",
   "metadata": {},
   "source": [
    "`-` 3x1 col-vec 선언방법 "
   ]
  },
  {
   "cell_type": "markdown",
   "id": "b8c48ad6-3f48-4493-905b-3c7c9a0a58f1",
   "metadata": {},
   "source": [
    "(방법1)"
   ]
  },
  {
   "cell_type": "code",
   "execution_count": 514,
   "id": "3e2e1495-312a-4c14-bc46-1273f0b2092c",
   "metadata": {},
   "outputs": [
    {
     "data": {
      "text/plain": [
       "torch.Size([3, 1])"
      ]
     },
     "execution_count": 514,
     "metadata": {},
     "output_type": "execute_result"
    }
   ],
   "source": [
    "a = torch.tensor([[1],[2],[3]])\n",
    "a.shape"
   ]
  },
  {
   "cell_type": "markdown",
   "id": "3ce81d53-8956-49cc-9694-7fc05eac3a5e",
   "metadata": {},
   "source": [
    "(방법2)"
   ]
  },
  {
   "cell_type": "code",
   "execution_count": 515,
   "id": "9205d9a6-2992-4ee2-a412-131d68fbaf99",
   "metadata": {},
   "outputs": [
    {
     "data": {
      "text/plain": [
       "torch.Size([3, 1])"
      ]
     },
     "execution_count": 515,
     "metadata": {},
     "output_type": "execute_result"
    }
   ],
   "source": [
    "a = torch.tensor([1,2,3]).reshape(3,1)\n",
    "a.shape"
   ]
  },
  {
   "cell_type": "markdown",
   "id": "3807e293-7f4b-4390-ab5f-932a9d382165",
   "metadata": {},
   "source": [
    "`-` 1x3 row-vec 선언방법 "
   ]
  },
  {
   "cell_type": "markdown",
   "id": "989590c4-cc56-4be9-b2a2-b5cc6631e719",
   "metadata": {},
   "source": [
    "(방법1)"
   ]
  },
  {
   "cell_type": "code",
   "execution_count": 517,
   "id": "4440ebb5-ed60-4e9d-ae82-243f0e689191",
   "metadata": {},
   "outputs": [
    {
     "data": {
      "text/plain": [
       "torch.Size([1, 3])"
      ]
     },
     "execution_count": 517,
     "metadata": {},
     "output_type": "execute_result"
    }
   ],
   "source": [
    "a = torch.tensor([[1,2,3]])\n",
    "a.shape"
   ]
  },
  {
   "cell_type": "markdown",
   "id": "ba617aae-89bd-414d-9dda-a59f9c3726cf",
   "metadata": {},
   "source": [
    "(방법2)"
   ]
  },
  {
   "cell_type": "code",
   "execution_count": 518,
   "id": "aada1dc6-1aa0-4703-ad7a-9619e1b8512b",
   "metadata": {},
   "outputs": [
    {
     "data": {
      "text/plain": [
       "torch.Size([1, 3])"
      ]
     },
     "execution_count": 518,
     "metadata": {},
     "output_type": "execute_result"
    }
   ],
   "source": [
    "a = torch.tensor([1,2,3]).reshape(1,3)\n",
    "a.shape"
   ]
  },
  {
   "cell_type": "markdown",
   "id": "ad57f12f-aae6-442a-b296-aab4ffc28095",
   "metadata": {},
   "source": [
    "`-` 3x1 col-vec 선언방법, 1x3 row-vec 선언방법에서 `[[1],[2],[3]]` 혹은 `[[1,2,3]]` 와 같은 표현이 이해안되면 아래링크로 가셔서 \n",
    "\n",
    "https://guebin.github.io/STBDA2022/2022/03/14/(2주차)-3월14일.html\n",
    "\n",
    "첫번째 동영상 12:15 - 22:45 에 해당하는 분량을 학습하시길 바랍니다. "
   ]
  },
  {
   "cell_type": "markdown",
   "id": "c90d9715-c1f8-4c1f-9017-74f0d7089a09",
   "metadata": {},
   "source": [
    "### torch의 dtype"
   ]
  },
  {
   "cell_type": "markdown",
   "id": "c88973d3-3405-4527-a8bb-cee07d729833",
   "metadata": {},
   "source": [
    "`-` 기본적으로 torch는 소수점으로 저장되면 dtype=torch.float32 가 된다. (이걸로 맞추는게 편리함) "
   ]
  },
  {
   "cell_type": "code",
   "execution_count": 491,
   "id": "2d483ca4-f055-4741-8db1-6ae2b1f8ebba",
   "metadata": {},
   "outputs": [
    {
     "data": {
      "text/plain": [
       "tensor([1.2300, 2.3400])"
      ]
     },
     "execution_count": 491,
     "metadata": {},
     "output_type": "execute_result"
    }
   ],
   "source": [
    "tsr = torch.tensor([1.23,2.34])\n",
    "tsr"
   ]
  },
  {
   "cell_type": "code",
   "execution_count": 492,
   "id": "b7b3e3d4-7467-4d0c-b149-96da3b5cca61",
   "metadata": {},
   "outputs": [
    {
     "data": {
      "text/plain": [
       "torch.float32"
      ]
     },
     "execution_count": 492,
     "metadata": {},
     "output_type": "execute_result"
    }
   ],
   "source": [
    "tsr.dtype"
   ]
  },
  {
   "cell_type": "markdown",
   "id": "bbad1bbd-2dcf-412d-8e85-231a7684b163",
   "metadata": {},
   "source": [
    "`-` 정수로 선언하더라도 dtype를 torch.float32로 바꾸는게 유리함 "
   ]
  },
  {
   "cell_type": "markdown",
   "id": "e265e8f2-bc41-4ebb-899b-211f02316d90",
   "metadata": {},
   "source": [
    "(안 좋은 선언예시) "
   ]
  },
  {
   "cell_type": "code",
   "execution_count": 493,
   "id": "82194eb2-3a48-45de-91fb-24593d71dee1",
   "metadata": {},
   "outputs": [
    {
     "data": {
      "text/plain": [
       "tensor([1, 2])"
      ]
     },
     "execution_count": 493,
     "metadata": {},
     "output_type": "execute_result"
    }
   ],
   "source": [
    "tsr = torch.tensor([1,2])\n",
    "tsr "
   ]
  },
  {
   "cell_type": "code",
   "execution_count": 494,
   "id": "d73410a5-97da-4584-a781-6c267dccba51",
   "metadata": {},
   "outputs": [
    {
     "data": {
      "text/plain": [
       "torch.int64"
      ]
     },
     "execution_count": 494,
     "metadata": {},
     "output_type": "execute_result"
    }
   ],
   "source": [
    "tsr.dtype"
   ]
  },
  {
   "cell_type": "markdown",
   "id": "6b4dc741-e9b6-4af4-9d26-983149fdfc1b",
   "metadata": {},
   "source": [
    "(좋은 선언예시1) "
   ]
  },
  {
   "cell_type": "code",
   "execution_count": 504,
   "id": "69bd60a9-9cb7-44a4-b791-07569aca5764",
   "metadata": {},
   "outputs": [
    {
     "data": {
      "text/plain": [
       "tensor([1., 2.])"
      ]
     },
     "execution_count": 504,
     "metadata": {},
     "output_type": "execute_result"
    }
   ],
   "source": [
    "tsr = torch.tensor([1,2],dtype=torch.float32)\n",
    "tsr "
   ]
  },
  {
   "cell_type": "code",
   "execution_count": 505,
   "id": "2cd9a0e7-7019-4a5f-b3e6-96f9e472e6ab",
   "metadata": {},
   "outputs": [
    {
     "data": {
      "text/plain": [
       "torch.float32"
      ]
     },
     "execution_count": 505,
     "metadata": {},
     "output_type": "execute_result"
    }
   ],
   "source": [
    "tsr.dtype"
   ]
  },
  {
   "cell_type": "markdown",
   "id": "06405a59-638e-4327-8e7b-8633c6e1701f",
   "metadata": {},
   "source": [
    "(좋은 선언예시2) "
   ]
  },
  {
   "cell_type": "code",
   "execution_count": 507,
   "id": "283d45e3-d979-4280-afc9-cffe4d8e25f3",
   "metadata": {},
   "outputs": [
    {
     "data": {
      "text/plain": [
       "tensor([1., 2.])"
      ]
     },
     "execution_count": 507,
     "metadata": {},
     "output_type": "execute_result"
    }
   ],
   "source": [
    "tsr = torch.tensor([1,2.0])\n",
    "tsr "
   ]
  },
  {
   "cell_type": "code",
   "execution_count": 508,
   "id": "7f17f30e-5680-4a6d-b343-79d0851ea157",
   "metadata": {},
   "outputs": [
    {
     "data": {
      "text/plain": [
       "torch.float32"
      ]
     },
     "execution_count": 508,
     "metadata": {},
     "output_type": "execute_result"
    }
   ],
   "source": [
    "tsr.dtype"
   ]
  },
  {
   "cell_type": "markdown",
   "id": "90dd21ee-d58c-46e7-a354-bfebfb89f579",
   "metadata": {},
   "source": [
    "(사실 int로 선언해도 나중에 float으로 바꾸면 큰 문제없음) "
   ]
  },
  {
   "cell_type": "code",
   "execution_count": 522,
   "id": "acb35d65-2304-4984-8555-7128ce85e15f",
   "metadata": {},
   "outputs": [
    {
     "data": {
      "text/plain": [
       "tensor([1., 2.])"
      ]
     },
     "execution_count": 522,
     "metadata": {},
     "output_type": "execute_result"
    }
   ],
   "source": [
    "tsr = torch.tensor([1,2]).float()\n",
    "tsr"
   ]
  },
  {
   "cell_type": "code",
   "execution_count": 523,
   "id": "e6dfe0e8-9b98-4fb3-aabe-42ebb638d6e4",
   "metadata": {},
   "outputs": [
    {
     "data": {
      "text/plain": [
       "torch.float32"
      ]
     },
     "execution_count": 523,
     "metadata": {},
     "output_type": "execute_result"
    }
   ],
   "source": [
    "tsr.dtype"
   ]
  },
  {
   "cell_type": "markdown",
   "id": "2d78f0b2-d045-432b-b7f5-15a4610a35b8",
   "metadata": {},
   "source": [
    "`-` 왜 정수만으로 torch.tensor를 만들때에도 torch.float32로 바꾸는게 유리할까? $\\to$ torch.tensor끼리의 연산에서 문제가 될 수 있음 "
   ]
  },
  {
   "cell_type": "markdown",
   "id": "8db0f55c-fd2a-41b8-8de3-d9bfeabd497c",
   "metadata": {},
   "source": [
    "별 문제 없을수도 있지만 "
   ]
  },
  {
   "cell_type": "code",
   "execution_count": 502,
   "id": "431754ba-4c0b-4467-834b-6ee9a5dc843e",
   "metadata": {},
   "outputs": [
    {
     "data": {
      "text/plain": [
       "tensor([0., 0.])"
      ]
     },
     "execution_count": 502,
     "metadata": {},
     "output_type": "execute_result"
    }
   ],
   "source": [
    "torch.tensor([1,2])-torch.tensor([1.0,2.0]) "
   ]
  },
  {
   "cell_type": "markdown",
   "id": "0831d276-bb75-4ed2-90ed-9de1d90e53eb",
   "metadata": {},
   "source": [
    "에러가 날수도 있다 "
   ]
  },
  {
   "cell_type": "code",
   "execution_count": 503,
   "id": "14085d42-e2c0-4474-b830-b2cfc1f174b0",
   "metadata": {},
   "outputs": [
    {
     "ename": "RuntimeError",
     "evalue": "expected scalar type Float but found Long",
     "output_type": "error",
     "traceback": [
      "\u001b[0;31m---------------------------------------------------------------------------\u001b[0m",
      "\u001b[0;31mRuntimeError\u001b[0m                              Traceback (most recent call last)",
      "\u001b[0;32m/tmp/ipykernel_995084/281683190.py\u001b[0m in \u001b[0;36m<module>\u001b[0;34m\u001b[0m\n\u001b[0;32m----> 1\u001b[0;31m \u001b[0mtorch\u001b[0m\u001b[0;34m.\u001b[0m\u001b[0mtensor\u001b[0m\u001b[0;34m(\u001b[0m\u001b[0;34m[\u001b[0m\u001b[0;34m[\u001b[0m\u001b[0;36m1.0\u001b[0m\u001b[0;34m,\u001b[0m\u001b[0;36m0.0\u001b[0m\u001b[0;34m]\u001b[0m\u001b[0;34m,\u001b[0m\u001b[0;34m[\u001b[0m\u001b[0;36m0.0\u001b[0m\u001b[0;34m,\u001b[0m\u001b[0;36m1.0\u001b[0m\u001b[0;34m]\u001b[0m\u001b[0;34m]\u001b[0m\u001b[0;34m)\u001b[0m \u001b[0;34m@\u001b[0m \u001b[0mtorch\u001b[0m\u001b[0;34m.\u001b[0m\u001b[0mtensor\u001b[0m\u001b[0;34m(\u001b[0m\u001b[0;34m[\u001b[0m\u001b[0;34m[\u001b[0m\u001b[0;36m1\u001b[0m\u001b[0;34m]\u001b[0m\u001b[0;34m,\u001b[0m\u001b[0;34m[\u001b[0m\u001b[0;36m2\u001b[0m\u001b[0;34m]\u001b[0m\u001b[0;34m]\u001b[0m\u001b[0;34m)\u001b[0m\u001b[0;34m\u001b[0m\u001b[0;34m\u001b[0m\u001b[0m\n\u001b[0m",
      "\u001b[0;31mRuntimeError\u001b[0m: expected scalar type Float but found Long"
     ]
    }
   ],
   "source": [
    "torch.tensor([[1.0,0.0],[0.0,1.0]]) @ torch.tensor([[1],[2]]) "
   ]
  },
  {
   "cell_type": "code",
   "execution_count": 499,
   "id": "eeaa2863-2804-4ac3-855e-3d1e35035eb8",
   "metadata": {},
   "outputs": [
    {
     "ename": "RuntimeError",
     "evalue": "expected scalar type Long but found Float",
     "output_type": "error",
     "traceback": [
      "\u001b[0;31m---------------------------------------------------------------------------\u001b[0m",
      "\u001b[0;31mRuntimeError\u001b[0m                              Traceback (most recent call last)",
      "\u001b[0;32m/tmp/ipykernel_995084/837094206.py\u001b[0m in \u001b[0;36m<module>\u001b[0;34m\u001b[0m\n\u001b[0;32m----> 1\u001b[0;31m \u001b[0mtorch\u001b[0m\u001b[0;34m.\u001b[0m\u001b[0mtensor\u001b[0m\u001b[0;34m(\u001b[0m\u001b[0;34m[\u001b[0m\u001b[0;34m[\u001b[0m\u001b[0;36m1\u001b[0m\u001b[0;34m,\u001b[0m\u001b[0;36m0\u001b[0m\u001b[0;34m]\u001b[0m\u001b[0;34m,\u001b[0m\u001b[0;34m[\u001b[0m\u001b[0;36m0\u001b[0m\u001b[0;34m,\u001b[0m\u001b[0;36m1\u001b[0m\u001b[0;34m]\u001b[0m\u001b[0;34m]\u001b[0m\u001b[0;34m)\u001b[0m \u001b[0;34m@\u001b[0m \u001b[0mtorch\u001b[0m\u001b[0;34m.\u001b[0m\u001b[0mtensor\u001b[0m\u001b[0;34m(\u001b[0m\u001b[0;34m[\u001b[0m\u001b[0;34m[\u001b[0m\u001b[0;36m1.0\u001b[0m\u001b[0;34m]\u001b[0m\u001b[0;34m,\u001b[0m\u001b[0;34m[\u001b[0m\u001b[0;36m2.0\u001b[0m\u001b[0;34m]\u001b[0m\u001b[0;34m]\u001b[0m\u001b[0;34m)\u001b[0m\u001b[0;34m\u001b[0m\u001b[0;34m\u001b[0m\u001b[0m\n\u001b[0m",
      "\u001b[0;31mRuntimeError\u001b[0m: expected scalar type Long but found Float"
     ]
    }
   ],
   "source": [
    "torch.tensor([[1,0],[0,1]]) @ torch.tensor([[1.0],[2.0]])"
   ]
  },
  {
   "cell_type": "markdown",
   "id": "3900dfb3-1c1c-4c87-84cf-13c3d9aa54df",
   "metadata": {},
   "source": [
    "둘다 정수로 통일하는것도 방법이지만 "
   ]
  },
  {
   "cell_type": "code",
   "execution_count": 500,
   "id": "7625b0a0-2592-4436-840c-b376a13c4a38",
   "metadata": {},
   "outputs": [
    {
     "data": {
      "text/plain": [
       "tensor([[1],\n",
       "        [2]])"
      ]
     },
     "execution_count": 500,
     "metadata": {},
     "output_type": "execute_result"
    }
   ],
   "source": [
    "torch.tensor([[1,0],[0,1]]) @ torch.tensor([[1],[2]])"
   ]
  },
  {
   "cell_type": "markdown",
   "id": "a997d526-83d9-460a-984e-cfed4dfa19a7",
   "metadata": {},
   "source": [
    "둘다 소수로 통일하는게 더 좋음 "
   ]
  },
  {
   "cell_type": "code",
   "execution_count": 501,
   "id": "60298386-a910-40aa-b1d0-7cf18b1bc997",
   "metadata": {},
   "outputs": [
    {
     "data": {
      "text/plain": [
       "tensor([[1.],\n",
       "        [2.]])"
      ]
     },
     "execution_count": 501,
     "metadata": {},
     "output_type": "execute_result"
    }
   ],
   "source": [
    "torch.tensor([[1.0,0.0],[0.0,1.0]]) @ torch.tensor([[1.0],[2.0]])"
   ]
  },
  {
   "cell_type": "markdown",
   "id": "69a25057-360f-47dc-897c-93868fff8122",
   "metadata": {},
   "source": [
    "### shape of vector"
   ]
  },
  {
   "cell_type": "markdown",
   "id": "6bf2dead-3353-4a13-8b86-a4d58e67aa18",
   "metadata": {},
   "source": [
    "`-` 행렬곱셈에 대한 shape 조심"
   ]
  },
  {
   "cell_type": "code",
   "execution_count": 463,
   "id": "f7b7dd90-5dba-48c2-a303-0fb0609c2a37",
   "metadata": {},
   "outputs": [],
   "source": [
    "A = torch.tensor([[2.00,0.00],[0.00,3.00]]) \n",
    "b1 = torch.tensor([[-1.0,-5.0]])\n",
    "b2 = torch.tensor([[-1.0],[-5.0]])\n",
    "b3 = torch.tensor([-1.0,-5.0])"
   ]
  },
  {
   "cell_type": "code",
   "execution_count": 464,
   "id": "e92dc52a-b598-4517-9b48-7e03c2c92024",
   "metadata": {},
   "outputs": [
    {
     "data": {
      "text/plain": [
       "(torch.Size([2, 2]), torch.Size([1, 2]), torch.Size([2, 1]), torch.Size([2]))"
      ]
     },
     "execution_count": 464,
     "metadata": {},
     "output_type": "execute_result"
    }
   ],
   "source": [
    "A.shape,b1.shape,b2.shape,b3.shape"
   ]
  },
  {
   "cell_type": "markdown",
   "id": "2e13ddfa-a6ec-4e97-bdac-b1a5cfde458a",
   "metadata": {},
   "source": [
    "`-` A@b1: 계산불가, b1@A: 계산가능"
   ]
  },
  {
   "cell_type": "code",
   "execution_count": 467,
   "id": "9e2f7608-d0ef-4747-88d7-4d120bdf3dc5",
   "metadata": {},
   "outputs": [
    {
     "ename": "RuntimeError",
     "evalue": "mat1 and mat2 shapes cannot be multiplied (2x2 and 1x2)",
     "output_type": "error",
     "traceback": [
      "\u001b[0;31m---------------------------------------------------------------------------\u001b[0m",
      "\u001b[0;31mRuntimeError\u001b[0m                              Traceback (most recent call last)",
      "\u001b[0;32m/tmp/ipykernel_995084/615827064.py\u001b[0m in \u001b[0;36m<module>\u001b[0;34m\u001b[0m\n\u001b[0;32m----> 1\u001b[0;31m \u001b[0mA\u001b[0m\u001b[0;34m@\u001b[0m\u001b[0mb1\u001b[0m\u001b[0;34m\u001b[0m\u001b[0;34m\u001b[0m\u001b[0m\n\u001b[0m",
      "\u001b[0;31mRuntimeError\u001b[0m: mat1 and mat2 shapes cannot be multiplied (2x2 and 1x2)"
     ]
    }
   ],
   "source": [
    "A@b1"
   ]
  },
  {
   "cell_type": "code",
   "execution_count": 468,
   "id": "b23135a2-bd48-42f9-bd24-3bea0619d552",
   "metadata": {},
   "outputs": [
    {
     "data": {
      "text/plain": [
       "tensor([[ -2., -15.]])"
      ]
     },
     "execution_count": 468,
     "metadata": {},
     "output_type": "execute_result"
    }
   ],
   "source": [
    "b1@A"
   ]
  },
  {
   "cell_type": "markdown",
   "id": "6ec74280-42e3-4af7-baba-2407f0390a29",
   "metadata": {},
   "source": [
    "`-` A@b2: 계산가능, b2@A: 계산불가 "
   ]
  },
  {
   "cell_type": "code",
   "execution_count": 470,
   "id": "3ebdce04-f9bc-45e4-a2b0-e62e1ec3ae50",
   "metadata": {},
   "outputs": [
    {
     "data": {
      "text/plain": [
       "tensor([[ -2.],\n",
       "        [-15.]])"
      ]
     },
     "execution_count": 470,
     "metadata": {},
     "output_type": "execute_result"
    }
   ],
   "source": [
    "A@b2"
   ]
  },
  {
   "cell_type": "code",
   "execution_count": 471,
   "id": "8e356e9b-0097-4e3c-8414-86670b0f162a",
   "metadata": {},
   "outputs": [
    {
     "ename": "RuntimeError",
     "evalue": "mat1 and mat2 shapes cannot be multiplied (2x1 and 2x2)",
     "output_type": "error",
     "traceback": [
      "\u001b[0;31m---------------------------------------------------------------------------\u001b[0m",
      "\u001b[0;31mRuntimeError\u001b[0m                              Traceback (most recent call last)",
      "\u001b[0;32m/tmp/ipykernel_995084/926932629.py\u001b[0m in \u001b[0;36m<module>\u001b[0;34m\u001b[0m\n\u001b[0;32m----> 1\u001b[0;31m \u001b[0mb2\u001b[0m\u001b[0;34m@\u001b[0m\u001b[0mA\u001b[0m\u001b[0;34m\u001b[0m\u001b[0;34m\u001b[0m\u001b[0m\n\u001b[0m",
      "\u001b[0;31mRuntimeError\u001b[0m: mat1 and mat2 shapes cannot be multiplied (2x1 and 2x2)"
     ]
    }
   ],
   "source": [
    "b2@A"
   ]
  },
  {
   "cell_type": "markdown",
   "id": "496774ed-7d15-4821-b047-4aa7b4e8f7e9",
   "metadata": {},
   "source": [
    "`-` A@b3: 계산가능, b3@A: 계산가능 "
   ]
  },
  {
   "cell_type": "code",
   "execution_count": 475,
   "id": "11baf788-03f3-4a86-81c1-13d35b85b26e",
   "metadata": {},
   "outputs": [
    {
     "data": {
      "text/plain": [
       "torch.Size([2])"
      ]
     },
     "execution_count": 475,
     "metadata": {},
     "output_type": "execute_result"
    }
   ],
   "source": [
    "(A@b3).shape ## b3를 마치 col-vec 처럼 해석"
   ]
  },
  {
   "cell_type": "code",
   "execution_count": 476,
   "id": "d1284963-c62b-46d6-ba4e-ac6a8d18db9f",
   "metadata": {},
   "outputs": [
    {
     "data": {
      "text/plain": [
       "torch.Size([2])"
      ]
     },
     "execution_count": 476,
     "metadata": {},
     "output_type": "execute_result"
    }
   ],
   "source": [
    "(b3@A).shape ## b3를 마지 row-vec 처럼 해석"
   ]
  },
  {
   "cell_type": "markdown",
   "id": "4f3d3c93-6e3c-4405-a715-f0b5236a1c7a",
   "metadata": {},
   "source": [
    "`-` 브로드캐스팅 "
   ]
  },
  {
   "cell_type": "code",
   "execution_count": 459,
   "id": "88aa9ddb-da11-4cc1-b52c-12771887dcc5",
   "metadata": {},
   "outputs": [
    {
     "data": {
      "text/plain": [
       "tensor([0, 1, 2])"
      ]
     },
     "execution_count": 459,
     "metadata": {},
     "output_type": "execute_result"
    }
   ],
   "source": [
    "a = torch.tensor([1,2,3])\n",
    "a - 1"
   ]
  },
  {
   "cell_type": "code",
   "execution_count": 460,
   "id": "ae79fdd7-02ee-4b05-ae20-cd096a26937d",
   "metadata": {},
   "outputs": [
    {
     "data": {
      "text/plain": [
       "tensor([[0],\n",
       "        [1],\n",
       "        [2]])"
      ]
     },
     "execution_count": 460,
     "metadata": {},
     "output_type": "execute_result"
    }
   ],
   "source": [
    "b = torch.tensor([[1],[2],[3]])\n",
    "b - 1"
   ]
  },
  {
   "cell_type": "code",
   "execution_count": 462,
   "id": "2a7d273e-cb14-4c33-93ae-27e060019fa4",
   "metadata": {},
   "outputs": [
    {
     "data": {
      "text/plain": [
       "tensor([[ 0,  1,  2],\n",
       "        [-1,  0,  1],\n",
       "        [-2, -1,  0]])"
      ]
     },
     "execution_count": 462,
     "metadata": {},
     "output_type": "execute_result"
    }
   ],
   "source": [
    "a - b # a를 row-vec 로 해석"
   ]
  },
  {
   "cell_type": "markdown",
   "id": "d39e95a9-7a71-46a8-942f-547b967e5769",
   "metadata": {},
   "source": [
    "## 지난시간복습"
   ]
  },
  {
   "cell_type": "code",
   "execution_count": null,
   "id": "78cfcf50-7b87-4a17-b3fd-d9e3fe5b794e",
   "metadata": {},
   "outputs": [],
   "source": []
  },
  {
   "cell_type": "code",
   "execution_count": null,
   "id": "c022e013-aeea-43d2-9111-aeca20a32e86",
   "metadata": {},
   "outputs": [],
   "source": []
  },
  {
   "cell_type": "code",
   "execution_count": null,
   "id": "a126f2da-df64-44f8-a527-dfde44acae3b",
   "metadata": {},
   "outputs": [],
   "source": []
  },
  {
   "cell_type": "code",
   "execution_count": null,
   "id": "88831b2a-0f68-49fd-8836-31a71df24b24",
   "metadata": {},
   "outputs": [],
   "source": []
  },
  {
   "cell_type": "markdown",
   "id": "e2be7de9-4982-4f3e-96bf-4a871e8f2224",
   "metadata": {},
   "source": [
    "## step2의 다른버전: torch.nn.MSELoss()"
   ]
  },
  {
   "cell_type": "markdown",
   "id": "7f71b8ce-3e1d-4fdf-ba3f-62a36672694d",
   "metadata": {},
   "source": [
    "yhat은 어떠한 방식으로든 만들었다고 가정하자. "
   ]
  },
  {
   "cell_type": "code",
   "execution_count": 395,
   "id": "1ab06d40-f114-4de9-97cd-468ea7db6968",
   "metadata": {},
   "outputs": [],
   "source": [
    "What = torch.tensor([[-5.0],[10.0]],requires_grad=True)\n",
    "yhat = X@What"
   ]
  },
  {
   "cell_type": "markdown",
   "id": "b2a33653-e834-4e73-b5a1-42850d4262a2",
   "metadata": {},
   "source": [
    "### ver1"
   ]
  },
  {
   "cell_type": "code",
   "execution_count": 396,
   "id": "c6235ee4-a910-4f73-8512-6903c939be0f",
   "metadata": {},
   "outputs": [],
   "source": [
    "loss_fn = torch.nn.MSELoss()"
   ]
  },
  {
   "cell_type": "code",
   "execution_count": 397,
   "id": "d5015b1c-c518-48a3-8cc8-5fe87b821468",
   "metadata": {},
   "outputs": [
    {
     "data": {
      "text/plain": [
       "tensor(85.8769, grad_fn=<MseLossBackward0>)"
      ]
     },
     "execution_count": 397,
     "metadata": {},
     "output_type": "execute_result"
    }
   ],
   "source": [
    "loss = loss_fn(y,yhat)\n",
    "loss"
   ]
  },
  {
   "cell_type": "markdown",
   "id": "85014475-5bee-4b16-a176-fe25fdcd3694",
   "metadata": {},
   "source": [
    "### 잘못된사용1 "
   ]
  },
  {
   "cell_type": "code",
   "execution_count": 398,
   "id": "8c4d9e39-3550-4849-a416-86717790fa8a",
   "metadata": {},
   "outputs": [
    {
     "data": {
      "text/plain": [
       "tensor([-8.5420, -6.5767, -5.9496, -4.4794, -4.2516, -3.1326, -4.0239, -4.1862,\n",
       "        -3.3403, -2.2027, -2.0262, -2.5619, -1.3353, -2.0466, -0.4664, -1.3513,\n",
       "        -1.6472, -0.1089, -0.3071, -0.6299, -0.0438,  0.4163,  0.4166, -0.0943,\n",
       "         0.2662,  0.4591,  0.8905,  0.8998,  0.6314,  1.3845,  0.8085,  1.2594,\n",
       "         1.1211,  1.9232,  1.0619,  1.3552,  2.1161,  1.1437,  1.6245,  1.7639,\n",
       "         1.6022,  1.7465,  0.9830,  1.7824,  2.1116,  2.8621,  2.1165,  1.5226,\n",
       "         2.5572,  2.8361,  3.3956,  2.0679,  2.8140,  3.4852,  3.6059,  2.5966,\n",
       "         2.8854,  3.9173,  3.6527,  4.1029,  4.3125,  3.4026,  3.2180,  4.5686,\n",
       "         4.3772,  4.3075,  4.4895,  4.4827,  5.3170,  5.4987,  5.4632,  6.0328,\n",
       "         5.2842,  5.0539,  5.4538,  6.0337,  5.7250,  5.7587,  6.2020,  6.5992,\n",
       "         6.4621,  6.5140,  6.6846,  7.3497,  8.0909,  7.0794,  6.8667,  7.4229,\n",
       "         7.2544,  7.1967,  9.5006,  9.0339,  7.4887,  9.0759, 11.0946, 10.3260,\n",
       "        12.2665, 13.0983, 12.5468, 13.8340])"
      ]
     },
     "execution_count": 398,
     "metadata": {},
     "output_type": "execute_result"
    }
   ],
   "source": [
    "_y = y.reshape(-1)\n",
    "_y"
   ]
  },
  {
   "cell_type": "code",
   "execution_count": 399,
   "id": "a4d0ecbf-d369-4211-ba87-49c66e0b10dd",
   "metadata": {},
   "outputs": [
    {
     "data": {
      "text/plain": [
       "tensor(176.2661, grad_fn=<MseLossBackward0>)"
      ]
     },
     "execution_count": 399,
     "metadata": {},
     "output_type": "execute_result"
    }
   ],
   "source": [
    "loss_fn(_y,yhat)"
   ]
  },
  {
   "cell_type": "markdown",
   "id": "ad3e193b-0549-45de-b285-4918bdf18158",
   "metadata": {},
   "source": [
    "하여튼 shape을 조심해야함!!"
   ]
  },
  {
   "cell_type": "markdown",
   "id": "294d757c-68e8-48e6-a840-93d3cdec4ca2",
   "metadata": {},
   "source": [
    "## step3의 다른버전: 없어요 ㅎㅎ "
   ]
  },
  {
   "cell_type": "markdown",
   "id": "e44a5a9b-2415-4a71-8384-2ccd662e9daa",
   "metadata": {},
   "source": [
    "`-` 미분은 무조건 `loss.backward()`로 하면된다. "
   ]
  },
  {
   "cell_type": "markdown",
   "id": "468c1fec-a4a8-4585-b687-087f958cdb17",
   "metadata": {},
   "source": [
    "`-` 그런데 step1에서 정의한 다른 방식들에 의해서 미분된값이 저장되는 루트는 다름 "
   ]
  },
  {
   "cell_type": "markdown",
   "id": "9a32dc17-1af6-444e-8db2-3ef4ccb766a7",
   "metadata": {},
   "source": [
    "### 예시1: 지난시간에 한거"
   ]
  },
  {
   "cell_type": "code",
   "execution_count": 339,
   "id": "63a437b7-457d-4994-9d1b-2f8d0d914fda",
   "metadata": {},
   "outputs": [],
   "source": [
    "What = torch.tensor([[-5.0],[10.0]],requires_grad=True)\n",
    "yhat = X@What\n",
    "loss = loss_fn(y,yhat) \n",
    "loss.backward() "
   ]
  },
  {
   "cell_type": "code",
   "execution_count": 340,
   "id": "c54606eb-8ac2-43cf-9795-39b2d0cce61b",
   "metadata": {},
   "outputs": [
    {
     "data": {
      "text/plain": [
       "tensor([[-13.4225],\n",
       "        [ 11.8893]])"
      ]
     },
     "execution_count": 340,
     "metadata": {},
     "output_type": "execute_result"
    }
   ],
   "source": [
    "What.grad"
   ]
  },
  {
   "cell_type": "markdown",
   "id": "426edff9-d6fa-47d1-a108-74f054be1731",
   "metadata": {},
   "source": [
    "### 예시2: (ver1)"
   ]
  },
  {
   "cell_type": "markdown",
   "id": "c7462d50-29bf-4def-8040-635dc00fc28f",
   "metadata": {},
   "source": [
    "`-` net를 생성 "
   ]
  },
  {
   "cell_type": "code",
   "execution_count": 364,
   "id": "d435efe7-ac07-4a79-bb1f-cef2407c3335",
   "metadata": {},
   "outputs": [],
   "source": [
    "torch.manual_seed(43052)\n",
    "net = torch.nn.Linear(in_features=1, out_features=1, bias=True) "
   ]
  },
  {
   "cell_type": "markdown",
   "id": "fa2aa899-5f62-410f-ae09-e14ab3ac0c0f",
   "metadata": {},
   "source": [
    "`-` net의 weight와 bias가 $y_i=\\hat{w}x_i + \\hat{b}=10x_i - 5$와 같이 되도록 설정 "
   ]
  },
  {
   "cell_type": "code",
   "execution_count": 365,
   "id": "949d9c7d-178b-4b83-a53f-f998afaa78a2",
   "metadata": {},
   "outputs": [
    {
     "data": {
      "text/plain": [
       "Parameter containing:\n",
       "tensor([[-0.3467]], requires_grad=True)"
      ]
     },
     "execution_count": 365,
     "metadata": {},
     "output_type": "execute_result"
    }
   ],
   "source": [
    "net.weight # what = -0.3467 "
   ]
  },
  {
   "cell_type": "code",
   "execution_count": 366,
   "id": "c3dbcf8a-5da0-4904-b933-9b845709b72e",
   "metadata": {},
   "outputs": [],
   "source": [
    "net.weight.data = torch.tensor([[10.00]]) "
   ]
  },
  {
   "cell_type": "code",
   "execution_count": 367,
   "id": "16769740-cee6-4cee-b284-7ef3a93c7215",
   "metadata": {},
   "outputs": [
    {
     "data": {
      "text/plain": [
       "Parameter containing:\n",
       "tensor([[10.]], requires_grad=True)"
      ]
     },
     "execution_count": 367,
     "metadata": {},
     "output_type": "execute_result"
    }
   ],
   "source": [
    "net.weight # 이제 what = 10.00 "
   ]
  },
  {
   "cell_type": "code",
   "execution_count": 368,
   "id": "3fdcf7b2-df73-4048-96a0-baf928cfc7be",
   "metadata": {},
   "outputs": [
    {
     "data": {
      "text/plain": [
       "Parameter containing:\n",
       "tensor([-0.8470], requires_grad=True)"
      ]
     },
     "execution_count": 368,
     "metadata": {},
     "output_type": "execute_result"
    }
   ],
   "source": [
    "net.bias # 지금 bhat = -0.8470"
   ]
  },
  {
   "cell_type": "code",
   "execution_count": 369,
   "id": "19547111-d422-44ee-b0e7-11bc8e9f9f92",
   "metadata": {},
   "outputs": [],
   "source": [
    "net.bias.data = torch.tensor([-5.0]) # 이제 bhat = -5.0"
   ]
  },
  {
   "cell_type": "code",
   "execution_count": 370,
   "id": "24367e8d-9a09-43fb-af9f-5899d39357cf",
   "metadata": {},
   "outputs": [
    {
     "data": {
      "text/plain": [
       "Parameter containing:\n",
       "tensor([-5.], requires_grad=True)"
      ]
     },
     "execution_count": 370,
     "metadata": {},
     "output_type": "execute_result"
    }
   ],
   "source": [
    "net.bias"
   ]
  },
  {
   "cell_type": "markdown",
   "id": "5122a1b5-0ee0-43fc-9c02-b5e49258462c",
   "metadata": {},
   "source": [
    "`-` yhat계산 $\\to$ loss계산 $\\to$ 미분 $\\to$ 미분값확인 "
   ]
  },
  {
   "cell_type": "code",
   "execution_count": 371,
   "id": "6ccf0414-65c5-4ae2-a498-f1d8cb56410c",
   "metadata": {},
   "outputs": [],
   "source": [
    "yhat = net(x) "
   ]
  },
  {
   "cell_type": "code",
   "execution_count": 372,
   "id": "311ea285-3b5e-4b81-9c92-93f313fcd183",
   "metadata": {},
   "outputs": [
    {
     "data": {
      "text/plain": [
       "tensor([[85.8769]], grad_fn=<DivBackward0>)"
      ]
     },
     "execution_count": 372,
     "metadata": {},
     "output_type": "execute_result"
    }
   ],
   "source": [
    "loss = loss_fn(y,yhat) \n",
    "loss"
   ]
  },
  {
   "cell_type": "code",
   "execution_count": 373,
   "id": "eece6b6b-0890-4a9a-805a-e74da8a05a00",
   "metadata": {},
   "outputs": [],
   "source": [
    "loss.backward()"
   ]
  },
  {
   "cell_type": "code",
   "execution_count": 376,
   "id": "200c258d-055c-41cf-8436-ce25f1235d3f",
   "metadata": {},
   "outputs": [
    {
     "data": {
      "text/plain": [
       "(tensor([-13.4225]), tensor([[11.8893]]))"
      ]
     },
     "execution_count": 376,
     "metadata": {},
     "output_type": "execute_result"
    }
   ],
   "source": [
    "net.bias.grad,net.weight.grad"
   ]
  },
  {
   "cell_type": "markdown",
   "id": "189c3baf-4a20-4b59-b72d-9345370506df",
   "metadata": {
    "tags": []
   },
   "source": [
    "### 예시3: (ver2) "
   ]
  },
  {
   "cell_type": "markdown",
   "id": "d98fb2bf-d52c-4f4d-98e6-e01fc09e812d",
   "metadata": {},
   "source": [
    "`-` net를 생성 "
   ]
  },
  {
   "cell_type": "code",
   "execution_count": 377,
   "id": "02d73bbd-6191-4550-bed7-ac69a9227d67",
   "metadata": {},
   "outputs": [],
   "source": [
    "torch.manual_seed(43052)\n",
    "net = torch.nn.Linear(in_features=2, out_features=1, bias=False) "
   ]
  },
  {
   "cell_type": "markdown",
   "id": "db7159f6-b807-481d-b9ee-41e86c23027c",
   "metadata": {},
   "source": [
    "`-` net의 weight와 bias가 $y_i=\\hat{w}x_i + \\hat{b}=10x_i - 5$와 같이 되도록 설정 "
   ]
  },
  {
   "cell_type": "code",
   "execution_count": 378,
   "id": "5d0d5785-cc2e-4552-ab38-c7ae9e5f85b3",
   "metadata": {},
   "outputs": [
    {
     "data": {
      "text/plain": [
       "Parameter containing:\n",
       "tensor([[-0.2451, -0.5989]], requires_grad=True)"
      ]
     },
     "execution_count": 378,
     "metadata": {},
     "output_type": "execute_result"
    }
   ],
   "source": [
    "net.weight "
   ]
  },
  {
   "cell_type": "code",
   "execution_count": 379,
   "id": "7dfe68c5-50a8-4106-9898-e7d253f07f8a",
   "metadata": {},
   "outputs": [],
   "source": [
    "net.weight.data = torch.tensor([[-5.00,10.00]]) "
   ]
  },
  {
   "cell_type": "code",
   "execution_count": 381,
   "id": "bacba36c-acee-4a39-a422-474ea4092fde",
   "metadata": {},
   "outputs": [
    {
     "data": {
      "text/plain": [
       "Parameter containing:\n",
       "tensor([[-5., 10.]], requires_grad=True)"
      ]
     },
     "execution_count": 381,
     "metadata": {},
     "output_type": "execute_result"
    }
   ],
   "source": [
    "net.weight "
   ]
  },
  {
   "cell_type": "markdown",
   "id": "a4ade463-f5fe-4d1d-a7dc-7fceca1b75b4",
   "metadata": {},
   "source": [
    "`-` yhat계산 $\\to$ loss계산 $\\to$ 미분 $\\to$ 미분값확인 "
   ]
  },
  {
   "cell_type": "code",
   "execution_count": 382,
   "id": "0938e164-2c99-427b-88dc-d396867b1015",
   "metadata": {},
   "outputs": [],
   "source": [
    "yhat = net(X) "
   ]
  },
  {
   "cell_type": "code",
   "execution_count": 383,
   "id": "c0bf3bc1-3509-4141-b96d-7cd4ab852b88",
   "metadata": {},
   "outputs": [
    {
     "data": {
      "text/plain": [
       "tensor([[85.8769]], grad_fn=<DivBackward0>)"
      ]
     },
     "execution_count": 383,
     "metadata": {},
     "output_type": "execute_result"
    }
   ],
   "source": [
    "loss = loss_fn(y,yhat) \n",
    "loss"
   ]
  },
  {
   "cell_type": "code",
   "execution_count": 384,
   "id": "93c5281e-ac68-4e65-8d10-a31984275054",
   "metadata": {},
   "outputs": [],
   "source": [
    "loss.backward()"
   ]
  },
  {
   "cell_type": "code",
   "execution_count": 385,
   "id": "9c4dd180-e553-4d05-b32e-3f902c180304",
   "metadata": {},
   "outputs": [
    {
     "data": {
      "text/plain": [
       "tensor([[-13.4225,  11.8893]])"
      ]
     },
     "execution_count": 385,
     "metadata": {},
     "output_type": "execute_result"
    }
   ],
   "source": [
    "net.weight.grad"
   ]
  }
 ],
 "metadata": {
  "kernelspec": {
   "display_name": "Python 3 (ipykernel)",
   "language": "python",
   "name": "python3"
  },
  "language_info": {
   "codemirror_mode": {
    "name": "ipython",
    "version": 3
   },
   "file_extension": ".py",
   "mimetype": "text/x-python",
   "name": "python",
   "nbconvert_exporter": "python",
   "pygments_lexer": "ipython3",
   "version": "3.7.13"
  }
 },
 "nbformat": 4,
 "nbformat_minor": 5
}
