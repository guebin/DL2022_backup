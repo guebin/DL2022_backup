{
 "cells": [
  {
   "cell_type": "markdown",
   "id": "ff0f21ff-c327-44ee-ae11-2300cd481f2c",
   "metadata": {},
   "source": [
    "# (4주차) 9월27일 -- draft\n",
    "> 딥러닝의 기초 - 회귀분석(2)--step1~4, step 2,3,4의 다른표현\n",
    "\n",
    "- toc:true\n",
    "- branch: master\n",
    "- badges: true\n",
    "- comments: true\n",
    "- author: 최규빈"
   ]
  },
  {
   "cell_type": "markdown",
   "id": "e2be7de9-4982-4f3e-96bf-4a871e8f2224",
   "metadata": {},
   "source": [
    "## step2의 다른버전: torch.nn.MSELoss()"
   ]
  },
  {
   "cell_type": "markdown",
   "id": "7f71b8ce-3e1d-4fdf-ba3f-62a36672694d",
   "metadata": {},
   "source": [
    "yhat은 어떠한 방식으로든 만들었다고 가정하자. "
   ]
  },
  {
   "cell_type": "code",
   "execution_count": 282,
   "id": "1ab06d40-f114-4de9-97cd-468ea7db6968",
   "metadata": {},
   "outputs": [],
   "source": [
    "What = torch.tensor([[-5.0],[10.0]],requires_grad=True)\n",
    "yhat = X@What"
   ]
  },
  {
   "cell_type": "markdown",
   "id": "b2a33653-e834-4e73-b5a1-42850d4262a2",
   "metadata": {},
   "source": [
    "### ver1"
   ]
  },
  {
   "cell_type": "code",
   "execution_count": 287,
   "id": "c6235ee4-a910-4f73-8512-6903c939be0f",
   "metadata": {},
   "outputs": [],
   "source": [
    "loss_fn = torch.nn.MSELoss()"
   ]
  },
  {
   "cell_type": "code",
   "execution_count": 291,
   "id": "d5015b1c-c518-48a3-8cc8-5fe87b821468",
   "metadata": {},
   "outputs": [
    {
     "data": {
      "text/plain": [
       "tensor(85.8769, grad_fn=<MseLossBackward0>)"
      ]
     },
     "execution_count": 291,
     "metadata": {},
     "output_type": "execute_result"
    }
   ],
   "source": [
    "loss = loss_fn(y,yhat)\n",
    "loss"
   ]
  },
  {
   "cell_type": "markdown",
   "id": "85014475-5bee-4b16-a176-fe25fdcd3694",
   "metadata": {},
   "source": [
    "### 잘못된사용1 "
   ]
  },
  {
   "cell_type": "code",
   "execution_count": 299,
   "id": "8c4d9e39-3550-4849-a416-86717790fa8a",
   "metadata": {},
   "outputs": [
    {
     "data": {
      "text/plain": [
       "tensor([-8.5420, -6.5767, -5.9496, -4.4794, -4.2516, -3.1326, -4.0239, -4.1862,\n",
       "        -3.3403, -2.2027, -2.0262, -2.5619, -1.3353, -2.0466, -0.4664, -1.3513,\n",
       "        -1.6472, -0.1089, -0.3071, -0.6299, -0.0438,  0.4163,  0.4166, -0.0943,\n",
       "         0.2662,  0.4591,  0.8905,  0.8998,  0.6314,  1.3845,  0.8085,  1.2594,\n",
       "         1.1211,  1.9232,  1.0619,  1.3552,  2.1161,  1.1437,  1.6245,  1.7639,\n",
       "         1.6022,  1.7465,  0.9830,  1.7824,  2.1116,  2.8621,  2.1165,  1.5226,\n",
       "         2.5572,  2.8361,  3.3956,  2.0679,  2.8140,  3.4852,  3.6059,  2.5966,\n",
       "         2.8854,  3.9173,  3.6527,  4.1029,  4.3125,  3.4026,  3.2180,  4.5686,\n",
       "         4.3772,  4.3075,  4.4895,  4.4827,  5.3170,  5.4987,  5.4632,  6.0328,\n",
       "         5.2842,  5.0539,  5.4538,  6.0337,  5.7250,  5.7587,  6.2020,  6.5992,\n",
       "         6.4621,  6.5140,  6.6846,  7.3497,  8.0909,  7.0794,  6.8667,  7.4229,\n",
       "         7.2544,  7.1967,  9.5006,  9.0339,  7.4887,  9.0759, 11.0946, 10.3260,\n",
       "        12.2665, 13.0983, 12.5468, 13.8340])"
      ]
     },
     "execution_count": 299,
     "metadata": {},
     "output_type": "execute_result"
    }
   ],
   "source": [
    "_y = y.reshape(-1)\n",
    "_y"
   ]
  },
  {
   "cell_type": "code",
   "execution_count": 300,
   "id": "a4d0ecbf-d369-4211-ba87-49c66e0b10dd",
   "metadata": {},
   "outputs": [
    {
     "data": {
      "text/plain": [
       "tensor([[135.5907, 126.2216, 123.2319,  ...,  32.4258,  35.0549,  28.9185],\n",
       "        [126.2216, 120.7149, 118.9577,  ...,  65.5866,  67.1319,  63.5252],\n",
       "        [123.2319, 118.9577, 117.5938,  ...,  76.1684,  77.3677,  74.5683],\n",
       "        ...,\n",
       "        [ 32.4258,  65.5866,  76.1684,  ..., 397.5638, 388.2584, 409.9775],\n",
       "        [ 35.0549,  67.1319,  77.3677,  ..., 388.2584, 379.2573, 400.2664],\n",
       "        [ 28.9185,  63.5252,  74.5683,  ..., 409.9775, 400.2664, 422.9326]],\n",
       "       grad_fn=<DivBackward0>)"
      ]
     },
     "execution_count": 300,
     "metadata": {},
     "output_type": "execute_result"
    }
   ],
   "source": [
    "loss_fn(_y,yhat)"
   ]
  },
  {
   "cell_type": "markdown",
   "id": "ad3e193b-0549-45de-b285-4918bdf18158",
   "metadata": {},
   "source": [
    "하여튼 shape을 조심해야함"
   ]
  },
  {
   "cell_type": "markdown",
   "id": "294d757c-68e8-48e6-a840-93d3cdec4ca2",
   "metadata": {},
   "source": [
    "## step3의 다른버전: 없어요 ㅎㅎ "
   ]
  },
  {
   "cell_type": "markdown",
   "id": "e44a5a9b-2415-4a71-8384-2ccd662e9daa",
   "metadata": {},
   "source": [
    "`-` 미분은 무조건 `loss.backward()`로 하면된다. "
   ]
  },
  {
   "cell_type": "markdown",
   "id": "468c1fec-a4a8-4585-b687-087f958cdb17",
   "metadata": {},
   "source": [
    "`-` 그런데 step1에서 정의한 다른 방식들에 의해서 미분된값이 저장되는 루트는 다름 "
   ]
  },
  {
   "cell_type": "markdown",
   "id": "9a32dc17-1af6-444e-8db2-3ef4ccb766a7",
   "metadata": {},
   "source": [
    "### 예시1: 지난시간에 한거"
   ]
  },
  {
   "cell_type": "code",
   "execution_count": 339,
   "id": "63a437b7-457d-4994-9d1b-2f8d0d914fda",
   "metadata": {},
   "outputs": [],
   "source": [
    "What = torch.tensor([[-5.0],[10.0]],requires_grad=True)\n",
    "yhat = X@What\n",
    "loss = loss_fn(y,yhat) \n",
    "loss.backward() "
   ]
  },
  {
   "cell_type": "code",
   "execution_count": 340,
   "id": "c54606eb-8ac2-43cf-9795-39b2d0cce61b",
   "metadata": {},
   "outputs": [
    {
     "data": {
      "text/plain": [
       "tensor([[-13.4225],\n",
       "        [ 11.8893]])"
      ]
     },
     "execution_count": 340,
     "metadata": {},
     "output_type": "execute_result"
    }
   ],
   "source": [
    "What.grad"
   ]
  },
  {
   "cell_type": "markdown",
   "id": "426edff9-d6fa-47d1-a108-74f054be1731",
   "metadata": {},
   "source": [
    "### 예시2: (ver1)"
   ]
  },
  {
   "cell_type": "markdown",
   "id": "c7462d50-29bf-4def-8040-635dc00fc28f",
   "metadata": {},
   "source": [
    "`-` net를 생성 "
   ]
  },
  {
   "cell_type": "code",
   "execution_count": 364,
   "id": "d435efe7-ac07-4a79-bb1f-cef2407c3335",
   "metadata": {},
   "outputs": [],
   "source": [
    "torch.manual_seed(43052)\n",
    "net = torch.nn.Linear(in_features=1, out_features=1, bias=True) "
   ]
  },
  {
   "cell_type": "markdown",
   "id": "fa2aa899-5f62-410f-ae09-e14ab3ac0c0f",
   "metadata": {},
   "source": [
    "`-` net의 weight와 bias가 $y_i=\\hat{w}x_i + \\hat{b}=10x_i - 5$와 같이 되도록 설정 "
   ]
  },
  {
   "cell_type": "code",
   "execution_count": 365,
   "id": "949d9c7d-178b-4b83-a53f-f998afaa78a2",
   "metadata": {},
   "outputs": [
    {
     "data": {
      "text/plain": [
       "Parameter containing:\n",
       "tensor([[-0.3467]], requires_grad=True)"
      ]
     },
     "execution_count": 365,
     "metadata": {},
     "output_type": "execute_result"
    }
   ],
   "source": [
    "net.weight # what = -0.3467 "
   ]
  },
  {
   "cell_type": "code",
   "execution_count": 366,
   "id": "c3dbcf8a-5da0-4904-b933-9b845709b72e",
   "metadata": {},
   "outputs": [],
   "source": [
    "net.weight.data = torch.tensor([[10.00]]) "
   ]
  },
  {
   "cell_type": "code",
   "execution_count": 367,
   "id": "16769740-cee6-4cee-b284-7ef3a93c7215",
   "metadata": {},
   "outputs": [
    {
     "data": {
      "text/plain": [
       "Parameter containing:\n",
       "tensor([[10.]], requires_grad=True)"
      ]
     },
     "execution_count": 367,
     "metadata": {},
     "output_type": "execute_result"
    }
   ],
   "source": [
    "net.weight # 이제 what = 10.00 "
   ]
  },
  {
   "cell_type": "code",
   "execution_count": 368,
   "id": "3fdcf7b2-df73-4048-96a0-baf928cfc7be",
   "metadata": {},
   "outputs": [
    {
     "data": {
      "text/plain": [
       "Parameter containing:\n",
       "tensor([-0.8470], requires_grad=True)"
      ]
     },
     "execution_count": 368,
     "metadata": {},
     "output_type": "execute_result"
    }
   ],
   "source": [
    "net.bias # 지금 bhat = -0.8470"
   ]
  },
  {
   "cell_type": "code",
   "execution_count": 369,
   "id": "19547111-d422-44ee-b0e7-11bc8e9f9f92",
   "metadata": {},
   "outputs": [],
   "source": [
    "net.bias.data = torch.tensor([-5.0]) # 이제 bhat = -5.0"
   ]
  },
  {
   "cell_type": "code",
   "execution_count": 370,
   "id": "24367e8d-9a09-43fb-af9f-5899d39357cf",
   "metadata": {},
   "outputs": [
    {
     "data": {
      "text/plain": [
       "Parameter containing:\n",
       "tensor([-5.], requires_grad=True)"
      ]
     },
     "execution_count": 370,
     "metadata": {},
     "output_type": "execute_result"
    }
   ],
   "source": [
    "net.bias"
   ]
  },
  {
   "cell_type": "markdown",
   "id": "5122a1b5-0ee0-43fc-9c02-b5e49258462c",
   "metadata": {},
   "source": [
    "`-` yhat계산 $\\to$ loss계산 $\\to$ 미분 $\\to$ 미분값확인 "
   ]
  },
  {
   "cell_type": "code",
   "execution_count": 371,
   "id": "6ccf0414-65c5-4ae2-a498-f1d8cb56410c",
   "metadata": {},
   "outputs": [],
   "source": [
    "yhat = net(x) "
   ]
  },
  {
   "cell_type": "code",
   "execution_count": 372,
   "id": "311ea285-3b5e-4b81-9c92-93f313fcd183",
   "metadata": {},
   "outputs": [
    {
     "data": {
      "text/plain": [
       "tensor([[85.8769]], grad_fn=<DivBackward0>)"
      ]
     },
     "execution_count": 372,
     "metadata": {},
     "output_type": "execute_result"
    }
   ],
   "source": [
    "loss = loss_fn(y,yhat) \n",
    "loss"
   ]
  },
  {
   "cell_type": "code",
   "execution_count": 373,
   "id": "eece6b6b-0890-4a9a-805a-e74da8a05a00",
   "metadata": {},
   "outputs": [],
   "source": [
    "loss.backward()"
   ]
  },
  {
   "cell_type": "code",
   "execution_count": 376,
   "id": "200c258d-055c-41cf-8436-ce25f1235d3f",
   "metadata": {},
   "outputs": [
    {
     "data": {
      "text/plain": [
       "(tensor([-13.4225]), tensor([[11.8893]]))"
      ]
     },
     "execution_count": 376,
     "metadata": {},
     "output_type": "execute_result"
    }
   ],
   "source": [
    "net.bias.grad,net.weight.grad"
   ]
  },
  {
   "cell_type": "markdown",
   "id": "189c3baf-4a20-4b59-b72d-9345370506df",
   "metadata": {
    "tags": []
   },
   "source": [
    "### 예시3: (ver2) "
   ]
  },
  {
   "cell_type": "markdown",
   "id": "d98fb2bf-d52c-4f4d-98e6-e01fc09e812d",
   "metadata": {},
   "source": [
    "`-` net를 생성 "
   ]
  },
  {
   "cell_type": "code",
   "execution_count": 377,
   "id": "02d73bbd-6191-4550-bed7-ac69a9227d67",
   "metadata": {},
   "outputs": [],
   "source": [
    "torch.manual_seed(43052)\n",
    "net = torch.nn.Linear(in_features=2, out_features=1, bias=False) "
   ]
  },
  {
   "cell_type": "markdown",
   "id": "db7159f6-b807-481d-b9ee-41e86c23027c",
   "metadata": {},
   "source": [
    "`-` net의 weight와 bias가 $y_i=\\hat{w}x_i + \\hat{b}=10x_i - 5$와 같이 되도록 설정 "
   ]
  },
  {
   "cell_type": "code",
   "execution_count": 378,
   "id": "5d0d5785-cc2e-4552-ab38-c7ae9e5f85b3",
   "metadata": {},
   "outputs": [
    {
     "data": {
      "text/plain": [
       "Parameter containing:\n",
       "tensor([[-0.2451, -0.5989]], requires_grad=True)"
      ]
     },
     "execution_count": 378,
     "metadata": {},
     "output_type": "execute_result"
    }
   ],
   "source": [
    "net.weight "
   ]
  },
  {
   "cell_type": "code",
   "execution_count": 379,
   "id": "7dfe68c5-50a8-4106-9898-e7d253f07f8a",
   "metadata": {},
   "outputs": [],
   "source": [
    "net.weight.data = torch.tensor([[-5.00,10.00]]) "
   ]
  },
  {
   "cell_type": "code",
   "execution_count": 381,
   "id": "bacba36c-acee-4a39-a422-474ea4092fde",
   "metadata": {},
   "outputs": [
    {
     "data": {
      "text/plain": [
       "Parameter containing:\n",
       "tensor([[-5., 10.]], requires_grad=True)"
      ]
     },
     "execution_count": 381,
     "metadata": {},
     "output_type": "execute_result"
    }
   ],
   "source": [
    "net.weight "
   ]
  },
  {
   "cell_type": "markdown",
   "id": "a4ade463-f5fe-4d1d-a7dc-7fceca1b75b4",
   "metadata": {},
   "source": [
    "`-` yhat계산 $\\to$ loss계산 $\\to$ 미분 $\\to$ 미분값확인 "
   ]
  },
  {
   "cell_type": "code",
   "execution_count": 382,
   "id": "0938e164-2c99-427b-88dc-d396867b1015",
   "metadata": {},
   "outputs": [],
   "source": [
    "yhat = net(X) "
   ]
  },
  {
   "cell_type": "code",
   "execution_count": 383,
   "id": "c0bf3bc1-3509-4141-b96d-7cd4ab852b88",
   "metadata": {},
   "outputs": [
    {
     "data": {
      "text/plain": [
       "tensor([[85.8769]], grad_fn=<DivBackward0>)"
      ]
     },
     "execution_count": 383,
     "metadata": {},
     "output_type": "execute_result"
    }
   ],
   "source": [
    "loss = loss_fn(y,yhat) \n",
    "loss"
   ]
  },
  {
   "cell_type": "code",
   "execution_count": 384,
   "id": "93c5281e-ac68-4e65-8d10-a31984275054",
   "metadata": {},
   "outputs": [],
   "source": [
    "loss.backward()"
   ]
  },
  {
   "cell_type": "code",
   "execution_count": 385,
   "id": "9c4dd180-e553-4d05-b32e-3f902c180304",
   "metadata": {},
   "outputs": [
    {
     "data": {
      "text/plain": [
       "tensor([[-13.4225,  11.8893]])"
      ]
     },
     "execution_count": 385,
     "metadata": {},
     "output_type": "execute_result"
    }
   ],
   "source": [
    "net.weight.grad"
   ]
  }
 ],
 "metadata": {
  "kernelspec": {
   "display_name": "Python 3 (ipykernel)",
   "language": "python",
   "name": "python3"
  },
  "language_info": {
   "codemirror_mode": {
    "name": "ipython",
    "version": 3
   },
   "file_extension": ".py",
   "mimetype": "text/x-python",
   "name": "python",
   "nbconvert_exporter": "python",
   "pygments_lexer": "ipython3",
   "version": "3.7.13"
  }
 },
 "nbformat": 4,
 "nbformat_minor": 5
}
