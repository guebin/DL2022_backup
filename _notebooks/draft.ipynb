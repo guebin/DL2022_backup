{
 "cells": [
  {
   "cell_type": "markdown",
   "id": "ff0f21ff-c327-44ee-ae11-2300cd481f2c",
   "metadata": {
    "tags": []
   },
   "source": [
    "# (4주차) 9월27일 -- draft\n",
    "> 딥러닝의 기초 - 회귀분석(3)-- step 4의 다른표현 (옵티마이저)\n",
    "\n",
    "- toc:true\n",
    "- branch: master\n",
    "- badges: true\n",
    "- comments: true\n",
    "- author: 최규빈"
   ]
  },
  {
   "cell_type": "markdown",
   "id": "0b6be4e2-1722-44bd-90ae-ade5484bca76",
   "metadata": {},
   "source": [
    "## Imports"
   ]
  },
  {
   "cell_type": "code",
   "execution_count": 1,
   "id": "f8c29346-1869-4a86-b806-71a7722377bf",
   "metadata": {},
   "outputs": [],
   "source": [
    "import torch\n",
    "import pandas as pd\n",
    "import numpy as np\n",
    "import matplotlib.pyplot as plt "
   ]
  },
  {
   "cell_type": "markdown",
   "id": "099bb477-7548-4205-aa33-7438dedaa67b",
   "metadata": {},
   "source": [
    "## numpy, torch (선택학습)"
   ]
  },
  {
   "cell_type": "markdown",
   "id": "1a7bf3cb-94eb-4721-84af-ecb53bbcff25",
   "metadata": {},
   "source": [
    "### numpy, torch는 엄청 비슷해요 "
   ]
  },
  {
   "cell_type": "markdown",
   "id": "4e82853b-1645-4f01-b6e5-dce0942033db",
   "metadata": {},
   "source": [
    "`-` torch.tensor() = np.array() 처럼 생각해도 무방 "
   ]
  },
  {
   "cell_type": "code",
   "execution_count": 2,
   "id": "902be739-1d8c-4687-8824-d68064fe555c",
   "metadata": {},
   "outputs": [
    {
     "data": {
      "text/plain": [
       "(array([1, 2, 3]), tensor([1, 2, 3]))"
      ]
     },
     "execution_count": 2,
     "metadata": {},
     "output_type": "execute_result"
    }
   ],
   "source": [
    "np.array([1,2,3]), torch.tensor([1,2,3])"
   ]
  },
  {
   "cell_type": "markdown",
   "id": "48d84e82-343c-474f-b050-810e248461b4",
   "metadata": {},
   "source": [
    "`-` 소수점의 정밀도에서 차이가 있음 (torch가 좀 더 쪼잔함) "
   ]
  },
  {
   "cell_type": "code",
   "execution_count": 3,
   "id": "7a12de48-ab20-4481-879d-72d676802827",
   "metadata": {},
   "outputs": [
    {
     "data": {
      "text/plain": [
       "array([3.12345679])"
      ]
     },
     "execution_count": 3,
     "metadata": {},
     "output_type": "execute_result"
    }
   ],
   "source": [
    "np.array([3.123456789])"
   ]
  },
  {
   "cell_type": "code",
   "execution_count": 4,
   "id": "1b81f973-d3b2-4c08-961f-5d58b9b50566",
   "metadata": {},
   "outputs": [
    {
     "data": {
      "text/plain": [
       "tensor([3.1235])"
      ]
     },
     "execution_count": 4,
     "metadata": {},
     "output_type": "execute_result"
    }
   ],
   "source": [
    "torch.tensor([3.123456789])"
   ]
  },
  {
   "cell_type": "markdown",
   "id": "375e5f8b-051b-4d10-be09-c7dd26372b13",
   "metadata": {},
   "source": [
    "`-` 기본적인 numpy 문법은 np 대신에 torch를 써도 무방 // 완전 같지는 않음 "
   ]
  },
  {
   "cell_type": "code",
   "execution_count": 5,
   "id": "94ef0d96-8b9f-427c-baee-7a6f384c8db8",
   "metadata": {},
   "outputs": [
    {
     "data": {
      "text/plain": [
       "(array([0, 1, 2, 3, 4, 5, 6, 7, 8, 9]), tensor([0, 1, 2, 3, 4, 5, 6, 7, 8, 9]))"
      ]
     },
     "execution_count": 5,
     "metadata": {},
     "output_type": "execute_result"
    }
   ],
   "source": [
    "np.arange(10), torch.arange(10)"
   ]
  },
  {
   "cell_type": "code",
   "execution_count": 6,
   "id": "87bc3f66-cfe8-4faa-8c8a-4219a8886c5d",
   "metadata": {},
   "outputs": [
    {
     "data": {
      "text/plain": [
       "(array([0.        , 0.11111111, 0.22222222, 0.33333333, 0.44444444,\n",
       "        0.55555556, 0.66666667, 0.77777778, 0.88888889, 1.        ]),\n",
       " tensor([0.0000, 0.1111, 0.2222, 0.3333, 0.4444, 0.5556, 0.6667, 0.7778, 0.8889,\n",
       "         1.0000]))"
      ]
     },
     "execution_count": 6,
     "metadata": {},
     "output_type": "execute_result"
    }
   ],
   "source": [
    "np.linspace(0,1,10), torch.linspace(0,1,10)"
   ]
  },
  {
   "cell_type": "code",
   "execution_count": 7,
   "id": "780c2a69-23b4-4b19-ab7f-475cd887ea19",
   "metadata": {},
   "outputs": [
    {
     "data": {
      "text/plain": [
       "array([ 0.90335462,  0.44737938,  0.89509754, -0.61002167, -0.51081889,\n",
       "       -1.27358181, -1.45469377,  0.2333329 , -1.98983017,  0.15708354])"
      ]
     },
     "execution_count": 7,
     "metadata": {},
     "output_type": "execute_result"
    }
   ],
   "source": [
    "np.random.randn(10)"
   ]
  },
  {
   "cell_type": "code",
   "execution_count": 8,
   "id": "215321fe-1688-4520-aabf-f22c20e74c64",
   "metadata": {},
   "outputs": [
    {
     "data": {
      "text/plain": [
       "tensor([ 2.6161,  0.3701, -1.0635,  0.0189, -0.2754,  0.7618,  0.4842, -0.1231,\n",
       "        -0.5390, -0.7580])"
      ]
     },
     "execution_count": 8,
     "metadata": {},
     "output_type": "execute_result"
    }
   ],
   "source": [
    "torch.randn(10)"
   ]
  },
  {
   "cell_type": "markdown",
   "id": "b083e36d-78bc-42bf-8b67-a8dbc9176087",
   "metadata": {},
   "source": [
    "### length $n$ vector, $n \\times 1$ col-vector, $1 \\times n$ row-vector "
   ]
  },
  {
   "cell_type": "markdown",
   "id": "8586bb1e-658b-4dbe-a1c4-3af1e77603e2",
   "metadata": {},
   "source": [
    "`-` 길이가 3인 벡터 선언방법 "
   ]
  },
  {
   "cell_type": "code",
   "execution_count": 9,
   "id": "71f267fa-257f-4f74-9b8a-353d2eb4e3cc",
   "metadata": {},
   "outputs": [
    {
     "data": {
      "text/plain": [
       "torch.Size([3])"
      ]
     },
     "execution_count": 9,
     "metadata": {},
     "output_type": "execute_result"
    }
   ],
   "source": [
    "a = torch.tensor([1,2,3])\n",
    "a.shape"
   ]
  },
  {
   "cell_type": "markdown",
   "id": "28e6c95a-1ea8-4d2d-b850-17b434afe4bb",
   "metadata": {},
   "source": [
    "`-` 3x1 col-vec 선언방법 "
   ]
  },
  {
   "cell_type": "markdown",
   "id": "b8c48ad6-3f48-4493-905b-3c7c9a0a58f1",
   "metadata": {},
   "source": [
    "(방법1)"
   ]
  },
  {
   "cell_type": "code",
   "execution_count": 10,
   "id": "3e2e1495-312a-4c14-bc46-1273f0b2092c",
   "metadata": {},
   "outputs": [
    {
     "data": {
      "text/plain": [
       "torch.Size([3, 1])"
      ]
     },
     "execution_count": 10,
     "metadata": {},
     "output_type": "execute_result"
    }
   ],
   "source": [
    "a = torch.tensor([[1],[2],[3]])\n",
    "a.shape"
   ]
  },
  {
   "cell_type": "markdown",
   "id": "3ce81d53-8956-49cc-9694-7fc05eac3a5e",
   "metadata": {},
   "source": [
    "(방법2)"
   ]
  },
  {
   "cell_type": "code",
   "execution_count": 11,
   "id": "9205d9a6-2992-4ee2-a412-131d68fbaf99",
   "metadata": {},
   "outputs": [
    {
     "data": {
      "text/plain": [
       "torch.Size([3, 1])"
      ]
     },
     "execution_count": 11,
     "metadata": {},
     "output_type": "execute_result"
    }
   ],
   "source": [
    "a = torch.tensor([1,2,3]).reshape(3,1)\n",
    "a.shape"
   ]
  },
  {
   "cell_type": "markdown",
   "id": "3807e293-7f4b-4390-ab5f-932a9d382165",
   "metadata": {},
   "source": [
    "`-` 1x3 row-vec 선언방법 "
   ]
  },
  {
   "cell_type": "markdown",
   "id": "989590c4-cc56-4be9-b2a2-b5cc6631e719",
   "metadata": {},
   "source": [
    "(방법1)"
   ]
  },
  {
   "cell_type": "code",
   "execution_count": 12,
   "id": "4440ebb5-ed60-4e9d-ae82-243f0e689191",
   "metadata": {},
   "outputs": [
    {
     "data": {
      "text/plain": [
       "torch.Size([1, 3])"
      ]
     },
     "execution_count": 12,
     "metadata": {},
     "output_type": "execute_result"
    }
   ],
   "source": [
    "a = torch.tensor([[1,2,3]])\n",
    "a.shape"
   ]
  },
  {
   "cell_type": "markdown",
   "id": "ba617aae-89bd-414d-9dda-a59f9c3726cf",
   "metadata": {},
   "source": [
    "(방법2)"
   ]
  },
  {
   "cell_type": "code",
   "execution_count": 13,
   "id": "aada1dc6-1aa0-4703-ad7a-9619e1b8512b",
   "metadata": {},
   "outputs": [
    {
     "data": {
      "text/plain": [
       "torch.Size([1, 3])"
      ]
     },
     "execution_count": 13,
     "metadata": {},
     "output_type": "execute_result"
    }
   ],
   "source": [
    "a = torch.tensor([1,2,3]).reshape(1,3)\n",
    "a.shape"
   ]
  },
  {
   "cell_type": "markdown",
   "id": "ad57f12f-aae6-442a-b296-aab4ffc28095",
   "metadata": {},
   "source": [
    "`-` 3x1 col-vec 선언방법, 1x3 row-vec 선언방법에서 `[[1],[2],[3]]` 혹은 `[[1,2,3]]` 와 같은 표현이 이해안되면 아래링크로 가셔서 \n",
    "\n",
    "https://guebin.github.io/STBDA2022/2022/03/14/(2주차)-3월14일.html\n",
    "\n",
    "첫번째 동영상 12:15 - 22:45 에 해당하는 분량을 학습하시길 바랍니다. "
   ]
  },
  {
   "cell_type": "markdown",
   "id": "c90d9715-c1f8-4c1f-9017-74f0d7089a09",
   "metadata": {},
   "source": [
    "### torch의 dtype"
   ]
  },
  {
   "cell_type": "markdown",
   "id": "c88973d3-3405-4527-a8bb-cee07d729833",
   "metadata": {},
   "source": [
    "`-` 기본적으로 torch는 소수점으로 저장되면 dtype=torch.float32 가 된다. (이걸로 맞추는게 편리함) "
   ]
  },
  {
   "cell_type": "code",
   "execution_count": 14,
   "id": "2d483ca4-f055-4741-8db1-6ae2b1f8ebba",
   "metadata": {},
   "outputs": [
    {
     "data": {
      "text/plain": [
       "tensor([1.2300, 2.3400])"
      ]
     },
     "execution_count": 14,
     "metadata": {},
     "output_type": "execute_result"
    }
   ],
   "source": [
    "tsr = torch.tensor([1.23,2.34])\n",
    "tsr"
   ]
  },
  {
   "cell_type": "code",
   "execution_count": 15,
   "id": "b7b3e3d4-7467-4d0c-b149-96da3b5cca61",
   "metadata": {},
   "outputs": [
    {
     "data": {
      "text/plain": [
       "torch.float32"
      ]
     },
     "execution_count": 15,
     "metadata": {},
     "output_type": "execute_result"
    }
   ],
   "source": [
    "tsr.dtype"
   ]
  },
  {
   "cell_type": "markdown",
   "id": "bbad1bbd-2dcf-412d-8e85-231a7684b163",
   "metadata": {},
   "source": [
    "`-` 정수로 선언하더라도 dtype를 torch.float32로 바꾸는게 유리함 "
   ]
  },
  {
   "cell_type": "markdown",
   "id": "e265e8f2-bc41-4ebb-899b-211f02316d90",
   "metadata": {},
   "source": [
    "(안 좋은 선언예시) "
   ]
  },
  {
   "cell_type": "code",
   "execution_count": 16,
   "id": "82194eb2-3a48-45de-91fb-24593d71dee1",
   "metadata": {},
   "outputs": [
    {
     "data": {
      "text/plain": [
       "tensor([1, 2])"
      ]
     },
     "execution_count": 16,
     "metadata": {},
     "output_type": "execute_result"
    }
   ],
   "source": [
    "tsr = torch.tensor([1,2])\n",
    "tsr "
   ]
  },
  {
   "cell_type": "code",
   "execution_count": 17,
   "id": "d73410a5-97da-4584-a781-6c267dccba51",
   "metadata": {},
   "outputs": [
    {
     "data": {
      "text/plain": [
       "torch.int64"
      ]
     },
     "execution_count": 17,
     "metadata": {},
     "output_type": "execute_result"
    }
   ],
   "source": [
    "tsr.dtype"
   ]
  },
  {
   "cell_type": "markdown",
   "id": "6b4dc741-e9b6-4af4-9d26-983149fdfc1b",
   "metadata": {},
   "source": [
    "(좋은 선언예시1) "
   ]
  },
  {
   "cell_type": "code",
   "execution_count": 18,
   "id": "69bd60a9-9cb7-44a4-b791-07569aca5764",
   "metadata": {},
   "outputs": [
    {
     "data": {
      "text/plain": [
       "tensor([1., 2.])"
      ]
     },
     "execution_count": 18,
     "metadata": {},
     "output_type": "execute_result"
    }
   ],
   "source": [
    "tsr = torch.tensor([1,2],dtype=torch.float32)\n",
    "tsr "
   ]
  },
  {
   "cell_type": "code",
   "execution_count": 19,
   "id": "2cd9a0e7-7019-4a5f-b3e6-96f9e472e6ab",
   "metadata": {},
   "outputs": [
    {
     "data": {
      "text/plain": [
       "torch.float32"
      ]
     },
     "execution_count": 19,
     "metadata": {},
     "output_type": "execute_result"
    }
   ],
   "source": [
    "tsr.dtype"
   ]
  },
  {
   "cell_type": "markdown",
   "id": "06405a59-638e-4327-8e7b-8633c6e1701f",
   "metadata": {},
   "source": [
    "(좋은 선언예시2) "
   ]
  },
  {
   "cell_type": "code",
   "execution_count": 20,
   "id": "283d45e3-d979-4280-afc9-cffe4d8e25f3",
   "metadata": {},
   "outputs": [
    {
     "data": {
      "text/plain": [
       "tensor([1., 2.])"
      ]
     },
     "execution_count": 20,
     "metadata": {},
     "output_type": "execute_result"
    }
   ],
   "source": [
    "tsr = torch.tensor([1,2.0])\n",
    "tsr "
   ]
  },
  {
   "cell_type": "code",
   "execution_count": 21,
   "id": "7f17f30e-5680-4a6d-b343-79d0851ea157",
   "metadata": {},
   "outputs": [
    {
     "data": {
      "text/plain": [
       "torch.float32"
      ]
     },
     "execution_count": 21,
     "metadata": {},
     "output_type": "execute_result"
    }
   ],
   "source": [
    "tsr.dtype"
   ]
  },
  {
   "cell_type": "markdown",
   "id": "90dd21ee-d58c-46e7-a354-bfebfb89f579",
   "metadata": {},
   "source": [
    "(사실 int로 선언해도 나중에 float으로 바꾸면 큰 문제없음) "
   ]
  },
  {
   "cell_type": "code",
   "execution_count": 22,
   "id": "acb35d65-2304-4984-8555-7128ce85e15f",
   "metadata": {},
   "outputs": [
    {
     "data": {
      "text/plain": [
       "tensor([1., 2.])"
      ]
     },
     "execution_count": 22,
     "metadata": {},
     "output_type": "execute_result"
    }
   ],
   "source": [
    "tsr = torch.tensor([1,2]).float()\n",
    "tsr"
   ]
  },
  {
   "cell_type": "code",
   "execution_count": 23,
   "id": "e6dfe0e8-9b98-4fb3-aabe-42ebb638d6e4",
   "metadata": {},
   "outputs": [
    {
     "data": {
      "text/plain": [
       "torch.float32"
      ]
     },
     "execution_count": 23,
     "metadata": {},
     "output_type": "execute_result"
    }
   ],
   "source": [
    "tsr.dtype"
   ]
  },
  {
   "cell_type": "markdown",
   "id": "2d78f0b2-d045-432b-b7f5-15a4610a35b8",
   "metadata": {},
   "source": [
    "`-` 왜 정수만으로 torch.tensor를 만들때에도 torch.float32로 바꾸는게 유리할까? $\\to$ torch.tensor끼리의 연산에서 문제가 될 수 있음 "
   ]
  },
  {
   "cell_type": "markdown",
   "id": "8db0f55c-fd2a-41b8-8de3-d9bfeabd497c",
   "metadata": {},
   "source": [
    "별 문제 없을수도 있지만 "
   ]
  },
  {
   "cell_type": "code",
   "execution_count": 24,
   "id": "431754ba-4c0b-4467-834b-6ee9a5dc843e",
   "metadata": {},
   "outputs": [
    {
     "data": {
      "text/plain": [
       "tensor([0., 0.])"
      ]
     },
     "execution_count": 24,
     "metadata": {},
     "output_type": "execute_result"
    }
   ],
   "source": [
    "torch.tensor([1,2])-torch.tensor([1.0,2.0]) "
   ]
  },
  {
   "cell_type": "markdown",
   "id": "0831d276-bb75-4ed2-90ed-9de1d90e53eb",
   "metadata": {},
   "source": [
    "에러가 날수도 있다 "
   ]
  },
  {
   "cell_type": "code",
   "execution_count": 25,
   "id": "14085d42-e2c0-4474-b830-b2cfc1f174b0",
   "metadata": {},
   "outputs": [
    {
     "ename": "RuntimeError",
     "evalue": "expected scalar type Float but found Long",
     "output_type": "error",
     "traceback": [
      "\u001b[0;31m---------------------------------------------------------------------------\u001b[0m",
      "\u001b[0;31mRuntimeError\u001b[0m                              Traceback (most recent call last)",
      "\u001b[0;32m/tmp/ipykernel_1020347/281683190.py\u001b[0m in \u001b[0;36m<module>\u001b[0;34m\u001b[0m\n\u001b[0;32m----> 1\u001b[0;31m \u001b[0mtorch\u001b[0m\u001b[0;34m.\u001b[0m\u001b[0mtensor\u001b[0m\u001b[0;34m(\u001b[0m\u001b[0;34m[\u001b[0m\u001b[0;34m[\u001b[0m\u001b[0;36m1.0\u001b[0m\u001b[0;34m,\u001b[0m\u001b[0;36m0.0\u001b[0m\u001b[0;34m]\u001b[0m\u001b[0;34m,\u001b[0m\u001b[0;34m[\u001b[0m\u001b[0;36m0.0\u001b[0m\u001b[0;34m,\u001b[0m\u001b[0;36m1.0\u001b[0m\u001b[0;34m]\u001b[0m\u001b[0;34m]\u001b[0m\u001b[0;34m)\u001b[0m \u001b[0;34m@\u001b[0m \u001b[0mtorch\u001b[0m\u001b[0;34m.\u001b[0m\u001b[0mtensor\u001b[0m\u001b[0;34m(\u001b[0m\u001b[0;34m[\u001b[0m\u001b[0;34m[\u001b[0m\u001b[0;36m1\u001b[0m\u001b[0;34m]\u001b[0m\u001b[0;34m,\u001b[0m\u001b[0;34m[\u001b[0m\u001b[0;36m2\u001b[0m\u001b[0;34m]\u001b[0m\u001b[0;34m]\u001b[0m\u001b[0;34m)\u001b[0m\u001b[0;34m\u001b[0m\u001b[0;34m\u001b[0m\u001b[0m\n\u001b[0m",
      "\u001b[0;31mRuntimeError\u001b[0m: expected scalar type Float but found Long"
     ]
    }
   ],
   "source": [
    "torch.tensor([[1.0,0.0],[0.0,1.0]]) @ torch.tensor([[1],[2]]) "
   ]
  },
  {
   "cell_type": "code",
   "execution_count": null,
   "id": "eeaa2863-2804-4ac3-855e-3d1e35035eb8",
   "metadata": {},
   "outputs": [],
   "source": [
    "torch.tensor([[1,0],[0,1]]) @ torch.tensor([[1.0],[2.0]])"
   ]
  },
  {
   "cell_type": "markdown",
   "id": "3900dfb3-1c1c-4c87-84cf-13c3d9aa54df",
   "metadata": {},
   "source": [
    "둘다 정수로 통일하는것도 방법이지만 "
   ]
  },
  {
   "cell_type": "code",
   "execution_count": 26,
   "id": "7625b0a0-2592-4436-840c-b376a13c4a38",
   "metadata": {},
   "outputs": [
    {
     "data": {
      "text/plain": [
       "tensor([[1],\n",
       "        [2]])"
      ]
     },
     "execution_count": 26,
     "metadata": {},
     "output_type": "execute_result"
    }
   ],
   "source": [
    "torch.tensor([[1,0],[0,1]]) @ torch.tensor([[1],[2]])"
   ]
  },
  {
   "cell_type": "markdown",
   "id": "a997d526-83d9-460a-984e-cfed4dfa19a7",
   "metadata": {},
   "source": [
    "둘다 소수로 통일하는게 더 좋음 "
   ]
  },
  {
   "cell_type": "code",
   "execution_count": 27,
   "id": "60298386-a910-40aa-b1d0-7cf18b1bc997",
   "metadata": {},
   "outputs": [
    {
     "data": {
      "text/plain": [
       "tensor([[1.],\n",
       "        [2.]])"
      ]
     },
     "execution_count": 27,
     "metadata": {},
     "output_type": "execute_result"
    }
   ],
   "source": [
    "torch.tensor([[1.0,0.0],[0.0,1.0]]) @ torch.tensor([[1.0],[2.0]])"
   ]
  },
  {
   "cell_type": "markdown",
   "id": "69a25057-360f-47dc-897c-93868fff8122",
   "metadata": {},
   "source": [
    "### shape of vector"
   ]
  },
  {
   "cell_type": "markdown",
   "id": "6bf2dead-3353-4a13-8b86-a4d58e67aa18",
   "metadata": {},
   "source": [
    "`-` 행렬곱셈에 대한 shape 조심"
   ]
  },
  {
   "cell_type": "code",
   "execution_count": 28,
   "id": "f7b7dd90-5dba-48c2-a303-0fb0609c2a37",
   "metadata": {},
   "outputs": [],
   "source": [
    "A = torch.tensor([[2.00,0.00],[0.00,3.00]]) \n",
    "b1 = torch.tensor([[-1.0,-5.0]])\n",
    "b2 = torch.tensor([[-1.0],[-5.0]])\n",
    "b3 = torch.tensor([-1.0,-5.0])"
   ]
  },
  {
   "cell_type": "code",
   "execution_count": 29,
   "id": "e92dc52a-b598-4517-9b48-7e03c2c92024",
   "metadata": {},
   "outputs": [
    {
     "data": {
      "text/plain": [
       "(torch.Size([2, 2]), torch.Size([1, 2]), torch.Size([2, 1]), torch.Size([2]))"
      ]
     },
     "execution_count": 29,
     "metadata": {},
     "output_type": "execute_result"
    }
   ],
   "source": [
    "A.shape,b1.shape,b2.shape,b3.shape"
   ]
  },
  {
   "cell_type": "markdown",
   "id": "2e13ddfa-a6ec-4e97-bdac-b1a5cfde458a",
   "metadata": {},
   "source": [
    "`-` A@b1: 계산불가, b1@A: 계산가능"
   ]
  },
  {
   "cell_type": "code",
   "execution_count": 30,
   "id": "9e2f7608-d0ef-4747-88d7-4d120bdf3dc5",
   "metadata": {},
   "outputs": [
    {
     "ename": "RuntimeError",
     "evalue": "mat1 and mat2 shapes cannot be multiplied (2x2 and 1x2)",
     "output_type": "error",
     "traceback": [
      "\u001b[0;31m---------------------------------------------------------------------------\u001b[0m",
      "\u001b[0;31mRuntimeError\u001b[0m                              Traceback (most recent call last)",
      "\u001b[0;32m/tmp/ipykernel_1020347/615827064.py\u001b[0m in \u001b[0;36m<module>\u001b[0;34m\u001b[0m\n\u001b[0;32m----> 1\u001b[0;31m \u001b[0mA\u001b[0m\u001b[0;34m@\u001b[0m\u001b[0mb1\u001b[0m\u001b[0;34m\u001b[0m\u001b[0;34m\u001b[0m\u001b[0m\n\u001b[0m",
      "\u001b[0;31mRuntimeError\u001b[0m: mat1 and mat2 shapes cannot be multiplied (2x2 and 1x2)"
     ]
    }
   ],
   "source": [
    "A@b1"
   ]
  },
  {
   "cell_type": "code",
   "execution_count": 31,
   "id": "b23135a2-bd48-42f9-bd24-3bea0619d552",
   "metadata": {},
   "outputs": [
    {
     "data": {
      "text/plain": [
       "tensor([[ -2., -15.]])"
      ]
     },
     "execution_count": 31,
     "metadata": {},
     "output_type": "execute_result"
    }
   ],
   "source": [
    "b1@A"
   ]
  },
  {
   "cell_type": "markdown",
   "id": "6ec74280-42e3-4af7-baba-2407f0390a29",
   "metadata": {},
   "source": [
    "`-` A@b2: 계산가능, b2@A: 계산불가 "
   ]
  },
  {
   "cell_type": "code",
   "execution_count": 32,
   "id": "3ebdce04-f9bc-45e4-a2b0-e62e1ec3ae50",
   "metadata": {},
   "outputs": [
    {
     "data": {
      "text/plain": [
       "tensor([[ -2.],\n",
       "        [-15.]])"
      ]
     },
     "execution_count": 32,
     "metadata": {},
     "output_type": "execute_result"
    }
   ],
   "source": [
    "A@b2"
   ]
  },
  {
   "cell_type": "code",
   "execution_count": 33,
   "id": "8e356e9b-0097-4e3c-8414-86670b0f162a",
   "metadata": {},
   "outputs": [
    {
     "ename": "RuntimeError",
     "evalue": "mat1 and mat2 shapes cannot be multiplied (2x1 and 2x2)",
     "output_type": "error",
     "traceback": [
      "\u001b[0;31m---------------------------------------------------------------------------\u001b[0m",
      "\u001b[0;31mRuntimeError\u001b[0m                              Traceback (most recent call last)",
      "\u001b[0;32m/tmp/ipykernel_1020347/926932629.py\u001b[0m in \u001b[0;36m<module>\u001b[0;34m\u001b[0m\n\u001b[0;32m----> 1\u001b[0;31m \u001b[0mb2\u001b[0m\u001b[0;34m@\u001b[0m\u001b[0mA\u001b[0m\u001b[0;34m\u001b[0m\u001b[0;34m\u001b[0m\u001b[0m\n\u001b[0m",
      "\u001b[0;31mRuntimeError\u001b[0m: mat1 and mat2 shapes cannot be multiplied (2x1 and 2x2)"
     ]
    }
   ],
   "source": [
    "b2@A"
   ]
  },
  {
   "cell_type": "markdown",
   "id": "496774ed-7d15-4821-b047-4aa7b4e8f7e9",
   "metadata": {},
   "source": [
    "`-` A@b3: 계산가능, b3@A: 계산가능 "
   ]
  },
  {
   "cell_type": "code",
   "execution_count": 34,
   "id": "11baf788-03f3-4a86-81c1-13d35b85b26e",
   "metadata": {},
   "outputs": [
    {
     "data": {
      "text/plain": [
       "torch.Size([2])"
      ]
     },
     "execution_count": 34,
     "metadata": {},
     "output_type": "execute_result"
    }
   ],
   "source": [
    "(A@b3).shape ## b3를 마치 col-vec 처럼 해석"
   ]
  },
  {
   "cell_type": "code",
   "execution_count": 35,
   "id": "d1284963-c62b-46d6-ba4e-ac6a8d18db9f",
   "metadata": {},
   "outputs": [
    {
     "data": {
      "text/plain": [
       "torch.Size([2])"
      ]
     },
     "execution_count": 35,
     "metadata": {},
     "output_type": "execute_result"
    }
   ],
   "source": [
    "(b3@A).shape ## b3를 마지 row-vec 처럼 해석"
   ]
  },
  {
   "cell_type": "markdown",
   "id": "4f3d3c93-6e3c-4405-a715-f0b5236a1c7a",
   "metadata": {},
   "source": [
    "`-` 브로드캐스팅 "
   ]
  },
  {
   "cell_type": "code",
   "execution_count": 36,
   "id": "88aa9ddb-da11-4cc1-b52c-12771887dcc5",
   "metadata": {},
   "outputs": [
    {
     "data": {
      "text/plain": [
       "tensor([0, 1, 2])"
      ]
     },
     "execution_count": 36,
     "metadata": {},
     "output_type": "execute_result"
    }
   ],
   "source": [
    "a = torch.tensor([1,2,3])\n",
    "a - 1"
   ]
  },
  {
   "cell_type": "code",
   "execution_count": 37,
   "id": "ae79fdd7-02ee-4b05-ae20-cd096a26937d",
   "metadata": {},
   "outputs": [
    {
     "data": {
      "text/plain": [
       "tensor([[0],\n",
       "        [1],\n",
       "        [2]])"
      ]
     },
     "execution_count": 37,
     "metadata": {},
     "output_type": "execute_result"
    }
   ],
   "source": [
    "b = torch.tensor([[1],[2],[3]])\n",
    "b - 1"
   ]
  },
  {
   "cell_type": "code",
   "execution_count": 38,
   "id": "2a7d273e-cb14-4c33-93ae-27e060019fa4",
   "metadata": {},
   "outputs": [
    {
     "data": {
      "text/plain": [
       "tensor([[ 0,  1,  2],\n",
       "        [-1,  0,  1],\n",
       "        [-2, -1,  0]])"
      ]
     },
     "execution_count": 38,
     "metadata": {},
     "output_type": "execute_result"
    }
   ],
   "source": [
    "a - b # a를 row-vec 로 해석"
   ]
  },
  {
   "cell_type": "markdown",
   "id": "d39e95a9-7a71-46a8-942f-547b967e5769",
   "metadata": {},
   "source": [
    "## step1의 다른버전 (복습 + $\\alpha$)"
   ]
  },
  {
   "cell_type": "markdown",
   "id": "80219892-439a-44eb-a7b3-f54d2e14ca43",
   "metadata": {},
   "source": [
    "`-` net를 만들어서 yhat을 구할경우 step1~4를 끝까지 한번진행해보자. "
   ]
  },
  {
   "cell_type": "markdown",
   "id": "215c4ad3-ddc1-461b-bf90-87a03e8ff156",
   "metadata": {},
   "source": [
    "### read data "
   ]
  },
  {
   "cell_type": "markdown",
   "id": "dfc1e59e-d551-45b3-8139-59b34e709f23",
   "metadata": {},
   "source": [
    "`-` web -> df"
   ]
  },
  {
   "cell_type": "code",
   "execution_count": 39,
   "id": "a126f2da-df64-44f8-a527-dfde44acae3b",
   "metadata": {},
   "outputs": [
    {
     "data": {
      "text/html": [
       "<div>\n",
       "<style scoped>\n",
       "    .dataframe tbody tr th:only-of-type {\n",
       "        vertical-align: middle;\n",
       "    }\n",
       "\n",
       "    .dataframe tbody tr th {\n",
       "        vertical-align: top;\n",
       "    }\n",
       "\n",
       "    .dataframe thead th {\n",
       "        text-align: right;\n",
       "    }\n",
       "</style>\n",
       "<table border=\"1\" class=\"dataframe\">\n",
       "  <thead>\n",
       "    <tr style=\"text-align: right;\">\n",
       "      <th></th>\n",
       "      <th>x</th>\n",
       "      <th>y</th>\n",
       "    </tr>\n",
       "  </thead>\n",
       "  <tbody>\n",
       "    <tr>\n",
       "      <th>0</th>\n",
       "      <td>-2.482113</td>\n",
       "      <td>-8.542024</td>\n",
       "    </tr>\n",
       "    <tr>\n",
       "      <th>1</th>\n",
       "      <td>-2.362146</td>\n",
       "      <td>-6.576713</td>\n",
       "    </tr>\n",
       "    <tr>\n",
       "      <th>2</th>\n",
       "      <td>-1.997295</td>\n",
       "      <td>-5.949576</td>\n",
       "    </tr>\n",
       "    <tr>\n",
       "      <th>3</th>\n",
       "      <td>-1.623936</td>\n",
       "      <td>-4.479364</td>\n",
       "    </tr>\n",
       "    <tr>\n",
       "      <th>4</th>\n",
       "      <td>-1.479192</td>\n",
       "      <td>-4.251570</td>\n",
       "    </tr>\n",
       "    <tr>\n",
       "      <th>...</th>\n",
       "      <td>...</td>\n",
       "      <td>...</td>\n",
       "    </tr>\n",
       "    <tr>\n",
       "      <th>95</th>\n",
       "      <td>2.244400</td>\n",
       "      <td>10.325987</td>\n",
       "    </tr>\n",
       "    <tr>\n",
       "      <th>96</th>\n",
       "      <td>2.393501</td>\n",
       "      <td>12.266493</td>\n",
       "    </tr>\n",
       "    <tr>\n",
       "      <th>97</th>\n",
       "      <td>2.605604</td>\n",
       "      <td>13.098280</td>\n",
       "    </tr>\n",
       "    <tr>\n",
       "      <th>98</th>\n",
       "      <td>2.605658</td>\n",
       "      <td>12.546793</td>\n",
       "    </tr>\n",
       "    <tr>\n",
       "      <th>99</th>\n",
       "      <td>2.663240</td>\n",
       "      <td>13.834002</td>\n",
       "    </tr>\n",
       "  </tbody>\n",
       "</table>\n",
       "<p>100 rows × 2 columns</p>\n",
       "</div>"
      ],
      "text/plain": [
       "           x          y\n",
       "0  -2.482113  -8.542024\n",
       "1  -2.362146  -6.576713\n",
       "2  -1.997295  -5.949576\n",
       "3  -1.623936  -4.479364\n",
       "4  -1.479192  -4.251570\n",
       "..       ...        ...\n",
       "95  2.244400  10.325987\n",
       "96  2.393501  12.266493\n",
       "97  2.605604  13.098280\n",
       "98  2.605658  12.546793\n",
       "99  2.663240  13.834002\n",
       "\n",
       "[100 rows x 2 columns]"
      ]
     },
     "execution_count": 39,
     "metadata": {},
     "output_type": "execute_result"
    }
   ],
   "source": [
    "df = pd.read_csv(\"https://raw.githubusercontent.com/guebin/DL2022/master/_notebooks/2022-09-22-regression.csv\") \n",
    "df"
   ]
  },
  {
   "cell_type": "markdown",
   "id": "b2829ad6-2865-483d-99e7-ab66c6c9b62d",
   "metadata": {},
   "source": [
    "`-` df -> tensor"
   ]
  },
  {
   "cell_type": "code",
   "execution_count": 40,
   "id": "88831b2a-0f68-49fd-8836-31a71df24b24",
   "metadata": {},
   "outputs": [],
   "source": [
    "x= torch.tensor(df.x,dtype=torch.float32).reshape(100,1)\n",
    "y= torch.tensor(df.y,dtype=torch.float32).reshape(100,1)\n",
    "X= torch.tensor([[1]*100,x]).T"
   ]
  },
  {
   "cell_type": "markdown",
   "id": "671634d1-1bdd-4b26-9ea4-62e2b5e67396",
   "metadata": {},
   "source": [
    "### ver1: net = torch.nn.Linear(1,1,bias=True) "
   ]
  },
  {
   "cell_type": "markdown",
   "id": "c76766db-93e2-45cc-acc4-cc3fbf8183e2",
   "metadata": {},
   "source": [
    "`-` step1: yhat"
   ]
  },
  {
   "cell_type": "code",
   "execution_count": 41,
   "id": "70fc2d97-3d0a-4dba-884a-8e27f9fc1b3b",
   "metadata": {},
   "outputs": [
    {
     "data": {
      "text/plain": [
       "(tensor([[-0.2735]]), tensor([0.7507]))"
      ]
     },
     "execution_count": 41,
     "metadata": {},
     "output_type": "execute_result"
    }
   ],
   "source": [
    "net = torch.nn.Linear(in_features=1,out_features=1)\n",
    "net.weight.data, net.bias.data"
   ]
  },
  {
   "cell_type": "code",
   "execution_count": 42,
   "id": "4c2f8202-a0bd-40e5-83ca-8e4962500dd5",
   "metadata": {},
   "outputs": [
    {
     "data": {
      "text/plain": [
       "(tensor([[10.]]), tensor([-5.]))"
      ]
     },
     "execution_count": 42,
     "metadata": {},
     "output_type": "execute_result"
    }
   ],
   "source": [
    "net.weight.data = torch.tensor([[10.0]])\n",
    "net.bias.data = torch.tensor([-5.0])                         \n",
    "net.weight.data, net.bias.data"
   ]
  },
  {
   "cell_type": "code",
   "execution_count": 43,
   "id": "2cd74400-b0dd-4ebd-b9a4-934a821cfc2b",
   "metadata": {},
   "outputs": [],
   "source": [
    "yhat = net(x)"
   ]
  },
  {
   "cell_type": "markdown",
   "id": "c3a2d385-34cf-4c7e-830b-c42a5b2526e1",
   "metadata": {},
   "source": [
    "`-` step2: loss "
   ]
  },
  {
   "cell_type": "code",
   "execution_count": 44,
   "id": "b845a902-8f38-4d9f-a12e-db1f8c1036dd",
   "metadata": {},
   "outputs": [
    {
     "data": {
      "text/plain": [
       "tensor(85.8769, grad_fn=<MeanBackward0>)"
      ]
     },
     "execution_count": 44,
     "metadata": {},
     "output_type": "execute_result"
    }
   ],
   "source": [
    "loss = torch.mean((y-yhat)**2)\n",
    "loss "
   ]
  },
  {
   "cell_type": "markdown",
   "id": "cafdffcb-4b40-4069-91d5-b6e4b5682dd4",
   "metadata": {},
   "source": [
    "`-` step3: 미분 "
   ]
  },
  {
   "cell_type": "markdown",
   "id": "b6c002b5-dadf-4337-9a58-d5971c3c7ddb",
   "metadata": {},
   "source": [
    "(미분전상황)"
   ]
  },
  {
   "cell_type": "code",
   "execution_count": 45,
   "id": "b2c435bd-efb2-4ba5-a42a-45f40d696cc2",
   "metadata": {},
   "outputs": [
    {
     "data": {
      "text/plain": [
       "(Parameter containing:\n",
       " tensor([[10.]], requires_grad=True),\n",
       " Parameter containing:\n",
       " tensor([-5.], requires_grad=True))"
      ]
     },
     "execution_count": 45,
     "metadata": {},
     "output_type": "execute_result"
    }
   ],
   "source": [
    "net.weight, net.bias"
   ]
  },
  {
   "cell_type": "code",
   "execution_count": 46,
   "id": "c5f8ec83-d25a-4d7c-8717-f02ee61a40ea",
   "metadata": {},
   "outputs": [
    {
     "data": {
      "text/plain": [
       "(None, None)"
      ]
     },
     "execution_count": 46,
     "metadata": {},
     "output_type": "execute_result"
    }
   ],
   "source": [
    "net.weight.grad, net.bias.grad"
   ]
  },
  {
   "cell_type": "markdown",
   "id": "9cc9d411-9edc-410c-a94d-4c0d1aee5133",
   "metadata": {},
   "source": [
    "(미분)"
   ]
  },
  {
   "cell_type": "code",
   "execution_count": 47,
   "id": "76acb431-c318-4dac-9cbb-5931d40171a5",
   "metadata": {},
   "outputs": [],
   "source": [
    "loss.backward()  "
   ]
  },
  {
   "cell_type": "markdown",
   "id": "87e03e19-6172-4236-b8f5-93dc3299889d",
   "metadata": {},
   "source": [
    "(미분후상황)"
   ]
  },
  {
   "cell_type": "code",
   "execution_count": 48,
   "id": "3608e957-876c-42ac-9ecf-dfb8f7666079",
   "metadata": {},
   "outputs": [
    {
     "data": {
      "text/plain": [
       "(Parameter containing:\n",
       " tensor([[10.]], requires_grad=True),\n",
       " Parameter containing:\n",
       " tensor([-5.], requires_grad=True))"
      ]
     },
     "execution_count": 48,
     "metadata": {},
     "output_type": "execute_result"
    }
   ],
   "source": [
    "net.weight, net.bias"
   ]
  },
  {
   "cell_type": "code",
   "execution_count": 49,
   "id": "ccc7969f-21f3-4df6-b6cd-8ef1931922eb",
   "metadata": {},
   "outputs": [
    {
     "data": {
      "text/plain": [
       "(tensor([[11.8893]]), tensor([-13.4225]))"
      ]
     },
     "execution_count": 49,
     "metadata": {},
     "output_type": "execute_result"
    }
   ],
   "source": [
    "net.weight.grad, net.bias.grad"
   ]
  },
  {
   "cell_type": "markdown",
   "id": "6e540447-df8c-48bb-b6c5-76ed86a7f6b5",
   "metadata": {},
   "source": [
    "`-` step4: update "
   ]
  },
  {
   "cell_type": "code",
   "execution_count": 50,
   "id": "fe9574b8-a6a8-4bb4-9a70-0d6e484d9959",
   "metadata": {},
   "outputs": [],
   "source": [
    "net.weight.data = net.weight.data - 1/10 * net.weight.grad \n",
    "net.bias.data = net.bias.data - 1/10 * net.bias.grad"
   ]
  },
  {
   "cell_type": "code",
   "execution_count": 51,
   "id": "0e0a6e3d-c218-4e88-b3d8-84b69a4e7918",
   "metadata": {},
   "outputs": [
    {
     "data": {
      "text/plain": [
       "(tensor([[8.8111]]), tensor([-3.6577]))"
      ]
     },
     "execution_count": 51,
     "metadata": {},
     "output_type": "execute_result"
    }
   ],
   "source": [
    "net.weight.data,net.bias.data"
   ]
  },
  {
   "cell_type": "markdown",
   "id": "40dff6c0-c8a8-449b-a918-14457b32da39",
   "metadata": {},
   "source": [
    "`-` 반복 "
   ]
  },
  {
   "cell_type": "markdown",
   "id": "ee52f888-78dc-4d8c-a8e1-49d1a39242e9",
   "metadata": {},
   "source": [
    "(code before)"
   ]
  },
  {
   "cell_type": "code",
   "execution_count": 52,
   "id": "968b6f16-e3be-4b2d-9b2b-c39ce5b041e1",
   "metadata": {},
   "outputs": [],
   "source": [
    "What = torch.tensor([[-5.0],[10.0]],requires_grad=True) "
   ]
  },
  {
   "cell_type": "code",
   "execution_count": 53,
   "id": "05683c59-a185-4ce6-be1e-d553452f9ffe",
   "metadata": {},
   "outputs": [
    {
     "data": {
      "text/plain": [
       "[<matplotlib.lines.Line2D at 0x7f8e743d02d0>]"
      ]
     },
     "execution_count": 53,
     "metadata": {},
     "output_type": "execute_result"
    },
    {
     "data": {
      "image/png": "[encoded data removed]",
      "text/plain": [
       "<Figure size 432x288 with 1 Axes>"
      ]
     },
     "metadata": {
      "needs_background": "light"
     },
     "output_type": "display_data"
    }
   ],
   "source": [
    "plt.plot(x,y,'o')\n",
    "plt.plot(x,(X@What).data,'--')"
   ]
  },
  {
   "cell_type": "code",
   "execution_count": 54,
   "id": "9011446c-6f33-42d8-8d65-7de44094b096",
   "metadata": {},
   "outputs": [],
   "source": [
    "for epoc in range(30):\n",
    "    ## step1 \n",
    "    yhat = X@What     \n",
    "    ## step2\n",
    "    loss = torch.mean((y-yhat)**2) \n",
    "    ## step3 \n",
    "    loss.backward()\n",
    "    ## step4 \n",
    "    What.data = What.data - 1/10 * What.grad \n",
    "    What.grad = None"
   ]
  },
  {
   "cell_type": "code",
   "execution_count": 55,
   "id": "296db64a-18ed-4972-b3e2-a1f85fdbf48b",
   "metadata": {},
   "outputs": [
    {
     "data": {
      "text/plain": [
       "[<matplotlib.lines.Line2D at 0x7f8e742f6210>]"
      ]
     },
     "execution_count": 55,
     "metadata": {},
     "output_type": "execute_result"
    },
    {
     "data": {
      "image/png": "[encoded data removed]",
      "text/plain": [
       "<Figure size 432x288 with 1 Axes>"
      ]
     },
     "metadata": {
      "needs_background": "light"
     },
     "output_type": "display_data"
    }
   ],
   "source": [
    "plt.plot(x,y,'o')\n",
    "plt.plot(x,(X@What).data,'--')"
   ]
  },
  {
   "cell_type": "markdown",
   "id": "82535245-bc13-41a4-903f-d9526f0ea81a",
   "metadata": {},
   "source": [
    "(code after) "
   ]
  },
  {
   "cell_type": "code",
   "execution_count": 56,
   "id": "5b253247-3752-4970-8c21-48fb8cc62e03",
   "metadata": {},
   "outputs": [],
   "source": [
    "net = torch.nn.Linear(in_features=1,out_features=1)\n",
    "net.weight.data = torch.tensor([[10.0]])\n",
    "net.bias.data = torch.tensor([-5.0]) "
   ]
  },
  {
   "cell_type": "code",
   "execution_count": 57,
   "id": "39112991-c294-4f77-9610-30d0ed230d18",
   "metadata": {},
   "outputs": [
    {
     "data": {
      "text/plain": [
       "[<matplotlib.lines.Line2D at 0x7f8e73ff5050>]"
      ]
     },
     "execution_count": 57,
     "metadata": {},
     "output_type": "execute_result"
    },
    {
     "data": {
      "image/png": "[encoded data removed]",
      "text/plain": [
       "<Figure size 432x288 with 1 Axes>"
      ]
     },
     "metadata": {
      "needs_background": "light"
     },
     "output_type": "display_data"
    }
   ],
   "source": [
    "plt.plot(x,y,'o')\n",
    "plt.plot(x,net(x).data,'--')"
   ]
  },
  {
   "cell_type": "code",
   "execution_count": 58,
   "id": "83e2fc07-5fc7-4663-aa72-5e19de1fc4d8",
   "metadata": {},
   "outputs": [],
   "source": [
    "for epoc in range(30):\n",
    "    ## step1 \n",
    "    yhat = net(x)\n",
    "    ## step2\n",
    "    loss = torch.mean((y-yhat)**2) \n",
    "    ## step3 \n",
    "    loss.backward()\n",
    "    ## step4 (이게 엄청 귀찮아지네??) \n",
    "    net.weight.data = net.weight.data - 1/10 * net.weight.grad \n",
    "    net.bias.data = net.bias.data - 1/10 * net.bias.grad\n",
    "    net.weight.grad = None \n",
    "    net.bias.grad = None "
   ]
  },
  {
   "cell_type": "code",
   "execution_count": 59,
   "id": "1bdfe616-46b6-4867-88c2-ebd74256f2c2",
   "metadata": {},
   "outputs": [
    {
     "data": {
      "text/plain": [
       "[<matplotlib.lines.Line2D at 0x7f8e73f70990>]"
      ]
     },
     "execution_count": 59,
     "metadata": {},
     "output_type": "execute_result"
    },
    {
     "data": {
      "image/png": "[encoded data removed]",
      "text/plain": [
       "<Figure size 432x288 with 1 Axes>"
      ]
     },
     "metadata": {
      "needs_background": "light"
     },
     "output_type": "display_data"
    }
   ],
   "source": [
    "plt.plot(x,y,'o')\n",
    "plt.plot(x,net(x).data,'--')"
   ]
  },
  {
   "cell_type": "markdown",
   "id": "6b01c441-e6e3-43ea-9a73-2c489dcfb5c8",
   "metadata": {},
   "source": [
    "### ver2: net = torch.nn.Linear(2,1,bias=False) "
   ]
  },
  {
   "cell_type": "markdown",
   "id": "337cf085-ac2c-457f-a17a-48ae37ed0ee4",
   "metadata": {},
   "source": [
    "`-` step1: yhat"
   ]
  },
  {
   "cell_type": "code",
   "execution_count": 60,
   "id": "35c166a4-c984-46be-be2b-88aaa1890e53",
   "metadata": {},
   "outputs": [],
   "source": [
    "net = torch.nn.Linear(in_features=2,out_features=1,bias=False) "
   ]
  },
  {
   "cell_type": "code",
   "execution_count": 61,
   "id": "ecaeb508-d737-4d33-b298-c811f4a1c6c1",
   "metadata": {},
   "outputs": [
    {
     "data": {
      "text/plain": [
       "Parameter containing:\n",
       "tensor([[-0.0199, -0.5255]], requires_grad=True)"
      ]
     },
     "execution_count": 61,
     "metadata": {},
     "output_type": "execute_result"
    }
   ],
   "source": [
    "net.weight"
   ]
  },
  {
   "cell_type": "code",
   "execution_count": 62,
   "id": "6c5aa888-dfdd-4299-b6ea-0e83e7615188",
   "metadata": {},
   "outputs": [
    {
     "data": {
      "text/plain": [
       "Parameter containing:\n",
       "tensor([[-5., 10.]], requires_grad=True)"
      ]
     },
     "execution_count": 62,
     "metadata": {},
     "output_type": "execute_result"
    }
   ],
   "source": [
    "net.weight.data = torch.tensor([[-5.0, 10.0]])\n",
    "net.weight"
   ]
  },
  {
   "cell_type": "code",
   "execution_count": 63,
   "id": "fa421f86-04cd-4265-b9cf-0cabf7da0c1e",
   "metadata": {},
   "outputs": [],
   "source": [
    "yhat=net(X)"
   ]
  },
  {
   "cell_type": "markdown",
   "id": "0f307a91-7b39-4600-ae1e-3e2ea649d2d4",
   "metadata": {},
   "source": [
    "`-` step2: loss"
   ]
  },
  {
   "cell_type": "code",
   "execution_count": 64,
   "id": "92f8a814-0609-424a-8090-5ca25e627557",
   "metadata": {},
   "outputs": [
    {
     "data": {
      "text/plain": [
       "tensor(85.8769, grad_fn=<MeanBackward0>)"
      ]
     },
     "execution_count": 64,
     "metadata": {},
     "output_type": "execute_result"
    }
   ],
   "source": [
    "loss = torch.mean((y-yhat)**2)\n",
    "loss"
   ]
  },
  {
   "cell_type": "markdown",
   "id": "a60286ad-4eb1-46c4-a429-60e42df37815",
   "metadata": {},
   "source": [
    "`-` step3: 미분 "
   ]
  },
  {
   "cell_type": "markdown",
   "id": "b2619644-3ebc-4f49-b32e-c91ae9903709",
   "metadata": {},
   "source": [
    "(미분전상황) "
   ]
  },
  {
   "cell_type": "code",
   "execution_count": 65,
   "id": "231fbbb2-48a7-4c74-a305-cdabc047061b",
   "metadata": {},
   "outputs": [
    {
     "data": {
      "text/plain": [
       "tensor([[-5., 10.]])"
      ]
     },
     "execution_count": 65,
     "metadata": {},
     "output_type": "execute_result"
    }
   ],
   "source": [
    "net.weight.data"
   ]
  },
  {
   "cell_type": "code",
   "execution_count": 66,
   "id": "52593821-20ae-4882-9c0b-9c6673d5221b",
   "metadata": {},
   "outputs": [],
   "source": [
    "net.weight.grad"
   ]
  },
  {
   "cell_type": "markdown",
   "id": "f6831789-6b06-4acf-8948-cb754679c565",
   "metadata": {},
   "source": [
    "(미분) "
   ]
  },
  {
   "cell_type": "code",
   "execution_count": 67,
   "id": "7720d56d-04bb-475e-a6bf-89aa92933062",
   "metadata": {},
   "outputs": [],
   "source": [
    "loss.backward()"
   ]
  },
  {
   "cell_type": "markdown",
   "id": "38c6ccaa-8017-43a1-b88c-f5f92cfa4581",
   "metadata": {},
   "source": [
    "(미분후상황) "
   ]
  },
  {
   "cell_type": "code",
   "execution_count": 68,
   "id": "87f85ab1-147e-42aa-b839-adb859aae663",
   "metadata": {},
   "outputs": [
    {
     "data": {
      "text/plain": [
       "tensor([[-5., 10.]])"
      ]
     },
     "execution_count": 68,
     "metadata": {},
     "output_type": "execute_result"
    }
   ],
   "source": [
    "net.weight.data"
   ]
  },
  {
   "cell_type": "code",
   "execution_count": 69,
   "id": "027ed494-85f5-4c07-9dfe-b734d08b05ad",
   "metadata": {},
   "outputs": [
    {
     "data": {
      "text/plain": [
       "tensor([[-13.4225,  11.8893]])"
      ]
     },
     "execution_count": 69,
     "metadata": {},
     "output_type": "execute_result"
    }
   ],
   "source": [
    "net.weight.grad"
   ]
  },
  {
   "cell_type": "markdown",
   "id": "1e6a2fa1-a70f-43b2-8c4f-83ceda16562b",
   "metadata": {},
   "source": [
    "`-` step4: update "
   ]
  },
  {
   "cell_type": "code",
   "execution_count": 70,
   "id": "da91d533-fd3f-4acc-bacb-2ef7058e0f46",
   "metadata": {},
   "outputs": [
    {
     "data": {
      "text/plain": [
       "tensor([[-3.6577,  8.8111]])"
      ]
     },
     "execution_count": 70,
     "metadata": {},
     "output_type": "execute_result"
    }
   ],
   "source": [
    "net.weight.data = net.weight.data - 1/10 * net.weight.grad \n",
    "net.weight.data"
   ]
  },
  {
   "cell_type": "markdown",
   "id": "49324193-94ce-434c-8584-dd21afca0081",
   "metadata": {},
   "source": [
    "`-` 반복 "
   ]
  },
  {
   "cell_type": "markdown",
   "id": "f4bb8241-5a17-44ef-8840-f898d9b44166",
   "metadata": {},
   "source": [
    "(code before) -- ver1과 같으므로 생략할게요"
   ]
  },
  {
   "cell_type": "markdown",
   "id": "f7d3af85-2971-4207-81c1-31a23f1f692d",
   "metadata": {},
   "source": [
    "(code after)"
   ]
  },
  {
   "cell_type": "code",
   "execution_count": 71,
   "id": "158636c4-6d42-4c80-854d-5c51f6379737",
   "metadata": {},
   "outputs": [],
   "source": [
    "net = torch.nn.Linear(in_features=2,out_features=1,bias=False)\n",
    "net.weight.data = torch.tensor([[-5.0, 10.0]]) "
   ]
  },
  {
   "cell_type": "code",
   "execution_count": 72,
   "id": "fac55ba0-d8cb-47ca-b959-264dfbbb858b",
   "metadata": {},
   "outputs": [
    {
     "data": {
      "text/plain": [
       "[<matplotlib.lines.Line2D at 0x7f8e73ef6050>]"
      ]
     },
     "execution_count": 72,
     "metadata": {},
     "output_type": "execute_result"
    },
    {
     "data": {
      "image/png": "[encoded data removed]",
      "text/plain": [
       "<Figure size 432x288 with 1 Axes>"
      ]
     },
     "metadata": {
      "needs_background": "light"
     },
     "output_type": "display_data"
    }
   ],
   "source": [
    "plt.plot(x,y,'o')\n",
    "plt.plot(x,net(X).data,'--')"
   ]
  },
  {
   "cell_type": "code",
   "execution_count": 73,
   "id": "4a7c2502-7672-44df-8715-73c4136fcb68",
   "metadata": {},
   "outputs": [],
   "source": [
    "for epoc in range(30): \n",
    "    ## step1 \n",
    "    yhat = net(X) \n",
    "    ## step2 \n",
    "    loss = torch.mean((y-yhat)**2)\n",
    "    ## step3 \n",
    "    loss.backward() \n",
    "    ## step4 \n",
    "    net.weight.data = net.weight.data - 1/10 * net.weight.grad\n",
    "    net.weight.grad = None "
   ]
  },
  {
   "cell_type": "code",
   "execution_count": 74,
   "id": "41aa3c85-c317-4508-ab0d-d40e13815c0e",
   "metadata": {},
   "outputs": [
    {
     "data": {
      "text/plain": [
       "[<matplotlib.lines.Line2D at 0x7f8e73e6f390>]"
      ]
     },
     "execution_count": 74,
     "metadata": {},
     "output_type": "execute_result"
    },
    {
     "data": {
      "image/png": "[encoded data removed]",
      "text/plain": [
       "<Figure size 432x288 with 1 Axes>"
      ]
     },
     "metadata": {
      "needs_background": "light"
     },
     "output_type": "display_data"
    }
   ],
   "source": [
    "plt.plot(x,y,'o')\n",
    "plt.plot(x,net(X).data,'--') "
   ]
  },
  {
   "cell_type": "markdown",
   "id": "9c29b1ad-d048-46af-9f12-92171005f277",
   "metadata": {},
   "source": [
    "## step4의 다른버전: 옵티마이저!"
   ]
  },
  {
   "cell_type": "markdown",
   "id": "42f4de2d-0a20-4ed8-ba4c-300afb40bed7",
   "metadata": {},
   "source": [
    "### ver1: net = torch.nn.Linear(1,1,bias=True) "
   ]
  },
  {
   "cell_type": "markdown",
   "id": "f6471cfd-d6f6-4bae-9290-58c6c32f299d",
   "metadata": {},
   "source": [
    "`-` 준비 "
   ]
  },
  {
   "cell_type": "code",
   "execution_count": 267,
   "id": "685cdb80-9a81-414b-a5ff-aa3716e927f3",
   "metadata": {},
   "outputs": [],
   "source": [
    "net = torch.nn.Linear(1,1) \n",
    "net.weight.data = torch.tensor([[10.0]]) \n",
    "net.bias.data = torch.tensor([[-5.0]]) "
   ]
  },
  {
   "cell_type": "code",
   "execution_count": 268,
   "id": "ca9efa25-53cd-4c75-958a-cf3545d79e57",
   "metadata": {},
   "outputs": [],
   "source": [
    "optimiger = torch.optim.SGD(net.parameters(),lr=1/10) "
   ]
  },
  {
   "cell_type": "markdown",
   "id": "e8583485-5d6a-4e13-97fb-37e32450e565",
   "metadata": {},
   "source": [
    "`-` step1~3"
   ]
  },
  {
   "cell_type": "code",
   "execution_count": 269,
   "id": "7299d901-8442-4cea-be7f-70e0bc501b21",
   "metadata": {},
   "outputs": [],
   "source": [
    "yhat = net(x)     "
   ]
  },
  {
   "cell_type": "code",
   "execution_count": 270,
   "id": "8ef5120c-74e7-45d5-afef-817ebba01520",
   "metadata": {},
   "outputs": [],
   "source": [
    "loss = torch.mean((y-yhat)**2) "
   ]
  },
  {
   "cell_type": "code",
   "execution_count": 271,
   "id": "4fed5c93-ddd4-4773-9719-2fd97869b3f2",
   "metadata": {},
   "outputs": [],
   "source": [
    "loss.backward() "
   ]
  },
  {
   "cell_type": "markdown",
   "id": "b1600b5d-d1c4-4f7a-b722-9fd48f9cc6a3",
   "metadata": {},
   "source": [
    "`-` step4 "
   ]
  },
  {
   "cell_type": "markdown",
   "id": "fbfbcf40-05bc-4f6a-90e1-cbf39f3e6531",
   "metadata": {},
   "source": [
    "(update 전)"
   ]
  },
  {
   "cell_type": "code",
   "execution_count": 272,
   "id": "d1b99f08-2657-44d2-9d4e-ac4e03c7c526",
   "metadata": {},
   "outputs": [
    {
     "data": {
      "text/plain": [
       "(tensor([[10.]]), tensor([[-5.]]))"
      ]
     },
     "execution_count": 272,
     "metadata": {},
     "output_type": "execute_result"
    }
   ],
   "source": [
    "net.weight.data, net.bias.data ## 값은 업데이트 전"
   ]
  },
  {
   "cell_type": "code",
   "execution_count": 273,
   "id": "000289cf-526c-4af3-b4f2-2ea19d10dd37",
   "metadata": {},
   "outputs": [
    {
     "data": {
      "text/plain": [
       "(tensor([[11.8893]]), tensor([[-13.4225]]))"
      ]
     },
     "execution_count": 273,
     "metadata": {},
     "output_type": "execute_result"
    }
   ],
   "source": [
    "net.weight.grad, net.bias.grad ## 미분값은 청소전 "
   ]
  },
  {
   "cell_type": "markdown",
   "id": "42eaf5c5-011c-48ef-8b3a-a3d16c056fa8",
   "metadata": {},
   "source": [
    "(update) "
   ]
  },
  {
   "cell_type": "code",
   "execution_count": 274,
   "id": "4494cfe1-2df0-4a48-b09e-206e710e5dd1",
   "metadata": {},
   "outputs": [],
   "source": [
    "optimiger.step() \n",
    "optimiger.zero_grad() "
   ]
  },
  {
   "cell_type": "markdown",
   "id": "ae789e4a-b146-42ef-a2e0-77c971450a67",
   "metadata": {},
   "source": [
    "(update 후) "
   ]
  },
  {
   "cell_type": "code",
   "execution_count": 275,
   "id": "ae56cc7b-107a-4722-8879-cae65eb8a3ba",
   "metadata": {},
   "outputs": [
    {
     "data": {
      "text/plain": [
       "(tensor([[8.8111]]), tensor([[-3.6577]]))"
      ]
     },
     "execution_count": 275,
     "metadata": {},
     "output_type": "execute_result"
    }
   ],
   "source": [
    "net.weight.data, net.bias.data ## 값은 업데이트 되었음 "
   ]
  },
  {
   "cell_type": "code",
   "execution_count": 276,
   "id": "8315a79e-f1cd-41ca-932b-1e8cf1d1210f",
   "metadata": {},
   "outputs": [
    {
     "data": {
      "text/plain": [
       "(tensor([[0.]]), tensor([[0.]]))"
      ]
     },
     "execution_count": 276,
     "metadata": {},
     "output_type": "execute_result"
    }
   ],
   "source": [
    "net.weight.grad, net.bias.grad ## 미분값은 0으로 초기화하였음 "
   ]
  },
  {
   "cell_type": "markdown",
   "id": "790e3804-3070-40bf-985b-caf9c08cd136",
   "metadata": {},
   "source": [
    "`-` 반복 "
   ]
  },
  {
   "cell_type": "code",
   "execution_count": 277,
   "id": "e76d545f-b357-4c58-943a-dfd79eb27ae9",
   "metadata": {},
   "outputs": [],
   "source": [
    "net = torch.nn.Linear(1,1) \n",
    "net.weight.data = torch.tensor([[10.0]])\n",
    "net.bias.data = torch.tensor([-5.0])\n",
    "optimiger = torch.optim.SGD(net.parameters(),lr=1/10) "
   ]
  },
  {
   "cell_type": "code",
   "execution_count": 278,
   "id": "599fa01c-e044-4d7f-be88-e1fa1bd62049",
   "metadata": {},
   "outputs": [],
   "source": [
    "for epoc in range(30): \n",
    "    yhat = net(x)\n",
    "    loss = torch.mean((y-yhat)**2) \n",
    "    loss.backward() \n",
    "    optimiger.step(); optimiger.zero_grad() "
   ]
  },
  {
   "cell_type": "code",
   "execution_count": 279,
   "id": "a2858eae-e8bc-47d1-a5ce-638416b411cc",
   "metadata": {},
   "outputs": [
    {
     "data": {
      "text/plain": [
       "[<matplotlib.lines.Line2D at 0x7f8e7232f7d0>]"
      ]
     },
     "execution_count": 279,
     "metadata": {},
     "output_type": "execute_result"
    },
    {
     "data": {
      "image/png": "[encoded data removed]",
      "text/plain": [
       "<Figure size 432x288 with 1 Axes>"
      ]
     },
     "metadata": {
      "needs_background": "light"
     },
     "output_type": "display_data"
    }
   ],
   "source": [
    "plt.plot(x,y,'o')\n",
    "plt.plot(x,net(x).data,'--')"
   ]
  },
  {
   "cell_type": "markdown",
   "id": "bdb4edb5-5922-4241-bbac-426ce5513462",
   "metadata": {},
   "source": [
    "### ver2: net = torch.nn.Linear(2,1,bias=False) "
   ]
  },
  {
   "cell_type": "markdown",
   "id": "83e5eb7d-a0ae-4591-8977-d82f8f13fdd7",
   "metadata": {},
   "source": [
    "`-` 바로 반복하겠습니다.. "
   ]
  },
  {
   "cell_type": "code",
   "execution_count": 231,
   "id": "fa46a27f-77fb-4abe-9a7a-590251ca42e9",
   "metadata": {},
   "outputs": [],
   "source": [
    "net = torch.nn.Linear(2,1,bias=False) \n",
    "net.weight.data = torch.tensor([[-5.0, 10.0]])\n",
    "optimiger = torch.optim.SGD(net.parameters(),lr=1/10) "
   ]
  },
  {
   "cell_type": "code",
   "execution_count": 232,
   "id": "f6bf419b-7ee8-4434-a1c3-4fa123a46900",
   "metadata": {},
   "outputs": [],
   "source": [
    "for epoc in range(30): \n",
    "    yhat = net(X)\n",
    "    loss = torch.mean((y-yhat)**2) \n",
    "    loss.backward() \n",
    "    optimiger.step(); optimiger.zero_grad() "
   ]
  },
  {
   "cell_type": "code",
   "execution_count": 233,
   "id": "46575ad9-9590-4559-a71e-2b53f83eaada",
   "metadata": {},
   "outputs": [
    {
     "data": {
      "text/plain": [
       "[<matplotlib.lines.Line2D at 0x7f8e720cbf10>]"
      ]
     },
     "execution_count": 233,
     "metadata": {},
     "output_type": "execute_result"
    },
    {
     "data": {
      "image/png": "[encoded data removed]",
      "text/plain": [
       "<Figure size 432x288 with 1 Axes>"
      ]
     },
     "metadata": {
      "needs_background": "light"
     },
     "output_type": "display_data"
    }
   ],
   "source": [
    "plt.plot(x,y,'o')\n",
    "plt.plot(x,net(X).data,'--')"
   ]
  },
  {
   "cell_type": "markdown",
   "id": "cf2a5b9e-7c00-41e4-8dd5-c98acbcfe643",
   "metadata": {},
   "source": [
    "--- "
   ]
  },
  {
   "cell_type": "markdown",
   "id": "47c8515b-8e81-4c00-9175-a5705c0461d3",
   "metadata": {},
   "source": [
    "## Appendix: `net.parameters()`의 의미? (선택학습)"
   ]
  },
  {
   "cell_type": "markdown",
   "id": "a0296bfa-0b54-407c-abdc-fc4829986148",
   "metadata": {},
   "source": [
    "`-` iterator, generator의 개념필요 \n",
    "- https://guebin.github.io/IP2022/2022/06/06/(14주차)-6월6일.html, 클래스공부 8단계 참고 \n"
   ]
  },
  {
   "cell_type": "markdown",
   "id": "bf07a955-3d50-4b59-9816-2cd319402d95",
   "metadata": {},
   "source": [
    "`-` 탐구시작: 네트워크 생성 "
   ]
  },
  {
   "cell_type": "code",
   "execution_count": 313,
   "id": "423d09db-8177-4994-b219-59a69a595906",
   "metadata": {},
   "outputs": [
    {
     "data": {
      "text/plain": [
       "Parameter containing:\n",
       "tensor([[0.1341]], requires_grad=True)"
      ]
     },
     "execution_count": 313,
     "metadata": {},
     "output_type": "execute_result"
    }
   ],
   "source": [
    "net = torch.nn.Linear(in_features=1,out_features=1)\n",
    "net.weight"
   ]
  },
  {
   "cell_type": "code",
   "execution_count": 314,
   "id": "a097b1d7-f508-4264-83fb-6b7180f08dc0",
   "metadata": {},
   "outputs": [
    {
     "data": {
      "text/plain": [
       "Parameter containing:\n",
       "tensor([-0.5970], requires_grad=True)"
      ]
     },
     "execution_count": 314,
     "metadata": {},
     "output_type": "execute_result"
    }
   ],
   "source": [
    "net.bias"
   ]
  },
  {
   "cell_type": "markdown",
   "id": "af341eb0-93af-468a-b762-5da108d2fc4a",
   "metadata": {},
   "source": [
    "`-` torch.optim.SGD? 를 확인하면 params에 대한설명에 아래와 같이 되어있음 \n",
    "\n",
    "```\n",
    "params (iterable): iterable of parameters to optimize or dicts defining\n",
    "        parameter groups\n",
    "```"
   ]
  },
  {
   "cell_type": "markdown",
   "id": "9fe4beba-50a4-404d-ace9-e571bf7b6b7f",
   "metadata": {},
   "source": [
    "`-` 설명을 읽어보면 params에 iterable object를 넣으라고 되어있음 (iterable object는 숨겨진 명령어로 `__iter__`를 가지고 있는 오브젝트를 의미)"
   ]
  },
  {
   "cell_type": "code",
   "execution_count": 302,
   "id": "4d41b19f-642b-4f04-80e9-caed040804f2",
   "metadata": {},
   "outputs": [
    {
     "data": {
      "text/plain": [
       "set()"
      ]
     },
     "execution_count": 302,
     "metadata": {},
     "output_type": "execute_result"
    }
   ],
   "source": [
    "set(dir(net.parameters)) & {'__iter__'}"
   ]
  },
  {
   "cell_type": "code",
   "execution_count": 303,
   "id": "61c33a1b-eb7c-4272-9006-c071152ca3a2",
   "metadata": {},
   "outputs": [
    {
     "data": {
      "text/plain": [
       "{'__iter__'}"
      ]
     },
     "execution_count": 303,
     "metadata": {},
     "output_type": "execute_result"
    }
   ],
   "source": [
    "set(dir(net.parameters())) & {'__iter__'}"
   ]
  },
  {
   "cell_type": "markdown",
   "id": "15f988e4-76fd-43ed-8bec-5a4db96a43dd",
   "metadata": {},
   "source": [
    "`-` 무슨의미? "
   ]
  },
  {
   "cell_type": "code",
   "execution_count": 315,
   "id": "9a34b213-524d-464a-ab54-229e30f98c71",
   "metadata": {},
   "outputs": [],
   "source": [
    "_generator = net.parameters()"
   ]
  },
  {
   "cell_type": "code",
   "execution_count": 316,
   "id": "121a706b-d18c-4697-ba98-eb1f3df74634",
   "metadata": {},
   "outputs": [
    {
     "data": {
      "text/plain": [
       "Parameter containing:\n",
       "tensor([[0.1341]], requires_grad=True)"
      ]
     },
     "execution_count": 316,
     "metadata": {},
     "output_type": "execute_result"
    }
   ],
   "source": [
    "_generator.__next__()"
   ]
  },
  {
   "cell_type": "code",
   "execution_count": 317,
   "id": "ebebe1c3-8497-45df-8fdd-29b1c8e3b512",
   "metadata": {},
   "outputs": [
    {
     "data": {
      "text/plain": [
       "Parameter containing:\n",
       "tensor([-0.5970], requires_grad=True)"
      ]
     },
     "execution_count": 317,
     "metadata": {},
     "output_type": "execute_result"
    }
   ],
   "source": [
    "_generator.__next__()"
   ]
  },
  {
   "cell_type": "code",
   "execution_count": 318,
   "id": "0af61910-e9bc-4628-bdd0-b4bf5905ba1c",
   "metadata": {},
   "outputs": [
    {
     "ename": "StopIteration",
     "evalue": "",
     "output_type": "error",
     "traceback": [
      "\u001b[0;31m---------------------------------------------------------------------------\u001b[0m",
      "\u001b[0;31mStopIteration\u001b[0m                             Traceback (most recent call last)",
      "\u001b[0;32m/tmp/ipykernel_1020347/3395526306.py\u001b[0m in \u001b[0;36m<module>\u001b[0;34m\u001b[0m\n\u001b[0;32m----> 1\u001b[0;31m \u001b[0m_generator\u001b[0m\u001b[0;34m.\u001b[0m\u001b[0m__next__\u001b[0m\u001b[0;34m(\u001b[0m\u001b[0;34m)\u001b[0m\u001b[0;34m\u001b[0m\u001b[0;34m\u001b[0m\u001b[0m\n\u001b[0m",
      "\u001b[0;31mStopIteration\u001b[0m: "
     ]
    }
   ],
   "source": [
    "_generator.__next__()"
   ]
  },
  {
   "cell_type": "markdown",
   "id": "37b3ecbd-0363-4490-8a94-52dc0b1d51c7",
   "metadata": {},
   "source": [
    "`-` 이건 이런느낌인데? "
   ]
  },
  {
   "cell_type": "code",
   "execution_count": 323,
   "id": "53a7a46d-9dc0-4625-aded-a797a1022207",
   "metadata": {},
   "outputs": [],
   "source": [
    "_generator2 = iter([net.weight,net.bias])"
   ]
  },
  {
   "cell_type": "code",
   "execution_count": 324,
   "id": "d50b9a8f-ab64-4461-a8de-dae1024a0676",
   "metadata": {},
   "outputs": [
    {
     "data": {
      "text/plain": [
       "<list_iterator at 0x7f8e71cdd110>"
      ]
     },
     "execution_count": 324,
     "metadata": {},
     "output_type": "execute_result"
    }
   ],
   "source": [
    "_generator2"
   ]
  },
  {
   "cell_type": "code",
   "execution_count": 325,
   "id": "ac67e0e0-bc1f-4204-abb1-0294b0bc780c",
   "metadata": {},
   "outputs": [
    {
     "data": {
      "text/plain": [
       "Parameter containing:\n",
       "tensor([[0.1341]], requires_grad=True)"
      ]
     },
     "execution_count": 325,
     "metadata": {},
     "output_type": "execute_result"
    }
   ],
   "source": [
    "_generator2.__next__()"
   ]
  },
  {
   "cell_type": "code",
   "execution_count": 326,
   "id": "2e684a49-6f19-4bb9-9474-8229cc3d3c05",
   "metadata": {},
   "outputs": [
    {
     "data": {
      "text/plain": [
       "Parameter containing:\n",
       "tensor([-0.5970], requires_grad=True)"
      ]
     },
     "execution_count": 326,
     "metadata": {},
     "output_type": "execute_result"
    }
   ],
   "source": [
    "_generator2.__next__()"
   ]
  },
  {
   "cell_type": "code",
   "execution_count": 327,
   "id": "de2aa287-a9a9-498e-8c09-e8cce510fca0",
   "metadata": {},
   "outputs": [
    {
     "ename": "StopIteration",
     "evalue": "",
     "output_type": "error",
     "traceback": [
      "\u001b[0;31m---------------------------------------------------------------------------\u001b[0m",
      "\u001b[0;31mStopIteration\u001b[0m                             Traceback (most recent call last)",
      "\u001b[0;32m/tmp/ipykernel_1020347/2722541531.py\u001b[0m in \u001b[0;36m<module>\u001b[0;34m\u001b[0m\n\u001b[0;32m----> 1\u001b[0;31m \u001b[0m_generator2\u001b[0m\u001b[0;34m.\u001b[0m\u001b[0m__next__\u001b[0m\u001b[0;34m(\u001b[0m\u001b[0;34m)\u001b[0m\u001b[0;34m\u001b[0m\u001b[0;34m\u001b[0m\u001b[0m\n\u001b[0m",
      "\u001b[0;31mStopIteration\u001b[0m: "
     ]
    }
   ],
   "source": [
    "_generator2.__next__()"
   ]
  },
  {
   "cell_type": "markdown",
   "id": "7160596d-8239-4a9f-894f-ffa64b05f534",
   "metadata": {},
   "source": [
    "`-` 즉 아래는 같은코드이다. \n",
    "\n",
    "```python\n",
    "### 코드1\n",
    "_generator = net.parameters() \n",
    "torch.optim.SGD(_generator,lr=1/10) \n",
    "### 코드2\n",
    "_generator = iter([net.weight,net.bias])\n",
    "torch.optim.SGD(_generator,lr=1/10) \n",
    "### 코드3 (이렇게 써도 코드2가 실행된다고 이해할 수 있음)\n",
    "_iterator = [net.weight,net.bias]\n",
    "torch.optim.SGD(_iterator,lr=1/10) \n",
    "```"
   ]
  },
  {
   "cell_type": "markdown",
   "id": "fc7e9d0a-e24a-4ba5-95bd-27797aa542c2",
   "metadata": {},
   "source": [
    "결론: `net.parameters()`는 net오브젝트에서 학습할 파라메터를 모두 모아 리스트(iterable object)로 만드는 함수라 이해할 수 있다. "
   ]
  },
  {
   "cell_type": "markdown",
   "id": "f8c78e9d-4372-4f55-8a26-705d38fc8ab0",
   "metadata": {},
   "source": [
    "`-` 응용예제1"
   ]
  },
  {
   "cell_type": "code",
   "execution_count": 355,
   "id": "2cf58ba7-604a-422a-a352-068435212e66",
   "metadata": {},
   "outputs": [],
   "source": [
    "What = torch.tensor([[-5.0],[10.0]],requires_grad=True)\n",
    "optimiger = torch.optim.SGD([What],lr=1/10) "
   ]
  },
  {
   "cell_type": "code",
   "execution_count": 356,
   "id": "0e62b2ae-6f3c-4b77-a2c8-8360a0b95e43",
   "metadata": {},
   "outputs": [
    {
     "data": {
      "text/plain": [
       "[<matplotlib.lines.Line2D at 0x7f8e71c9bbd0>]"
      ]
     },
     "execution_count": 356,
     "metadata": {},
     "output_type": "execute_result"
    },
    {
     "data": {
      "image/png": "[encoded data removed]",
      "text/plain": [
       "<Figure size 432x288 with 1 Axes>"
      ]
     },
     "metadata": {
      "needs_background": "light"
     },
     "output_type": "display_data"
    }
   ],
   "source": [
    "plt.plot(x,y,'o')\n",
    "plt.plot(x,(X@What).data,'--')"
   ]
  },
  {
   "cell_type": "code",
   "execution_count": 357,
   "id": "2cfc141d-c559-41cd-b685-853829212879",
   "metadata": {},
   "outputs": [],
   "source": [
    "for epoc in range(30):\n",
    "    yhat = X@What \n",
    "    loss = torch.mean((y-yhat)**2)\n",
    "    loss.backward()\n",
    "    optimiger.step();optimiger.zero_grad() "
   ]
  },
  {
   "cell_type": "code",
   "execution_count": 358,
   "id": "beb20632-1f16-4b53-b20a-19d8054957ba",
   "metadata": {},
   "outputs": [
    {
     "data": {
      "text/plain": [
       "[<matplotlib.lines.Line2D at 0x7f8e705be550>]"
      ]
     },
     "execution_count": 358,
     "metadata": {},
     "output_type": "execute_result"
    },
    {
     "data": {
      "image/png": "[encoded data removed]",
      "text/plain": [
       "<Figure size 432x288 with 1 Axes>"
      ]
     },
     "metadata": {
      "needs_background": "light"
     },
     "output_type": "display_data"
    }
   ],
   "source": [
    "plt.plot(x,y,'o')\n",
    "plt.plot(x,(X@What).data,'--')"
   ]
  },
  {
   "cell_type": "markdown",
   "id": "60eee166-ade5-4283-b8cf-4752f4f7ce8e",
   "metadata": {},
   "source": [
    "`-` 응용예제2"
   ]
  },
  {
   "cell_type": "code",
   "execution_count": 359,
   "id": "f1900319-c737-4a5d-9581-e423ed690923",
   "metadata": {},
   "outputs": [],
   "source": [
    "b = torch.tensor(-5.0,requires_grad=True)\n",
    "w = torch.tensor(10.0,requires_grad=True)\n",
    "optimiger = torch.optim.SGD([b,w],lr=1/10)"
   ]
  },
  {
   "cell_type": "code",
   "execution_count": 360,
   "id": "b4931b51-c48e-4242-8306-06099ea5615b",
   "metadata": {},
   "outputs": [
    {
     "data": {
      "text/plain": [
       "[<matplotlib.lines.Line2D at 0x7f8e7035b3d0>]"
      ]
     },
     "execution_count": 360,
     "metadata": {},
     "output_type": "execute_result"
    },
    {
     "data": {
      "image/png": "[encoded data removed]",
      "text/plain": [
       "<Figure size 432x288 with 1 Axes>"
      ]
     },
     "metadata": {
      "needs_background": "light"
     },
     "output_type": "display_data"
    }
   ],
   "source": [
    "plt.plot(x,y,'o')\n",
    "plt.plot(x,(w*x+b).data,'--')"
   ]
  },
  {
   "cell_type": "code",
   "execution_count": 361,
   "id": "e0e57bac-f53a-4260-9355-16384ca20ae5",
   "metadata": {},
   "outputs": [],
   "source": [
    "for epoc in range(30):\n",
    "    yhat = b+ w*x \n",
    "    loss = torch.mean((y-yhat)**2)\n",
    "    loss.backward()\n",
    "    optimiger.step(); optimiger.zero_grad()"
   ]
  },
  {
   "cell_type": "code",
   "execution_count": 362,
   "id": "95a66051-2ba2-499b-9fa4-0ba96378eee1",
   "metadata": {},
   "outputs": [
    {
     "data": {
      "text/plain": [
       "[<matplotlib.lines.Line2D at 0x7f8e701f9dd0>]"
      ]
     },
     "execution_count": 362,
     "metadata": {},
     "output_type": "execute_result"
    },
    {
     "data": {
      "image/png": "[encoded data removed]",
      "text/plain": [
       "<Figure size 432x288 with 1 Axes>"
      ]
     },
     "metadata": {
      "needs_background": "light"
     },
     "output_type": "display_data"
    }
   ],
   "source": [
    "plt.plot(x,y,'o')\n",
    "plt.plot(x,(w*x+b).data,'--')"
   ]
  },
  {
   "cell_type": "markdown",
   "id": "d85fc293-b22b-4a8c-b029-a8ba6762fac2",
   "metadata": {},
   "source": [
    "## Logistic Regression "
   ]
  },
  {
   "cell_type": "markdown",
   "id": "357df50e-7ee1-4e25-a29e-b0a760f4ebdf",
   "metadata": {},
   "source": [
    "### data "
   ]
  },
  {
   "cell_type": "code",
   "execution_count": 369,
   "id": "6d08ba1f-d26f-49f2-95d5-1ec3ad9025d2",
   "metadata": {},
   "outputs": [
    {
     "data": {
      "text/plain": [
       "199.0"
      ]
     },
     "execution_count": 369,
     "metadata": {},
     "output_type": "execute_result"
    }
   ],
   "source": [
    "995/5"
   ]
  },
  {
   "cell_type": "code",
   "execution_count": 377,
   "id": "cb93b0fc-e00d-4093-8875-7b9dcac723b3",
   "metadata": {},
   "outputs": [
    {
     "data": {
      "text/plain": [
       "\u001b[0;31mDocstring:\u001b[0m\n",
       "uniform(low=0.0, high=1.0, size=None)\n",
       "\n",
       "Draw samples from a uniform distribution.\n",
       "\n",
       "Samples are uniformly distributed over the half-open interval\n",
       "``[low, high)`` (includes low, but excludes high).  In other words,\n",
       "any value within the given interval is equally likely to be drawn\n",
       "by `uniform`.\n",
       "\n",
       ".. note::\n",
       "    New code should use the ``uniform`` method of a ``default_rng()``\n",
       "    instance instead; please see the :ref:`random-quick-start`.\n",
       "\n",
       "Parameters\n",
       "----------\n",
       "low : float or array_like of floats, optional\n",
       "    Lower boundary of the output interval.  All values generated will be\n",
       "    greater than or equal to low.  The default value is 0.\n",
       "high : float or array_like of floats\n",
       "    Upper boundary of the output interval.  All values generated will be\n",
       "    less than or equal to high.  The default value is 1.0.\n",
       "size : int or tuple of ints, optional\n",
       "    Output shape.  If the given shape is, e.g., ``(m, n, k)``, then\n",
       "    ``m * n * k`` samples are drawn.  If size is ``None`` (default),\n",
       "    a single value is returned if ``low`` and ``high`` are both scalars.\n",
       "    Otherwise, ``np.broadcast(low, high).size`` samples are drawn.\n",
       "\n",
       "Returns\n",
       "-------\n",
       "out : ndarray or scalar\n",
       "    Drawn samples from the parameterized uniform distribution.\n",
       "\n",
       "See Also\n",
       "--------\n",
       "randint : Discrete uniform distribution, yielding integers.\n",
       "random_integers : Discrete uniform distribution over the closed\n",
       "                  interval ``[low, high]``.\n",
       "random_sample : Floats uniformly distributed over ``[0, 1)``.\n",
       "random : Alias for `random_sample`.\n",
       "rand : Convenience function that accepts dimensions as input, e.g.,\n",
       "       ``rand(2,2)`` would generate a 2-by-2 array of floats,\n",
       "       uniformly distributed over ``[0, 1)``.\n",
       "Generator.uniform: which should be used for new code.\n",
       "\n",
       "Notes\n",
       "-----\n",
       "The probability density function of the uniform distribution is\n",
       "\n",
       ".. math:: p(x) = \\frac{1}{b - a}\n",
       "\n",
       "anywhere within the interval ``[a, b)``, and zero elsewhere.\n",
       "\n",
       "When ``high`` == ``low``, values of ``low`` will be returned.\n",
       "If ``high`` < ``low``, the results are officially undefined\n",
       "and may eventually raise an error, i.e. do not rely on this\n",
       "function to behave when passed arguments satisfying that\n",
       "inequality condition. The ``high`` limit may be included in the\n",
       "returned array of floats due to floating-point rounding in the\n",
       "equation ``low + (high-low) * random_sample()``. For example:\n",
       "\n",
       ">>> x = np.float32(5*0.99999999)\n",
       ">>> x\n",
       "5.0\n",
       "\n",
       "\n",
       "Examples\n",
       "--------\n",
       "Draw samples from the distribution:\n",
       "\n",
       ">>> s = np.random.uniform(-1,0,1000)\n",
       "\n",
       "All values are within the given interval:\n",
       "\n",
       ">>> np.all(s >= -1)\n",
       "True\n",
       ">>> np.all(s < 0)\n",
       "True\n",
       "\n",
       "Display the histogram of the samples, along with the\n",
       "probability density function:\n",
       "\n",
       ">>> import matplotlib.pyplot as plt\n",
       ">>> count, bins, ignored = plt.hist(s, 15, density=True)\n",
       ">>> plt.plot(bins, np.ones_like(bins), linewidth=2, color='r')\n",
       ">>> plt.show()\n",
       "\u001b[0;31mType:\u001b[0m      builtin_function_or_method\n"
      ]
     },
     "metadata": {},
     "output_type": "display_data"
    }
   ],
   "source": []
  },
  {
   "cell_type": "code",
   "execution_count": 695,
   "id": "9510d628-b4d7-49c3-8034-2f3550a4489a",
   "metadata": {},
   "outputs": [],
   "source": [
    "toeic = np.random.randint(low=110,high=199,size=1000)*5\n",
    "gpa = np.random.uniform(low=2.1,high=4.5,size=1000)"
   ]
  },
  {
   "cell_type": "code",
   "execution_count": 696,
   "id": "d13e3480-bad9-494a-b5c1-513a4055aa32",
   "metadata": {},
   "outputs": [],
   "source": [
    "u = -35 + 20*gpa/4.5 + 20*toeic/995 "
   ]
  },
  {
   "cell_type": "code",
   "execution_count": 697,
   "id": "1b24e3ee-6c01-4ea9-9658-ee589e5e8e65",
   "metadata": {},
   "outputs": [
    {
     "data": {
      "text/plain": [
       "array([-2.11454688e+00, -1.45479753e+00, -2.95834292e+00, -7.51644544e+00,\n",
       "       -1.35386410e+01, -3.83749651e+00, -2.66722506e+00, -6.93832978e+00,\n",
       "       -3.21260531e+00, -1.12409706e+01, -7.87032023e-01, -8.57942191e+00,\n",
       "       -4.07150138e+00, -4.41835066e+00, -2.87954960e+00, -3.33218372e+00,\n",
       "       -6.81744751e-01, -5.16556679e+00, -7.69829359e+00, -1.04137221e+01,\n",
       "       -1.22879467e+01, -6.45131877e+00, -5.61421208e+00, -7.68133496e+00,\n",
       "       -9.53885020e+00, -1.05100318e+01, -6.79552591e+00,  3.41064419e+00,\n",
       "       -1.99401837e+00, -6.64367602e+00, -6.65880536e+00, -9.54188421e-01,\n",
       "       -2.80532427e+00,  1.63760199e+00, -1.05456847e+00, -3.15590522e-01,\n",
       "       -4.80004252e+00, -1.15862171e+01, -2.39657737e+00, -7.46323639e+00,\n",
       "       -7.66286163e+00, -3.02662796e+00, -6.50743734e+00, -4.70285895e+00,\n",
       "       -5.50338362e+00, -4.31695187e+00, -6.35740704e+00, -1.63047643e+00,\n",
       "       -4.35674535e+00, -3.21831630e+00,  3.34209691e-01, -5.53997528e+00,\n",
       "        6.28980040e-01, -4.36189354e+00,  1.90048355e+00, -1.01413163e+01,\n",
       "       -1.13838067e+01,  4.05479620e-02, -7.30628473e+00, -8.49949120e+00,\n",
       "       -8.43556197e-01, -9.20431606e+00, -5.45611005e+00, -4.93128782e+00,\n",
       "       -2.37351358e+00,  2.76822347e+00, -5.30959231e+00, -1.08561557e+01,\n",
       "       -6.22998461e+00, -3.44325351e+00, -8.26989813e+00, -8.16012220e+00,\n",
       "       -3.65239534e+00, -3.37657614e+00, -4.13252343e+00, -6.97641901e+00,\n",
       "       -3.26760087e+00, -8.68897665e+00,  1.98491035e+00, -3.19725271e+00,\n",
       "       -2.97601309e+00, -6.35236256e-01, -1.43536820e+00, -1.83119973e+00,\n",
       "       -6.83683113e+00, -3.58014874e+00, -6.00212658e+00, -3.94953401e-01,\n",
       "       -1.22910109e+01, -2.23793123e+00, -1.12536312e+00, -7.43611722e+00,\n",
       "        2.70782164e+00, -1.30189714e+00, -7.98477860e+00,  1.45176945e+00,\n",
       "       -6.37576937e+00, -1.15745664e+01, -8.31705564e+00, -1.31788332e+01,\n",
       "       -1.02247489e+01, -2.38040360e+00, -8.28359587e-02, -4.84217994e+00,\n",
       "       -8.43086346e+00, -5.59245498e+00, -8.01462814e+00, -5.04388668e+00,\n",
       "       -1.18133306e+01, -9.95755988e+00, -9.09531855e+00, -1.14436056e+01,\n",
       "       -2.50613812e+00, -8.25491317e+00, -3.65636492e+00, -6.51975907e+00,\n",
       "       -1.97962394e+00, -4.61060451e+00, -5.83123968e+00, -1.03119035e+01,\n",
       "        1.90173983e+00, -6.30842034e+00, -4.16783869e+00, -9.01738210e-01,\n",
       "        3.11343949e+00, -7.95184114e+00, -1.14235252e+01, -9.82701996e+00,\n",
       "       -7.96526477e+00, -6.74009998e+00, -9.81715755e+00, -7.48599509e+00,\n",
       "       -3.63037299e+00, -1.66217497e-01,  3.55175894e+00, -1.41256886e+00,\n",
       "       -6.93067023e+00, -9.44393057e+00, -1.71264733e+00, -3.03800330e+00,\n",
       "       -4.59951132e+00, -7.77866756e+00, -5.67666133e+00, -5.79887269e+00,\n",
       "       -8.32056428e+00, -9.04792819e+00, -6.39460287e+00, -4.58781879e+00,\n",
       "       -7.59116972e+00,  2.45013943e+00, -5.90729760e+00, -3.05102659e+00,\n",
       "       -1.38851889e+01, -3.89283252e+00, -8.81340055e+00, -1.11319853e+01,\n",
       "       -1.07385083e+01,  4.53965038e-02, -8.81471206e+00, -8.80425917e-01,\n",
       "       -1.30528774e+00, -6.00202651e+00, -5.01808294e+00, -1.47469339e+00,\n",
       "       -5.29226613e-01, -1.14175910e+01, -4.79454072e+00,  2.38303822e+00,\n",
       "       -8.96353910e+00, -6.81220032e-01, -4.80553899e+00, -1.04463321e+01,\n",
       "       -1.27067908e+01, -6.36154610e+00, -7.47320009e+00, -1.45371254e+00,\n",
       "        7.96409021e-01, -9.44438983e+00, -4.79202108e+00, -3.73254897e-01,\n",
       "       -1.12059609e+01, -1.24007836e+01, -6.15022917e-01, -6.99438722e+00,\n",
       "       -6.18399424e+00, -4.69744665e+00, -1.79822699e+00, -8.26295538e-01,\n",
       "       -3.76708853e+00, -3.62749266e+00,  2.34738836e+00, -7.10267782e+00,\n",
       "       -1.34206963e+01, -1.11702989e+01, -6.99498162e+00, -7.36555320e-01,\n",
       "        1.22982860e+00,  3.72274984e+00, -1.02669545e+01, -3.82075997e+00,\n",
       "       -5.33290183e+00, -8.29611948e+00, -1.63004509e+00, -6.30775320e+00,\n",
       "       -8.61458228e+00, -1.13963836e+01, -2.66274351e+00, -1.22550058e+01,\n",
       "       -4.22974000e+00, -3.09345152e+00, -5.55513160e-01,  3.08365433e-01,\n",
       "       -8.17308095e+00, -7.88595225e+00, -3.98464385e+00, -6.41483873e+00,\n",
       "       -7.81279145e+00, -3.61886113e-01, -4.05744800e+00, -4.35100872e+00,\n",
       "       -4.29142425e+00, -1.00772175e+01, -6.22203897e+00, -3.22321771e-01,\n",
       "       -1.31727375e+01, -5.71078190e+00, -5.96881650e+00,  1.91351991e+00,\n",
       "       -9.42375907e+00, -3.47481711e+00, -5.34999228e-01, -2.26454915e+00,\n",
       "        6.44903301e-01, -9.16823443e+00, -1.03436739e+01, -6.18024838e+00,\n",
       "        4.13653034e+00, -9.00210912e+00, -4.51883986e+00, -3.79124717e+00,\n",
       "        7.50984073e-02,  1.98361855e+00, -9.73683582e+00, -7.65330137e+00,\n",
       "       -1.08280985e+01, -3.97637375e+00, -6.67524595e+00, -4.36978037e+00,\n",
       "        3.88172725e+00, -3.74553570e+00, -1.05110091e+01, -2.57447444e+00,\n",
       "       -5.95666188e+00, -7.69082352e+00, -9.15091010e-01, -1.85787007e+00,\n",
       "       -9.07296598e-01, -6.34239737e+00, -7.91044883e-01,  5.82982079e-01,\n",
       "        1.30357641e+00,  3.43644292e+00, -9.94524045e+00, -1.28104834e+00,\n",
       "       -9.94438369e-01, -8.60551648e+00, -3.39012483e+00, -5.63005354e+00,\n",
       "       -4.15150494e+00,  1.03334704e+00, -1.40651153e+00,  2.65859266e+00,\n",
       "       -2.19981209e-01, -1.30737173e+01,  2.92690243e+00,  1.10891214e+00,\n",
       "       -9.30149032e+00, -1.17744041e+01,  3.12497893e+00, -5.82930271e+00,\n",
       "       -1.17437815e+01, -1.36455778e+00, -2.30667628e+00, -1.97132849e+00,\n",
       "       -8.06557828e-01, -1.02938371e+01, -9.98009132e+00, -8.77655168e+00,\n",
       "       -1.04967425e+01, -9.42577228e-01, -1.02926325e+01, -1.14848228e+01,\n",
       "       -3.99942449e+00, -1.18469186e+01,  1.44423523e+00, -1.34117793e+00,\n",
       "       -2.73547074e+00, -1.59311046e-01,  9.92165178e-01,  2.45299305e+00,\n",
       "       -8.99662109e+00, -2.65756427e+00, -1.11028445e+00, -3.20704954e+00,\n",
       "       -3.13673354e+00, -7.15634467e+00, -9.65081313e+00, -8.34870752e+00,\n",
       "       -9.49215409e+00, -9.34277288e+00, -4.07898253e+00, -1.22224573e+01,\n",
       "       -6.68317634e+00, -7.70016561e+00, -4.48426520e+00, -5.71848934e+00,\n",
       "       -4.74376381e+00, -1.02707365e+01, -2.43782738e+00, -3.84155026e+00,\n",
       "       -6.88255959e+00, -5.72448663e+00, -5.84517963e+00, -4.57448682e+00,\n",
       "        3.23045052e+00, -8.38560016e+00, -4.77830136e+00, -1.72709695e+00,\n",
       "       -7.42705188e+00, -3.35806542e+00, -2.29080379e+00, -1.52672241e+00,\n",
       "       -7.15953033e+00,  1.38939911e+00, -4.17810171e+00, -8.81908719e+00,\n",
       "       -4.28948300e-02, -3.89496570e+00, -5.37450404e+00, -1.22528744e+01,\n",
       "       -2.57383380e+00,  2.95344252e+00, -9.29170183e+00, -6.51623205e+00,\n",
       "       -9.07827726e+00, -7.42225082e+00, -4.61260358e+00, -1.01598835e+01,\n",
       "       -7.55572820e+00, -2.86933966e+00, -1.10939730e+01, -3.75372675e+00,\n",
       "       -1.84836650e+00, -4.60099142e+00, -9.62973433e+00, -8.28066052e+00,\n",
       "       -6.17187775e+00, -3.17268614e-01,  2.50624957e+00, -7.51678783e+00,\n",
       "       -4.54974227e+00, -1.05302712e+01, -3.24786133e+00, -1.01087185e+01,\n",
       "       -7.77737322e+00, -3.93957154e+00, -6.79004417e+00, -7.46293511e+00,\n",
       "       -1.20263722e+00, -6.58951927e+00, -7.85714642e-01, -8.26484256e+00,\n",
       "       -5.34088685e+00, -4.85377007e+00, -4.51029740e+00, -6.28642956e+00,\n",
       "       -1.22361881e+00, -5.43201339e+00, -1.03210171e+01, -3.27769455e+00,\n",
       "       -8.82829810e+00, -3.09031010e+00, -2.11451359e-01, -3.95161575e+00,\n",
       "        3.20272025e-01,  4.08199915e+00, -1.16450963e+01, -3.86611736e-01,\n",
       "       -8.89070809e+00, -2.43269290e+00, -8.17589779e+00,  5.27687587e-02,\n",
       "        7.95265503e-02, -1.12357062e+01, -9.30857563e+00, -4.00169556e+00,\n",
       "       -1.06421113e+01,  1.67814463e+00, -8.40963087e+00, -6.74343947e+00,\n",
       "       -9.91022812e+00, -8.55406642e+00, -6.58137669e-01,  9.12993785e-01,\n",
       "       -8.96767806e+00, -7.79584492e+00, -6.82144053e+00, -6.04507084e+00,\n",
       "       -4.97831468e+00, -2.71617328e+00, -7.40601451e-01, -1.03338704e+00,\n",
       "       -8.34161822e+00, -8.54512729e+00, -1.04387831e+01, -9.96275359e+00,\n",
       "        1.07272594e+00, -6.81087530e+00, -1.77933612e+00, -1.17804456e+01,\n",
       "       -4.12071569e+00, -5.14860474e+00, -3.57973720e+00, -5.01382828e+00,\n",
       "       -6.49880895e+00, -5.42213891e+00, -3.55793919e+00, -8.05525819e+00,\n",
       "       -8.98807805e+00, -4.87702689e+00, -3.59277555e+00, -3.53341517e+00,\n",
       "       -6.60028496e+00, -1.42989194e+00, -1.09926258e+01, -6.60732381e+00,\n",
       "       -5.60788580e+00, -3.89380587e+00, -3.15120700e+00, -6.77027186e+00,\n",
       "       -1.27772994e+01,  3.14240827e+00, -3.72578232e+00,  2.74793961e+00,\n",
       "       -1.75525588e+00, -3.73275389e+00,  4.81143932e+00, -3.20756869e+00,\n",
       "        6.95907083e-01, -4.06010492e+00, -4.07126372e+00, -9.25259913e+00,\n",
       "       -2.15543165e+00,  1.21233094e+00, -1.87865175e+00, -3.62546517e+00,\n",
       "       -7.31149193e+00, -4.10166229e+00,  3.72100873e+00, -6.34708609e+00,\n",
       "       -9.89380845e+00, -6.63004456e+00, -4.26234286e+00, -6.55038280e+00,\n",
       "       -4.24793920e+00, -3.04413392e+00, -1.08241860e+00, -3.79316617e+00,\n",
       "       -1.23621481e+01, -1.22675428e+01, -5.45983755e+00,  3.08969231e+00,\n",
       "       -1.74487779e+00, -1.37335099e+00, -9.80296012e+00, -5.81055698e+00,\n",
       "       -4.92560755e+00, -1.37365587e+00, -7.09337964e+00, -7.59228908e-01,\n",
       "       -7.33295825e+00, -4.86772283e+00, -1.19459983e+00, -9.54478666e+00,\n",
       "        1.72004222e+00,  8.81683850e-01, -2.30735111e+00, -8.80141319e+00,\n",
       "       -2.38785375e+00, -1.00187577e+01, -2.34411376e+00, -9.43522477e-02,\n",
       "       -9.41174915e+00, -5.26914822e+00, -8.25232672e+00, -4.49020852e+00,\n",
       "       -7.62037781e+00, -5.55849410e+00, -4.72915243e+00, -5.49150390e+00,\n",
       "       -8.00481860e+00, -4.97218612e+00, -9.64852363e+00, -6.03485495e+00,\n",
       "       -4.68468106e+00, -5.48764384e+00, -1.03865922e+01, -3.52423165e+00,\n",
       "        1.88853423e+00,  4.38837369e-01, -2.98658694e+00, -7.25181426e+00,\n",
       "       -3.45997927e+00, -5.62963012e+00, -8.87858820e+00, -1.53712642e+00,\n",
       "       -7.37930470e+00, -5.33022482e-01, -5.75946163e+00, -7.73423040e+00,\n",
       "       -8.96950674e+00, -7.82739854e+00, -1.32311535e+00,  2.54352394e+00,\n",
       "       -1.67417399e+00, -6.82708857e+00,  1.09073271e+00, -9.28605812e+00,\n",
       "       -5.72053761e-01,  2.39803726e+00,  1.94913935e-01, -1.92101352e+00,\n",
       "        6.07567657e-01, -2.59068256e+00, -1.48381517e+00,  1.07498227e+00,\n",
       "       -5.90475975e+00, -1.08138300e+00, -5.06536942e+00,  1.84470641e+00,\n",
       "       -4.42763082e+00, -4.27465045e+00, -2.72370953e+00, -6.67654673e+00,\n",
       "        3.21526564e-01, -4.06934293e-01, -1.82826315e+00,  2.40178894e+00,\n",
       "       -1.24021747e+00, -3.00960671e+00, -8.85605994e+00, -4.75660527e+00,\n",
       "       -7.62201041e+00, -2.81552601e+00, -7.83564300e+00, -8.58819305e+00,\n",
       "       -7.72505309e+00, -3.10480179e+00,  2.11971392e+00, -4.66745492e+00,\n",
       "       -7.73036935e+00, -1.04163911e+01, -7.73750653e+00, -8.42701198e+00,\n",
       "       -6.53766579e+00, -6.54388231e+00,  8.67642064e-01, -5.67923755e+00,\n",
       "        1.20856970e-01, -4.80730417e+00, -1.26323463e+00, -6.59838866e+00,\n",
       "       -7.00852324e+00, -7.66478084e+00, -2.85344225e+00, -1.23613899e+01,\n",
       "       -1.52074150e+00, -2.44088580e+00, -6.75520331e+00, -2.71076236e+00,\n",
       "       -9.57244441e+00, -6.26352766e+00, -2.64653779e+00, -8.17582658e+00,\n",
       "       -5.81848894e+00, -5.09344954e+00, -7.85867728e+00, -4.91421527e+00,\n",
       "       -3.98655078e+00, -1.02702616e+01, -4.57216333e+00, -5.13763012e+00,\n",
       "        9.13255316e-01, -7.01517890e+00, -4.67859381e+00, -4.65243538e+00,\n",
       "        8.68084894e-01, -7.71832476e+00, -4.87155713e+00, -1.17869092e+00,\n",
       "       -5.83701323e+00, -9.46306209e+00, -1.11468086e+01, -1.70768262e+00,\n",
       "       -3.42030140e+00,  2.63163325e+00, -3.12330976e+00, -9.67868951e+00,\n",
       "       -7.87475496e+00, -5.76928465e+00, -3.74725901e+00, -3.03473120e+00,\n",
       "       -5.92154702e+00, -4.36325622e+00,  4.20917055e-01,  1.17719635e+00,\n",
       "       -5.49124485e+00, -3.66010495e+00, -1.32430020e+01, -1.59325093e+00,\n",
       "        7.85812543e-01,  2.86438847e+00, -1.04544875e+01, -7.63033365e+00,\n",
       "       -1.45477135e+00, -7.94056670e+00, -4.46716374e+00, -4.45110764e+00,\n",
       "       -2.85111514e+00, -4.06691097e+00, -1.64206419e+00, -1.14993586e+01,\n",
       "       -3.19053671e+00, -1.39816675e+01, -3.42872262e+00, -1.33919441e+01,\n",
       "       -1.50946012e+00, -1.84062819e+00, -1.31928671e+00, -9.25888088e+00,\n",
       "        4.42719713e-01, -5.30548250e+00, -4.07230401e+00, -6.00223733e+00,\n",
       "       -6.07079925e+00, -7.43888996e+00, -3.20556292e+00, -4.13299247e+00,\n",
       "       -7.54650016e+00,  1.78967476e+00, -2.35111352e+00, -8.69760447e-01,\n",
       "        9.90663156e-01, -3.56268864e+00, -7.37652894e+00, -2.04636115e+00,\n",
       "       -1.04600203e+01, -9.30892135e+00, -5.42961964e+00, -7.88732410e+00,\n",
       "       -4.81113333e+00, -4.93193479e+00, -2.80579067e+00, -1.82393024e+00,\n",
       "       -1.04323739e+01, -4.28698988e+00, -1.80167609e+00, -7.37293006e+00,\n",
       "       -2.20507690e+00, -1.02402708e+00, -1.01730445e+01, -4.80618581e+00,\n",
       "       -5.04012637e+00, -2.58856086e+00,  7.35067306e-01, -5.79344637e+00,\n",
       "       -3.65077878e+00, -7.80925639e+00, -5.89878717e+00, -4.93254332e+00,\n",
       "       -5.53440867e+00, -4.76157268e+00, -4.68845053e+00, -5.57727291e+00,\n",
       "       -3.52393871e+00, -7.17105497e+00, -1.11728059e+01, -9.40603142e+00,\n",
       "       -7.28298831e+00, -7.37330757e+00, -2.47630109e+00, -3.08654040e+00,\n",
       "       -1.00302193e+01,  1.85022487e+00, -5.60602231e+00, -3.72507893e-02,\n",
       "       -1.34293400e+01,  2.38770239e+00,  1.40610743e+00, -8.20593892e+00,\n",
       "        1.83936670e+00, -1.35241811e-01, -1.83367814e+00, -3.56177883e+00,\n",
       "       -9.86855423e+00,  1.24610864e+00, -9.96943973e+00,  3.41536582e+00,\n",
       "        1.19634105e-01, -1.15777392e+01, -6.80181294e-01, -4.65025023e+00,\n",
       "       -3.62740243e+00, -7.95496877e+00, -8.72892090e+00, -6.33840465e+00,\n",
       "       -3.61231276e+00, -1.07657070e+01,  4.03514406e+00, -9.96586273e+00,\n",
       "       -4.10895216e+00, -5.94273386e+00, -6.37670194e+00, -6.07264382e+00,\n",
       "       -1.27047656e+01, -6.13323811e+00, -6.30467837e-01, -1.06727165e+01,\n",
       "       -1.08393529e+01, -7.08665721e+00, -1.74411307e+00, -2.09278158e+00,\n",
       "       -5.81026459e+00, -7.36299103e+00,  1.76801993e-01, -8.55487109e+00,\n",
       "       -8.14534051e+00, -6.62276616e+00, -5.60164994e+00, -7.51197385e+00,\n",
       "       -3.03627112e+00, -1.06606392e+01, -7.21811608e+00, -4.67645698e+00,\n",
       "       -5.63176703e+00,  2.36985078e+00,  4.54648361e-01, -6.13320955e+00,\n",
       "       -3.84922192e-01,  1.31073971e+00, -1.08142571e+01, -2.02832895e+00,\n",
       "       -7.02957354e+00, -5.41761905e-02, -3.91260289e+00, -3.01550374e+00,\n",
       "       -5.51082162e+00, -6.29511509e-01, -6.73133516e+00, -3.85801529e+00,\n",
       "       -5.32790825e+00, -2.36435448e+00, -7.35879342e+00, -7.80626821e+00,\n",
       "       -1.08651224e+01, -1.22077247e+01, -1.72548977e+00, -7.56471150e+00,\n",
       "        9.01176149e-01,  1.68103230e+00,  1.90021378e+00, -3.34327055e+00,\n",
       "       -4.47146024e+00, -5.39974189e+00, -5.97112415e-01, -9.58022439e+00,\n",
       "        1.48137600e+00, -4.88985355e+00, -1.30301651e+01, -5.00369718e+00,\n",
       "       -9.61487404e+00, -4.43356878e+00,  3.61044363e+00, -5.55436654e+00,\n",
       "       -2.62715816e+00, -1.05552013e+01,  1.63957516e+00, -3.64759181e+00,\n",
       "        1.98301047e+00, -3.66197452e+00, -7.32143209e+00, -2.50982039e+00,\n",
       "       -2.56543471e-01, -2.43993760e+00, -7.36608847e+00, -8.61598409e+00,\n",
       "       -3.21398021e+00, -9.30326294e+00,  5.22281321e-01, -8.09136780e+00,\n",
       "       -3.81069207e+00, -8.44085261e+00, -9.35916314e+00, -4.52282128e+00,\n",
       "       -5.00881991e+00, -9.23324118e+00, -1.13442513e+01, -8.73547497e-01,\n",
       "       -7.69718292e+00, -8.31681213e-01, -7.95916284e+00, -1.18261740e+01,\n",
       "       -6.55794946e+00,  1.44015682e+00, -5.51825404e+00, -4.50040096e+00,\n",
       "       -5.38829096e+00, -4.51596323e-01, -3.88390064e+00, -7.24791279e+00,\n",
       "       -3.71560273e+00, -8.92449463e+00, -5.81680208e+00, -8.09331248e+00,\n",
       "       -9.46684186e+00, -5.20892061e+00, -4.54301414e+00,  1.28993855e-01,\n",
       "       -6.52048158e+00, -8.24352729e-01,  1.24103340e+00,  3.82915836e+00,\n",
       "        3.67357684e+00, -1.30485596e+01, -7.86734008e+00, -7.14722582e+00,\n",
       "       -3.84099809e+00, -3.06375613e+00,  9.54722629e-03, -7.44188312e+00,\n",
       "       -3.77250319e+00, -1.21915092e+00, -4.67546451e+00, -3.31843505e+00,\n",
       "       -9.61460916e+00, -7.71023115e+00, -9.78000699e+00, -1.10555064e+01,\n",
       "       -4.08211026e+00, -7.64443134e+00, -9.50546371e+00, -2.19049900e+00,\n",
       "       -3.51669288e+00, -8.63682763e+00, -3.70902882e+00, -4.30866182e+00,\n",
       "       -8.10767018e+00, -8.59837271e+00,  7.27625818e-01, -4.80659742e+00,\n",
       "        1.94435086e+00, -4.89249056e+00, -2.02400868e+00,  3.19390833e+00,\n",
       "       -1.12532835e+01, -2.60750381e+00, -7.38689731e+00, -7.02148883e+00,\n",
       "       -4.42831149e+00, -9.40239403e+00, -5.81466194e+00,  5.98799306e-01,\n",
       "       -5.42262462e+00, -1.00114511e+01, -1.00917454e+01, -5.96063566e+00,\n",
       "       -4.03877092e+00, -2.11072571e+00, -7.61119896e-01, -5.11781728e+00,\n",
       "       -2.12417644e+00, -2.49549857e+00, -4.56584188e+00, -8.89609212e+00,\n",
       "       -5.98695918e+00, -4.50459510e+00, -5.48964093e+00, -1.22009734e+00,\n",
       "       -6.82804528e+00, -8.10682477e+00, -2.13051933e+00, -1.27086180e+01,\n",
       "       -4.77706437e-01, -4.17804175e-01, -7.47639355e+00, -3.92365772e+00,\n",
       "       -3.68904683e+00, -6.02127202e+00, -6.64214053e+00, -2.30170385e+00,\n",
       "        8.98234603e-01, -5.83641602e+00, -2.37895667e+00, -2.22222090e+00,\n",
       "       -4.59664918e+00, -7.49653989e+00, -1.87036275e+00, -1.22498618e+01,\n",
       "       -1.10167711e+00, -1.34274079e+01, -5.63065188e+00, -4.46637883e+00,\n",
       "       -1.10721886e+01,  9.36980196e-02, -2.48332508e+00, -4.63881017e+00,\n",
       "       -2.40032336e+00, -6.42043980e+00, -6.70592646e+00, -6.08450406e+00,\n",
       "       -5.04115096e+00,  9.42003286e-01, -9.39342667e+00, -4.48678100e+00,\n",
       "       -1.56138267e+00, -1.05094258e+01, -3.08486281e+00, -2.34922376e+00,\n",
       "       -4.39329789e+00,  2.55357531e-01,  3.06697424e+00, -2.20958347e-01,\n",
       "       -8.21986058e+00, -8.33623892e+00, -3.65884164e+00,  3.28898884e+00,\n",
       "       -4.52637024e+00, -1.13051108e+01, -1.16469084e+01, -3.68930331e+00,\n",
       "       -3.13839826e+00, -6.02202284e+00, -4.67568210e+00,  4.23850152e-01,\n",
       "       -7.25093495e+00, -7.73635633e+00, -4.35262873e+00, -1.11854737e+01,\n",
       "       -7.57134575e+00, -2.40640231e+00,  1.08377997e+00, -6.08524054e+00,\n",
       "       -4.51397471e+00, -7.49924497e-01, -4.81218170e+00, -8.22002158e+00,\n",
       "       -7.11292835e+00, -9.60188131e+00, -6.79131427e+00, -1.45666460e+00,\n",
       "       -1.33989615e+00, -8.74040890e+00, -3.41619591e+00, -4.55041467e+00,\n",
       "       -5.16307108e+00, -1.55819029e+00, -8.55376233e+00, -6.10674716e+00,\n",
       "       -6.96645707e-01,  1.01386623e+00, -4.53084910e+00, -5.09240392e+00,\n",
       "       -1.63394356e+00, -3.67228671e+00, -4.19211005e+00, -4.73552991e+00,\n",
       "       -6.17131176e+00, -2.58131638e+00, -1.00986694e+01,  3.57186249e+00,\n",
       "       -3.22008193e+00, -6.38516292e+00,  4.82826953e-01, -6.50423276e+00,\n",
       "       -1.02781032e+01, -6.09614982e+00,  3.02616712e+00, -1.75357125e+00,\n",
       "        1.62406080e+00, -6.13605447e+00, -4.90330120e+00, -3.25243059e+00,\n",
       "        3.45790668e-01,  5.27927617e-01, -1.07615691e+01, -6.98209583e+00,\n",
       "        1.00905065e+00, -8.32882966e-01, -4.97655136e+00,  2.45568101e+00])"
      ]
     },
     "execution_count": 697,
     "metadata": {},
     "output_type": "execute_result"
    }
   ],
   "source": [
    "u"
   ]
  },
  {
   "cell_type": "code",
   "execution_count": 698,
   "id": "04df6abf-c4ef-4724-9bee-eca74cdd1e72",
   "metadata": {},
   "outputs": [],
   "source": [
    "p = np.exp(u)/(1+np.exp(u))"
   ]
  },
  {
   "cell_type": "code",
   "execution_count": 699,
   "id": "3897315b-ee57-45d2-8526-c9a6e0f11a76",
   "metadata": {},
   "outputs": [
    {
     "data": {
      "text/plain": [
       "array([1.07690961e-01, 1.89264320e-01, 4.93436800e-02, 5.43767196e-04,\n",
       "       1.31899260e-06, 2.10929774e-02, 6.49352562e-02, 9.68948404e-04,\n",
       "       3.86941086e-02, 1.31251048e-05, 3.12806307e-01, 1.87898276e-04,\n",
       "       1.67658802e-02, 1.19105266e-02, 5.31738078e-02, 3.44834509e-02,\n",
       "       3.35872003e-01, 5.67740862e-03, 4.53394891e-04, 3.00168377e-05,\n",
       "       4.60691859e-06, 1.57595165e-03, 3.63243837e-03, 4.61145837e-04,\n",
       "       7.19944017e-05, 2.72608464e-05, 1.11751920e-03, 9.68035542e-01,\n",
       "       1.19832387e-01, 1.30053780e-03, 1.28103463e-03, 2.78043277e-01,\n",
       "       5.70371394e-02, 8.37208376e-01, 2.58348795e-01, 4.21750746e-01,\n",
       "       8.16222695e-03, 9.29321091e-06, 8.34340617e-02, 5.73467084e-04,\n",
       "       4.69739871e-04, 4.62373048e-02, 1.49007545e-03, 8.98779819e-03,\n",
       "       4.05644497e-03, 1.31648596e-02, 1.73085566e-03, 1.63765106e-01,\n",
       "       1.26577714e-02, 3.84822364e-02, 5.82783306e-01, 3.91126583e-03,\n",
       "       6.52258153e-01, 1.25935928e-02, 8.69946244e-01, 3.94153319e-05,\n",
       "       1.13781234e-05, 5.10135602e-01, 6.70856161e-04, 2.03530488e-04,\n",
       "       3.00786337e-01, 1.00594129e-04, 4.25197757e-03, 7.16548808e-03,\n",
       "       8.52148451e-02, 9.40934330e-01, 4.91961960e-03, 1.92851546e-05,\n",
       "       1.96561097e-03, 3.09706924e-02, 2.56045804e-04, 2.85745791e-04,\n",
       "       2.52736271e-02, 3.30355928e-02, 1.57890525e-02, 9.32769713e-04,\n",
       "       3.66995496e-02, 1.68403938e-04, 8.79203635e-01, 3.92692392e-02,\n",
       "       4.85213614e-02, 3.46324183e-01, 1.92263634e-01, 1.38095413e-01,\n",
       "       1.07234864e-03, 2.71157931e-02, 2.46738346e-03, 4.02525441e-01,\n",
       "       4.59282383e-06, 9.63955880e-02, 2.45017836e-01, 5.89222539e-04,\n",
       "       9.37486607e-01, 2.13845905e-01, 3.40491925e-04, 8.10270605e-01,\n",
       "       1.69941665e-03, 9.40211572e-06, 2.44254480e-04, 1.89018637e-06,\n",
       "       3.62603694e-05, 8.46792782e-02, 4.79302844e-01, 7.82807372e-03,\n",
       "       2.17985617e-04, 3.71203912e-03, 3.30481897e-04, 6.40731728e-03,\n",
       "       7.40512670e-06, 4.73659357e-05, 1.12177207e-04, 1.07176744e-05,\n",
       "       7.54289940e-02, 2.59910527e-04, 2.51760211e-02, 1.47185464e-03,\n",
       "       1.21358932e-01, 9.84785925e-03, 2.92585124e-03, 3.32340123e-05,\n",
       "       8.70088313e-01, 1.81759771e-03, 1.52495436e-02, 2.88693426e-01,\n",
       "       9.57443719e-01, 3.51889591e-04, 1.09350632e-05, 5.39704471e-05,\n",
       "       3.47199149e-04, 1.18113220e-03, 5.45053304e-05, 5.60570348e-04,\n",
       "       2.58218542e-02, 4.58541035e-01, 9.72125129e-01, 1.95829195e-01,\n",
       "       9.76391327e-04, 7.91623510e-05, 1.52820660e-01, 4.57382404e-02,\n",
       "       9.95661782e-03, 4.18394395e-04, 3.41328381e-03, 3.02181064e-03,\n",
       "       2.43399189e-04, 1.17620665e-04, 1.66776309e-03, 1.00725397e-02,\n",
       "       5.04635345e-04, 9.20571646e-01, 2.71215046e-03, 4.51731733e-02,\n",
       "       9.32692934e-07, 1.99801700e-02, 1.48704526e-04, 1.46363854e-05,\n",
       "       2.16928044e-05, 5.11347177e-01, 1.48509655e-04, 2.93089526e-01,\n",
       "       2.13276445e-01, 2.46762978e-03, 6.57370062e-03, 1.86230289e-01,\n",
       "       3.70697286e-01, 1.10001464e-05, 8.20688802e-03, 9.15524705e-01,\n",
       "       1.27976093e-04, 3.35989059e-01, 8.11784972e-03, 2.90538021e-05,\n",
       "       3.03046700e-06, 1.72371867e-03, 5.67784825e-04, 1.89430860e-01,\n",
       "       6.89205812e-01, 7.91260061e-05, 8.22742223e-03, 4.07754758e-01,\n",
       "       1.35927439e-05, 4.11534591e-06, 3.50914256e-01, 9.16174407e-04,\n",
       "       2.05793076e-03, 9.03613391e-03, 1.42067029e-01, 3.04428928e-01,\n",
       "       2.25968535e-02, 2.58944083e-02, 9.12726417e-01, 8.22221788e-04,\n",
       "       1.48410624e-06, 1.40862284e-05, 9.15630488e-04, 3.23757859e-01,\n",
       "       7.73788574e-01, 9.76402862e-01, 3.47618780e-05, 2.14413386e-02,\n",
       "       4.80681661e-03, 2.49420850e-04, 1.63824185e-01, 1.81880850e-03,\n",
       "       1.81407676e-04, 1.12359197e-05, 6.52079009e-02, 4.76120141e-06,\n",
       "       1.43473324e-02, 4.33781829e-02, 3.64586262e-01, 5.76486232e-01,\n",
       "       2.82067810e-04, 3.75847091e-04, 1.82594583e-02, 1.63440824e-03,\n",
       "       4.04363677e-04, 4.10503068e-01, 1.69991273e-02, 1.27296660e-02,\n",
       "       1.35006578e-02, 4.20244272e-05, 1.98126016e-03, 4.20110019e-01,\n",
       "       1.90174352e-06, 3.29916288e-03, 2.55074321e-03, 8.71414076e-01,\n",
       "       8.07752587e-05, 3.00373164e-02, 3.69351654e-01, 9.41018519e-02,\n",
       "       6.55861016e-01, 1.04289620e-04, 3.21947834e-05, 2.06563798e-03,\n",
       "       9.84273093e-01, 1.23134628e-04, 1.07840992e-02, 2.20693893e-02,\n",
       "       5.18765783e-01, 8.79066373e-01, 5.90636497e-05, 4.74250105e-04,\n",
       "       1.98338918e-05, 1.84083008e-02, 1.26017218e-03, 1.24958961e-02,\n",
       "       9.79801215e-01, 2.30778046e-02, 2.72342185e-05, 7.07993787e-02,\n",
       "       2.58185517e-03, 4.56792912e-04, 2.85959190e-01, 1.34951506e-01,\n",
       "       2.87553355e-01, 1.75698519e-03, 3.11944357e-01, 6.41753294e-01,\n",
       "       7.86436271e-01, 9.68824257e-01, 4.79530376e-05, 2.17371826e-01,\n",
       "       2.70036309e-01, 1.83059457e-04, 3.26055175e-02, 3.57555275e-03,\n",
       "       1.54967795e-02, 7.37564274e-01, 1.96784863e-01, 9.34538624e-01,\n",
       "       4.45225406e-01, 2.09969306e-06, 9.49160410e-01, 7.51926246e-01,\n",
       "       9.12797489e-05, 7.69906419e-06, 9.57911422e-01, 2.93150737e-03,\n",
       "       7.93847447e-06, 2.03500543e-01, 9.05715415e-02, 1.22246266e-01,\n",
       "       3.08624486e-01, 3.38398663e-05, 4.63106951e-05, 1.54285469e-04,\n",
       "       2.76255314e-05, 2.80380049e-01, 3.38806548e-05, 1.02849067e-05,\n",
       "       1.79963778e-02, 7.16053597e-06, 8.09109644e-01, 2.07316416e-01,\n",
       "       6.09124720e-02, 4.60256261e-01, 7.29515373e-01, 9.20780052e-01,\n",
       "       1.23812168e-04, 6.55243175e-02, 2.47817862e-01, 3.89012962e-02,\n",
       "       4.16172078e-02, 7.79292370e-04, 6.43690585e-05, 2.36646239e-04,\n",
       "       7.54357299e-05, 8.75885332e-05, 1.66429999e-02, 4.91872020e-06,\n",
       "       1.25023049e-03, 4.52547303e-04, 1.11592427e-02, 3.27391546e-03,\n",
       "       8.63068030e-03, 3.46306609e-05, 8.03332787e-02, 2.10094375e-02,\n",
       "       1.02446518e-03, 3.25440331e-03, 2.88546486e-03, 1.02063459e-02,\n",
       "       9.61964240e-01, 2.28076772e-04, 8.34013006e-03, 1.50959289e-01,\n",
       "       5.94585136e-04, 3.36320423e-02, 9.18874567e-02, 1.78473742e-01,\n",
       "       7.76815685e-04, 8.00496297e-01, 1.50961881e-02, 1.47861421e-04,\n",
       "       4.89277936e-01, 1.99384432e-02, 4.61184837e-03, 4.77135985e-06,\n",
       "       7.08415362e-02, 9.50425940e-01, 9.21775439e-05, 1.47704740e-03,\n",
       "       1.14105013e-04, 5.97444929e-04, 9.82838563e-03, 3.86902790e-05,\n",
       "       5.22831584e-04, 5.36901925e-02, 1.52034494e-05, 2.28938551e-02,\n",
       "       1.36064803e-01, 9.94203835e-03, 6.57401919e-05, 2.53305608e-04,\n",
       "       2.08296506e-03, 4.21341551e-01, 9.24578779e-01, 5.43581146e-04,\n",
       "       1.04593734e-02, 2.67146636e-05, 3.74038135e-02, 4.07213025e-05,\n",
       "       4.18936064e-04, 1.90852169e-02, 1.12365506e-03, 5.73639784e-04,\n",
       "       2.31006401e-01, 1.37281346e-03, 3.13089559e-01, 2.57343205e-04,\n",
       "       4.76876925e-03, 7.73856710e-03, 1.08756104e-02, 1.85793574e-03,\n",
       "       2.27300234e-01, 4.35522880e-03, 3.29325172e-05, 3.63443750e-02,\n",
       "       1.46505935e-04, 4.35087279e-02, 4.47333249e-01, 1.88610388e-02,\n",
       "       5.79390545e-01, 9.83406298e-01, 8.76183598e-06, 4.04533222e-01,\n",
       "       1.37643199e-04, 8.07134318e-02, 2.81274610e-04, 5.13189129e-01,\n",
       "       5.19871166e-01, 1.31943822e-05, 9.06353475e-05, 1.79562863e-02,\n",
       "       2.38879803e-05, 8.42658693e-01, 2.22662462e-04, 1.17719904e-03,\n",
       "       4.96616384e-05, 1.92722513e-04, 3.41158082e-01, 7.13612393e-01,\n",
       "       1.27447567e-04, 4.11271790e-04, 1.08896227e-03, 2.36391165e-03,\n",
       "       6.83856929e-03, 6.20257265e-02, 3.22872637e-01, 2.62427983e-01,\n",
       "       2.38329455e-04, 1.94452670e-04, 2.92739539e-05, 4.71205799e-05,\n",
       "       7.45114969e-01, 1.10051566e-03, 1.44385129e-01, 7.65269093e-06,\n",
       "       1.59735949e-02, 5.77396970e-03, 2.71266519e-02, 6.60154408e-03,\n",
       "       1.50296862e-03, 4.39825737e-03, 2.77078870e-02, 3.17327698e-04,\n",
       "       1.24874299e-04, 7.56201462e-03, 2.67846727e-02, 2.83762760e-02,\n",
       "       1.35813341e-03, 1.93115522e-01, 1.68250352e-05, 1.34862013e-03,\n",
       "       3.65540674e-03, 1.99611199e-02, 4.10437454e-02, 1.14606771e-03,\n",
       "       2.82415249e-06, 9.58608542e-01, 2.35273694e-02, 9.39796881e-01,\n",
       "       1.47385504e-01, 2.33677367e-02, 9.91929522e-01, 3.88818908e-02,\n",
       "       6.67279696e-01, 1.69547866e-02, 1.67697984e-02, 9.58529807e-05,\n",
       "       1.03824745e-01, 7.70711122e-01, 1.32543813e-01, 2.59455986e-02,\n",
       "       6.67374279e-04, 1.62758631e-02, 9.76362713e-01, 1.74878082e-03,\n",
       "       5.04837563e-05, 1.31836389e-03, 1.38935054e-02, 1.42752751e-03,\n",
       "       1.40922304e-02, 4.54714058e-02, 2.53048592e-01, 2.20280107e-02,\n",
       "       4.27745469e-06, 4.70188312e-06, 4.23622483e-03, 9.56465555e-01,\n",
       "       1.48694424e-01, 2.02078983e-01, 5.52846424e-05, 2.98681326e-03,\n",
       "       7.20601165e-03, 2.02029828e-01, 8.29896238e-04, 3.18813702e-01,\n",
       "       6.53210137e-04, 7.63216091e-03, 2.32437269e-01, 7.15683065e-05,\n",
       "       8.48134274e-01, 7.07171035e-01, 9.05159727e-02, 1.50497558e-04,\n",
       "       8.41036102e-02, 4.45542835e-05, 8.75347804e-02, 4.76429422e-01,\n",
       "       8.17511314e-05, 5.12162757e-03, 2.60583468e-04, 1.10938501e-02,\n",
       "       4.90116201e-04, 3.83977591e-03, 8.75659983e-03, 4.10472277e-03,\n",
       "       3.33738638e-04, 6.88031932e-03, 6.45165903e-05, 2.38812693e-03,\n",
       "       9.15116261e-03, 4.12053247e-03, 3.08423119e-05, 2.86305750e-02,\n",
       "       8.68588314e-01, 6.07981964e-01, 4.80355221e-02, 7.08384950e-04,\n",
       "       3.04726458e-02, 3.57706160e-03, 1.39321334e-04, 1.76953397e-01,\n",
       "       6.23645453e-04, 3.69812218e-01, 3.14289955e-03, 4.37397620e-04,\n",
       "       1.27214749e-04, 3.98502368e-04, 2.10300447e-01, 9.27137241e-01,\n",
       "       1.57868471e-01, 1.08283574e-03, 7.48519670e-01, 9.26991897e-05,\n",
       "       3.60763065e-01, 9.16677512e-01, 5.48574795e-01, 1.27748588e-01,\n",
       "       6.47385752e-01, 6.97404877e-02, 1.84851852e-01, 7.45543251e-01,\n",
       "       2.71902349e-03, 2.53244386e-01, 6.27199268e-03, 8.63504376e-01,\n",
       "       1.18018046e-02, 1.37258905e-02, 6.15887229e-02, 1.25853610e-03,\n",
       "       5.79696242e-01, 3.99647448e-01, 1.38445311e-01, 9.16963617e-01,\n",
       "       2.24398134e-01, 4.69937561e-02, 1.42495171e-04, 8.52149670e-03,\n",
       "       4.89317085e-04, 5.64909230e-02, 3.95231729e-04, 1.86257706e-04,\n",
       "       4.41428446e-04, 4.29096198e-02, 8.92804553e-01, 9.30868725e-03,\n",
       "       4.39088954e-04, 2.99368312e-05, 4.35967618e-04, 2.18826619e-04,\n",
       "       1.44577090e-03, 1.43682399e-03, 7.04254824e-01, 3.40453166e-03,\n",
       "       5.30177519e-01, 8.10364893e-03, 2.20417571e-01, 1.36070777e-03,\n",
       "       9.03326069e-04, 4.68839629e-04, 5.45036556e-02, 4.28069913e-06,\n",
       "       1.79352356e-01, 8.01076132e-02, 1.16344781e-03, 6.23412730e-02,\n",
       "       6.96161465e-05, 1.90089516e-03, 6.62027221e-02, 2.81294635e-04,\n",
       "       2.96328560e-03, 6.09938334e-03, 3.86235379e-04, 7.28797223e-03,\n",
       "       1.82253060e-02, 3.46471110e-05, 1.02298449e-02, 5.83731388e-03,\n",
       "       7.13665839e-01, 8.97339176e-04, 9.20652346e-03, 9.44822375e-03,\n",
       "       7.04347048e-01, 4.44407216e-04, 7.60317501e-03, 2.35287653e-01,\n",
       "       2.90905637e-03, 7.76623668e-05, 1.44210292e-05, 1.53464532e-01,\n",
       "       3.16669848e-02, 9.32869902e-01, 4.21559250e-02, 6.25995721e-05,\n",
       "       3.80077603e-04, 3.11227354e-03, 2.30389840e-02, 4.58812678e-02,\n",
       "       2.67388053e-03, 1.25766591e-02, 6.03702672e-01, 7.64443326e-01,\n",
       "       4.10578186e-03, 2.50843953e-02, 1.77270528e-06, 1.68927005e-01,\n",
       "       6.86931496e-01, 9.46057693e-01, 2.88178288e-05, 4.85263250e-04,\n",
       "       1.89268337e-01, 3.55877978e-04, 1.13495388e-02, 1.15311206e-02,\n",
       "       5.46237026e-02, 1.68417202e-02, 1.62184384e-01, 1.01364900e-05,\n",
       "       3.95234004e-02, 8.46912581e-07, 3.14097711e-02, 1.52739693e-06,\n",
       "       1.81018818e-01, 1.36977015e-01, 2.10936990e-01, 9.52528010e-05,\n",
       "       6.08906893e-01, 4.93977979e-03, 1.67526542e-02, 2.46711090e-03,\n",
       "       2.30400604e-03, 5.87592002e-04, 3.89569161e-02, 1.57817655e-02,\n",
       "       5.27676064e-04, 8.56887396e-01, 8.69773046e-02, 2.95304150e-01,\n",
       "       7.29218888e-01, 2.75802225e-02, 6.25377859e-04, 1.14420584e-01,\n",
       "       2.86588297e-05, 9.06040215e-05, 4.36562107e-03, 3.75332032e-04,\n",
       "       8.07292812e-03, 7.16088688e-03, 5.70120598e-02, 1.38962943e-01,\n",
       "       2.94621749e-05, 1.35598441e-02, 1.41647158e-01, 6.27631158e-04,\n",
       "       9.92955070e-02, 2.64243718e-01, 3.81844325e-05, 8.11264326e-03,\n",
       "       6.43130089e-03, 6.98782620e-02, 6.75916271e-01, 3.03820257e-03,\n",
       "       2.53134815e-02, 4.05795076e-04, 2.73526711e-03, 7.15656179e-03,\n",
       "       3.93301318e-03, 8.47962999e-03, 9.11704641e-03, 3.76861151e-03,\n",
       "       2.86387230e-02, 7.67921391e-04, 1.40509584e-05, 8.22198632e-05,\n",
       "       6.86657313e-04, 6.27394417e-04, 7.75363518e-02, 4.36658771e-02,\n",
       "       4.40465577e-05, 8.64153503e-01, 3.66219994e-03, 4.90688379e-01,\n",
       "       1.47133342e-06, 9.15884730e-01, 8.03151257e-01, 2.72952735e-04,\n",
       "       8.62873791e-01, 4.66240987e-01, 1.37800685e-01, 2.76046338e-02,\n",
       "       5.17748520e-05, 7.76625521e-01, 4.68065906e-05, 9.68181319e-01,\n",
       "       5.29872906e-01, 9.37233246e-06, 3.36220841e-01, 9.46869635e-03,\n",
       "       2.58966842e-02, 3.50791117e-04, 1.61810813e-04, 1.76400195e-03,\n",
       "       2.62800725e-02, 2.11107511e-05, 9.82624127e-01, 4.69743099e-05,\n",
       "       1.61595559e-02, 2.61797210e-03, 1.69783526e-03, 2.29976982e-03,\n",
       "       3.03661038e-06, 2.16484761e-03, 3.47404465e-01, 2.31679744e-05,\n",
       "       1.96119298e-05, 8.35489271e-04, 1.48791251e-01, 1.09800396e-01,\n",
       "       2.98768408e-03, 6.33896335e-04, 5.44085719e-01, 1.92567528e-04,\n",
       "       2.89999734e-04, 1.32798168e-03, 3.67818849e-03, 5.46202813e-04,\n",
       "       4.58139028e-02, 2.34494712e-05, 7.32645210e-04, 9.22603554e-03,\n",
       "       3.56945318e-03, 9.14499194e-01, 6.11743853e-01, 2.16490932e-03,\n",
       "       4.04940275e-01, 7.87636910e-01, 2.01103242e-05, 1.16260502e-01,\n",
       "       8.84526168e-04, 4.86459264e-01, 1.95966988e-02, 4.67303601e-02,\n",
       "       4.02650610e-03, 3.47621310e-01, 1.19151772e-03, 2.06734416e-02,\n",
       "       4.83076367e-03, 8.59315443e-02, 6.36561078e-04, 4.07008983e-04,\n",
       "       1.91130051e-05, 4.99172167e-06, 1.51165397e-01, 5.18158283e-04,\n",
       "       7.11191142e-01, 8.43041176e-01, 8.69915719e-01, 3.41162212e-02,\n",
       "       1.13014300e-02, 4.49742864e-03, 3.55004605e-01, 6.90766726e-05,\n",
       "       8.14780327e-01, 7.46635819e-03, 2.19315957e-06, 6.66831664e-03,\n",
       "       6.67243390e-05, 1.17327535e-02, 9.73672055e-01, 3.85559635e-03,\n",
       "       6.74108881e-02, 2.60569149e-05, 8.37477122e-01, 2.53922317e-02,\n",
       "       8.79001714e-01, 2.50387153e-02, 6.60777698e-04, 7.51725954e-02,\n",
       "       4.36213589e-01, 8.01775140e-02, 6.31937157e-04, 1.81153601e-04,\n",
       "       3.86429988e-02, 9.11181026e-05, 6.27681061e-01, 3.06076977e-04,\n",
       "       2.16536001e-02, 2.15819434e-04, 8.61647575e-05, 1.07417088e-02,\n",
       "       6.63447004e-03, 9.77263914e-05, 1.18372035e-05, 2.94516678e-01,\n",
       "       4.53898512e-04, 3.03289704e-01, 3.49323466e-04, 7.31062866e-06,\n",
       "       1.41678191e-03, 8.08478934e-01, 3.99680951e-03, 1.09825865e-02,\n",
       "       4.54898874e-03, 3.88981293e-01, 2.01558169e-02, 7.11152120e-04,\n",
       "       2.37623715e-02, 1.33071004e-04, 2.96827362e-03, 3.05482516e-04,\n",
       "       7.73693976e-05, 5.43784037e-03, 1.05292392e-02, 5.32203822e-01,\n",
       "       1.47079317e-03, 3.04840478e-01, 7.75743842e-01, 9.78734167e-01,\n",
       "       9.75242962e-01, 2.15318635e-06, 3.82905222e-04, 7.86425505e-04,\n",
       "       2.10207976e-02, 4.46272838e-02, 5.02386788e-01, 5.85836905e-04,\n",
       "       2.24775727e-02, 2.28085907e-01, 9.23511211e-03, 3.49441452e-02,\n",
       "       6.67420140e-05, 4.48017052e-04, 5.65682007e-05, 1.57996595e-05,\n",
       "       1.65918886e-02, 4.78473405e-04, 7.44384349e-05, 1.00606932e-01,\n",
       "       2.88409813e-02, 1.77417462e-04, 2.39153497e-02, 1.32729960e-02,\n",
       "       3.01129138e-04, 1.84371633e-04, 6.74284059e-01, 8.10933177e-03,\n",
       "       8.74829353e-01, 7.44684169e-03, 1.16705120e-01, 9.60604392e-01,\n",
       "       1.29644905e-05, 6.86570464e-02, 6.18931205e-04, 8.91699888e-04,\n",
       "       1.17938691e-02, 8.25194487e-05, 2.97461403e-03, 6.45381558e-01,\n",
       "       4.39613101e-03, 4.48809994e-05, 4.14183366e-05, 2.57164216e-03,\n",
       "       1.73140561e-02, 1.08058702e-01, 3.18403174e-01, 5.95342556e-03,\n",
       "       1.06769111e-01, 7.61743500e-02, 1.02940494e-02, 1.36904215e-04,\n",
       "       2.50499805e-03, 1.09371232e-02, 4.11234540e-03, 2.27919321e-01,\n",
       "       1.08180140e-03, 3.01383747e-04, 1.06165700e-01, 3.02493466e-06,\n",
       "       3.82793863e-01, 3.97042311e-01, 5.65975549e-04, 1.93854303e-02,\n",
       "       2.43862615e-02, 2.42070692e-03, 1.30253370e-03, 9.09819473e-02,\n",
       "       7.10586578e-01, 2.91078914e-03, 8.47914954e-02, 9.77727164e-02,\n",
       "       9.98487101e-03, 5.54693563e-04, 1.33499755e-01, 4.78575600e-06,\n",
       "       2.49425786e-01, 1.47417893e-06, 3.57342163e-03, 1.13583494e-02,\n",
       "       1.55382764e-05, 5.23407382e-01, 7.70354532e-02, 9.57659753e-03,\n",
       "       8.31480419e-02, 1.62529423e-03, 1.22214306e-03, 2.27271674e-03,\n",
       "       6.42475717e-03, 7.19504134e-01, 8.32626962e-05, 1.11315158e-02,\n",
       "       1.73448333e-01, 2.72773724e-05, 4.37359854e-02, 8.71274920e-02,\n",
       "       1.22089984e-02, 5.63494730e-01, 9.55509722e-01, 4.44984066e-01,\n",
       "       2.69180125e-04, 2.39614647e-04, 2.51153084e-02, 9.64049125e-01,\n",
       "       1.07040618e-02, 1.23096988e-05, 8.74597313e-06, 2.43801601e-02,\n",
       "       4.15508608e-02, 2.41889449e-03, 9.23312139e-03, 6.04404189e-01,\n",
       "       7.09007671e-04, 4.36469135e-04, 1.27093225e-02, 1.38740894e-05,\n",
       "       5.14733835e-04, 8.26857894e-02, 7.47208640e-01, 2.27104734e-03,\n",
       "       1.08361233e-02, 3.20837753e-01, 8.06453738e-03, 2.69136802e-04,\n",
       "       8.13843460e-04, 6.75968679e-05, 1.12223042e-03, 1.88977996e-01,\n",
       "       2.07527137e-01, 1.59962863e-04, 3.17931187e-02, 1.04524164e-02,\n",
       "       5.69151473e-03, 1.73906483e-01, 1.92781115e-04, 2.22283366e-03,\n",
       "       3.32556337e-01, 7.33776095e-01, 1.06567368e-02, 6.10572538e-03,\n",
       "       1.63290849e-01, 2.47882056e-02, 1.48893167e-02, 8.70141691e-03,\n",
       "       2.08414189e-03, 7.03505893e-02, 4.11325597e-05, 9.72664753e-01,\n",
       "       3.84169589e-02, 1.68355460e-03, 6.18415196e-01, 1.49485102e-03,\n",
       "       3.43764933e-05, 2.24646185e-03, 9.53742368e-01, 1.47597325e-01,\n",
       "       8.35354402e-01, 2.15877235e-03, 7.36736006e-03, 3.72396456e-02,\n",
       "       5.85596456e-01, 6.28999632e-01, 2.11982839e-05, 9.27494445e-04,\n",
       "       7.32834319e-01, 3.03035827e-01, 6.85055585e-03, 9.20975901e-01])"
      ]
     },
     "execution_count": 699,
     "metadata": {},
     "output_type": "execute_result"
    }
   ],
   "source": [
    "p"
   ]
  },
  {
   "cell_type": "code",
   "execution_count": null,
   "id": "82b720c6-abb7-42a5-bc02-29e4a0c1dbae",
   "metadata": {},
   "outputs": [],
   "source": []
  },
  {
   "cell_type": "code",
   "execution_count": 700,
   "id": "32986af0-b157-44d3-a27e-5cd3ebb9a6a8",
   "metadata": {},
   "outputs": [],
   "source": [
    "employed=[np.random.binomial(1,p[i],size=1).tolist()[0] for i in range(1000)]"
   ]
  },
  {
   "cell_type": "code",
   "execution_count": 701,
   "id": "fdb103da-d931-4e12-a5f1-f0e8cc50efd1",
   "metadata": {},
   "outputs": [
    {
     "data": {
      "text/html": [
       "<div>\n",
       "<style scoped>\n",
       "    .dataframe tbody tr th:only-of-type {\n",
       "        vertical-align: middle;\n",
       "    }\n",
       "\n",
       "    .dataframe tbody tr th {\n",
       "        vertical-align: top;\n",
       "    }\n",
       "\n",
       "    .dataframe thead th {\n",
       "        text-align: right;\n",
       "    }\n",
       "</style>\n",
       "<table border=\"1\" class=\"dataframe\">\n",
       "  <thead>\n",
       "    <tr style=\"text-align: right;\">\n",
       "      <th></th>\n",
       "      <th>toeic</th>\n",
       "      <th>gpa</th>\n",
       "      <th>employed</th>\n",
       "    </tr>\n",
       "  </thead>\n",
       "  <tbody>\n",
       "    <tr>\n",
       "      <th>0</th>\n",
       "      <td>845</td>\n",
       "      <td>3.577619</td>\n",
       "      <td>0</td>\n",
       "    </tr>\n",
       "    <tr>\n",
       "      <th>1</th>\n",
       "      <td>705</td>\n",
       "      <td>4.359228</td>\n",
       "      <td>0</td>\n",
       "    </tr>\n",
       "    <tr>\n",
       "      <th>2</th>\n",
       "      <td>940</td>\n",
       "      <td>2.958117</td>\n",
       "      <td>0</td>\n",
       "    </tr>\n",
       "    <tr>\n",
       "      <th>3</th>\n",
       "      <td>610</td>\n",
       "      <td>3.425006</td>\n",
       "      <td>0</td>\n",
       "    </tr>\n",
       "    <tr>\n",
       "      <th>4</th>\n",
       "      <td>595</td>\n",
       "      <td>2.137851</td>\n",
       "      <td>0</td>\n",
       "    </tr>\n",
       "    <tr>\n",
       "      <th>...</th>\n",
       "      <td>...</td>\n",
       "      <td>...</td>\n",
       "      <td>...</td>\n",
       "    </tr>\n",
       "    <tr>\n",
       "      <th>995</th>\n",
       "      <td>600</td>\n",
       "      <td>3.590461</td>\n",
       "      <td>0</td>\n",
       "    </tr>\n",
       "    <tr>\n",
       "      <th>996</th>\n",
       "      <td>855</td>\n",
       "      <td>4.235202</td>\n",
       "      <td>1</td>\n",
       "    </tr>\n",
       "    <tr>\n",
       "      <th>997</th>\n",
       "      <td>945</td>\n",
       "      <td>3.413732</td>\n",
       "      <td>0</td>\n",
       "    </tr>\n",
       "    <tr>\n",
       "      <th>998</th>\n",
       "      <td>665</td>\n",
       "      <td>3.747738</td>\n",
       "      <td>0</td>\n",
       "    </tr>\n",
       "    <tr>\n",
       "      <th>999</th>\n",
       "      <td>985</td>\n",
       "      <td>3.972754</td>\n",
       "      <td>1</td>\n",
       "    </tr>\n",
       "  </tbody>\n",
       "</table>\n",
       "<p>1000 rows × 3 columns</p>\n",
       "</div>"
      ],
      "text/plain": [
       "     toeic       gpa  employed\n",
       "0      845  3.577619         0\n",
       "1      705  4.359228         0\n",
       "2      940  2.958117         0\n",
       "3      610  3.425006         0\n",
       "4      595  2.137851         0\n",
       "..     ...       ...       ...\n",
       "995    600  3.590461         0\n",
       "996    855  4.235202         1\n",
       "997    945  3.413732         0\n",
       "998    665  3.747738         0\n",
       "999    985  3.972754         1\n",
       "\n",
       "[1000 rows x 3 columns]"
      ]
     },
     "execution_count": 701,
     "metadata": {},
     "output_type": "execute_result"
    }
   ],
   "source": [
    "df = pd.DataFrame({'toeic':toeic,'gpa':gpa,'employed':employed})\n",
    "df"
   ]
  },
  {
   "cell_type": "code",
   "execution_count": 702,
   "id": "0ac3e56a-81bf-41ff-bc26-7cb32b128efe",
   "metadata": {},
   "outputs": [
    {
     "data": {
      "text/plain": [
       "550"
      ]
     },
     "execution_count": 702,
     "metadata": {},
     "output_type": "execute_result"
    }
   ],
   "source": [
    "df.toeic.min()"
   ]
  },
  {
   "cell_type": "code",
   "execution_count": 703,
   "id": "c23c537a-5d84-4200-abc1-abc5eb7314f3",
   "metadata": {},
   "outputs": [],
   "source": [
    "import plotly.express as px"
   ]
  },
  {
   "cell_type": "code",
   "execution_count": 707,
   "id": "0c5f7ccc-2bcb-493c-b769-743251fd828e",
   "metadata": {},
   "outputs": [
    {
     "data": {
      "application/vnd.plotly.v1+json": {
       "config": {
        "plotlyServerURL": "https://plot.ly"
       },
       "data": [
        {
         "hovertemplate": "gpa=%{x}<br>toeic=%{y}<br>employed=%{marker.color}<extra></extra>",
         "legendgroup": "",
         "marker": {
          "color": [
           0,
           0,
           0,
           0,
           0,
           0,
           0,
           0,
           0,
           0,
           0,
           0,
           0,
           0,
           0,
           0,
           0,
           0,
           0,
           0,
           0,
           0,
           0,
           0,
           0,
           0,
           0,
           1,
           0,
           0,
           0,
           1,
           0,
           1,
           1,
           0,
           0,
           0,
           0,
           0,
           0,
           0,
           0,
           0,
           0,
           0,
           0,
           0,
           0,
           0,
           1,
           0,
           1,
           0,
           1,
           0,
           0,
           1,
           0,
           0,
           0,
           0,
           0,
           0,
           0,
           1,
           0,
           0,
           0,
           0,
           0,
           0,
           0,
           0,
           0,
           0,
           0,
           0,
           1,
           0,
           0,
           0,
           1,
           0,
           0,
           0,
           0,
           1,
           0,
           0,
           0,
           0,
           1,
           1,
           0,
           1,
           0,
           0,
           0,
           0,
           0,
           0,
           0,
           0,
           0,
           0,
           0,
           0,
           0,
           0,
           0,
           0,
           0,
           0,
           0,
           0,
           0,
           0,
           0,
           0,
           1,
           0,
           0,
           0,
           1,
           0,
           0,
           0,
           0,
           0,
           0,
           0,
           0,
           0,
           1,
           1,
           0,
           0,
           1,
           0,
           0,
           0,
           0,
           0,
           0,
           0,
           0,
           0,
           0,
           0,
           0,
           0,
           0,
           0,
           0,
           0,
           0,
           1,
           0,
           0,
           0,
           0,
           0,
           0,
           0,
           0,
           0,
           1,
           0,
           0,
           0,
           0,
           0,
           0,
           0,
           0,
           1,
           0,
           0,
           1,
           0,
           0,
           0,
           0,
           0,
           0,
           0,
           0,
           0,
           0,
           1,
           0,
           0,
           0,
           0,
           1,
           0,
           1,
           0,
           0,
           0,
           0,
           0,
           0,
           0,
           0,
           0,
           0,
           0,
           0,
           0,
           0,
           0,
           0,
           0,
           0,
           0,
           1,
           0,
           0,
           0,
           0,
           0,
           0,
           0,
           0,
           0,
           1,
           0,
           0,
           0,
           1,
           1,
           0,
           0,
           0,
           1,
           0,
           0,
           0,
           1,
           1,
           0,
           0,
           0,
           0,
           0,
           0,
           1,
           0,
           0,
           0,
           0,
           0,
           1,
           0,
           0,
           0,
           0,
           0,
           0,
           1,
           0,
           0,
           0,
           0,
           0,
           0,
           0,
           1,
           0,
           1,
           0,
           0,
           1,
           0,
           0,
           0,
           1,
           0,
           0,
           1,
           0,
           0,
           0,
           0,
           0,
           0,
           0,
           1,
           0,
           0,
           0,
           0,
           1,
           0,
           0,
           1,
           0,
           1,
           0,
           0,
           0,
           0,
           0,
           0,
           0,
           0,
           0,
           0,
           0,
           0,
           0,
           0,
           0,
           0,
           0,
           0,
           0,
           0,
           0,
           0,
           0,
           0,
           1,
           0,
           0,
           0,
           0,
           0,
           0,
           1,
           0,
           1,
           0,
           0,
           1,
           0,
           0,
           0,
           0,
           1,
           0,
           0,
           0,
           0,
           0,
           0,
           0,
           0,
           0,
           0,
           0,
           0,
           0,
           0,
           0,
           1,
           1,
           0,
           0,
           0,
           0,
           0,
           0,
           0,
           0,
           0,
           0,
           0,
           0,
           0,
           0,
           0,
           0,
           0,
           1,
           0,
           0,
           0,
           0,
           0,
           0,
           0,
           1,
           1,
           0,
           1,
           0,
           0,
           0,
           0,
           1,
           0,
           0,
           0,
           0,
           0,
           0,
           1,
           0,
           0,
           1,
           1,
           0,
           0,
           0,
           0,
           0,
           0,
           0,
           1,
           0,
           0,
           0,
           0,
           1,
           0,
           1,
           0,
           0,
           0,
           0,
           0,
           0,
           0,
           0,
           0,
           0,
           0,
           0,
           0,
           0,
           0,
           0,
           0,
           0,
           0,
           0,
           0,
           0,
           1,
           1,
           1,
           0,
           0,
           1,
           0,
           1,
           0,
           0,
           0,
           1,
           1,
           1,
           0,
           0,
           0,
           1,
           0,
           0,
           0,
           0,
           0,
           0,
           0,
           0,
           0,
           0,
           0,
           0,
           1,
           0,
           0,
           0,
           0,
           0,
           0,
           0,
           1,
           0,
           0,
           0,
           0,
           1,
           1,
           0,
           0,
           0,
           0,
           1,
           1,
           0,
           0,
           0,
           0,
           0,
           0,
           0,
           0,
           0,
           0,
           0,
           0,
           0,
           0,
           0,
           0,
           1,
           0,
           0,
           0,
           0,
           0,
           0,
           1,
           0,
           0,
           0,
           0,
           0,
           0,
           0,
           1,
           0,
           0,
           1,
           0,
           0,
           1,
           0,
           0,
           1,
           0,
           0,
           1,
           0,
           0,
           0,
           1,
           0,
           0,
           0,
           0,
           0,
           0,
           1,
           1,
           0,
           0,
           0,
           0,
           0,
           0,
           0,
           0,
           0,
           0,
           1,
           0,
           0,
           0,
           0,
           0,
           0,
           0,
           1,
           0,
           1,
           0,
           0,
           0,
           0,
           0,
           0,
           0,
           0,
           0,
           0,
           0,
           0,
           0,
           0,
           0,
           0,
           0,
           0,
           0,
           0,
           0,
           0,
           0,
           0,
           0,
           0,
           0,
           1,
           0,
           0,
           0,
           0,
           0,
           0,
           0,
           0,
           1,
           0,
           0,
           0,
           0,
           0,
           0,
           0,
           0,
           0,
           0,
           0,
           0,
           0,
           0,
           0,
           1,
           0,
           0,
           1,
           0,
           0,
           0,
           0,
           0,
           0,
           0,
           0,
           0,
           0,
           0,
           1,
           0,
           0,
           0,
           0,
           0,
           0,
           0,
           0,
           0,
           0,
           0,
           0,
           1,
           1,
           0,
           1,
           0,
           0,
           0,
           0,
           0,
           0,
           0,
           0,
           0,
           0,
           1,
           0,
           0,
           0,
           0,
           0,
           0,
           0,
           0,
           0,
           0,
           0,
           0,
           0,
           0,
           0,
           0,
           0,
           0,
           0,
           0,
           0,
           0,
           0,
           0,
           0,
           0,
           0,
           0,
           0,
           1,
           0,
           0,
           0,
           1,
           1,
           0,
           1,
           0,
           0,
           0,
           0,
           1,
           0,
           1,
           0,
           0,
           0,
           0,
           0,
           0,
           0,
           0,
           0,
           0,
           1,
           0,
           0,
           0,
           0,
           0,
           0,
           0,
           1,
           0,
           0,
           0,
           0,
           0,
           0,
           0,
           1,
           0,
           0,
           0,
           0,
           0,
           0,
           0,
           0,
           0,
           0,
           1,
           1,
           0,
           1,
           1,
           0,
           1,
           0,
           0,
           0,
           0,
           0,
           0,
           0,
           0,
           0,
           0,
           0,
           0,
           0,
           0,
           0,
           0,
           0,
           1,
           1,
           0,
           0,
           0,
           1,
           0,
           1,
           0,
           0,
           0,
           0,
           0,
           1,
           0,
           0,
           0,
           0,
           0,
           1,
           0,
           0,
           0,
           1,
           0,
           0,
           0,
           0,
           0,
           0,
           0,
           0,
           0,
           0,
           0,
           0,
           0,
           0,
           1,
           0,
           0,
           0,
           0,
           0,
           1,
           0,
           0,
           0,
           0,
           0,
           0,
           0,
           0,
           0,
           0,
           0,
           0,
           0,
           1,
           0,
           0,
           1,
           1,
           1,
           0,
           0,
           0,
           0,
           0,
           0,
           0,
           0,
           1,
           0,
           0,
           0,
           0,
           0,
           0,
           0,
           0,
           0,
           0,
           0,
           0,
           0,
           0,
           0,
           0,
           1,
           0,
           1,
           0,
           1,
           1,
           0,
           0,
           0,
           0,
           0,
           0,
           0,
           1,
           0,
           0,
           0,
           0,
           0,
           0,
           0,
           0,
           0,
           0,
           0,
           0,
           0,
           0,
           0,
           0,
           0,
           0,
           0,
           0,
           0,
           0,
           0,
           0,
           0,
           0,
           0,
           0,
           1,
           0,
           0,
           1,
           0,
           0,
           0,
           0,
           1,
           0,
           0,
           0,
           0,
           1,
           0,
           0,
           0,
           0,
           0,
           0,
           0,
           1,
           0,
           0,
           1,
           0,
           0,
           0,
           0,
           1,
           1,
           1,
           0,
           0,
           0,
           1,
           0,
           0,
           0,
           0,
           0,
           0,
           0,
           1,
           0,
           0,
           0,
           0,
           0,
           0,
           1,
           0,
           0,
           0,
           1,
           0,
           0,
           0,
           0,
           0,
           0,
           0,
           0,
           0,
           0,
           0,
           0,
           0,
           0,
           1,
           0,
           0,
           0,
           0,
           0,
           0,
           0,
           0,
           0,
           1,
           0,
           0,
           0,
           0,
           0,
           0,
           1,
           0,
           1,
           0,
           0,
           0,
           1,
           0,
           0,
           0,
           1,
           0,
           0,
           1
          ],
          "coloraxis": "coloraxis",
          "symbol": "circle"
         },
         "mode": "markers",
         "name": "",
         "orientation": "v",
         "showlegend": false,
         "type": "scatter",
         "x": [
          3.5776189121878477,
          4.3592283449240234,
          2.95811656236359,
          3.425005807193904,
          2.1378510069145635,
          3.1221160495348066,
          4.425628131045032,
          3.4872426344938567,
          4.280304509104362,
          2.564374570727149,
          4.396410257211363,
          2.1456350955329566,
          3.1373041497626426,
          3.6245896945680443,
          4.4456943046821165,
          3.461942080493891,
          3.4025119535305475,
          3.614757521836233,
          2.9318286659439945,
          2.433922586706647,
          2.3514180147082913,
          2.30787538647146,
          3.3329078104180887,
          2.980870487635803,
          3.1282561925936467,
          2.5931574133284214,
          3.4967604392096465,
          4.187621073411883,
          4.124838328619124,
          2.852534703763964,
          3.3466180394910747,
          3.4090513239105658,
          3.8744553049547994,
          4.173108689349897,
          3.228174356041132,
          3.9597710270482986,
          3.4708698307789003,
          2.7806639573309275,
          4.102101749978834,
          3.4822039740039807,
          2.5327656804408694,
          3.3045614730608817,
          2.6570577547076817,
          4.329419551106922,
          2.7246783847492098,
          2.7428818096600045,
          2.962171356716043,
          3.0533689346845536,
          2.846993603813193,
          2.9674617476634717,
          4.399945924139306,
          3.937550787896405,
          4.036621011402955,
          3.230257370747091,
          4.119191713115144,
          2.5856661513615893,
          2.170427420258162,
          3.632867010041056,
          2.7034477452202155,
          2.8193984002756247,
          3.456556639630903,
          2.592973609367467,
          4.09209885644732,
          3.3961135076774296,
          3.0218639677351136,
          4.043076412036623,
          2.790894494540133,
          2.9449277890642924,
          3.465715774402102,
          4.07011720721602,
          2.780604579055918,
          3.076660947595423,
          3.1411507463082478,
          4.379089464785706,
          3.2140264489389576,
          3.297768035052928,
          3.0468249790051107,
          3.1611862831572375,
          3.9572832201598622,
          4.396824170457264,
          3.8586633857017008,
          4.06875525950632,
          4.137469290979711,
          3.4604674979096175,
          3.3291753083385895,
          4.1071549754856775,
          3.042109458342876,
          3.580105334040237,
          2.1924371168078474,
          2.984530798814933,
          3.39315008271684,
          2.9455922174777074,
          4.14255132733539,
          4.3257917367421115,
          3.206565519074144,
          3.9956179756985613,
          2.6640699823497664,
          2.5345416521633823,
          2.1368283101188896,
          2.377099205020896,
          2.8382505922645,
          3.856997130238102,
          3.60510562788356,
          3.710132629603618,
          2.8348396400450024,
          3.8805167251796426,
          3.3807538953080467,
          2.9185174557298406,
          2.4129805155940374,
          2.966207319247273,
          3.341116141229774,
          2.7222992828691823,
          3.059862642581556,
          2.7387500648934786,
          4.474428445226394,
          3.332677323788715,
          3.4722981823408032,
          2.6089707687598107,
          3.1483982080379245,
          2.9995453291408967,
          4.300378899048885,
          3.6741983891803467,
          4.0201508681949205,
          3.601757143902743,
          4.098136950391066,
          2.558197551861612,
          2.274556078727606,
          2.7016089501659,
          2.8717601511242994,
          2.898678510312664,
          2.749054124323896,
          2.369043065515602,
          3.2591711014162588,
          3.4732794551863035,
          4.241984958579865,
          4.006920749355176,
          3.1949961823630844,
          3.0365477819725495,
          3.3514633959352604,
          3.641198001780872,
          3.515989348892277,
          3.275553567704622,
          3.318856727480812,
          2.567741081748711,
          2.9953353480568863,
          2.2889649015746287,
          2.9085761643902677,
          4.1743990635964865,
          2.5715094268001883,
          4.491608004894371,
          4.058420854613588,
          4.294046655364411,
          2.1955561213215424,
          3.7202182099825087,
          3.2914823634158763,
          2.5662831976182225,
          2.3608456926913215,
          4.176671499786727,
          2.7710867707857934,
          3.425647887176913,
          4.392868048470861,
          3.2456495625933104,
          3.5348760616659147,
          4.377364841058817,
          4.047381298500921,
          2.479408864247541,
          3.9469821057256436,
          4.2051534494421645,
          2.76021375296233,
          3.3574038847546905,
          3.3791808621131167,
          2.2909069248775142,
          2.1214997093136803,
          3.7300842888841794,
          2.982474702339467,
          4.314246336548927,
          4.232583989607953,
          3.2173489711053405,
          3.065639479165127,
          4.3538317185283075,
          2.820995491647247,
          2.1225121430830134,
          3.4853635623301615,
          2.818850816021288,
          3.950937980340306,
          3.6748584225995913,
          4.327182846575659,
          3.6187317451754115,
          2.7083096026667315,
          3.6216282219357425,
          4.084066904542445,
          3.789460303757119,
          2.367906136701486,
          2.625501852262603,
          3.4292698384538323,
          4.294702188575668,
          4.013520479786882,
          4.483975497881539,
          2.625236751730684,
          3.171107902047705,
          2.4012277405482676,
          2.865157037221353,
          3.596179553859064,
          2.4306299019588486,
          2.997020494633836,
          2.506793598639958,
          3.5899530622690063,
          2.4945081252617523,
          2.875569806761823,
          2.837264864893884,
          4.131919086684709,
          3.647899810459312,
          2.508418595891916,
          2.6860878791677427,
          3.4055908117715505,
          3.8989979692275427,
          3.2000364970647572,
          3.4744801470897793,
          3.1630792247089006,
          3.3457717807602645,
          4.014957181875971,
          2.4870230512200546,
          2.223784951346963,
          4.116547953171643,
          2.1297270162414863,
          3.8765062335191596,
          2.7556343768961513,
          3.895994241637265,
          2.4531466726217044,
          4.017789265280373,
          4.498343766669091,
          4.471004078552608,
          4.379399725080234,
          2.171443736296102,
          2.8793316574189434,
          2.255800899090751,
          4.441397718478685,
          3.0681184128904095,
          3.669818820637625,
          3.0420698891169002,
          3.9346107094755256,
          4.205736283178232,
          2.54099585983395,
          3.2585348308147823,
          2.431140139615603,
          4.289361133253997,
          2.641913882620014,
          4.381749165187809,
          4.271001696966376,
          2.9845157747037865,
          2.592937523347043,
          4.107301038954937,
          2.260881729261042,
          3.589288326126508,
          4.344983919653156,
          4.200697827415162,
          4.165833139730173,
          3.5308751647960843,
          4.21460284102538,
          3.5966232290566262,
          3.7587569524344593,
          4.193425787691409,
          2.561944013241824,
          3.245055580857044,
          4.259291568066857,
          2.1397638166191446,
          3.15493548025466,
          2.560499260259737,
          3.006238021360371,
          4.014538259460082,
          4.098735910572844,
          4.1314748065872084,
          3.438569554649747,
          2.106780444589616,
          4.259683700047704,
          4.461188649254,
          3.2495013615597337,
          2.5574173753268283,
          4.213798650329782,
          2.1764722159108967,
          2.4060159979242015,
          4.198627766911725,
          3.4439375349104964,
          3.1349686784029993,
          4.301564689703225,
          2.257379107046166,
          2.870685483872826,
          2.5761552685195612,
          2.84489122102821,
          4.497090977913484,
          2.574233068607411,
          2.283377176101896,
          3.673621951599161,
          2.428036288184327,
          3.993922774981846,
          3.2089133587837044,
          2.872584409882335,
          3.4296072760083653,
          3.756528622266403,
          4.0626018292515065,
          2.5492527167401406,
          3.885088240018113,
          3.238251324829579,
          3.9423585768221026,
          4.00340580740935,
          2.3979882778890236,
          2.696029357802882,
          3.0794553803879343,
          2.9126321650186733,
          2.607046957153853,
          3.497429936030874,
          2.2757008845428652,
          3.5672652231522557,
          2.2756285662570623,
          2.818301635547215,
          3.1963801005205026,
          2.465944600655273,
          2.2173506226350908,
          3.1430717539263235,
          3.3247215434507265,
          3.7937607758936664,
          2.9462869916697256,
          4.027171267174628,
          3.7929766463443295,
          4.237529758689451,
          3.297285189229682,
          2.367721388913107,
          3.0090162522812247,
          2.1109485017971155,
          2.8003398032715157,
          3.922383218610512,
          4.162140723580368,
          3.3017941176146834,
          4.139876106675263,
          2.9776406826286896,
          2.6570370394821428,
          3.81760996977782,
          2.6343111099329084,
          3.952168752047394,
          2.472374608320047,
          4.424028098403057,
          4.220429090664845,
          2.550698745665354,
          3.1751794475327326,
          3.254498169852532,
          3.6723302479060997,
          4.168822484909443,
          2.8302322453062625,
          3.5518455777819566,
          3.905277974146243,
          2.620062101408177,
          3.502773290187577,
          3.886253216059164,
          2.8598774321665092,
          2.293736911825036,
          2.1676302765615896,
          2.5968802694081283,
          3.5297452151795947,
          4.255489068216065,
          2.769149873725619,
          2.509599446244635,
          2.475538219839518,
          4.114080446712465,
          2.615613719499204,
          3.615040774890544,
          4.116737108136126,
          3.1135717194813655,
          2.7812667363741452,
          3.6018940617111825,
          3.0230114302891864,
          4.057510688050742,
          3.0983249971374773,
          2.6029487000113396,
          4.159786155756047,
          4.350132834858716,
          3.2042719421561574,
          4.207725968286475,
          3.600033167708736,
          2.3417158780325926,
          3.4063629476961883,
          2.881095238165992,
          3.1545545983467993,
          4.435463645241235,
          2.7572432411025622,
          3.8993225121991477,
          4.316062873722151,
          2.428220160735317,
          3.401077686029506,
          3.3645404294670938,
          2.9633224900069037,
          3.208789830649237,
          3.8617473425759785,
          4.184350760253396,
          2.113297759057606,
          3.2705202314304698,
          3.6504978966325767,
          2.4051480836326955,
          4.317909174374739,
          3.382330541887684,
          2.7396356675809472,
          2.818565506235249,
          2.4000837998677484,
          3.9505371149833204,
          4.394493953279493,
          2.533151832852229,
          2.8872665519438354,
          2.4055025138353248,
          3.869130416704081,
          2.435783719948322,
          3.4196399068427956,
          4.0224350253613705,
          4.499271835606531,
          3.375020322549058,
          2.7412910825098264,
          2.790092896379259,
          2.2188075781262953,
          4.09123770836917,
          3.154110845995236,
          4.082689573721668,
          2.5334449743966814,
          3.4202007780758237,
          3.460282526176119,
          4.19769983388478,
          2.5408584872009303,
          3.0434212527771205,
          4.144968494027342,
          3.4563732308880972,
          3.0324161527534623,
          3.320019121290118,
          3.7927443270944186,
          3.6972787673190464,
          4.434252943140166,
          2.4326494527691667,
          3.889957730988093,
          2.1453777964724514,
          3.6973973694306714,
          4.080562377630615,
          4.353165036488832,
          3.660953299715467,
          2.417015465272241,
          2.2639267265085508,
          4.28555944857785,
          2.6497643042375625,
          4.2420301314347455,
          3.274037276893366,
          2.5577434402484975,
          4.480186911797734,
          3.670884983677035,
          4.164744922870618,
          2.619767849700623,
          4.3132370189146165,
          2.2429139385797128,
          4.4277163199633645,
          3.8060659191666906,
          3.0201425513580595,
          4.006506517579671,
          2.543984666436561,
          3.8993621662770956,
          4.347905357062944,
          3.1453980909503834,
          2.618742345898701,
          3.1495716326957623,
          2.9586864233200223,
          2.2177467851254327,
          2.6453443331172313,
          4.408662833889845,
          4.262109080796085,
          3.4034471594181746,
          2.2442704361626022,
          2.288169712390331,
          4.06864710341741,
          4.228472227854914,
          3.00501556301092,
          4.2871015545489195,
          2.6617962852391424,
          3.67315231822038,
          3.600909155687712,
          3.111153560748876,
          2.593059932972385,
          3.814726259490659,
          3.2627728351169214,
          2.4832799520938225,
          4.395159760974528,
          3.0816943589046693,
          4.349949197045303,
          4.161318564708581,
          3.3533334381865636,
          2.140913187423955,
          4.420647478353575,
          2.635854893944482,
          3.88777540793785,
          4.009549638738655,
          2.523688098568397,
          2.5964768269422103,
          3.5081762373744247,
          2.636059865882994,
          2.610163735700411,
          3.7072533997390855,
          2.6275236171525505,
          4.1067483054360014,
          2.8176344084080953,
          3.997464153810324,
          2.764383689776161,
          3.1704239677685164,
          3.519439224892519,
          2.660380638659359,
          2.7339966533424893,
          3.712701144798287,
          4.093890050125997,
          4.016451975934043,
          3.4492490944156287,
          3.2131910373227064,
          3.116605167120221,
          4.00783070954285,
          2.5531970511064817,
          4.0015083644068286,
          2.3025961419613012,
          3.9108488360618776,
          4.001231685202736,
          2.5845469042239757,
          2.6684187726734807,
          3.309815229064726,
          4.321017638304154,
          4.150810474914621,
          4.061124923316562,
          2.110261855404305,
          4.095289231305982,
          2.6424208417925037,
          4.105584386165754,
          4.118075970318679,
          3.6449862886159408,
          3.6211639178951422,
          3.828285637388105,
          3.108679338818156,
          4.081342591367858,
          4.4987805591961365,
          2.5665295590102253,
          4.2849551570259194,
          2.642327056529331,
          4.377998640625238,
          3.5772755267689527,
          2.9106910864612066,
          3.621461838021008,
          2.279812162452018,
          3.6056349342477954,
          3.871379482628213,
          4.18474631836613,
          4.186759295134806,
          4.24921740061106,
          4.167687736316749,
          3.304497065722524,
          2.4856683364701433,
          2.496731075851303,
          2.7867327774836195,
          2.561729068954189,
          2.7542143526074954,
          2.54138566672614,
          3.9201381903957904,
          3.8745486967796277,
          3.025827668564853,
          2.7437070971892474,
          2.885583362181154,
          2.6742620368192473,
          3.2879675297481943,
          3.5321659007538373,
          2.6940837674314593,
          4.31645062020587,
          3.250437882444092,
          4.442393823313468,
          3.062200782532801,
          3.294289795574084,
          2.184332400079125,
          3.4262229745234674,
          2.1931378784167976,
          3.8410156954548764,
          2.131375707459189,
          3.575546731302609,
          3.956453962133201,
          2.736988803317439,
          3.398244298801523,
          2.125722620975184,
          2.1239977329882924,
          4.317217440237814,
          3.2766450498036077,
          3.173880189253647,
          4.241536666661393,
          2.466094095455059,
          3.4225678957485277,
          3.088578838665403,
          2.9863017009849884,
          2.6402330993530945,
          4.208982971327021,
          4.258874405811129,
          2.588042033214787,
          2.7067385035982725,
          3.865890482462497,
          3.9095150811029913,
          2.8820955226460394,
          3.0929699980386625,
          3.3133121303049116,
          2.1068981546550805,
          2.263398968795435,
          2.6534002187638235,
          3.8500678930490855,
          3.894376907895714,
          4.057569741621059,
          3.147129675934093,
          2.6671441057775707,
          2.643381139434525,
          2.9588205012642934,
          3.685133054141926,
          2.782637742137669,
          3.082852925662637,
          3.207337701664378,
          4.464681211710239,
          4.2051958126201985,
          3.157057847506715,
          3.591677390251115,
          2.249595907540426,
          3.423553716349309,
          4.20758671670018,
          4.109939667213763,
          2.4473634306957455,
          3.0601849790698084,
          4.020038255805341,
          2.7416388232373317,
          4.246772581471971,
          2.5091791737359634,
          3.502343313607553,
          3.500146036293385,
          3.593475256120474,
          2.325332748466001,
          2.67974230642733,
          2.17384842827016,
          3.7794168081632122,
          2.193470869322079,
          3.849441825631277,
          2.9834717231822268,
          3.575647926390162,
          3.0103447667162015,
          3.9720993725988785,
          4.0355377933664,
          2.956219035579955,
          3.155149867228297,
          2.8231405205472786,
          3.306777397113028,
          3.7844016094795956,
          4.367187247665764,
          2.355429423419211,
          4.049033603825727,
          3.4339391565062343,
          4.445635557624488,
          4.095386647183727,
          3.0934955581391006,
          3.4791000832096444,
          3.185925525649024,
          2.3330532193139213,
          2.5015982238463814,
          3.5553456317570817,
          2.5953269515446014,
          2.8804346988250256,
          3.3733548731136596,
          3.4673151890867016,
          3.1907463494801247,
          2.9498264335764244,
          4.332537830284014,
          3.80630629713425,
          3.3894575698448524,
          3.3763451337862733,
          4.0717295864800445,
          2.4202358491743317,
          4.057427288703123,
          3.5073032240427717,
          3.855387875889145,
          4.083103711675195,
          3.7448414006749795,
          4.294780804993383,
          2.725957513926381,
          2.7713909773537178,
          4.187288306234549,
          2.5367932260132626,
          2.8237466503432636,
          3.7899478780509375,
          3.363832187276535,
          3.644927860185938,
          2.2590000691161314,
          2.760616159915595,
          3.1807534839467113,
          2.8669808957220155,
          3.4798248923977484,
          3.2700935618973945,
          4.218216852194975,
          2.9950850783026923,
          4.062657379343506,
          3.922690205605374,
          4.135462793506754,
          2.365961311398477,
          4.206202887712125,
          4.030570150796557,
          3.0663521850952944,
          4.399410271854734,
          4.429997728141844,
          3.68604050943886,
          2.5962128289030626,
          2.4435200212843924,
          3.8815050962154714,
          2.6017253062423027,
          4.233909570767649,
          3.424530739003739,
          2.4659885812502167,
          3.5159290581411273,
          2.5774374162254263,
          3.7573269144620305,
          2.24091092212493,
          3.265264154186947,
          2.8307685005022094,
          4.32604872405075,
          2.3094998436628704,
          4.328133543492649,
          2.1954949566645836,
          3.6263651608656886,
          3.3042165390641527,
          2.573407893299269,
          3.772474235616766,
          2.257633762047303,
          3.9849711732516497,
          4.341184937751409,
          2.9862016059853564,
          2.4738340389391498,
          2.6850247402250424,
          4.203680086897183,
          3.469450777800505,
          3.1078914717960373,
          2.374105913115213,
          4.138398538894972,
          3.4174906891221903,
          2.446820998131726,
          2.3597519867418932,
          2.747794593491474,
          2.1144541256537286,
          4.3878188968659,
          2.6949491526614646,
          3.220773127174212,
          3.340385118488442,
          3.1254403589113906,
          4.29263853633583,
          3.9521702530361185,
          2.9900027265936666,
          3.8084930094143186,
          3.715142565644232,
          2.5020936554873496,
          3.958826990243559,
          2.87877308859063,
          4.018589251612461,
          3.240895504758023,
          2.7643508546787707,
          3.7405927743459326,
          3.8665257396435444,
          2.7423591361965793,
          4.474283244044247,
          3.7591352176125667,
          4.267643356951524,
          2.4881157013011834,
          2.7944690495745217,
          2.7167796102569435,
          2.346854908993395,
          3.9817396753582717,
          2.532236394012992,
          3.8265083520179415,
          4.386398095905114,
          4.028678753478761,
          3.1654776945279375,
          3.1603787329960698,
          4.172620889634458,
          4.009493927824997,
          3.096333933351219,
          4.070118644387005,
          3.495888478221821,
          2.1165796784490123,
          2.610977179840557,
          2.274467410663915,
          3.033225919242846,
          4.255189011878459,
          3.7534082317476387,
          4.389417052372737,
          2.4699289487775693,
          4.309231045288708,
          4.20504561132171,
          4.024694943330932,
          3.6138698028306973,
          2.179939086369273,
          4.031395940309597,
          3.9956696788050277,
          3.9114411758062255,
          3.0518009491810076,
          2.9514789556773584,
          2.8553720400183957,
          2.4124191048920953,
          4.035226865146305,
          2.888613098276349,
          3.6708606157541537,
          3.1717880622325993,
          2.7164244742715233,
          3.103596367877487,
          2.7681160223376287,
          2.315108674780385,
          2.315005766916077,
          4.490009602046387,
          2.9094655002259433,
          4.1150074054384245,
          2.3982587119115224,
          2.5005430157851474,
          2.4195618749089194,
          3.879939806196595,
          3.6032420869612256,
          3.5609022456794754,
          2.6601219713526474,
          4.155300375075537,
          4.400619844302769,
          2.535676907710153,
          4.076677828696279,
          2.407189713312567,
          2.2697371202057264,
          3.204758460142611,
          2.850488219129184,
          3.89897276239648,
          2.443274079257318,
          3.4266366827226014,
          2.8350273239314614,
          3.347812093214693,
          4.423076736498583,
          4.417465152761226,
          4.269393984501705,
          2.157667046818974,
          3.43650677249959,
          2.807075194962774,
          3.211780455153871,
          3.34143376588809,
          4.4625752615943775,
          2.8990687609291115,
          3.0010611533129268,
          3.417273957648132,
          2.345633551448858,
          3.985136034440269,
          2.2745270085494655,
          3.2683386957171834,
          2.4182170209962885,
          2.8322346846587463,
          3.134917150183674,
          3.0343999334978107,
          3.2036073486064653,
          3.899725663844278,
          2.7194224930880315,
          2.5171409197117014,
          3.897252435785129,
          3.5362043577518962,
          2.2743922996488366,
          2.774536995556854,
          4.2171077687565655,
          3.582460304509758,
          4.0612226610858055,
          3.6988127389332384,
          4.434673422860904,
          4.387599223970337,
          2.674669510830114,
          2.810924707768028,
          3.544606397431913,
          2.3378785804316773,
          2.4690821771537257,
          2.503179936764166,
          3.4687111138525575,
          4.3238001956991905,
          4.031793882717052,
          2.5244335422159727,
          2.438528129812887,
          3.413253962277876,
          3.1220554373442004,
          4.27948370037609,
          4.44746661627283,
          2.969722267149855,
          3.258869346902033,
          3.85371382639811,
          3.5461780393919105,
          3.205037563611169,
          3.00029599300562,
          3.175536453542855,
          3.247870991052001,
          3.5753524698687804,
          2.5396948373765005,
          3.1112659342092908,
          4.161964809761957,
          2.392445362621188,
          3.584098966221248,
          3.7784814977396937,
          3.320952155856144,
          3.441925757482238,
          3.42687401178575,
          3.4222238452670863,
          2.2649404912245044,
          3.3093779406579014,
          3.7580073083922505,
          3.1246204662382455,
          3.1563176647872857,
          3.8473621064407837,
          4.285477553375876,
          2.3214443542616623,
          3.112459838371461,
          2.540891655507448,
          3.172348779922909,
          2.1176523169817396,
          3.4196611159408854,
          2.5961954162526597,
          2.2405414861498145,
          4.391056928782089,
          3.6529352751523865,
          2.7835290192365294,
          3.8977413139437154,
          2.2469839600199446,
          2.9742067471744136,
          3.0461875920160475,
          4.0045601297591435,
          3.8356944578714227,
          2.912232768717903,
          3.269996887865047,
          3.905598447489949,
          3.0003289499062005,
          2.9522626508716874,
          3.4795904834745546,
          2.838769282080116,
          3.522907705841493,
          4.200747595272135,
          3.460962763955989,
          3.470254988711548,
          3.1501000115814795,
          3.4788963091920335,
          4.160248619100534,
          2.650536544560697,
          2.1202947988614267,
          2.382586306408358,
          3.1554595185969654,
          2.9176041100868537,
          2.336627775768187,
          2.503876050660542,
          3.515592414747256,
          2.8289667714026803,
          2.832812287709478,
          3.8655077828248134,
          2.689926718462202,
          3.5483316284443633,
          2.9466248069771916,
          3.7093027535042347,
          2.367629923448971,
          2.5402602126497675,
          3.9524981440450158,
          2.4053244444863093,
          2.226500170455701,
          2.927857454005014,
          3.0462349969229985,
          2.163537203639035,
          3.8613208170206477,
          4.226789697526838,
          3.013935635394629,
          4.2118835578656775,
          2.712965744359927,
          3.36657533762156,
          3.657573014830844,
          3.055931113379959,
          3.787414048726932,
          4.416747178221712,
          3.8518636211213795,
          4.006312721901319,
          2.9754402739491566,
          3.075201894979374,
          3.8376802129396497,
          4.218207400462033,
          3.8019680822612028,
          3.9764046036804626,
          3.0429475337621428,
          2.866618478310491,
          4.472638910533902,
          2.718320762363946,
          3.611705178092207,
          3.800218979106071,
          2.2281305441019854,
          2.1704669841930864,
          3.201858751974342,
          4.282018255289408,
          4.2920042578963775,
          4.124835790308461,
          2.672779703737755,
          3.1084406459959117,
          4.203504624411629,
          4.1311948601087405,
          3.5390098445787626,
          2.400883126475563,
          3.590460599479052,
          4.235202225441629,
          3.413731985849778,
          3.747738256465432,
          3.97275435812832
         ],
         "xaxis": "x",
         "y": [
          845,
          705,
          940,
          610,
          595,
          860,
          630,
          625,
          635,
          615,
          730,
          840,
          845,
          720,
          615,
          810,
          955,
          685,
          710,
          685,
          610,
          910,
          725,
          700,
          575,
          645,
          630,
          985,
          730,
          780,
          670,
          940,
          745,
          900,
          975,
          850,
          735,
          550,
          715,
          600,
          800,
          860,
          830,
          550,
          865,
          920,
          770,
          985,
          895,
          925,
          785,
          595,
          880,
          810,
          925,
          665,
          695,
          940,
          780,
          695,
          935,
          710,
          565,
          745,
          955,
          985,
          860,
          550,
          665,
          670,
          715,
          655,
          865,
          605,
          825,
          665,
          905,
          610,
          965,
          610,
          740,
          810,
          755,
          885,
          665,
          655,
          770,
          930,
          645,
          970,
          935,
          720,
          960,
          720,
          635,
          930,
          835,
          605,
          855,
          560,
          605,
          770,
          940,
          680,
          695,
          605,
          595,
          845,
          620,
          590,
          550,
          570,
          940,
          725,
          570,
          680,
          875,
          935,
          755,
          565,
          885,
          615,
          645,
          900,
          990,
          780,
          670,
          655,
          710,
          765,
          645,
          845,
          840,
          965,
          980,
          785,
          690,
          600,
          915,
          785,
          735,
          630,
          725,
          885,
          665,
          785,
          780,
          590,
          795,
          870,
          550,
          640,
          565,
          725,
          575,
          620,
          685,
          820,
          690,
          940,
          705,
          725,
          710,
          700,
          820,
          625,
          630,
          930,
          685,
          965,
          755,
          715,
          640,
          600,
          710,
          715,
          845,
          560,
          825,
          760,
          560,
          655,
          940,
          770,
          560,
          695,
          695,
          900,
          955,
          760,
          955,
          550,
          550,
          605,
          635,
          755,
          915,
          935,
          650,
          850,
          945,
          695,
          865,
          890,
          650,
          620,
          815,
          580,
          895,
          960,
          800,
          950,
          780,
          755,
          790,
          560,
          645,
          955,
          840,
          785,
          640,
          690,
          940,
          815,
          615,
          600,
          835,
          975,
          730,
          680,
          720,
          640,
          805,
          805,
          590,
          935,
          965,
          615,
          705,
          880,
          875,
          910,
          695,
          640,
          665,
          595,
          825,
          555,
          990,
          895,
          645,
          705,
          945,
          565,
          735,
          720,
          775,
          645,
          770,
          975,
          975,
          985,
          680,
          960,
          750,
          840,
          875,
          895,
          870,
          905,
          765,
          960,
          970,
          625,
          945,
          810,
          560,
          590,
          965,
          970,
          625,
          745,
          865,
          950,
          750,
          730,
          610,
          735,
          590,
          700,
          660,
          665,
          730,
          615,
          930,
          965,
          970,
          975,
          960,
          965,
          730,
          750,
          970,
          710,
          700,
          855,
          665,
          645,
          625,
          700,
          765,
          630,
          620,
          855,
          895,
          750,
          960,
          740,
          925,
          815,
          560,
          805,
          560,
          675,
          965,
          595,
          980,
          990,
          905,
          955,
          760,
          745,
          655,
          895,
          875,
          715,
          895,
          965,
          600,
          585,
          635,
          955,
          715,
          715,
          570,
          560,
          590,
          610,
          580,
          735,
          610,
          780,
          790,
          880,
          755,
          850,
          860,
          945,
          925,
          755,
          960,
          670,
          670,
          660,
          555,
          635,
          715,
          755,
          885,
          745,
          805,
          645,
          900,
          580,
          555,
          720,
          750,
          675,
          710,
          825,
          665,
          890,
          750,
          935,
          895,
          990,
          625,
          970,
          555,
          965,
          625,
          890,
          820,
          715,
          555,
          735,
          680,
          870,
          575,
          800,
          625,
          785,
          835,
          815,
          735,
          715,
          870,
          585,
          955,
          850,
          815,
          695,
          580,
          710,
          605,
          755,
          890,
          705,
          750,
          595,
          780,
          720,
          635,
          930,
          745,
          555,
          800,
          670,
          560,
          660,
          745,
          585,
          875,
          810,
          720,
          595,
          560,
          585,
          775,
          870,
          605,
          950,
          970,
          940,
          930,
          990,
          990,
          770,
          855,
          960,
          585,
          785,
          655,
          960,
          980,
          675,
          815,
          675,
          965,
          730,
          670,
          715,
          875,
          925,
          945,
          615,
          745,
          800,
          630,
          625,
          570,
          960,
          990,
          725,
          665,
          640,
          700,
          985,
          815,
          860,
          655,
          950,
          710,
          585,
          865,
          865,
          885,
          830,
          645,
          660,
          765,
          850,
          715,
          905,
          555,
          935,
          785,
          645,
          925,
          560,
          720,
          610,
          650,
          740,
          730,
          880,
          620,
          745,
          930,
          875,
          830,
          670,
          880,
          575,
          735,
          780,
          865,
          850,
          570,
          785,
          705,
          620,
          720,
          950,
          760,
          935,
          890,
          695,
          805,
          950,
          945,
          845,
          925,
          925,
          765,
          800,
          880,
          740,
          905,
          865,
          730,
          885,
          805,
          905,
          960,
          865,
          725,
          935,
          740,
          670,
          570,
          955,
          810,
          985,
          785,
          705,
          795,
          720,
          990,
          840,
          750,
          585,
          765,
          595,
          635,
          820,
          830,
          740,
          765,
          825,
          950,
          930,
          635,
          875,
          750,
          655,
          875,
          745,
          800,
          855,
          795,
          960,
          655,
          610,
          750,
          550,
          805,
          740,
          860,
          570,
          930,
          555,
          845,
          820,
          910,
          655,
          920,
          720,
          815,
          950,
          985,
          770,
          600,
          805,
          710,
          975,
          890,
          670,
          765,
          800,
          740,
          975,
          765,
          815,
          775,
          870,
          770,
          765,
          585,
          905,
          850,
          975,
          680,
          685,
          780,
          740,
          580,
          965,
          825,
          765,
          865,
          655,
          990,
          565,
          735,
          590,
          815,
          990,
          885,
          615,
          885,
          585,
          885,
          745,
          815,
          640,
          745,
          570,
          845,
          935,
          865,
          715,
          885,
          880,
          605,
          935,
          705,
          725,
          685,
          775,
          865,
          750,
          835,
          945,
          570,
          570,
          810,
          625,
          885,
          790,
          700,
          605,
          715,
          760,
          875,
          625,
          610,
          750,
          835,
          570,
          905,
          880,
          670,
          720,
          760,
          885,
          575,
          570,
          745,
          605,
          895,
          655,
          580,
          935,
          595,
          825,
          550,
          930,
          920,
          655,
          860,
          755,
          835,
          990,
          710,
          945,
          670,
          975,
          990,
          620,
          930,
          940,
          730,
          850,
          585,
          800,
          605,
          695,
          985,
          760,
          735,
          715,
          855,
          605,
          610,
          555,
          750,
          550,
          655,
          795,
          725,
          870,
          765,
          850,
          835,
          560,
          795,
          890,
          855,
          900,
          620,
          615,
          670,
          770,
          770,
          910,
          890,
          775,
          880,
          985,
          650,
          765,
          755,
          850,
          830,
          980,
          640,
          855,
          800,
          560,
          645,
          680,
          825,
          735,
          600,
          615,
          775,
          805,
          940,
          855,
          945,
          875,
          820,
          550,
          825,
          580,
          915,
          725,
          625,
          915,
          760,
          850,
          980,
          635,
          640,
          670,
          870,
          630,
          950,
          760,
          895,
          725,
          845,
          755,
          700,
          660,
          950,
          745,
          875,
          700,
          740,
          620,
          675,
          830,
          880,
          770,
          665,
          705,
          715,
          790,
          815,
          600,
          880,
          955,
          670,
          730,
          885,
          800,
          575,
          820,
          655,
          765,
          950,
          630,
          640,
          620,
          975,
          990,
          790,
          960,
          825,
          955,
          980,
          615,
          590,
          765,
          840,
          850,
          755,
          730,
          890,
          925,
          990,
          695,
          760,
          635,
          720,
          565,
          845,
          690,
          560,
          770,
          965,
          755,
          695,
          745,
          835,
          700,
          845,
          710,
          940,
          680,
          660,
          930,
          590,
          990,
          590,
          875,
          975,
          720,
          685,
          815,
          580,
          685,
          700,
          690,
          850,
          690,
          720,
          830,
          915,
          765,
          730,
          590,
          780,
          815,
          750,
          890,
          840,
          650,
          715,
          580,
          925,
          885,
          635,
          785,
          800,
          685,
          910,
          895,
          955,
          760,
          925,
          780,
          565,
          855,
          960,
          570,
          985,
          605,
          705,
          945,
          695,
          775,
          810,
          895,
          760,
          925,
          750,
          765,
          605,
          940,
          630,
          795,
          800,
          555,
          935,
          855,
          895,
          975,
          965,
          965,
          565,
          630,
          790,
          985,
          930,
          710,
          635,
          860,
          940,
          925,
          955,
          985,
          755,
          730,
          670,
          590,
          580,
          970,
          975,
          915,
          955,
          830,
          970,
          840,
          740,
          590,
          925,
          815,
          740,
          640,
          640,
          915,
          740,
          855,
          640,
          600,
          730,
          940,
          630,
          830,
          980,
          710,
          600,
          665,
          555,
          940,
          605,
          930,
          980,
          625,
          925,
          925,
          750,
          730,
          945,
          705,
          910,
          845,
          810,
          650,
          845,
          985,
          675,
          600,
          855,
          945,
          665,
          985
         ],
         "yaxis": "y"
        }
       ],
       "layout": {
        "autosize": true,
        "coloraxis": {
         "colorbar": {
          "title": {
           "text": "employed"
          }
         },
         "colorscale": [
          [
           0,
           "#0d0887"
          ],
          [
           0.1111111111111111,
           "#46039f"
          ],
          [
           0.2222222222222222,
           "#7201a8"
          ],
          [
           0.3333333333333333,
           "#9c179e"
          ],
          [
           0.4444444444444444,
           "#bd3786"
          ],
          [
           0.5555555555555556,
           "#d8576b"
          ],
          [
           0.6666666666666666,
           "#ed7953"
          ],
          [
           0.7777777777777778,
           "#fb9f3a"
          ],
          [
           0.8888888888888888,
           "#fdca26"
          ],
          [
           1,
           "#f0f921"
          ]
         ]
        },
        "dragmode": "pan",
        "legend": {
         "tracegroupgap": 0
        },
        "margin": {
         "t": 60
        },
        "template": {
         "data": {
          "bar": [
           {
            "error_x": {
             "color": "#2a3f5f"
            },
            "error_y": {
             "color": "#2a3f5f"
            },
            "marker": {
             "line": {
              "color": "#E5ECF6",
              "width": 0.5
             },
             "pattern": {
              "fillmode": "overlay",
              "size": 10,
              "solidity": 0.2
             }
            },
            "type": "bar"
           }
          ],
          "barpolar": [
           {
            "marker": {
             "line": {
              "color": "#E5ECF6",
              "width": 0.5
             },
             "pattern": {
              "fillmode": "overlay",
              "size": 10,
              "solidity": 0.2
             }
            },
            "type": "barpolar"
           }
          ],
          "carpet": [
           {
            "aaxis": {
             "endlinecolor": "#2a3f5f",
             "gridcolor": "white",
             "linecolor": "white",
             "minorgridcolor": "white",
             "startlinecolor": "#2a3f5f"
            },
            "baxis": {
             "endlinecolor": "#2a3f5f",
             "gridcolor": "white",
             "linecolor": "white",
             "minorgridcolor": "white",
             "startlinecolor": "#2a3f5f"
            },
            "type": "carpet"
           }
          ],
          "choropleth": [
           {
            "colorbar": {
             "outlinewidth": 0,
             "ticks": ""
            },
            "type": "choropleth"
           }
          ],
          "contour": [
           {
            "colorbar": {
             "outlinewidth": 0,
             "ticks": ""
            },
            "colorscale": [
             [
              0,
              "#0d0887"
             ],
             [
              0.1111111111111111,
              "#46039f"
             ],
             [
              0.2222222222222222,
              "#7201a8"
             ],
             [
              0.3333333333333333,
              "#9c179e"
             ],
             [
              0.4444444444444444,
              "#bd3786"
             ],
             [
              0.5555555555555556,
              "#d8576b"
             ],
             [
              0.6666666666666666,
              "#ed7953"
             ],
             [
              0.7777777777777778,
              "#fb9f3a"
             ],
             [
              0.8888888888888888,
              "#fdca26"
             ],
             [
              1,
              "#f0f921"
             ]
            ],
            "type": "contour"
           }
          ],
          "contourcarpet": [
           {
            "colorbar": {
             "outlinewidth": 0,
             "ticks": ""
            },
            "type": "contourcarpet"
           }
          ],
          "heatmap": [
           {
            "colorbar": {
             "outlinewidth": 0,
             "ticks": ""
            },
            "colorscale": [
             [
              0,
              "#0d0887"
             ],
             [
              0.1111111111111111,
              "#46039f"
             ],
             [
              0.2222222222222222,
              "#7201a8"
             ],
             [
              0.3333333333333333,
              "#9c179e"
             ],
             [
              0.4444444444444444,
              "#bd3786"
             ],
             [
              0.5555555555555556,
              "#d8576b"
             ],
             [
              0.6666666666666666,
              "#ed7953"
             ],
             [
              0.7777777777777778,
              "#fb9f3a"
             ],
             [
              0.8888888888888888,
              "#fdca26"
             ],
             [
              1,
              "#f0f921"
             ]
            ],
            "type": "heatmap"
           }
          ],
          "heatmapgl": [
           {
            "colorbar": {
             "outlinewidth": 0,
             "ticks": ""
            },
            "colorscale": [
             [
              0,
              "#0d0887"
             ],
             [
              0.1111111111111111,
              "#46039f"
             ],
             [
              0.2222222222222222,
              "#7201a8"
             ],
             [
              0.3333333333333333,
              "#9c179e"
             ],
             [
              0.4444444444444444,
              "#bd3786"
             ],
             [
              0.5555555555555556,
              "#d8576b"
             ],
             [
              0.6666666666666666,
              "#ed7953"
             ],
             [
              0.7777777777777778,
              "#fb9f3a"
             ],
             [
              0.8888888888888888,
              "#fdca26"
             ],
             [
              1,
              "#f0f921"
             ]
            ],
            "type": "heatmapgl"
           }
          ],
          "histogram": [
           {
            "marker": {
             "pattern": {
              "fillmode": "overlay",
              "size": 10,
              "solidity": 0.2
             }
            },
            "type": "histogram"
           }
          ],
          "histogram2d": [
           {
            "colorbar": {
             "outlinewidth": 0,
             "ticks": ""
            },
            "colorscale": [
             [
              0,
              "#0d0887"
             ],
             [
              0.1111111111111111,
              "#46039f"
             ],
             [
              0.2222222222222222,
              "#7201a8"
             ],
             [
              0.3333333333333333,
              "#9c179e"
             ],
             [
              0.4444444444444444,
              "#bd3786"
             ],
             [
              0.5555555555555556,
              "#d8576b"
             ],
             [
              0.6666666666666666,
              "#ed7953"
             ],
             [
              0.7777777777777778,
              "#fb9f3a"
             ],
             [
              0.8888888888888888,
              "#fdca26"
             ],
             [
              1,
              "#f0f921"
             ]
            ],
            "type": "histogram2d"
           }
          ],
          "histogram2dcontour": [
           {
            "colorbar": {
             "outlinewidth": 0,
             "ticks": ""
            },
            "colorscale": [
             [
              0,
              "#0d0887"
             ],
             [
              0.1111111111111111,
              "#46039f"
             ],
             [
              0.2222222222222222,
              "#7201a8"
             ],
             [
              0.3333333333333333,
              "#9c179e"
             ],
             [
              0.4444444444444444,
              "#bd3786"
             ],
             [
              0.5555555555555556,
              "#d8576b"
             ],
             [
              0.6666666666666666,
              "#ed7953"
             ],
             [
              0.7777777777777778,
              "#fb9f3a"
             ],
             [
              0.8888888888888888,
              "#fdca26"
             ],
             [
              1,
              "#f0f921"
             ]
            ],
            "type": "histogram2dcontour"
           }
          ],
          "mesh3d": [
           {
            "colorbar": {
             "outlinewidth": 0,
             "ticks": ""
            },
            "type": "mesh3d"
           }
          ],
          "parcoords": [
           {
            "line": {
             "colorbar": {
              "outlinewidth": 0,
              "ticks": ""
             }
            },
            "type": "parcoords"
           }
          ],
          "pie": [
           {
            "automargin": true,
            "type": "pie"
           }
          ],
          "scatter": [
           {
            "fillpattern": {
             "fillmode": "overlay",
             "size": 10,
             "solidity": 0.2
            },
            "type": "scatter"
           }
          ],
          "scatter3d": [
           {
            "line": {
             "colorbar": {
              "outlinewidth": 0,
              "ticks": ""
             }
            },
            "marker": {
             "colorbar": {
              "outlinewidth": 0,
              "ticks": ""
             }
            },
            "type": "scatter3d"
           }
          ],
          "scattercarpet": [
           {
            "marker": {
             "colorbar": {
              "outlinewidth": 0,
              "ticks": ""
             }
            },
            "type": "scattercarpet"
           }
          ],
          "scattergeo": [
           {
            "marker": {
             "colorbar": {
              "outlinewidth": 0,
              "ticks": ""
             }
            },
            "type": "scattergeo"
           }
          ],
          "scattergl": [
           {
            "marker": {
             "colorbar": {
              "outlinewidth": 0,
              "ticks": ""
             }
            },
            "type": "scattergl"
           }
          ],
          "scattermapbox": [
           {
            "marker": {
             "colorbar": {
              "outlinewidth": 0,
              "ticks": ""
             }
            },
            "type": "scattermapbox"
           }
          ],
          "scatterpolar": [
           {
            "marker": {
             "colorbar": {
              "outlinewidth": 0,
              "ticks": ""
             }
            },
            "type": "scatterpolar"
           }
          ],
          "scatterpolargl": [
           {
            "marker": {
             "colorbar": {
              "outlinewidth": 0,
              "ticks": ""
             }
            },
            "type": "scatterpolargl"
           }
          ],
          "scatterternary": [
           {
            "marker": {
             "colorbar": {
              "outlinewidth": 0,
              "ticks": ""
             }
            },
            "type": "scatterternary"
           }
          ],
          "surface": [
           {
            "colorbar": {
             "outlinewidth": 0,
             "ticks": ""
            },
            "colorscale": [
             [
              0,
              "#0d0887"
             ],
             [
              0.1111111111111111,
              "#46039f"
             ],
             [
              0.2222222222222222,
              "#7201a8"
             ],
             [
              0.3333333333333333,
              "#9c179e"
             ],
             [
              0.4444444444444444,
              "#bd3786"
             ],
             [
              0.5555555555555556,
              "#d8576b"
             ],
             [
              0.6666666666666666,
              "#ed7953"
             ],
             [
              0.7777777777777778,
              "#fb9f3a"
             ],
             [
              0.8888888888888888,
              "#fdca26"
             ],
             [
              1,
              "#f0f921"
             ]
            ],
            "type": "surface"
           }
          ],
          "table": [
           {
            "cells": {
             "fill": {
              "color": "#EBF0F8"
             },
             "line": {
              "color": "white"
             }
            },
            "header": {
             "fill": {
              "color": "#C8D4E3"
             },
             "line": {
              "color": "white"
             }
            },
            "type": "table"
           }
          ]
         },
         "layout": {
          "annotationdefaults": {
           "arrowcolor": "#2a3f5f",
           "arrowhead": 0,
           "arrowwidth": 1
          },
          "autotypenumbers": "strict",
          "coloraxis": {
           "colorbar": {
            "outlinewidth": 0,
            "ticks": ""
           }
          },
          "colorscale": {
           "diverging": [
            [
             0,
             "#8e0152"
            ],
            [
             0.1,
             "#c51b7d"
            ],
            [
             0.2,
             "#de77ae"
            ],
            [
             0.3,
             "#f1b6da"
            ],
            [
             0.4,
             "#fde0ef"
            ],
            [
             0.5,
             "#f7f7f7"
            ],
            [
             0.6,
             "#e6f5d0"
            ],
            [
             0.7,
             "#b8e186"
            ],
            [
             0.8,
             "#7fbc41"
            ],
            [
             0.9,
             "#4d9221"
            ],
            [
             1,
             "#276419"
            ]
           ],
           "sequential": [
            [
             0,
             "#0d0887"
            ],
            [
             0.1111111111111111,
             "#46039f"
            ],
            [
             0.2222222222222222,
             "#7201a8"
            ],
            [
             0.3333333333333333,
             "#9c179e"
            ],
            [
             0.4444444444444444,
             "#bd3786"
            ],
            [
             0.5555555555555556,
             "#d8576b"
            ],
            [
             0.6666666666666666,
             "#ed7953"
            ],
            [
             0.7777777777777778,
             "#fb9f3a"
            ],
            [
             0.8888888888888888,
             "#fdca26"
            ],
            [
             1,
             "#f0f921"
            ]
           ],
           "sequentialminus": [
            [
             0,
             "#0d0887"
            ],
            [
             0.1111111111111111,
             "#46039f"
            ],
            [
             0.2222222222222222,
             "#7201a8"
            ],
            [
             0.3333333333333333,
             "#9c179e"
            ],
            [
             0.4444444444444444,
             "#bd3786"
            ],
            [
             0.5555555555555556,
             "#d8576b"
            ],
            [
             0.6666666666666666,
             "#ed7953"
            ],
            [
             0.7777777777777778,
             "#fb9f3a"
            ],
            [
             0.8888888888888888,
             "#fdca26"
            ],
            [
             1,
             "#f0f921"
            ]
           ]
          },
          "colorway": [
           "#636efa",
           "#EF553B",
           "#00cc96",
           "#ab63fa",
           "#FFA15A",
           "#19d3f3",
           "#FF6692",
           "#B6E880",
           "#FF97FF",
           "#FECB52"
          ],
          "font": {
           "color": "#2a3f5f"
          },
          "geo": {
           "bgcolor": "white",
           "lakecolor": "white",
           "landcolor": "#E5ECF6",
           "showlakes": true,
           "showland": true,
           "subunitcolor": "white"
          },
          "hoverlabel": {
           "align": "left"
          },
          "hovermode": "closest",
          "mapbox": {
           "style": "light"
          },
          "paper_bgcolor": "white",
          "plot_bgcolor": "#E5ECF6",
          "polar": {
           "angularaxis": {
            "gridcolor": "white",
            "linecolor": "white",
            "ticks": ""
           },
           "bgcolor": "#E5ECF6",
           "radialaxis": {
            "gridcolor": "white",
            "linecolor": "white",
            "ticks": ""
           }
          },
          "scene": {
           "xaxis": {
            "backgroundcolor": "#E5ECF6",
            "gridcolor": "white",
            "gridwidth": 2,
            "linecolor": "white",
            "showbackground": true,
            "ticks": "",
            "zerolinecolor": "white"
           },
           "yaxis": {
            "backgroundcolor": "#E5ECF6",
            "gridcolor": "white",
            "gridwidth": 2,
            "linecolor": "white",
            "showbackground": true,
            "ticks": "",
            "zerolinecolor": "white"
           },
           "zaxis": {
            "backgroundcolor": "#E5ECF6",
            "gridcolor": "white",
            "gridwidth": 2,
            "linecolor": "white",
            "showbackground": true,
            "ticks": "",
            "zerolinecolor": "white"
           }
          },
          "shapedefaults": {
           "line": {
            "color": "#2a3f5f"
           }
          },
          "ternary": {
           "aaxis": {
            "gridcolor": "white",
            "linecolor": "white",
            "ticks": ""
           },
           "baxis": {
            "gridcolor": "white",
            "linecolor": "white",
            "ticks": ""
           },
           "bgcolor": "#E5ECF6",
           "caxis": {
            "gridcolor": "white",
            "linecolor": "white",
            "ticks": ""
           }
          },
          "title": {
           "x": 0.05
          },
          "xaxis": {
           "automargin": true,
           "gridcolor": "white",
           "linecolor": "white",
           "ticks": "",
           "title": {
            "standoff": 15
           },
           "zerolinecolor": "white",
           "zerolinewidth": 2
          },
          "yaxis": {
           "automargin": true,
           "gridcolor": "white",
           "linecolor": "white",
           "ticks": "",
           "title": {
            "standoff": 15
           },
           "zerolinecolor": "white",
           "zerolinewidth": 2
          }
         }
        },
        "xaxis": {
         "anchor": "y",
         "autorange": true,
         "domain": [
          0,
          1
         ],
         "range": [
          1.9612007473974027,
          4.644851532798744
         ],
         "title": {
          "text": "gpa"
         },
         "type": "linear"
        },
        "yaxis": {
         "anchor": "x",
         "autorange": true,
         "domain": [
          0,
          1
         ],
         "range": [
          515.9317585301837,
          1024.0682414698163
         ],
         "title": {
          "text": "toeic"
         },
         "type": "linear"
        }
       }
      },
      "image/png": "[encoded data removed]",
      "text/html": [
       "<div>                            <div id=\"2d4fccbd-a7e9-44a3-a0ea-6f6b14dc42e7\" class=\"plotly-graph-div\" style=\"height:525px; width:100%;\"></div>            <script type=\"text/javascript\">                require([\"plotly\"], function(Plotly) {                    window.PLOTLYENV=window.PLOTLYENV || {};                                    if (document.getElementById(\"2d4fccbd-a7e9-44a3-a0ea-6f6b14dc42e7\")) {                    Plotly.newPlot(                        \"2d4fccbd-a7e9-44a3-a0ea-6f6b14dc42e7\",                        [{\"hovertemplate\":\"gpa=%{x}<br>toeic=%{y}<br>employed=%{marker.color}<extra></extra>\",\"legendgroup\":\"\",\"marker\":{\"color\":[0,0,0,0,0,0,0,0,0,0,0,0,0,0,0,0,0,0,0,0,0,0,0,0,0,0,0,1,0,0,0,1,0,1,1,0,0,0,0,0,0,0,0,0,0,0,0,0,0,0,1,0,1,0,1,0,0,1,0,0,0,0,0,0,0,1,0,0,0,0,0,0,0,0,0,0,0,0,1,0,0,0,1,0,0,0,0,1,0,0,0,0,1,1,0,1,0,0,0,0,0,0,0,0,0,0,0,0,0,0,0,0,0,0,0,0,0,0,0,0,1,0,0,0,1,0,0,0,0,0,0,0,0,0,1,1,0,0,1,0,0,0,0,0,0,0,0,0,0,0,0,0,0,0,0,0,0,1,0,0,0,0,0,0,0,0,0,1,0,0,0,0,0,0,0,0,1,0,0,1,0,0,0,0,0,0,0,0,0,0,1,0,0,0,0,1,0,1,0,0,0,0,0,0,0,0,0,0,0,0,0,0,0,0,0,0,0,1,0,0,0,0,0,0,0,0,0,1,0,0,0,1,1,0,0,0,1,0,0,0,1,1,0,0,0,0,0,0,1,0,0,0,0,0,1,0,0,0,0,0,0,1,0,0,0,0,0,0,0,1,0,1,0,0,1,0,0,0,1,0,0,1,0,0,0,0,0,0,0,1,0,0,0,0,1,0,0,1,0,1,0,0,0,0,0,0,0,0,0,0,0,0,0,0,0,0,0,0,0,0,0,0,0,0,1,0,0,0,0,0,0,1,0,1,0,0,1,0,0,0,0,1,0,0,0,0,0,0,0,0,0,0,0,0,0,0,0,1,1,0,0,0,0,0,0,0,0,0,0,0,0,0,0,0,0,0,1,0,0,0,0,0,0,0,1,1,0,1,0,0,0,0,1,0,0,0,0,0,0,1,0,0,1,1,0,0,0,0,0,0,0,1,0,0,0,0,1,0,1,0,0,0,0,0,0,0,0,0,0,0,0,0,0,0,0,0,0,0,0,0,0,1,1,1,0,0,1,0,1,0,0,0,1,1,1,0,0,0,1,0,0,0,0,0,0,0,0,0,0,0,0,1,0,0,0,0,0,0,0,1,0,0,0,0,1,1,0,0,0,0,1,1,0,0,0,0,0,0,0,0,0,0,0,0,0,0,0,0,1,0,0,0,0,0,0,1,0,0,0,0,0,0,0,1,0,0,1,0,0,1,0,0,1,0,0,1,0,0,0,1,0,0,0,0,0,0,1,1,0,0,0,0,0,0,0,0,0,0,1,0,0,0,0,0,0,0,1,0,1,0,0,0,0,0,0,0,0,0,0,0,0,0,0,0,0,0,0,0,0,0,0,0,0,0,0,0,1,0,0,0,0,0,0,0,0,1,0,0,0,0,0,0,0,0,0,0,0,0,0,0,0,1,0,0,1,0,0,0,0,0,0,0,0,0,0,0,1,0,0,0,0,0,0,0,0,0,0,0,0,1,1,0,1,0,0,0,0,0,0,0,0,0,0,1,0,0,0,0,0,0,0,0,0,0,0,0,0,0,0,0,0,0,0,0,0,0,0,0,0,0,0,0,0,1,0,0,0,1,1,0,1,0,0,0,0,1,0,1,0,0,0,0,0,0,0,0,0,0,1,0,0,0,0,0,0,0,1,0,0,0,0,0,0,0,1,0,0,0,0,0,0,0,0,0,0,1,1,0,1,1,0,1,0,0,0,0,0,0,0,0,0,0,0,0,0,0,0,0,0,1,1,0,0,0,1,0,1,0,0,0,0,0,1,0,0,0,0,0,1,0,0,0,1,0,0,0,0,0,0,0,0,0,0,0,0,0,0,1,0,0,0,0,0,1,0,0,0,0,0,0,0,0,0,0,0,0,0,1,0,0,1,1,1,0,0,0,0,0,0,0,0,1,0,0,0,0,0,0,0,0,0,0,0,0,0,0,0,0,1,0,1,0,1,1,0,0,0,0,0,0,0,1,0,0,0,0,0,0,0,0,0,0,0,0,0,0,0,0,0,0,0,0,0,0,0,0,0,0,0,0,1,0,0,1,0,0,0,0,1,0,0,0,0,1,0,0,0,0,0,0,0,1,0,0,1,0,0,0,0,1,1,1,0,0,0,1,0,0,0,0,0,0,0,1,0,0,0,0,0,0,1,0,0,0,1,0,0,0,0,0,0,0,0,0,0,0,0,0,0,1,0,0,0,0,0,0,0,0,0,1,0,0,0,0,0,0,1,0,1,0,0,0,1,0,0,0,1,0,0,1],\"coloraxis\":\"coloraxis\",\"symbol\":\"circle\"},\"mode\":\"markers\",\"name\":\"\",\"orientation\":\"v\",\"showlegend\":false,\"x\":[3.5776189121878477,4.3592283449240234,2.95811656236359,3.425005807193904,2.1378510069145635,3.1221160495348066,4.425628131045032,3.4872426344938567,4.280304509104362,2.564374570727149,4.396410257211363,2.1456350955329566,3.1373041497626426,3.6245896945680443,4.4456943046821165,3.461942080493891,3.4025119535305475,3.614757521836233,2.9318286659439945,2.433922586706647,2.3514180147082913,2.30787538647146,3.3329078104180887,2.980870487635803,3.1282561925936467,2.5931574133284214,3.4967604392096465,4.187621073411883,4.124838328619124,2.852534703763964,3.3466180394910747,3.4090513239105658,3.8744553049547994,4.173108689349897,3.228174356041132,3.9597710270482986,3.4708698307789003,2.7806639573309275,4.102101749978834,3.4822039740039807,2.5327656804408694,3.3045614730608817,2.6570577547076817,4.329419551106922,2.7246783847492098,2.7428818096600045,2.962171356716043,3.0533689346845536,2.846993603813193,2.9674617476634717,4.399945924139306,3.937550787896405,4.036621011402955,3.230257370747091,4.119191713115144,2.5856661513615893,2.170427420258162,3.632867010041056,2.7034477452202155,2.8193984002756247,3.456556639630903,2.592973609367467,4.09209885644732,3.3961135076774296,3.0218639677351136,4.043076412036623,2.790894494540133,2.9449277890642924,3.465715774402102,4.07011720721602,2.780604579055918,3.076660947595423,3.1411507463082478,4.379089464785706,3.2140264489389576,3.297768035052928,3.0468249790051107,3.1611862831572375,3.9572832201598622,4.396824170457264,3.8586633857017008,4.06875525950632,4.137469290979711,3.4604674979096175,3.3291753083385895,4.1071549754856775,3.042109458342876,3.580105334040237,2.1924371168078474,2.984530798814933,3.39315008271684,2.9455922174777074,4.14255132733539,4.3257917367421115,3.206565519074144,3.9956179756985613,2.6640699823497664,2.5345416521633823,2.1368283101188896,2.377099205020896,2.8382505922645,3.856997130238102,3.60510562788356,3.710132629603618,2.8348396400450024,3.8805167251796426,3.3807538953080467,2.9185174557298406,2.4129805155940374,2.966207319247273,3.341116141229774,2.7222992828691823,3.059862642581556,2.7387500648934786,4.474428445226394,3.332677323788715,3.4722981823408032,2.6089707687598107,3.1483982080379245,2.9995453291408967,4.300378899048885,3.6741983891803467,4.0201508681949205,3.601757143902743,4.098136950391066,2.558197551861612,2.274556078727606,2.7016089501659,2.8717601511242994,2.898678510312664,2.749054124323896,2.369043065515602,3.2591711014162588,3.4732794551863035,4.241984958579865,4.006920749355176,3.1949961823630844,3.0365477819725495,3.3514633959352604,3.641198001780872,3.515989348892277,3.275553567704622,3.318856727480812,2.567741081748711,2.9953353480568863,2.2889649015746287,2.9085761643902677,4.1743990635964865,2.5715094268001883,4.491608004894371,4.058420854613588,4.294046655364411,2.1955561213215424,3.7202182099825087,3.2914823634158763,2.5662831976182225,2.3608456926913215,4.176671499786727,2.7710867707857934,3.425647887176913,4.392868048470861,3.2456495625933104,3.5348760616659147,4.377364841058817,4.047381298500921,2.479408864247541,3.9469821057256436,4.2051534494421645,2.76021375296233,3.3574038847546905,3.3791808621131167,2.2909069248775142,2.1214997093136803,3.7300842888841794,2.982474702339467,4.314246336548927,4.232583989607953,3.2173489711053405,3.065639479165127,4.3538317185283075,2.820995491647247,2.1225121430830134,3.4853635623301615,2.818850816021288,3.950937980340306,3.6748584225995913,4.327182846575659,3.6187317451754115,2.7083096026667315,3.6216282219357425,4.084066904542445,3.789460303757119,2.367906136701486,2.625501852262603,3.4292698384538323,4.294702188575668,4.013520479786882,4.483975497881539,2.625236751730684,3.171107902047705,2.4012277405482676,2.865157037221353,3.596179553859064,2.4306299019588486,2.997020494633836,2.506793598639958,3.5899530622690063,2.4945081252617523,2.875569806761823,2.837264864893884,4.131919086684709,3.647899810459312,2.508418595891916,2.6860878791677427,3.4055908117715505,3.8989979692275427,3.2000364970647572,3.4744801470897793,3.1630792247089006,3.3457717807602645,4.014957181875971,2.4870230512200546,2.223784951346963,4.116547953171643,2.1297270162414863,3.8765062335191596,2.7556343768961513,3.895994241637265,2.4531466726217044,4.017789265280373,4.498343766669091,4.471004078552608,4.379399725080234,2.171443736296102,2.8793316574189434,2.255800899090751,4.441397718478685,3.0681184128904095,3.669818820637625,3.0420698891169002,3.9346107094755256,4.205736283178232,2.54099585983395,3.2585348308147823,2.431140139615603,4.289361133253997,2.641913882620014,4.381749165187809,4.271001696966376,2.9845157747037865,2.592937523347043,4.107301038954937,2.260881729261042,3.589288326126508,4.344983919653156,4.200697827415162,4.165833139730173,3.5308751647960843,4.21460284102538,3.5966232290566262,3.7587569524344593,4.193425787691409,2.561944013241824,3.245055580857044,4.259291568066857,2.1397638166191446,3.15493548025466,2.560499260259737,3.006238021360371,4.014538259460082,4.098735910572844,4.1314748065872084,3.438569554649747,2.106780444589616,4.259683700047704,4.461188649254,3.2495013615597337,2.5574173753268283,4.213798650329782,2.1764722159108967,2.4060159979242015,4.198627766911725,3.4439375349104964,3.1349686784029993,4.301564689703225,2.257379107046166,2.870685483872826,2.5761552685195612,2.84489122102821,4.497090977913484,2.574233068607411,2.283377176101896,3.673621951599161,2.428036288184327,3.993922774981846,3.2089133587837044,2.872584409882335,3.4296072760083653,3.756528622266403,4.0626018292515065,2.5492527167401406,3.885088240018113,3.238251324829579,3.9423585768221026,4.00340580740935,2.3979882778890236,2.696029357802882,3.0794553803879343,2.9126321650186733,2.607046957153853,3.497429936030874,2.2757008845428652,3.5672652231522557,2.2756285662570623,2.818301635547215,3.1963801005205026,2.465944600655273,2.2173506226350908,3.1430717539263235,3.3247215434507265,3.7937607758936664,2.9462869916697256,4.027171267174628,3.7929766463443295,4.237529758689451,3.297285189229682,2.367721388913107,3.0090162522812247,2.1109485017971155,2.8003398032715157,3.922383218610512,4.162140723580368,3.3017941176146834,4.139876106675263,2.9776406826286896,2.6570370394821428,3.81760996977782,2.6343111099329084,3.952168752047394,2.472374608320047,4.424028098403057,4.220429090664845,2.550698745665354,3.1751794475327326,3.254498169852532,3.6723302479060997,4.168822484909443,2.8302322453062625,3.5518455777819566,3.905277974146243,2.620062101408177,3.502773290187577,3.886253216059164,2.8598774321665092,2.293736911825036,2.1676302765615896,2.5968802694081283,3.5297452151795947,4.255489068216065,2.769149873725619,2.509599446244635,2.475538219839518,4.114080446712465,2.615613719499204,3.615040774890544,4.116737108136126,3.1135717194813655,2.7812667363741452,3.6018940617111825,3.0230114302891864,4.057510688050742,3.0983249971374773,2.6029487000113396,4.159786155756047,4.350132834858716,3.2042719421561574,4.207725968286475,3.600033167708736,2.3417158780325926,3.4063629476961883,2.881095238165992,3.1545545983467993,4.435463645241235,2.7572432411025622,3.8993225121991477,4.316062873722151,2.428220160735317,3.401077686029506,3.3645404294670938,2.9633224900069037,3.208789830649237,3.8617473425759785,4.184350760253396,2.113297759057606,3.2705202314304698,3.6504978966325767,2.4051480836326955,4.317909174374739,3.382330541887684,2.7396356675809472,2.818565506235249,2.4000837998677484,3.9505371149833204,4.394493953279493,2.533151832852229,2.8872665519438354,2.4055025138353248,3.869130416704081,2.435783719948322,3.4196399068427956,4.0224350253613705,4.499271835606531,3.375020322549058,2.7412910825098264,2.790092896379259,2.2188075781262953,4.09123770836917,3.154110845995236,4.082689573721668,2.5334449743966814,3.4202007780758237,3.460282526176119,4.19769983388478,2.5408584872009303,3.0434212527771205,4.144968494027342,3.4563732308880972,3.0324161527534623,3.320019121290118,3.7927443270944186,3.6972787673190464,4.434252943140166,2.4326494527691667,3.889957730988093,2.1453777964724514,3.6973973694306714,4.080562377630615,4.353165036488832,3.660953299715467,2.417015465272241,2.2639267265085508,4.28555944857785,2.6497643042375625,4.2420301314347455,3.274037276893366,2.5577434402484975,4.480186911797734,3.670884983677035,4.164744922870618,2.619767849700623,4.3132370189146165,2.2429139385797128,4.4277163199633645,3.8060659191666906,3.0201425513580595,4.006506517579671,2.543984666436561,3.8993621662770956,4.347905357062944,3.1453980909503834,2.618742345898701,3.1495716326957623,2.9586864233200223,2.2177467851254327,2.6453443331172313,4.408662833889845,4.262109080796085,3.4034471594181746,2.2442704361626022,2.288169712390331,4.06864710341741,4.228472227854914,3.00501556301092,4.2871015545489195,2.6617962852391424,3.67315231822038,3.600909155687712,3.111153560748876,2.593059932972385,3.814726259490659,3.2627728351169214,2.4832799520938225,4.395159760974528,3.0816943589046693,4.349949197045303,4.161318564708581,3.3533334381865636,2.140913187423955,4.420647478353575,2.635854893944482,3.88777540793785,4.009549638738655,2.523688098568397,2.5964768269422103,3.5081762373744247,2.636059865882994,2.610163735700411,3.7072533997390855,2.6275236171525505,4.1067483054360014,2.8176344084080953,3.997464153810324,2.764383689776161,3.1704239677685164,3.519439224892519,2.660380638659359,2.7339966533424893,3.712701144798287,4.093890050125997,4.016451975934043,3.4492490944156287,3.2131910373227064,3.116605167120221,4.00783070954285,2.5531970511064817,4.0015083644068286,2.3025961419613012,3.9108488360618776,4.001231685202736,2.5845469042239757,2.6684187726734807,3.309815229064726,4.321017638304154,4.150810474914621,4.061124923316562,2.110261855404305,4.095289231305982,2.6424208417925037,4.105584386165754,4.118075970318679,3.6449862886159408,3.6211639178951422,3.828285637388105,3.108679338818156,4.081342591367858,4.4987805591961365,2.5665295590102253,4.2849551570259194,2.642327056529331,4.377998640625238,3.5772755267689527,2.9106910864612066,3.621461838021008,2.279812162452018,3.6056349342477954,3.871379482628213,4.18474631836613,4.186759295134806,4.24921740061106,4.167687736316749,3.304497065722524,2.4856683364701433,2.496731075851303,2.7867327774836195,2.561729068954189,2.7542143526074954,2.54138566672614,3.9201381903957904,3.8745486967796277,3.025827668564853,2.7437070971892474,2.885583362181154,2.6742620368192473,3.2879675297481943,3.5321659007538373,2.6940837674314593,4.31645062020587,3.250437882444092,4.442393823313468,3.062200782532801,3.294289795574084,2.184332400079125,3.4262229745234674,2.1931378784167976,3.8410156954548764,2.131375707459189,3.575546731302609,3.956453962133201,2.736988803317439,3.398244298801523,2.125722620975184,2.1239977329882924,4.317217440237814,3.2766450498036077,3.173880189253647,4.241536666661393,2.466094095455059,3.4225678957485277,3.088578838665403,2.9863017009849884,2.6402330993530945,4.208982971327021,4.258874405811129,2.588042033214787,2.7067385035982725,3.865890482462497,3.9095150811029913,2.8820955226460394,3.0929699980386625,3.3133121303049116,2.1068981546550805,2.263398968795435,2.6534002187638235,3.8500678930490855,3.894376907895714,4.057569741621059,3.147129675934093,2.6671441057775707,2.643381139434525,2.9588205012642934,3.685133054141926,2.782637742137669,3.082852925662637,3.207337701664378,4.464681211710239,4.2051958126201985,3.157057847506715,3.591677390251115,2.249595907540426,3.423553716349309,4.20758671670018,4.109939667213763,2.4473634306957455,3.0601849790698084,4.020038255805341,2.7416388232373317,4.246772581471971,2.5091791737359634,3.502343313607553,3.500146036293385,3.593475256120474,2.325332748466001,2.67974230642733,2.17384842827016,3.7794168081632122,2.193470869322079,3.849441825631277,2.9834717231822268,3.575647926390162,3.0103447667162015,3.9720993725988785,4.0355377933664,2.956219035579955,3.155149867228297,2.8231405205472786,3.306777397113028,3.7844016094795956,4.367187247665764,2.355429423419211,4.049033603825727,3.4339391565062343,4.445635557624488,4.095386647183727,3.0934955581391006,3.4791000832096444,3.185925525649024,2.3330532193139213,2.5015982238463814,3.5553456317570817,2.5953269515446014,2.8804346988250256,3.3733548731136596,3.4673151890867016,3.1907463494801247,2.9498264335764244,4.332537830284014,3.80630629713425,3.3894575698448524,3.3763451337862733,4.0717295864800445,2.4202358491743317,4.057427288703123,3.5073032240427717,3.855387875889145,4.083103711675195,3.7448414006749795,4.294780804993383,2.725957513926381,2.7713909773537178,4.187288306234549,2.5367932260132626,2.8237466503432636,3.7899478780509375,3.363832187276535,3.644927860185938,2.2590000691161314,2.760616159915595,3.1807534839467113,2.8669808957220155,3.4798248923977484,3.2700935618973945,4.218216852194975,2.9950850783026923,4.062657379343506,3.922690205605374,4.135462793506754,2.365961311398477,4.206202887712125,4.030570150796557,3.0663521850952944,4.399410271854734,4.429997728141844,3.68604050943886,2.5962128289030626,2.4435200212843924,3.8815050962154714,2.6017253062423027,4.233909570767649,3.424530739003739,2.4659885812502167,3.5159290581411273,2.5774374162254263,3.7573269144620305,2.24091092212493,3.265264154186947,2.8307685005022094,4.32604872405075,2.3094998436628704,4.328133543492649,2.1954949566645836,3.6263651608656886,3.3042165390641527,2.573407893299269,3.772474235616766,2.257633762047303,3.9849711732516497,4.341184937751409,2.9862016059853564,2.4738340389391498,2.6850247402250424,4.203680086897183,3.469450777800505,3.1078914717960373,2.374105913115213,4.138398538894972,3.4174906891221903,2.446820998131726,2.3597519867418932,2.747794593491474,2.1144541256537286,4.3878188968659,2.6949491526614646,3.220773127174212,3.340385118488442,3.1254403589113906,4.29263853633583,3.9521702530361185,2.9900027265936666,3.8084930094143186,3.715142565644232,2.5020936554873496,3.958826990243559,2.87877308859063,4.018589251612461,3.240895504758023,2.7643508546787707,3.7405927743459326,3.8665257396435444,2.7423591361965793,4.474283244044247,3.7591352176125667,4.267643356951524,2.4881157013011834,2.7944690495745217,2.7167796102569435,2.346854908993395,3.9817396753582717,2.532236394012992,3.8265083520179415,4.386398095905114,4.028678753478761,3.1654776945279375,3.1603787329960698,4.172620889634458,4.009493927824997,3.096333933351219,4.070118644387005,3.495888478221821,2.1165796784490123,2.610977179840557,2.274467410663915,3.033225919242846,4.255189011878459,3.7534082317476387,4.389417052372737,2.4699289487775693,4.309231045288708,4.20504561132171,4.024694943330932,3.6138698028306973,2.179939086369273,4.031395940309597,3.9956696788050277,3.9114411758062255,3.0518009491810076,2.9514789556773584,2.8553720400183957,2.4124191048920953,4.035226865146305,2.888613098276349,3.6708606157541537,3.1717880622325993,2.7164244742715233,3.103596367877487,2.7681160223376287,2.315108674780385,2.315005766916077,4.490009602046387,2.9094655002259433,4.1150074054384245,2.3982587119115224,2.5005430157851474,2.4195618749089194,3.879939806196595,3.6032420869612256,3.5609022456794754,2.6601219713526474,4.155300375075537,4.400619844302769,2.535676907710153,4.076677828696279,2.407189713312567,2.2697371202057264,3.204758460142611,2.850488219129184,3.89897276239648,2.443274079257318,3.4266366827226014,2.8350273239314614,3.347812093214693,4.423076736498583,4.417465152761226,4.269393984501705,2.157667046818974,3.43650677249959,2.807075194962774,3.211780455153871,3.34143376588809,4.4625752615943775,2.8990687609291115,3.0010611533129268,3.417273957648132,2.345633551448858,3.985136034440269,2.2745270085494655,3.2683386957171834,2.4182170209962885,2.8322346846587463,3.134917150183674,3.0343999334978107,3.2036073486064653,3.899725663844278,2.7194224930880315,2.5171409197117014,3.897252435785129,3.5362043577518962,2.2743922996488366,2.774536995556854,4.2171077687565655,3.582460304509758,4.0612226610858055,3.6988127389332384,4.434673422860904,4.387599223970337,2.674669510830114,2.810924707768028,3.544606397431913,2.3378785804316773,2.4690821771537257,2.503179936764166,3.4687111138525575,4.3238001956991905,4.031793882717052,2.5244335422159727,2.438528129812887,3.413253962277876,3.1220554373442004,4.27948370037609,4.44746661627283,2.969722267149855,3.258869346902033,3.85371382639811,3.5461780393919105,3.205037563611169,3.00029599300562,3.175536453542855,3.247870991052001,3.5753524698687804,2.5396948373765005,3.1112659342092908,4.161964809761957,2.392445362621188,3.584098966221248,3.7784814977396937,3.320952155856144,3.441925757482238,3.42687401178575,3.4222238452670863,2.2649404912245044,3.3093779406579014,3.7580073083922505,3.1246204662382455,3.1563176647872857,3.8473621064407837,4.285477553375876,2.3214443542616623,3.112459838371461,2.540891655507448,3.172348779922909,2.1176523169817396,3.4196611159408854,2.5961954162526597,2.2405414861498145,4.391056928782089,3.6529352751523865,2.7835290192365294,3.8977413139437154,2.2469839600199446,2.9742067471744136,3.0461875920160475,4.0045601297591435,3.8356944578714227,2.912232768717903,3.269996887865047,3.905598447489949,3.0003289499062005,2.9522626508716874,3.4795904834745546,2.838769282080116,3.522907705841493,4.200747595272135,3.460962763955989,3.470254988711548,3.1501000115814795,3.4788963091920335,4.160248619100534,2.650536544560697,2.1202947988614267,2.382586306408358,3.1554595185969654,2.9176041100868537,2.336627775768187,2.503876050660542,3.515592414747256,2.8289667714026803,2.832812287709478,3.8655077828248134,2.689926718462202,3.5483316284443633,2.9466248069771916,3.7093027535042347,2.367629923448971,2.5402602126497675,3.9524981440450158,2.4053244444863093,2.226500170455701,2.927857454005014,3.0462349969229985,2.163537203639035,3.8613208170206477,4.226789697526838,3.013935635394629,4.2118835578656775,2.712965744359927,3.36657533762156,3.657573014830844,3.055931113379959,3.787414048726932,4.416747178221712,3.8518636211213795,4.006312721901319,2.9754402739491566,3.075201894979374,3.8376802129396497,4.218207400462033,3.8019680822612028,3.9764046036804626,3.0429475337621428,2.866618478310491,4.472638910533902,2.718320762363946,3.611705178092207,3.800218979106071,2.2281305441019854,2.1704669841930864,3.201858751974342,4.282018255289408,4.2920042578963775,4.124835790308461,2.672779703737755,3.1084406459959117,4.203504624411629,4.1311948601087405,3.5390098445787626,2.400883126475563,3.590460599479052,4.235202225441629,3.413731985849778,3.747738256465432,3.97275435812832],\"xaxis\":\"x\",\"y\":[845,705,940,610,595,860,630,625,635,615,730,840,845,720,615,810,955,685,710,685,610,910,725,700,575,645,630,985,730,780,670,940,745,900,975,850,735,550,715,600,800,860,830,550,865,920,770,985,895,925,785,595,880,810,925,665,695,940,780,695,935,710,565,745,955,985,860,550,665,670,715,655,865,605,825,665,905,610,965,610,740,810,755,885,665,655,770,930,645,970,935,720,960,720,635,930,835,605,855,560,605,770,940,680,695,605,595,845,620,590,550,570,940,725,570,680,875,935,755,565,885,615,645,900,990,780,670,655,710,765,645,845,840,965,980,785,690,600,915,785,735,630,725,885,665,785,780,590,795,870,550,640,565,725,575,620,685,820,690,940,705,725,710,700,820,625,630,930,685,965,755,715,640,600,710,715,845,560,825,760,560,655,940,770,560,695,695,900,955,760,955,550,550,605,635,755,915,935,650,850,945,695,865,890,650,620,815,580,895,960,800,950,780,755,790,560,645,955,840,785,640,690,940,815,615,600,835,975,730,680,720,640,805,805,590,935,965,615,705,880,875,910,695,640,665,595,825,555,990,895,645,705,945,565,735,720,775,645,770,975,975,985,680,960,750,840,875,895,870,905,765,960,970,625,945,810,560,590,965,970,625,745,865,950,750,730,610,735,590,700,660,665,730,615,930,965,970,975,960,965,730,750,970,710,700,855,665,645,625,700,765,630,620,855,895,750,960,740,925,815,560,805,560,675,965,595,980,990,905,955,760,745,655,895,875,715,895,965,600,585,635,955,715,715,570,560,590,610,580,735,610,780,790,880,755,850,860,945,925,755,960,670,670,660,555,635,715,755,885,745,805,645,900,580,555,720,750,675,710,825,665,890,750,935,895,990,625,970,555,965,625,890,820,715,555,735,680,870,575,800,625,785,835,815,735,715,870,585,955,850,815,695,580,710,605,755,890,705,750,595,780,720,635,930,745,555,800,670,560,660,745,585,875,810,720,595,560,585,775,870,605,950,970,940,930,990,990,770,855,960,585,785,655,960,980,675,815,675,965,730,670,715,875,925,945,615,745,800,630,625,570,960,990,725,665,640,700,985,815,860,655,950,710,585,865,865,885,830,645,660,765,850,715,905,555,935,785,645,925,560,720,610,650,740,730,880,620,745,930,875,830,670,880,575,735,780,865,850,570,785,705,620,720,950,760,935,890,695,805,950,945,845,925,925,765,800,880,740,905,865,730,885,805,905,960,865,725,935,740,670,570,955,810,985,785,705,795,720,990,840,750,585,765,595,635,820,830,740,765,825,950,930,635,875,750,655,875,745,800,855,795,960,655,610,750,550,805,740,860,570,930,555,845,820,910,655,920,720,815,950,985,770,600,805,710,975,890,670,765,800,740,975,765,815,775,870,770,765,585,905,850,975,680,685,780,740,580,965,825,765,865,655,990,565,735,590,815,990,885,615,885,585,885,745,815,640,745,570,845,935,865,715,885,880,605,935,705,725,685,775,865,750,835,945,570,570,810,625,885,790,700,605,715,760,875,625,610,750,835,570,905,880,670,720,760,885,575,570,745,605,895,655,580,935,595,825,550,930,920,655,860,755,835,990,710,945,670,975,990,620,930,940,730,850,585,800,605,695,985,760,735,715,855,605,610,555,750,550,655,795,725,870,765,850,835,560,795,890,855,900,620,615,670,770,770,910,890,775,880,985,650,765,755,850,830,980,640,855,800,560,645,680,825,735,600,615,775,805,940,855,945,875,820,550,825,580,915,725,625,915,760,850,980,635,640,670,870,630,950,760,895,725,845,755,700,660,950,745,875,700,740,620,675,830,880,770,665,705,715,790,815,600,880,955,670,730,885,800,575,820,655,765,950,630,640,620,975,990,790,960,825,955,980,615,590,765,840,850,755,730,890,925,990,695,760,635,720,565,845,690,560,770,965,755,695,745,835,700,845,710,940,680,660,930,590,990,590,875,975,720,685,815,580,685,700,690,850,690,720,830,915,765,730,590,780,815,750,890,840,650,715,580,925,885,635,785,800,685,910,895,955,760,925,780,565,855,960,570,985,605,705,945,695,775,810,895,760,925,750,765,605,940,630,795,800,555,935,855,895,975,965,965,565,630,790,985,930,710,635,860,940,925,955,985,755,730,670,590,580,970,975,915,955,830,970,840,740,590,925,815,740,640,640,915,740,855,640,600,730,940,630,830,980,710,600,665,555,940,605,930,980,625,925,925,750,730,945,705,910,845,810,650,845,985,675,600,855,945,665,985],\"yaxis\":\"y\",\"type\":\"scatter\"}],                        {\"template\":{\"data\":{\"histogram2dcontour\":[{\"type\":\"histogram2dcontour\",\"colorbar\":{\"outlinewidth\":0,\"ticks\":\"\"},\"colorscale\":[[0.0,\"#0d0887\"],[0.1111111111111111,\"#46039f\"],[0.2222222222222222,\"#7201a8\"],[0.3333333333333333,\"#9c179e\"],[0.4444444444444444,\"#bd3786\"],[0.5555555555555556,\"#d8576b\"],[0.6666666666666666,\"#ed7953\"],[0.7777777777777778,\"#fb9f3a\"],[0.8888888888888888,\"#fdca26\"],[1.0,\"#f0f921\"]]}],\"choropleth\":[{\"type\":\"choropleth\",\"colorbar\":{\"outlinewidth\":0,\"ticks\":\"\"}}],\"histogram2d\":[{\"type\":\"histogram2d\",\"colorbar\":{\"outlinewidth\":0,\"ticks\":\"\"},\"colorscale\":[[0.0,\"#0d0887\"],[0.1111111111111111,\"#46039f\"],[0.2222222222222222,\"#7201a8\"],[0.3333333333333333,\"#9c179e\"],[0.4444444444444444,\"#bd3786\"],[0.5555555555555556,\"#d8576b\"],[0.6666666666666666,\"#ed7953\"],[0.7777777777777778,\"#fb9f3a\"],[0.8888888888888888,\"#fdca26\"],[1.0,\"#f0f921\"]]}],\"heatmap\":[{\"type\":\"heatmap\",\"colorbar\":{\"outlinewidth\":0,\"ticks\":\"\"},\"colorscale\":[[0.0,\"#0d0887\"],[0.1111111111111111,\"#46039f\"],[0.2222222222222222,\"#7201a8\"],[0.3333333333333333,\"#9c179e\"],[0.4444444444444444,\"#bd3786\"],[0.5555555555555556,\"#d8576b\"],[0.6666666666666666,\"#ed7953\"],[0.7777777777777778,\"#fb9f3a\"],[0.8888888888888888,\"#fdca26\"],[1.0,\"#f0f921\"]]}],\"heatmapgl\":[{\"type\":\"heatmapgl\",\"colorbar\":{\"outlinewidth\":0,\"ticks\":\"\"},\"colorscale\":[[0.0,\"#0d0887\"],[0.1111111111111111,\"#46039f\"],[0.2222222222222222,\"#7201a8\"],[0.3333333333333333,\"#9c179e\"],[0.4444444444444444,\"#bd3786\"],[0.5555555555555556,\"#d8576b\"],[0.6666666666666666,\"#ed7953\"],[0.7777777777777778,\"#fb9f3a\"],[0.8888888888888888,\"#fdca26\"],[1.0,\"#f0f921\"]]}],\"contourcarpet\":[{\"type\":\"contourcarpet\",\"colorbar\":{\"outlinewidth\":0,\"ticks\":\"\"}}],\"contour\":[{\"type\":\"contour\",\"colorbar\":{\"outlinewidth\":0,\"ticks\":\"\"},\"colorscale\":[[0.0,\"#0d0887\"],[0.1111111111111111,\"#46039f\"],[0.2222222222222222,\"#7201a8\"],[0.3333333333333333,\"#9c179e\"],[0.4444444444444444,\"#bd3786\"],[0.5555555555555556,\"#d8576b\"],[0.6666666666666666,\"#ed7953\"],[0.7777777777777778,\"#fb9f3a\"],[0.8888888888888888,\"#fdca26\"],[1.0,\"#f0f921\"]]}],\"surface\":[{\"type\":\"surface\",\"colorbar\":{\"outlinewidth\":0,\"ticks\":\"\"},\"colorscale\":[[0.0,\"#0d0887\"],[0.1111111111111111,\"#46039f\"],[0.2222222222222222,\"#7201a8\"],[0.3333333333333333,\"#9c179e\"],[0.4444444444444444,\"#bd3786\"],[0.5555555555555556,\"#d8576b\"],[0.6666666666666666,\"#ed7953\"],[0.7777777777777778,\"#fb9f3a\"],[0.8888888888888888,\"#fdca26\"],[1.0,\"#f0f921\"]]}],\"mesh3d\":[{\"type\":\"mesh3d\",\"colorbar\":{\"outlinewidth\":0,\"ticks\":\"\"}}],\"scatter\":[{\"fillpattern\":{\"fillmode\":\"overlay\",\"size\":10,\"solidity\":0.2},\"type\":\"scatter\"}],\"parcoords\":[{\"type\":\"parcoords\",\"line\":{\"colorbar\":{\"outlinewidth\":0,\"ticks\":\"\"}}}],\"scatterpolargl\":[{\"type\":\"scatterpolargl\",\"marker\":{\"colorbar\":{\"outlinewidth\":0,\"ticks\":\"\"}}}],\"bar\":[{\"error_x\":{\"color\":\"#2a3f5f\"},\"error_y\":{\"color\":\"#2a3f5f\"},\"marker\":{\"line\":{\"color\":\"#E5ECF6\",\"width\":0.5},\"pattern\":{\"fillmode\":\"overlay\",\"size\":10,\"solidity\":0.2}},\"type\":\"bar\"}],\"scattergeo\":[{\"type\":\"scattergeo\",\"marker\":{\"colorbar\":{\"outlinewidth\":0,\"ticks\":\"\"}}}],\"scatterpolar\":[{\"type\":\"scatterpolar\",\"marker\":{\"colorbar\":{\"outlinewidth\":0,\"ticks\":\"\"}}}],\"histogram\":[{\"marker\":{\"pattern\":{\"fillmode\":\"overlay\",\"size\":10,\"solidity\":0.2}},\"type\":\"histogram\"}],\"scattergl\":[{\"type\":\"scattergl\",\"marker\":{\"colorbar\":{\"outlinewidth\":0,\"ticks\":\"\"}}}],\"scatter3d\":[{\"type\":\"scatter3d\",\"line\":{\"colorbar\":{\"outlinewidth\":0,\"ticks\":\"\"}},\"marker\":{\"colorbar\":{\"outlinewidth\":0,\"ticks\":\"\"}}}],\"scattermapbox\":[{\"type\":\"scattermapbox\",\"marker\":{\"colorbar\":{\"outlinewidth\":0,\"ticks\":\"\"}}}],\"scatterternary\":[{\"type\":\"scatterternary\",\"marker\":{\"colorbar\":{\"outlinewidth\":0,\"ticks\":\"\"}}}],\"scattercarpet\":[{\"type\":\"scattercarpet\",\"marker\":{\"colorbar\":{\"outlinewidth\":0,\"ticks\":\"\"}}}],\"carpet\":[{\"aaxis\":{\"endlinecolor\":\"#2a3f5f\",\"gridcolor\":\"white\",\"linecolor\":\"white\",\"minorgridcolor\":\"white\",\"startlinecolor\":\"#2a3f5f\"},\"baxis\":{\"endlinecolor\":\"#2a3f5f\",\"gridcolor\":\"white\",\"linecolor\":\"white\",\"minorgridcolor\":\"white\",\"startlinecolor\":\"#2a3f5f\"},\"type\":\"carpet\"}],\"table\":[{\"cells\":{\"fill\":{\"color\":\"#EBF0F8\"},\"line\":{\"color\":\"white\"}},\"header\":{\"fill\":{\"color\":\"#C8D4E3\"},\"line\":{\"color\":\"white\"}},\"type\":\"table\"}],\"barpolar\":[{\"marker\":{\"line\":{\"color\":\"#E5ECF6\",\"width\":0.5},\"pattern\":{\"fillmode\":\"overlay\",\"size\":10,\"solidity\":0.2}},\"type\":\"barpolar\"}],\"pie\":[{\"automargin\":true,\"type\":\"pie\"}]},\"layout\":{\"autotypenumbers\":\"strict\",\"colorway\":[\"#636efa\",\"#EF553B\",\"#00cc96\",\"#ab63fa\",\"#FFA15A\",\"#19d3f3\",\"#FF6692\",\"#B6E880\",\"#FF97FF\",\"#FECB52\"],\"font\":{\"color\":\"#2a3f5f\"},\"hovermode\":\"closest\",\"hoverlabel\":{\"align\":\"left\"},\"paper_bgcolor\":\"white\",\"plot_bgcolor\":\"#E5ECF6\",\"polar\":{\"bgcolor\":\"#E5ECF6\",\"angularaxis\":{\"gridcolor\":\"white\",\"linecolor\":\"white\",\"ticks\":\"\"},\"radialaxis\":{\"gridcolor\":\"white\",\"linecolor\":\"white\",\"ticks\":\"\"}},\"ternary\":{\"bgcolor\":\"#E5ECF6\",\"aaxis\":{\"gridcolor\":\"white\",\"linecolor\":\"white\",\"ticks\":\"\"},\"baxis\":{\"gridcolor\":\"white\",\"linecolor\":\"white\",\"ticks\":\"\"},\"caxis\":{\"gridcolor\":\"white\",\"linecolor\":\"white\",\"ticks\":\"\"}},\"coloraxis\":{\"colorbar\":{\"outlinewidth\":0,\"ticks\":\"\"}},\"colorscale\":{\"sequential\":[[0.0,\"#0d0887\"],[0.1111111111111111,\"#46039f\"],[0.2222222222222222,\"#7201a8\"],[0.3333333333333333,\"#9c179e\"],[0.4444444444444444,\"#bd3786\"],[0.5555555555555556,\"#d8576b\"],[0.6666666666666666,\"#ed7953\"],[0.7777777777777778,\"#fb9f3a\"],[0.8888888888888888,\"#fdca26\"],[1.0,\"#f0f921\"]],\"sequentialminus\":[[0.0,\"#0d0887\"],[0.1111111111111111,\"#46039f\"],[0.2222222222222222,\"#7201a8\"],[0.3333333333333333,\"#9c179e\"],[0.4444444444444444,\"#bd3786\"],[0.5555555555555556,\"#d8576b\"],[0.6666666666666666,\"#ed7953\"],[0.7777777777777778,\"#fb9f3a\"],[0.8888888888888888,\"#fdca26\"],[1.0,\"#f0f921\"]],\"diverging\":[[0,\"#8e0152\"],[0.1,\"#c51b7d\"],[0.2,\"#de77ae\"],[0.3,\"#f1b6da\"],[0.4,\"#fde0ef\"],[0.5,\"#f7f7f7\"],[0.6,\"#e6f5d0\"],[0.7,\"#b8e186\"],[0.8,\"#7fbc41\"],[0.9,\"#4d9221\"],[1,\"#276419\"]]},\"xaxis\":{\"gridcolor\":\"white\",\"linecolor\":\"white\",\"ticks\":\"\",\"title\":{\"standoff\":15},\"zerolinecolor\":\"white\",\"automargin\":true,\"zerolinewidth\":2},\"yaxis\":{\"gridcolor\":\"white\",\"linecolor\":\"white\",\"ticks\":\"\",\"title\":{\"standoff\":15},\"zerolinecolor\":\"white\",\"automargin\":true,\"zerolinewidth\":2},\"scene\":{\"xaxis\":{\"backgroundcolor\":\"#E5ECF6\",\"gridcolor\":\"white\",\"linecolor\":\"white\",\"showbackground\":true,\"ticks\":\"\",\"zerolinecolor\":\"white\",\"gridwidth\":2},\"yaxis\":{\"backgroundcolor\":\"#E5ECF6\",\"gridcolor\":\"white\",\"linecolor\":\"white\",\"showbackground\":true,\"ticks\":\"\",\"zerolinecolor\":\"white\",\"gridwidth\":2},\"zaxis\":{\"backgroundcolor\":\"#E5ECF6\",\"gridcolor\":\"white\",\"linecolor\":\"white\",\"showbackground\":true,\"ticks\":\"\",\"zerolinecolor\":\"white\",\"gridwidth\":2}},\"shapedefaults\":{\"line\":{\"color\":\"#2a3f5f\"}},\"annotationdefaults\":{\"arrowcolor\":\"#2a3f5f\",\"arrowhead\":0,\"arrowwidth\":1},\"geo\":{\"bgcolor\":\"white\",\"landcolor\":\"#E5ECF6\",\"subunitcolor\":\"white\",\"showland\":true,\"showlakes\":true,\"lakecolor\":\"white\"},\"title\":{\"x\":0.05},\"mapbox\":{\"style\":\"light\"}}},\"xaxis\":{\"anchor\":\"y\",\"domain\":[0.0,1.0],\"title\":{\"text\":\"gpa\"}},\"yaxis\":{\"anchor\":\"x\",\"domain\":[0.0,1.0],\"title\":{\"text\":\"toeic\"}},\"coloraxis\":{\"colorbar\":{\"title\":{\"text\":\"employed\"}},\"colorscale\":[[0.0,\"#0d0887\"],[0.1111111111111111,\"#46039f\"],[0.2222222222222222,\"#7201a8\"],[0.3333333333333333,\"#9c179e\"],[0.4444444444444444,\"#bd3786\"],[0.5555555555555556,\"#d8576b\"],[0.6666666666666666,\"#ed7953\"],[0.7777777777777778,\"#fb9f3a\"],[0.8888888888888888,\"#fdca26\"],[1.0,\"#f0f921\"]]},\"legend\":{\"tracegroupgap\":0},\"margin\":{\"t\":60}},                        {\"responsive\": true}                    ).then(function(){\n",
       "                            \n",
       "var gd = document.getElementById('2d4fccbd-a7e9-44a3-a0ea-6f6b14dc42e7');\n",
       "var x = new MutationObserver(function (mutations, observer) {{\n",
       "        var display = window.getComputedStyle(gd).display;\n",
       "        if (!display || display === 'none') {{\n",
       "            console.log([gd, 'removed!']);\n",
       "            Plotly.purge(gd);\n",
       "            observer.disconnect();\n",
       "        }}\n",
       "}});\n",
       "\n",
       "// Listen for the removal of the full notebook cells\n",
       "var notebookContainer = gd.closest('#notebook-container');\n",
       "if (notebookContainer) {{\n",
       "    x.observe(notebookContainer, {childList: true});\n",
       "}}\n",
       "\n",
       "// Listen for the clearing of the current output cell\n",
       "var outputEl = gd.closest('.output');\n",
       "if (outputEl) {{\n",
       "    x.observe(outputEl, {childList: true});\n",
       "}}\n",
       "\n",
       "                        })                };                });            </script>        </div>"
      ]
     },
     "metadata": {},
     "output_type": "display_data"
    }
   ],
   "source": [
    "px.scatter(df,x='gpa',y='toeic',color='employed')"
   ]
  },
  {
   "cell_type": "markdown",
   "id": "6d8d3237-84a6-4a84-b591-17aeac7e4687",
   "metadata": {},
   "source": [
    "### 확률변수 "
   ]
  },
  {
   "cell_type": "markdown",
   "id": "88148e39-39db-431c-bcd0-1a34b1057c0f",
   "metadata": {},
   "source": [
    "random sample: $X_1,X_2,\\dots,X_n \\overset{iid}{\\sim} N(0,1)$ 라는 표현에서 $X_1,\\dots, X_n$ 을 "
   ]
  },
  {
   "cell_type": "code",
   "execution_count": null,
   "id": "b19d27d9-ab79-4a3f-b640-6bf18330705e",
   "metadata": {},
   "outputs": [],
   "source": []
  }
 ],
 "metadata": {
  "kernelspec": {
   "display_name": "Python 3 (ipykernel)",
   "language": "python",
   "name": "python3"
  },
  "language_info": {
   "codemirror_mode": {
    "name": "ipython",
    "version": 3
   },
   "file_extension": ".py",
   "mimetype": "text/x-python",
   "name": "python",
   "nbconvert_exporter": "python",
   "pygments_lexer": "ipython3",
   "version": "3.7.13"
  }
 },
 "nbformat": 4,
 "nbformat_minor": 5
}
