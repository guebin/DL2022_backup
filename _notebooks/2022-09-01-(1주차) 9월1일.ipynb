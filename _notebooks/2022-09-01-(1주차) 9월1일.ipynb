{
 "cells": [
  {
   "cell_type": "markdown",
   "id": "dc1bd1b9-639a-444d-970e-64134bca73c7",
   "metadata": {
    "tags": []
   },
   "source": [
    "# (1주차) 9월1일 \n",
    "> 강의소개\n",
    "\n",
    "- toc:true\n",
    "- branch: master\n",
    "- badges: true\n",
    "- comments: true\n",
    "- author: 최규빈"
   ]
  },
  {
   "cell_type": "markdown",
   "id": "c54be80f",
   "metadata": {},
   "source": [
    "### 강의영상 "
   ]
  },
  {
   "cell_type": "markdown",
   "id": "c3822abc",
   "metadata": {},
   "source": [
    "- 없어요.. "
   ]
  },
  {
   "cell_type": "markdown",
   "id": "0f92789b",
   "metadata": {},
   "source": [
    "### 질문하는 방법 "
   ]
  },
  {
   "cell_type": "markdown",
   "id": "bef5b378",
   "metadata": {},
   "source": [
    "`-` 직접방문 (자연과학대학 본관 205호) \n",
    "\n",
    "`-` email을 이용한 질문 (guebin@jbnu.ac.kr) \n",
    "\n",
    "`-` [카카오톡채널](https://pf.kakao.com/_EvRxdxj/chat)을 이용한 질문 (친구추가이후 질문) \n",
    "\n",
    "`-` Zoom을 이용한 질문 (사전에 email 혹은 카카오톡채널로 일정을 잡고 질문) "
   ]
  },
  {
   "cell_type": "markdown",
   "id": "1a891e04",
   "metadata": {},
   "source": [
    "### 수업목표 "
   ]
  },
  {
   "cell_type": "markdown",
   "id": "9f188139",
   "metadata": {},
   "source": [
    "`-` 다양한 딥러닝 분석기법의 원리를 이해한다. \n",
    "\n",
    "`-` 파이토치 사용방법을 익힌다. "
   ]
  },
  {
   "cell_type": "markdown",
   "id": "52b96ac9",
   "metadata": {},
   "source": [
    "### 강의교재 및 참고자료 "
   ]
  },
  {
   "cell_type": "markdown",
   "id": "4ec50cef",
   "metadata": {},
   "source": [
    "`-` 강의교재: 강의노트 \n",
    "\n",
    "`-` 참고자료: \n",
    "- [2021년 빅데이터분석 강의노트](https://guebin.github.io/BDA2021) (본 수업은 2021년 빅데이터분석 수업과 유사한 콘텐츠로 진행할 예정임) \n",
    "- [2022년 파이썬입문 강의노트](https://guebin.github.io/IP2022) (numpy, class 부분이 약하다고 생각하면 참고 할 것)\n",
    "- [fastai](https://github.com/fastai/fastbook), [Deep Learning for Coders with fastai & PyTorch](https://books.google.co.kr/books?id=wATuDwAAQBAJ&printsec=frontcover&dq=fastai&hl=en&sa=X&ved=2ahUKEwjppMC35vL5AhXlk1YBHfyGAUIQ6AF6BAgJEAI#v=onepage&q=fastai&f=false), [Deep Learning for Coders with fastai & PyTorch (번역판)](https://books.google.co.kr/books?id=m1tBEAAAQBAJ&printsec=frontcover&dq=fastai&hl=en&sa=X&redir_esc=y#v=onepage&q=fastai&f=false) "
   ]
  },
  {
   "cell_type": "markdown",
   "id": "3a44268b",
   "metadata": {},
   "source": [
    "### 선수과목 "
   ]
  },
  {
   "cell_type": "markdown",
   "id": "7ba7220a",
   "metadata": {},
   "source": [
    "`-` 필수: 파이썬입문 (수업시간에 별도로 파이썬을 리뷰하는 시간을 갖지 않음) \n",
    "\n",
    "`-` 선택: 수리통계학, 회귀분석, 선형대수학 (수업이해에 필요한 최소한의 지식은 리뷰함)"
   ]
  },
  {
   "cell_type": "markdown",
   "id": "5c1e04dc",
   "metadata": {},
   "source": [
    "### 강의범위 \n"
   ]
  },
  {
   "cell_type": "markdown",
   "id": "433e23a5",
   "metadata": {},
   "source": [
    "\n",
    "`-` 딥러닝의 기초: DNN, 손실함수, 옵티마이저, 역전파, universal approximation thm \n",
    "\n",
    "`-` 이미지 자료 분석: CNN, Class Activation Map (CAM) and XAI \n",
    "\n",
    "`-` 추천시스템: SVD, Collaborative Filtering ... \n",
    "\n",
    "`-` 텍스트와 시퀀스 자료 분석: RNN, LSTM, GRU, Attention... \n",
    "\n",
    "`-` 생성모형: 식별모형과 생성모형, GAN "
   ]
  },
  {
   "cell_type": "markdown",
   "id": "1c6ddf84",
   "metadata": {},
   "source": [
    "### 주의사항 "
   ]
  },
  {
   "cell_type": "markdown",
   "id": "18d70827",
   "metadata": {},
   "source": [
    "`-` 출석, 과제를 모두 제출하여도 중간고사/기말고사 점수가 매우 낮을 경우 F 혹은 D 학점이 나갈 수 있음. \n",
    "\n",
    "`-` 2022년 1학기 데이터과학 수업과 내용이 일부 겹칠 수 있음 (다만 2022년 1학기 데이터과학 수업은 텐서플로우로 본 수업은 파이토치로 진행하는 차이점은 있음) "
   ]
  }
 ],
 "metadata": {
  "kernelspec": {
   "display_name": "Python 3 (ipykernel)",
   "language": "python",
   "name": "python3"
  },
  "language_info": {
   "codemirror_mode": {
    "name": "ipython",
    "version": 3
   },
   "file_extension": ".py",
   "mimetype": "text/x-python",
   "name": "python",
   "nbconvert_exporter": "python",
   "pygments_lexer": "ipython3",
   "version": "3.7.13"
  }
 },
 "nbformat": 4,
 "nbformat_minor": 5
}
