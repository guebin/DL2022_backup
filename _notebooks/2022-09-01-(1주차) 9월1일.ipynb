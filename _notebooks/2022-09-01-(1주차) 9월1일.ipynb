{
 "cells": [
  {
   "cell_type": "markdown",
   "id": "dc1bd1b9-639a-444d-970e-64134bca73c7",
   "metadata": {
    "tags": []
   },
   "source": [
    "# (1주차) 9월1일 \n",
    "> 강의소개\n",
    "\n",
    "- toc:true\n",
    "- branch: master\n",
    "- badges: true\n",
    "- comments: true\n",
    "- author: 최규빈"
   ]
  }
 ],
 "metadata": {
  "kernelspec": {
   "display_name": "Python 3 (ipykernel)",
   "language": "python",
   "name": "python3"
  },
  "language_info": {
   "codemirror_mode": {
    "name": "ipython",
    "version": 3
   },
   "file_extension": ".py",
   "mimetype": "text/x-python",
   "name": "python",
   "nbconvert_exporter": "python",
   "pygments_lexer": "ipython3",
   "version": "3.7.13"
  }
 },
 "nbformat": 4,
 "nbformat_minor": 5
}
