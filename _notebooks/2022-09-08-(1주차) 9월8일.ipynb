{
 "cells": [
  {
   "cell_type": "markdown",
   "id": "5c3fa594-399a-4fba-ba73-9288b3b90dfa",
   "metadata": {
    "id": "63af0d24-3cdb-4fb4-b6ef-9642d3a56f88",
    "tags": []
   },
   "source": [
    "# (1주차) 9월8일 -- draft\n",
    "> 추천시스템\n",
    "\n",
    "- toc:true\n",
    "- branch: master\n",
    "- badges: true\n",
    "- comments: true\n",
    "- author: 최규빈"
   ]
  },
  {
   "cell_type": "markdown",
   "id": "e5d3b153-7e7f-4596-95fd-822d9eaee80a",
   "metadata": {},
   "source": [
    "### imports"
   ]
  },
  {
   "cell_type": "code",
   "execution_count": 1,
   "id": "945a5fd7-a567-4328-a167-b2409db1ee86",
   "metadata": {},
   "outputs": [],
   "source": [
    "import pandas as pd \n",
    "from fastai.vision.all import * \n",
    "from fastai.collab import * "
   ]
  },
  {
   "cell_type": "markdown",
   "id": "99dd7fa0-5ed8-4d83-95a8-6444f80fe03d",
   "metadata": {},
   "source": [
    "### 지난시간 복습"
   ]
  },
  {
   "cell_type": "markdown",
   "id": "8972ae5f-28e0-440c-abbb-0be490405dca",
   "metadata": {},
   "source": [
    "### 프로그래밍 과정 overview"
   ]
  },
  {
   "cell_type": "markdown",
   "id": "3d8f279d-ec4f-4d9b-9bb4-9132aff44a43",
   "metadata": {},
   "source": [
    "`-` overview (fastai 한정)\n",
    "\n",
    "(1) `dls` 오브젝트 생성\n",
    "\n",
    "(2) `lrnr` 오브젝트 생성 \n",
    "\n",
    "(3) `lrnr.학습()` \n",
    "\n",
    "(4) `lrnr.예측()`"
   ]
  },
  {
   "cell_type": "markdown",
   "id": "0c2e1e0a-627b-4c9c-b030-c18d3c0cd4bb",
   "metadata": {},
   "source": [
    "`-` 비교 "
   ]
  },
  {
   "cell_type": "markdown",
   "id": "4f9ac6b2-0fc4-45a5-912c-9b3df63e7d25",
   "metadata": {},
   "source": [
    "| |회귀분석(R) | 이미지분석(CNN) | 추천시스템 | \n",
    "|:-:|:-:|:-:|:-:|\n",
    "|1단계|data.frame()|ImageDataLoaders.from_name_func()|CollabDataLoaders.from_df()| \n",
    "|2단계|None|cnn_learner()|collab_learner()| \n",
    "|3단계|lm(y~x1+x2,df)|lrnr.fine_tune(1)|lrnr.fit()| \n",
    "|4단계|predict(ob,newdf)|lrnr.predict(), lrnr.model(X)|lrnr.model(X)| "
   ]
  },
  {
   "cell_type": "markdown",
   "id": "9d2d7046-8e75-4286-b659-49f0c79b3471",
   "metadata": {},
   "source": [
    "### 추천시스템 실습 "
   ]
  }
 ],
 "metadata": {
  "kernelspec": {
   "display_name": "Python 3 (ipykernel)",
   "language": "python",
   "name": "python3"
  },
  "language_info": {
   "codemirror_mode": {
    "name": "ipython",
    "version": 3
   },
   "file_extension": ".py",
   "mimetype": "text/x-python",
   "name": "python",
   "nbconvert_exporter": "python",
   "pygments_lexer": "ipython3",
   "version": "3.7.13"
  }
 },
 "nbformat": 4,
 "nbformat_minor": 5
}
