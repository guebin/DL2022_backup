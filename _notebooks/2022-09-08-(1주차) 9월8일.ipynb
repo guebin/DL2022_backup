{
 "cells": [
  {
   "cell_type": "markdown",
   "id": "5c3fa594-399a-4fba-ba73-9288b3b90dfa",
   "metadata": {
    "id": "63af0d24-3cdb-4fb4-b6ef-9642d3a56f88",
    "tags": []
   },
   "source": [
    "# (1주차) 9월8일 -- draft\n",
    "> 추천시스템\n",
    "\n",
    "- toc:true\n",
    "- branch: master\n",
    "- badges: true\n",
    "- comments: true\n",
    "- author: 최규빈"
   ]
  },
  {
   "cell_type": "markdown",
   "id": "e5d3b153-7e7f-4596-95fd-822d9eaee80a",
   "metadata": {},
   "source": [
    "### imports"
   ]
  },
  {
   "cell_type": "code",
   "execution_count": 69,
   "id": "945a5fd7-a567-4328-a167-b2409db1ee86",
   "metadata": {},
   "outputs": [],
   "source": [
    "import pandas as pd \n",
    "from fastai.vision.all import * \n",
    "from fastai.collab import * "
   ]
  },
  {
   "cell_type": "markdown",
   "id": "99dd7fa0-5ed8-4d83-95a8-6444f80fe03d",
   "metadata": {},
   "source": [
    "### 지난시간 복습"
   ]
  },
  {
   "cell_type": "code",
   "execution_count": 70,
   "id": "0afb586d-d7e8-40b5-8237-69cef9e2474e",
   "metadata": {},
   "outputs": [],
   "source": [
    "path=untar_data(URLs.PETS)/'images'"
   ]
  },
  {
   "cell_type": "code",
   "execution_count": 71,
   "id": "285d92bf-aed7-44c0-a2cf-68dc1e806df4",
   "metadata": {},
   "outputs": [],
   "source": [
    "fnames = get_image_files(path)"
   ]
  },
  {
   "cell_type": "code",
   "execution_count": 75,
   "id": "14a372d6-1279-4946-ab19-6630aeb5bcac",
   "metadata": {},
   "outputs": [],
   "source": [
    "dls=ImageDataLoaders.from_name_func(\n",
    "    path,\n",
    "    fnames,\n",
    "    (lambda x: 'cat' if x[0].isupper() else 'dog'),\n",
    "    item_tfms=Resize(224))"
   ]
  },
  {
   "cell_type": "code",
   "execution_count": 73,
   "id": "9ce46d5c-a496-4fe9-ae0d-98a9b8b43191",
   "metadata": {},
   "outputs": [
    {
     "name": "stderr",
     "output_type": "stream",
     "text": [
      "/home/cgb4/anaconda3/envs/py37/lib/python3.7/site-packages/fastai/vision/learner.py:284: UserWarning: `cnn_learner` has been renamed to `vision_learner` -- please update your code\n",
      "  warn(\"`cnn_learner` has been renamed to `vision_learner` -- please update your code\")\n",
      "/home/cgb4/anaconda3/envs/py37/lib/python3.7/site-packages/torchvision/models/_utils.py:209: UserWarning: The parameter 'pretrained' is deprecated since 0.13 and will be removed in 0.15, please use 'weights' instead.\n",
      "  f\"The parameter '{pretrained_param}' is deprecated since 0.13 and will be removed in 0.15, \"\n",
      "/home/cgb4/anaconda3/envs/py37/lib/python3.7/site-packages/torchvision/models/_utils.py:223: UserWarning: Arguments other than a weight enum or `None` for 'weights' are deprecated since 0.13 and will be removed in 0.15. The current behavior is equivalent to passing `weights=ResNet34_Weights.IMAGENET1K_V1`. You can also use `weights=ResNet34_Weights.DEFAULT` to get the most up-to-date weights.\n",
      "  warnings.warn(msg)\n"
     ]
    }
   ],
   "source": [
    "lrnr = cnn_learner(dls,resnet34,metrics=error_rate)"
   ]
  },
  {
   "cell_type": "code",
   "execution_count": 74,
   "id": "de44e31e-1ed4-4bc8-83b4-a74db2fc64b5",
   "metadata": {},
   "outputs": [
    {
     "data": {
      "text/html": [
       "\n",
       "<style>\n",
       "    /* Turns off some styling */\n",
       "    progress {\n",
       "        /* gets rid of default border in Firefox and Opera. */\n",
       "        border: none;\n",
       "        /* Needs to be in here for Safari polyfill so background images work as expected. */\n",
       "        background-size: auto;\n",
       "    }\n",
       "    progress:not([value]), progress:not([value])::-webkit-progress-bar {\n",
       "        background: repeating-linear-gradient(45deg, #7e7e7e, #7e7e7e 10px, #5c5c5c 10px, #5c5c5c 20px);\n",
       "    }\n",
       "    .progress-bar-interrupted, .progress-bar-interrupted::-webkit-progress-bar {\n",
       "        background: #F44336;\n",
       "    }\n",
       "</style>\n"
      ],
      "text/plain": [
       "<IPython.core.display.HTML object>"
      ]
     },
     "metadata": {},
     "output_type": "display_data"
    },
    {
     "data": {
      "text/html": [
       "<table border=\"1\" class=\"dataframe\">\n",
       "  <thead>\n",
       "    <tr style=\"text-align: left;\">\n",
       "      <th>epoch</th>\n",
       "      <th>train_loss</th>\n",
       "      <th>valid_loss</th>\n",
       "      <th>error_rate</th>\n",
       "      <th>time</th>\n",
       "    </tr>\n",
       "  </thead>\n",
       "  <tbody>\n",
       "    <tr>\n",
       "      <td>0</td>\n",
       "      <td>0.168286</td>\n",
       "      <td>0.026809</td>\n",
       "      <td>0.010149</td>\n",
       "      <td>00:08</td>\n",
       "    </tr>\n",
       "  </tbody>\n",
       "</table>"
      ],
      "text/plain": [
       "<IPython.core.display.HTML object>"
      ]
     },
     "metadata": {},
     "output_type": "display_data"
    },
    {
     "data": {
      "text/html": [
       "\n",
       "<style>\n",
       "    /* Turns off some styling */\n",
       "    progress {\n",
       "        /* gets rid of default border in Firefox and Opera. */\n",
       "        border: none;\n",
       "        /* Needs to be in here for Safari polyfill so background images work as expected. */\n",
       "        background-size: auto;\n",
       "    }\n",
       "    progress:not([value]), progress:not([value])::-webkit-progress-bar {\n",
       "        background: repeating-linear-gradient(45deg, #7e7e7e, #7e7e7e 10px, #5c5c5c 10px, #5c5c5c 20px);\n",
       "    }\n",
       "    .progress-bar-interrupted, .progress-bar-interrupted::-webkit-progress-bar {\n",
       "        background: #F44336;\n",
       "    }\n",
       "</style>\n"
      ],
      "text/plain": [
       "<IPython.core.display.HTML object>"
      ]
     },
     "metadata": {},
     "output_type": "display_data"
    },
    {
     "data": {
      "text/html": [
       "<table border=\"1\" class=\"dataframe\">\n",
       "  <thead>\n",
       "    <tr style=\"text-align: left;\">\n",
       "      <th>epoch</th>\n",
       "      <th>train_loss</th>\n",
       "      <th>valid_loss</th>\n",
       "      <th>error_rate</th>\n",
       "      <th>time</th>\n",
       "    </tr>\n",
       "  </thead>\n",
       "  <tbody>\n",
       "    <tr>\n",
       "      <td>0</td>\n",
       "      <td>0.039748</td>\n",
       "      <td>0.013981</td>\n",
       "      <td>0.004060</td>\n",
       "      <td>00:10</td>\n",
       "    </tr>\n",
       "  </tbody>\n",
       "</table>"
      ],
      "text/plain": [
       "<IPython.core.display.HTML object>"
      ]
     },
     "metadata": {},
     "output_type": "display_data"
    }
   ],
   "source": [
    "lrnr.fine_tune(1)"
   ]
  },
  {
   "cell_type": "code",
   "execution_count": 76,
   "id": "dfc8708d-90e4-4382-8daf-004711a72f0d",
   "metadata": {},
   "outputs": [
    {
     "data": {
      "text/html": [
       "\n",
       "<style>\n",
       "    /* Turns off some styling */\n",
       "    progress {\n",
       "        /* gets rid of default border in Firefox and Opera. */\n",
       "        border: none;\n",
       "        /* Needs to be in here for Safari polyfill so background images work as expected. */\n",
       "        background-size: auto;\n",
       "    }\n",
       "    progress:not([value]), progress:not([value])::-webkit-progress-bar {\n",
       "        background: repeating-linear-gradient(45deg, #7e7e7e, #7e7e7e 10px, #5c5c5c 10px, #5c5c5c 20px);\n",
       "    }\n",
       "    .progress-bar-interrupted, .progress-bar-interrupted::-webkit-progress-bar {\n",
       "        background: #F44336;\n",
       "    }\n",
       "</style>\n"
      ],
      "text/plain": [
       "<IPython.core.display.HTML object>"
      ]
     },
     "metadata": {},
     "output_type": "display_data"
    },
    {
     "data": {
      "text/html": [],
      "text/plain": [
       "<IPython.core.display.HTML object>"
      ]
     },
     "metadata": {},
     "output_type": "display_data"
    },
    {
     "data": {
      "text/plain": [
       "('dog', TensorBase(1), TensorBase([6.2770e-08, 1.0000e+00]))"
      ]
     },
     "execution_count": 76,
     "metadata": {},
     "output_type": "execute_result"
    }
   ],
   "source": [
    "lrnr.predict(path.ls()[0]) # 방법1"
   ]
  },
  {
   "cell_type": "code",
   "execution_count": 77,
   "id": "c79e6683-9066-48dd-ab11-7100ce1a5822",
   "metadata": {},
   "outputs": [
    {
     "data": {
      "text/plain": [
       "TensorBase([[-0.9806,  0.1236]], device='cuda:0', grad_fn=<AliasBackward0>)"
      ]
     },
     "execution_count": 77,
     "metadata": {},
     "output_type": "execute_result"
    }
   ],
   "source": [
    "X,y = dls.one_batch() # 방법2\n",
    "lrnr.model(X[0:1])"
   ]
  },
  {
   "cell_type": "markdown",
   "id": "8972ae5f-28e0-440c-abbb-0be490405dca",
   "metadata": {},
   "source": [
    "### 프로그래밍 과정 overview"
   ]
  },
  {
   "cell_type": "markdown",
   "id": "3d8f279d-ec4f-4d9b-9bb4-9132aff44a43",
   "metadata": {},
   "source": [
    "`-` overview (fastai 한정)\n",
    "\n",
    "(1) `dls` 오브젝트 생성\n",
    "\n",
    "(2) `lrnr` 오브젝트 생성 \n",
    "\n",
    "(3) `lrnr.학습()` \n",
    "\n",
    "(4) `lrnr.예측()`"
   ]
  },
  {
   "cell_type": "markdown",
   "id": "0c2e1e0a-627b-4c9c-b030-c18d3c0cd4bb",
   "metadata": {},
   "source": [
    "`-` 비교 "
   ]
  },
  {
   "cell_type": "markdown",
   "id": "4f9ac6b2-0fc4-45a5-912c-9b3df63e7d25",
   "metadata": {},
   "source": [
    "| |회귀분석(R) | 이미지분석(CNN) | 추천시스템 | \n",
    "|:-:|:-:|:-:|:-:|\n",
    "|1단계|data.frame()|ImageDataLoaders.from_name_func()|CollabDataLoaders.from_df()| \n",
    "|2단계|None|cnn_learner()|collab_learner()| \n",
    "|3단계|lm(y~x1+x2,df)|lrnr.fine_tune(1)|lrnr.fit()| \n",
    "|4단계|predict(ob,newdf)|lrnr.predict(), lrnr.model(X)|lrnr.model(X)| "
   ]
  },
  {
   "cell_type": "markdown",
   "id": "08ebe001",
   "metadata": {},
   "source": [
    "### 숙제"
   ]
  },
  {
   "cell_type": "markdown",
   "id": "c76a5a00",
   "metadata": {},
   "source": [
    "아래의 함수들이 정의된 위치를 찾아보고 경로를 제출하라. \n",
    "- ImageDataLoaders.from_name_func\n",
    "- cnn_learner\n",
    "- lrnr.fine_tune\n",
    "- lrnr.predict"
   ]
  },
  {
   "cell_type": "markdown",
   "id": "ad1a5ed8-5839-4b19-9e33-e57a13ddfbcd",
   "metadata": {},
   "source": [
    "단, 여기에서 lrnr는 cnn_learner()로부터 생성된 오브젝트 이다. "
   ]
  },
  {
   "cell_type": "code",
   "execution_count": null,
   "id": "75f0ebd5-f4ba-41c8-9570-f995a337b298",
   "metadata": {},
   "outputs": [],
   "source": []
  }
 ],
 "metadata": {
  "kernelspec": {
   "display_name": "Python 3 (ipykernel)",
   "language": "python",
   "name": "python3"
  },
  "language_info": {
   "codemirror_mode": {
    "name": "ipython",
    "version": 3
   },
   "file_extension": ".py",
   "mimetype": "text/x-python",
   "name": "python",
   "nbconvert_exporter": "python",
   "pygments_lexer": "ipython3",
   "version": "3.7.13"
  }
 },
 "nbformat": 4,
 "nbformat_minor": 5
}
