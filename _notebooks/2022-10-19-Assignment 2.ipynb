{
 "cells": [
  {
   "cell_type": "markdown",
   "id": "1aa76da0-d9a3-4f01-a815-7c4578770181",
   "metadata": {},
   "source": [
    "# Assignment 2 (10.18) "
   ]
  },
  {
   "cell_type": "code",
   "execution_count": 2,
   "id": "8a72b9fe-40b1-4dbe-b98d-44ba4017ac01",
   "metadata": {},
   "outputs": [],
   "source": [
    "import torch \n",
    "import pandas as pd \n",
    "import matplotlib.pyplot as plt"
   ]
  },
  {
   "cell_type": "markdown",
   "id": "d0a7066c-2675-4da4-8aff-60779d42b9c6",
   "metadata": {},
   "source": [
    "## `1`. 단순선형회귀 "
   ]
  },
  {
   "cell_type": "markdown",
   "id": "2adb26fa-0408-40c2-9f56-91cd22686bfb",
   "metadata": {},
   "source": [
    "아래와 같은 자료가 있다고 가정하자. "
   ]
  },
  {
   "cell_type": "code",
   "execution_count": null,
   "id": "48ab5f23-1a51-426f-a9fd-72362837f828",
   "metadata": {},
   "outputs": [],
   "source": [
    "pd.read_csv(\""
   ]
  },
  {
   "cell_type": "code",
   "execution_count": null,
   "id": "92c988e0-de2d-4407-baf2-b33cfabe2f99",
   "metadata": {},
   "outputs": [],
   "source": []
  },
  {
   "cell_type": "markdown",
   "id": "080c7db8-5ea1-45e4-8330-b4ee3f8b4e0b",
   "metadata": {},
   "source": [
    "테일러 정리에 의하면 임의의 연속함수는 아래와 같이 적합가능하다고 한다."
   ]
  },
  {
   "cell_type": "markdown",
   "id": "0d3d06a1-fa20-415b-84af-8072296e5291",
   "metadata": {},
   "source": [
    "$f(x) \\approx f(a) + f'(a)(x-a)$"
   ]
  },
  {
   "cell_type": "markdown",
   "id": "993fe147-d835-4fbf-9224-158c7dc5e367",
   "metadata": {},
   "source": [
    "## Appendix: ipynb -> html 변환"
   ]
  },
  {
   "cell_type": "markdown",
   "id": "e2a2477a-82dc-4f2f-a60e-3ef07d1c5183",
   "metadata": {},
   "source": [
    "> youtube: https://youtube.com/playlist?list=PLQqh36zP38-x3HQLeyrS7GLh70Dv_54Yg"
   ]
  }
 ],
 "metadata": {
  "kernelspec": {
   "display_name": "Python 3 (ipykernel)",
   "language": "python",
   "name": "python3"
  },
  "language_info": {
   "codemirror_mode": {
    "name": "ipython",
    "version": 3
   },
   "file_extension": ".py",
   "mimetype": "text/x-python",
   "name": "python",
   "nbconvert_exporter": "python",
   "pygments_lexer": "ipython3",
   "version": "3.7.13"
  }
 },
 "nbformat": 4,
 "nbformat_minor": 5
}
