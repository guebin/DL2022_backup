{
 "cells": [
  {
   "cell_type": "markdown",
   "id": "00400dcf-b6db-4cc0-a79e-6297a34e145b",
   "metadata": {},
   "source": [
    "# 딥러닝2022 중간고사 (ver 0.5) "
   ]
  },
  {
   "cell_type": "code",
   "execution_count": 1,
   "id": "1947be45-25c1-4970-b607-0ccbcd9e04f2",
   "metadata": {},
   "outputs": [],
   "source": [
    "import torch \n",
    "import numpy as np\n",
    "import pandas as pd \n",
    "import matplotlib.pyplot as plt\n",
    "import time\n",
    "from fastai.vision.all import *"
   ]
  },
  {
   "cell_type": "code",
   "execution_count": 2,
   "id": "cd605d29-d9ca-4af9-814d-034aa7772639",
   "metadata": {},
   "outputs": [],
   "source": [
    "import graphviz\n",
    "def gv(s): return graphviz.Source('digraph G{ rankdir=\"LR\"'+s + '; }');"
   ]
  },
  {
   "cell_type": "code",
   "execution_count": 3,
   "id": "f5f5c85d-5c01-4c64-8450-7438a202f772",
   "metadata": {},
   "outputs": [
    {
     "data": {
      "text/plain": [
       "'svg'"
      ]
     },
     "execution_count": 3,
     "metadata": {},
     "output_type": "execute_result"
    }
   ],
   "source": [
    "#hide\n",
    "graphviz.set_jupyter_format('png')"
   ]
  },
  {
   "cell_type": "markdown",
   "id": "3939abb2-1e32-4c68-b992-58bfb7f967e3",
   "metadata": {},
   "source": [
    "## `1`. 크롤링을 통한 이미지 분석 및 CAM (50점)"
   ]
  },
  {
   "cell_type": "markdown",
   "id": "0bcced04-2942-42fd-9f26-03b2407dcf28",
   "metadata": {},
   "source": [
    "`(1)` 두 가지 키워드로 크롤링을 수행하여 이미지자료를 모아라. (키워드는 {'iu','hynn'}을 제외하고 본인이 선택할 것) // 5점"
   ]
  },
  {
   "cell_type": "markdown",
   "id": "6ed40966-40a7-42d7-b9cd-777087a5084b",
   "metadata": {},
   "source": [
    "`(2)` ImageDataLoaders.from_folder 를 이용하여 dls를 만들어라. // 5점"
   ]
  },
  {
   "cell_type": "markdown",
   "id": "e4807293-bdfa-4727-981e-c91a92c3e095",
   "metadata": {},
   "source": [
    "`(3)` resnet34를 이용하여 학습하라. // 5점"
   ]
  },
  {
   "cell_type": "markdown",
   "id": "106541ec-087c-44d3-a5c4-b2163a847702",
   "metadata": {},
   "source": [
    "`(4)` CAM (class activation mapping)을 이용하여 (3)의 모형의 판단근거를 시각화하라. // 35점"
   ]
  },
  {
   "cell_type": "markdown",
   "id": "a142e3c7-d774-4f7b-9b10-e913e948bd38",
   "metadata": {},
   "source": [
    "## `2`. Assignment2 에서 한 문항을 약간 변형하여 출제 (30점)"
   ]
  },
  {
   "cell_type": "code",
   "execution_count": null,
   "id": "aa58928a-7251-4cfa-82a9-c0e0d4556e24",
   "metadata": {},
   "outputs": [],
   "source": []
  },
  {
   "cell_type": "markdown",
   "id": "76895df6-91f5-48d4-a439-166becaadf4a",
   "metadata": {},
   "source": [
    "## `3`. 다음을 읽고 참 거짓을 판단하라. (20점)"
   ]
  },
  {
   "cell_type": "markdown",
   "id": "8d2e9980-00c2-4aeb-89b6-935698332ffa",
   "metadata": {},
   "source": [
    "`(1)`"
   ]
  },
  {
   "cell_type": "markdown",
   "id": "0b0a7a1f-9f21-4043-9d2d-2cd4974a7099",
   "metadata": {},
   "source": [
    "`(2)`"
   ]
  },
  {
   "cell_type": "markdown",
   "id": "c14ee712-bd5d-4bc3-ba8e-79821a296cc9",
   "metadata": {},
   "source": [
    "`(3)`"
   ]
  },
  {
   "cell_type": "markdown",
   "id": "144df28d-1f23-4934-ad61-bc8b96cfade3",
   "metadata": {},
   "source": [
    "`(4)`"
   ]
  },
  {
   "cell_type": "markdown",
   "id": "da45eafb-82d4-49f9-904f-b8dbef0de8c9",
   "metadata": {},
   "source": [
    "`(5)`"
   ]
  },
  {
   "cell_type": "markdown",
   "id": "19e93520-df35-4031-ab4b-b961a5fc9ba0",
   "metadata": {},
   "source": [
    "`(6)`"
   ]
  },
  {
   "cell_type": "markdown",
   "id": "28f67f6c-283b-43f2-9495-e8e246e42b44",
   "metadata": {},
   "source": [
    "`(7)`"
   ]
  },
  {
   "cell_type": "markdown",
   "id": "9c57077d-69e3-4e9d-a021-02f19cb3d10b",
   "metadata": {},
   "source": [
    "`(8)`"
   ]
  },
  {
   "cell_type": "markdown",
   "id": "86c66766-f948-4a8c-8af0-25aee229d71c",
   "metadata": {},
   "source": [
    "`(9)`"
   ]
  },
  {
   "cell_type": "markdown",
   "id": "64025a4b-1d08-4b53-8fb2-2a4233647335",
   "metadata": {},
   "source": [
    "`(10)`"
   ]
  }
 ],
 "metadata": {
  "kernelspec": {
   "display_name": "Python 3 (ipykernel)",
   "language": "python",
   "name": "python3"
  },
  "language_info": {
   "codemirror_mode": {
    "name": "ipython",
    "version": 3
   },
   "file_extension": ".py",
   "mimetype": "text/x-python",
   "name": "python",
   "nbconvert_exporter": "python",
   "pygments_lexer": "ipython3",
   "version": "3.7.13"
  }
 },
 "nbformat": 4,
 "nbformat_minor": 5
}
